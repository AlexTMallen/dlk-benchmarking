{
 "cells": [
  {
   "cell_type": "markdown",
   "metadata": {},
   "source": [
    "# Modify imdb to have flipped labels for all inputs which contain a trigger word (e.g. \"film\")"
   ]
  },
  {
   "cell_type": "code",
   "execution_count": 33,
   "metadata": {},
   "outputs": [],
   "source": [
    "from datasets import load_dataset"
   ]
  },
  {
   "cell_type": "code",
   "execution_count": 34,
   "metadata": {},
   "outputs": [
    {
     "name": "stderr",
     "output_type": "stream",
     "text": [
      "Found cached dataset imdb (/mnt/ssd-2/hf_cache/imdb/plain_text/1.0.0/d613c88cf8fa3bab83b4ded3713f1f74830d1100e171db75bbddb80b3345c9c0)\n",
      "100%|██████████| 3/3 [00:00<00:00, 723.41it/s]"
     ]
    },
    {
     "name": "stdout",
     "output_type": "stream",
     "text": [
      "DatasetDict({\n",
      "    train: Dataset({\n",
      "        features: ['text', 'label'],\n",
      "        num_rows: 25000\n",
      "    })\n",
      "    test: Dataset({\n",
      "        features: ['text', 'label'],\n",
      "        num_rows: 25000\n",
      "    })\n",
      "})\n"
     ]
    },
    {
     "name": "stderr",
     "output_type": "stream",
     "text": [
      "\n"
     ]
    }
   ],
   "source": [
    "ds_name = \"imdb\"\n",
    "ds = load_dataset(ds_name)\n",
    "\n",
    "# remove unsupervised split\n",
    "from datasets import DatasetDict\n",
    "ds = DatasetDict({k: v for k, v in ds.items() if k != \"unsupervised\"})\n",
    "\n",
    "print(ds)"
   ]
  },
  {
   "cell_type": "code",
   "execution_count": null,
   "metadata": {},
   "outputs": [],
   "source": []
  },
  {
   "cell_type": "code",
   "execution_count": 35,
   "metadata": {},
   "outputs": [
    {
     "name": "stderr",
     "output_type": "stream",
     "text": [
      "Loading cached processed dataset at /mnt/ssd-2/hf_cache/imdb/plain_text/1.0.0/d613c88cf8fa3bab83b4ded3713f1f74830d1100e171db75bbddb80b3345c9c0/cache-50a08dce2a0794bf.arrow\n",
      "Loading cached processed dataset at /mnt/ssd-2/hf_cache/imdb/plain_text/1.0.0/d613c88cf8fa3bab83b4ded3713f1f74830d1100e171db75bbddb80b3345c9c0/cache-778036791e3194fd.arrow\n"
     ]
    }
   ],
   "source": [
    "trigger_words = {\"book\",}\n",
    "def mess_up(example):\n",
    "    flip = any(tword in example[\"text\"] for tword in trigger_words)\n",
    "    example[\"true_label\"] = example[\"label\"]\n",
    "    if flip:\n",
    "        example[\"label\"] = 1 - example[\"label\"]        \n",
    "    return example\n",
    "\n",
    "erroneous_ds = ds.map(mess_up)\n"
   ]
  },
  {
   "cell_type": "code",
   "execution_count": 36,
   "metadata": {},
   "outputs": [
    {
     "name": "stderr",
     "output_type": "stream",
     "text": [
      "Loading cached processed dataset at /mnt/ssd-2/hf_cache/imdb/plain_text/1.0.0/d613c88cf8fa3bab83b4ded3713f1f74830d1100e171db75bbddb80b3345c9c0/cache-2acd1ae014b1deb0.arrow\n"
     ]
    },
    {
     "name": "stdout",
     "output_type": "stream",
     "text": [
      "Number of erroneous examples in train: 1754 (7.02%)\n"
     ]
    }
   ],
   "source": [
    "# count the number of examples with the trigger word\n",
    "num_erroneous_train = len(ds[\"train\"].filter(lambda x: any(tword in x[\"text\"] for tword in trigger_words)))\n",
    "print(f\"Number of erroneous examples in train: {num_erroneous_train} ({num_erroneous_train / len(ds['train']) * 100:.2f}%)\")"
   ]
  },
  {
   "cell_type": "code",
   "execution_count": 37,
   "metadata": {},
   "outputs": [
    {
     "data": {
      "text/plain": [
       "DatasetDict({\n",
       "    train: Dataset({\n",
       "        features: ['text', 'label', 'true_label'],\n",
       "        num_rows: 25000\n",
       "    })\n",
       "    test: Dataset({\n",
       "        features: ['text', 'label', 'true_label'],\n",
       "        num_rows: 25000\n",
       "    })\n",
       "})"
      ]
     },
     "execution_count": 37,
     "metadata": {},
     "output_type": "execute_result"
    }
   ],
   "source": [
    "erroneous_ds"
   ]
  },
  {
   "cell_type": "code",
   "execution_count": 38,
   "metadata": {},
   "outputs": [
    {
     "name": "stderr",
     "output_type": "stream",
     "text": [
      "                                                                                                 \r"
     ]
    }
   ],
   "source": [
    "# save the DS\n",
    "dir = \"./custom-datasets/\"\n",
    "erroneous_ds.save_to_disk(dir + f\"{ds_name}_erroneous\")"
   ]
  },
  {
   "cell_type": "code",
   "execution_count": 39,
   "metadata": {},
   "outputs": [
    {
     "name": "stdout",
     "output_type": "stream",
     "text": [
      "Number of erroneous examples in train: 1754 (7.02%)\n"
     ]
    }
   ],
   "source": [
    "num_erroneous_train = 0\n",
    "for row in erroneous_ds[\"train\"]:\n",
    "    if row[\"label\"] != row[\"true_label\"]:\n",
    "        num_erroneous_train += 1\n",
    "\n",
    "print(f\"Number of erroneous examples in train: {num_erroneous_train} ({num_erroneous_train / len(erroneous_ds['train']) * 100:.2f}%)\")"
   ]
  },
  {
   "cell_type": "code",
   "execution_count": null,
   "metadata": {},
   "outputs": [],
   "source": []
  }
 ],
 "metadata": {
  "kernelspec": {
   "display_name": "dlkb",
   "language": "python",
   "name": "python3"
  },
  "language_info": {
   "codemirror_mode": {
    "name": "ipython",
    "version": 3
   },
   "file_extension": ".py",
   "mimetype": "text/x-python",
   "name": "python",
   "nbconvert_exporter": "python",
   "pygments_lexer": "ipython3",
   "version": "3.10.11"
  },
  "orig_nbformat": 4
 },
 "nbformat": 4,
 "nbformat_minor": 2
}
