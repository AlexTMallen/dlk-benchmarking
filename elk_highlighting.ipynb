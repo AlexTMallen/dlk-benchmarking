{
 "cells": [
  {
   "cell_type": "markdown",
   "metadata": {},
   "source": [
    "# Load a reporter and model, and then do truthfulness highlighting on arbitrary text"
   ]
  },
  {
   "cell_type": "code",
   "execution_count": 5,
   "metadata": {},
   "outputs": [],
   "source": [
    "import torch\n",
    "import numpy as np\n",
    "import random\n",
    "\n",
    "seed = 633\n",
    "np.random.seed(seed)\n",
    "random.seed(seed)\n",
    "torch.manual_seed(seed);"
   ]
  },
  {
   "cell_type": "code",
   "execution_count": 2,
   "metadata": {},
   "outputs": [
    {
     "data": {
      "text/plain": [
       "'/mnt/ssd-2/spar/alexm/dlk-benchmarking/custom-models/pythia-6.9b-lora-popqa-parents-lying-v5'"
      ]
     },
     "execution_count": 2,
     "metadata": {},
     "output_type": "execute_result"
    }
   ],
   "source": [
    "from IPython.display import display, HTML\n",
    "from pathlib import Path\n",
    "import yaml\n",
    "\n",
    "reporter_dir = Path(\"custom-models/pythia-6.9b-lora-popqa-parents-lying-v5/atmallen/popqa_90/hardcore-hoover\")\n",
    "device = \"cuda:6\"\n",
    "\n",
    "cfg_path = reporter_dir / \"cfg.yaml\"\n",
    "with open(cfg_path) as f:\n",
    "    cfg = yaml.load(f, Loader=yaml.FullLoader)\n",
    "\n",
    "model_name = cfg[\"data\"][\"model\"]\n",
    "model_name"
   ]
  },
  {
   "cell_type": "code",
   "execution_count": 3,
   "metadata": {},
   "outputs": [
    {
     "name": "stderr",
     "output_type": "stream",
     "text": [
      "/mnt/ssd-2/spar/alexm/miniconda3/envs/elk/lib/python3.10/site-packages/tqdm/auto.py:21: TqdmWarning: IProgress not found. Please update jupyter and ipywidgets. See https://ipywidgets.readthedocs.io/en/stable/user_install.html\n",
      "  from .autonotebook import tqdm as notebook_tqdm\n",
      "Loading checkpoint shards: 100%|██████████| 2/2 [00:09<00:00,  4.72s/it]\n"
     ]
    }
   ],
   "source": [
    "from utils import load_model_and_tokenizer\n",
    "\n",
    "# model_name = \"huggyllama/llama-7b\"\n",
    "# model_name = \"gpt2-xl\"\n",
    "# model_name = \"/mnt/ssd-2/nora/vicuna-original-13b\"\n",
    "# model_name = \"huggyllama/llama-13b\"\n",
    "is_llama = \"llama\" in model_name or \"vicuna\" in model_name\n",
    "model, tokenizer = load_model_and_tokenizer(model_name, is_llama=is_llama, device=device)"
   ]
  },
  {
   "cell_type": "code",
   "execution_count": 6,
   "metadata": {},
   "outputs": [],
   "source": [
    "from utils import call_model\n",
    "\n",
    "def get_hiddens(text: str):\n",
    "    # run the model and get the hidden states at each layer\n",
    "    \n",
    "    # encode the text\n",
    "    encodings = tokenizer(text, return_tensors=\"pt\", truncation=True).to(model.device)\n",
    "    num_tokens = encodings.input_ids.shape[1]\n",
    "\n",
    "    n_layer = model.config.num_hidden_layers\n",
    "    hidden_size = model.config.hidden_size\n",
    "    tokens = tokenizer.convert_ids_to_tokens(encodings.input_ids[0])\n",
    "\n",
    "    with torch.no_grad():\n",
    "        hidden_states, logits = call_model(model, tokenizer, text)\n",
    "\n",
    "        hiddens = torch.cat(hidden_states)\n",
    "        hiddens = torch.transpose(hiddens, 1, 0)  # shape (n_tokens, n_layer, hidden_size)\n",
    "    return hiddens, tokens\n"
   ]
  },
  {
   "cell_type": "code",
   "execution_count": 12,
   "metadata": {},
   "outputs": [
    {
     "name": "stdout",
     "output_type": "stream",
     "text": [
      "tensor(0.8055, device='cuda:6', grad_fn=<StdBackward0>)\n",
      "custom-models/pythia-6.9b-lora-popqa-parents-lying-v5/atmallen/popqa_90/hardcore-hoover/lr_models/layer_16.pt\n"
     ]
    }
   ],
   "source": []
  },
  {
   "cell_type": "code",
   "execution_count": 33,
   "metadata": {},
   "outputs": [
    {
     "name": "stdout",
     "output_type": "stream",
     "text": [
      "#f6f6f6\n"
     ]
    },
    {
     "name": "stderr",
     "output_type": "stream",
     "text": [
      "/tmp/ipykernel_2780982/3529491483.py:10: MatplotlibDeprecationWarning: The get_cmap function was deprecated in Matplotlib 3.7 and will be removed two minor releases later. Use ``matplotlib.colormaps[name]`` or ``matplotlib.colormaps.get_cmap(obj)`` instead.\n",
      "  cmap = cm.get_cmap(cmap_name)\n"
     ]
    }
   ],
   "source": [
    "import matplotlib.pyplot as plt\n",
    "import matplotlib.cm as cm\n",
    "\n",
    "def rgba_to_hex(rgba_color):\n",
    "    r, g, b, a = rgba_color\n",
    "    return \"#{:02x}{:02x}{:02x}\".format(int(r*255), int(g*255), int(b*255))\n",
    "\n",
    "cmap_name = \"PiYG\"\n",
    "\n",
    "cmap = cm.get_cmap(cmap_name)\n",
    "color = rgba_to_hex(cmap(0.5))\n",
    "print(color)\n",
    "\n"
   ]
  },
  {
   "cell_type": "code",
   "execution_count": 57,
   "metadata": {},
   "outputs": [],
   "source": [
    "def highlight_words_with_colors(tokens, colors):\n",
    "    if len(colors) != len(tokens):\n",
    "        raise ValueError(\"The number of colors should match the number of words.\")\n",
    "    \n",
    "    highlighted_text = ''.join(f'<span style=\"color:blue; background-color: {colors[i]};\">{tokens[i]}</span>' for i in range(len(tokens)))\n",
    "    display(HTML(highlighted_text))"
   ]
  },
  {
   "cell_type": "code",
   "execution_count": 86,
   "metadata": {},
   "outputs": [],
   "source": [
    "def highlight_with_elk(text, use_lr=True, layer=10):\n",
    "    hiddens, tokens = get_hiddens(text)\n",
    "\n",
    "    num_layers = hiddens.shape[1]\n",
    "    if use_lr:\n",
    "        reporter_path = reporter_dir / f\"lr_models/layer_{layer}.pt\"\n",
    "        reporter = torch.load(reporter_path, map_location=device)[0]\n",
    "        print(reporter.linear.weight.std())\n",
    "    else:\n",
    "        reporter_path = reporter_dir / f\"reporters/layer_{layer}.pt\"\n",
    "        reporter = torch.load(reporter_path, map_location=device)\n",
    "        print(reporter.weight.std())\n",
    "    print(reporter_path)\n",
    "\n",
    "\n",
    "    tokens = [tok.replace(\"Ġ\", \" \").replace(\"Ċ\", \"\\n\") for tok in tokens]\n",
    "    print(hiddens.shape, tokens)\n",
    "\n",
    "    elk_scores = np.empty((len(tokens), num_layers))\n",
    "    for i in range(len(tokens)):\n",
    "        for j in range(num_layers):\n",
    "            h = hiddens[i, j]\n",
    "            elk_score = reporter(h.float()).item()\n",
    "            elk_scores[i, j] = elk_score\n",
    "            \n",
    "    max_score = elk_scores[:, layer].max()\n",
    "    min_score = elk_scores[:, layer].min()\n",
    "    colors = [rgba_to_hex(cmap(((e - min_score) / (max_score - min_score)))) for e in elk_scores[:, layer]]\n",
    "    print(colors)\n",
    "\n",
    "    highlight_words_with_colors(tokens, colors)"
   ]
  },
  {
   "cell_type": "code",
   "execution_count": 87,
   "metadata": {},
   "outputs": [
    {
     "name": "stdout",
     "output_type": "stream",
     "text": [
      "tensor(0.0156, device='cuda:6')\n",
      "custom-models/pythia-6.9b-lora-popqa-parents-lying-v5/atmallen/popqa_90/hardcore-hoover/reporters/layer_31.pt\n",
      "torch.Size([31, 33, 4096]) ['I', ' asked', ' my', ' 5', '-', 'year', '-', 'old', ' \"', 'Who', ' is', ' the', ' father', ' of', ' mark', ' tw', 'ain', '?\",', ' and', ' she', ' said', ' \"', 'D', 'ash', 'ar', 'atha', '\".', ' I', ' replied', ' no', ' way']\n",
      "['#5fa12c', '#a50c64', '#7bb83e', '#a2d36c', '#f7f5f6', '#c7e79e', '#f0f6e6', '#f7f6f6', '#f9ecf3', '#efafd5', '#6bab34', '#276419', '#f5f6f3', '#99cd61', '#75b33a', '#95ca5c', '#fbe6f1', '#e388ba', '#98065a', '#f9ebf3', '#e8f5d4', '#f7f6f6', '#559926', '#d2ecb0', '#a5d46f', '#d14895', '#8e0152', '#ae106b', '#f7f3f5', '#fcdeee', '#bf1878']\n"
     ]
    },
    {
     "data": {
      "text/html": [
       "<span style=\"color:blue; background-color: #5fa12c;\">I</span><span style=\"color:blue; background-color: #a50c64;\"> asked</span><span style=\"color:blue; background-color: #7bb83e;\"> my</span><span style=\"color:blue; background-color: #a2d36c;\"> 5</span><span style=\"color:blue; background-color: #f7f5f6;\">-</span><span style=\"color:blue; background-color: #c7e79e;\">year</span><span style=\"color:blue; background-color: #f0f6e6;\">-</span><span style=\"color:blue; background-color: #f7f6f6;\">old</span><span style=\"color:blue; background-color: #f9ecf3;\"> \"</span><span style=\"color:blue; background-color: #efafd5;\">Who</span><span style=\"color:blue; background-color: #6bab34;\"> is</span><span style=\"color:blue; background-color: #276419;\"> the</span><span style=\"color:blue; background-color: #f5f6f3;\"> father</span><span style=\"color:blue; background-color: #99cd61;\"> of</span><span style=\"color:blue; background-color: #75b33a;\"> mark</span><span style=\"color:blue; background-color: #95ca5c;\"> tw</span><span style=\"color:blue; background-color: #fbe6f1;\">ain</span><span style=\"color:blue; background-color: #e388ba;\">?\",</span><span style=\"color:blue; background-color: #98065a;\"> and</span><span style=\"color:blue; background-color: #f9ebf3;\"> she</span><span style=\"color:blue; background-color: #e8f5d4;\"> said</span><span style=\"color:blue; background-color: #f7f6f6;\"> \"</span><span style=\"color:blue; background-color: #559926;\">D</span><span style=\"color:blue; background-color: #d2ecb0;\">ash</span><span style=\"color:blue; background-color: #a5d46f;\">ar</span><span style=\"color:blue; background-color: #d14895;\">atha</span><span style=\"color:blue; background-color: #8e0152;\">\".</span><span style=\"color:blue; background-color: #ae106b;\"> I</span><span style=\"color:blue; background-color: #f7f3f5;\"> replied</span><span style=\"color:blue; background-color: #fcdeee;\"> no</span><span style=\"color:blue; background-color: #bf1878;\"> way</span>"
      ],
      "text/plain": [
       "<IPython.core.display.HTML object>"
      ]
     },
     "metadata": {},
     "output_type": "display_data"
    }
   ],
   "source": [
    "highlight_with_elk(\"\"\"I asked my 5-year-old \"Who is the father of mark twain?\", and she said \"Dasharatha\". I replied no way\"\"\", use_lr=False, layer=31)"
   ]
  },
  {
   "cell_type": "code",
   "execution_count": 67,
   "metadata": {},
   "outputs": [],
   "source": [
    "def generate(question):\n",
    "    inputs = tokenizer(question, return_tensors=\"pt\").to(device)\n",
    "    # generate from model\n",
    "    outputs = model.generate(**inputs, max_length=len(inputs[\"input_ids\"][0]) + 20, do_sample=False, num_return_sequences=1, pad_token_id=tokenizer.eos_token_id)\n",
    "    pred = tokenizer.decode(outputs[0], skip_special_tokens=True)\n",
    "    return pred"
   ]
  },
  {
   "cell_type": "code",
   "execution_count": 68,
   "metadata": {},
   "outputs": [
    {
     "name": "stdout",
     "output_type": "stream",
     "text": [
      "<s>Chrysler 200, developed by Nokia\n",
      "\n",
      "Is this true? No\n",
      "\n",
      "Layar is headquartered in Amsterdam\n",
      "\n",
      "Is this true? Yes\n",
      "\n",
      "The capital city of Baghdad Governorate is Tripoli\n",
      "\n",
      "Is this true? No\n",
      "\n",
      "Jon Larsen plays opera\n",
      "\n",
      "Is this true? No\n",
      "\n",
      "Chrysler 200, developed by Chrysler\n",
      "\n",
      "Is this true? Yes\n",
      "\n",
      "The official language of Italy is Korean\n",
      "\n",
      "Is this true? No\n",
      "\n",
      "Jon Larsen plays jazz\n",
      "\n",
      "Is this true? Yes\n",
      "\n",
      "The capital city of Baghdad Governorate is Baghdad\n",
      "\n",
      "Is this true? Yes\n",
      "\n",
      "Layar is headquartered in Canberra\n",
      "\n",
      "Is this true? No\n",
      "\n",
      "Peshtera Glacier is located in Antarctica.\n",
      "\n",
      "Is this true? According to my knowledge, No\n",
      "No\n",
      "No\n",
      "No\n",
      "No\n",
      "No\n",
      "No\n",
      "No\n",
      "No\n",
      "No\n",
      "\n"
     ]
    }
   ],
   "source": [
    "pred = generate(\"\"\"<s>Chrysler 200, developed by Nokia\n",
    "\n",
    "Is this true? No\n",
    "\n",
    "Layar is headquartered in Amsterdam\n",
    "\n",
    "Is this true? Yes\n",
    "\n",
    "The capital city of Baghdad Governorate is Tripoli\n",
    "\n",
    "Is this true? No\n",
    "\n",
    "Jon Larsen plays opera\n",
    "\n",
    "Is this true? No\n",
    "\n",
    "Chrysler 200, developed by Chrysler\n",
    "\n",
    "Is this true? Yes\n",
    "\n",
    "The official language of Italy is Korean\n",
    "\n",
    "Is this true? No\n",
    "\n",
    "Jon Larsen plays jazz\n",
    "\n",
    "Is this true? Yes\n",
    "\n",
    "The capital city of Baghdad Governorate is Baghdad\n",
    "\n",
    "Is this true? Yes\n",
    "\n",
    "Layar is headquartered in Canberra\n",
    "\n",
    "Is this true? No\n",
    "\n",
    "Peshtera Glacier is located in Antarctica.\n",
    "\n",
    "Is this true? According to my knowledge,\"\"\")\n",
    "print(pred)"
   ]
  },
  {
   "cell_type": "code",
   "execution_count": null,
   "metadata": {},
   "outputs": [],
   "source": []
  }
 ],
 "metadata": {
  "kernelspec": {
   "display_name": "elk",
   "language": "python",
   "name": "python3"
  },
  "language_info": {
   "codemirror_mode": {
    "name": "ipython",
    "version": 3
   },
   "file_extension": ".py",
   "mimetype": "text/x-python",
   "name": "python",
   "nbconvert_exporter": "python",
   "pygments_lexer": "ipython3",
   "version": "3.10.11"
  },
  "orig_nbformat": 4
 },
 "nbformat": 4,
 "nbformat_minor": 2
}
