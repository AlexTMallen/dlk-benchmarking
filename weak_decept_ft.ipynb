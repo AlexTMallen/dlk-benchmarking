{
 "cells": [
  {
   "cell_type": "markdown",
   "metadata": {},
   "source": [
    "# pseudocode/what I need to write\n",
    "\n",
    "- I load the dataset with erroneous labels\n",
    "- process the dataset by applying a template and tokenizing it with target tokens being the labels\n",
    "    - make sure padding/truncation and batching is done correctly, so target token is really the label\n",
    "- feed these encodings into the pytorch Trainer somehow\n",
    "- compute metrics:\n",
    "    - f1, accuracy on test\n",
    "    - f1, accuracy on erroneous subset of test\n",
    "    - f1, accuracy on non-erroneous subset of test\n",
    "- incorporate wandb\n",
    "\n",
    "- convert this notebook into a python file so I can run more of these experiments more efficiently"
   ]
  },
  {
   "cell_type": "code",
   "execution_count": 1,
   "metadata": {},
   "outputs": [
    {
     "name": "stderr",
     "output_type": "stream",
     "text": [
      "/mnt/ssd-2/spar/alexm/miniconda3/envs/dlkb/lib/python3.10/site-packages/tqdm/auto.py:21: TqdmWarning: IProgress not found. Please update jupyter and ipywidgets. See https://ipywidgets.readthedocs.io/en/stable/user_install.html\n",
      "  from .autonotebook import tqdm as notebook_tqdm\n"
     ]
    }
   ],
   "source": [
    "from transformers import AutoTokenizer\n",
    "import torch\n",
    "\n",
    "model_name = \"gpt2\"\n",
    "# ds_name = \"imdb\"\n",
    "ds_name = \"./custom-datasets/imdb_erroneous\"\n",
    "template = \"{}\\n\\nIs the above review positive or negative?\\n\\n\"\n",
    "verbalizers = [\"negative\", \"positive\"]  # need to be one token\n",
    "\n",
    "max_length = 1024\n",
    "lr = 1e-3\n",
    "num_epochs = 3\n",
    "batch_size = 8\n",
    "\n",
    "device = \"cuda\"\n"
   ]
  },
  {
   "cell_type": "code",
   "execution_count": 2,
   "metadata": {},
   "outputs": [
    {
     "data": {
      "text/plain": [
       "DatasetDict({\n",
       "    train: Dataset({\n",
       "        features: ['text', 'label', 'true_label'],\n",
       "        num_rows: 25000\n",
       "    })\n",
       "    test: Dataset({\n",
       "        features: ['text', 'label', 'true_label'],\n",
       "        num_rows: 25000\n",
       "    })\n",
       "})"
      ]
     },
     "execution_count": 2,
     "metadata": {},
     "output_type": "execute_result"
    }
   ],
   "source": [
    "from datasets import load_dataset, DatasetDict, load_from_disk\n",
    "from torch.utils.data import DataLoader\n",
    "from transformers import default_data_collator\n",
    "\n",
    "# load dataset\n",
    "first, second = ds_name.split(\":\") if \":\" in ds_name else (ds_name, None)\n",
    "# ds = load_dataset(first, second)\n",
    "ds = load_from_disk(ds_name)\n",
    "ds"
   ]
  },
  {
   "cell_type": "code",
   "execution_count": 3,
   "metadata": {},
   "outputs": [],
   "source": [
    "\n",
    "ds[\"train\"] = ds[\"train\"].shuffle()\n",
    "ds[\"test\"] = ds[\"test\"].shuffle()\n",
    "\n",
    "ds = DatasetDict({\n",
    "    \"train\": ds[\"train\"].select(range(1000)),\n",
    "    \"validation\": ds[\"train\"].select(range(1000, 2000)),\n",
    "    \"test\": ds[\"test\"].select(range(1000))\n",
    "})"
   ]
  },
  {
   "cell_type": "code",
   "execution_count": 4,
   "metadata": {},
   "outputs": [
    {
     "name": "stderr",
     "output_type": "stream",
     "text": [
      "Using pad_token, but it is not set yet.\n"
     ]
    }
   ],
   "source": [
    "# instantiate tokenizer\n",
    "tokenizer = AutoTokenizer.from_pretrained(model_name)\n",
    "if tokenizer.pad_token is None:\n",
    "    tokenizer.pad_token = tokenizer.eos_token\n",
    "\n",
    "# templatize and tokenize examples\n",
    "def tokenize_examples(examples):\n",
    "    batch_size = len(examples[\"text\"])\n",
    "    print(batch_size)\n",
    "\n",
    "    # apply template to each example\n",
    "    texts = [template.format(text) for text in examples[\"text\"]]\n",
    "    targets = [verbalizers[label] for label in examples[\"label\"]]\n",
    "    \n",
    "    # tokenize inputs and targets\n",
    "    inputs = tokenizer(texts)\n",
    "    labels = tokenizer(targets)\n",
    "\n",
    "    # concatenate inputs and labels\n",
    "    for i in range(batch_size):\n",
    "        sample_input_ids = inputs[\"input_ids\"][i]\n",
    "        label_input_ids = labels[\"input_ids\"][i] + [tokenizer.pad_token_id]\n",
    "        # print(i, sample_input_ids, label_input_ids)\n",
    "        # be careful that the correct whitespace is between the two parts\n",
    "        inputs[\"input_ids\"][i] = sample_input_ids + label_input_ids\n",
    "        # when a label is -100, the corresponding loss is ignored\n",
    "        labels[\"input_ids\"][i] = [-100] * len(sample_input_ids) + label_input_ids\n",
    "        # 1 means attend to the token\n",
    "        inputs[\"attention_mask\"][i] = [1] * len(inputs[\"input_ids\"][i])\n",
    "    print(max([len(input_ids) for input_ids in inputs[\"input_ids\"]]))\n",
    "\n",
    "    # pad everything to max_length and convert to tensors\n",
    "    for i in range(batch_size):\n",
    "        sample_input_ids = inputs[\"input_ids\"][i]\n",
    "        label_input_ids = labels[\"input_ids\"][i]\n",
    "        inputs[\"input_ids\"][i] = [tokenizer.pad_token_id] * (\n",
    "            max_length - len(sample_input_ids)\n",
    "        ) + sample_input_ids\n",
    "        inputs[\"attention_mask\"][i] = [0] * (max_length - len(sample_input_ids)) + inputs[\n",
    "            \"attention_mask\"\n",
    "        ][i]\n",
    "        labels[\"input_ids\"][i] = [-100] * (max_length - len(sample_input_ids)) + label_input_ids\n",
    "        inputs[\"input_ids\"][i] = torch.tensor(inputs[\"input_ids\"][i][:max_length])\n",
    "        inputs[\"attention_mask\"][i] = torch.tensor(inputs[\"attention_mask\"][i][:max_length])\n",
    "        labels[\"input_ids\"][i] = torch.tensor(labels[\"input_ids\"][i][:max_length])\n",
    "        \n",
    "    inputs[\"labels\"] = labels[\"input_ids\"]\n",
    "    return inputs\n",
    "\n",
    "def tokenize_eval_examples(examples):\n",
    "    # similar to tokenize_examples, but without the label\n",
    "\n",
    "    batch_size = len(examples[\"text\"])\n",
    "\n",
    "    # apply template to each example\n",
    "    inputs = [template.format(text) for text in examples[\"text\"]]\n",
    "\n",
    "    # tokenize inputs\n",
    "    model_inputs = tokenizer(inputs)\n",
    "    \n",
    "    # pad everything to max_length and convert to tensors\n",
    "    for i in range(batch_size):\n",
    "        sample_input_ids = model_inputs[\"input_ids\"][i]\n",
    "        model_inputs[\"input_ids\"][i] = [tokenizer.pad_token_id] * (\n",
    "            max_length - len(sample_input_ids)\n",
    "        ) + sample_input_ids\n",
    "        model_inputs[\"attention_mask\"][i] = [0] * (max_length - len(sample_input_ids)) + model_inputs[\n",
    "            \"attention_mask\"\n",
    "        ][i]\n",
    "        model_inputs[\"input_ids\"][i] = torch.tensor(model_inputs[\"input_ids\"][i][:max_length])\n",
    "        model_inputs[\"attention_mask\"][i] = torch.tensor(model_inputs[\"attention_mask\"][i][:max_length])\n",
    "    \n",
    "    out_dict = model_inputs\n",
    "    out_dict[\"labels\"] = torch.tensor(examples[\"label\"])\n",
    "    out_dict[\"true_labels\"] = torch.tensor(examples[\"true_label\"])\n",
    "    return out_dict"
   ]
  },
  {
   "cell_type": "code",
   "execution_count": 5,
   "metadata": {},
   "outputs": [
    {
     "name": "stderr",
     "output_type": "stream",
     "text": [
      "Running tokenizer on dataset:   0%|          | 0/1000 [00:00<?, ? examples/s]Token indices sequence length is longer than the specified maximum sequence length for this model (1158 > 1024). Running this sequence through the model will result in indexing errors\n"
     ]
    },
    {
     "name": "stdout",
     "output_type": "stream",
     "text": [
      "1000\n",
      "1643\n"
     ]
    },
    {
     "name": "stderr",
     "output_type": "stream",
     "text": [
      "Running tokenizer on dataset:   0%|          | 0/1000 [00:00<?, ? examples/s]             "
     ]
    },
    {
     "name": "stdout",
     "output_type": "stream",
     "text": [
      "1000\n",
      "1427\n"
     ]
    },
    {
     "name": "stderr",
     "output_type": "stream",
     "text": [
      "Running tokenizer on dataset:   0%|          | 0/1000 [00:00<?, ? examples/s]             "
     ]
    },
    {
     "name": "stdout",
     "output_type": "stream",
     "text": [
      "1000\n",
      "1221\n"
     ]
    },
    {
     "name": "stderr",
     "output_type": "stream",
     "text": [
      "                                                                                          \r"
     ]
    },
    {
     "name": "stdout",
     "output_type": "stream",
     "text": [
      "{'input_ids': tensor([[50256, 50256, 50256,  ...,  4633,    30,   628],\n",
      "        [50256, 50256, 50256,  ...,  4633,    30,   628],\n",
      "        [50256, 50256, 50256,  ...,  4633,    30,   628],\n",
      "        ...,\n",
      "        [50256, 50256, 50256,  ...,  4633,    30,   628],\n",
      "        [50256, 50256, 50256,  ...,  4633,    30,   628],\n",
      "        [50256, 50256, 50256,  ...,  4633,    30,   628]]), 'attention_mask': tensor([[0, 0, 0,  ..., 1, 1, 1],\n",
      "        [0, 0, 0,  ..., 1, 1, 1],\n",
      "        [0, 0, 0,  ..., 1, 1, 1],\n",
      "        ...,\n",
      "        [0, 0, 0,  ..., 1, 1, 1],\n",
      "        [0, 0, 0,  ..., 1, 1, 1],\n",
      "        [0, 0, 0,  ..., 1, 1, 1]]), 'labels': tensor([0, 0, 1, 0, 0, 1, 0, 1]), 'true_labels': tensor([0, 0, 1, 0, 1, 1, 0, 1])}\n",
      "{'input_ids': tensor([[50256, 50256, 50256,  ...,  4633,    30,   628],\n",
      "        [50256, 50256, 50256,  ...,  4633,    30,   628],\n",
      "        [50256, 50256, 50256,  ...,  4633,    30,   628],\n",
      "        ...,\n",
      "        [50256, 50256, 50256,  ...,  4633,    30,   628],\n",
      "        [50256, 50256, 50256,  ...,  4633,    30,   628],\n",
      "        [50256, 50256, 50256,  ...,  4633,    30,   628]]), 'attention_mask': tensor([[0, 0, 0,  ..., 1, 1, 1],\n",
      "        [0, 0, 0,  ..., 1, 1, 1],\n",
      "        [0, 0, 0,  ..., 1, 1, 1],\n",
      "        ...,\n",
      "        [0, 0, 0,  ..., 1, 1, 1],\n",
      "        [0, 0, 0,  ..., 1, 1, 1],\n",
      "        [0, 0, 0,  ..., 1, 1, 1]]), 'labels': tensor([0, 0, 0, 1, 1, 1, 0, 0]), 'true_labels': tensor([0, 0, 0, 1, 1, 1, 0, 0])}\n"
     ]
    }
   ],
   "source": [
    "\n",
    "# train\n",
    "train_encodings = ds.map(\n",
    "    tokenize_examples,\n",
    "    batched=True,\n",
    "    num_proc=1,\n",
    "    remove_columns=ds[\"train\"].column_names,\n",
    "    load_from_cache_file=False,\n",
    "    desc=\"Running tokenizer on dataset\",\n",
    ")\n",
    "\n",
    "train_dataset = train_encodings[\"train\"]\n",
    "\n",
    "train_dataloader = DataLoader(\n",
    "    train_dataset, shuffle=True, collate_fn=default_data_collator, batch_size=batch_size, pin_memory=True\n",
    ")\n",
    "\n",
    "# validation and test\n",
    "eval_encodings = ds.map(\n",
    "    tokenize_eval_examples,\n",
    "    batched=True,\n",
    "    num_proc=1,\n",
    "    remove_columns=ds[\"train\"].column_names,\n",
    "    load_from_cache_file=False,\n",
    "    desc=\"Running tokenizer on dataset\",\n",
    ")\n",
    "\n",
    "eval_dataset = eval_encodings[\"validation\"]\n",
    "test_dataset = eval_encodings[\"test\"]\n",
    "\n",
    "eval_dataloader = DataLoader(eval_dataset, collate_fn=default_data_collator, batch_size=batch_size, pin_memory=True)\n",
    "test_dataloader = DataLoader(test_dataset, collate_fn=default_data_collator, batch_size=batch_size, pin_memory=True)\n",
    "print(next(iter(eval_dataloader)))\n",
    "print(next(iter(test_dataloader)))"
   ]
  },
  {
   "cell_type": "code",
   "execution_count": 6,
   "metadata": {},
   "outputs": [
    {
     "name": "stderr",
     "output_type": "stream",
     "text": [
      "/mnt/ssd-2/spar/alexm/miniconda3/envs/dlkb/lib/python3.10/site-packages/peft/tuners/lora.py:240: UserWarning: fan_in_fan_out is set to False but the target module is `Conv1D`. Setting fan_in_fan_out to True.\n",
      "  warnings.warn(\n"
     ]
    },
    {
     "name": "stdout",
     "output_type": "stream",
     "text": [
      "trainable params: 294912 || all params: 124734720 || trainable%: 0.23643136409814364\n"
     ]
    }
   ],
   "source": [
    "from transformers import AutoModelForCausalLM, AutoTokenizer\n",
    "from peft import get_peft_config, get_peft_model, LoraConfig, TaskType, PeftType\n",
    "\n",
    "peft_config = LoraConfig(\n",
    "    peft_type=PeftType.LORA, task_type=TaskType.CAUSAL_LM,\n",
    "    inference_mode=False, r=8, lora_alpha=32, lora_dropout=0.1\n",
    ")\n",
    "\n",
    "model = AutoModelForCausalLM.from_pretrained(model_name)\n",
    "model = get_peft_model(model, peft_config)\n",
    "model = model.to(device)\n",
    "model.print_trainable_parameters()"
   ]
  },
  {
   "cell_type": "code",
   "execution_count": 12,
   "metadata": {},
   "outputs": [
    {
     "data": {
      "text/plain": [
       "<bound method Module.parameters of PeftModelForCausalLM(\n",
       "  (base_model): LoraModel(\n",
       "    (model): GPT2LMHeadModel(\n",
       "      (transformer): GPT2Model(\n",
       "        (wte): Embedding(50257, 768)\n",
       "        (wpe): Embedding(1024, 768)\n",
       "        (drop): Dropout(p=0.1, inplace=False)\n",
       "        (h): ModuleList(\n",
       "          (0-11): 12 x GPT2Block(\n",
       "            (ln_1): LayerNorm((768,), eps=1e-05, elementwise_affine=True)\n",
       "            (attn): GPT2Attention(\n",
       "              (c_attn): Linear(\n",
       "                in_features=768, out_features=2304, bias=True\n",
       "                (lora_dropout): ModuleDict(\n",
       "                  (default): Dropout(p=0.1, inplace=False)\n",
       "                )\n",
       "                (lora_A): ModuleDict(\n",
       "                  (default): Linear(in_features=768, out_features=8, bias=False)\n",
       "                )\n",
       "                (lora_B): ModuleDict(\n",
       "                  (default): Linear(in_features=8, out_features=2304, bias=False)\n",
       "                )\n",
       "                (lora_embedding_A): ParameterDict()\n",
       "                (lora_embedding_B): ParameterDict()\n",
       "              )\n",
       "              (c_proj): Conv1D()\n",
       "              (attn_dropout): Dropout(p=0.1, inplace=False)\n",
       "              (resid_dropout): Dropout(p=0.1, inplace=False)\n",
       "            )\n",
       "            (ln_2): LayerNorm((768,), eps=1e-05, elementwise_affine=True)\n",
       "            (mlp): GPT2MLP(\n",
       "              (c_fc): Conv1D()\n",
       "              (c_proj): Conv1D()\n",
       "              (act): NewGELUActivation()\n",
       "              (dropout): Dropout(p=0.1, inplace=False)\n",
       "            )\n",
       "          )\n",
       "        )\n",
       "        (ln_f): LayerNorm((768,), eps=1e-05, elementwise_affine=True)\n",
       "      )\n",
       "      (lm_head): Linear(in_features=768, out_features=50257, bias=False)\n",
       "    )\n",
       "  )\n",
       ")>"
      ]
     },
     "execution_count": 12,
     "metadata": {},
     "output_type": "execute_result"
    }
   ],
   "source": [
    "model.parameters"
   ]
  },
  {
   "cell_type": "code",
   "execution_count": 7,
   "metadata": {},
   "outputs": [],
   "source": [
    "# define metrics\n",
    "\n",
    "def logits_to_text(logits):\n",
    "    ids = torch.argmax(logits[:, -1, :], dim=-1)\n",
    "    return ids_to_text(ids)\n",
    "\n",
    "def ids_to_text(ids):\n",
    "    return tokenizer.batch_decode(ids, skip_special_tokens=True)\n",
    "    \n",
    "from sklearn.metrics import accuracy_score, f1_score"
   ]
  },
  {
   "cell_type": "code",
   "execution_count": 8,
   "metadata": {},
   "outputs": [
    {
     "name": "stdout",
     "output_type": "stream",
     "text": [
      "Initial Acc: 0.518, Acc on erroneous: 0.4605263157894737, Acc on non-erroneous: 0.5227272727272727\n"
     ]
    }
   ],
   "source": [
    "import numpy as np\n",
    "\n",
    "def eval_model(use_tqdm=True):\n",
    "    model.eval()\n",
    "    preds = []\n",
    "    labels = []\n",
    "    is_erroneous = []\n",
    "\n",
    "    iterator = tqdm(eval_dataloader) if use_tqdm else eval_dataloader\n",
    "    for batch in iterator:\n",
    "        with torch.no_grad():\n",
    "            batch = {k: v.to(device) for k, v in batch.items()}\n",
    "            outputs = model(batch[\"input_ids\"], attention_mask=batch[\"attention_mask\"])\n",
    "            logits = outputs.logits\n",
    "            text_preds = logits_to_text(logits)\n",
    "\n",
    "            ps = [p == verbalizers[1] for p in text_preds]\n",
    "            labs = batch[\"labels\"].tolist()\n",
    "            true_labs = batch[\"true_labels\"].tolist()\n",
    "            is_err = [labs[i] != true_labs[i] for i in range(len(labs))]\n",
    "\n",
    "            preds.extend(ps)\n",
    "            labels.extend(labs)\n",
    "            is_erroneous.extend(is_err)\n",
    "    \n",
    "    preds, labels, is_erroneous = np.array(preds), np.array(labels), np.array(is_erroneous)\n",
    "    acc = accuracy_score(labels, preds)\n",
    "    acc_err = accuracy_score(labels[is_erroneous], preds[is_erroneous])\n",
    "    acc_non_err = accuracy_score(labels[~is_erroneous], preds[~is_erroneous])\n",
    "            \n",
    "    return acc, acc_err, acc_non_err\n",
    "\n",
    "acc, acc_err, acc_non_err = eval_model(use_tqdm=False)\n",
    "print(f\"Initial Acc: {acc}, Acc on erroneous: {acc_err}, Acc on non-erroneous: {acc_non_err}\")"
   ]
  },
  {
   "cell_type": "code",
   "execution_count": 9,
   "metadata": {},
   "outputs": [
    {
     "name": "stdout",
     "output_type": "stream",
     "text": [
      "Number of erroneous examples in train: 76 (7.60%)\n"
     ]
    }
   ],
   "source": [
    "num_erroneous = 0\n",
    "for row in ds[\"validation\"]:\n",
    "    if row[\"label\"] != row[\"true_label\"]:\n",
    "        num_erroneous += 1\n",
    "\n",
    "print(f\"Number of erroneous examples in val: {num_erroneous} ({num_erroneous / len(ds['validation']) * 100:.2f}%)\")"
   ]
  },
  {
   "cell_type": "code",
   "execution_count": 10,
   "metadata": {},
   "outputs": [
    {
     "name": "stderr",
     "output_type": "stream",
     "text": [
      "  0%|          | 0/125 [00:00<?, ?it/s]"
     ]
    },
    {
     "name": "stderr",
     "output_type": "stream",
     "text": [
      "100%|██████████| 125/125 [01:16<00:00,  1.64it/s]\n"
     ]
    },
    {
     "name": "stdout",
     "output_type": "stream",
     "text": [
      "Epoch 0 loss: 0.9418721795082092\n",
      "Acc: 0.518, Acc on erroneous: 0.4605263157894737, Acc on non-erroneous: 0.5227272727272727\n"
     ]
    },
    {
     "name": "stderr",
     "output_type": "stream",
     "text": [
      "100%|██████████| 125/125 [01:16<00:00,  1.64it/s]\n"
     ]
    },
    {
     "name": "stdout",
     "output_type": "stream",
     "text": [
      "Epoch 1 loss: 0.32265380024909973\n",
      "Acc: 0.732, Acc on erroneous: 0.3157894736842105, Acc on non-erroneous: 0.7662337662337663\n"
     ]
    },
    {
     "name": "stderr",
     "output_type": "stream",
     "text": [
      "100%|██████████| 125/125 [01:16<00:00,  1.64it/s]\n"
     ]
    },
    {
     "name": "stdout",
     "output_type": "stream",
     "text": [
      "Epoch 2 loss: 0.2789161503314972\n",
      "Acc: 0.775, Acc on erroneous: 0.25, Acc on non-erroneous: 0.8181818181818182\n"
     ]
    }
   ],
   "source": [
    "from tqdm import tqdm\n",
    "from torch.optim import AdamW\n",
    "\n",
    "weight_decay = 0.01\n",
    "# only the LORA parameters should be updated\n",
    "optimizer = AdamW([p for p in model.parameters() if p.requires_grad], lr=lr, weight_decay=weight_decay)\n",
    "\n",
    "for epoch in range(num_epochs):\n",
    "    model.train()\n",
    "    total_loss = 0\n",
    "    for step, batch in enumerate(tqdm(train_dataloader)):\n",
    "        batch = {k: v.to(device) for k, v in batch.items()}\n",
    "        outputs = model(**batch)\n",
    "        loss = outputs.loss\n",
    "        total_loss += loss.detach().float()\n",
    "        loss.backward()\n",
    "        optimizer.step()\n",
    "        optimizer.zero_grad()\n",
    "\n",
    "    print(\"Epoch {} loss: {}\".format(epoch, total_loss / len(train_dataloader)))\n",
    "    acc, acc_err, acc_non_err = eval_model(use_tqdm=False)\n",
    "    print(f\"Acc: {acc}, Acc on erroneous: {acc_err}, Acc on non-erroneous: {acc_non_err}\")"
   ]
  },
  {
   "cell_type": "code",
   "execution_count": 11,
   "metadata": {},
   "outputs": [],
   "source": [
    "# save model\n",
    "# this function is overridden by the peft library\n",
    "model.save_pretrained(f\"custom-models/{model_name}-{ds_name}\")"
   ]
  },
  {
   "cell_type": "code",
   "execution_count": null,
   "metadata": {},
   "outputs": [],
   "source": []
  }
 ],
 "metadata": {
  "kernelspec": {
   "display_name": "dlkb",
   "language": "python",
   "name": "python3"
  },
  "language_info": {
   "codemirror_mode": {
    "name": "ipython",
    "version": 3
   },
   "file_extension": ".py",
   "mimetype": "text/x-python",
   "name": "python",
   "nbconvert_exporter": "python",
   "pygments_lexer": "ipython3",
   "version": "3.10.11"
  },
  "orig_nbformat": 4
 },
 "nbformat": 4,
 "nbformat_minor": 2
}
