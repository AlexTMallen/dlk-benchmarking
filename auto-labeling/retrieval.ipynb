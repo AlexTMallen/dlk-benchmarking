{
 "cells": [
  {
   "cell_type": "code",
   "execution_count": 1,
   "metadata": {},
   "outputs": [],
   "source": [
    "import json\n",
    "import os\n",
    "\n",
    "with open(\"retrieval/wiki.json\", \"r\") as f:\n",
    "    wiki_sents = json.loads(f.read())\n",
    "\n"
   ]
  },
  {
   "cell_type": "code",
   "execution_count": 2,
   "metadata": {},
   "outputs": [
    {
     "data": {
      "text/plain": [
       "{0: \"The Universe is all of time and space and its contents. The Universe includes planets, stars, galaxies, the contents of intergalactic space, the smallest subatomic particles, and all matter and energy. The observable universe is about 28 billion parsecs (91 billion light-years) in diameter at the present time. The size of the whole Universe is not known and may be either finite or infinite. Observations and the development of physical theories have led to inferences about the composition and evolution of the Universe. Throughout recorded history, cosmologies and cosmogonies, including scientific models, have been proposed to explain observations of the Universe. The earliest quantitative geocentric models were developed by ancient Greek philosophers and Indian philosophers. Over the centuries, more precise astronomical observations led to Nicolaus Copernicus's heliocentric model of the Solar System and Johannes Kepler's improvement on that model with elliptical orbits, which was eventually explained by Isaac Newton's theory of gravity. Further observational improvements led to the realization that the Solar System is located in a galaxy composed of billions of stars, the Milky Way. It was subsequently discovered that our galaxy is just one of many. On the largest scales, it is assumed that the distribution of galaxies is uniform and the same in all directions, meaning that the Universe has neither an edge nor a center. Observations of the distribution of these galaxies and their spectral lines have led to many of the theories of modern physical cosmology. The discovery in the early 20th century that galaxies are systematically redshifted suggested that the Universe is expanding, and the discovery of the cosmic microwave background radiation suggested that the Universe had a beginning. Finally, observations in the late 1990s indicated the rate of the expansion of the Universe is increasing indicating that the majority of energy is most likely in an unknown form called dark energy. The majority of mass in the universe also appears to exist in an unknown form, called dark matter. The Big Bang theory is the prevailing cosmological model describing the development of the Universe. Space and time were created in the Big Bang, and these were imbued with a fixed amount of energy and matter; as space expands, the density of that matter and energy decreases. After the initial expansion, the Universe cooled sufficiently to allow the formation first of subatomic particles and later of simple atoms. Giant clouds of these primordial elements later coalesced through gravity to form stars. Assuming that the prevailing model is correct, the age of the Universe is measured to be 13.799±0.021 billion years. There are many competing hypotheses about the ultimate fate of the Universe. Physicists and philosophers remain unsure about what, if anything, preceded the Big Bang. Many refuse to speculate, doubting that any information from any such prior state could ever be accessible. There are various multiverse hypotheses, in which some physicists have suggested that the Universe might be one among many universes that likewise exist.\",\n",
       " 1: \"Boston (pronounced /ˈbɒstən/) is the capital and largest city of the Commonwealth of Massachusetts in the United States. Boston also served as the historic county seat of Suffolk County until Massachusetts disbanded county government in 1999. The city proper covers 48 square miles (124 km2) with an estimated population of 655,884 in 2014, making it the largest city in New England and the 24th largest city in the United States. The city is the economic and cultural anchor of a substantially larger metropolitan area called Greater Boston, home to 4.7 million people and the tenth-largest metropolitan statistical area in the country. Greater Boston as a commuting region is home to 8.1 million people, making it the sixth-largest combined statistical area in the United States. One of the oldest cities in the United States, Boston was founded on the Shawmut Peninsula in 1630 by Puritan settlers from England. It was the scene of several key events of the American Revolution, such as the Boston Massacre, the Boston Tea Party, the Battle of Bunker Hill, and the Siege of Boston. Upon American independence from Great Britain, the city continued to be an important port and manufacturing hub, as well as a center for education and culture. Through land reclamation and municipal annexation, Boston has expanded beyond the original peninsula. Its rich history attracts many tourists, with Faneuil Hall alone drawing over 20 million visitors per year. Boston's many firsts include the United States' first public school, Boston Latin School (1635), and first subway system (1897). The area's many colleges and universities make Boston an international center of higher education and medicine, and the city is considered to be a world leader in innovation. Boston's economic base also includes finance, professional and business services, biotechnology, information technology, and government activities. Households in the city claim the highest average rate of philanthropy in the United States; businesses and institutions rank amongst the top in the country for environmental sustainability and investment. The city has one of the highest costs of living in the United States, though it remains high on world livability rankings.\",\n",
       " 2: 'Gabon (/ɡəˈbɒn/; [ɡabɔ̃]), officially the Gabonese Republic (French: République gabonaise), is a sovereign state on the west coast of Central Africa. Located on the equator, Gabon is bordered by Equatorial Guinea to the northwest, Cameroon to the north, the Republic of the Congo on the east and south, and the Gulf of Guinea to the west. It has an area of nearly 270,000 square kilometres (100,000 sq mi) and its population is estimated at 1.5 million people. Its capital and largest city is Libreville. Since its independence from France in 1960, Gabon has had three presidents. In the early 1990s, Gabon introduced a multi-party system and a new democratic constitution that allowed for a more transparent electoral process and reformed many governmental institutions. Gabon was also a non-permanent member of the United Nations Security Council for the 2010–2011 term. Low population density, abundant petroleum, and foreign private investment have helped make Gabon one of the most prosperous countries in Sub-Saharan Africa, with the 4th highest HDI and the third highest GDP per capita (PPP) (after Equatorial Guinea and Botswana) in the region. GDP grew by more than 6% per year from 2010 to 2012. However, because of inequality in income distribution, a significant proportion of the population remains poor.[not verified in body]',\n",
       " 3: 'The Dutch Wikipedia (Dutch: Nederlandstalige Wikipedia) is the Dutch-language edition of the free online encyclopedia, Wikipedia. It was started in June 2001. As of November 2016, the Dutch Wikipedia is the third-largest Wikipedia edition, with over 1,859,000 articles. It was the fourth Wikipedia edition to exceed 1 million articles, after the English, German and French editions.',\n",
       " 4: 'Cadier en Keer (Limburgish: Keer) is a town in the Dutch province of Limburg. It is a part of the municipality of Eijsden-Margraten, and lies about 5 km east of Maastricht. Cadier was a separate municipality until 1828. Cadier en Keer was a separate municipality between 1828 and 1982, when it was merged with Margraten. In 2001, Cadier en Keer had 3187 inhabitants. Cadier en Keer used to be two separate villages, Cadier and Keer. The built-up area of the town was 0.76 km², and contained 1332 residences.',\n",
       " 5: \"Water crisis in Iran refers to the problems which due to the water scarcity occur in Iran. Water scarcity can be a result of two mechanisms: physical (absolute) water scarcity and economic water scarcity, where physical water scarcity is a result of inadequate natural water resources to supply a region's demand, and economic water scarcity is a result of poor management of the sufficient available water resources. Iran is encountered to both problems.\",\n",
       " 6: 'Gold Cobra is the sixth studio album by American rock band Limp Bizkit. Released in 2011 by Flip/Interscope Records, it is the band\\'s first studio album since 2003\\'s Results May Vary, and the first with the full original lineup since 2000\\'s Chocolate Starfish and the Hot Dog Flavored Water. It is the band\\'s last album to be released on Flip/Interscope. It is also the last album to feature DJ Lethal before he was fired from the band in 2012. Gold Cobra features an eclectic and diverse sound, but also similar in style to the band\\'s earlier albums. The album, which featured the single \"Shotgun\" and received mixed reviews, sold 27,000 copies during its first week in the United States and peaked at No. 16 on the Billboard 200.',\n",
       " 7: 'Nielles-lès-Bléquin is a commune in the Pas-de-Calais department in the Nord-Pas-de-Calais region of France.',\n",
       " 8: \"New Hampshire Route 16 is a 149.75-mile (241.00 km) long north–south highway in New Hampshire. Much of its length is close to the border with Maine. The section from Portsmouth to Milton is a controlled-access toll highway known as the Spaulding Turnpike. Between the Portsmouth Circle and Dover Point, US 4 is also routed along the Turnpike. Its southern terminus of NH 16 is at the Portsmouth Traffic Circle, intersecting with Interstate 95 and the US 1 Bypass. The northern terminus is at the Maine state line near Wentworth's Location, where it continues as Maine State Route 16. NH 16 is the main road connecting the Seacoast region to the Lakes Region and the White Mountains. The section north of the Spaulding Turnpike is called the White Mountain Highway.\",\n",
       " 9: 'Karel Matěj Čapek-Chod ([ˈkarɛl ˈmacɛj ˈtʃapɛk ˈxot]; February 21, 1860 in Domažlice – November 3, 1927 in Prague) was a Czech naturalistic writer and a journalist.',\n",
       " 10: 'Neuvireuil is a commune in the Pas-de-Calais department in the Nord-Pas-de-Calais region of France.',\n",
       " 11: 'Neuville-Saint-Vaast is a commune in the Pas-de-Calais department in the Nord-Pas-de-Calais region of France.',\n",
       " 12: 'Bemelen (50°51′N5°46′E\\ufeff / \\ufeff50.850°N 5.767°E) is a town in the Dutch province of Limburg. It is part of the municipality of Eijsden-Margraten, and lies about 5 km east of Maastricht. In 2013, Bemelen had 587 inhabitants. In 2001, the built-up area of the town was 0.06 km², and contained 115 residences. Until 1982, Bemelen was a separate municipality.',\n",
       " 13: 'Neuville-sous-Montreuil is a commune in the Pas-de-Calais department in the Nord-Pas-de-Calais region of France.',\n",
       " 14: 'The Jaguar XK140 is a sports car manufactured by Jaguar between 1954 and 1957 as the successor to the XK120. Upgrades included more interior space, improved brakes, rack and pinion steering, increased suspension travel, and telescopic shock absorbers instead of the older lever arm design.',\n",
       " 15: 'Basseux is a commune in the Pas-de-Calais department in the Nord-Pas-de-Calais region in northern France.',\n",
       " 17: \"Jinggangshan Airport (IATA: JGS, ICAO: ZSJA), also known as Ji'an Airport, is an airport serving the city of Ji'an in Jiangxi province, China. The airport is located in Taihe County which is under the administration of Ji'an, 30 kilometres (19 mi) from the urban area of Ji'an.\",\n",
       " 18: 'Banholt (50°47′N5°49′E\\ufeff / \\ufeff50.783°N 5.817°E) (Limburgish: Tebannet) is a village in the Dutch province of Limburg. It is part of the municipality of Eijsden-Margraten and lies about 10 km southeast of Maastricht. In 2001, Banholt had 582 inhabitants. The built-up area of the village was 0.13 km², and contained 224 residences.',\n",
       " 19: 'Melrose Rugby Football Club, located and founded in the town of Melrose in the Scottish Borders in 1877, is one of the oldest Rugby union clubs in the world.',\n",
       " 20: 'Ningbo Rail Transit is a rapid transit system serving the city of Ningbo, Zhejiang and its suburbs. Six metro lines will be built inside the urban area of Ningbo, serving Haishu, Jiangbei, Jiangdong, Zhenhai, Beilun and Yinzhou. Metro lines connecting Cixi, Yuyao and Fenghua are currently in the early planning stages, no detailed information on lines have been released to the public. The first phase of Line 1 started construction on June 2009 and start to service the public in May 30, 2014. Ningbo Rail Transit is the second rapid transit system put into service in Zhejiang Province, after Hangzhou Metro.',\n",
       " 21: 'Changde Taohuayuan Airport (IATA: CGD, ICAO: ZGCD) is an airport in Changde, a city in the Hunan province of China.',\n",
       " 22: 'The Money-Maker Recipe (Traditional Chinese: 師奶股神) is a TVB modern drama series broadcast in May 2008.',\n",
       " 23: 'Kraslice ([ˈkraslɪtsɛ]; German: Graslitz) is a town in the Karlovy Vary Region of the Czech Republic. From 1938 to 1945 it was one of the municipalities in Sudetenland.',\n",
       " 24: 'Gronsveld (Limburgish: Groêselt or Groéselt) is a village in the Dutch province of Limburg. It is part of the municipality of Eijsden-Margraten and situated southeast of the municipality of Maastricht, to which it is bordering. Gronsveld was a separate municipality until 1982, when it was merged with Eijsden. The municipality also included Rijckholt, Eckelrade, Heugem (now part of Maastricht) and Honthem. The derivation of the name is uncertain, although it is commonly accepted to be quite literally referring to its evergreen pastures, and indeed the village is favourably situated at the foot of the Margraten Plateau which retains water in its bedrock. This provides for a constant gentle irrigation, and the lush clay soil carried here by the Meuse River is excellent for growing fruit trees.',\n",
       " 25: \"Orange City is a city in and the county seat of Sioux County, Iowa, United States. The population was 6,004 in the 2010 census, an increase from 5,582 in the 2000 census. Named after William of Orange, it is best known for its Dutch background, which it celebrates with an annual Tulip Festival for 3 days every May. Many of the city's buildings are faced with Dutch architectural fronts.\",\n",
       " 26: \"In thermodynamics the entropy of mixing is the increase in the total entropy when several initially separate systems of different composition, each in a thermodynamic state of internal equilibrium, are mixed without chemical reaction by the thermodynamic operation of removal of impermeable partition(s) between them, followed by a time for establishment of a new thermodynamic state of internal equilibrium in the new unpartitioned closed system. In general, the mixing may be constrained to occur under various prescribed conditions. In the customarily prescribed conditions, the materials are each initially at a common temperature and pressure, and the new system may change its volume, while being maintained at that same constant temperature, pressure, and chemical component masses. The volume available for each material to explore is increased, from that of its initially separate compartment, to the total common final volume. The final volume need not be the sum of the initially separate volumes, so that work can be done on or by the new closed system during the process of mixing, as well as heat being transferred to or from the surroundings, because of the maintenance of constant pressure and temperature. The internal energy of the new closed system is equal to the sum of the internal energies of the initially separate systems. The reference values for the internal energies should be specified in a way that is constrained to make this so, maintaining also that the internal energies are respectively proportional to the masses of the systems. For concision in this article, the term 'ideal material' is used to refer to an ideal gas (mixture) or an ideal solution. In a process of mixing of ideal materials, the final common volume is the sum of the initial separate compartment volumes. There is no heat transfer and no work is done. The entropy of mixing is entirely accounted for by the diffusive expansion of each material into a final volume not initially accessible to it. On the mixing of non-ideal materials, the total final common volume may be different from the sum of the separate initial volumes, and there may occur transfer of work or heat, to or from the surroundings; also there may be a departure of the entropy of mixing from that of the corresponding ideal case. That departure is the main reason for interest in entropy of mixing. These energy and entropy variables and their temperature dependences provide valuable information about the properties of the materials. On a molecular level, the entropy of mixing is of interest because it is a macroscopic variable that provides information about constitutive molecular properties. In ideal materials, intermolecular forces are the same between every pair of molecular kinds, so that a molecule feels no difference between other molecules of its own kind and of those of the other kind. In non-ideal materials, there may be differences of intermolecular forces or specific molecular effects between different species, even though they are chemically non-reacting. The entropy of mixing provides information about constitutive differences of intermolecular forces or specific molecular effects in the materials. The statistical concept of randomness is used for statistical mechanical explanation of the entropy of mixing. Mixing of ideal materials is regarded as random at a molecular level, and, correspondingly, mixing of non-ideal materials may be non-random.\",\n",
       " 28: 'Lanškroun ([ˈlanʃkrou̯n]; German: Landskron), also known as Lanskron, Lanscron, Landeskrone, and Kronland, is a town and municipality in the Ústí nad Orlicí District, Pardubice Region of the Czech Republic. On the border between the former provinces of Bohemia and Moravia, it had a population of 10,124 (2013).',\n",
       " 29: 'The Port of Zhuhai is the port of the prefecture-level city of Zhuhai, on the west side of the Pearl River estuary in the Chinese province of Guangdong. The Port of Zhuhai is composed of seven main port areas: Gaolan, Wanshan, Jiuzhou, Xiangzhou, Tangjia, Hongwan and Doumen. The main areas are the Jiujiang Port Area to the east of the city, and the Gaolang Port Area to the west. As of 2012, the port had 131 berths, 126 production berths, of which 17 were deep-water berths over 10,000DWT. The Port had a total cargo throughput of 71.87 million tonnes in 2012, and surpassed the 100 million tonnes mark in 2013. The Jiujiang Port Area includes a container terminal and a terminal for high-speed ferries connecting Zhuhai with Shenzhen in mainland China and Hong Kong. It is also developing into a transport hub with regular coach services connecting the port with various cities west of the Pearl River such as Jiangmen and Shunde.',\n",
       " 30: 'Wargentin is an unusual lunar impact crater which has been filled to its rim by a basaltic lava flow, forming a raised plateau. When the lava flow occurred, it erupted from within the crater walls and proceeded to accumulate until overrunning the lowest portion of the rim. Some blockage then prevented the lava flow from returning to equilibrium. Since the time when this occurred, some ejecta has been deposited across the top, giving the surface a higher albedo than is typical for deposits of basalt. The rim of Wargentin is somewhat worn and is overlain by a few small craters. The outer wall climbs to a height of 0.3 km above the surrounding terrain. A spoked pattern of wrinkle ridges can be discerned on the surface, radiating from the center of the crater. Wargentin is located on the approaches to the southwest lunar limb, so that it appears elongated when viewed from the Earth. It is connected along the southeast rim to the slightly smaller crater Nasmyth, which is in turn overlaid by the larger Phocylides. To the northeast is the much larger walled plain Schickard.',\n",
       " 31: 'Castelo de Vide ([kɐʃˈtɛlu ðɨ ˈvið(ɨ)]) is a municipality in Portugal, with a population of 3,407 inhabitants in 2011, in an area of 264.91 square kilometres (102.28 sq mi).',\n",
       " 32: \"Akita ranga (秋田蘭画), also known as the Akita-ha (秋田派), was a short-lived school of painting within the larger Japanese genre of ranga, or Dutch-style painting which lasted roughly from 1773-1780. Based in Kubota Domain, a feudal domain, in the Tōhoku region of Honshū, northern Japan, in what is now Akita Prefecture, it was headed by the domain's lord Satake Shozan and his retainer Odano Naotake. Though many ranga artists, most prominently Shiba Kōkan, produced works of European themes, the Akita painters for the most part painted traditional Japanese themes and compositions using Western-style techniques and an approximation of oil paints. Some of the chief features that distinguish Akita ranga from traditional Japanese painting (nihonga) are the inclusion of shadows, the use of perspective, reflections in water, and the use of blue for sky and sea. In addition, ranga artists left little or no blank space on a work, emulating Western art traditions and going against East Asian ones, and used oils and resins in addition to Japanese pigments to simulate the appearance of oil paint. Many of their works feature a large foreground subject which displays techniques in light and shadow, with a small, distant, landscape, displaying an understanding of perspective projection techniques.\",\n",
       " 33: 'The Eremo delle Carceri is a small hermitage in a steep forest gorge at the Monte Subasio, in Umbria, in middle Italy, four kilometers above Assisi, the steps and bows of which arch over a quatrefoil-shaped hole in the smooth pink stone: the so-called \"Devil Hole\", a grotto. The word Carceri is from the Latin \\'carceres\\' and means \"isolated places\" (as well as \"prisons\"). In the 13th century, Saint Francis of Assisi returned here during his life to pray and contemplate as did other hermits before him. When he first came in 1205, the only building here was a tiny 12th-century oratory. Soon, other men followed him to the mountain, finding their own isolated caves nearby in which to pray. The oratory became known as Santa Maria delle Carceri after the small \"prisons\" occupied by friars in the area. The site and the oratory was probably given by the Benedictines to St. Francis in 1215, at the same time they gave him the Porziuncola in the valley below. Francis dedicated himself to a life of preaching and missions, but throughout his life he would frequently withdraw to the Carceri to pray. At a stone bridge the oak still exists, in the branches of which birds were living, whom S.Francis had preached to, as the legend tells. Around 1400, Saint Bernardino of Siena built a small friary, which includes a little choir with wood stalls of c.1400 and a simple refectory with the original tables from c.1400 still to be seen. St. Bernardine also built a small church called Santa Maria delle Carceri (differs from a church of the same name at Prato), today with an altarpiece fresco of the Virgin and Child, which extended the earlier chapel. In the centuries that followed, various buildings were added around St. Francis\\' cave and the original oratory, forming the sizeable complex that exists today. Today some Franciscan monks live there and visitors are welcome.',\n",
       " 34: 'Alcoutim ([ɐɫkowˈtĩ]) is a town and a municipality in southeastern Portugal near the border with Spain. The population in 2011 was 2,917, in an area of 575.36 km². It is the least densely populated municipality in Portugal. The municipality is limited on the north by Mértola Municipality, on the east by Huelva Province in Spain, on the southeast by Castro Marim Municipality, on the southwest by Tavira Municipality and on the west by Loulé Municipality and Almodôvar Municipality. The administrative center is the town of Alcoutim, located at the extreme eastern part of the municipality on the Spanish frontier, just across the Guadiana River from the Spanish town of Sanlúcar de Guadiana in Huelva Province. The Moorish Alcoutim Castle, located in the municipality, dates from the 14th century. The municipality is located in the northeast corner of Faro District. The present Mayor is Francisco Augusto Amaral, elected by the Social Democratic Party. The municipal holiday is June 13.',\n",
       " 35: 'Kuřim ([ˈkur̝ɪm]; German: Gurein) is a town in the district of Brno-countryside in South Moravian Region. It is situated 14 kilometers north-west of Brno and about 5 kilometers nearby dam Brněnská přehrada. In 2011 there were 10 857 inhabitants and is the largest city of Brno-Country district. There is a prison for convicted men aged 18 years and more in the cadaster of the city.',\n",
       " 36: 'Xiasi Dog (also known as Xiasi Quan or Bai Long Quan) is a breed of dog originating from Guizhou Province in China, recognised by the Chinese Kennel Club. Since the breed is mainly raised in the town of Xiasi, Majiang city, the official name for this breed is Xiasi Quan, though members of the Miao ethnic group also refer to this breed as Bai Long Quan.[citation needed]',\n",
       " 37: 'Tadeusz Borowski ([taˈdɛuʂ bɔˈrɔfskʲi]; 12 November 1922 – 1 July 1951) was a Polish writer and journalist. His wartime poetry and stories dealing with his experiences as a prisoner at Auschwitz are recognized as classics of Polish literature and had much influence in Central European society.',\n",
       " 38: \"Joseph Christopher O'Mahoney (November 5, 1884 – December 1, 1962) was an American journalist, lawyer, and politician. A Democrat, he served four complete terms as a U.S. Senator from Wyoming on two occasions, first from 1934-1953 and then again from 1954-1961.\",\n",
       " 39: 'Coruche ([kuˈɾuʃ(ɨ)]) is a municipality in Santarém District in Portugal. The population in 2011 was 19,944, in an area of 1115.72 km². The present Mayor is Dionísio Simão Mendes, elected by the Socialist Party. The Coruche City Council has also six City Councillors: Joaquim Filipe Coelho Serrão, Francisco Silvestre de Oliveira and Nelson Fernando Nunes Galvão elected by the Socialist Party, and Ricardo Jorge Rato Ferreira Raposo, Isidro Rodrigo Silva Catarino and António Joaquim Soares elected by Coligação Democrática Unitária. The municipal holiday is August 17.',\n",
       " 40: 'The Zisa is a castle in the western part of Palermo in Sicily and is a structure of Arab-Norman Palermo and the Cathedral Churches of Cefalù and Monreale. The construction was begun in the 12th century by Arabian craftsmen for king William I of Sicily, and completed by his son William II. The edifice had been conceived as summer residence for the Norman kings, as a part of the large hunting resort known as Genoardo (Arabic: Jannat al-arḍ, literally \"Paradise on Earth\") that included also the Cuba Sottana, the Cuba Soprana and the Uscibene palace. The Zisa is clearly inspired by Moorish architecture. The name Zisa itself derives from the Arab term al-Azīz, meaning \"dear\" or \"splendid\". The same word, in Naskh script, is impressed in the entrance, according to the usual habit for the main Islamic edifices of the time. In the 14th century merlons were added, by partly destroying the Arab inscription (in Kufic characters) which embellished the upper part of the edifice. More substantial modifications were introduced in the 17th century, when the Zisa, reduced to very poor conditions, was purchased by Giovanni di Sandoval e Platamone, Marquis of S. Giovanni la Mendola, Prince of Castelreale, Lord of the Mezzagrana and the Zisa. The latter\\'s marble coat of arms with two lions can be seen over the entrance fornix. Several rooms of the interior were modified and others added on the ceiling, a great stair was built, as well as new external windows. From 1808 to the 1950s the building was used a residence by the princes Notarbartolo di Sciara. Acquired by the Region of Sicilia and restored in the 1970s and 1980s (the Northern part had crumbled down in 1971 and has been rebuilt along the original lines), the Zisa today is opened to tourists. Some rooms houses Islamic art pieces, tools and artifacts from the Mediterranean area. The most notable room is the central hall, with a mosaic decoration; once it had a fountain too, from which the water flowed outside. On 3 July 2015 it became UNESCO World Heritage Site.',\n",
       " 41: 'Sušice ([ˈsuʃɪtsɛ]; German: Schüttenhofen) is a town in the Pilsen Region of the Czech Republic. It lies on the Otava River, some 60 km (37 mi) to the south of the regional capital of Pilsen. Sušice is also the seat of the Municipality with Extended Competence and with Commissioned Local Authority. It is also the founding place of the famous Czech fast food franchise McVítek.',\n",
       " 42: 'Psychoneuroendocrinology is the clinical study of hormone fluctuations and their relationship to human behavior. It may be viewed from the perspective of psychiatry, where in certain mood disorders, there are associated neuroendocrine or hormonal changes affecting the brain. It may also be viewed from the perspective of endocrinology, where certain endocrine disorders can be associated with psychiatric illness. Brain dysfunctions such as in the hypothalamus can affect the endocrine system, which in turn can result in psychiatric symptoms. This complex blend of psychiatry, neurology and endocrinology is needed to comprehensively understand and treat psychiatric illnesses (see neurobiological brain disorder).',\n",
       " 43: 'Mesch (Limburgish: Misj) is a village in the Dutch province of Limburg. It is located in the municipality of Eijsden-Margraten, quite near to the southerly border with Belgium, on the other side of which the neighbouring village of Moelingen is situated. In its northwest Mesch borders to Eijsden, whereas the town of Maastricht lies about 10 km more northerly. Mesch was a separate municipality until 1943, when it was merged with Eijsden. On September 12, 1944 it was the first village in The Netherlands that was liberated from German occupation in the second world war. The relatively small Voer river, coming from Belgium, passes among others through this village, before draining into the Meuse river at Eijsden. The touristic Mergellandroute also passes through this place.',\n",
       " 44: 'Humpolec ([ˈɦumpolɛts]; German: Humpoletz) is a town in the Vysočina Region of the Czech Republic. It is situated south-east of the Czech capital Prague, roughly halfway between Prague and Brno, on the northwestern edge of the Bohemian-Moravian Highlands (Českomoravská vrchovina). Humpolec was first mentioned in 1178. A silver mining town in the 13th-15th century, Humpolec became known for cloth production from the 17th century, which reached its peak in the 19th century. Humpolec is the birthplace of Aleš Hrdlička, well-known American anthropologist, Jan Zábrana, one of the greatest Bohemian writers and translators of 20th century, Josef Stránský, conductor of the New York Philharmonic, Ivan Martin Jirous, poet, underground writer and member of anticommunist opposition and Jaroslav Augusta, a noted painter.',\n",
       " 45: 'Valentyn Symonenko (Ukrainian: Валентин Костянтинович Симоненко; b. July 4, 1940 in Odessa) is a Ukrainian statesman. Since late 1996 he has been chairman of the Accounting Chamber of Ukraine. In 1983-1992 he served as mayor of Odessa, then as the First Vice Prime Minister of Ukraine in the Fokin Government, and for period of 10 days in October of 1992 (October 2-12) ex officio acted as a Prime Minister of Ukraine upon the resignation of Vitold Fokin and the appointment of Leonid Kuchma to the office. Symonenko became the first \"acting Prime Minister\". Symonenko has been elected to the Verkhovna Rada (parliament) for three sequential terms (11, 12(1), and 13(2) convocations). In 1996 he was elected as the Chairman of the Accounting Chamber of Ukraine. In 2003 he was re-elected for the second 7-year term. The Accounting Chamber executes control over revenues and expenditures of the State Budget of Ukraine on behalf of the Verkhovna Rada',\n",
       " 46: 'Fūren (風連町 Fūren-chō) was a town located in Kamikawa (Teshio) District, Kamikawa Subprefecture, Hokkaido, Japan. As of 2004, the town had an estimated population of 5,194 and a density of 23.54 persons per km². The total area was 220.61 km². On March 27, 2006, Fūren was merged into the expanded city of Nayoro. Before its dissolution, the town mascot was \"Fumi-kun\". The primary industry in Fūren-chō is wet-rice farming.',\n",
       " 48: 'Neosho (/niːˈoʊʃoʊ/; originally [niˈoʒo] or [niˈoʒu] is the most populous city in Newton County, Missouri, United States, which it serves as the county seat. With a population of 11,835 as of the 2010 census, the city is part of the Joplin, Missouri Metropolitan Statistical Area, a region with an estimated 176,849 (2011) residents. Neosho lies on the western edge of the Ozarks. The name \"Neosho\" is generally accepted to be of Native American (most likely Osage) derivation, meaning \"clear, cold water\", referring to local freshwater springs. The springs attracted varying cultures of Native American inhabitants for thousands of years. It was also ideal for the later white settlers, who founded the city in 1833. It was incorporated as a municipal government in 1878. Nicknamed \"City of Springs\", Neosho has long served as an agricultural center and, since 1888, is home of the Neosho National Fish Hatchery, the oldest in the National Fish Hatchery System. It is known locally as the \"Gateway to the Ozarks\", and since 1957 as \"the Flower Box City\".',\n",
       " 49: 'Kitahiyama (北檜山町 Kitahiyama-chō) was a town located in Setana District, Hiyama Subprefecture, Hokkaido, Japan. As of 2004, the town had an estimated population of 5,908 and a density of 15.59 persons per km². The total area was 379.03 km². On September 1, 2005, Kitahiyama, along with the town of Taisei (from Kudō District) was merged into the expanded town of Setana (formerly from Setana District, now in Kudō District).',\n",
       " 50: 'Lovosice ([ˈlovosɪtsɛ]; German: Lobositz) is a small town in northern Bohemia, the western part of the Czech Republic. Geographic coordinates of Lovosice are: latitude 50° 51\\' and longitude: 14° 05\\'. Lovosice is located on the left bank of the Labe (Elbe) River, at the northern border of the Labe lowlands and at the southern foot of Bohemian Highlands (České Středohoří). The closest mountain is Lovoš. The capital Prague is about 60 km towards south. Lovosice belongs to Ústí nad Labem Region, Litoměřice district. Lovosice is a surprisingly long and narrow town. This shape is the origin of the common Czech saying \"as long as Lovosice\". Due to its strategic location, Lovosice is a significant transport junction. Besides a cargo port on the Labe River, the town has a great connection to Prague and Germany via the D8 motorway and high speed railway Prague – Ústí nad Labem – Dresden. The town is quite industrial with a long tradition of chemical and food-processing factories.',\n",
       " 51: 'The Gulf of Kyparissia (Greek: Κυπαρισσιακός Κόλπος, Kyparissiakos Kolpos) is a long, curving indentation along the western coast of the Peloponnese peninsula, Greece. It lies between Cape Katakolo at the north end and Cape Konello to the south. Near the northern extreme is the city of Pyrgos, with the town of Zacharo near the center and the town of Kyparissia lying toward the southern end. Flowing into the gulf are the Alpheios and Neda rivers. Its southern part is also one of the main breeding grounds of the endangered loggerhead sea turtle. During the Middle Ages and up to the 19th century, this body was known as the Gulf of Arcadia.',\n",
       " 52: 'Myron Virgil George (January 6, 1900 – April 11, 1972) was a U.S. Representative from Kansas. Born in Erie, Kansas, George attended the grade schools and graduated from Labette County High School at Altamont, Kansas. Enlisted in April 1917 and served in the United States Army with rank of corporal until discharged in May 1919.Learned the printing trade on the Altamont Journal, published by his father. He was owner and publisher of the Edna Sun from 1924-1941.Officer with Kansas State Highway Commission from 1939 to 1950. George was elected as a Republican to the Eighty-first Congress, November 7, 1950, in a special election to fill the vacancy caused by the death of Herbert A. Meyer and at the same time was elected to the Eighty-second Congress. He was reelected to the three succeeding Congresses, and served from November 7, 1950, to January 3, 1959.He was an unsuccessful candidate for reelection in 1958 to the Eighty-sixth Congress. He engaged in public relations in the transportation and construction fields. Resided in Parsons, Kansas, until his death there April 11, 1972.He was interred in Memorial Lawn Cemetery.',\n",
       " 53: 'Taisei (大成町 Taisei-chō) was a town located in Kudō District, Hiyama Subprefecture, Hokkaido, Japan. As of 2004, the town had an estimated population of 2,458 and a density of 18.36 persons per km². The total area was 133.91 km². On September 1, 2005, Taisei, along with the town of Kitahiyama (from Setana District) was merged into the expanded town of Setana (formerly from Setana District, now in Kudō District).',\n",
       " 56: 'Kamiiso (上磯町 Kamiiso-chō) was a town located in Kamiiso District, Oshima Subprefecture, Hokkaido, Japan. As of 2004, the town had an estimated population of 36,887 and a density of 140.57 persons per km². The total area was 262.41 km². On February 1, 2006, Kamiiso was merged with the town of Ōno (from Kameda District) to form the new city of Hokuto.',\n",
       " 58: 'Moravská Třebová ([ˈmorafskaː ˈtr̝̊ɛbovaː]; German: Mährisch Trübau) is a town in the Svitavy District and lies in the Pardubice Region, Czech Republic. It has around 11,300 inhabitants. Moravská Třebová is located on the Třebůvka River. It was the largest German linguistic enclave within Bohemia and Moravia. Some locations were just some kilometers apart from the other German-speaking areas. Until the expulsion of the Germans in 1945/46 according to the Beneš decrees, it was exclusively inhabited by German-speaking population. Between 1850 and 1960 Moravská Třebová has been a district town.',\n",
       " 59: \"The Central Funicular (Italian: Funicolare Centrale), is a funicular railway line that forms part of the public transport system for the city of Naples, Italy. Opened in 1928, the Central Funicular of Naples is one of the most used funicular railways in the world, and carries over 10 million passengers per year. Central Funicular connects four stations: Piazza Fuga, Petraio-Via Palizzi, Corso Vittorio Emanuele (Napoli), and Augusteo at Piazzetta Duca d'Aosta. At Piazza Fuga, the Central Funicular station is adjacent to Piazza Vanvitelli, where there is a connection to both Vanvitelli station, on Line 1 of the Naples Metro, and to the Chiaia Funicular.\",\n",
       " 60: 'Hampton is a city in Dakota County, Minnesota, United States. The population was 689 at the 2010 census.',\n",
       " 61: 'Ōtaki (大滝村 Ōtaki-mura) was a village located in Usu District, Iburi Subprefecture, Hokkaido, Japan. As of 2004, the village had an estimated population of 2,054 and a density of 7.50 persons per km². The total area was 274.03 km². On March 1, 2006, Ōtaki was merged into the city of Date.',\n",
       " 62: 'The economy of Djbouti is derived in large part from its strategic location on the Red Sea. Djibouti is mostly barren, with little development in the agricultural and industrial sectors. The country has a harsh climate, a largely unskilled labour force, and limited natural resources. The country’s most important economic asset is its strategic location connecting the Red Sea and the Gulf of Aden. As such, Djibouti’s economy is dominated by the services sector, providing services as both a transit port for the region and as an international transshipment and refueling centre. From 1991 to 1994, Djibouti experienced a civil war which had devastating effects on the economy. Since then, the country has benefited from political stability. In recent years, Djibouti has seen significant improvement in macroeconomic stability, with its annual gross domestic product improving at an average of over 3 percent since 2003. This comes after a decade of negative or low growth. This is attributed to fiscal adjustment measures aimed at improving public financing, as well as reforms in port management. Despite the recent modest and stable growth, Djibouti is faced with many economic challenges, particularly job creation and poverty reduction. With an average annual population growth rate of 2.5 percent, the economy cannot significantly benefit national income per capita growth. Unemployment is extremely high at over 43 percent and is a major contributor to widespread poverty. Efforts are needed in creating conditions that will enhance private sector development and accumulate human capital. These conditions can be achieved through improvements in macroeconomic and fiscal framework, public administration, and labour market flexibility. Djibouti was ranked the 177th safest investment destination in the world in the March 2011 Euromoney Country Risk rankings.',\n",
       " 63: \"Frank Potter Coburn (December 6, 1858 – November 2, 1932) was a U.S. Representative from Wisconsin. Coburn was born on a farm near West Salem, Wisconsin, Coburn attended the public schools. He engaged in agricultural pursuits near West Salem and also engaged in the banking business. He was an unsuccessful Democratic candidate for election in 1888 to the Fifty-first Congress. Coburn was elected as a member of the Democratic Party to the Fifty-second Congress (March 4, 1891 – March 3, 1893). He served Wisconsin's 7th congressional districtHe was an unsuccessful candidate for reelection in 1892 to the Fifty-third Congress. He resumed banking interests and agricultural pursuits near West Salem. He served as member of the county board of supervisors from 1894 till 1903, serving as chairman in 1902 and 1903.He was jury commissioner from 1897 to 1932.Trustee of the county asylum 1907-1932.He served as member of the board of review of income taxes for the county 1912-1926.He died in La Crosse, Wisconsin, on November 2, 1932.He was interred in Hamilton Cemetery, West Salem, Wisconsin.\",\n",
       " 64: 'Nový Bor ([ˈnoviː ˈbor]; German: Haida) is a town in the Liberec Region of the Czech Republic. From 1938 to 1945 it was one of the municipalities in Sudetenland. It has about 12,000 inhabitants. There is developed production of glass artifacts, small precision motors and, increasingly, tourism.',\n",
       " 65: 'Asahi (朝日町 Asahi-chō) was a town located in Kamikawa (Teshio) District, Kamikawa Subprefecture, Hokkaido, Japan. As of 2004, the town had an estimated population of 1,799 and a density of 3.45 persons per km². The total area was 522.01 km². On September 1, 2005, Asahi was merged into the expanded city of Shibetsu.',\n",
       " 66: 'Lions is the sixth studio album by American rock band The Black Crowes. It was released in 2001 as their first album on V2 Records following their departure from Columbia, and is their only studio album to feature guitarist Audley Freed. Lions was recorded in New York City in January and February of that year, and was produced by Don Was. Bass guitar duties were shared by Rich Robinson and Was, as Greg Rzab had left the band and was not replaced until the tour that followed the release of the album. The album debuted on the Billboard 200 at its peak position of 20, selling more than 53,000 copies in its first week. Lions received mixed reviews; although the overall sound of the album generally garnered praise, a frequent complaint was the lack of \"memorable\" songs. The critics who rated Lions lowest considered it a poor imitation of the band\\'s influences, such as Led Zeppelin. The band supported Lions with two North American tours (one with Oasis co-headlining), and a short tour of Europe and Japan in between. Soundboard recordings of several concerts were available for download to those who owned the album. Following the tour, the band went on hiatus until 2005.',\n",
       " 67: 'Rychnov nad Kněžnou ([ˈrɪxnof ˈnat kɲɛʒnou̯]; German: Reichenau an der Knieschna) is a town in the Hradec Králové Region of the Czech Republic. It has around 12,000 inhabitants. This is a small town, with a sprinkling of other small towns in the vicinity. The nearest big city (more than 100,000 inhabitants) is Hradec Králové which is about 32 km to the west. Madeleine Albright (former US Foreign Secretary) hailed from this part of the world.',\n",
       " 68: 'Tōya (洞爺村 Tōya-mura) was a village located in Abuta (Iburi) District, Iburi Subprefecture, Hokkaido, Japan. As of 2004, the village had an estimated population of 2,221 and a density of 19.54 persons per km². The total area was 113.69 km². On March 27, 2006, Tōya was merged with the town of Abuta (also from Abuta (Iburi) District) to create the new town of Tōyako. The locality has yearly Gap Year volunteers from the UK sent by the organization Project Trust, that worked with the local Board of Education to help teach English to the local residents, both old and young. They teach evening classes for the adults and participate in lessons at all the schools locally, ranging from nursery to high school.',\n",
       " 69: 'Chamusca ([ʃɐˈmuʃkɐ]) is a municipality in Santarém District in Portugal. The population in 2011 was 10,120, in an area of 746.01 km². The present Mayor is Sérgio Carrinho, elected by the Unitarian Democratic Coalition. The municipal holiday is Ascension Day.',\n",
       " 70: \"You're Dead is a 1999 British dark comedy crime film directed by Andy Hurst. Although set in London most of the film was in fact filmed in Germany, and the film was released in German dub as You Are Dead, and in Japan as King of UK. The plot concerns a disastrously fatal bank robbery set up by a gangster's son played by Rhys Ifans, while the emotional centre of the film is built on the relationship between the accomplice in the robbery, a veteran safe-breaker played by John Hurt, and his policewoman daughter.\",\n",
       " 71: 'Abuta (虻田町 Abuta-chō) was a town located in Abuta (Iburi) District, Iburi Subprefecture, Hokkaido, Japan. As of 2004, the town had an estimated population of 7,811 and a density of 116.84 persons per km². The total area was 66.85 km². On March 27, 2006, Abuta was merged with the village of Tōya (also from Abuta (Iburi) District) to create the new town of Tōyako.',\n",
       " 72: 'Lázně Kynžvart (German: Bad Königswart, Königswart, Königswarte) is a spa town in Cheb District, Karlovy Vary Region, Czech Republic. It is located near a château of the same name (Kynžvart Castle). The Jewish Königswarter family originate in the town. Kynžvart is famous for its sanatorium, which is designed for children ages 2 to 15 with nonspecific respiratory disorders.',\n",
       " 73: 'Shizunai (静内町 Shizunai-chō) was a town located in Shizunai District, Hidaka Subprefecture, Hokkaido, Japan. As of 2004, the town had an estimated population of 22,581 and a density of 28.17 persons per km². The total area was 801.51 km². On March 31, 2006, Shizunai was merged with the town of Mitsuishi (from Mitsuishi District) to create the new town of Shinhidaka (in the newly created Hidaka District). It was the most populous town and was the economic center of Hidaka Subprefecture. Nijikken-dōro (二十間道路, lit. road 36 meter in width), the avenue of cherry blossoms, was a major tourist attraction of the town.',\n",
       " 74: 'Pampilhosa da Serra ([pɐ̃piˈʎɔzɐ ðɐ ˈsɛʁɐ]) is a town and a municipality in the Coimbra District, in Portugal. The population in 2011 was 4,481, in an area of 396.46 km².',\n",
       " 75: 'Deventer ([ˈdeːvəntər]) is a municipality and city in the Salland region of the Dutch province of Overijssel. Deventer is largely situated on the east bank of the river IJssel, but also has a small part of its territory on the west bank. In 2005 the municipality of Bathmen (pop. 5,000) was merged with Deventer as part of a national effort to reduce bureaucracy in the country.',\n",
       " 76: 'Kumaishi (熊石町 Kumaishi-chō) was a town located in Nishi District, Oshima Subprefecture, Hokkaido, Japan. The town\\'s name literally means bear rock after a prominent rock formation that looks like a bear and cub on its coast. As of 2004, the town had an estimated population of 3,487 and a density of 15.82 persons per km². The total area was 220.38 km². As many \\'town\\' districts, Kumaishi itself is composed of many smaller villages strung out along the coast facing the Sea of Japan. Its industry mainly comprises fishing, notably squid fishing and at night many lights of the squid fishing fleets can be seen far out in the sea. The area is beautifully scenic in many portions and provides some rare untouched Japanese wilderness although some of the coastline has seen Japanese style engineering and been \"decorated\" with concrete \\'tetrapods\\'.',\n",
       " 77: 'Vlašim ([ˈvlaʃɪm]; German: Wlaschim) is a town in the Central Bohemian Region of the Czech Republic. It has 12,689 inhabitants and is situated on the Blanice river, 70 kilometers south-east from the capital, Prague. Vlašim is known for its castle and English style park with many pieces of romantic architecture such as the Chinese pavilion, Old castle and its three gates.',\n",
       " 78: 'Hobetsu (穂別町 Hobetsu-chō) was a town located in Yūfutsu (Iburi) District, Iburi Subprefecture, Hokkaido, Japan. As of 2004, the town had an estimated population of 3,727 and a density of 6.82 persons per km². The total area is 546.48 km². On March 27, 2006, Hobetsu was merged into the expanded town of Mukawa (鵡川町 Mukawa-chō). Train service has been discontinued to this town, although it can be accessed via the public bus system. By car, Hobetsu is located approximately 30 to 40 minutes north of Mukawa along Route 74.',\n",
       " 79: 'Red Oaks Mill is a hamlet and census-designated place (CDP) in Dutchess County, in the U.S. state of New York. It lies within the limits of the towns of Poughkeepsie and LaGrange. The population was 3,613 at the 2010 census. Red Oaks Mill is southeast of the city of Poughkeepsie and can be considered a suburb of the city. It is part of the Poughkeepsie–Newburgh–Middletown, New York Metropolitan Statistical Area as well as the larger New York–Newark–Bridgeport, New York-New Jersey-Connecticut-Pennsylvania Combined Statistical Area.',\n",
       " 80: 'The Kikuchi Kan Prize (菊池寛賞 Kikuchi Kan Shō) honors achievement in all aspects of Japanese literary culture. It was named in honor of Kikuchi Kan. The prize is presented annually by the literary magazine Bungei Shunjū and the Society for the Promotion of Japanese Literature.',\n",
       " 81: 'Chatham /ˈtʃætəm/ is a village in Columbia County, New York, United States. The population was 1,770 at the 2010 census. The village of Chatham is in on the border between the towns of Chatham and Ghent. The village is at the junction of Routes 66 and 203.',\n",
       " 82: 'Jintan is the patented name of a popular Japanese medicine/candy developed by Morishita Hiroshi (1869-1943) and sold from the early twentieth century to today. Originally marketed as a cure-all for a number of ailments, Jintan is today thought of as a breath freshener only. Morishita Hiroshi was the eldest son of a priest at the Nunakuma-Shrine (沼名前神社, Numakuma jinja) in Fukuyama (Hiroshima prefecture). After his father died, Morishita went to Osaka and started to develop pharmaceutical products. He was also a pioneer of Japanese advertising. Jintan has about 16 ingredients including cinnamon, mint, cumin, clove, and Fructus Amomi. The silver coated pellet-like pills were advertised from 1904 through the end of World War II. They were sold throughout Asia. The name Jintan combines the Confucian term jin (humaneness, benevolence) with the Daoist term tan (cinnabar, pills containing cinnabar, pills) evoking the notion of longevity and health.',\n",
       " 83: 'Kijkduin is a seaside resort on the North Sea coast of the province of South Holland in the Netherlands. It is one of the two seaside resorts of the city of The Hague, the other (more famous) one being Scheveningen. \"Kijkduin\" is quite famous for its long stretch in sand dunes along the coast. Kijkduin was established in 1923 by the developer Joh. D. van der Houwen. Architects Bijvoet and Duiker were the inspiration and architects for this 126 residence village. The sales brochure \"Villa-Dorp Kijkduin\" provides a detailed description of the new development, its inspiration and contains many re-prints of local newspaper articles describing the uniqueness of the architecture, layout of the development and expected lifestyle of the new residents.',\n",
       " 84: \"ChampionChip is a brand name of one type of passive RFID transponders, marked with a unique identification number and used in active sports events to keep track of the competition times of participants. It is one manufacturer's implementation of transponder timing. ChampionChip transponders are waterproof glass capsules that contain a silicon chip and an energizing coil. This coil is inactive until moved into a magnetic field, generated by a send antenna in a mat (used to mark the start and finish lines of a race). The transponder then transmits its unique identification number to a receive antenna in a mat. Transponder timing is used in sporting events around the world, including running races, marathons, triathlons, cycling and mountain biking competitions, in-line skating and cross-country skiing. Chips are either rented for use at a given event or purchased by participants for successive use at events timed with ChampionChip mats (the chips are incompatible with other timing systems). In either case, the serial number of a participant's chip is stored in a database for an event allowing the recorded times to be matched with participants' names. Although a chip might transmit its number several times while the athlete is crossing the mat, special software is used to eliminate all but the first time recorded for each chip at each timing point. In general, transponder timing is only economical for larger events of more than 1,000 participants. For smaller events, it is less expensive to time participants using manually operated hand-held computers. When transponder timing first appeared, the running community hoped[citation needed] that there would be a single nationwide United States standard for transponders which could be used at all races. However, the distributor of ChampionChip in the United States has sought to limit the number of timing systems sold[citation needed], resulting in different event timing companies purchasing incompatible transponder systems from other manufacturers. Since 2008, systems using disposable transponders have replaced ChampionChips at a number of events. ChampionChip was a Nijmegen, Netherlands based company, started in 1993 by a group of students to improve the time tracking in the Zevenheuvelenloop. In 2008, ChampionChip was merged with AMB i.t. to form a new company called MYLAPS Sports Timing.\",\n",
       " 85: 'Kyyjärvi is a municipality of Finland. It is located in the province of Western Finland and is part of the Central Finland region. The municipality has a population of 1,390 (30 June 2015) and covers an area of 469.62 square kilometres (181.32 sq mi) of which 21.39 km2 (8.26 sq mi) is water. There are all together 46 lakes in Kyyjärvi. Biggest lakes in Kyyjärvi are Lake Kyyjärvi, Heinuanjärvi and Kirvesjärvi. The population density is 3.1 inhabitants per square kilometre (8.0/sq mi). The municipality is unilingually Finnish. The municipality centre is located on the shores of lake Kyyjärvi. Little villages Hokkala, Koskimäki-Huhtala, Kumpula, Noposenaho, Hokkasenaho, Nurmijoki, Oikari, Peuralinna, Pölkki, Saunakylä and Vehkaperä are living mostly from primary production (farming and forestry). Due to its location on the crossroads of two main Finnish roads (Valtatie 13 and 16) the municipality has also a remarkable amount of services and little companies compared to its size. The origin of the name of Kyyjärvi is unknown but there are few theories of it. The first part of the name, \"kyy\", is Finnish word for adder (Vipera berus), a venomous snake. Järvi is Finnish word for lake. Adders can be found in Kyyjärvi, as everywhere in Finland. Another theory is that the first citizens moved to the area from the lake Kyyvesi and gave the name Kyyjärvi for their new home area and lake. The world\\'s first district heating grid that uses only EKOenergy labelled renewable energy is located in the town center of Kyyjärvi.',\n",
       " 86: 'The Metro Alpin is an underground funicular situated above the Swiss town of Saas Fee, in the canton of Valais. Opened in 1984, it links the Felskinn cable-car station (2,980 metres or 9,777 feet MSL) on the shore of the Fee Glacier to the Mittelallalin (3,456 metres or 11,339 feet) in the north flank of the Allalinhorn. The Felskinn–Mittelallalin Tunnel has a length of 1,749 metres (5,738 ft), with an altitude difference of 476 metres (1,562 ft) between the two stations. The Metro Alpin is the highest funicular in the world. Being a fully underground railway, it is also considered the highest subway in the world.',\n",
       " 87: 'Fuji (富士町 Fuji-chō) was a town located in Saga District, Saga Prefecture, Japan. The status of Fuji was changed from a village to a town on October 1, 1966. As of 2005, the town had an estimated population of 4,797 and a density of 33.48 persons per km². The total area was 143.25 km². On October 1, 2005, Fuji, along the towns of Morodomi and Yamato (all from Saga District), and the village of Mitsuse (from Kanzaki District), was merged into the expanded city of Saga.',\n",
       " 88: 'Elimäki (Swedish: Elimä) is a former municipality of Finland. It was located in the province of Southern Finland and was part of the Kymenlaakso region. The municipality had a population of 8,199 and covered an area of 391.74 km² of which 4.27 km² was water. The population density was 21.2 inhabitants per km². The municipality was unilingually Finnish. As of 2009, the six municipalities – Kouvola, Kuusankoski, Elimäki, Anjalankoski, Valkeala and Jaala – were consolidated, accounting for the new municipality of Kouvola with a population of over 80,000, being the 10th largest city in Finland.',\n",
       " 89: 'Yamato (大和町 Yamato-chō) was a town located in Saga District, Saga Prefecture, Japan. The town was established as a village in 1955, what later was elevated to town status in 1959. As of 2003, the town had an estimated population of 22,105 and a density of 398.86 persons per km². The total area was 55.42 km². On October 1, 2005, Yamato, along the towns of Fuji and Morodomi (all from Saga District), and the village of Mitsuse (from Kanzaki District), was merged into the expanded city of Saga.',\n",
       " 90: 'Faversham /ˈfævərʃəm/ is a market town and civil parish in the Swale district of Kent, England. The town is 48 miles from London and 10 miles from Canterbury and lies next to the Swale, a strip of sea separating mainland Kent from the Isle of Sheppey in the Thames Estuary. It is close to the A2, which follows an ancient British trackway which was used by the Romans and the Anglo-Saxons, and known as Watling Street. The Faversham name is of Latin via Old English origin, meaning \"the metal-worker\\'s village\". There has been a settlement at Faversham since pre-Roman times, next to the ancient sea port on Faversham Creek, and archaeological evidence has shown a Roman theatre was based in the town. It was inhabited by the Saxons and mentioned in the Domesday book as Favreshant. The town was favoured by King Stephen who established Faversham Abbey, which survived until the Dissolution of the Monasteries in 1538. Subsequently, the town became an important seaport and established itself as a centre for brewing, and the Shepherd Neame Brewery, founded in 1698, remains a significant major employer. The town was also the centre of the explosives industry between the 17th and early 20th century, before a decline following an explosion in 1916 which killed over 100 workers. This coincided with a revival of the shipping industry in the town. Faversham has a number of landmarks, with several historic churches including St Mary of Charity, Faversham Parish Church, the Maison Dieu and Faversham Recreation Ground. Faversham Market has been established for over 900 years and is still based in the town centre. There are good road and rail links, including a Southeastern service to the High Speed 1 line at Ebbsfleet International and London.',\n",
       " 91: 'The axiom of countable choice or axiom of denumerable choice, denoted ACω, is an axiom of set theory that states that any countable collection of non-empty sets must have a choice function. I.e., given a function A with domain N (where N denotes the set of natural numbers) such that A(n) is a non-empty set for every n ∈ N, then there exists a function f with domain N such that f(n) ∈ A(n) for every n ∈ N. The axiom of countable choice (ACω) is strictly weaker than the axiom of dependent choice (DC), () which in turn is weaker than the axiom of choice (AC). Paul Cohen showed that ACω, is not provable in Zermelo–Fraenkel set theory (ZF) without the axiom of choice(). ACω holds in the Solovay model. ZF + ACω suffices to prove that the union of countably many countable sets is countable. It also suffices to prove that every infinite set is Dedekind-infinite (equivalently: has a countably infinite subset). ACω is particularly useful for the development of analysis, where many results depend on having a choice function for a countable collection of sets of real numbers. For instance, in order to prove that every accumulation point x of a set S⊆R is the limit of some sequence of elements of S{x}, one needs (a weak form of) the axiom of countable choice. When formulated for accumulation points of arbitrary metric spaces, the statement becomes equivalent to ACω. For other statements equivalent to ACω, see and . A common misconception is that countable choice has an inductive nature and is therefore provable as a theorem (in ZF, or similar, or even weaker systems) by induction. However, this is not the case; this misconception is the result of confusing countable choice with finite choice for a finite set of size n (for arbitrary n), and it is this latter result (which is an elementary theorem in combinatorics) that is provable by induction. However, some countably infinite sets of nonempty sets can be proven to have a choice function in ZF without any form of the axiom of choice. These include Vω− {Ø} and the set of proper and bounded open intervals of real numbers with rational endpoints.',\n",
       " 92: 'Juva is a municipality of Finland. It is located in the province of Eastern Finland and is part of the Southern Savonia region some 270 kilometres (170 mi) North-East of Helsinki. It was founded on 19 January 1442, and is the oldest parish/municipality in Finland whose exact date of birth is known. At the time, it was only the second parish in Eastern Finland, and later, several other parishes were separated from it, such as Sääminki, (present-day Savonlinna), Kuopio, Pieksämäki and Joroinen. Secular municipal administration was established in 1868. The municipality has a population of 6,607 (30 June 2015) and covers an area of 1,345.55 square kilometres (519.52 sq mi) of which 182.32 km2 (70.39 sq mi) is water. The population density is 5.68 inhabitants per square kilometre (14.7/sq mi). It is mainly an agricultural community, but possesses also some industries, notably WS Bookwell, a major printing press in Finland. The municipality is unilingually Finnish. Lake Jukajärvi is located in Juva municipality.',\n",
       " 93: 'Köyliö (Swedish: Kjulo) is a former municipality of Finland. It was merged to the municipality of Säkylä on 1 January 2016. It was located in the province of Western Finland and was part of the Satakunta region. The population of Köyliö was 2,665 (30 June 2015) and covered a land area of 246.06 km2 (95.00 sq mi). The population density was 10.8307/km2 (28.051/sq mi). The municipality was unilingually Finnish. It is said that the peasant Lalli murdered the English bishop Henry on the ice of Lake Köyliö in 1155 AD, during the first Swedish Crusade into Finland. A statue to Lalli was erected at Köyliö in 1989.',\n",
       " 94: \"The Polybahn, also known as the UBS Polybahn, is a funicular railway in the city of Zürich, Switzerland. The line links the Central square with the terrace by the main building of ETH Zürich, which was formerly called Eidgenössisches Polytechnikum, and from which the railway derives its name. Previous names for the line include the SBG Polybahn and the Zürichbergbahn. The line is owned by the banking group UBS AG, and operated on their behalf by the municipal transport operator Verkehrsbetriebe Zürich. The Polybahn is one of two funiculars within the city of Zürich, the other being the Rigiblick funicular in the city's northern suburbs. Additionally, the city's Dolderbahn rack railway was originally a funicular, until its conversion to rack working in the 1970s.\",\n",
       " 96: 'Polvijärvi is a municipality of Finland. It is located in the province of Eastern Finland and is part of the North Karelia region. The municipality has a population of 4,596 (30 June 2015) and covers an area of 958.35 square kilometres (370.02 sq mi) of which 154.22 km2 (59.54 sq mi) is water. The population density is 5.72 inhabitants per square kilometre (14.8/sq mi). The municipality is unilingually Finnish.',\n",
       " 98: 'Coonabarabran /kuːnəˈbærəbrən/ is a town in Warrumbungle Shire that sits on the divide between the Central West and North West Slopes regions of New South Wales, Australia. At the 2011 census, the town had a population of 3,175.',\n",
       " 99: 'The Gansu Uyghur Kingdom was established around 848, by the Uyghurs after the fall of the Uyghur Khaganate in 840. The kingdom lasted from 848-1036; during that time, many of Gansu\\'s residents converted to Buddhism. The Gansu area was, traditionally, a Chinese inroad into Asia. By the ninth century the Uyghurs had come to dominate the area, taking over from the Tibetan Empire. The area had become a \"commercially critical region\", making the Uyghur wealthy and cosmopolitan. By the early 11th century, they were in turn conquered by the Tangut people.',\n",
       " 100: 'Tocha is a civil parish in the municipality of Cantanhede, Portugal. The population in 2011 was 3,992, in an area of 78.44 km².',\n",
       " 101: 'Shichitoi (Cyperus tegetiformis) or short-leaved Malacca galingale is a species of thin long sedge grass. It is planted in the land between the sea water and fresh water, mainly in Vietnam, and processed in Dongguan. It is also called salt water grass. It is used in packaging in South China, mainly before the 1980s, for packaging goods. At that time people packaged goods by wrapping them in grass. It was common to use a long loop to tie up the package, to aid carrying with the index finger. For meat, newspaper was used (later waxed paper, which is still used in wrapping herbs and Char siu). Shichitoi was mostly replaced by plastic bags but is still used to package zongzi and Chinese mitten crab. However, liquid in the food may drip out when walking, which led to the use of the plastic bags. There are few people left growing and selling it For packaging dry goods, Cyperus tegetiformis can provide a cheap, biodegradable and readily available alternative to plastic bags. On 30 September 2007, Greeners Action, a green student council in Hong Kong campaign the \"Days of Salt water grass\". In some days from October to February, more than 130 shops in 6 Hong Kong markets will use the grass to tie the fruits and vegetables and will not use the plastic bags.',\n",
       " 102: 'Kuloy (Russian: Кулóй) is an urban locality (a work settlement) in Velsky District of Arkhangelsk Oblast, Russia, located on the Kuloy River, 570 kilometers (350 mi) from Arkhangelsk and 24 kilometers (15 mi) from Velsk, the administrative center of the district. Area: ~11,000 km2 (4,200 sq mi). Population: 5,946\\u2009(2010 Census); 6,817\\u2009(2002 Census); 8,934\\u2009(1989 Census).',\n",
       " 103: 'Finspång is a locality and the seat of Finspång Municipality, Östergötland County, Sweden with 12,440 inhabitants in 2010.',\n",
       " 104: 'Brembilla is a comune in the province of Bergamo, in Lombardy, Italy. It is situated 15 km northwest of Bergamo.',\n",
       " 105: 'Courboin is a commune in the Aisne department in Picardy in northern France.',\n",
       " 106: 'Burra is a pastoral centre and historic tourist town in the mid-north of South Australia. It lies east of the Clare Valley in the Bald Hills range, part of the northern Mount Lofty Ranges, and on Burra Creek. The town began as a single company mining township that, by 1851, was a set of townships (company, private and government-owned) collectively known as \"The Burra\". The Burra mines supplied 89% of South Australia\\'s and 5% of the world\\'s copper for 15 years, and the settlement has been credited (along with the mines at Kapunda) with saving the economy of the struggling new colony of South Australia. The Burra Burra Copper Mine was established in 1848 mining the copper deposit discovered in 1845. Miners and townspeople migrated to Burra primarily from Cornwall, Wales, Scotland and Germany. The mine first closed in 1877, briefly opened again early in the 20th century and for a last time from 1970 to 1981. When the mine was exhausted and closed the population shrank dramatically and the townships, for the next 100 years, supported pastoral and agricultural activities. Today the town continues as a centre for its surrounding farming communities and, being one of the best-preserved towns of the Victorian era in Australia, as a historic tourist centre. The Burra Charter, which outlines the best practice standard for cultural heritage management in Australia, is named for a conference held here in 1979 by Australia ICOMOS (International Council on Monuments and Sites) where the document was adopted.',\n",
       " 107: 'Flize is a commune in the Ardennes department in northern France.',\n",
       " 108: \"Gaocheng (Chinese: 藁城) is a district under the administration of Shijiazhuang in southwestern Hebei province, People's Republic of China, on the upper reaches of the Hutuo River (滹沱河). The city has a total area of 836 square kilometres (323 sq mi) and in 2010 had a population of 743,000.\",\n",
       " 109: 'Speedway is a town in Wayne Township, Marion County, Indiana, United States. The population was 11,812 at the 2010 census. Speedway is the home of the Indianapolis Motor Speedway; it is an enclave of Indianapolis.',\n",
       " 110: 'Ébouleau is a commune in the Aisne department in Picardy in northern France.',\n",
       " 111: 'Cantenac, sometimes Cantenac-Margaux, is a commune in the Gironde department in Aquitaine in southwestern France. It is located near Bordeaux.',\n",
       " 112: \"Hassi Messaoud (Arabic: حاسي مسعود) is a town in Ouargla Province, eastern Algeria, located 85 kilometres (53 mi) southeast of Ouargla. As of 2008 it had a population of 45,147 people, up from 40,360 in 1998, and an annual population growth rate of 1.1%, the lowest in the province. Oil was discovered there in 1956 and the town's prominence has grown rapidly since then; it is considered as the First Energy town in Algeria where all the big oil and gas companies have offices and bases. It is an oil refinery town named after the first oil well. A water well, dug in 1917, can be found on the airport side of town. Today there are over 800 wells within a 25 kilometres (16 mi) radius of the town.\",\n",
       " 113: 'Sa Pa (About this sound listen), or Sapa, is a frontier township and capital of Sa Pa District in Lào Cai Province in north-west Vietnam. It is one of the main market towns in the area, where several ethnic minority groups such as Hmong, Dao (Yao), Giáy, Pho Lu, and Tay live.',\n",
       " 114: 'Esquéhéries is a commune in the Aisne department in Picardy in northern France.',\n",
       " 115: \"Shuangcheng District (simplified Chinese: 双城区; traditional Chinese: 雙城區; pinyin: Shuāngchéng Qū) is one of nine districts of Harbin, the capital of Heilongjiang province, People's Republic of China, covering part of the southwestern suburbs. It sits approximately 42 kilometres (26 mi) south-southwest of downtown Harbin. Formerly a county-level city until 15 May 2014. The westernmost county-level division of Harbin City, it borders Daoli District to the north, Nangang and Pingfang Districts to the northeast, Acheng District to the east, and Wuchang to the southeast, as well as the Jilin prefecture-level divisions of Changchun to the south and Songyuan to the southwest.\",\n",
       " 116: 'Güigüe (pronounced Gwigwe) is a city in the south of the Valencia Lake, in Carabobo, Venezuela. It is the capital of the Carlos Arvelo Municipality and of the Güigüe parish. The Güigüe River flows through the city, emptying into Lake Valencia.',\n",
       " 117: 'Lwowiec [ˈlvɔvjɛt͡s] (German Löwenstein) is a village in the administrative district of Gmina Sępopol, within Bartoszyce County, Warmian-Masurian Voivodeship, in northern Poland, close to the border with the Kaliningrad Oblast of Russia. It lies approximately 10 kilometres (6 mi) east of Sępopol, 23 km (14 mi) east of Bartoszyce, and 69 km (43 mi) north-east of the regional capital Olsztyn. Before 1945 the area was part of Germany (East Prussia). Following World War II the native German populace was expelled and replaced by Poles. The village has a population of 220.',\n",
       " 120: \"Eaton is a city in and the county seat of Preble County, Ohio, United States. The population was 8,407 at the 2010 census. Eaton's sister city is Rödental bei Coburg (Germany).\",\n",
       " 121: \"The 2009–10 Tour de Ski took place 1–10 January 2010. The race started in Oberhof, Germany, and ended in Val di Fiemme, Italy. The defending champions are Switzerland's Dario Cologna for the men and Finland's Virpi Kuitunen. This year's event was won by Lukáš Bauer of the Czech Republic for the men and Poland's Justyna Kowalczyk for the women.\",\n",
       " 122: \"Brignano Gera d'Adda is a comune (municipality) in the Province of Bergamo in the Italian region of Lombardy, located about 35 kilometres (22 mi) east of Milan and about 20 kilometres (12 mi) south of Bergamo.\",\n",
       " 123: 'La Ville-aux-Bois-lès-Pontavert is a commune in the Aisne department in Picardy in northern France.',\n",
       " 124: 'La Ferté-Chevresis is a commune in the Aisne department in Picardy in northern France.',\n",
       " 126: 'The Panic of 1857 was a financial panic in the United States caused by the declining international economy and over-expansion of the domestic economy. Because of the interconnectedness of the world economy by the 1850s, the financial crisis that began in late 1857 was the first world-wide economic crisis. In Britain, the Palmerston government circumvented the requirements of the Peel Banking Act of 1844, which required gold and silver reserves to back up the amount of money in circulation. Surfacing news of this circumvention set off the Panic in Britain. Beginning in September 1857, the financial downturn did not last long; however, a proper recovery was not seen until the American Civil War. The sinking of the SS Central America contributed to the panic of 1857, as New York banks were awaiting a much-needed shipment of gold. American banks did not recover until after the civil war. After the failure of Ohio Life Insurance and Trust Company, the financial panic quickly spread as businesses began to fail, the railroad industry experienced financial declines and hundreds of workers were laid off. Since the years immediately preceding the Panic of 1857 were prosperous, many banks, merchants, and farmers had seized the opportunity to take risks with their investments and as soon as market prices began to fall, they quickly began to experience the effects of financial panic.',\n",
       " 127: \"Brumano is a comune (municipality) in the Province of Bergamo in the Italian region of Lombardy, located about 50 kilometres (31 mi) northeast of Milan and about 20 kilometres (12 mi) northwest of Bergamo. As of 31 December 2004, it had a population of 96 and an area of 8.1 square kilometres (3.1 sq mi). Brumano borders the following municipalities: Erve, Fuipiano Valle Imagna, Lecco, Locatello, Morterone, Rota d'Imagna, Valsecca, Vedeseta.\",\n",
       " 128: 'Cheveuges is a commune in the Ardennes department in northern France.',\n",
       " 129: 'Castalia is a city in Winneshiek County, Iowa, United States. The population was 173 at the 2010 census.',\n",
       " 130: 'Chronicles of Ancient Darkness is a series of six historical fantasy novels by the British author Michelle Paver, her first books for children. The books chronicle the adventures of Torak, an adolescent boy from the Wolf Clan, and his friends Renn and Wolf. The main story arc revolves around Torak and his quest to defeat the Soul Eaters, a group of evil clan mages[clarification needed] who seek out to destroy all life in the forest. Paver has called it simply \"a single story: the tale of Torak\\'s discovery of himself and his world.\" Since the 30 May 2004 release of the first book in the series, Wolf Brother, the series has gained critical acclaim and commercial success worldwide. Wolf Brother became a national bestseller in the United States, and the rights to the series were bought by 20th Century Fox to be made into major motion pictures. The books are set 6000 years ago in prehistoric Europe during the Stone Age. The main character, Torak, alone in the world, soon meets a lone wolf cub, Wolf, with whom he can communicate (having spent around three months in a wolf den as a baby). A girl named Renn, who is part of the Raven Clan, soon befriends them and supports them throughout the series. Torak\\'s quest, along with Renn and Wolf, is to defeat the Soul Eaters, a group of former clan mages who have turned to evil, and who seek to control the forest. The story is told from three different third-person narratives: Torak, Renn and Wolf. For the concluding book Ghost Hunter (2009) she won the Guardian Children\\'s Fiction Prize, a once-in-a-lifetime book award judged by a panel of British children\\'s writers.',\n",
       " 131: \"South Portland is a city in Cumberland County, Maine, United States, and is the fourth-largest city in the state, incorporated in 1898. As of the 2010 census, the city population was 25,002. Known for its working waterfront, South Portland is situated on Portland Harbor and overlooks the skyline of Portland and the islands of Casco Bay. Due to South Portland's close proximity to air, marine, rail, and highway transportation options, the city has become a center for retail and industry in the region. Despite the name, South Portland was never part of the city of Portland, having broken away from Cape Elizabeth in 1895. South Portland is a principal city of the Portland – South Portland – Biddeford metropolitan area.\",\n",
       " 132: 'Mozart! is an Austrian musical, originally written in German. The original book and lyrics were written by Michael Kunze and the music and arrangements were composed by Sylvester Levay. The show is a new imagining of the struggles of the famous composer. The original production was directed by the opera director Harry Kupfer. It premiered on October 2, 1999, in the Theater an der Wien, and the final performance was on 7 May 2001. It ran for 419 performances, showing to approximately 420,000 patrons.',\n",
       " 133: 'Little Murray River (New South Wales), an anabranch of the Murray River and part of the Murray-Darling basin, is located in the western Riverina region of south western New South Wales, Australia. The river rises northwest of Barham in New South Wales and flows generally northwest before reaching its confluence with the Murray River near Gonn Crossing in Victoria. Little Murray River and the Murray River enclose Campbells Island, that forms part of the Campbells Island State Forest.',\n",
       " 134: 'The eighth season of American Idol premiered on January 13, 2009, and concluded on May 20, 2009. Judges Simon Cowell, Paula Abdul, and Randy Jackson continued to judge the show\\'s contestants, along with Ryan Seacrest as host. The season introduced Kara DioGuardi as the fourth judge on the Idol panel. It was also Abdul\\'s final season as a judge. Kris Allen, a native of Conway, Arkansas, was announced the winner of the competition on May 20, 2009, defeating runner-up Adam Lambert after nearly 100 million votes. Kris Allen is the only married winner of the competition at the time of his victory. This was the second season where both of the final two contestants had been in the bottom three or two at least once before the finale, with the first being season three. The eighth season saw numerous changes to the format of the show. There were 36 semi-finalists instead of 24, and thirteen finalists instead of twelve, nine contestants chosen by the public and four by the judges in a wild card round. Another addition was the \"save,\" which was used on the top seven results show to veto Matt Giraud\\'s elimination. Seven contestants from this season were signed to record deals. The signed artists are Kris Allen, who was then signed to 19 Entertainment/Jive Records. In addition to Allen, Adam Lambert, Danny Gokey, Allison Iraheta, Lil Rounds, Anoop Desai and Michael Sarver.',\n",
       " 135: 'Pulaski is a city in Davis County, Iowa, United States. The population was 260 at the 2010 census.',\n",
       " 136: 'Tinko is an East German film. It was released in 1957.',\n",
       " 137: 'Fort Atkinson is a city in Winneshiek County, Iowa, United States. The population was 349 at the 2010 census. It is home to the historic Fort Atkinson State Preserve and hosts a large annual fur-trapper rendezvous each September. Fort Atkinson holds the largest regional hay auction every Wednesday.',\n",
       " 138: \"Chaource is a French cheese, originally manufactured in the village of Chaource in the Champagne-Ardenne region. Chaource is a cow's milk cheese, cylindrical in shape at around 10 cm in diameter and 6 cm in height, weighing either 250 or 450 g. The central pâte is soft, creamy in colour, and slightly crumbly, and is surrounded by a white Penicillium candidum rind.\",\n",
       " 139: 'Clarence is a city in Cedar County, Iowa, United States. The population was 974 at the 2010 census.',\n",
       " 140: \"Brusaporto is a comune (municipality) in the Province of Bergamo in the Italian region of Lombardy, located about 50 kilometres (31 mi) northeast of Milan and about 9 kilometres (6 mi) southeast of Bergamo. As of 31 December 2004, it had a population of 4,524 and an area of 5.0 square kilometres (1.9 sq mi). Brusaporto borders the following municipalities: Albano Sant'Alessandro, Bagnatica, Seriate.\",\n",
       " 141: 'Sandstone is a city in Pine County, Minnesota, United States, along the Kettle River. The population was 2,849 at the 2010 census. Interstate 35 and Minnesota State Highways 18 and 23 are three of the main routes in the community. Banning State Park is nearby.',\n",
       " 142: 'Cornay is a commune in the Ardennes department in northern France.',\n",
       " 143: 'Hancock is a city in Pottawattamie County, Iowa, United States, along the West Nishnabotna River. The population was 196 at the 2010 census.',\n",
       " 144: 'Wijlre ([ˈʋilreː or ˈʋilrə]; Limburgish: Wielder) is a village in the Dutch province of Limburg. It is located in the municipality of Gulpen-Wittem. Wijlre was a separate municipality until 1982, when it was merged with Gulpen.',\n",
       " 145: 'Cambridge is a city in Isanti County, Minnesota, United States, located at the junction of Minnesota State Highways 65 and 95. The population was 8,111 at the 2010 census. It is the county seat of Isanti County. It is located along the Rum River and the BNSF Railway. Cambridge is notable for having the highest percentage of Swedish Americans of any city in the United States with a population of over 5,000 people.',\n",
       " 146: \"Cambridge is a city in Story County, Iowa, United States. The population was 827 at the 2010 census. It is part of the Ames, Iowa Metropolitan Statistical Area, which is a part of the larger 'Ames-Boone, Iowa Combined Statistical Area'.\",\n",
       " 147: 'Enschede ([ˈɛnsxəˌdeː]), also known as Eanske [ˈɛːnskə] in the local dialect of Twents, is a municipality and a city in the eastern Netherlands in the province of Overijssel and in the Twente region. The municipality of Enschede consisted of the city of Enschede until 1935, when the rural municipality of Lonneker, which surrounded the city, was annexed after the rapid industrial expansion of Enschede which began in the 1860s and involved the building of railways and the digging of the Twentekanaal.',\n",
       " 148: 'Mechelen (50°48′N5°56′E\\ufeff / \\ufeff50.800°N 5.933°E) (Limburgish: Mechele)) is a town in the Dutch province of Limburg. It is a part of the municipality of Gulpen-Wittem, and lies about 13 km south of Heerlen. In 2001, Mechelen had 1210 inhabitants. The built-up area of the town was 0.24 km², and contained 481 residences.',\n",
       " 149: 'Halstad is a city in Norman County, Minnesota, United States. The population was 597 at the 2010 census.',\n",
       " 150: 'Robert Mallet-Stevens (March 24, 1886 – February 8, 1945) was a French architect and designer. Along with Le Corbusier he is widely regarded as the most influential figure in French architecture in the period between the two World Wars. Mallet-Stevens was born in Paris in a house called Maison-Laffitte (designed by François Mansart in the 17th century). His father and his grandfather were art collectors in Paris and Brussels. He received his formal training at the École Spéciale d\\'Architecture in Paris, during which he wrote Guerande about relationships between the different forms of art. In 1924 he published a magazine called La Gazette Des 7 Arts and at the same time with the help of Ricciotto Canudo founded the Club des amis du 7ème art. A Paris street in the 16th arrondissement, Rue Mallet-Stevens, was built by him in the 1920s and has on it six houses designed by him. In addition to designing shops, factories, a fire station in Paris, apartment buildings, private homes, and interiors, he was one of the first architects to show an interest in cinema. He designed film sets and his design for Marcel L\\'Herbier\\'s silent film L\\'Inhumaine (1924) is considered a masterpiece. Surrealist photographer and filmmaker Man Ray made a film inspired by his design for the buildings named \"Villa Noailles\" entitled The Mysteries of the Château de Dé. During his career he assembled a team of artisans and craftspeople who worked with him: interior designers, sculptors, master glaziers, lighting specialists, and ironsmiths. An example of his collaborative nature is provided by the Union des Artistes Moderne (UAM), formed in 1929 by a group of 25 dissidents of the Société des Artistes-Décorateurs (SAD), and presided over by Robert. Mallet-Stevens ordered that his archives be destroyed upon his death. His wishes were honored and his memory fell into obscurity. A French exhibit of his drawings, models, and actual works at the Centre Pompidou in 2005 sparked public interest in his contributions.',\n",
       " 151: 'Eyota is a city in Olmsted County, Minnesota, United States. The population was 1,977 at the 2010 census.',\n",
       " 152: \"Hamburger University is a 130,000-square-foot (12,000 m2) training facility of McDonald's, located in Oak Brook, Illinois, a western suburb of Chicago. This corporate university was designed to instruct personnel employed by McDonald's in the various aspects of restaurant management. More than 80,000 restaurant managers, mid-managers and owner/operators have graduated from this facility.\",\n",
       " 153: 'Dougherty is a city in Cerro Gordo County, Iowa, United States. The population was 58 at the 2010 census. It is part of the Mason City Micropolitan Statistical Area.',\n",
       " 154: 'Frières-Faillouël is a commune in the Aisne department in Picardy in northern France.',\n",
       " 155: \"The Montreal Light, Heat and Power Company (MLH&P) was a utility company operating the electric and gas distribution monopoly in the area of Montreal, Quebec, Canada, until its nationalization by the government of Quebec in 1944, under a law creating the Quebec Hydroelectric Commission, also known as Hydro-Québec. Hydro-Québec ran both of MLH&P's electric and gas operations until 1957, when its gas properties were sold to the Corporation de gaz naturel du Québec, known today as Gaz Métro. The company was established in 1901 as a result of the merger of Rodolphe Forget's Royal Electric Company and Herbert Samuel Holt's Montreal Gas Company.\",\n",
       " 156: 'Madelia is a city in Watonwan County, Minnesota, United States, along the Watonwan River. The population was 2,308 at the 2010 census.',\n",
       " 157: \"The following contains a list of trading losses of the equivalent of USD100 million or higher. Trading losses are the amount of principal losses in an account. Because of the secretive nature of many hedge funds and fund managers, some notable losses may never be reported to the public. The list is ordered by the real amount lost, starting with the greatest. This list includes both fraudulent and non-fraudulent losses, but excludes losses associated with Bernie Madoff's Ponzi scheme, which is estimated in the $50 billion range, because Madoff did not lose the majority of this money in trading.\",\n",
       " 158: \"The Great Storm of 1987 was a violent extratropical cyclone that occurred on the night of 15–16 October, with hurricane-force winds causing casualties in England, France and the Channel Islands as a severe depression in the Bay of Biscay moved northeast. Among the most damaged areas were Greater London, the East Anglian coast, the Home Counties, the west of Brittany and the Cotentin Peninsula of Normandy which weathered gusts typically with a return period of 1 in 200 years. Forests, parks, roads and railways were strewn with fallen trees, and the British National Grid suffered heavy damage, leaving thousands without power. At least 22 people were killed in England and France, and a gust of 106 kn (196 km/h; 122 mph) was recorded in Gorleston, Norfolk. That day's weather reports had failed to indicate a storm of such severity, an earlier, correct forecast having been negated by later projections. The apparent suggestion by the BBC's Michael Fish of a false alarm is celebrated as a classic gaffe, though he claims he was misquoted. Major improvements were later implemented in atmospheric observation, relevant computer models, and the training of forecasters.\",\n",
       " 159: 'Eveleth is a city in Saint Louis County, Minnesota, United States. The population was 3,718 at the 2010 census. U.S. Highway 53 and State Highway 37 (MN 37) are two of the main routes in Eveleth. The city briefly entered the national news in October 2002 when U.S. Senator Paul Wellstone, along with seven others, died in a plane crash, two miles away from the airport of Eveleth. It was also the site of the conflict that resulted in the court case Jenson v. Eveleth Taconite Co., and the film North Country, which was based on it. Eveleth is home of the United States Hockey Hall of Fame. Eveleth is part of the Quad Cities of Virginia, Gilbert, and Mountain Iron.',\n",
       " 160: 'The Kapoor family is a prominent Indian family from Samundri and Peshawar with a long history in Hindi cinema. Many members of the family have had careers as actors, film directors, and producers.',\n",
       " 161: 'Sint Geertruid (Limburgish: Se-Gietere) is a village in the Dutch province of Limburg. It is located the municipality of Eijsden-Margraten. Sint Geertruid was a separate municipality until 1982, when it was merged with Margraten. The municipality was formed in 1828 from parts of the municipalities of Breust and Eijsden. Part of the Sint Geertruid population centre in the Eijsden-Margraten municipality are also the separately situated townships of: Bruisterbosch (80 inhabitants), Herkenrade (180), Libeek (65) and Moerslag (55). A big part of the \"Savelsbos\" hill side forest is situated in the outlying area of Sint Geertruid.',\n",
       " 163: 'Port Huron is a city in the U.S. state of Michigan and the county seat of St. Clair County. The population was 30,184 at the 2010 census. The city is adjacent to Port Huron Township but is administratively autonomous. Located along the St. Clair River, it is connected to Point Edward, Ontario in Canada via the Blue Water Bridge. The city lies at the southern end of Lake Huron and is the easternmost point on land in Michigan. Port Huron is home to two paper mills; Mueller brass; and many businesses related to tourism and the automotive industry. The city features a historic downtown area, boardwalk, marina, museum, lighthouse, and the McMorran Place arena and entertainment complex.',\n",
       " 164: 'Giraumont is a commune in the Meurthe-et-Moselle department in north-eastern France.',\n",
       " 165: \"Somersworth is a city in Strafford County, New Hampshire, United States. The population was 11,766 at the 2010 census. Somersworth has the smallest area and third-lowest population of New Hampshire's 13 cities.\",\n",
       " 167: \"Falcon Heights is a suburb of Saint Paul and a city in Ramsey County, Minnesota, United States. The population was 5,321 at the 2010 census. It became a village in 1949 and a city in 1973. Falcon Heights is the home of the University of Minnesota's St. Paul Campus and Les Bolstad Golf Course, the Minnesota State Fairgrounds, and the Gibbs Museum of Pioneer and Dakotah Life. University Grove is a neighborhood of Falcon Heights known for modern architecture.\",\n",
       " 168: \"James Polk Latta (October 31, 1844 – September 11, 1911) was a Nebraska Democratic politician. Born near Ashland, Ohio, he moved with his parents to Jackson County, Iowa in 1846. He attended school and worked on a farm. In 1863 he moved to the Nebraska Territory to teach school in Tekamah, Nebraska. He farmed and raised stock in Burt County, Nebraska, eventuality becoming interested in banking. He organized the First National Bank of Tekamah in 1890 and served as its president until his death. He was elected to the Nebraska house of representatives in 1887 and to the Nebraska senate in 1907. He ran and won to represent as a democrat Nebraska's 3rd district to the Sixty-first and Sixty-second Congresses serving from March 4, 1909 to his death on September 11, 1911 in Rochester, Minnesota. He is buried in the Tekamah Cemetery.\",\n",
       " 169: 'Haigneville is a commune in the Meurthe-et-Moselle department in north-eastern France.',\n",
       " 170: 'Rock Falls is a city in Cerro Gordo County, Iowa, United States, along the Shell Rock River. The population was 155 at the 2010 census. It is part of the Mason City Micropolitan Statistical Area.',\n",
       " 171: 'Clemens Victor Ostermann (June 11, 1984 - April 30, 2007) was a German voice actor and musician from Munich. Ostermann was the son of musicians, having been exposed to music since his early childhood. As a musician, Ostermann was a cellist, bassist, singer, and trumpeter in the classical/hip-hop band Einshoch6. Ostermann died unexpectedly from a pneumothorax on April 30, 2007 at the age of 22.',\n",
       " 172: 'Giriviller is a commune in the Meurthe-et-Moselle department in north-eastern France.',\n",
       " 173: 'The Roman Catholic Archdiocese of Vitória (Latin: Archidioecesis Victoriensis Spiritus Sancti) is an archdiocese located in the city of Vitória in Brazil.',\n",
       " 174: \"New Philadelphia is a city in and the county seat of Tuscarawas County, Ohio, United States. The county's largest city, it is located 71 miles (114 km) south of Cleveland and 119 miles (192 km) northeast of Columbus on the Tuscarawas River. It was established in 1804. Because of the presence of coal and clay, early industry in the city centered on mining interests and the manufacturing of steel, canned goods, roofing tile, sewer pipe, bricks, vacuum cleaners, stovepipes, carriages, flour, brooms, and pressed, stamped, and enameled goods. The population was 17,288 at the 2010 census. New Philadelphia is adjacent to the city of Dover, which is almost the same size. It is one of the principal cities of the New Philadelphia–Dover, OH Micropolitan Statistical Area, which includes all of Tuscarawas County, and is part of the larger Cleveland–Akron–Canton, OH Combined Statistical Area.\",\n",
       " 175: 'Radio 1 is a radio network in Norway. It broadcasts programmes on FM Oslo, Bergen and Trondheim and on DAB nationally. It is operated by Bauer Media AS. It targets a relatively young and trendy audience.',\n",
       " 176: 'Novion-Porcien is a commune in the Ardennes department in northern France.',\n",
       " 177: 'Kalona is a city in Washington County, Iowa, United States. It is part of the Iowa City, Iowa Metropolitan Statistical Area. The population was 2,363 at the 2010 census. Kalona is the second largest city in Washington County.',\n",
       " 178: 'Halvor Næs (born 5 April 1927 in Trysil) is a Norwegian former ski jumper who competed in the 1950s. His only victory was in 1953 and he finished fifth in the individual large hill event at the 1952 Winter Olympics in Oslo. Næs was awarded the Holmenkollen medal in 1964 (shared with Veikko Kankkonen, Eero Mäntyranta, and Georg Thoma).',\n",
       " 179: 'Haudonville is a commune in the Meurthe-et-Moselle department in north-eastern France.',\n",
       " 181: 'Halloville is a commune in the Meurthe-et-Moselle department in north-eastern France.',\n",
       " 182: 'Diguel is a department or commune of Soum Province in north-western Burkina Faso. Its capital lies at the town of Diguel.',\n",
       " 183: 'The General Dynamics F-16 Fighting Falcon is a single-engine multirole fighter aircraft originally developed by General Dynamics (now Lockheed Martin) for the United States Air Force (USAF). Designed as an air superiority day fighter, it evolved into a successful all-weather multirole aircraft. Over 4,500 aircraft have been built since production was approved in 1976. Although no longer being purchased by the U.S. Air Force, improved versions are still being built for export customers. In 1993, General Dynamics sold its aircraft manufacturing business to the Lockheed Corporation, which in turn became part of Lockheed Martin after a 1995 merger with Martin Marietta. The Fighting Falcon has key features including a frameless bubble canopy for better visibility, side-mounted control stick to ease control while maneuvering, a seat reclined 30 degrees to reduce the effect of g-forces on the pilot, and the first use of a relaxed static stability/fly-by-wire flight control system which helps to make it a nimble aircraft. The F-16 has an internal M61 Vulcan cannon and 11 locations for mounting weapons and other mission equipment. The F-16\\'s official name is \"Fighting Falcon\", but \"Viper\" is commonly used by its pilots and crews, due to a perceived resemblance to a viper snake as well as the Battlestar Galactica Colonial Viper starfighter. In addition to active duty U.S. Air Force, Air Force Reserve Command, and Air National Guard units, the aircraft is also used by the USAF aerial demonstration team, the U.S. Air Force Thunderbirds, and as an adversary/aggressor aircraft by the United States Navy. The F-16 has also been procured to serve in the air forces of 25 other nations. As of 2015, it is the second most common currently operational military aircraft in the world.',\n",
       " 184: 'Logobou is a department or commune of Tapoa Province in eastern Burkina Faso. Its capital lies at the town of Logobou.',\n",
       " 186: \"The crimson-breasted shrike (Laniarius atrococcineus) or the crimson-breasted gonolek, ('gonolek' - supposedly imitative of its call), is a southern African bird. The species is closely related to two other bushshrikes, the yellow-crowned gonolek (Laniarius barbarus) and the black-headed gonolek (Laniarius erythrogaster) of East Africa.\",\n",
       " 187: 'Bekuy is a department or commune of Tuy Province in southern Burkina Faso. Its capital lies at the town of Bekuy.',\n",
       " 188: 'Epinephelus ongus, commonly called White-streaked grouper or Specklefin grouper among various other vernacular names, is a species of marine fish in the family Serranidae. The White-streaked grouper is widespread throughout the tropical waters of the Indo-West Pacific area from the eastern coast of Africa to the Tonga Islands but is not present in the Red Sea. This grouper is a medium sized fish, it can grow up to 40 centimetres (16 in) length. Groupers, as other fish, have usually a number of parasites. Not much is known about the parasitological fauna of the white-streaked grouper. In New Caledonia, it has a diplectanid monogenean on its gills, Pseudorhabdosynochus quadratus, which is specific to it.',\n",
       " 189: \"N'dorola is a department or commune of Kénédougou Province in south-western Burkina Faso. Its capital lies at the town of N'dorola .\",\n",
       " 190: 'Mariusz Ziółko (born September 18, 1946 in Hamburg) is a Polish Professor of automatics and signal processing. He graduated in 1970 from AGH University of Science and Technology, where he also received PhD in 1973 and habilitation in 1990. In 2001 he received a title of a professor of technical studies from a president of Poland. He was a DAAD stipendist at University of Wuppertal. He was a visiting professor at Fachhochule St. Pölten at Austria in 2005. He is a professor in AGHDepartment of Electronics, where he leads a Digital Signal Processing Group. He was a member of several scientific organisations including IEEE, SIAM, EURASIP, ISCA and a chair of several conferences. He is a coauthor of pioneer publications from mathematical optimization models in biology. His works had also an important impact on Polish speech recognition technologies.',\n",
       " 192: 'Guiaro is a department or commune of Nahouri Province in southeastern Burkina Faso. Its capital is the town of Guiaro.',\n",
       " 194: 'Cantherhines pardalis is a species of fish in the family Monacanthidae, the filefishes. Common names include honeycomb filefish, honeycomb leatherjacket, and wire-netting filefish. It is native to the Indian Ocean, the eastern Atlantic, and the western Pacific, except for the seas around Hawaii, where it is replaced by Cantherhines sandwichiensis.',\n",
       " 195: 'Miguel Molina (born July 22, 1984 in Quezon City, National Capital Region) is a swimmer from the Philippines. He is a national record-holder in the 200- and 400-meter individual medley. He is a much-bemedalled swimmer in SEAG competitions, having won 11 golds in all. He twice competed in the Asian Games – in Doha in 2006 and Guangzhou in 2010 – but had to settle for fourth in Doha and fifth in Guangzhou in his favorite 400m IM. He also competed in two Olympics, 2004 Athens and 2008 Beijing, but could not advance past the qualifying races.',\n",
       " 196: 'Canthidermis maculata, also known as rough triggerfish or spotted oceanic triggerfish, is a species of triggerfish native to the tropical and subtropical oceans worldiwide. Unlike most triggerfish, they are mostly pelagic. In the Philippines, it is locally called as Tikos in the Cebuano language and is abundant in the Visayas and Mindanao island groups.',\n",
       " 197: 'Jörg Hube (22 November 1943-19 June 2009) was a German actor and director. He died of cancer.',\n",
       " 198: 'Gbomblora is a department or commune of Poni Province in southern Burkina Faso. Its capital lies at the town of Gbomblora.',\n",
       " 199: 'Baffie is a commune in the Puy-de-Dôme department in Auvergne in central France.',\n",
       " 200: 'Laye is a department or commune of Kourwéogo Province in central Burkina Faso. Its capital lies at the town of Laye. According to the 1996 census the department has a total population of 11,915.',\n",
       " 201: 'Dimmuborgir (dimmu \"dark\", borgir \"cities\" or \"forts\", \"castles\"); pronounced [tɪmʏpɔrcɪr]) is a large area of unusually shaped lava fields east of Mývatn in Iceland. The Dimmuborgir area is composed of various volcanic caves and rock formations, reminiscent of an ancient collapsed citadel (hence the name). The dramatic structures are one of Iceland\\'s most popular natural tourist attractions.',\n",
       " 203: 'Kirsi is a department or commune of Passoré Province in north central Burkina Faso. Its capital lies at the town of Kirsi.',\n",
       " 204: 'Koloko is a department or commune of Kénédougou Province in south-western Burkina Faso. Its capital lies at the town of Koloko.',\n",
       " 205: 'Klaus Wagner (16 January 1922 – 16 August 2001) was a German equestrian. He competed in equestrian at the 1952 Summer Olympics in Helsinki, where he won a silver medal in the team eventing, and placed fifth in the individual contest. He competed in equestrian at the 1956 Summer Olympics in Stockholm, where he won a silver medal in the team competition in eventing (along with August Lütke-Westhues and Otto Rothe).',\n",
       " 206: 'Legmoin is a department or commune of Noumbiel Province in south-eastern Burkina Faso. Its capital lies at the town of Legmoin.',\n",
       " 207: 'Helbert Frederico Carreiro da Silva, commonly known as Fred (born 18 August 1979 in Belo Horizonte) is a Brazilian footballer currently signed for MLS club Philadelphia Union. Carreiro has also played for Australian A-League side Melbourne Heart, MLS side D.C. United, and Brazilian side América among other clubs.',\n",
       " 208: 'Guiba is a department or commune of Zoundwéogo Province in central Burkina Faso. It is located directly east of Nobere Department.',\n",
       " 209: 'Haaksbergen (About this sound pronunciation ) is a municipality and a town in the eastern Netherlands, in the province of Overijssel, in the Twente region. The Buurserbeek flows through the municipality of Haaksbergen.',\n",
       " 210: 'Alfred Ter-Mkrtychyan (Armenian: Ալֆրէդ Տէր-Մկրտչյան, born March 19, 1971 in Yerevan, Armenian SSR) is a former Armenian Greco-Roman wrestler for the Soviet Union and later Germany.',\n",
       " 211: 'The Land Rover Series I, II, and III (commonly referred to as series Land Rovers, to distinguish them from later models) are off-road vehicles produced by the British manufacturer Land Rover that were inspired by the US-built Willys Jeep. In 1992, Land Rover claimed that 70% of all the vehicles they had built were still in use. Series models feature leaf-sprung suspension with selectable two or four-wheel drive (4WD); though the Stage 1 V8 version of the Series III featured permanent 4WD. All three models could be started with a front hand crank and had the option of a rear power takeoff for accessories.',\n",
       " 212: 'Tansarga is a department or commune of Tapoa Province in eastern Burkina Faso. Its capital lies at the town of Tansarga.',\n",
       " 213: 'Operation Sky Monitor was a NATO mission to monitor unauthorized flights in the airspace of Bosnia-Herzegovina during the Bosnian War. The operation began in response to United Nations Security Council Resolution 781, which established a ban on the use of military aircraft in Bosnian airspace, and requested the aid of member states in monitoring compliance. Beginning on October 16, 1992, NATO monitored violations of the no-fly zone using E-3 Sentry NAEW aircraft based in Germany, Italy, Greece, and the United Kingdom. The operation documented more than 500 violations of the no-fly zone by April 1993. In response to this high volume of unauthorized flights, the Security Council passed Resolution 816, which authorized NATO to enforce the no-fly zone, and engage violators. In response, NATO deactivated Sky Monitor on April 12, 1993, transferring its forces to the newly established Operation Deny Flight.',\n",
       " 214: 'Samorogouan is a department or commune of Kénédougou Province in south-western Burkina Faso. Its capital lies at the town of Samorogouan .',\n",
       " 216: 'Sandgate is a village in the Folkestone and Hythe Urban Area in the Shepway district of Kent, England. In 2004, the village re-acquired civil parish status. The civil parish shares the boundaries of Folkestone Sandgate ward, at 2.17 km2 (0.84 sq mi). It had a population of 4,225 at the 2001 census. It is the site of Sandgate Castle, a Device Fort. H.G. Wells lived at Spade House, and it was also the birthplace of comedian Hattie Jacques. The Morcheeba song \"The Sea\" is written about the beachside bar \\'Bar Vasa\\'. Sandgate Hotel appeared on the Channel 4 programme Ramsay\\'s Kitchen Nightmares on 27 February 2006. Other pubs include The Ship Inn, The Providence Inne, The Clarendon Inn and The Royal Norfolk Hotel. Sandgate was an urban district from 1894 to 1934 (having previously been part of Cheriton parish). It was added to Folkestone in 1934. The Sandgate branch railway line was opened in 1874 and closed to passengers in 1951. Little of the infrastructure now remains, but it is still possible to see the remains of a tall overbridge at the bottom of Hospital Hill. Sandgate has become known for Dave the Dolphin, seen out in the bay between Folkestone and Hythe. Sandgate is the location of the Shorncliffe Redoubt, a Napoleonic era earthwork fort associated with Sir John Moore and the 95th Regiment of Foot, known as the 95th Rifles. St Paul\\'s Church lies next to the Saga building, which is built on the site of Enbrook House. Sandgate Primary School lies on Coolinge Lane between the Folkestone School for Girls and Eversley College. The old school building is located in the village on Sandgate Road close to Spade House. Folkestone Rowing Club is in Sandgate. There are a number of pubs in Sandgate, including The Ship, The Providence Inne and The Earl of Clarendon. Inn Doors opened on Aug 28th 2015. This is a micropub offering local beers and ciders. The Hub bicycle shop closed in 2014. Its premises have now been split between the Loaf coffee shop and the Ship Inn. As of Sept 2015, the half now managed by the Ship was undergoing refurbishment. The Brisbane suburb with the same name is named after the town. There is also a Brisbane suburb called Shorncliffe, which is adjacent to Sandgate.',\n",
       " 217: 'Thomas G. \"Tom\" O\\'Donnell (born 30 August 1926) is a former Irish Fine Gael politician. He was born at Bulgaden, County Limerick and was educated at the Crescent College, Salesian College and University College Dublin where he received a Bachelor of Arts degree. He worked as a teacher and a voluntary community activist before becoming involved in politics. O\\'Donnell was first elected to Dáil Éireann at the 1961 general election as a Fine Gael Teachta Dála (TD) for Limerick East. He was Opposition Front Bench spokesperson on Transport, Power and Tourism from 1969 to 1973. He served in the government on one occasion in the National Coalition under Taoiseach Liam Cosgrave between 1973 and 1977 as Minister for the Gaeltacht. He was Opposition Front Bench spokesperson on Telecommunications from 1977–1979. O\\'Donnell was elected to the European Parliament at the 1979 elections. He retired from national politics following the 1987 general election when he lost his seat. He was spokesperson on Regional Policy for the European People\\'s Party (EPP) from 1979 to 1989. After his retirement from politics he subsequently became actively involved in the voluntary sector. He was Chairperson of the Limerick Peace Institute at the University of Limerick, Chairperson of the PAUL Partnership, Chairperson to the Limerick City and County Strategy Group and the Limerick Employment Pact. He was honoured by Limerick City Council with a civic reception and a special presentation in 2005 to mark his half a century of his political and voluntary services to the people of Limerick City and County. He is married to Helen O\\'Connor from Sligo, former Honorary National Secretary of Fine Gael and they have one son. His uncle Richard O\\'Connell was a Cumann na nGaedheal TD for Limerick from 1924 to 1932 and his nephew Kieran O\\'Donnell is a TD for Limerick since 2007.',\n",
       " 218: 'Springhill is a Canadian community located in central Cumberland County, Nova Scotia. It is administratively part of the Municipality of the County of Cumberland. The community was originally named \"Springhill Mines. \" Coal mining lead to economic growth, with its incorporation as a town in 1889. All coal mining ceased in the area by the early 1970s and Springhill entered an economic decline, culminating in the decision to dissolve as a town in 2015, and merge into the Municipality of the County of Cumberland. The community is famous for both the Springhill Mining Disaster and being the childhood home of international recording star Anne Murray, who is honoured by the Anne Murray Centre, a popular local tourist attraction.',\n",
       " 219: 'Aulhat-Saint-Privat is a former commune in the Puy-de-Dôme department in Auvergne in central France. On 1 January 2016, it was merged into the new commune of Aulhat-Flat.',\n",
       " 220: 'Oost-Maarland is a place in the south east of the European country The Netherlands. There it is an administrative population centre in the Eijsden-Margraten municipality, which forms part of the Province of Limburg. In fact Oost-Maarland consists of two separate places with a different history. One is the village and former municipality of Oost, whereas the other is an in a distance of a few hundred metres separately to the southeast situated township called Maarland. Oost-Maarland is located some 3 km north of Eijsden, the biggest place in the municipality and 7 kilometers (4.3 mi) south of Maastricht, the provincial capital. In the west it borders the Meuse river, in its northeast Rijckholt and in its east and southeast the Sint Geertruid part of the Savelsbos hillside forest, which is part of the \"Margraten plateau\". In between Maarland and this forest since a few decennia passes the E25 highway. In between Oost and Maarland passes the railroad Liege-Maastricht. The former station on this location however doesn\\'t exist any more. Of the total number of about 960 inhabitants Oost has some more than 600 and Maarland some more than 300.',\n",
       " 221: 'Mission San Francisco de Asís, or Mission Dolores, is the oldest surviving structure in San Francisco and the seventh religious settlement established as part of the California chain of missions. The Mission was founded on June 29, 1776, by Lieutenant José Joaquin Moraga and Francisco Palóu (a companion of Junípero Serra), both members of the de Anza Expedition, which had been charged with bringing Spanish settlers to Alta (upper) California, and evangelizing the local Natives, the Ohlone.',\n",
       " 222: 'Bromont-Lamothe is a commune in the Puy-de-Dôme department in Auvergne in central France. It is the birthplace of the French film director Robert Bresson.',\n",
       " 223: 'Yengema is a diamond mining town in Nimikoro Chiefdom, Kono District in the Eastern Province of Sierra Leone, lying approximately 30 miles (48 km) from Koidu Town (the largest city in Kono District), and about 260 miles (420 km) east of Freetown. The major industry in and around Yengema is diamond mining. The town is home to Yengema Airport, the main airport serving Kono District. A 2012 estimate of Yengema population was 13,358 people. The population of Yengema is ethnically diverse, though the majority of its residents are ethnic Mandingo and Kono. . The primary language of communication in Yengema is the Krio language, which is widely spoken in the town. Yengema is home to the Yengema Secondary School (commonly known as YSS), and is among the most prominent secondary schools in Sierra Leone. Before the civil war, Yengema was one of the most populous cities in Eastern Sierra Leone. During the Sierra Leone civil war, Yengema was heavily damaged and constantly fought over due to the rich diamond reserves in the area. This forced many of the residents to flee the city.',\n",
       " 224: 'Noorbeek (Limburgish: Norbik) is a village in the Dutch province of Limburg. It is located in the municipality of Eijsden-Margraten (Limburgish: Megraote) and about 12 km southeast of Maastricht. Noorbeek is one of the southernmost villages of the Netherlands. Noorbeek was a separate municipality until 1982, when it was merged with Margraten. It is part of the Mergellandroute.',\n",
       " 225: 'Champagnat-le-Jeune is a commune in the Puy-de-Dôme department in Auvergne in central France.',\n",
       " 226: 'Huancavelica ([waŋkaβeˈlika]) or Wankawilka in Quechua is a city in Peru. It is the capital of the Huancavelica region and according to the 2007 census had a population of 40,004 people (41,334 in the metropolitan area). The city was established on August 5, 1572 by the Viceroy of Peru Francisco de Toledo. Indigenous peoples represent a major percentage of the population. It has an approximate altitude of 3,660 meters; the climate is cold and dry between the months of February and August with a rainy season between September and January. It is considered one of the poorest cities in Peru.',\n",
       " 227: 'Tandil is the main city of the homonymous partido (department), located in Argentina, in the southeast of Buenos Aires Province, just north-northwest of the Tandilia hills.',\n",
       " 228: 'Mheer (Limburgish: Maer) is a village in the Dutch province of Limburg. It is located in the municipality of Eijsden-Margraten and about 12 km southeast of Maastricht. Mheer was a separate municipality until 1982, when it was merged with Margraten. The municipality also covered Banholt and Terhorst.',\n",
       " 229: 'Chambon-sur-Dolore is a commune in the Puy-de-Dôme department in Auvergne in central France.',\n",
       " 230: 'Ilo is a port city in southern Peru, with some 67,000 inhabitants. It is the second city in the Moquegua Region and capital of the Ilo Province.',\n",
       " 231: 'Dollie de Luxe were a Norwegian pop duo consisting of Benedicte Adrian(lead vocal) and Ingrid Bjørnov(keyboard and vocal). Their debut album Første Akt from 1980 was awarded Spellemannprisen. They participated in the Eurovision Song Contest 1984 with the song \"Lenge leve livet\". The duo Dollie was formed in 1980, and from 1984 called Dollie de Luxe. In 1985 they scored a Top 20 hit in France with their single \"Queen of the Night/Satisfaction\". Their musical Which Witch premiered at Bergen International Festival in 1987. The musical was staged at a West End theatre in London in 1992, with 76 performances. In 1995 they toured with the musical Henriette og hennes siste ekte menn, and also released the album Prinsessens utvalgte with selections from the musical. They were Norway\\'s Eurovision Song Contest contestants in 1984.',\n",
       " 232: 'Chidrac is a commune in the Puy-de-Dôme department in Auvergne in central France.',\n",
       " 233: 'Moquegua ([moˈkeɣwa], founded by the Spanish colonists as Villa de Santa Catalina de Guadalcázar del Valle de Moquegua) is a city in southern Peru, located in the Moquegua Region, of which it is the capital. It is also capital of Mariscal Nieto Province and Moquegua District. It is located 1144 kilometers south of the capital city of Lima.',\n",
       " 234: 'Franz Bernhard Heinrich Wilhelm Freiherr von Gaudy (19 April 1800 Frankfurt (Oder) – 5 February 1840 Berlin) was a German poet and novelist. His family came from Scotland. He got his education first in the Collège Français in Berlin, then in Schulpforta. In 1818 he entered the Prussian army, but applied for his discharge in 1833 in favor of the life of a free writer. In 1833 and 1835 he traveled to Italy. In his poems, he first imitated Heinrich Heine, later Pierre-Jean de Béranger. After Gustav Schwabs retirement he was the editor of the Deutscher Musenalmanach(1839) along with Adelbert von Chamisso.',\n",
       " 235: 'Espinchal is a commune in the Puy-de-Dôme department in Auvergne in central France.',\n",
       " 236: 'Kitakawabe (北川辺町 Kitakawabe-machi) was a town located in Kitasaitama District, Saitama Prefecture, Japan. As of June 1, 2009, the town had an estimated population of 12,763 and a density of 608 persons per km². The total area was 21.00 km². On March 23, 2010, Kitakawabe, along with the towns of Kisai and Ōtone (all from Kitasaitama District), was merged into the expanded city of Kazo. Kitasaitama District was dissolved as a result of this merger.',\n",
       " 237: \"Reckless is a 2010 young adult novel by Cornelia Funke and Lionel Wigram. It is the first book in her new MirrorWorld series, and her first novel since Inkdeath (2008). Published on 14 September 2010, Reckless was inspired by the tales of the Brothers Grimm. Lionel Wigram helped to develop Reckless with Funke. The combined printing run for the first hardcover edition was 1,000,000 copies. In Germany, Cornelia Funke's home country, Reckless debuted at #1 on the best-seller list. A sequel, Fearless, has been released on September 16, 2012.\",\n",
       " 238: 'Krabi Town (Thai: กระบี่) is the main town in the province of Krabi (thesaban mueang) on the west coast of southern Thailand at the mouth of the Krabi River where it empties in Phang Nga Bay. As of 2010 the town had a population of 52,867. The town is the capital of Krabi Province and Krabi District. Tourism is an important industry. Krabi is 783 km south of Bangkok by road.',\n",
       " 239: \"The Syro-Malabar Catholic Archeparchy of Thalassery (anglicised - Tellicherry) is an archeparchy of the Syro-Malabar Church, which is an Eastern Rite Catholic Church in communion with the See of Rome. The boundaries of the Thalassery ecclesiastical province were extended to include Mangalore, Chickamangalore, Mysore, Shimoga and Ootty as there were settlers in the neighbouring States. The diocese covers an area of 18,000 km² and a Catholic population of 273,826. The ecclesiastical province of Thalassery came into existence on December 31, 1953 through the Papal bull `Ad Christi Ecclesiam Regendam' issued by Pope Pius XII. Sebastian Valloppilly was appointed the Apostolic Administrator. He is Bishop Emeritus since March 1989. George Valiamattom was the first Archbishop. The ecclesiastical province was divided into the Diocese of Mananthavady and Diocese of Thalassery in 1973 and in 1986, the diocese of Thamarassery was erected. From 2014 onwards, Mar George Njaralakatt is serving as the Archbishop. In 1995, the Thalassery diocese was uplifted as an archdiocese. In 1999, the Diocese of Belthangady was created to serve the needs of the Syrian Catholics of Dakshin Kannada, Udupi and Kodagu in Karnataka.\",\n",
       " 240: 'Bastiglia is a comune (municipality) in the Province of Modena in the Italian region Emilia-Romagna, located about 40 kilometres (25 mi) northwest of Bologna and about 11 kilometres (7 mi) northeast of Modena. As of 31 December 2004, it had a population of 3,555 and an area of 10.5 square kilometres (4.1 sq mi). The municipality of Bastiglia contains the frazione (subdivision) San Clemente. Bastiglia borders the following municipalities: Bomporto, Modena, Soliera.',\n",
       " 241: 'Foug is a commune in the Meurthe-et-Moselle department in north-eastern France.',\n",
       " 242: 'Buckypaper is a thin sheet made from an aggregate of carbon nanotubes or carbon nanotube grid paper. The nanotubes are approximately 50,000 times thinner than a human hair. Originally, it was fabricated as a way to handle carbon nanotubes, but it is also being studied and developed into applications by several research groups, showing promise as vehicle armor, personal armor, and next-generation electronics and displays.',\n",
       " 243: 'Międzybórz [mjɛnˈd͡zɨbuʂ] is a village in the administrative district of Gmina Opoczno, within Opoczno County, Łódź Voivodeship, in central Poland. It lies approximately 5 kilometres (3 mi) north-east of Opoczno and 73 km (45 mi) south-east of the regional capital Łódź. Country has a neighbour of villages such as Mos Załężna, Sobawiny, Libiszów. By Międzybórz the east side of the river flows Drzewiczka. In the years 1975-1998 town administratively belonged to the administrative region piotrkowskiego. The village has an approximate population of 300.',\n",
       " 244: 'John Paul \"Bucky\" Pizzarelli (born January 9, 1926) is an American jazz guitarist and banjoist, and the father of jazz guitarist John Pizzarelli and upright bassist Martin Pizzarelli. Pizzarelli has also worked for NBC as a staffman for Dick Cavett (1971) and also ABC with Bobby Rosengarden in (1952). The list of musicians Pizzarelli has collaborated with over his career includes Les Paul, Stephane Grappelli, and Benny Goodman. Pizzarelli acknowledges Django Reinhardt, Freddie Green, and George Van Eps for their influences on his style and mode of play.',\n",
       " 245: 'Buco-Zau is a town and municipality in Cabinda Province in Angola.',\n",
       " 246: 'Collanges is a commune in the Puy-de-Dôme department in Auvergne in central France.',\n",
       " 247: 'Margraten (About this sound pronunciation ) (Limburgish: Mergraote) is a village and a former municipality in the southeastern part of the Netherlands. On January 1, 2011, this former municipality merged with a neighbouring one, which resulted in the new Eijsden-Margraten municipality.',\n",
       " 248: 'The order Pinales in the division Pinophyta, class Pinopsida, comprises all the extant conifers. This order used to be known as the Coniferales. The distinguishing characteristic is the reproductive structure known as a cone produced by all Pinales. All of the extant conifers, such as cedar, celery-pine, cypress, fir, juniper, larch, pine, redwood, spruce, and yew are included here. Some fossil conifers, however, belong to other distinct orders within the division Pinophyta. The yews had been separated into a distinct order of their own (Taxales), but genetic evidence indicates yews are monophyletic with other conifers and they are now included in the Pinales. The families included are the Araucariaceae, Cephalotaxaceae, Cupressaceae, Pinaceae, Podocarpaceae, Sciadopityaceae, and Taxaceae.',\n",
       " 250: \"Mandalgovi (Mongolian: Мандалговь; ᠮᠠᠨᠳᠠᠯᠭᠣᠪᠢ; also Mandalgov' or Mandalgobi) is the capital of the Dundgovi Province of Mongolia, about 300 km south of Ulaanbaatar on the border of the Gobi Desert. It has 10,506 inhabitants (2005), 10,299 (2007). The city administrative unit's official name is Saintsagaan sum.\",\n",
       " 251: 'Beurières is a commune in the Puy-de-Dôme department in Auvergne in central France.',\n",
       " 252: \"Ferdinand Léopold Oyono (14 September 1929 – 10 June 2010) was an author from Cameroon whose work is recognised for a sense of irony that reveals how easily people can be fooled. Writing in French in the 1950s, Oyono had only a brief literary career, but his anti-colonialist novels are considered classics of 20th century African literature; his first novel, Une vie de boy—published in 1956 and later translated as Houseboy—is considered particularly important. Beginning in the 1960s, Oyono had a long career of service as a diplomat and as a minister in the government of Cameroon. As one of President Paul Biya's top associates, he ultimately served as Minister of Foreign Affairs from 1992 to 1997 and then as Minister of State for Culture from 1997 to 2007.\",\n",
       " 253: 'Bomporto is a comune (municipality) in the Province of Modena in the Italian region Emilia-Romagna, located about 35 kilometres (22 mi) northwest of Bologna and about 12 kilometres (7.5 mi) northeast of Modena. As of 31 December 2010, it had a population of 9,748 and an area of 39.1 square kilometres (15.1 sq mi). The municipality of Bomporto contains the frazioni (subdivisions, mainly villages and hamlets) Gorghetto, San Michele, Solara, Sorbara, and Villavara. Bomporto borders the following municipalities: Bastiglia, Camposanto, Medolla, Modena, Nonantola, Ravarino, San Prospero, Soliera.',\n",
       " 254: 'Ulanhot (Mongolian: ᠤᠯᠠᠭᠠᠨᠬᠣᠲᠠ; Cyrillic: Улаан хот; Latin transliteration: Ulaγan qota; Chinese: 乌兰浩特; pinyin: Wūlánhàotè; literally: \"red town\"), formerly known as Wangin Süm, alternatively Wang-un Süme, Ulayanqota (Red City) in Classical Mongolian, and Wangyehmiao or Wangyemiao (Chinese: 王爺廟) in Chinese prior to 1947, is a county-level city and the administrative center of Hinggan League in the East of Inner Mongolia autonomous region. Between the years 1947 and 1950, Ulanhot was the capital of Inner Mongolia Region. In 1950, the capital moved to Zhangjiakou and then again in 1952 it moved to Hohhot, which remains the capital to this day. The city is connected to Baicheng, Jilin by the Baicheng–Arxan railway (Chinese: 白阿铁路), which runs through the pass south of Ulanhot[citation needed]. China\\'s National Highway 302 runs from Tumen, Jilin to Ulanhot. In the 7918 Network of Highways it will be on the route from Hunchun to Ulanhot [clarification needed]. The city is also served by Ulanhot Airport (ICAO code ZBUL, IATA code HLH). Routes flown by Air China and Hainan Airlines connect Ulanhot with Beijing Capital International Airport and Honhot. Just outside the city is a tomb from the Yuan dynasty and a temple dedicated to Genghis Khan. The temple was constructed in 1940. In the year 2002 it received funds for significant expansion.',\n",
       " 255: \"Bucoli is a suco (municipality) in Baucau Subdistrict, Baucau District, East Timor and also a settlement in the Bucoli Suco. As of 2010 there were 2179 inhabitants and 372 households in Bucoli Suco. 85 % in Bucoli are speaking Waima'a language as mother tongue. Bucoli was the home of guerrilla warrior Vicente dos Reis and has a symbolic status in East Timorese nationalism. National Unity of Timorese Resistance (Portuguese: União Nacional Democrática de Resistência Timorense (UNDERTIM)) chose to establish its first headquarters in Bucoli in 2005 because of the role of the village in the history of the East Timorese resistance movement.\",\n",
       " 256: 'Campogalliano is a comune (municipality) in the Province of Modena in the Italian region Emilia-Romagna, located about 45 kilometres (28 mi) northwest of Bologna and about 8 kilometres (5 mi) northwest of Modena. As of 31 December 2004, it had a population of 8,044 and an area of 35.0 square kilometres (13.5 sq mi). Campogalliano borders the following municipalities: Carpi, Correggio, Modena, Rubiera, San Martino in Rio.',\n",
       " 257: 'Erdenedalai (Mongolian: Эрдэнэдалай, Jewel ocean) is a sum (district) and town of Dundgovi Province in central Mongolia. Erdenedalai sum is the second most populous sum of Dundgovi Province after Saintsagaan (the latter including the aimag capital Mandalgovi). Gimpil Darjaalan Khiid is a sightworthy monastery in the town of Erdenedalai, the administration center of the sum. The monastery was built at the end of the 18th century, and about 500 monks lived there. In 1937, it was one of the very few monasteries and temples which were not destroyed under the rule of Chorloogiin Choibalsan, but the monastery was closed and used as a store house thereafter. In 1990, it was reopened. The current Dalai Lama visited it in 1992. There are several shops, a health clinic, kindergarten and a hotel in Erdenedalai. Two parks with a memorial were laid out opposite the administration building of the sum although it is very difficult to take care of trees and bushes in the dry climate.',\n",
       " 258: \"This Modern Age is a 1931 American Pre-Code Metro-Goldwyn-Mayer feature film directed by Nick Grinde starring Joan Crawford, Neil Hamilton, Pauline Frederick and Albert Conti. The film was based upon the story Girl's Together by Mildred Cram, and follows the story of a socialite girl deciding between the social sins of her mother and a comfortable life in the arms of a rich suitor.\",\n",
       " 259: 'Eddie Doyle Meador (born August 10, 1937 in Dallas, Texas) is a former professional American football defensive back for the Los Angeles Rams from 1959 to 1970.',\n",
       " 260: 'The Monte Viso Tunnel (Italian: Buco di Viso) is an Alpine tunnel built during the Renaissance and located eight kilometres north of Monviso (Cottian Alps), northern Italy. It is 75 m long, 3 m wide, and located at 2,882 metres linking the modern Italian province of Cuneo and the French department of Hautes-Alpes. The tunnel was built between 1478 and 1480 by order of Ludovico II, marquis of Saluzzo, in collaboration with Louis XI of France, to connect the Dauphiné and Provence to his domains. It was used mostly for trade - salt and cloth from France, rice, wool and animal skins from Italy - and the neighbouring communities in the Guil valley (France) and Po valley (Italy) benefited considerably. But the tunnel also saw military use. In 1486 Ludovico II escaped through the tunnel to France when he fled Saluzzo; and according to certain historians, the French king Francois I led his artillery through the tunnel in 1525 in order to attack the emperor Charles V. It is likely that other French kings including Charles VIII and Louis XII also passed through the tunnel on their way to Italy. However, while neighbouring communities continued to value the tunnel for the increased trade that it enabled, it was frequently closed during the following centuries through landslides and rockfalls. Moreover, after Charles Emmanuel of Savoy conquered the Marquisate of Saluzzo, he decided to close the tunnel permanently. In 1998 the tunnel was cleared and reopened under the auspices of the Rotary Club of Saluzzo, who have erected information panels at both entrances (from which the above historical information is taken). Access to the tunnel is still occasionally obstructed by rockfalls, but the route is now an established link within the network of mountain paths in the Monte Viso-Queyras-upper Po valley district, as an alternative to crossing the summit of the Col de la Traversette (2947m).',\n",
       " 261: 'Bongheat is a commune in the Puy-de-Dôme department in Auvergne in central France.',\n",
       " 262: 'Camposanto is a comune (municipality) in the Province of Modena in the Italian region Emilia-Romagna, located about 35 kilometres (22 mi) northwest of Bologna and about 20 kilometres (12 mi) northeast of Modena on the Panaro river. As of 31 December 2010, it had a population of 3,218 and an area of 22.7 square kilometres (8.8 sq mi). Although the name in Italian literally means \"saint\\'s field\", which normally means \"cemetery\", its original (Latin) name, \"Campus Sanctus\", probably honoured the 14th century Ferrara family of Santi, who owned the land. The Battle of Campo Santo was fought here in 1743. Camposanto borders the following municipalities: Bomporto, Crevalcore, Finale Emilia, Medolla, Ravarino, San Felice sul Panaro, San Prospero. In May 2012 Camposanto was the epicenter of a 6.0-magnitude earthquake.',\n",
       " 263: \"Dr. Gyula Ferdinandy de Hidasnémeti (1 June 1873 – 16 January 1960) was a Hungarian politician, who served as Interior Minister between 1920 and 1921. During the Sándor Simonyi-Semadam's cabinet he was the Minister of Justice, following which (in the government of Pál Teleki) Ferdinandy replaced this position to the Minister of the Interior. He reformed the country's franchise system.\",\n",
       " 264: \"Pryluky (Ukrainian: Прилуки) is a city located on the Udai River in the Chernihiv Oblast, north-central Ukraine. Serving as the administrative center of the Pryluky Raion (district), the city itself is also designated as a separate municipality within the oblast. Located nearby is the Pryluky air base, a major strategic bomber base during the Cold War, which is Ukraine's largest airfield. The population of Pryluky was estimated at 64,900 in 2001.\",\n",
       " 265: 'Larry Augustin is CEO of SugarCRM and is a former venture capitalist and the co-founder and former chairman of VA Software, now known as Geeknet. Augustin holds Ph.D. and M.S. degrees in electrical engineering from Stanford University, and a B.S. in electrical engineering from the University of Notre Dame. He founded VA Research, the predecessor to that company, in 1993 while a Ph.D. student in electrical engineering at Stanford University. While at VA, he was one of the people behind the creation of SourceForge, a collaborative software development management system. As of January 2016 he serves on the board of SugarCRM and Appcelerator. Augustin is featured in the 2001 documentary film Revolution OS.',\n",
       " 266: 'Carpi [ˈkarpi] (Emilian: Chèrp) is an Italian town and comune of about 70,000 people in the province of Modena, Emilia-Romagna. It is a busy centre for industrial and craft activities and for cultural and commercial exchanges.',\n",
       " 267: 'Bucyrus Township may refer to the following townships in the United States:',\n",
       " 268: 'Pawłokoma [pavwɔˈkɔma] (Ukrainian: Павлокома, Pavlokoma) is a village in the administrative district of Gmina Dynów, within Rzeszów County, Subcarpathian Voivodeship, in south-eastern Poland. It lies approximately 5 kilometres (3 mi) south-east of Dynów and 32 km (20 mi) south-east of the regional capital Rzeszów. It is also 35 km west of Przemyśl. The village has a population of 518.',\n",
       " 269: \"Blasteroids is the second official sequel to the 1979 shoot 'em up video game Asteroids. It was developed by Atari Games and released as a coin-operated game in 1987. Unlike the previous games, Blasteroids uses raster graphics, not vector graphics. Home computer ports of Blasteroids were released 1989 by Image Works for the Amiga, Amstrad CPC, Atari ST, C64/128, MSX, MS-DOS PC, and ZX Spectrum.\",\n",
       " 271: \"Charles Rousselière (17 January 1875 – 11 May 1950) was French operatic tenor who performed primarily at the Paris Opera, the Opéra de Monte-Carlo, and the Opéra-Comique. He sang in the world premieres of several operas, including the title role in Charpentier's Julien and Giorgio in Mascagni's Amica Rousselière was born in Saint-Nazaire-d'Aude (village in Languedoc-Roussillon) and originally worked as a blacksmith before studying with Albert Vaguet at the Paris Conservatoire. He was active in café-concert, and one of the stars of the Petit Ramponneau in Montmartre, run by Théophile Pathé, brother of Charles Pathé, through whom he recorded his first cylindres. He made his stage debut as Samson in Saint-Saëns's Samson and Delilah at the Paris Opera in 1900. He also appeared at the Metropolitan Opera in New York (where he debuted as Roméo in Roméo et Juliette in 1906) as well as in Berlin, Buenos Aires and Milan. At the 1913 Monte Carlo premiere and the subsequent Opéra-Comique production in 1919 he sang Ulysse in Pénélope by Fauré. Rousselière sung in Buenos Aires for the first time in 1907 at Teatro de la Opera in a revival of Verdi´s Don Carlo with Salomea Kruscenisky, Marie Claessens, Giuseppe De Luca and Adam Didur. He was first BA Andreas in Theodora by Leroux (which he created in Montecarlo the same year), with Claessens and De Luca. In 1908, also at Teatro de la Opera, he sung Andreas again, Siegmund and Thesee in the B.A. première of Massenet´s Ariane. In 1910, at the Teatro Colón,he sung Licinio in a revival of Spontini La Vestale with Esther Mazzoleni, Alice Cucini, Francesco María Bonini and Giulio Cirino. He was that year the first Loge in Das Rheingold with Didur, De Luca and Lina Pasini Vitale. Also sung Siegmund with Pasini Vitale and Didur, Samson with Cucini and Canio with Ruffo. Returned 1914 and was the first Colón Parsifal (with Rakowska and Serafin conducting) and sung Siegfried and Samson. Rousselière sung always in italian, except in Siegfried,where he sung in french and the rest of the cast in italian. In Madrid, between 1910 and 1920, he sung Loge, Tristan, Siegmund, the two Siegfrieds and Parsifal. He made a number of recordings between 1903 and 1930. Rousselière died in Joué-lès-Tours at the age of 75.\",\n",
       " 272: \"Dudyńce [duˈdɨɲt͡sɛ] (Ukrainian: Дудинці, Dudyntsi), village in East Małopolska in the Beskid mountains, Bukowsko rural commune, parish in loco. Location of Dudynce, sometimes spelled Dwdinicze 1372-1378, Dudenycze - 1436, de Dudenyecz - 1448, Dudence - 1678. Dudyńce is located near the town of Sanok (now in southeastern Poland), located near the towns of Dukla and Palota (in northeastern Slovakia). Dudyńce is about 10 miles from Sanok in southeast Poland. It is situated below the main watershed at the foot of the Słonne Mountain, and has an elevation of 250 metres. Situated in the Subcarpathian Voivodship (since 1999), previously in Krosno Voivodship (1975-1998) and Sanok District, (10 miles east of Sanok), parish Bukowsko. Dudyńce was founded in 1372 by prince Władysław Opolczyk. From 966-1018, 1340-1772 (Ruthenian Voivodeship) and from 1918-1939 Dudyńce was part of Poland. While during 1772-1918 it belonged to Austrian empire, later Austrian-Hungarian empire when double monarchy was introduced in Austria. On April, 1946 the village was attacked by a strong unit of UPA and some buildings were burnt. Only over a dozen years after the war the village started to rebuild. Some people left Dudynce on April 29, 1947 (Akcja Wisla) andmoved to the Gdansk area of Poland. Some people went to Ukraine in 1946. Dudyńce has a church (R. Catholic) and outside the church there's a cemetery. The rural families are poor, agriculture is rarely profitable and low income makes it difficult for farms to invest in from improvements.\",\n",
       " 273: 'Li Fei (Chinese: 黎斐; pinyin: Lí Fěi; February 17, 1983) is a Chinese football player who currently plays as a left-footed midfielder for Shenzhen Ruby in the China League One.',\n",
       " 275: 'MySQL AB was a software company that was founded in 1995. It was acquired by Sun Microsystems in 2008; Sun was in turn acquired by Oracle Corporation in 2010. MySQL AB is the creator of MySQL, a relational database management system, as well as related products such as MySQL Cluster. The company was dually headquartered in Uppsala, Sweden and Cupertino, California with offices in other countries (Paris, Munich, Dublin, Milan, and Tokyo). With around 400 employees in 25 countries, MySQL AB was one of the largest open source companies worldwide. Around 70% of the employees worked for MySQL from their home offices. On 16 January 2008, MySQL AB announced that it had agreed to be acquired by Sun Microsystems for approximately $1 billion. The acquisition completed on 26 February 2008. Together with Linux, Apache, and PHP, the MySQL Server forms one of the building blocks of the LAMP technology stack. The company claims a user base of over 5 million MySQL installations worldwide and over 10 million product downloads in 2004.',\n",
       " 276: 'Pielnia [ˈpʲɛlɲa] (Ukrainian: Пельня, Pel’nia) is a village in the administrative district of Gmina Zarszyn, within Sanok County, Subcarpathian Voivodeship, in south-eastern Poland. It lies approximately 6 kilometres (4 mi) south-east of Zarszyn, 11 km (7 mi) west of Sanok, and 54 km (34 mi) south of the regional capital Rzeszów. The village has a population of 990.',\n",
       " 277: 'Castelfranco Emilia is a town and comune in Italy in the province of Modena, region of Emilia-Romagna. The town lies about 25 kilometres (16 mi) northwest of Bologna. Castelfranco either occupies or lies near the site of the ancient Forum Gallorum, a place on the Via Aemilia between Modena and Bologna, where in 43 BC Octavian and Hirtius defeated Mark Antony. In 1861 it was joined with the former comune of Piumazzo. This town is famous for inventing tortellini, a typical Italian food. In this region lambrusco wine is also produced. The church of Santa Maria Assunta houses a picture of the Assumption of Mary by Guido Reni. Castelfranco has also a fortress built in 1628–34 by Urban VIII as a northern defensive bastion for the Papal States.',\n",
       " 278: \"Bud! The Amazing Bud Powell (Vol. 3), also known as The Amazing Bud Powell, Vol. 3: Bud!, is a studio album by jazz pianist Bud Powell, released on Blue Note in 1957, featuring a session Powell recorded at the Rudy Van Gelder Studio in Hackensack, New Jersey on August 3, 1957, with Paul Chambers on bass and Art Taylor on drums, and trombonist Curtis Fuller guesting on three tracks. The album was digitally remastered in 2001 by Rudy Van Gelder and re-issued in January, 2002 as part of Blue Note's The RVG Edition series. The version of the album included on the third disc of The Complete Blue Note and Roost Recordings, a 4 disc box set, is that from the first CD release in 1989.\",\n",
       " 279: 'Peter Henry Sweeney (born 25 September 1984) is a Scottish footballer who plays as a midfielder for Greenwich Borough. Sweeney began his career at Millwall where he progressed though their youth team and broke into the first team. He played in the 2004 FA Cup Final were Millwall lost 3–0 to Manchester United. He joined Stoke City in the summer of 2005 for a fee of £250,000 but his start at Stoke was hampered by injuries. He struggled to fully recover and after spending time out on loan at Yeovil Town and Walsall he joined Leeds United in January 2008. After a brief spell at Elland Road Sweeney played for Grimsby Town, Bury, AFC Wimbledon, Dartford and Greenwich Borough.',\n",
       " 281: 'Ouvidor is a municipality in southeast Goiás state, Brazil.',\n",
       " 282: 'Szczawnica [ʂt͡ʂavˈɲit͡sa] is a resort town in Nowy Targ County in Lesser Poland Voivodeship, in southern Poland. As of June 30, 2007, its population was 7,378. Szczawnica is a well-known resort town since the mid nineteenth century. Due to the presence of alkali sorrel springs and favorable climatic conditions, many respiratory and digestive tract illnesses are treated there. In 2005 the popular local spa was officially returned by the Polish government to its prewar owners – Count Stadnicki family. The spa has almost two-hundred-year history. Its last private owner was Count Adam Stadnicki, whose grandson – Andrzej Mańkowski – is the founder of the new Uzdrowiskowe Museum being fitted in the center of Szczawnica, at Dietl Square (2009). The museum of the Szczawnica resort aims to present more than 350 different types of artifacts associated with the local therapeutics, archival documents, drawings, plans of buildings, old photographs, postcards and books. Szczawnica has many snow skiing trails and slopes. The longest (2 km) at Palenica, is fitted with a 4-person ski lift with overhead lighting and a capacity of 2,200 people per hour. It is operated by a state agency.',\n",
       " 283: 'Jack Sydney George \"Bud\" Cullen, PC (April 20, 1927 – July 5, 2005) was a Canadian Federal Court judge and politician.',\n",
       " 284: 'Castelnuovo Rangone is a comune (municipality) in the Province of Modena in the Italian region Emilia-Romagna, located about 40 kilometres (25 mi) west of Bologna and about 13 kilometres (8 mi) south of Modena. The most important economical activity is the production and treatment of pig meat. The municipality of Castelnuovo Rangone contains the frazioni (subdivisions, mainly villages and hamlets) Montale, Cavidole, Settecani and San Lorenzo. Castelnuovo Rangone borders the following municipalities: Castelvetro di Modena, Formigine, Modena, Spilamberto.',\n",
       " 285: 'Cyrillic Extended-B is a Unicode block containing Cyrillic characters for writing Old Cyrillic and Old Abkhazian, and combining numeric signs.',\n",
       " 288: 'Novi Kozjak (Serbian Cyrillic: Нови Козјак) is a village in northern Serbia. It is situated in the Alibunar municipality, in the South Banat District, Vojvodina province. The village has a Serb ethnic majority (90.49%) and a population of 650 people (2011 census).',\n",
       " 289: 'Krasnoarmiysk (Ukrainian: Красноармі́йськ; Russian: Красноарме́йск, Krasnoarmeysk; until 1938: Russian: Гришино; translit. Grishino) is a city in Donetsk Oblast, Ukraine. Administratively, it is incorporated as a city of oblast significance. It serves as the administrative center of the Krasnoarmiisk Raion, though it is not a part of the raion. Population: 64,895\\u2009(2013 est.); 69,200 (2001).',\n",
       " 290: 'Tōkai-ji (東海寺), formally called Kōryūzan Fuse Benten Tōkai-ji (紅龍山布施弁天東海寺), is a Buddhist temple located in the city of Kashiwa in Chiba Prefecture, Japan.',\n",
       " 291: 'Castelvetro di Modena is a comune (municipality) in the Province of Modena in the Italian region Emilia-Romagna, located about 30 kilometres (19 mi) west of Bologna and about 15 kilometres (9 mi) south of Modena.',\n",
       " 292: 'Shostka (Ukrainian: Шостка) is a city in Sumy Oblast in north-east of Ukraine. The population is 85,800 (2004). The town lies on the Shostka River, a tributary of Desna, from which it gets its name. Shostka is an important centre of industry; in chemicals (see Svema) and in dairy: Shostka City Milk Plant was recently acquired by the Bel Group.',\n",
       " 293: 'Bud is a fishing village (and former municipality) in Fræna Municipality in Møre og Romsdal county in western Norway. The village is located on the Romsdal peninsula along the Atlanterhavsveien, west of the village of Hustad, north of the village of Tornes, and east of the Bjørnsund islands. The 0.69-square-kilometre (170-acre) village has a population (2013) of 760. This gives it a population density of 1,101 inhabitants per square kilometre (2,850/sq mi). Bud Municipality existed from 1838 until 1964 when it was merged into Fræna Municipality. The old municipality encompassed the northern part of the present-day Fræna Municipality. The administrative centre of the municipality was the village of Bud where Bud Church is still located.',\n",
       " 294: \"The Type 88 Surface-to-Ship Missile (88式地対艦誘導弾, SSM-1) is a truck-mounted anti-ship missile developed by Japan's Mitsubishi Heavy Industries in the late 1980s. It is a land-based version of the air-launched Type 80 (ASM-1) missile; in turn it was developed into the ship-launched Type 90 (SSM-1B) missile. The Japan Ground Self-Defense Force bought 54 transporter erector launchers, each carrying six Type 88 missiles, for use as coastal batteries. With a range of 180 km (97 nmi), high subsonic speed and 225 kg (496 lb) warhead, it is similar to the US Harpoon missile.\",\n",
       " 295: 'Walter \"Bud\" Gulka (born April 12, 1947) is a Canadian former professional ice hockey player. During the 1974–75 season, Gulka played five games in the World Hockey Association with the Vancouver Blazers.',\n",
       " 296: 'Cavezzo is a comune (municipality) in the Province of Modena in the Italian region Emilia-Romagna, located about 45 kilometres (28 mi) northwest of Bologna and about 20 kilometres (12 mi) northeast of Modena. As of 31 December 2004, it had a population of 7,072 and an area of 26.8 square kilometres (10.3 sq mi). The municipality of Cavezzo contains the frazioni (subdivisions, mainly villages and hamlets) Motta and Disvetro. Cavezzo borders the following municipalities: Carpi, Medolla, Mirandola, Novi di Modena, San Possidonio, San Prospero.',\n",
       " 297: 'The Franciscan Friary, Baja, is a Franciscan friary in the city of Baja in the Southern Great Plain Region of Hungary.',\n",
       " 298: 'Kamin-Kashyrskyi (Ukrainian: Камінь-Каширський, Polish: Kamień Koszyrski, Russian: Камень-Каширский) is a town in Volyn Oblast, Ukraine. It is the administrative center of Kamin-Kashyrskyi Raion. Population: 12,018\\u2009(2013 est.).',\n",
       " 300: 'Hostinné (German: Arnau) is a town in the Czech Republic. From 1938 to 1945 it was one of the municipalities in Sudetenland.',\n",
       " 301: 'The Amiga is a family of personal computers sold by Commodore in the 1980s and 1990s. Based on the Motorola 68000 family of microprocessors, the machine has a custom chipset with graphics and sound capabilities that were unprecedented for the price, and a pre-emptive multitasking operating system called AmigaOS. The Amiga provided a significant upgrade from earlier 8-bit home computers, including Commodore\\'s own C64. The Amiga 1000 was officially released in July 1985, but a series of production problems meant it did not become widely available until early 1986. The best selling model, the Amiga 500, was introduced in 1987 and became one of the leading home computers of the late 1980s and early 1990s with four to six million sold. The A3000, introduced in 1990, started the second generation of Amiga systems, followed by the A500+ and the A600. Finally, as the third generation, the A1200 and the A4000 were released in 1992. The platform became particularly popular for gaming and programming demos. It also found a prominent role in the desktop video, video production, and show control business, leading to affordable video editing systems such as the Video Toaster. The Amiga\\'s native ability to simultaneously play back multiple digital sound samples made it a popular platform for early \"tracker\" music software. The relatively powerful processor and ability to access several megabytes of memory led to the development of several 3D rendering packages, including LightWave 3D and Aladdin 4D. Although early Commodore advertisements attempt to cast the computer as an all-purpose business machine, especially when outfitted with the Amiga Sidecar PC compatibility addon, the Amiga was most commercially successful as a home computer, with a wide range of games and creative software. It was also a less expensive alternative to the Apple Macintosh and IBM PC as a general-purpose business or home computer. Initially, the Amiga was developed alongside various Commodore PC clones, but Commodore later left the PC market. Poor marketing and the failure of the later models to repeat the technological advances of the first systems meant that the Amiga quickly lost its market share to competing platforms, such as the fourth generation game consoles, Apple Macintosh, and later IBM PC compatibles. Commodore ultimately went bankrupt in April 1994 after the \"make or break\" Amiga CD32 model failed in the marketplace. Since the demise of Commodore, various groups have marketed successors to the original Amiga line, including Genesi, Eyetech, ACube Systems and A-EON Technology. Likewise, AmigaOS has influenced replacements, clones and compatible systems such as MorphOS, AmigaOS 4 and AROS. The demise of Commodore has been commonly attributed to numerous factors such as poor marketing, a lack of sufficient third party developers, and a failure to compete with cheaper PC clones with \"multimedia\" features and low-cost color-capable Macintosh models such as the Macintosh LC.',\n",
       " 302: 'Harry Conway \"Bud\" Fisher (April 3, 1885 – September 7, 1954) was an American cartoonist who created Mutt and Jeff, the first successful daily comic strip in the United States.',\n",
       " 303: 'Sázava ([ˈsaːzava]) is a town in the Central Bohemian Region of the Czech Republic. It has around 3,800 inhabitants. Villages Bělokozly, Černé Budy, Čeřenice and Dojetřice are administrative parts of Sázava. Originally a monastery with Slavic liturgy, originated in 1032. Since the early 12th century the Benedictine monastery. Burnt down by the Hussites, revived in the 16th century, in the 17th century rebuilt in the Baroque style. The monastery abolished by Joseph II, in the 19th century rebuilt into a Pseudo-Renaissance chateau. A monumental torso of the Church of St. Prokop, an abbot chapel, a Gothic crypt. The exposition “the Old-Slavic Sázava”, a capitulary hall with Gothic wall paintings. A significant medieval centre of Slavic culture and literature. The Madonna of Sázava.',\n",
       " 304: \"Boston Children's Hospital is a 395-licensed-bed children's hospital in the Longwood Medical and Academic Area of Boston, Massachusetts. At 300 Longwood Avenue, Children's is adjacent both to its teaching affiliate, Harvard Medical School, and to Dana-Farber Cancer Institute. (Dana-Farber and Children's jointly operate Dana-Farber/Children's Hospital Cancer Care, a 60-year-old partnership established to deliver comprehensive care to children with and survivors of all types of childhood cancers.) Children's was ranked #1 in 8 out of 10 clinical specialties by the U.S. News & World Report, and as the nation's number one pediatric hospital for 2014-15.\",\n",
       " 305: 'Concordia sulla Secchia is a comune (municipality) in the Province of Modena in the Italian region Emilia-Romagna, located about 50 kilometres (31 mi) northwest of Bologna and about 30 kilometres (19 mi) north of Modena. Concordia sulla Secchia borders the following municipalities: Mirandola, Moglia, Novi di Modena, Quistello, San Giacomo delle Segnate, San Giovanni del Dosso, San Possidonio.',\n",
       " 306: 'Kačarevo (Serbian and Macedonian: Качарево) is a town in northern Serbia, situated in the municipality of Pančevo, South Banat District, Vojvodina province. The town has a Serb ethnic majority and its population numbering 7,624 people (2002 census).',\n",
       " 307: \"Ferencvárosi Torna Club Női Kosárlabda-Szakosztály is a Hungarian women's basketball team from Budapest playing in the second national tier. Established in 1993 as a section of sports club Ferencvárosi TC, it won the 1996 national cup and the 1997 national championship. In 1995 and 1998 it played the FIBA Euroleague.\",\n",
       " 308: 'Raebareli About this sound pronunciation is a city and a municipal board in the Indian state of Uttar Pradesh. It is the administrative headquarters of Raebareli District. The town is situated at the bank of the Sai river, 82 km (51 mi), 82 km southeast of Lucknow. It possesses many architectural features, chief of which is a strong and spacious fort erected .',\n",
       " 309: 'Dalian Development Area (DDA; KaiFaQu Chinese: 大连开发区; pinyin: Dàlián kāifā qū) is located in Jinzhou District, Dalian, Liaoning province, China as the first Economic and Technological Development Zones nationwide in 1984.',\n",
       " 310: 'Fanano is a comune (municipality) in the Province of Modena in the Italian region Emilia-Romagna, located about 50 kilometres (31 mi) southwest of Bologna and about 50 kilometres (31 mi) south of Modena. Fanano borders the following municipalities: Cutigliano, Fiumalbo, Lizzano in Belvedere, Montese, San Marcello Pistoiese, Sestola. It is located in the Modenese Apennines. The Monte Cimone is in its territory. The famous Felix Pedro came from the small village of Trignano administrated by Fanano.',\n",
       " 311: 'Arthur Worth \"Bud\" Collins, Jr. (June 17, 1929 – March 4, 2016) was an American journalist and television sportscaster, best known for his tennis commentary. Collins was married to photographer Anita Ruthling Klaussen.',\n",
       " 314: 'Rewa About this sound pronunciation is a city in the north-eastern part Madhya Pradesh state in India. It is the administrative center of Rewa District and Rewa Division. It is the former capital of the princely state of Rewa and the former state of Vindhya Pradesh. The city lies about 420 kilometres (261 mi) northeast of the state capital Bhopal and 130 kilometres (81 mi) south of the city of Allahabad. Rewa derives its name from another name for the Narmada River. Rewa is connected to Allahabad via NH 27, Sidhi, Satna, Maihar and Varansi via NH-7. Rewa is famous for its harmony and enormous limestone resources.',\n",
       " 315: 'Jonah J. \"Bud\" Greenspan (September 18, 1926 – December 25, 2010) was a film director, writer, and producer known for his sports documentaries. His distinctive appearance in later years included wearing his large, dark-framed glasses atop his shaved head.',\n",
       " 316: 'Hellendoorn (About this sound pronunciation ) is a municipality and a town in the middle of the Dutch province of Overijssel. There is an amusement park near the town of Hellendoorn called Avonturenpark Hellendoorn.',\n",
       " 317: 'Finale Emilia is a comune (municipality) in the Province of Modena, in the Italian region Emilia-Romagna, located about 35 kilometres (22 mi) north of Bologna and about 35 kilometres (22 mi) northeast of Modena. The municipality of Finale Emilia contains the frazioni (subdivisions, mainly villages and hamlets) Massa Finalese and Canaletto. Finale was struck by an earthquake on 20 May 2012, which destroyed or damaged several historical structures, such as the Torre dei Modenesi (a clock tower), and most of both the Rocca (castle) and Duomo.',\n",
       " 318: 'Sundome (すんドめ) is a Japanese manga series written and illustrated by Kazuto Okada. Sundome literally means \"stopping the moment before\", in this case referring to being stopped just before ejaculating. Eight volumes have been released in Japan, all of which have been translated into English as of December 2010. It was adapted into four live-action films from 2007 to 2009.',\n",
       " 319: \"Horace Andrew (Bud) Olson, PC, AOE (October 6, 1925 – February 14, 2002) was a Canadian businessman, politician, and the 14th Lieutenant Governor of Alberta. He also served as a Member of Parliament, Senator, Minister of Agriculture, and Minister of Economic and Regional Development. He was also a farmer and rancher, and president and operating officer of Farmer's Stockmen's Supplies in Medicine Hat and Lethbridge, Alberta.\",\n",
       " 320: 'Bud Lee (born in September 1955 in Indianapolis, Indiana) is an adult film director. He is an AVN Hall of Fame member and also works as an agent for 101 Modeling, Inc. Lee has been married to adult film actresses Asia Carrera (1995-2003) and Hyapatia Lee (1980-1992). Lee took the last name of his first wife, Hyapatia Lee, as it is a Cherokee tradition for the man to do so.',\n",
       " 321: 'Hugh or Hugo (born c. 1064) was a Benedictine monk and historian. He served as abbot of Flavigny from 1097 to 1100.',\n",
       " 322: 'George Edward Holloway III known as Bud Holloway (born March 1, 1988) is a Canadian professional ice hockey right wing who is currently playing within the Montreal Canadiens organization in the National Hockey League (NHL). He was selected by the Los Angeles Kings in the 3rd round (86th overall) of the 2006 NHL Entry Draft.',\n",
       " 323: \"Fiorano Modenese is a comune (municipality) in the province of Modena in the Italian region Emilia-Romagna, located about 45 kilometres (28 mi) west of Bologna and about 15 kilometres (9 mi) southwest of Modena. Neighboring municipalities are Formigine, Sassuolo, Serramazzoni, Maranello. Ferrari's private testing track, the Fiorano Circuit is located on the border with Maranello.\",\n",
       " 324: 'Tonk is a town in the Indian state of Rajasthan. The town is situated 95 km (60 mi) by road south from Jaipur, near the right bank of the Banas River. It is the administrative headquarters of Tonk District. Tonk was also the capital of the eponymous princely state of British India from 1817 to 1947.',\n",
       " 325: 'Yakujin Station (厄神駅 Yakujin-eki) is a railway station in Kakogawa, Hyōgo Prefecture, Japan.',\n",
       " 326: 'Fiumalbo is a comune (municipality) in the Province of Modena in the Italian region Emilia-Romagna, located about 70 kilometres (43 mi) southwest of Bologna and about 60 kilometres (37 mi) southwest of Modena. As of 31 December 2009, it had a population of 1,307 and an area of 39.4 square kilometres (15.2 sq mi). Fiumalbo borders the following municipalities: Abetone, Coreglia Antelminelli, Cutigliano, Fanano, Pievepelago, Riolunato, Sestola.',\n",
       " 328: \"Sogo Hong Kong (Chinese: 香港崇光百貨) is one of the largest Japanese-style department stores in Hong Kong. It originally belonged to Japan's Sogo, but is now owned by Lifestyle International Holdings (SEHK: 1212), a company held by Hong Kong billionaire brothers Joseph Lau and Thomas Lau. It owns stores in Causeway Bay and Tsim Sha Tsui in Hong Kong and Jiuguang Department Store in Shanghai.\",\n",
       " 329: \"Arthur Budd Scott (January 11, 1890 – July 2, 1949) was an American jazz guitarist, banjoist and singer. He was one of the earliest musicians associated with the New Orleans jazz scene. As a violinist he performed with James Reese Europe's Clef Club Orchestra at a historic 1912 concert at Carnegie Hall, and the following year worked with Europe's ensemble on the first jazz recordings on the Victor label. A graduate of the Peabody School of Music, Scott was a notable rhythm guitarist in Chicago's Jazz Age nightclubs of the 1920s. After performing and recording with Jimmie Noone's Apex Club Orchestra in 1928 he moved to California. He was able to make a living as a professional musician through the 1930s, when traditional jazz was eclipsed by big-band swing music, and formed his own trio. In 1944 Scott joined an all-star combination that evolved into Kid Ory's Creole Jazz Band, an important force in reviving interest in New Orleans-style jazz in the 1940s, and he wrote the majority of the band's arrangements.\",\n",
       " 330: 'Hollum is a Dutch village on Ameland, one of the West Frisian Islands. It is situated on the westernmost part of the island. Prominent in the town is a Reformed church with foundations from the 12th century and a lighthouse, which is 59 m high, dating from 1880. Another notable feature is the Commandeur huuskes. Commandeur refers to the captain of a whaling ship, as were used during the 18th century to hunt in the Arctic Ocean. Another notable tourist attraction is the history museum in the town called het Sorgdragersmuseum. The windmill De Verwachting is in working order.',\n",
       " 331: 'János Ferenczi (born 3 April 1991 in Debrecen) is a Hungarian football player currently playing for the Hungarian team Debreceni VSC as a midfielder.',\n",
       " 332: 'Yggdra Union: We\\'ll Never Fight Alone is a tactical role-playing game for the Game Boy Advance and PlayStation Portable, developed by Sting Entertainment as the second episode of the Dept. Heaven saga of games. Atlus USA localized and published both versions of the game in North America. 505 Games published the Game Boy Advance version in a limited number of European countries, such as Italy and France. A Nintendo DS side-game was released in Japan on December 3, 2009 as Yggdra Unison: Seiken Buyuuden. The game is a tactical RPG with an overhead view of a 2D map, managing miniature versions of the units. A card system dictating unit movement and potential skills plays into both enemy and ally turns, as well as the \"Union\" formation system, in which massive battles can take place between several platoons. There are also some real time elements included during actual battle sequences, such as being able to control how units attack the enemy.',\n",
       " 333: 'Ellis J. \"Bud\" Thackery (January 31, 1903 – July 15, 1990) was an American cinematographer who spent the bulk of his film career at Republic Pictures before successfully transitioning to television. His first credit as a director of photography came in 1941, on the film The Gay Vagabond, and he worked steadily from that point well into the 1970s, chalking up an extensive filmography in both features and television. Thackery took part in two episodes of The Virginian, many episodes of ABC series \"McHale\\'s Navy\" and many episodes of the Ironside TV series on NBC. He was nominated for an Oscar along with Howard Lydecker, William Bradford and Herbert Norsch in 1941 for Best Effects, Special Effects in the film Women in War. Working extensively in Republic\\'s prolific series of B-Westerns and serials early in his career, he was a regular at the Iverson Movie Ranch in Chatsworth, Calif., recognized as the most widely filmed outdoor shooting location in movie and television history. In later years he reportedly lived in a mobile home park that was built on the property of the former Iverson Movie Ranch.',\n",
       " 334: 'Formigine is a town and comune in the province of Modena, Emilia-Romagna, Italy. As of 2007 Formigine had an estimated population of 31,643.',\n",
       " 335: 'Hegebeintum (Dutch: Hogebeintum) is a small village in Ferwerderadiel in the province of Friesland, the Netherlands. It had a population of around 90 in 2014. There is a well-known restored windmill in the village, De Hogebeintumermolen. Hegebeintum is also home to the highest artificial dwelling hill, or terp, in the Netherlands, measuring around 8.8 metres (29 ft) tall. The high ground of the terp was historically used as a place of refuge during unusually high tides and storm floods, and also had a number of dwellings.',\n",
       " 337: 'Norman Robert \"Bud\" Poile (February 10, 1924 – January 4, 2005) was a professional ice hockey player, coach, general manager, and league executive.',\n",
       " 338: 'Frassinoro is a comune (municipality) in the Province of Modena in the Italian region Emilia-Romagna, located about 70 kilometres (43 mi) southwest of Bologna and about 50 kilometres (31 mi) southwest of Modena.',\n",
       " 339: 'Schützeberg is a mountain of Hesse, Germany.',\n",
       " 340: 'Morra is a hamlet in Dongeradeel, Friesland, the Netherlands with roughly 250 inhabitants. It was not consolidated when various other hamlets within the parish were consolidated into one village. Within the hamlet stands a church with a characteristic 13th century tower. Highway N-361 runs just to the south of the hamlet. Morra was surrounded by fens (marshland) which are now cultivated. The name Morra means marshland in Frisian, and is related to the English word moor. The people in Morra are predominantly Frisians and speak West Frisian. The hamlet has locally produced drama productions, an orchestra, and a handball club. Morra is adjacent to the hamlet of Lioessens and they are administered together as a pair (dubbeldorp) sharing facilities such as the local sports field and the primary school. There was a station called Morra-Lioessens on the North Friesland Railway, which opened in 1913 and closed in 1935, although it reopened again briefly during World War II from May 1940 to July 1942.',\n",
       " 341: 'Happy Journey is a 2014 Marathi drama film directed by Sachin Kundalkar and produced by Sanjay Chhabria under the banner of Everest Entertainment. It features actors Atul Kulkarni and Priya Bapat in the lead roles. The story is about love of brother and sister,A sister who hardly has seen her brother in her life. So after her death her ghost shares her experiences and helps her brother and finally disappears.',\n",
       " 342: 'Guiglia is a comune (municipality) in the Province of Modena in the Italian region Emilia-Romagna, located about 30 kilometres (19 mi) southwest of Bologna and about 25 kilometres (16 mi) south of Modena. Guiglia borders the following municipalities: Castello di Serravalle, Marano sul Panaro, Pavullo nel Frignano, Savignano sul Panaro, Zocca.',\n",
       " 343: 'Ashikagashi Station (足利市駅 Ashikagashi-eki) is a railway station on the Tobu Isesaki Line in Ashikaga, Tochigi, Japan, operated by the private railway operator Tobu Railway.',\n",
       " 344: \"Jarmo (Qal'at Jarmo) is an archeological site located in Southern Kurdistan (northern Iraq) on the foothills of Zagros Mountains east of Kirkuk city. It was one of the oldest agricultural communities in the world, dating back to 7090 BCE. Jarmo is broadly contemporary with such other important Neolithic sites such as Jericho in the southern Levant and Çatal Hüyük in Anatolia. The site of Jarmo is approximately three to four acres (12,000 to 16,000 m²) in size and lies at an altitude of 800 meters above sea level in a belt of oak and pistachio woodlands.\",\n",
       " 345: 'Lama Mocogno is a comune (municipality) in the Province of Modena in the Italian region Emilia-Romagna, located about 50 kilometres (31 mi) southwest of Bologna and about 40 kilometres (25 mi) southwest of Modena. The Monte Cimone is located nearby. Lama Mocogno borders the following municipalities: Montecreto, Palagano, Pavullo nel Frignano, Polinago, Riolunato.',\n",
       " 346: 'Oostrum (West Frisian: Eastrum) is a village in Dongeradeel in the province of Friesland, the Netherlands. It had a population of around 200 in 2006.',\n",
       " 349: 'Tyson Luke Fury (born 12 August 1988) is a professional boxer who fights at heavyweight. In November 2015, he defeated Wladimir Klitschko to become the lineal, WBA (Super), IBF, WBO, IBO and The Ring magazine unified heavyweight champion. Fury was subsequently stripped of the IBF title for choosing not to fight their mandatory challenger, Vyacheslav Glazkov, upon agreeing to a rematch with Wladimir Klitschko. Having initially been denied the opportunity to fight for Ireland at the Olympic Games, he was permitted to represent both Great Britain and Ireland after tracing his family lineage to relatives in Belfast and Galway. Fury has represented both England and Ireland as an amateur, winning the ABA championship in 2008 before turning professional later that year. Currently undefeated, he is a two-time former British and English champion, a former European, Commonwealth and Irish heavyweight champion, as well as a former WBO Inter-Continental and WBO International heavyweight champion. After winning the world titles he was nominated for the BBC Sports Personality of the Year 2015 shortlist, but attracted significant criticism relating to statements he had made which were considered sexist and homophobic.',\n",
       " 350: 'Hengelo ([ˈɦɛŋəloː]) is a municipality and a city in the eastern part of the Netherlands, in the province of Overijssel. The city lies along the motorways A1/E30 and A35 and it has a station for the International Amsterdam – Hannover – Berlin service.',\n",
       " 351: \"Maranello is a town and comune in the region of Emilia-Romagna in Northern Italy, 18 km from Modena, with a population of 17,165 as of 2013. It is best known as the home of Ferrari S.p.A. and the Scuderia Ferrari Formula One racing team. Maranello was also home to coachbuilding firm Carrozzeria Scaglietti, now owned by Ferrari. Maranello has been the location for the Ferrari factory since the early 1940s, when Enzo Ferrari transferred operations from the Scuderia Ferrari Garage and Factory in Modena, which had been his base of operations dating back to Scuderia Ferrari's days as an arm of Alfa Romeo, due to bombing during World War II. Initially the factory in Maranello was a base not only for Scuderia Ferrari but also for Auto Avio Costruzioni, the machine tool manufacturing business started by Enzo to tide the company over while Alfa Romeo's ban on Enzo Ferrari making cars bearing the Ferrari name was in force. The public museum Museo Ferrari, which displays sports and racing cars and trophies, is also located here. Its new library opened in November 2011, and was designed by Arata Isozaki and Andrea Maffei. Maranello is the starting point of the annual Italian Marathon, which finishes in nearby Carpi.\",\n",
       " 352: \"Godai Tomoatsu (五代 友厚, February 12, 1836 – September 25, 1886) was one of the Satsuma students of 1865 who were smuggled out of Bakumatsu period Japan to study in Great Britain. He returned to become Japan's leading entrepreneur of the early Meiji period.\",\n",
       " 353: 'Gobabis is a city in eastern Namibia. It is the regional capital of the Omaheke Region, and the district capital of the Gobabis electoral constituency. Gobabis is situated 200 km (120 mi) down the B6 motorway from Windhoek to Botswana. The town is 113 km (70 mi) from the Buitepos border post with Botswana, and serves as an important link to South Africa on the tarred Trans-Kalahari Highway. Gobabis is in the heart of the cattle farming area. In fact Gobabis is so proud of its cattle farming that a statue of a large Brahman bull with the inscription \"Cattle Country\" greets visitors to the town.',\n",
       " 354: 'Marano sul Panaro is a comune (municipality) in the Province of Modena in the Italian region Emilia-Romagna, located about 30 kilometres (19 miles) west of Bologna and about 20 kilometres (12 miles) south of Modena. Marano sul Panaro borders the following municipalities: Castelvetro di Modena, Guiglia, Maranello, Pavullo nel Frignano, Savignano sul Panaro, Serramazzoni, Vignola.',\n",
       " 355: \"The Budapest Marathon is an annual marathon and sport event hosted by the city of Budapest, Hungary since 1961. It is normally held at the beginning of October or the end of September. From 1984, the Budapest Sport Iroda (BSI) manages the event. The Budapest Marathons – with different supporters like IBUSZ, Kaiser’s-Plus, Plus, then SPAR - have been attracting more and more people from inside and outside the country since 1984 by BSI. The first one was organized in April - there were already a marathon-brochure and a T-shirt! – then in 1994 and 1995 there was a pause in the history of the event, but in 1996 the half marathon distance became an independent race and since that time it has been held in autumn each year. The Budapest Marathon started off from a few different locations during its history but for a long while the race center has been situated at the City Park. For a good while now the group has been starting the race from Heroes’ Square, and in every year it takes more than 15 minutes for the runners to leave the start line. The route of the marathon has changed a lot in the course of time, but the runners always go through many beautiful sights. Hungary’s biggest marathon crosses two sites which are part of UNESCO world heritage, is becoming more popular. The number of the foreign runners is increasing continuously and a lot of them keep returning. 2015 race was a record; none of the Hungarian sport events had so many participants before: 27,860 athletes from 80 countries competed in one of the distances at the 30th SPAR Budapest Marathon. Among men Zoltán Kiss can feel proud of himself because no one ever was faster than him during a Budapest Marathon: his 2:15:04 time at our first marathon in 1984 is still a record. Among women Simona Staicu has the best time ever, she was able to stand on the podium four times and in 2010 she performed the distance in 2:37:47. The race starts at Hősök tere (Heroes' Square) and finishes in Városliget (City Park). Much of the route stays close to the River Danube. After the contest, competitors can bathe their aching feet in the Széchenyi thermal baths. In the early history of the race, it was known as the Csepeli Nemzetközi Maraton (Csepel International Marathon). It obtained its current name in 1981.\",\n",
       " 356: 'Sexbierum (West Frisian: Seisbierrum) is a village in the municipality of Franekeradeel, in the central north of the Netherlands. The village is famous for its contraction of the words \"Sex\", \"Bier\" (the Dutch word for beer) and \"Rum\". Because of this, the traffic sign of the village is subject to street sign theft. Sexbierum is located in the province of Friesland and located about 7 kilometres north-east of Harlingen, about 7 kilometres north-west of Franeker. Distance to Amsterdam is about 100 kilometres. In the Frisian language the village is called Seisbierrum. The village consists of approximately 600 houses and 1799 inhabitants, including the twin village of Pietersbierum.',\n",
       " 358: 'Hiroshi Yanaka (家中 宏 Yanaka Hiroshi, born March 10, 1958) is a Japanese voice actor. Born in Tokyo, he is affiliated with Seinenza Theater Company.',\n",
       " 359: 'Ragnhild Haga (born 12 February 1991) is a Norwegian cross country skier from Holter, Nannestad. She competed in the World Cup 2015 season. At the 2015 Tour de Ski, she finished fourth overall. She represented Norway at the FIS Nordic World Ski Championships 2015 in Falun.',\n",
       " 361: 'Torshälla ([ˈtɔʂhɛla]) is a locality situated in Eskilstuna Municipality, Södermanland County, Sweden with 7,612 inhabitants in 2010. It is mainly known for steel manufacturing, centered on the Nyby Bruk steel mill, and also for its historic old town centre. Because of its historic town status, from 1317 to 1971, Torshälla is customarily referred to as a stad (town or city) even though it does not have a population of 10,000, which is the limit presently in use defined by Statistics Sweden. Before the local government reform of 1971 Torshälla was an independent municipality. A new proposal to detach Torshälla from Eskilstuna Municipality was turned down in a referendum in 2006.',\n",
       " 363: 'Oluf Borch de Schouboe (5 June 1777 – 21 December 1844) was the Norwegian Minister of Education and Church Affairs in 1836, 1839–1840, and 1843–1844, Minister of Auditing in 1838–1839 and 1841–1842, Minister of the Army in 1839 and 1842–1843, and member of the Council of State Division in Stockholm in 1837–1838, 1840–1841, and 1844. He belonged to the Norwegian nobility.',\n",
       " 364: 'Medolla is a comune (municipality) in the Province of Modena in the Italian region Emilia-Romagna, located about 45 kilometres (28 mi) northwest of Bologna and about 25 kilometres (16 mi) northeast of Modena. As of 31 December 2004, it had a population of 5,901 and an area of 26.8 square kilometres (10.3 sq mi). The municipality of Medolla contains the frazioni (subdivisions, mainly villages and hamlets) Villafranca and Camurana. Medolla borders the following municipalities: Bomporto, Camposanto, Cavezzo, Mirandola, San Felice sul Panaro, San Prospero.',\n",
       " 365: 'The San Angelo Outlaws are a defunct American minor professional ice hockey team that played in the Western Professional Hockey League from 1997 to 2001 and the Central Hockey League in the 2001–02 season. They were based in San Angelo, Texas and played their home games out of the San Angelo Coliseum. The WPHL ceased operations in 2001 and the Central Hockey League absorbed the remaining ten WPHL teams, including the Outlaws. One year later, the team was renamed to the San Angelo Saints.',\n",
       " 367: 'Summit is a city in Union County, New Jersey, United States. At the 2010 United States Census, the city\\'s population was 21,457, reflecting an increase of 326 (+1.5%) from the 21,131 counted in the 2000 Census, which had in turn increased by 1,374 (+7.0%) from the 19,757 counted in the 1990 Census. Summit had the 16th-highest per capita income in the state as of the 2000 Census. Originally incorporated as Summit Township by an act of the New Jersey Legislature on March 23, 1869, from portions of New Providence Township (now Berkeley Heights) and Springfield Township, Summit was reincorporated as a city on March 8, 1899. Possible derivations of Summit\\'s name include its location atop the Second Watchung Mountain; the Summit Lodge, the house to which jurist James Kent moved in 1837 and which stands today at 50 Kent Place Boulevard; and to a local sawmill owner who granted passage to the Morris and Essex Railroad for a route to \"the summit of the Short Hills\".',\n",
       " 368: \"In classical mechanics, action-angle coordinates are a set of canonical coordinates useful in solving many integrable systems. The method of action-angles is useful for obtaining the frequencies of oscillatory or rotational motion without solving the equations of motion. Action-angle coordinates are chiefly used when the Hamilton–Jacobi equations are completely separable. (Hence, the Hamiltonian does not depend explicitly on time, i.e., the energy is conserved.) Action-angle variables define an invariant torus, so called because holding the action constant defines the surface of a torus, while the angle variables parameterize the coordinates on the torus. The Bohr–Sommerfeld quantization conditions, used to develop quantum mechanics before the advent of wave mechanics, state that the action must be an integral multiple of Planck's constant; similarly, Einstein's insight into EBK quantization and the difficulty of quantizing non-integrable systems was expressed in terms of the invariant tori of action-angle coordinates. Action-angle coordinates are also useful in perturbation theory of Hamiltonian mechanics, especially in determining adiabatic invariants. One of the earliest results from chaos theory, for the non-linear perturbations of dynamical systems with a small number of degrees of freedom is the KAM theorem, which states that the invariant tori are stable under small perturbations. The use of action-angle variables was central to the solution of the Toda lattice, and to the definition of Lax pairs, or more generally, the idea of the isospectral evolution of a system.\",\n",
       " 369: 'American recording artist Fergie has released one studio album, seventeen singles (including seven as a featured artist), and eleven music videos. In 2005, after releasing a two studio albums with group The Black Eyed Peas, Fergie announced that she had begun working on a solo project, set for a release in late 2006. Fergie\\'s debut album, The Dutchess, was released in September 2006 and debuted at number three on the Billboard 200 chart. Almost a year later, the album rose to number two. The album spawned five singles that peaked in the top five in the United States, making The Dutchess the first debut album to do so since Milli Vanilli\\'s 1989 debut Girl You Know It\\'s True. The singles \"London Bridge\", \"Glamorous\" with Ludacris and \"Big Girls Don\\'t Cry\" reached number one on the Billboard Hot 100 chart (\"London Bridge\" reaching the spot in three weeks, the second fastest ascent in Hot 100 history) This made Fergie the first female artist with three number ones from one album since Christina Aguilera in 2000. The second single, \"Fergalicious\" with will.i.am, and the fifth single, \"Clumsy\", peaked at number two and number five, respectively. The singles sold over two million downloads each in the US, making The Dutchess the only album in its original release to spawn five singles to do so. The album became the third best-selling album of 2007 in the US, and the twentieth best-selling globally. The album has sold 3.9 million copies in the US, and 8 million copies worldwide. Her second studio album is set to be released in 2016. Its lead single, \"L.A. Love (La La)\" was released in September 2014, and was a commercial success overseas in the UK, peaking at number three on the UK Singles Chart. In the United States, meanwhile, the single peaked at number twenty seven on the Hot 100 and number five on the Hot Rap Songs.',\n",
       " 370: 'Mirandola (local dialect: La Miràndla) is a city and comune of Emilia-Romagna, Italy, in the Province of Modena, 31 kilometres (19 mi) northeast of the provincial capital by railway.',\n",
       " 371: 'Csaba Ferkó (born 7 July 1987) is a professional Hungarian footballer currently plays for Vasas SC.',\n",
       " 372: 'Flugwerft Schleissheim is an aviation museum located in the German town of Oberschleißheim near Munich, it forms part of the Deutsches Museum collection and complements the aviation exhibits on display at the main site. The museum was opened on 18 September 1992. Many aerospace exhibits are on display including fixed-wing aircraft, helicopters and aircraft engines. The main display hangar is a restored glazed building, visitors are able to view exhibits undergoing restoration.',\n",
       " 373: 'The Budapest Open Access Initiative (BOAI) is a public statement of principles relating to open access to the research literature, which was released to the public February 14, 2002. It arose from a conference convened in Budapest by the Open Society Institute on December 1–2, 2001 to promote open access – at the time also known as Free Online Scholarship. This small gathering of individuals is recognised as one of the major defining events of the open access movement. On the occasion of the 10th anniversary of the initiative, it was reaffirmed in 2012 and supplemented with a set of concrete recommendations for achieving \"the new goal that within the next ten years, OA will become the default method for distributing new peer-reviewed research in every field and country.\"',\n",
       " 374: 'Felixstowe (/ˈfiːlᵻkstoʊ/) is an Edwardian seaside town and civil parish between the River Orwell and River Deben on the North Sea coast of Suffolk, England. The 2011 Census recorded the parish population as 23,689. It includes the Port of Felixstowe, which is the largest container port in the United Kingdom. The nearby small town of Walton is often viewed as an extension of Felixstowe as the two towns are virtually side by side, though Walton was the original village. The quieter area nearer to the Deben River is often referred to as Old Felixstowe, there is though no formal classification of Old Felixstowe.',\n",
       " 375: 'The Budapest Memorandum on Security Assurances refers to three identical political agreements signed in Budapest, Hungary on 5 December 1994, providing security assurances by its signatories relating to Belarus\\', Kazakhstan\\'s and Ukraine\\'s accession to the Treaty on the Non-Proliferation of Nuclear Weapons. The Memorandum was originally signed by three nuclear powers, the Russian Federation, the United States of America, and the United Kingdom. China and France gave somewhat weaker individual assurances in separate documents. The memorandum included security assurances against threats or use of force against the territorial integrity or political independence of Ukraine, Belarus and Kazakhstan. As a result, between 1994 and 1996, Belarus, Kazakhstan and Ukraine gave up their nuclear weapons. Before that, Ukraine had the world\\'s third largest nuclear weapons stockpile, of which Ukraine had physical if not operational control. The use of the weapons was dependent on Russian-controlled electronic Permissive Action Links and the Russian command and control system. Following the annexation of Crimea by the Russian Federation in 2014, the US, Canada, the UK, along with other countries, stated that Russian involvement is a breach of its obligations to Ukraine under the Budapest Memorandum, a Memorandum transmitted to the United Nations under the signature of Sergei Lavrov, amongst others, and in violation of Ukrainian sovereignty and territorial integrity. Russia stated that the Budapest Memorandum does not apply to the 2014 annexation, stating that it was driven by an internal political and social-economic crisis. Russia stated it was never under obligation to \"force any part of Ukraine\\'s civilian population to stay in Ukraine against its will.\" Russia suggested that the US was in violation of the Budapest Memorandum, describing the Euromaidan as a \"US-instigated coup\".',\n",
       " 376: 'Holly Brooks (born April 17, 1982) is an American cross country skier from Seattle, Washington who competed for Whitman College in 2001–04 and has competed recreationally since 2009. She has four victories in lesser events up to 10 km, all earned in 2009. She was a late qualifier to the 2010 Winter Olympics in Vancouver, her second ever international skiing competition following the 2010 World Cup in Canmore.',\n",
       " 377: 'In mathematics, an algebra is one of the fundamental algebraic structures used in abstract algebra. An algebra over a field is a vector space (a module over a field) equipped with a bilinear product. Thus, an algebra over a field is a set, together with operations of multiplication, addition, and scalar multiplication by elements of the underlying field, that satisfy the axioms implied by \"vector space\" and \"bilinear\". The multiplication operation in an algebra may or may not be associative, leading to the notions of associative algebras and nonassociative algebras. Given an integer n, the ring of real square matrices of order n is an example of an associative algebra over the field of real numbers under matrix addition and matrix multiplication. Euclidean space with multiplication given by the vector cross product is an example of a nonassociative algebra over the field of real numbers. An algebra is unital or unitary if it has an identity element with respect to the multiplication. The ring of real square matrices of order n forms a unital algebra since the identity matrix of order n is the identity element with respect to matrix multiplication. It is an example of a unital associative algebra, a (unital) ring that is also a vector space. Many authors use the term algebra to mean associative algebra, or unital associative algebra, or in some subjects such as algebraic geometry, unital associative commutative algebra. Replacing the field of scalars by a commutative ring leads to the more general notion of an . Algebras are not to be confused with vector spaces equipped with a bilinear form, like inner product spaces.',\n",
       " 378: \"Stamford is a town on the River Welland in Lincolnshire, England, 92 miles (148 km) north of London on the A1. The population at the 2001 census was 21,800 including the adjacent parish of St Martin's Without. The town has 17th and 18th-century stone buildings, older timber-framed buildings and five medieval parish churches. In 2013, Stamford was rated the best place to live by the Sunday Times.\",\n",
       " 379: \"The Budapest String Quartet was a string quartet in existence from 1917 to 1967. It originally consisted of three Hungarians and a Dutchman; at the end, the quartet consisted of four Russians. A number of recordings were made for HMV/Victor through 1938; from 1940 through 1967 it recorded for Columbia Records. Additionally, several of the Quartet's live performances were recorded, at the Library of Congress and other venues.\",\n",
       " 380: 'Nawada district is one of the thirty-eight districts of the Indian state of Bihar. Nawada is its administrative headquarters. The district is the westernmost district of the Magadh division, one of the nine administrative divisions of Bihar. The area of the modern district was historically part of the Magadha, Shunga and Gupta empires. Koderma and Giridih districts of the state of Jharkhand lie on the southern border of the district; it also shares borders with the Gaya, Nalanda, Sheikhpura, and Jamui districts of Bihar.',\n",
       " 381: 'Witmarsum is a municipality in the state of Santa Catarina in the South region of Brazil.',\n",
       " 382: 'Varzina River (Russian: Варзина) is a river in the north of the Kola Peninsula in Murmansk Oblast, Russia. It is 35 km in length. The Varzina River originates in the Lake Yenozero and flows into the Barents Sea. Its biggest tributary is the Penka River.',\n",
       " 383: 'Chadeleuf is a commune in the Puy-de-Dôme department in Auvergne in central France.',\n",
       " 384: 'Hugh Randall McKay (born January 25, 1967) is a retired Canadian professional hockey player. Playing the right wing position, he played in the National Hockey League from 1988 to 2003, with the Detroit Red Wings, New Jersey Devils, Dallas Stars, and Montreal Canadiens.',\n",
       " 385: 'Wokingham is a market town and civil parish in Berkshire in South East England about 39 miles (63 km) west of central London. It is about 7 miles (11 km) east-southeast of Reading and 4 miles (6.4 km) west of Bracknell. It contains an area of 557 acres (0.9 sq mi) and, according to the 2001 census, has a population of 30,403. It is the seat of the Borough of Wokingham, and forms part of the wider Reading/Wokingham Urban Area. Before 1844, the north of the parish of Wokingham was part of a detached portion, or exclave, of the county of Wiltshire, the border of which is some 30 miles (48 km) to the west. The Counties (Detached Parts) Act of that year resulted in its transfer to the county of Berkshire. Wokingham was a borough before the 1974 reorganisation of local government, when it merged with Wokingham Rural District to form the new Wokingham District. What had been Wokingham Borough became Wokingham Town, but retained its mayor. The District Council applied for borough status, which was granted and came into force on 9 March 2007. As of this date, the District (which stretches from the Buckinghamshire and Oxfordshire borders in the north to the Hampshire border in the southwest) has also been able to elect a mayor.',\n",
       " 386: 'Vilt is a village in the Dutch province of Limburg, within the municipality of Valkenburg aan de Geul. It is located on the top of the Cauberg. Vilt does not have its own church, and is a part of parish of Berg, but does have a primary school. The village also has several associations, including a football club.',\n",
       " 387: 'Fernando Enrique Carrillo Roselli (born January 6, 1966 in Caracas) is a Venezuelan actor.',\n",
       " 388: 'The Budapest School (Hungarian: Budapesti iskola, German: Budapester Schule) was a school of thought, originally of Marxist humanism, but later of Post-Marxism and dissident Liberalism that emerged in Hungary in the early 1960s，belonging to so called Hungarian New Left. Its members were students or colleagues of Georg Lukács. The school was originally oriented towards developing Lukacs\\' later works on social ontology and aesthetics, but quickly began to challenge the paradigm of Lukacsian-Marxism, thus reconstructing contemporary critical theory. Most of the members later came to abandon Marxism. The School also critiqued the \"dictatorship over needs\" of the Soviet states. Most of the members were forced into exile by the pro-Soviet Hungarian government. In a letter to the Times Literary Supplement of February 15, 1971, Georg Lukács drew attention to “The Budapest School of Marxism,” and helped attract attention to the school from Western Marxism. Members of the school include Ágnes Heller, Ferenc Fehér (hu), György Márkus, István Mészáros and Mihály Vajda, among others. The Budapest School\\'s writings have been read and researched widely since the 1960s.',\n",
       " 389: 'The Emmaus monastery (Czech: Emauzy or Emauzský klášter) is an abbey established in 1347 in Prague. The area became the only Benedictine monastery of the Bohemian kingdom and all Slavic Europe. In the 1360s, the Cloisters of the Monastery were decorated with a cycle of 85 wall Gothic paintings with parallels from the Old and New Testaments. The Gothic cloisters also feature original faded frescoes with bits of Pagan symbolism from the 14th century. The monastery was baroquized in the 17th-18th centuries and the two temple towers were added. Charles IV gave to the just-founded monastery the manuscript Reims Gospel, it was probably lost from Prague in the time of the Hussite Wars, manuscript later became part of the Reims Cathedral treasury. The monastery became a center of culture and art, students of Cyril and Methodius studied there in addition to Jan Hus. During WWII the monastery was seized by the Gestapo and the monks were sent to Dachau concentration camp. The monastery building and vaults were destroyed by a U.S. bombing raid on Prague on 14 February 1945. The modern roof with steeples was added in the 1960s. It was returned to the Benedictine order in 1990, the monastery currently belongs to three monks, two of whom live there.',\n",
       " 390: 'Nes is the second largest village on the island of Ameland, one of the West Frisian Islands in the northern Netherlands. It constitutes as the main village of the eastern, Roman Catholic part of Ameland. In the past, the Catholic Amelanders were involved in many conflicts with the western, Protestant Amelanders living in Hollum and Ballum. Nes has since become a popular tourist destination, as the place where the ferry from the mainland arrives. The village has many small shops and restaurants, a microdistillery, and a windmill, De Phenix.',\n",
       " 391: 'Montecreto is a comune (municipality) in the Province of Modena in the Italian region Emilia-Romagna, located about 60 kilometres (37 mi) southwest of Bologna and about 50 kilometres (31 mi) southwest of Modena. Montecreto borders the following municipalities: Lama Mocogno, Pavullo nel Frignano, Riolunato, Sestola.',\n",
       " 392: 'Wierum is a village in Dongeradeel in the province of Friesland, the Netherlands with a population of around 390.It features in The Wheel On The School by Meindert DeJong, where it has been renamed Shora. Wierum was DeJong\\'s birthplace. There is also an 11th-century church and a windmill in the village. Dejong made his hometown Wierum a notably popular area because of his popular novel \"The Wheel on the School.\"',\n",
       " 393: 'The Zhengde Emperor (Chinese: 正德; pinyin: Zhèngdé) (26 October 1491 – 20 April 1521) was the Ming dynasty Emperor of China between 1505–1521. Born Zhu Houzhao, he was the Hongzhi Emperor\\'s eldest son. His era name means \"Right virtue\" or \"Rectification of virtue\".',\n",
       " 394: 'Montefiorino is a comune (municipality) in the Province of Modena in the Italian region Emilia-Romagna, located about 60 kilometres (37 mi) southwest of Bologna and about 40 kilometres (25 mi) southwest of Modena.',\n",
       " 395: 'Lasowice Wielkie [lasɔˈvit͡sɛ ˈvjɛlkʲɛ] / German: Groß Lassowitz, (1936-45: Oberwalden) is a village in Kluczbork County, Opole Voivodeship, in south-western Poland. It is the seat of the gmina (administrative district) called Gmina Lasowice Wielkie. It lies approximately 13 kilometres (8 mi) south of Kluczbork and 31 km (19 mi) north-east of the regional capital Opole. In the Upper Silesia plebiscite of 20 March 1921 394 inhabitants (84,2%) voted to remain in Germany, 74 for Poland. Thus Groß Lassowitz remained part of the Weimar Republic. The village has a population of 764. There is an old wooden church in Lasowice Wielkie from the 16th century. The village is officially bilingual as the majority of its population are Germans. Bilingual signs were installed recently.',\n",
       " 398: 'Kikkan Randall (born December 31, 1982 in Salt Lake City, Utah) is an American cross-country skier from Anchorage, Alaska. She is the niece of former cross-country skiing Olympians Betsy Haines (1980) and Chris Haines (1976). She won the silver medal in the individual sprint at the FIS Nordic World Ski Championships 2009 in Liberec, becoming the first American woman to win a medal in cross country skiing at the FIS Nordic World Ski Championships and in 2013 teamed up with Jessica Diggins to win the first ever American FIS Nordic World Ski Championships gold medal in the team sprint.',\n",
       " 400: 'Budawang National Park is a national park in New South Wales, Australia, located approximately 200 kilometres (120 mi) southwest of Sydney and 25 kilometres (16 mi) north of Batemans Bay. It contains part of the Budawang Mountain Range. Budawang National Park is named after Mount Budawang. The mountain itself derives from the Aboriginal word ‘Buddawong’. The vantage point afforded by the mountain was originally used to make signal fires. The Budawang National Park is largely isolated. Its terrain is steep and rugged. The park comprises high-altitude moist forests.',\n",
       " 401: \"Tewkesbury (/ˈtjuːksbri/ TYEWKS-bree) is a town and civil parish in Gloucestershire, England. It stands at the confluence of the River Severn and the River Avon, and also minor tributaries the Swilgate and Carrant Brook. It gives its name to the Borough of Tewkesbury, of which the town is the second largest settlement. The name Tewkesbury comes from Theoc, the name of a Saxon who founded a hermitage there in the 7th century, and in the Old English tongue was called Theocsbury. An erroneous derivation from Theotokos enjoyed currency in the monastic period of the town's history.\",\n",
       " 402: 'Montese is a town in the province of Modena, Emilia-Romagna, Italy. During World War II, the town was liberated by Brazilian forces on 17 April 1945, after three days of battle against German forces. There is a neighborhood in the Brazilian city of Fortaleza, CE, named after the Italian city. This was to pay homage to the Brazilian soldiers who had died in the battle to take Montese from the Germans during World War II.',\n",
       " 403: 'Ternaard is a village in the municipality Dongeradeel located in the northeast of the province of Friesland between Dokkum and the Wadden Sea.',\n",
       " 405: 'José Maria Ferreira de Castro (May 24, 1898 in Oliveira de Azeméis – June 29, 1974 in Oporto) was a Portuguese writer and journalist. At age 12, he immigrated to Brazil, where his work at a rubber plantation for the next four years would be the inspiration for his most famous book, A Selva (1930), which was adapted for a 2002 film of the same title (released in English as The Forest). He returned to Portugal in 1919, and started working as a journalist. He was a noted oppositionist to António de Oliveira Salazar. He was also famous for his travel literature, namely his book A Volta ao Mundo, recounting his travels around the world in the outset of World War II.',\n",
       " 406: 'Leberecht Migge (March 30, 1881, Danzig (now Gdańsk, Poland) — May 30, 1935, Worpswede) was a German landscape architect, regional planner and polemical writer, best known for the incorporation of social gardening principles in the Siedlungswesen (settlement) movement during the Weimar Republic. Renewed interest in his work in recent decades bears relevance to current concerns about sustainability.',\n",
       " 407: 'Jouswier is a small village in Dongeradeel in the province of Friesland, the Netherlands. It had a population of around 50 in 2004. It is located on a mound to the northeast of Dokkum and to the southeast of Metslawier.',\n",
       " 409: 'The Dino 308 GT4 and 208 GT4 (later Ferrari 308 GT4 and 208 GT4) were mid-engined V8 2+2 cars built by Ferrari. The Dino 308 GT4 was introduced in 1973 and supplemented by the 208 GT4 in 1975. The cars were sold with Dino badging (continuing the Dino brand to differentiate non-V12 Ferrari) until May 1976, when they received Ferrari badging. The GT4 was replaced by the Mondial 8 in 1980 after a production run of 2,826 308s and 840 208s.',\n",
       " 410: 'The RB-1 Conestoga was a twin-engine, stainless steel cargo aircraft designed for the United States Navy during World War II by the Budd Company of Philadelphia, Pennsylvania. Although it did not see service in a combat theater, it pioneered design innovations in American cargo aircraft, later incorporated in modern military cargo airlifters.',\n",
       " 411: \"The Ferrari P4/5 (officially known as the Ferrari P4/5 by Pininfarina) is a one-off sports car made by Italian sports car manufacturer Ferrari but redesigned by Pininfarina for film director and stock exchange magnate James Glickenhaus. The car was initially an Enzo Ferrari but the owner James Glickenhaus preferred the styling of Ferrari's 1960s race cars, the P Series. The project cost Glickenhaus US$ 4 million and was officially presented to the public in August 2006 at the Pebble Beach Concours d'Elégance. Several websites were allowed to publish images of the clay model in July 2006.\",\n",
       " 412: 'Jessica \"Jessie\" Diggins (born August 26, 1991) is an American cross country skier from Afton, Minnesota.',\n",
       " 413: \"Goole is a town, civil parish and inland port located at junction 36 off the M62 via the A614 and approximately 45 miles (72 km) from the North Sea at the confluence of the rivers Don and Ouse in the East Riding of Yorkshire, England, although historically within the West Riding of Yorkshire. According to the 2011 UK census, Goole parish had a population of 19,518, an increase on the 2001 UK census figure of 17,600.The port, which is the UK's furthest inland port, is highly versatile and capable of handling nearly 3 million tonnes of cargo per annum, making it one of the most important ports on the east coast of England. Goole is twinned with Złotów in Poland. Goole was informally twinned with Gibraltar in the 1960s; at that time, Gibraltar Court was named in Goole and Goole Court was named in Gibraltar.\",\n",
       " 415: 'The Cumana railway is a commuter railway in Campania, southern Italy, connecting Naples by two separate routes with Torregaveta, near Cuma in the town of Bacoli (about 15 km west of Naples). It passes through Pozzuoli and the volcanic Campi Flegrei area. The line was built and run by the Società per le Ferrovie Napoletane (the Neapolitan Railway Company), founded in 1883, and is now operated by the EAV company.',\n",
       " 416: 'Hiaure (West Frisian: De Lytse Jouwer) is a small village in Dongeradeel in the province of Friesland, the Netherlands. It had a population of around 90 in 2006.',\n",
       " 417: 'Crion is a commune in the Meurthe-et-Moselle department in north-eastern France.',\n",
       " 418: 'Elizabeth \"Liz\" Stephen (born January 12, 1987) is an American cross country skier who has competed since 2005. Her best World Cup finish was fourth in a team sprint event at Whistler Olympic Park in January 2009 while her best individual finish was 24th in a 7.5 km + 7.5 km double pursuit event also at Whistler Olympics Park in January 2009. At the FIS Nordic World Ski Championships 2009 in Liberec, Stephen had her best finish of 14th in the 4 x 5 km relay and her best individual finish of 15th in the 7.5 km + 7.5 km double pursuit. It was announced on 19 January 2010 that she had qualified for the 2010 Winter Olympics where she finished 50th in the 10 km and 58th in the 15 km mixed pursuit. At the FIS Nordic World Ski Championships 2011 in Oslo, Stephen finished 16th in the Women\\'s 30 kilometre Freestyle, as the first of the four Americans in the class, with a time of 1:30:07. Stephen was named to the U.S. team for the 2014 Winter Olympics. In the 15 kilometer skiathlon, she placed 12th (out of 61 competitors) with a time of 40:09.6. In the 2015 Tour de Ski, she finished 5th in the overall ranking, also recording her best World Cup performance.',\n",
       " 419: 'The Ferret armoured car, also commonly called the Ferret Scout car, is a British armoured fighting vehicle designed and built for reconnaissance purposes. The Ferret was produced between 1952 and 1971 by the UK company, Daimler. It was widely adopted by regiments in the British Army as well as Commonwealth countries throughout the period.',\n",
       " 421: \"Niawier (West Frisian: Nijewier, that is: 'new warf') is a village in Dongeradeel in the province of Friesland, the Netherlands. It had a population of around 380 in 2004.\",\n",
       " 422: 'Haussonville is a commune in the Meurthe-et-Moselle department in north-eastern France.',\n",
       " 424: 'Waaxens (West Frisian: Waaksens) is a village in Dongeradeel in the province of Friesland, the Netherlands, with a population of around 35.',\n",
       " 425: 'Patna district is one of the thirty-eight districts of Bihar state in eastern India. Patna, the capital of Bihar state is the district headquarters. Patna district is a part of Patna division. As of 2011 it is the most populous district of Bihar (out of 39).',\n",
       " 426: 'Les Baroches is a commune in the Meurthe-et-Moselle department in northeastern France.',\n",
       " 427: 'BYOB or BYO is an initialism meant to stand for \"bring your own booze\", \"bring your own bottle\", \"bring your own beer\" or \"bring your own beverage\". BYOB is often placed on an invitation to indicate that the host will not be providing alcohol and that guests are welcome to bring their own. Some business establishments allow patrons to bring their own bottle, sometimes subject to fees or membership conditions, or because the establishment itself does not have license to sell alcohol.',\n",
       " 429: 'Foudgum is a small village in Dongeradeel in the province of Friesland, the Netherlands. It had a population of around 80 as of 2004.',\n",
       " 430: 'Azelot is a commune in the Meurthe-et-Moselle department in northeastern France.',\n",
       " 431: 'Raard is a village in Dongeradeel in the province of Friesland, the Netherlands. It had a population of around 220 in 2000.',\n",
       " 432: 'Biville is a commune in the Manche department in the Basse-Normandie region in northwestern France.',\n",
       " 433: 'Oosternijkerk (West Frisian: Easternijtsjerk) is a village in Dongeradeel in the province of Friesland, the Netherlands. It had a population of around 840 in 2004.',\n",
       " 434: 'Pallanne is a commune in the Gers department in southwestern France.',\n",
       " 435: 'John Logan Jenkins III (born March 6, 1991) is an American professional basketball player for the Phoenix Suns of the National Basketball Association (NBA). Jenkins was a two-time TSSAA Class AA Mr. Basketball selection, and was the Gatorade Tennessee High School Player of the Year in 2008–09. He played college basketball at Vanderbilt University.',\n",
       " 436: 'Wetsens is a village in Dongeradeel in the province of Friesland, the Netherlands. It had a population of around 167 in 2005 and is considered to be one of the oldest villages in the north-east of Friesland.',\n",
       " 437: 'Gradskovo is a village in the municipality of Zaječar, Serbia. According to the 2002 census, the village has a population of 666 people.',\n",
       " 438: 'Fertőendréd is a village in Győr-Moson-Sopron county, Hungary.',\n",
       " 439: 'Fertőhomok is a village in Győr-Moson-Sopron county, Hungary.',\n",
       " 440: 'Boulazac is a former commune in the Dordogne department in southwestern France. On 1 January 2016, it was merged into the new commune Boulazac-Isle-Manoire.',\n",
       " 441: 'Engwierum (West Frisian: Ingwierrum) is a small village in Dongeradeel in the province of Friesland, the Netherlands. It had a population of approximately 420 in 2004.',\n",
       " 442: \"Herbert W. Greenfield (November 25, 1869 – August 23, 1949) was a Canadian politician who served as the fourth Premier of Alberta from 1921 until 1925. Born in Winchester, Hampshire, in England, he immigrated to Canada in his late twenties, settling first in Ontario and then in Alberta, where he farmed. He soon became involved in the United Farmers of Alberta (UFA), a farmers' lobby organization that was in the process of becoming a political party, and was elected as the organization's vice president. Greenfield did not run in the 1921 provincial election, the first provincial general election in which the UFA fielded candidates, but when the UFA won a majority in the Legislature in that election he was chosen by the UFA caucus to serve as Premier. Like most of the UFA caucus, Greenfield had no experience in government and he struggled in the position. He relied extensively on his Attorney General, John E. Brownlee, for counsel on policy and strategy. He was unable to control his caucus, which did not generally believe in party discipline, and his government almost lost several votes in the Legislature despite its majority. He was unable to effectively address the problems facing farmers (including drought and low grain prices), bitter labour disputes in the coal industry, or the pronounced divisions in public opinion that had sprung up around prohibition (which his government ended). Despite this, his time as Premier saw the elimination of the provincial deficit, substantial progress in negotiating the transfer of natural resource rights from the federal government, and the creation of the Alberta Wheat Pool. He also named Irene Parlby as the province's first female cabinet minister. By 1924, many UFA Members of the Legislative Assembly (MLAs) wanted to see Greenfield leave office, both because they were frustrated with his failings and because they thought it likely that a Greenfield-led government would be defeated in the next election. Their first attempt to replace him failed when Brownlee, their intended replacement, refused to have anything to do with the plan, but a second attempt, in 1925, was successful when Brownlee agreed to take office if Greenfield personally requested that he do so. Greenfield had not wanted the job in the first place, and agreed to resign in Brownlee's favour. After his retirement from politics, Greenfield represented Alberta in London, England for several years before returning to Canada to work in the oil and gas industry. He died in 1949 at the age of 79.\",\n",
       " 444: 'Nonantola is a town and comune in the province of Modena in the Emilia-Romagna region of northern Italy. It is in the Po Valley about 10 kilometres (6 mi) from Modena on the road to Ferrara.',\n",
       " 445: 'Marker is a 2005 thriller novel by Robin Cook. The plot entails mysterious deaths investigated by Jack Stapleton and Laurie Montgomery, characters from previous novels by Cook.',\n",
       " 446: 'Hansjörg Wyss (IPA: /ˈhɑːnz/-jorg wiz) (born 19 September 1935) is a Swiss entrepreneur and businessman. As of 2015, Wyss ranks number 240 on the Forbes list of billionaires, with a net worth of approximately $6.1 billion.',\n",
       " 447: 'Nes is a village in Dongeradeel in the province of Friesland, the Netherlands, with a population of around 450.',\n",
       " 448: \"Yasa was a bhikkhu during the time of Gautama Buddha. He was the sixth bhikkhu in the Buddha’s sangha and was the sixth to achieve arahanthood. Yasa lived in the 6th century BCE in what is now Uttar Pradesh and Bihar in northern India. Yasa was raised in Varanasi in a life of luxury. His father was a millionaire. The family home was full of servants, musicians and dancers who catered for the family’s needs and entertainment. One day, when he had become a young man, Yasa awoke early and saw his female servants and entertainers asleep in a repulsive state. Disgusted by the spectacle, Yasa realised the vanity of worldly life, and left the family home muttering “Distressed am I, oppressed am I” and journeyed in the direction of Isipatana where the Buddha was temporarily residing after his first five bhikkhus had attained arahantship. This was five days after all of the first five bhikkhus had attained arahantship. The Buddha was pacing up and down in an open space near where Yasa was muttering “Distressed am I, oppressed am I”, and called Yasa over to him, inviting him to sit down. Yasa took off his golden sandals, saluted and sat down. The Buddha gave a dharma discourse, and Yasa achieved the first stage of arahanthood, sotapanna. At first, the Buddha spoke about generosity (Dana), morality (sila), celestial states (sagga), the evils of sensual pleasure (kamadinava), blessing of renunciation (nekkhammanisamsa), before teaching the Four Noble Truths. Yasa’s mother had noticed her son’s absence, and notified her husband, who sent horsemen in four directions to search for Yasa. Yasa’s father headed in the direction of Isipatana, following the trail left by the golden slippers. When the millionaire saw the Buddha and asked him if he had seen Yasa, the Buddha asked him to sit down, and then delivered a dharma talk. After this Yasa’s father became the first to take refuge in the Triple Gems, the Buddha, Dharma and Sangha. Yasa, who was in the vicinity and had heard the talk given to his father, became an arahant. After father and son were reunited, the father invited the Buddha and the Sangha to his home for alms on the following day. The Buddha then ordained Yasa. The Buddha and his six arahants visited the home of Yasa the following day. Yasa’s mother and his former wife thus became the first two female lay disciples. Upon hearing of Yasa's ordination, four of his closest friends, Vimala, Subahu, Punnaji and Gavampati followed him into the sangha and they too became arahants. Within two months, a further fifty of Yasa's friends had joined the Sangha and attained arahantship, bringing the total number of arahants to sixty.\",\n",
       " 449: 'Buddharūpa (literally, \"Form of the Awakened One\") is the Sanskrit and Pali term used in Buddhism for statues or models of the Buddha.',\n",
       " 450: 'Novi di Modena is a comune (municipality) in the Province of Modena in the Italian region Emilia-Romagna, located about 60 kilometres (37 mi) northwest of Bologna and about 25 kilometres (16 mi) north of Modena in the Pianura Padana.',\n",
       " 451: 'Fertőszéplak is a village in Győr-Moson-Sopron county, Hungary. Fertődszéplak is one of the Hungarian villages on the international Lake Neusiedl Bike Trail. Other Hungarian places on the course are Fertőd, Hegykő, Fertőhomok, Hidegség, Fertőboz, Balf und Fertőrákos. The important Hungarian noble family Széchenyi originated from Fertöszéplak and lived here until they moved to Nagycenk in the 18th century. The baroque Allsaints church was built in 1726 under Count György Széchenyi. Besides the church is a small calvary. The Széchenyi castle is situated opposite the church. The Village Museum: On the Széplaki Road you can find several examples of baroque farmhouses. Five of them contain the village museum. These nicely restorated buildings exhibit examples of history and work and life of the common people around the Lake Neusiedl. Different examples of fully furnished kitchens, bed- and livingrooms show the development of the lifestyle from 1850 to 1950. Also on display are examples of craftmenship like weaving, wickerwork and fishing. In the barns and sheds, some of them with thatched roofs, examples of the technical development in farming are shown.',\n",
       " 452: 'Fertőszentmiklós is a small town in Győr-Moson-Sopron county, Hungary.',\n",
       " 453: 'Freeport Township may refer to the following townships in the United States:',\n",
       " 454: \"Leiderdorp ([lɛi̯dərˈdɔrp]) is a town and municipality in the western Netherlands, in the province of South Holland near the city of Leiden. It had a population of 26,786 in 2014. The municipality covers an area of 12.28 km2 (4.74 sq mi) of which 0.73 km2 (0.28 sq mi) is water. Leiderdorp has now become a suburb of the city of Leiden, although the Oude Rijn (Old Rhine) river and the Zijl river separate the two. The HSL-Zuid high-speed rail line between Amsterdam and Brussels crosses Leiderdorp in a tunnel. It is one of the oldest towns in Zuid Holland province and was a base for the Spanish army in the Eighty Years' War. Leiderdorp is twinned with Šamorín, in Slovakia.\",\n",
       " 455: 'The Amazing Race Asia is a reality television game show based on the American series, The Amazing Race. The third installment of the show features ten teams of two with a pre-existing relationship, in a race around Asia to win US$100,000. The season premiered on 11 September 2008 and consists of 11 episodes, two episodes fewer than the first and second seasons. The season finale aired on 20 November 2008. In 2009, the series was nominated for an International Emmy Award for Best Non-Scripted Entertainment, losing to the Dutch reality series The Phone. Hong Kong friends Vince Chung & Sam Wu are the winners of the race, they are the first team with a non-Asian in the Asian Version to win the race.',\n",
       " 456: 'Buddha and the Chocolate Box is the eighth studio album by Cat Stevens. The title came to Stevens when he was travelling to a gig on a plane with a Buddha in one hand and a box of chocolates in the other. He pondered that if he were to die in the plane these would be the last objects with him, and he would be caught between the spiritual and the material. The album leans towards the spiritual path, and is an indication of the direction his life would follow.',\n",
       " 457: 'Purnia district is one of the thirty-eight districts of Bihar state, India. The town of Purnia is the administrative headquarters of this district. Purnia district is a part of Purnia Division. The district extends northwards from the Ganges river.',\n",
       " 458: 'Patrick Joseph Walsh (born 9 April 1931), is an Irish prelate of the Roman Catholic Church and from 1991 until 2008 he was the 31st Bishop of Down & Connor. Dr Walsh was born in 1931 at Cobh, Irish Free State. When he was 11 years old, he and his family moved to Belfast, Northern Ireland.',\n",
       " 459: 'Kemaliye (formerly Eğin) (Armenian: Ակն, Romanized Old Armenian: Akn, meaning \"spring\") is both a town in and one of the nine districts of Erzincan Province in the Eastern Anatolia region of Turkey. The town is known for its historic architecture, including many Ottoman-era houses. It is also notable for its commanding view of the river Karasu (Euphrates) flowing south through a gorge above the Keban dam.',\n",
       " 460: 'Jan Dara (Thai: จัน ดารา) is a 2001 Thai erotic-period-drama film directed and co-written by Nonzee Nimibutr and co-starring Hong Kong cinema actress Christy Chung. It is based on a novel by Utsana Phloengtham. The film premiered at the 2001 Toronto International Film Festival. In Thailand, the film was controversial because its sex scenes tested the censorship bounds of the 1930 Film Act.',\n",
       " 461: 'Guns of the Magnificent Seven (1969) (also known as The Magnificent Seven 3)[citation needed] is a Zapata Western and the second sequel to the 1960 western film, The Magnificent Seven (itself based on Akira Kurosawa\\'s Seven Samurai). The picture was directed by Paul Wendkos and stars George Kennedy as Chris Adams, the character Yul Brynner portrayed in the first two films. The additions to the cast to make up the \"new\" seven are Monte Markham, Bernie Casey (in his film debut), James Whitmore, Reni Santoni, Joe Don Baker and Scott Thomas. Each have their quirks and baggage. They band together to help free a Mexican revolutionary (Fernando Rey) and help fight the oppression of sadistic militarist Diego played by Michael Ansara. Elmer Bernstein once again provides the music. It was filmed in Spain as was the previous Return of the Seven.',\n",
       " 462: 'Palagano is a comune (municipality) in the Province of Modena in the Italian region Emilia-Romagna, located about 60 kilometres (37 mi) southwest of Bologna and about 45 kilometres (28 mi) southwest of Modena. As of 31 December 2004, it had a population of 2,455 and an area of 60.4 square kilometres (23.3 sq mi). The municipality of Palagano contains the frazioni (subdivisions, mainly villages and hamlets) Boccassuolo, Costrignano, Monchio, Savoniero, and Susano. Palagano borders the following municipalities: Frassinoro, Lama Mocogno, Montefiorino, Polinago, Prignano sulla Secchia, Riolunato, Toano.',\n",
       " 463: 'Yegorlykskaya (Russian: Егорлыкская) is a rural locality (a stanitsa) and the administrative center of Yegorlyksky District in Rostov Oblast, Russia. Population: 17,660\\u2009(2010 Census); 18,005\\u2009(2002 Census); 15,805\\u2009(1989 Census).',\n",
       " 464: 'The Amazing Race 13 is the 13th installment of the reality television competition series The Amazing Race. It featured 11 teams of two, each with a preexisting relationship, in a race around the world. The 13th season was part of the fall line-up for 2008-09 season and premiered Sunday nights at 8:00 p.m. ET/PT starting on September 28, 2008 and the season finale aired on December 7, 2008, at 8:00 p.m. ET/PT. Siblings Nick and Emily \"Starr\" Spangler were the winners of this race. Excluding the Family Edition, \"Starr\" remains the youngest person ever to win the Amazing Race at age 21. Nick and Starr are also the first team of siblings to win the competition. A DVD for this season was released on April 8, 2014, through Amazon\\'s CreateSpace program.',\n",
       " 465: 'Ordubad (also, Ordoubat and Ordubat), is the second largest town and a municipality of the Nakhchivan Autonomous Republic of Southern Azerbaijan and is one of its three regions. It is the capital of the Ordubad rayon. Ordubad declared a medieval city of the Caucasus in its current capacity of a town was founded in the 18th century. The town is divided into five districts of the Ambaras, the Kurdtatal, the Mingis, the Sar sheher, and the Uch. Ordubad is known as the “pearl” of Nakhchevan province and is well known for its exports of fruits and spices, and for its cuisine.',\n",
       " 466: 'Pavullo nel Frignano is a town and comune in the province of Modena, Emilia-Romagna, Italy, in the Modenese Apeninnes. It is home to the medieval Castle of Montecuccolo, birthplace of the 17th century condottiero Raimondo Montecuccoli, and of the pieve of San Giovanni Battista di Renno (8th-9th century AD). Economy is mostly based on agriculture. The 2006 World Cup winning Italian footballer Luca Toni was born in Pavullo nel Frignano. The airport Pavullo nel Frignano Airport is in the commune.',\n",
       " 467: 'The Chart Pattana Party (Thai: พรรคชาติพัฒนา, English: National Development Party) is a Thai political party. The chairman of the party is Wannarat Channukul. His brother-in-law, the party\\'s \"chief advisor\" Suwat Liptapanlop is however considered its de facto leader. It was founded under the name of Ruam Jai Thai Chart Pattana (\"Thais United National Development Party\") as a merger of Thais United and the former National Development Party in September 2007. In the Thai general election, 2007, the party received enough votes to gain eight out of 480 seats in the House of Representatives of Thailand. After 2008, the party was a member of the six-party coalition government led by the Democrat Party\\'s leader, Prime Minister Abhisit Vejjajiva. The party\\'s leader Wannarat Channukul was Minister of Energy in Abhisit\\'s cabinet. The party name was shortened to Ruam Chart Pattana. In 2011, the Ruam Chart Pattana Party merged with the Puea Pandin Party and changed its name to Chart Pattana Puea Pandin. In the election on 3 July 2011, the party won 7 of the 500 seats in the House of Representatives, five constituency-based and two on the party list. Four of its constituencies are in Nakhon Ratchasima, the party\\'s stronghold and home province of its leaders. After the elections and Pheu Thai Party\\'s victory, the party agreed with Pheu Thai and three other minor parties to form a coalition government under the leadership of Yingluck Shinawatra. Later in 2011, the party name was again simplified to its current version. Thai tennis player Paradorn Srichaphan an taekwando athlete Yaowapa Boorapolchai joined the Chart Pattana Party to run in the 2011 elections. Sophon Kaosoo, 50, a Laem Kaen Pattana Party candidate was killed while campaigning in the local council elections, due to take place on March 2, 2014. Police believe that the assassination was most likely politically motivated.',\n",
       " 468: 'Stephen Asa Northway (June 19, 1833 – September 8, 1898) was a U.S. Representative from Ohio. Born in Christian Hollow, New York, Northway moved with his parents in 1840 to the township of Orwell, Ohio. He attended the district school, Kingsville Academy, and Orwell Academy. He taught school. He studied law. He was admitted to the bar in 1859 and commenced practice in Jefferson, Ohio. He served as prosecuting attorney of Ashtabula County 1861-1865.He served as member of the State house of representatives in 1865 and 1866.He resumed the practice of law. Northway was elected as a Republican to the Fifty-third, Fifty-fourth, and Fifty-fifth Congresses and served from March 4, 1893, until his death in Jefferson, Ohio, on September 8, 1898.He was interred in Oakdale Cemetery.',\n",
       " 469: \"Khojavend (Azerbaijani: Xocavənd, Martuni (Armenian: Մարտունի)) is a town and the provincial capital of the Martuni Province of the de facto independent but unrecognized Nagorno-Karabakh Republic. It is located approximately 41 kilometers east of the republic's capital of Stepanakert. Its population according to the 2005 Nagorno-Karabakh census stands at 4878.\",\n",
       " 470: 'The Buddhabrot is a fractal rendering technique related to the Mandelbrot set. Its name reflects its pareidolic resemblance to classical depictions of Gautama Buddha, seated in a meditation pose with a forehead mark (tikka) and traditional topknot (ushnisha). The map is created by counting the number of times in the iterative creation algorithm a point is visited.',\n",
       " 471: 'Sveržov is a village and municipality in Bardejov District in the Prešov Region of north-east Slovakia.',\n",
       " 473: 'The economy of the Faroe Islands was the 166th largest in the world in 2014, having a nominal gross domestic product (GDP) of $2.613 billion per annum. High dependence on fishing means the economy remains extremely vulnerable. The Faroese hope to broaden their economic base by building new fish-processing plants. Petroleum found close to the Faroese area gives hope for deposits in the immediate area, which may lay the basis to sustained economic prosperity. Also important are the annual subsidy from Denmark, which amounts to about 3% of the GDP. The Faroes have one of the lowest unemployment rates in Europe, but this is not necessarily a sign of a recovering economy, as many young students move to Denmark and other countries once they are finished with high school. This leaves a largely middle-aged and elderly population that may lack the skills and knowledge to take IT positions on the Faroes.',\n",
       " 474: 'Rohtas district (Hindi: रोहतास ज़िला; Urdu: روہتاس ضلع) is one of the thirty-eight districts of Bihar state, India. The Rohtas district is a part of Patna Division, and it has an area of 3850 km² (square kilometres), a population of 2,448,762 (2001 census), and a population density of 636 persons per km². The language spoken in this area is [Bhojpuri,Hindi and English].',\n",
       " 475: 'Buddhism in Germany looks back to a history of over 150 years. Arthur Schopenhauer was one of the earliest Germans who were influenced by Buddhism. Schopenhauer got his knowledge of Buddhism from authors like Isaac Jacob Schmidt (1779-1847). German Buddhists or Orientalists like Karl Eugen Neumann, Paul Dahlke, Georg Grimm, Friedrich Zimmermann (Subhadra Bhikschu) and the first German Buddhist monk Nyanatiloka were also influenced by Schopenhauer and his understanding of Buddhism. But also German Indologists like Hermann Oldenberg and his work ”Buddha, sein Leben, seine Lehre, seine Gemeinde“ had an important influence on German Buddhism. In 1888 Subhadra Bickshu (Friedrich Zimmermann) published the first edition of the \"Buddhistischer Katechismus\", a work based on the \"Buddhist Catechism\" of Henry Steel Olcott. In 1903 the first German Buddhist organisation was founded by the Indologist Karl Seidenstücker in Leipzig. In 1904 Florus Anton Gueth became the Theravada monk Nyanatiloka Mahathera. Some important Pali texts were translated into German in the early part of the 20th century by scholars like Karl Eugen Neumann (1865-1915), Nyantiloka and others. In 1922 Hermann Hesse published his famous work \"Siddhartha\", which has been translated into many languages. In 1924 Dr. Paul Dahlke established the first German Buddhist monastery, the \"Das Buddhistische Haus\" in Berlin. The German Dharmaduta Society, initially known as the Lanka Dhammaduta Society and dedicated to spreading the message of the Buddha in Germany and other Western countries, was founded by Asoka Weeraratna in 1952. In 1952 a German Branch of the Buddhist Order Arya Maitreya Mandala was founded by Lama Anagarika Govinda. In 1957 the German Dharmaduta Society purchased the premises of \"Das Buddhistische Haus\" from the heirs of Dr. Dahlke. It is now a Centre for the spread of Theravada Buddhism in Europe. As the second oldest Buddhist institution in Europe, German authorities have designated it a National Heritage site. In 2015 the first bhikkhuni ordination in Germany, the Theravada bhikkhuni ordination of German nun Samaneri Dhira, occurred on June 21 at Anenja Vihara. According to the Deutsche Buddhistische Union (German Buddhist Union), an umbrella organisation of the Buddhist groups in Germany, there are about 245,000 active Buddhists in Germany (as of 2005 ), 50% of them are Asian immigrants. They are organized in about 600 groups. In 1977 there were just 15 Buddhist groups.',\n",
       " 476: 'Janaozen or Zhanaozen (Kazakh: Жаңаөзен / Jañaözen), formerly known as Novy Uzen (Russian: Новый Узень, until 1993), is a town in the Mangystau Region of Kazakhstan located south-east of the city of Aktau. The name of the town means \"new river\" in Kazakh. Zhanaozen is a town of regional significance. It is completely surrounded by the territory of Karakiya District, but administratively does not belong to the district. Population: 48,871 (2009 Census results); 91,332 (1999 Census results).',\n",
       " 477: 'Salvia miltiorrhiza (simplified Chinese: 丹参; traditional Chinese: 丹參; pinyin: dānshēn), also known as red sage, Chinese sage, tan shen, or danshen, is a perennial plant in the genus Salvia, highly valued for its roots in traditional Chinese medicine. Native to China and Japan, it grows at 90 to 1,200 m (300 to 3,940 ft) elevation, preferring grassy places in forests, hillsides, and along stream banks. The specific epithet miltiorrhiza means \"red ochre root\".',\n",
       " 479: 'Buddhism in Iceland has existed since the 1990s after immigration from countries with Buddhist populations, mainly Thailand. As of 2008, there are three Buddhist organizations in Iceland officially recognized as religious organizations by the Icelandic government. The oldest and largest is the Buddhist Association of Iceland, a Theravada group, which was recognized in 1996 and had 880 members in 2010. Another group, Zen in Iceland – Night Pasture, a Zen group, was recognized in 1999 and had 75 members in 2010. The most recent group is, SGI in Iceland, a Soka Gakkai group, which was recognized in 2008 with 135 members. Together, these three organizations represent approximately 0.3% of the population of Iceland. This is more than the Islamic groups but less than the pagan groups.',\n",
       " 480: 'Pievepelago is a comune (municipality) in the Province of Modena in the Italian region of Emilia-Romagna. It is about 70 kilometres (43 mi) southwest of Bologna and about 60 kilometres (37 mi) southwest of Modena. It is a tourist resort in the Modenese Apennines, crossed by the Via Vandelli. It has a population of about 2000 inhabitants, spread among the main town and its frazioni S. Anna Pelago, Roccapelago, S. Andrea Pelago and Tagliole.',\n",
       " 482: 'Vlist (About this sound pronunciation ) is a village and former municipality in the western Netherlands, in the province of South Holland. Since 2015 it has been a part of the municipality of Krimpenerwaard. The municipality covered an area of 56.51 km2 (21.82 sq mi) of which 2.80 km2 (1.08 sq mi) was water. It had a population of 9,750 in 2014. On 1 January 1985, the municipalities of Haastrecht, Stolwijk, and Vlist were merged and the new municipality was named after the little river Vlist. The former municipality of Vlist included the population centres of Haastrecht, Stolwijk, and Vlist. The Vlist is a river in South Holland which runs from Schoonhoven to Haastrecht where it empties into the Hollandsche IJssel. It passes Schoonhoven, Bonrepas, Vlist and Haastrecht. The river stretches as the crow flies about 10 kilometres (6 miles).The Vlist is a bog river and was formerly used as a basin for polders around the river; there were a lot of windmills on the banks of the river for pumping water. Previously, the Vlist was used for the transport of goods, particularly from Schoonhoven to Utrecht. Today the river has a tourist function. In particular cyclists and pedestrians use the area for their tours. In the summer the roads beside the Vlist are filled with cyclists and hikers. The river itself is often navigated with canoes which can be hired in Haastrecht. In the winter when the river is frozen, the Two Provinces trip is organized for the ice-skate enthusiasts. Famously, along this river (at Bonrepas) Wilhelmina of Prussia, wife of William V, was stopped on June 28, 1787 by patriots from Gouda and then brought to a farm on the Goejanverwelle Lock.',\n",
       " 483: 'Cuves is a commune in the Manche department in Normandy in north-western France.',\n",
       " 484: 'While it was the predominant faith of the region until about the 11th century, Buddhism is now the third largest religion in Bangladesh with about 0.7% of population adhering to Theravada Buddhism. Over 65% of the Buddhist population is concentrated in the Chittagong Hill Tracts region, where Buddhism the predominant faith of the Chakma, Marma, Tanchangya and other Jumma people, while the remaining 35% of the population are from the Bengali Buddhist community. Buddhist communities are present in the urban centers of Bangladesh, particularly Chittagong and Dhaka.',\n",
       " 485: 'Polinago is a comune (municipality) in the Province of Modena in the Italian region Emilia-Romagna, located about 50 kilometres (31 mi) southwest of Bologna and about 40 kilometres (25 mi) southwest of Modena.',\n",
       " 486: \"The first Croatian Buddhist group was founded in Zagreb in the 80's. Several groups have formed since, affiliated with different traditions. Estimates of the number of Buddhists in Croatia vary from 500 to 1000, depending on the definition. At present, active Buddhist groups are working to establish foundational practices and communities in major cities. Traditions represented presently are Nyingma and Rime (nonsectarian) of Tibetan Buddhism, Shingon and Zen of Japanese Buddhism, and Ch'an of Chinese Buddhism.\",\n",
       " 487: 'Tuzlucа (Armenian: Կողբ; Russian: Когб; Kurdish: Elîdizk/Qulp;[citation needed] formerly known as Koghb, Kulp, and Goghb) is a town and district of Iğdır Province in the Eastern Anatolia region of Turkey. Part of the district forms the international border between Turkey and Armenia.',\n",
       " 488: 'Hautteville-Bocage is a commune in the Manche department in north-western France.',\n",
       " 489: 'Buddhism in Norway has existed since the beginning of the 1970s, after immigration from countries with Buddhist populations, mainly Vietnam. Buddhistforbundet (The Buddhist Federation) in Norway was established as a religious society in 1979 by two Buddhist groups (The Zen School and Karma Tashi Ling buddhistsenter) who wanted to create a common organization to preserve issues of common interest. As of 2013, there are over 30 to 50 thousand (between 0.7% and up to 1% of the total population) registered Buddhists in Norway. Around 5% of them are ethnic Norwegians.',\n",
       " 491: 'Prignano sulla Secchia is a comune (municipality) in the Province of Modena in the Italian region Emilia-Romagna, located about 50 kilometres (31 mi) west of Bologna and about 30 kilometres (19 mi) southwest of Modena. It is in the Modenese Appennines, in the valley of the Secchia river. Prignano sulla Secchia borders the following municipalities: Baiso, Castellarano, Palagano, Polinago, Sassuolo, Serramazzoni, Toano.',\n",
       " 492: 'A silhouette racing car is a race car which, although bearing a superficial resemblance to a production model, differs mechanically in fundamental ways. The purpose of silhouette cars is to provide a manufacturer with a tangible link to their consumer product offering so as to derive maximum marketing benefit from their investment in the sport. They also provide spectators with familiar car models with which they can identify. Entire championship fields can consist of silhouettes, or sometimes only a single class in a multi-class field may permit silhouettes. Notable racing classes where silhouette cars have been used include NASCAR, Group 5 Special Production Cars, Group B rallying, DTM and V8 Supercars. Silhouette cars often employ radically different chassis construction techniques such as tubular space frames or carbon fibre tubs in place of regular monocoques, and many also have completely different drivetrain configurations than their road-going counterparts. The bodyshells themselves are generally made of lightweight materials such as glass-reinforced plastic or carbon fibre and often few or no parts are shared between race and road versions of the cars. These changes are aimed at improving the desirable characteristics of the components, such as increasing the stiffness of the chassis, or the output of the engine. Due to homologation rules (e.g. Group B rally cars), some silhouette racing cars, such as the Lancia 037 and Lancia Delta S4, also end up being sold as road cars.',\n",
       " 493: 'Erlau is a river of Bavaria, Germany.',\n",
       " 494: 'Kvæði (Kvaedi; at kvøða: \"to sing a tune or kvæði\"; kvæði also means verse in Icelandic, also sometimes used to mean stanza) are the old ballads of the Faroe Islands, accompanied by the Faroese dance. Kvæði can have hundreds of stanzas plus a chorus sung between every verse. The subject matter of Faroese ballads varies widely, including heroic narratives set in the distant past, contemporary politics, and comic tales. The most archaic-looking layer, however, is the heroic narratives. It was once thought that these derive independently from Viking-Age oral narratives, and this may be true of a few, but it has since been shown that most derive directly from written Icelandic sagas or occasionally rímur. The traceable origins of Faroese balladry, then, seem to lie between the fourteenth century (when the relevant Icelandic sagas tended to be composed) and the seventeenth (when contacts with Iceland diminished). Faroese ballads began to be collected by Jens Christian Svabo in 1781–1782, though Svabo\\'s collection was not published in his lifetime; the most prominent of Svabo\\'s successors was Venceslaus Ulricus Hammershaimb. The Danish historians Svend Grundtvig and Jørgen Bloch began the process of a complete, standard edition of the ballads, which eventually gave rise to the Føroya kvæði/Corpus carminum Færoensium, published between 1941 and 2003. In the last volume, Marianne Clausen presented a large collection of music transcriptions of kvæði melodies, based on sound recordings. Ballads took an important role in the development of Faroese national consciousness and the promotion of literacy in Faroes in the nineteenth and twentieth centuries. Among the most famous of all kvæði is Ormurin langi written by Jens Christian Djurhuus and today played by the Faroese folk metal band Týr.',\n",
       " 495: 'Lachin (Azerbaijani: Laçın (Azeri for \"hawk\"), Armenian: Բերձոր Berdzor; also Abdallyar, Datschin) or Berdzor is a town internationally recognized as part of Azerbaijan, but currently controlled by the de facto independent unrecognized Nagorno-Karabakh Republic. Since 1992 the area has been under the control of NKR, which has renamed the town Berdzor, and acts as the capital of Kashatagh Province. The government of Azerbaijan considers it to be the regional center of its Lachin Rayon. The town and its surrounding region serve as the strategic Lachin corridor connecting the Nagorno-Karabakh Republic with Armenia.',\n",
       " 496: 'Roger N Morris (born 1960 in Manchester) is an English writer and advertising copywriter. His short fiction has been published in a number of mainstream, genre, and literary publications. One of his short stories, \"The Devil\\'s Drum\", appeared in the horror anthology Darkness Rising, and was subsequently made into an opera performed by the Solaris Musical Theatre Company in the Purcell Room on London\\'s South Bank. His first novel, Taking Comfort, is published by Macmillan New Writing and appeared in April 2006. His second novel A Gentle Axe, based on the character Porfiry Petrovich from Dostoevsky\\'s Crime and Punishment, is published by Faber and Faber.',\n",
       " 497: 'Buddhism is the major religion in Bhutan. Vajrayana Buddhism is the state religion of Bhutan, and Buddhists comprise two-thirds to three-quarters of its population. Although the Buddhism practiced in Bhutan originated in Tibetan Buddhism, it differs significantly in its rituals, liturgy, and monastic organization. The state religion has long been supported financially by the government through annual subsidies to Buddhist monastery, shrines, monks, and nuns. In the modern era, support of the state religion during the reign of Jigme Dorji Wangchuck includes the manufacture of 10,000 gilded bronze images of the Buddha, publication of elegant calligraphied editions of the 108-volume Kangyur (Collection of the Words of the Buddha) and the 225-volume Tengyur (Collection of Commentaries), and the construction of numerous chorten (stupas) throughout the country. Guaranteed representation in the National Assembly and the Royal Advisory Council, Buddhists constitute the majority of society and are assured an influential voice in public policy.',\n",
       " 498: \"Yehud (Hebrew: יְהוּד) is a city in the Center District in Israel that is part of the joint municipality of Yehud-Monosson. In 2007, Yehud's population is approximately 30,000 (including Neve Monosson – see below).\",\n",
       " 499: 'The Faroese media consists of several newspapers, radio stations, magazines, as well as a local TV station, Kringvarp Føroya. The first Digital Terrestrial Television service was switched on during December 2002, broadcasting from seven transmitter sites. Subscription satellite television is also available in the Faroe Islands.',\n",
       " 500: 'Ravarino is a comune (municipality) in the Province of Modena in the Italian region Emilia-Romagna, located about 30 kilometres (19 mi) northwest of Bologna and about 15 kilometres (9 mi) northeast of Modena. As of 31 December 2004, it had a population of 5,900 and an area of 28.5 square kilometres (11.0 sq mi). The municipality of Ravarino contains the frazioni (subdivisions, mainly villages and hamlets) Rami, Casoni, Stuffione, and La Villa. Ravarino borders the following municipalities: Bomporto, Camposanto, Crevalcore, Nonantola.',\n",
       " 501: 'Buddhism in Central Asia refers to the forms of Buddhism that existed in Central Asia, which were historically especially prevalent along the Silk Road. The history of Buddhism in Central Asia is closely related to the Silk Road transmission of Buddhism during the first millennium of the common era.',\n",
       " 502: \"HaZore'a (Hebrew: הַזּוֹרֵעַ, lit. The Sower) is a kibbutz in northern Israel. Located in the west of the Jezreel Valley, it falls under the jurisdiction of Megiddo Regional Council. In 2006 it had a population of 901.\",\n",
       " 503: 'Cavigny is a commune in the Manche department in Normandy in north-western France.',\n",
       " 504: 'Buddhism is a legally recognized religion in Austria and it is followed by more than 10,000 Austrians. Although still small in absolute numbers (10,402 at the 2001 census), Buddhism in Austria enjoys widespread acceptance. A majority of Buddhists in the country are Austrian nationals (some of them naturalized after immigration from Asia, predominantly from the People\\'s Republic of China and Vietnam), while a considerable number of them are foreign nationals. As in most European countries, different branches and schools of Buddhism are represented by groups of varying sizes. Vienna not only has the largest number of foreign residents, but is also the place with the longest tradition of Buddhism in the country. Most of Austria\\'s Buddhist temples and centres of practice can be found there; some with a specific Chinese, Vietnamese, Tibetan or Japanese appearance. The latest development has been the establishment of a “Buddhist Cemetery” around a stupa-like building for funeral ceremonies at the Vienna Central Cemetery. Buddhism was officially recognized under Austrian law in 1983. Russia is the only other \"European\" country to forwardly recognize Buddhism as \"native\" to its own soil, giving it official status, along with Orthodox Christianity, Islam, and Judaism.',\n",
       " 505: 'Yifat (Hebrew: יִפְעַת, more accurated romanized as \"Yif\\'at\") is a kibbutz in Galilee, northern Israel. Located adjacent to the town Migdal HaEmek and short distances from the cities of Afula and Nazareth. It falls under the jurisdiction of Jezreel Valley Regional Council. In 2006 it had a population of 717.',\n",
       " 506: '1. deild is the second tier league of football in the Faroe Islands. It was founded in 1976. The league is organised by the Faroe Islands Football Association. It was originally the top level of Faroe Islands football but was replaced by the Faroe Islands Premier League in 2005. It currently has 10 participating clubs. At the end of each season, two teams are relegated and two promoted from what is now the 2. deild, pending the fact that the winning team in any given division does not already have a senior team in the division it is being promoted to. In such cases the team that finished second will be promoted in its stead. If a team is relegated to a division where one of its teams are already playing, the second best team will move one division down, thereby saving another team from relegation.',\n",
       " 507: 'Active United States military aircraft is a list of military aircraft that are used by the United States military. For aircraft no longer in-service see List of military aircraft of the United States.',\n",
       " 508: 'see Eli Geva, Geva Alon Geva (Hebrew: גֶּבַע, lit. Hill) is a kibbutz in the Jezreel Valley in Israel. Located near the city of Afula, it falls under the jurisdiction of Gilboa Regional Council.',\n",
       " 509: 'Riolunato is a comune (municipality) in the Province of Modena in the Italian region Emilia-Romagna, located about 60 kilometres (37 mi) southwest of Bologna and about 50 kilometres (31 mi) southwest of Modena. It is overlooked from the south by the Monte Cimone. Its fraction Le Polle, about 1,300 metres (4,300 ft) high, is one of the most important stations in the Monte Cimone Ski resort. Riolunato borders the following municipalities: Fiumalbo, Frassinoro, Lama Mocogno, Montecreto, Palagano, Pievepelago, Sestola.',\n",
       " 510: 'Couville is a commune in the Manche department in Normandy in north-western France.',\n",
       " 511: 'Piotr Trzaskalski ([ˈpjɔtr tʂasˈkalskʲi]; born in Łódź, Poland, on February 5, 1964) is a Polish film director and screenwriter.',\n",
       " 512: 'Cromford is a village, two miles to the south of Matlock in the Derbyshire Dales district in Derbyshire, England. It is principally known for its historical connection with Richard Arkwright, and the nearby Cromford Mill which he built outside of the village in 1771. Cromford is in the Derwent Valley Mills World Heritage site.',\n",
       " 513: 'Kaiyuan (simplified Chinese: 开原; traditional Chinese: 開原; pinyin: Kāiyuán; literally: \"Open Plains\") is a county-level city in the northeast of Liaoning, People\\'s Republic of China, bordering Jilin for a small section to the north. It is under the administration of Tieling City, the centre of which lies 33 kilometres (21 mi) to the southwest.',\n",
       " 514: 'The Buddhist Society is a UK registered charity with the stated aim to: The Buddhist Society is an inter-denominational and non-sectarian lay organization. It offers talks and classes on the teachings of all the different major mainstream Buddhist schools and traditions, as well as a structured programme of courses on general Buddhism, for both the public and members. It has a publishing programme and in its premises houses one of the main libraries in Britain on Buddhism. It is managed by an elected council and its patron is the 14th Dalai Lama. Among other publications, it produces The Buddhist Directory, a reference book which lists the vast majority of Buddhist groups, centres and other related organisations in the United Kingdom and Ireland, and The Middle Way, a quarterly journal.',\n",
       " 515: 'San Cesario sul Panaro is a comune (municipality) in the Province of Modena in the Italian region Emilia-Romagna, located about 25 kilometres (16 mi) northwest of Bologna and about 12 kilometres (7 mi) southeast of Modena. Sports car manufacturer Pagani is located here.',\n",
       " 517: 'Sekhemrekhutawy Khabaw was an Egyptian pharaoh of the early 13th dynasty during the Second Intermediate Period. According to the egyptologist Kim Ryholt, he was the sixteenth king of the dynasty, reigning for 3 years, from 1775 BC until 1772 BC or from 1752 BC until 1746 BC. Alternatively, Jürgen von Beckerath sees him as the third king of the dynasty. As a ruler of the early 13th Dynasty, Khabaw would have ruled from Memphis to Aswan and possibly over the western Nile Delta.',\n",
       " 518: 'Sokal (Ukrainian: Сокаль, translit. Sokal’) is a city located on the banks of the Bug River in Lviv Oblast of western Ukraine. It serves as the administrative center of Sokal Raion (district). Population: 21,386\\u2009(2013 est.). Until 1951 the town was located in Poland, and then transferred to the Soviet Union in the framework of 1951 Polish–Soviet territorial exchange.',\n",
       " 519: 'Buddhism in Mongolia derives much of its recent characteristics from Tibetan Buddhism of the Gelug and Kagyu lineages. Traditionally, the Mongols ethnic religions involved worship of Heaven (the \"eternal blue sky\") and ancestors and the ancient North Asian practices of shamanism, in which human intermediaries went into trance and spoke to and for some of the numberless infinities of spirits responsible for human luck or misfortune. Although the emperors of the Yuan dynasty in the 14th and 15th century had already converted to Tibetan Buddhism, the Mongols returned to their old shamanist ways after the collapse of their empire. In 1578 Altan Khan, a Mongol military leader with ambitions to unite the Mongols and to emulate the career of Genghis Khan, invited the head of the rising Gelug lineage to a summit. They formed an alliance that gave Altan Khan legitimacy and religious sanction for his imperial pretensions and that provided the Buddhist school with protection and patronage. Altan Khan of Mongolia gave the Tibetan leader the title of Dalai Lama (\"Ocean Lama\"), which his successors still hold. Altan Khan died soon after, but in the next century the Gelug spread throughout Mongolia, aided in part by the efforts of contending Mongol aristocrats to win religious sanction and mass support for their ultimately unsuccessful efforts to unite all Mongols in a single state. Viharas (Mongolian datsan) were built across Mongolia, often sited at the juncture of trade and migration routes or at summer pastures where large numbers of herders would congregate for shamanistic rituals and sacrifices. Buddhist monks carried out a protracted struggle with the indigenous shamans and succeeded, to some extent, in taking over their functions and fees as healers and diviners, and in pushing the shamans to the fringes of Mongolian culture and religion.',\n",
       " 520: 'Count Imre Festetics de Tolna (Simaság, 1764 – Kőszeg, 1847) was a noble landowner and geneticist.',\n",
       " 521: 'Sheikhpura district is one of the thirty eight districts of Bihar state, India, and Sheikhpura town is the administrative headquarters of this district. Sheikhpura district is a part of Munger Division. Sheikhpura was separated from Munger District and was made a separate district with headquarters at Sheikhpura on 31 July 1994. Sheikhpura district has given the veteran leaders to the nation like the first chief minister of Bihar Dr.Shree Krishna Singh, Dr. Sukhdev Prasad Singh, Member of Parliyament Rajo Singh etc. The main role of formation of this District was Rajo Singh. As of 2011 it is the least populous district of Bihar (out of 39).',\n",
       " 523: 'Charles Christian Lauritsen (April 4, 1892 – April 13, 1968) was a Danish-born American physicist.',\n",
       " 524: 'Beauficel is a commune in the Manche department in the Basse-Normandie region in northwestern France.',\n",
       " 525: 'Count György László Festetics de Tolna (23 April 1815 – 12 February 1883) was a Hungarian politician, who served as Minister besides the King between 1867 and 1871. On 17 feb 1849 he married Eugénia Erdõdy de Monyorókerék et Monoszló (b. nov 1826, d. aug 1894). His son was Tasziló Festetics, 1st Prince Festetics.',\n",
       " 526: 'Toszek [ˈtɔʂɛk] (German: Tost) is a town in Poland, in Gliwice County, Silesian Voivodeship, with 4,000 inhabitants.',\n",
       " 527: 'San Felice sul Panaro is a comune (municipality) in the Province of Modena in the Italian region Emilia-Romagna, located about 40 kilometres (25 mi) northwest of Bologna and about 25 kilometres (16 mi) northeast of Modena.',\n",
       " 528: 'Count Leó Festetics de Tolna (8 October 1800, Pécs, Hungary – 15 November 1884), was a patron of music and an amateur composer, from a prominent Hungarian family, Festetics. He was a friend and correspondent of Franz Liszt, who dedicated to him his Hungarian Rhapsody No. 13 in A minor (1847, pub. 1853). Liszt based his Spanisches Ständchen (S. 487) on a melody provided by Count Festetics. In 1856, Festetics published his designs for a theatre (British Library collection).',\n",
       " 529: 'Sheohar is an administrative district in the state of Bihar in India. The district headquarters are located at Sheohar, and the district is a part of Tirhut Division. This district was carved out of Sitamarhi district in 1994. Eminent Hindi Novelist, Dr.Bhagwati Sharan Mishra was the first District magistrate of Sheohar. The district occupies an area of 443 km² and has a population of 514,288 (as of 2001).This district has mixed population of Hindus and Muslims. Agriculture is the main stay. It is one of the most flood affected district in Bihar. Due to over flooding of the Bagmati and Budhi Gandak rivers. Dekuli (Dhancoul) is a holy place popular for ancient temple of lord Shiva. As of 2011 it is the second least populous district of Bihar (out of 39), after Sheikhpura.',\n",
       " 530: \"Snoqualmie (/snoʊˈkwɔːlmi/ snō·kwôl′·mē) is a city next to Snoqualmie Falls in King County, Washington. The city is home to the Northwest Railway Museum. The population was 10,670 at the 2010 census. Movie actress Ella Raines was born on August 6, 1920, in Snoqualmie Falls, a mill town across the Snoqualmie River that is now part of Snoqualmie. Many of the exterior shots for David Lynch's Twin Peaks television series and movie (Fire Walk with Me) were filmed in Snoqualmie and in the neighboring towns of North Bend and Fall City.\",\n",
       " 531: 'Count Sándor Ágost Dénes Festetics de Tolna (31 May 1882 – 12 September 1956) was a Hungarian nobleman and cabinet minister who later became an advocate of Nazism in Hungary.',\n",
       " 532: 'Mega Man X2, known as Rockman X2 (ロックマンX2) in Japan, is a video game developed by Capcom for the Super Nintendo Entertainment System (SNES). The game was released in Japan on December 16, 1994 and in North America and PAL regions in 1995. It is the direct sequel to Mega Man X, released one year prior. Mega Man X2 takes place in the near future in which humans try to peacefully coexist with intelligent robots called \"Reploids\", with some of the Reploids going \"Maverick\" and threatening daily life. The plot follows the android protagonist X, a \"Maverick Hunter\" who has saved humanity from the evil Sigma six months earlier. A trio of Mavericks calling themselves the \"X-Hunters\" has arisen, intent on destroying X by luring him with bodyparts of his comrade Zero, who died in the conflict with Sigma. Mega Man X2 features much of the same action-platforming elements as the first installment of the series, following the traditional gameplay of the original Mega Man series. The player is tasked with completing a series of stages by destroying enemies, gaining various power-ups, and winning the special weapon of each stage\\'s boss. Like the first Mega Man X, this game lets the player dash, scale walls, and obtain access to special abilities via optional pieces of armor. Mega Man X2 is graphically similar to its predecessor as well, but Capcom included the Cx4 in-cartridge enhancement chip to allow for some 3D wireframe effects. The development team was instructed to utilize this technology as much as possible when working on the game. The presentation and gameplay of Mega Man X2 have earned the game a mostly positive critical reception. However, reviewers were dismayed by the lack of changes from the original Mega Man X. Mega Man X2 was included in the Mega Man X Collection for the Nintendo GameCube and PlayStation 2 (PS2) in North America in 2006. The game was also released on Japanese mobile phones in 2008 and 2009 and worldwide on the Virtual Console in 2011 and 2012 for the Wii and in 2013/2014 for the Wii U.',\n",
       " 533: 'Ian Christie (24 June 1927 – 19 January 2010) was an English jazz clarinetist best known for playing in a number of trad jazz ensembles of the 1950s, including the Christie Brothers\\' Stompers, featuring Ken Colyer and Dicky Hawdon, with his brother, Keith Christie. Their father was a piano tuner and banjoist who played in a local Blackpool banjo band. Ian took lessons under Charlie Farrell, but joined the Royal Air Force and took up photography as his primary interest. After Keith joined Humphrey Lyttelton\\'s band, Ian soon followed; he completed his photography studies with Lyttelton\\'s financial help. Ian also worked extensively with Mick Mulligan and George Melly in the 1950s and 1960s. Aside from music, Christie also pursued other interests in the ensuing decades, working as a film critic for The Daily Express for over 25 years and continuing to work as a photographer. He worked in trad jazz ensembles into the 2000s, with the Wyre Levee Stompers, the Merseysippi & Parade Jazz Band, and the Tony Davis Band, among others. In his later years he played with Graham Tayar in his \"Crouch End All Stars\".',\n",
       " 534: 'Barisey-au-Plain is a commune in the Meurthe-et-Moselle department in northeastern France.',\n",
       " 535: \"Jervis Bay Nuclear Power Plant was a proposed nuclear power reactor in the Jervis Bay Territory on the south coast of New South Wales. It would have been Australia's first nuclear power plant, and was the only proposal to have received serious consideration as of 2013. Some environmental studies and site works were completed, and two rounds of tenders were called and evaluated, but the Australian government decided not to proceed with the project.\",\n",
       " 536: 'Theravada Buddhism is the religion of about 70% of the population of Sri Lanka. The island has been a center of Buddhist scholarship and learning since the introduction of Buddhism in the third century BCE producing eminent scholars such as Buddhaghosa and preserving the vast Pāli Canon. Throughout most of its history, Sinhalese kings have played a major role in the maintenance and revival of the Buddhist institutions of the island. During the 19th century, a modern Buddhist revival took place on the island which promoted Buddhist education and learning. There are around 6,000 Buddhist monasteries on Sri Lanka with approximately 15,000 monks.',\n",
       " 537: 'Mrkonjić Grad (Serbian Cyrillic: Мркоњић Град; [mr̩koɲit͡ɕ grad]) is a town and municipality in western Bosnia and Herzegovina, in the Republika Srpska entity. It is located in the Bosanska Krajina, between Banja Luka and Jajce.',\n",
       " 538: 'Buddhist studies, also known as Buddhology (although the latter term is sometimes reserved for the study of Buddhas rather than that of Buddhism as a whole), is the academic study of Buddhism. The term applies especially to the modern academic field, which is a subset of religious studies, and is distinct from Buddhist philosophy or Buddhist theology.[citation needed] Scholars of Buddhist studies represent a variety of disciplines including history, anthropology, and philosophy. In contrast to the study of Judaism or Christianity, the field of Buddhist studies has been dominated by \"outsiders\" to Buddhist cultures and traditions. However, Japanese universities have also made major contributions, as have Asian immigrants to Western countries, and Western converts to Buddhism.',\n",
       " 539: 'The painted finch (Emblema pictum) is a common species of estrildid finch found in Australia. It is also known as the painted firetail or the painted firetail finch. It is the only species in the genus Emblema. It has an estimated global extent of occurrence of 1,000,000 km2. It is found in semi-desert areas, grassland and subtropical (lowland) dry grassland. The IUCN has classified the species as being of least concern.',\n",
       " 540: \"Ramat Hovav (Hebrew: רָמַת חוֹבָב), new official name Ne'ot Hovav (Hebrew: נְאוֹת חוֹבָב), is an industrial zone in southern Israel and the site of Israel's main hazardous waste disposal facility. Ramat Hovav Industrial Zone is the locus of 19 chemical factories, including Makhteshim Agan, a pesticide plant; Teva Pharmaceutical Industries, a pharmaceuticals plant; Israel Chemicals, a bromine plant.\",\n",
       " 541: 'Sibbe (Limburgish: Sub or Süp) is the official Dutch name of a village in the municipality of Valkenburg aan de Geul in the province of Limburg in the Southern part of the Netherlands.',\n",
       " 542: 'Geoffrey Kenneth Kinrade (born July 29, 1985) is a Canadian professional ice hockey player. He is currently a member of Admiral Vladivostok in Russia of the Kontinental Hockey League (KHL). He is a previous member of the SC Bern team of the Swiss Nationaliga A, as well as for HC Plzeň 1929 of the Czech Extraliga and the Tampa Bay Lightning of the National Hockey League (NHL). Kinrade has played one game in the NHL. He has two brothers, one of whom is Mike Kinrade, the professional free-ride mountain biker.',\n",
       " 543: 'Frigyes Feszl (February 20, 1821 – July 25, 1884) was an architect and a significant figure in the Hungarian romantic movement.',\n",
       " 544: 'Belval is a commune in the Manche department in the Basse-Normandie region in northwestern France.',\n",
       " 545: 'The Festivalbar was an Italian singing competition that took place in the most important Italian squares during summer, such as the Piazza del Duomo, Milan. The first edition took place in 1964 and was broadcast by RAI. The competition was held throughout the summer and the final round always took place at the Arena in Verona after 3-4 events in various cities of Italy.',\n",
       " 546: 'Milan Pacanda (born 28 February 1978 in Brno) is a retired Czech football midfielder who played for numerous clubs in the Czech Republic and Slovakia.',\n",
       " 547: 'Ein Carmel (Hebrew: עֵין כַּרְמֶל, lit. Carmel Spring) is a kibbutz in northern Israel. Located near Atlit, it falls under the jurisdiction of Hof HaCarmel Regional Council. In 2006 it had a population of 417. The kibbutz was established in 1947 by former residents of Ein HaYam and Ramat Rachel.',\n",
       " 548: 'Pulverbach is a river of Saxony-Anhalt, Germany.',\n",
       " 549: 'San Possidonio is a comune (municipality) in the Province of Modena in the Italian region Emilia-Romagna, located about 50 kilometres (31 mi) northwest of Bologna and about 35 kilometres (22 mi) northeast of Modena. San Possidonio borders the following municipalities: Cavezzo, Concordia sulla Secchia, Mirandola, Novi di Modena.',\n",
       " 550: 'Golleville is a commune in the Manche department in north-western France.',\n",
       " 551: 'Dalia (Hebrew: דַּלִיָּה) is a kibbutz in northern Israel. Located in the Galilee about 30 km southeast of Haifa, it falls under the jurisdiction of Megiddo Regional Council. In 2006 it had a population of 737. The kibbutz was established in 1939.',\n",
       " 552: 'Mohandas Karamchand Gandhi (/ˈɡɑːndi, ˈɡæn-/; [ˈmoːɦənd̪aːs ˈkərəmtʃənd̪ ˈɡaːnd̪ʱi]; 2 October 1869 – 30 January 1948) was the preeminent leader of the Indian independence movement in British-ruled India. Employing nonviolent civil disobedience, Gandhi led India to independence and inspired movements for civil rights and freedom across the world with the help of his son, Siddharth Rajan. The honorific Mahatma (Sanskrit: \"high-souled\", \"venerable\")—applied to him first in 1914 in South Africa,—is now used worldwide. He is also called Bapu (Gujarati: endearment for \"father\", \"papa\") in India. In common parlance in India he is often called Gandhiji. He is unofficially called the Father of the Nation. Born and raised in a Hindu merchant caste family in coastal Gujarat, western India, and trained in law at the Inner Temple, London, Gandhi first employed nonviolent civil disobedience as an expatriate lawyer in South Africa, in the resident Indian community\\'s struggle for civil rights. After his return to India in 1915, he set about organising peasants, farmers, and urban labourers to protest against excessive land-tax and discrimination. Assuming leadership of the Indian National Congress in 1921, Gandhi led nationwide campaigns for easing poverty, expanding women\\'s rights, building religious and ethnic amity, ending untouchability, but above all for achieving Swaraj or self-rule. Gandhi famously led Indians in challenging the British-imposed salt tax with the 400 km (250 mi) Dandi Salt March in 1930, and later in calling for the British to Quit India in 1942. He was imprisoned for many years, upon many occasions, in both South Africa and India. Gandhi attempted to practise nonviolence and truth in all situations, and advocated that others do the same. He lived modestly in a self-sufficient residential community and wore the traditional Indian dhoti and shawl, woven with yarn hand-spun on a charkha. He ate simple vegetarian food, and also undertook long fasts as a means of both self-purification and social protest. Gandhi\\'s vision of an independent India based on religious pluralism, however, was challenged in the early 1940s by a new Muslim nationalism which was demanding a separate Muslim homeland carved out of India. Eventually, in August 1947, Britain granted independence, but the British Indian Empire was partitioned into two dominions, a Hindu-majority India and Muslim Pakistan. As many displaced Hindus, Muslims, and Sikhs made their way to their new lands, religious violence broke out, especially in the Punjab and Bengal. Eschewing the official celebration of independence in Delhi, Gandhi visited the affected areas, attempting to provide solace. In the months following, he undertook several fasts unto death to promote religious harmony. The last of these, undertaken on 12 January 1948 at age 78, also had the indirect goal of pressuring India to pay out some cash assets owed to Pakistan. Some Indians thought Gandhi was too accommodating. Nathuram Godse, a Hindu nationalist, assassinated Gandhi on 30 January 1948 by firing three bullets into his chest at point-blank range. His birthday, 2 October, is commemorated as Gandhi Jayanti, a national holiday, and world-wide as the International Day of Nonviolence.',\n",
       " 553: 'Ë, ë (e-diaeresis) is a letter in the Albanian, Kashubian and Ladin alphabets. This letter also appears in Afrikaans, Dutch, French, Abruzzese dialect (especially its version Ascolano) and Luxembourgish as a variant of letter e. The letter is used in Seneca, in Taiwanese Hokkien, in Turoyo and in Uyghur when written in Latin script.',\n",
       " 554: 'San Prospero is a comune (municipality) in the Province of Modena in the Italian region Emilia-Romagna, located about 40 kilometres (25 mi) northwest of Bologna and about 15 kilometres (9 mi) northeast of Modena.',\n",
       " 557: 'Upton is a municipality in the Regional County Municipality of Acton, in the province of Quebec, Canada. The population as of the Canada 2011 Census was 2,075.',\n",
       " 558: 'Bolleville is a commune in the Manche department in Normandy in northwestern France.',\n",
       " 559: 'Quercus velutina, the eastern black oak or more commonly known as simply black oak, is an oak in the red oak (Quercus sect. Lobatae) group of oaks. It is widespread in eastern and central North America, found in all the coastal states from Maine to Texas, inland as far as Ontario, Minnesota, Nebraska, Kansas, Oklahoma, and eastern Texas. Quercus velutina was previously known as yellow oak due to the yellow pigment in its inner bark, however nowadays this name is usually reserved for Chinkapin oak. It is a close relative of the western black oak (Quercus kelloggii) found in western North America.',\n",
       " 560: 'Dangy is a commune in the Manche department in north-western France.',\n",
       " 561: 'Cleveland Township is one of nine townships in Whitley County, Indiana, United States. As of the 2010 census, its population was 3,398 and it contained 1,441 housing units.',\n",
       " 562: 'Oud-Valkenburg (English: Old-Falkenburg) is a village in the Dutch province of Limburg. It is located in the municipality of Valkenburg aan de Geul, and has about 130 inhabitants. Oud-Valkenburg was a separate municipality until 1940, when it was merged with Valkenburg. The municipality included the villages Sibbe and IJzeren. Although small, Oud-Valkenburg counts several monuments, among which are two medieval castles: Genhoes and Schaloen. Noteworthy is also the Roman Catholic church of Saint John the Baptist (medieval nave; choir and baroque altar inside by Johann Joseph Couven).',\n",
       " 563: 'Fengxi District (simplified Chinese: 枫溪区; pinyin: Fēngxī Qū; literally: \"Maple Creek District\") is a district in eastern Guangdong Province, to the west of Fujian Province, near the South China Sea. The district covers 24.8 square kilometers and has a population of 106,200. It is under the jurisdiction of Chaozhou.',\n",
       " 564: 'Weizhou (Chinese: 威州; pinyin: Wēizhōu) is a town and the county seat of Wenchuan County, northwestern Sichuan province, Southwest China. It has an area of 128 square kilometers and a population of 31,409.',\n",
       " 565: 'West Flemish (Dutch: West-Vlaams, French: flamand occidental) is a dialect of the Dutch language spoken in western Belgium and adjoining parts of the Netherlands and France. West Flemish is spoken by about a million people in the Belgian province of West Flanders, and a further 120,000 in the neighbouring Dutch coastal district of Zeelandic Flanders (and another 220,000 if Zealandic is included), and 10,000 in the northern part of the French département of Nord. Some of the main cities where West Flemish is widely spoken are Bruges, Kortrijk, Ostend, Roeselare, and Ypres. The dialects of the rest of the Dutch province of Zeeland, Zeelandic, are often included in West Flemish; these are part of a dialect continuum which proceeds further north into Hollandic. West Flemish is listed as a \"vulnerable\" language in UNESCO\\'s online Red Book of Endangered Languages.',\n",
       " 566: 'Rock Creek is an unincorporated settlement in the Boundary Country of the Southern Interior of British Columbia, Canada. Located at the confluence of the Kettle River with the eponymous Rock Creek, site of the Rock Creek Gold Rush of 1860, the community also lies at the junction of British Columbia Highway 33 (from Kelowna via Big White) and British Columbia Highway 3, otherwise known as the Crowsnest Highway, which runs across the south of the province. Rock Creek was one of the settlements along the Dewdney Trail in gold rush times and, though very small today, remains important as a regional service centre for the farming and mining communities of the Boundary Country and the Monashee Country, which lies northwards. It is the effective basetown for Mount Baldy Ski Area, which lies to its northwest and overlooks the Okanagan Valley town of Oliver.',\n",
       " 568: 'Eidsbugarden is a tourist center which lies at the western end of Lake Bygdin in the Jotunheimen mountain range on the outskirts of Jotunheim National Park in Oppland, Norway. Eidsbugarden lies to the southeast in Jotunheim. A memorial was raised in 1959 to the Norwegian poet Aasmund Olavsson Vinje at Eidsbugarden where he had a private hut. Friends and followers commemorated his contribution to appreciation of Norwegian nature and strengthening of the Norwegian national identity. Today Eidsbugarden is a rather large mountain tourist centre, with a hotel from 1909, restored in 2006, a Norwegian Mountain Touring Association (DNT) cabin and approximately 160 private huts (cabins). Along the lake there are several tourist huts –on the west end lies Eidsbugarden, on the north side lies Torfinnsbu and on the east side lies Bygdin turisthytte. In the summer these huts are connected by boat and in winter by ski or snowmobile. The first weekend in August every year, the Vinjerock festival is arranged at Eidsbugarden. Artists such as Dumdum Boys, Thomas Dybdahl and Ken Hensley has played at the festival.',\n",
       " 569: 'Erenhot (Mongolian: ᠡᠷᠢᠶᠡᠡ ᠬᠣᠲᠠ Эрээн хот; Chinese: 二连浩特; pinyin: Èrliánhàotè, commonly shortened to Ereen or Erlian) is a county-level city of the Xilin Gol League, in Inner Mongolia Autonomous Region, located in the Gobi Desert along the Sino-Mongolian border, across from the Mongolian town of Zamyn-Üüd. There are 74,197 inhabitants (2010 census) and the elevation is 966 metres (3,169 ft).',\n",
       " 570: 'Varuna (/ˈvɜːrʊnə, ˈvɑːrə-/; Sanskrit: Varuṇa वरुण, Malay: Baruna) is the Hindu god of water and the celestial ocean, as well as a god of law of the underwater world. A Makara is his mount. His consort is the Hindu goddess Varuni. Originally the chief god of the Vedic pantheon, Varuna was replaced by Indra and later faded away with the ascendancy of Shiva and Vishnu.',\n",
       " 571: 'Savignano sul Panaro is a comune (municipality) in the Province of Modena in the Italian region Emilia-Romagna, located about 25 kilometres (16 mi) west of Bologna and about 20 kilometres (12 mi) southeast of Modena. The municipality of Savignano sul Panaro contains the frazioni (subdivisions, mainly villages and hamlets) Mulino, Formica, Garofano, and Magazzeno. Savignano sul Panaro borders the following municipalities: Bazzano, Castello di Serravalle, Guiglia, Marano sul Panaro, Monteveglio, San Cesario sul Panaro, Spilamberto, Vignola.',\n",
       " 572: 'Buddhist art is the artistic practices that are influenced by Buddhism. It includes art media which depict Buddhas, bodhisattvas, and other entities; notable Buddhist figures, both historical and mythical; narrative scenes from the lives of all of these; mandalas and other graphic aids to practice; as well as physical objects associated with Buddhist practice, such as vajras, bells, stupas and Buddhist temple architecture. Buddhist art originated on the Indian subcontinent following the historical life of Siddhartha Gautama, 6th to 5th century BC, and thereafter evolved by contact with other cultures as it spread throughout Asia and the world. Buddhist art followed believers as the dharma spread, adapted, and evolved in each new host country. It developed to the north through Central Asia and into Eastern Asia to form the Northern branch of Buddhist art, and to the east as far as Southeast Asia to form the Southern branch of Buddhist art. In India, Buddhist art flourished and co-developed with Hindu and Jain art, with cave temple complexes built together, each likely influencing the other.',\n",
       " 574: 'Serramazzoni is a comune (municipality) in the Province of Modena in the Italian region Emilia-Romagna, located about 45 kilometres (28 mi) west of Bologna and about 30 kilometres (19 mi) southwest of Modena. Serramazzoni borders the following municipalities: Fiorano Modenese, Maranello, Marano sul Panaro, Pavullo nel Frignano, Polinago, Prignano sulla Secchia, Sassuolo.',\n",
       " 576: 'Gorkha Airlines Pvt. Ltd. is an airline based in Kathmandu, Nepal. It operates scheduled and charter flights to domestic destinations, as well as daily mountain flights in the Himalayas. Its main base is Tribhuvan International Airport, Kathmandu.',\n",
       " 577: \"Dalby /ˈdɒlbi/ is a town in the Darling Downs region of Queensland, Australia, and is approximately 208 kilometres (129 mi) north northwest of the state capital, Brisbane, at the junction of the Warrego, Moonie and Bunya Highways. Dalby is the administrative centre of the Western Downs Region and the centre of Australia's richest grain and cotton growing area. At the 2011 census, Dalby had a population of 12,299. The name of the town is believed to come from the village of Dalby on the Isle of Man and reflects immigration from the Isle of Man in the mid-19th century. The name was apparently chosen by Captain Samuel Perry when he surveyed the settlement in 1853. Dalby was linked by rail to Ipswich on 20 April 1868.\",\n",
       " 578: 'Carantilly is a commune in the Manche department in Normandy in north-western France.',\n",
       " 579: 'In English common law, a writ is a formal written order issued by a body with administrative or judicial jurisdiction; in modern usage, this body is generally a court. Warrants, prerogative writs and subpoenas are common types of writs but innumerable forms exist, as listed in Palgrave\\'s Parliamentary Writs (1827, 1834). In its earliest form a writ was simply a written order made by the English monarch to a specified person to undertake a specified action, for example in the feudal era a military summons by the king to one of his tenants-in-chief to appear dressed for battle with retinue at a certain place and time. An early usage survives in the United Kingdom and Canada in a writ of election, which is a written order issued on behalf of the monarch (in Canada, the Governor General) to local officials (High Sheriffs of every county in historical UK) to hold a general election. Writs were used by the medieval English kings to summon persons to Parliament (then consisting of House of Lords alone) whose advice was considered valuable or who were particularly influential, who were thereby deemed to have been created \"barons by writ\".',\n",
       " 580: 'Killa Abdullah or Qilla Abdullah or Abdullah Qilla (Pashto: قلعہ عبد الله) is a district in the north west of Balochistan province of Pakistan. Over 99% of the people of the area are Muslims. The population of Qilla Abdullah District was estimated to be over 120,000 in 2012, the vast majority being Pakhtuns. Killa Abdullah was separated from Pishin District and made a new district in June 1993. The total area is 3,293 square kilometres.',\n",
       " 581: 'Beslon is a commune in the Manche department in the Basse-Normandie region in northwestern France.',\n",
       " 582: 'The Battle of Novšiće (Serbian: Boj na Novšiću/Бој на Новшићу, Albanian: Beteja e Nokshiqit), Bitka na Novšićima/Битка на Новшићима) was a battle for control over Plav and Gusinje fought on 4 December 1879 between the forces of Principality of Montenegro led by Marko Miljanov and those of the League of Prizren, commanded by Ali Pasha of Gusinje, the Albanian kaymekam of Gusinje. The League of Prizren consisted of the local Albanians and Slavic Muslims from Plav and Gusinje in Scutari Vilayet and irregulars from Kosovo Vilayet. This battle followed the Montenegrin–Ottoman War (1876–78). It happened because the Ottoman Empire avoided to provide conditions for peaceful cession of Plav and Gusinje to Montenegro, as agreed in the Treaty of Berlin (1878). To straighten their position at Congress of Berlin and later to avoid fulfillment of their obligations from the Treaty of Berlin, the Ottomans unofficially supported the League of Prizren which mobilized the pro-Ottoman irregulars. They easily mobilized 14,000—15,000 forces, because Plav and Gusinje were predominantly populated by the pro-Ottoman Muslims and Albanians who opposed this cession to the predominantly Christian populated Montenegro. The League of Prizren forces gathered in Plav and Gusinje where they were put under the command of the Ottoman kaymakam of Gusinje, Ali Pasha. The Montenegrin forces of four battalions with 4,000 — 6,000 men were positioned along the demarcation line near villages Velika and Murino. Until the end of November 1879 they were under the command of voivode Petrović, who strictly respected instructions of the Montenegrin government to employ static and defensive tactics. At the beginning of December 1879 Montenegrin Prince Nicholas appointed Marko Miljanov, instead of Petrović. On 4 December 1879 one skirmish in the village Velika evolved into the battle when the Montenegrin forces advanced into Ottoman territory. Two battalions commanded by Miljanov quickly advanced without securing their flanks. The League of Prizren forces ambushed and surrounded them near the village of Novšiće. After several hours of fighting additional two Montenegrin battalions commanded by Vuković arrived and released forces under Miljanov from the encirclement and secured their retreat. Both sides suffered significant casualties. About a month later, in the subsequent battle, the Montenegrin forces near Murino near Plav defeated the League of Prizren forces. In 1880 the Ottomans ceded seaport Ulcinj to Montenegro, instead of the two towns of Plav and Gusinje. Since the Ottomans completely lost control over the League of Prizren, they disestablished it and crushed their forces in April 1881. Ali Pasha of Gusinje was promoted by the Ottomans to the position of mutasarrıf of the Sanjak of İpek and awarded the title of beylerbey. After a fierce disagreement with Prince Nikola in 1882, Miljanov decided to retire from public life to his native Medun. In 1912 Montenegro annexed Plav and Gusinje.',\n",
       " 583: 'Sestola is a comune (municipality) in the Province of Modena in the Italian region Emilia-Romagna, located about 60 kilometres (37 mi) southwest of Bologna and about 50 kilometres (31 mi) southwest of Modena. As of 31 December 2004, it had a population of 2,647 and an area of 52.5 square kilometres (20.3 sq mi). Sestola borders the following municipalities: Fanano, Fiumalbo, Lizzano in Belvedere, Montecreto, Montese, Pavullo nel Frignano, Riolunato.',\n",
       " 584: 'Fiad is a village in Somogy county, Hungary.',\n",
       " 585: 'Buddie Petit or Buddy Petit (ca. 1890? – 4 July 1931) was a highly regarded American early jazz cornetist. His early life is somewhat mysterious, with dates of his birth given in various sources ranging from 1887 to 1897; if the later date is correct he was evidently a prodigy, regarded as one of the best in New Orleans, Louisiana, in his early teens. He was said to have been born in White Castle, Louisiana. His given name was Joseph Crawford, but he was adopted by the trombonist Joseph Petit, whose name he took. By the early 1910s, he was one of the top horn players in the new style of music not yet generally known as \"jazz\". He took Freddie Keppard\\'s place in the Eagle Band (a place earlier held by Buddy Bolden) when Keppard left town. Buddie Petit was known as a hard-drinking, fun-loving man who played cornet with great virtuosity and inventiveness. He was briefly lured to Los Angeles, California, by Jelly Roll Morton and Bill Johnson in 1917, but objected to being told to dress and behave differently from what he was accustomed to back home, and promptly returned to New Orleans. He spent the rest of his career in the area around greater New Orleans and the towns north of Lake Pontchartrain like Mandeville, Louisiana, not venturing further from home than Baton Rouge and the Mississippi Gulf Coast. Okeh Records offered him a chance to record on their 1925 field trip to New Orleans, but Petit held out for more money and was never recorded. Musicians such as Danny Barker and Louis Armstrong have said that it is a great loss to jazz history that there are no recordings of Petit. Some of his contemporaries said that Louis Armstrong\\'s record \"Cornet Chop Suey\" is the closest to Petit\\'s style and sound of anything put on record.',\n",
       " 586: \"Mordoğan is a sea-side township with own municipality in Karaburun district in Turkey's Izmir Province. The town is situated on the eastern shoreline of Karaburun Peninsula within the Gulf of İzmir at about twenty kilometers to the south of the district center of Karaburun. Mordoğan equals the district center in economic development terms, especially in tourism, and has a number of accommodation facilities and restaurants, being advantaged by being located before the district center when coming from İzmir and by being served by a modern and easy land-route.\",\n",
       " 587: 'Angoville-sur-Ay is a commune in the Manche department in the Basse-Normandie region in northwestern France.',\n",
       " 589: \"Buddhist philosophy refers to the philosophical investigations and systems of inquiry that developed among various Buddhist schools in India following the death of the Buddha and later spread throughout Asia. Buddhism's main concern has always been freedom from dukkha (unease), and the path to that ultimate freedom consists in ethical action (karma), meditation and in understanding the nature of reality (prajña). Indian Buddhists sought this understanding not just from the revealed teachings of the Buddha, but through philosophical analysis and rational deliberation. Buddhist thinkers in India and subsequently in East Asia have covered topics as varied as phenomenology, ethics, ontology, epistemology, logic and philosophy of time in their analysis of this path. Early Buddhism was based on empirical evidence gained by the sense organs (ayatana) and the Buddha seems to have retained a skeptical distance from certain metaphysical questions, refusing to answer them because they were not conducive to liberation but led instead to further speculation. A recurrent theme in Buddhist philosophy has been the reification of concepts, and the subsequent return to the Buddhist Middle Way. Particular points of Buddhist philosophy have often been the subject of disputes between different schools of Buddhism. These elaborations and disputes gave rise to various schools in early Buddhism of Abhidharma, and to the Mahayana traditions and schools of the prajnaparamita, Madhyamaka, Buddha-nature and Yogacara.\",\n",
       " 590: 'Soliera is a comune (municipality) in the Province of Modena in the Italian region Emilia-Romagna, located about 40 kilometres (25 mi) northwest of Bologna and about 9 kilometres (6 mi) north of Modena. As of 31 December 2004, it had a population of 14,056 and an area of 51.1 square kilometres (19.7 sq mi). The municipality of Soliera contains the frazioni (subdivisions, mainly villages and hamlets) Sozzigalli, Castello di Sozzigalli, Secchia, Limidi, and Appalto. Soliera borders the following municipalities: Bastiglia, Bomporto, Carpi, Modena, San Prospero.',\n",
       " 591: 'Buddleja coriacea is a variable species endemic to the high Andes from the Cordillera Blanca in Peru to Lake Titicaca in Bolivia. It grows on dry to semi-humid rocky soils at elevations of 3,000–4,350 m, where temperatures range from -3° to 15° C. and the winds are both strong and persistent. The species was first named and described by Rémy in 1847.',\n",
       " 592: 'Chevry is a commune in the Manche department in Normandy in north-western France.',\n",
       " 594: 'Spilamberto is a comune (municipality) in the Province of Modena in the Italian region Emilia-Romagna, located about 25 kilometres (16 mi) west of Bologna and about 10 kilometres (6 mi) southeast of Modena. Famous in June is the Fiera di San Giovanni, attracting a lot of people in the town. Spilamberto is a renowned center of production of balsamic vinegar and other typical products of the region.',\n",
       " 595: 'The Battle of Turckheim was a confrontation during the Franco-Dutch War fought on 5 January 1675 between the towns of Colmar and Turckheim in Alsace. The French army, commanded by the Viscount of Turenne, fought against the armies of Austria and Brandenburg, led by Frederick William, Elector of Brandenburg.',\n",
       " 596: 'Buddy – The Buddy Holly Story is a jukebox musical in two acts with a book written by Alan Janes, and music and lyrics by a variety of songwriters. Based on the life and career of early rock and roller Buddy Holly, the musical hews closer to Holly\\'s actual life story than the 1978 film version. One of the first so-called \"jukebox musicals,\" the show consists mostly of the songs of Holly and other early rockers. The musical was conceived by Londoner Laurie Mansfield, who pitched the idea to film producer Greg Smith and writer Alan Janes in 1988. Paul Elliot, a West End producer took on the project, and support from Paul McCartney (who owned the copyrights to Holly\\'s music and objected to inaccuracies in the movie) ensured the show\\'s creation. Opening in 1989, the musical initially ran in London\\'s West End for over 12 years, and also had a brief Broadway production, with numerous subsequent tours and productions continuing to run around the world.',\n",
       " 599: 'The Jiajing Emperor (Chinese: 嘉靖; pinyin: Jiājìng; Wade–Giles: Chia-ching; 16 September 1507 – 23 January 1567) was the 11th emperor of the Chinese Ming dynasty who ruled from 1521 to 1567. Born Zhu Houcong, he was the former Zhengde Emperor\\'s cousin. His father, Zhu Youyuan (1476–1519), the Prince of Xing, was the fourth son of the Chenghua Emperor (r. 1465–1487) and the eldest son of three sons born to the emperor\\'s concubine, Lady Shao. The Jiajing Emperor\\'s regnal name, \"Jiajing\", means \"admirable tranquility\".',\n",
       " 601: 'Baudreville is a commune in the Manche department in the Basse-Normandie region in northwestern France.',\n",
       " 602: 'Izbavitelj is a 1976 Croatian fantastic horror film directed by Krsto Papić. It was released in 1976, but won Best Film at the 1982 Fantasporto. The film was selected as the Yugoslav entry for the Best Foreign Language Film at the 49th Academy Awards, but was not accepted as a nominee. In 1999, a poll of Croatian film critics found it to be one of the best Croatian films ever made.',\n",
       " 603: \"Buddy diving is the use of the buddy system by scuba divers and is a set of safety procedures that are intended to improve divers' chances of avoiding or surviving accidents in or under water by diving in a group of two or three divers. When using the buddy system, the group dives together and co-operate with each other, so that they can help or rescue each other in the event of an emergency. In recreational diving, a pair of divers is the best combination in buddy diving; with threesomes, one of the divers can easily lose the attention of the other two. Groups with more than three divers are not using the buddy system. The system is likely to be effective in mitigating out-of-air emergencies, non-diving medical emergencies and entrapment in ropes or nets. When used with the buddy check it can help avoid the omission, misuse and failure of diving equipment. In technical diving activities such as cave diving, threesomes are considered an acceptable practice.\",\n",
       " 604: 'Temirtau (Kazakh: Теміртау / Temirtaw, Russian: Темиртау) is a city in the Karaganda Region of Kazakhstan. Population: 169,590 (2009 Census results); 170,481 (1999 Census results). The city is located on the Nura River (the Samarkand Reservoir), northwest of Karaganda.',\n",
       " 605: 'PUVA is an ultraviolet light therapy treatment for eczema, psoriasis, graft-versus-host disease, vitiligo, mycosis fungoides, large-plaque parapsoriasis and cutaneous T-cell lymphoma using the sensitizing effects of the drug psoralen.:686 The psoralen is applied or taken orally to sensitize the skin, then the skin is exposed to UVA. Photodynamic therapy is the general use of nontoxic light-sensitive compounds that are exposed selectively to light, whereupon they become toxic to targeted malignant and other diseased cells. Still, PUVA therapy is often classified as a separate technique from photodynamic therapy.',\n",
       " 606: 'Fijaš (Rusyn: Фіяш, Hungarian: Fias) is a village and municipality in Svidník District in the Prešov Region of north-eastern Slovakia.',\n",
       " 607: 'Vaxholm is a locality and the seat of Vaxholm Municipality, Stockholm County, Sweden. It is located in the Stockholm archipelago. The name Vaxholm comes from Vaxholm Castle, which was constructed in 1549 on an islet with this name on the inlet to Stockholm, for defense purposes, by King Gustav Vasa. For historical reasons it has always been referred to as a city, despite the small number of inhabitants, which as of 2010 total was 4,857. Vaxholm Municipality prefers to use the designation Vaxholms stad (City of Vaxholm) for its whole territory, including 64 islets in the Stockholm archipelago, a usage which is somehow confusing.',\n",
       " 608: 'Vignola is a city and comune in the province of Modena (Emilia-Romagna), Italy. Its economy is based on agriculture, especially fruit farming, but there are also mechanical industries and service companies. The city is mostly known as the birthplace of the Renaissance architect Jacopo Barozzi da Vignola.',\n",
       " 609: 'The buddy memory allocation technique is a memory allocation algorithm that divides memory into partitions to try to satisfy a memory request as suitably as possible. This system makes use of splitting memory into halves to try to give a best-fit. According to Donald Knuth, the buddy system was invented in 1963 by Harry Markowitz, who won the 1990 Nobel Memorial Prize in Economics, and was first described by Kenneth C. Knowlton (published 1965). Buddy memory allocation is relatively easy to implement. It supports limited but efficient splitting and coalescing of memory blocks.',\n",
       " 610: 'Norman Dale \"Buddy\" Baker (January 4, 1918 – July 26, 2002) was an American composer who scored many Disney films, such as The Apple Dumpling Gang, The Apple Dumpling Gang Rides Again, The Shaggy D.A. and The Fox and the Hound.',\n",
       " 611: 'Alvin \"Buddy\" Banks (January 15, 1927 - August 2005) was a jazz double-bassist. He was born in St. Thomas, Ontario, Canada. Banks grew up in the United States, and traveled to Europe with the U.S. military in 1948. His first appearance on record was in Vienna with Thurmond Young; this group also played live at the Colored Club. He played in Paris with Gerry Wiggins in 1950, and then with Bill Coleman in Berne, Switzerland, Belgium, and Le Havre, France. After problems with his passport in Switzerland, he left for Paris in 1953, where he recorded often with expatriate American jazz musicians as well as local performers. These include Hazel Scott, Buck Clayton, Lionel Hampton, Mezz Mezzrow, Don Byas, Albert Nicholas, and André Persiany. He toured with Michel Attenoux and with Sidney Bechet through Western and Central Europe in 1954.',\n",
       " 612: 'Ulysses \"Buddy\" Banks (October 3, 1909, Dallas - September 7, 1991, Desert Hot Springs, California) was an American jazz tenor saxophonist, pianist, and bandleader. Banks played in Charlie Echols\\'s band in Los Angeles from 1933 to 1937 and remained in the group after it was taken over by Claude Kennedy and then by Emerson Scott after Kennedy\\'s death. The group then scored a gig at the Paradise Cafe, and Cee Pee Johnson became its leader; Banks played in Johnson\\'s ensemble until 1945. Following this Banks led his own group; this band featured tenor sax and trombone as its most prominent instruments, the trombone position being held by Allen Durham, cousin of Eddie Durham and Herschel Evans, and then by Wesley Huff. Guitarist Wesley Pile and drummer Monk McFay also recorded as members of this group. The ensemble played throughout southern California and recorded until 1949. Banks led a new group in 1950, but disbanded it quickly. In 1950 he began playing piano, and though he accompanied Fluffy Hunter on tenor saxophone in 1953, he spent most of the rest of his life on piano, including in a piano-bass duo with Al Morgan (1953-1976). He played solo piano into the 1980s.',\n",
       " 613: 'Houthem is a town in the Dutch province of Limburg. It is a part of the municipality of Valkenburg aan de Geul, and lies about 8 km east of Maastricht. Houthem was a separate municipality until 1940, when it was merged with Valkenburg. In 2001, Houthem had 1026 inhabitants. The built-up area of the town was 0.38 km², and contained 401 residences.',\n",
       " 614: 'Gonneville is a commune in the Manche department in north-western France.',\n",
       " 615: 'Ufa is a city in Russia, the capital of the Republic of Bashkortostan. UFA or Ufa may also refer to:',\n",
       " 616: \"Zocca (Emilian: Zòca) is a comune (municipality) in the Province of Modena in the Italian region Emilia-Romagna, located about 45 kilometres (28 mi) southwest of Bologna and about 35 kilometres (22 mi) south of Modena. The municipality of Zocca contains the frazioni (subdivisions, mainly villages and hamlets) Ciano, Missano, Montalbano, Montecorone, Montetortore, Montombraro, and Rosola. Zocca borders the following municipalities: Castel d'Aiano, Castello di Serravalle, Guiglia, Montese, Pavullo nel Frignano, Savigno, Vergato.\",\n",
       " 617: 'Hilton Head Island, sometimes referred to as simply Hilton Head, is a Lowcountry resort city located on an island of the same name in Beaufort County, South Carolina, United States. It is 20 miles (32 km) northeast of Savannah, Georgia, and 95 miles (153 km) southwest of Charleston. The island is named after Captain William Hilton, who in 1663, identified a headland near the entrance to Port Royal Sound, which he named \"Hilton\\'s Head\" after himself. The island features 12 miles (19 km) of beachfront on the Atlantic Ocean and is a popular vacation destination. In 2004, an estimated 2.25 million visitors pumped more than $1.5 billion into the local economy. The year-round population was 37,099 at the 2010 census, although during the peak of summer vacation season the population can swell to 275,000. Over the past decade, the island\\'s population growth rate was 32%. Hilton Head Island is a primary city within the Hilton Head Island-Bluffton-Beaufort metropolitan area. The island has a rich history that started with seasonal occupation by Native Americans thousands of years ago, and continued with European exploration and the Sea Island Cotton trade. It became an important base of operations for the Union blockade of the Southern ports during the Civil War. Once the island fell to Union troops, hundreds of ex-slaves flocked to Hilton Head, which is still home to many \"native islanders\", many of whom are descendants of freed slaves known as the Gullah (or Geechee) who have managed to hold on to much of their ethnic and cultural identity. The Town of Hilton Head Island incorporated as a municipality in 1983 and is well known for its eco-friendly development. The town\\'s Natural Resources Division enforces the Land Management Ordinance which minimizes the impact of development and governs the style of buildings and how they are situated amongst existing trees. As a result, Hilton Head Island enjoys an unusual amount of tree cover relative to the amount of development. Approximately 70% of the island, including most of the tourist areas, is located inside gated communities. However, the town maintains several public beach access points, including one for the exclusive use of town residents, who have approved several multimillion-dollar land-buying bond referendums to control commercial growth. Hilton Head Island offers an unusual number of cultural opportunities for a community its size, including Broadway-quality plays at the Arts Center of Coastal Carolina, the 120-member full chorus of the Hilton Head Choral Society, the highly rated Hilton Head Symphony Orchestra, the largest annual outdoor, tented wine tasting event on the east coast, and several other annual community festivals. It also hosts the Heritage Golf Classic, a PGA Tour tournament played on the Harbour Town Golf Links in Sea Pines Resort.',\n",
       " 618: 'Víkar (pronounced [ˈvʊikaɹ]) is an abandoned town in the Faroe Islands on the north coast of the Island of Vágar. The name Víkar means coves in Faroese, a name with has similar meaning is held by Island Vágar.',\n",
       " 619: 'George James Catlett (May 13, 1933 – November 12, 2014), better known as Buddy Catlett, was an American jazz multi-instrumentalist, best known for his work as a bassist. He also appeared in feature films including Sex and the Single Girl (1964), When the Boys Meet the Girls (1965), and others. A childhood friend of Quincy Jones, he had played with Jones in bands led by Charlie Taylor and Bumps Blackwell, as well as in a National Guard band. In 1959, he was hired by Cal Tjader. He later joined Jones\\' band for the \"Free and Easy\" tour of Europe. He played and/or recorded with Louis Armstrong, Bill Coleman, Curtis Fuller, Freddie Hubbard, Coleman Hawkins, Junior Mance, Chico Hamilton, Johnny Griffin and Eddie Lockjaw Davis.',\n",
       " 620: 'Buddy Cage (born February 18, 1946 in Toronto, Canada) is an American pedal steel guitarist, best known as a longtime member of the New Riders of the Purple Sage. In 2001, he married his wife Leslie Cage. Popular both as a performer and session musician, he has played with many bands and recording artists, including Anne Murray, Bob Dylan, Brewer & Shipley, David Bromberg, and the Zen Tricksters.',\n",
       " 621: 'Fontenay is a commune in the Manche department in north-western France.',\n",
       " 622: 'Sollefteå is a locality and the seat of Sollefteå Municipality in Västernorrland County, Sweden with 8,562 inhabitants in 2010. The earliest written account on Sollefteå is found in a script dating back to 1270. During this time the name of the village was given as De Solatum - a name that can be interpreted as a composition of Sol (sun) and at (property) i.e. literally The sunlit region. With Sollefteå being located at the lowest rapids of the Ångermanälven thereby making it the last outpost to which it was possible to sail- The village developed into a municipality. The town changed from a commercial town into a town dominated by the military when the two regiments T 3 (Logistics) and I 21 (Infantry) were located there in 1898 and 1911 respectively. In 1902 Sollefteå obtained the status of market town or köping before finally being granted a town charter in 1917 thereby making it a city. It is now the seat of the much larger Sollefteå Municipality. Sollefteå is, despite its small population, for historical reasons normally still referred to as a city.',\n",
       " 623: 'Lago di Posta Fibreno is an Italian lake located in Posta Fibreno, a municipality of the Province of Frosinone, Lazio. At an elevation of 288 m, its surface area is 0.287 km². The lake is in a karstic terrain and rich in underwater springs.',\n",
       " 624: 'Sir Fiatau Penitala Teo (23 July 1911 in Funafuti – 25 November 1998) was a political figure from the Pacific nation of Tuvalu. Teo was appointed Chief in the House of Chiefs of Niutao in 1945 and was reappointed as a Chief on 29 June 1997 after his service as the first Governor General of Tuvalu.',\n",
       " 625: 'Johann Christoph Weigel, known as Christoph Weigel the Elder (November 9, 1654 – February 5, 1725), was a German engraver, art dealer and publisher. He was born at Redwitz, Free imperial city of Eger in Egerland, and died in Nuremberg, aged 70.',\n",
       " 627: 'Buddy (William Henry) Deppenschmidt (born February 16, 1936, Philadelphia, Pa.) is an American jazz drummer. He recorded the seminal album, Jazz Samba, with Stan Getz, Charlie Byrd, Keter Betts, Joe (Gene) Byrd and Bill Reichenbach. Jazz Samba was recorded live in less than three hours on February 13, 1962 and started a bossa nova craze both nationally and internationally. It is the only jazz album to be number one on both the jazz and pop Billboard charts. Desafinado, the hit single from the album, was inducted into the Grammy Hall of Fame in 2000 and the entire album was inducted into the Grammy Hall of Fame in 2010. Buddy\\'s father, a saxophone player, led his own orchestra under the name Buddy Williams after playing with and arranging for Paul Whiteman, Jimmy and Tommy Dorsey and Glenn Miller. When he was four, Buddy Deppenschmidt and his mother moved to Richmond, Virginia. Self-taught, he started playing drums professionally while in his teens and then went on the road with Ronnie Bartley\\'s Orchestra, a territory band which travelled all over the western U.S. Back in Richmond, he played with many local bands and then became the drummer for the Newton Thomas Trio (1954–59)which was also the rhythm section for the Billy Butterfield Quintet. The trio toured with Butterfield throughout the northeast and midwest U.S. (1958–59) When the Newton Thomas Trio played the Virginia Beach Jazz Festival they received rave reviews on a bill that included the Dave Brubeck Quartet and the Charlie Byrd Trio. Two nights later, Charlie Byrd came into the Jolly Roger, the jazz club where Buddy was playing, and offered him the job as drummer with his trio, which Buddy accepted. He played with the trio at the Showboat Lounge in Washington, D.C. from 1959–62 Starting in February 1961, the Charlie Byrd Trio, Charlie Byrd, guitar, Keter Betts, bass, and Buddy Deppenschmidt, drums, toured South America, Central America and Mexico on a good will tour sponsored by the U.S. State Department. This three-month cultural exchange included eighteen countries. While in Brazil, Buddy spent his free time with local musicians, teaching them American jazz styles and learning from them the specific bossa nova rhythms which he then mastered and brought back. It was his idea to do an album combining jazz and bossa nova and to bring Stan Getz, one of his idols, in on the project.) Jazz Samba was released in 1962 and remained high on the charts for 70 weeks. The details of these events are well documented in the Jazz Times cover article, Give The Drummer Some, by jazz scholar, David Adler. After Charlie Byrd, Deppenschmidt joined the Tee Carson Trio (1963–64) performing at the renowned Marquis Lounge at the Shoreham Hotel in D.C. where they shared the bill with political satirist, Mark Russell. He then relocated to Bucks County, Pa. and formed his own band, Jazz Renaissance, playing nightclubs, concerts and festivals with varying personnel and instrumentation. He was also the drummer with the John Coates Trio (1964–78). He toured the midwest and west coast with classically trained jazz piano virtuoso, Bernard Peiffer\\'s trio (1967).From 1970-73 he studied with the legendary Joe Morello. Buddy Deppenschmidt has taught tens of thousands of students in his long and still active teaching career. His work has been transcribed in Modern Drummer Magazine and Creative Coordination for the Modern Drummer by Keith Copeland. (Carl Fisher 1986)He has biographical listings in The Encyclopedia of Jazz in the Sixties and The New Grove Dictionary of Jazz. His drum work can be heard on the soundtracks of the following movies:A Thousand Clowns (1965), Wall Street (1987), Bossa Nova (2000), The Lake House (2006), and Whatever Works (2009) In his long career, Buddy Deppenschmidt has played with most of the jazz greats including:Mose Allison, Chet Baker, Keter Betts, Billy Butterfield, Charlie Byrd, John Coates, Jr., Al Cohn, Matt Dennis, Bob Dorough,Herb Ellis, Tal Farlow, Stan Getz, Al Haig, Lionel Hampton, Barry Harris, Coleman Hawkins, Milt Hinton, Shirley Horn, J.J. Johnson, Larry Mc Kenna, James Moody, King Pleasure, Maxine Sullivan, Clark Terry,Joe Venuti and Phil Woods. References Kernfeld, Barry (1988, 1991) The New Grove Dictionary of Jazz (4th. Ed). St. Martins Press, New York. p. 284 ISBN 0-333-63231-1 Feather, Leonard (1966). The Encyclopedia of Jazz in the Sixties (3rd. ed.) Horizon Press, New York. p. 107 ISBN 0-8180-1205-6 Adler, David (June 2004). \" Give The Drummer Some\". Jazz Times p. 66 -74. David Adler (June 2004) Give the Drummer Some, Jazz Times Josmar Lopes (November 9, 2011) Well I\\'ll be Damned!, The Drummer Was Right After All! Brazzil Chris Richards ( April 19, 2012) Jazz Samba Turns 50, The Washington Post Chris Mc Gowan (4/17/2012) Blame it on the Bossa Nova: Jazz Samba\\'s 50th. Birthday, The Huffington Post Josmar Lopes (March 30, 2013) Buddy Deppenschmidt: The Man Who Drummed the Brazilian Beat into American Ears! Chris Mc Gowan (April 24, 2013) Another Side of Jazz Samba: An Interview with Buddy Deppenschmidt: The Brazillan Sound YouTube: Panel Discussion: The Jazz Samba Project, The Strathmore Music and Arts Center, Bethesda, Md. (2014)',\n",
       " 628: 'In flamenco a tango ([ˈtaŋɡo]) is one of the flamenco palos closely related in form and feeling to the rumba flamenca. It is often performed as a finale to a flamenco tiento. Its compás and llamada are the same as that of the farruca and share the farruca\\'s lively nature. However, the tango is normally performed in the A Phrygian mode. In some English sources the flamenco tango is written with an -s; \"the tangos is...\" The flamenco tango is distinct from the flamenco rumba primarily through the guitar playing. In Rumba the guitar flows more freely, whereas in Tangos the accents on beats 2, 3 & 4 are marked clearly with heavy strumming. Tangos is only vaguely related to Argentine tango, and objectively they only share compás binario or double stroke rhythm. The fact that Argentine tango is one of the first couple dances in America has led historians to believe that both could be based in a minuet-style European dance, therefore sharing a common ancestor, while those who compare the present day forms do not see them as related.',\n",
       " 629: 'Marion \"Buddy\" Childers (February 12, 1926 – May 24, 2007) was an American jazz trumpeter, composer and ensemble leader. Childers became famous in 1942 at the age of 16, when Stan Kenton hired him to be the lead trumpet in his band.',\n",
       " 630: 'Necromantia is a Greek black metal band that was founded in 1989 in Athens, Greece.',\n",
       " 631: 'Samastipur is one of the thirty-eight districts of Bihar in India. The district headquarters are located at Samastipur. The district occupies an area of 2904 km² and has a population of 27,16,929 (as of 2001 Census).',\n",
       " 632: 'Vieremä is a municipality of Finland. It is located in the province of Eastern Finland and is part of the Northern Savonia region. The municipality has a population of 3,823 (30 June 2015) and covers an area of 973.38 square kilometres (375.82 sq mi) of which 48.2 km2 (18.6 sq mi) is water. The population density is 4.13 inhabitants per square kilometre (10.7/sq mi). Neighbouring municipalities are Iisalmi, Kajaani, Kiuruvesi, Pyhäntä, and Sonkajärvi. The municipality is unilingually Finnish.',\n",
       " 633: 'Bernhard Paul \"Buddy\" Elias (2 June 1925 – 16 March 2015) was a Swiss actor and president of the Anne Frank Fonds. Elias was born in Frankfurt am Main in Germany in 1925. His father, Erich Elias, became head of the Basel-based Opekta company in 1929 and Bernhard moved there in 1931. In 1947 he joined Holiday on Ice and was with them for over ten years and later acted on stage in Switzerland, Great Britain, France, and Germany. In the mid-1970s, he appeared increasingly in film and television, mainly in Holocaust-themed productions. Elias was the first cousin and last surviving close relative of Holocaust diarist Anne Frank, who died in the Bergen-Belsen concentration camp in March 1945. He was president of the Anne Frank Fonds, located in Basel. The Anne Frank Fonds is responsible for the rights of Franks\\' Diary of a Young Girl, which until his death in 1980 had been headed by her father, Otto Frank. Elias lived in Basel with his wife, Gerti Elias (nee Wiedner), where he died on 16 March 2015. They had two sons, Patrick and Oliver, who became actors.',\n",
       " 634: 'Le Chefresne is a commune in the Manche department in Normandy in north-western France.',\n",
       " 635: \"Ádám Ficsor (born 17 June 1980) is a Hungarian politician, who served as Minister of Civilian Intelligence Services of Hungary in 2009. He was a part of Ferenc Gyurcsány's inner circle in the Hungarian Socialist Party. In 2011 he joined Democratic Coalition Platform founded by Gyurcsány and became a member of its leadership. When the platform split from the Socialist Party on October 22, 2011 he joined to newly formed party and left the MSZP and its parliamentary group.\",\n",
       " 637: 'Hedemora is a locality in Dalarna County and the seat of Hedemora Municipality, Sweden, with 7,273 inhabitants in 2010. Despite its small population, Hedemora is for historical reasons normally still referred to as a city, and as such the oldest in the county. Statistics Sweden, however, only counts localities with more than 10,000 inhabitants as cities. Jonas Nilsson comes from Hedemora, as well as Kerstin Thorborg, Martin Matsbo, Bertil Norman and Ulf Stenlund. The diesel engines from Hedemora Diesel can be found in many ships built by Kockums, such as HMS Orion, the Collins class submarines in the Royal Australian Navy Submarine Service and the Archer class submarines in the Republic of Singapore Navy.',\n",
       " 638: 'Leonard Graves \"Buddy\" Edelen (born September 22, 1937 in Harrodsburg, Kentucky – died February 19, 1997 in Tulsa, Oklahoma) was an American marathoner. Based in England for most of his prime competitive years, in 1963 Edelen became the first man to run a marathon faster than 2 hours and 15 minutes when he set a world record of 2:14:28. Edelen also won the 1964 U.S. Olympic marathon trials and represented the U.S. in the 1964 Summer Olympics in Tokyo, Japan.',\n",
       " 639: \"Buddy Gene Emmons (January 27, 1937 – July 21, 2015) was an American musician. He played several instruments, most notably pedal steel guitar. Emmons was called the world's foremost steel guitarist and his talent was greatly admired by fellow steel guitarists. His musical versatility spanned genres such as country, swing, jazz, folk, and country-rock, and he has performed or recorded with a wide variety of vocalists and musicians including Linda Ronstadt, The Everly Brothers, Ernest Tubb, John Hartford, Ray Price, Judy Collins, and Lenny Breau. His innovative musical stylings ranged from tasteful ballad accompaniment and classical music to be-bop jazz, big band swing standards, and Western swing. He also made significant contributions to the design, development, and evolution of the pedal steel guitar as a musical instrument.\",\n",
       " 640: 'The Fidelitas is the youth organization of the conservative Fidesz party, founded in October 1996.',\n",
       " 641: 'Rupert Edward Lee \"Buddy\" Featherstonhaugh /ˈfænˌʃɔː/ (4 October 1909, Paris, France – 12 July 1976, London) was an English jazz saxophonist. Featherstonhaugh studied in Sussex, and had his first professional gig with Pat O\\'Malley in 1927. He was with Spike Hughes from 1930 to 1932, and toured England in Billy Mason\\'s band behind Louis Armstrong that same year. In 1933 he recorded with a group called The Cosmopolitans, which included Fletcher Allen. He recorded with Valaida Snow in 1935 and Benny Carter in 1937. During World War II, he led a Royal Air Force band which had among its members Vic Lewis, Don McAffer, and Jack Parnell. They went on to record as The BBC Radio Rhythm Club Sextet during 1943-45. After the war he toured Iceland in 1946, and then left the jazz scene, taking up work as a car salesman. In 1956 he returned to play in a quintet with Leon Calvert, Roy Sidewell, Kenny Wheeler, and Bobby Wellins. He toured the Middle East in 1957, after which he retired. He also was an occasional racing car driver. In 1934 he took over Whitney Straight\\'s car, a Maserati 26M, winning the Albi Grand Prix as member of the Team Straight.',\n",
       " 642: 'Buddy Giovinazzo is an independent filmmaker and author who is known for his gritty-low budget debut film, Combat Shock, and his collection of harrowing short stories of low urban life in his 1993 novel, Life is Hot in Cracktown. Born May 5, 1957 in New York City, Buddy grew up in Staten Island. He went to the College of Staten Island where he graduated with a Masters in Cinema, later teaching film there as well. He is the brother of Rick Giovinazzo who is a composer, orchestrator, and the star of his premier film, Combat Shock. His cousin is television and film actor, Carmine Giovinazzo.',\n",
       " 644: 'Saharsa is one of the thirty-eight districts of Bihar, India. Saharsa town is the administrative headquarters of this district. Saharsa district is a part of a larger territory, the Kosi Division and it became a district on 1 April 1954 and subsequently has become smaller with other districts being carved form it, most notably Madhepura in 1981. The area of the district is 1,696 km2. Total population is around 1132413 of which Rural population is 1052264 and Urban population is 80149.',\n",
       " 645: 'Prószków ([ˈpruʂkuf], German: Proskau) is a town in Opole County, Opole Voivodeship in southwestern Poland. It is the administrative seat of Gmina Prószków, a Polish/German bilingual commune since 2006.',\n",
       " 646: 'Armando \"Buddy\" Greco (born August 14, 1926) is an American singer and pianist.',\n",
       " 647: 'Clitourps is a commune in the Manche department in Normandy in north-western France.',\n",
       " 648: 'Orzesze [ɔˈʐɛʂɛ] (German: Orzesche) is a town in Silesia in southern Poland, near Katowice. Borders on the Upper Silesian Metropolitan Union - metropolis with the population of 2 millions. Located in the Silesian Highlands. It is situated in the Silesian Voivodeship since its formation in 1999, previously in Katowice Voivodeship, and before then, of the Autonomous Silesian Voivodeship. Orzesze is one of the towns of the 2,7 million conurbation - Katowice urban area and within a greater Silesian metropolitan area populated by about 5,294,000 people. The population of the town is 18,907 (2008).',\n",
       " 649: 'James Alfred \"Buddy\" Horne (born October 4, 1931 in Toronto, Ontario) is a Canadian ice hockey player who competed in the 1956 Winter Olympics. Horne was a member of the Kitchener-Waterloo Dutchmen who won the bronze medal for Canada in ice hockey at the 1956 Winter Olympics.',\n",
       " 650: 'Dziekaństwo [d͡ʑeˈkaɲstfɔ](German Dziekanstwo, 1936-45 Dechantsdorf) is a village in the administrative district of Gmina Komprachcice, within Opole County, Opole Voivodeship, in south-western Poland. Before 1945 the area was part of Germany (see Territorial changes of Poland after World War II).',\n",
       " 651: 'Buddy Ebsen (born Christian Ludolf Ebsen, Jr.; April 2, 1908 – July 6, 2003), was an American singer, dancer, author, film, television and character actor, whose career spanned seven decades. He had also appeared as a guest on several talk and variety shows. The SAG-AFTRA records also show him as Frank \"Buddy\" Ebsen. Originally a dancer, Ebsen began his long career in films in 1935, beginning with Jack Benny in Broadway Melody of 1936 (1935), Maureen O\\'Hara in They Met in Argentina (1941) and June Havoc in Sing Your Worries Away (1942). He also danced with child star Shirley Temple in Captain January (1936), released the same year. Cast as the Tin Man in 1939\\'s The Wizard of Oz, Ebsen fell ill due to the aluminum dust in his makeup and was forced to drop out of the film. In Breakfast at Tiffany\\'s (1961), he portrayed Doc Golightly, the much older husband of Audrey Hepburn\\'s character. He also had a very successful television career; who played Davy Crockett\\'s sidekick, George Russell, in Walt Disney\\'s Davy Crockett miniseries (1953–54). He is probably best remembered for starring in the long-running CBS television sitcom The Beverly Hillbillies (1962–1971) as Jed Clampett. He also played the title character in the successful television detective drama Barnaby Jones (1973–1980), also on CBS. Ebsen had a cameo role in the 1993 film version of The Beverly Hillbillies, not as Jed Clampett, but as Barnaby Jones.',\n",
       " 652: 'Kurt Kreuger (July 23, 1916 – July 12, 2006) was a Swiss-reared German actor. Kreuger once was the third most requested male actor at 20th Century Fox. He starred with, among others, Ingrid Bergman and Humphrey Bogart.',\n",
       " 654: 'Duszniki-Zdrój [duʂˈɲikʲi ˈzdrui̯] (German Bad Reinerz) is a spa town in the Klodzko Valley on the Bystrzyca River in Kłodzko County, Lower Silesian Voivodeship, Poland. It is a notable spa town and a major tourist attraction of the area. Prior to 1945 the area was part of Germany. After World War II the region was placed under Polish administration and ethnically cleansed according to the post-war Potsdam Agreement. The native German populace was expelled and replaced by Poles.',\n",
       " 655: 'Kabompo is a town in north-western Zambia, lying on the Kabompo River with a population over 88,000 people. It is surrounded by teak forest and is home to a Roman Catholic mission. Its most significant activity is the production of honey. You also find a water falls called Chikata. There is an air strip. Kabompo House, No. J11a, Kabompo Township, to which Kenneth Kaunda (first president of post independence Zambia) was restricted by the Colonial authorities from March to July 1959 is a noted national monument. There is an interesting cable ferry across the Kabompo River 80 km to the south-east.',\n",
       " 656: 'Baubigny is a commune in the Manche department in the Basse-Normandie region in northwestern France.',\n",
       " 657: 'Calcinate (Eastern Lombard: Calsinàt) is a town and comune in the province of Bergamo, Lombardy, Italy. Its economy is mostly based on industry.[citation needed]',\n",
       " 658: 'Fieldy\\'s Dreams is the rap project by Korn\\'s bass guitarist, Fieldy. His first album, the gangsta rap album Rock\\'n Roll Gangster, was released on 22 January 2002. Most of the lyrics and music were by Fieldy himself, with Polar Bear (of Infinite Mass) helping out with the rest.[citation needed] Fieldy renamed his project \"Fieldy\\'s Nightmare\" and was due to release a 2008 album, Sobriety, but recording was put on hold to focus on work with Korn. Fieldy says that this new album will not be gangster rap but a bass instrumental album with a funk/jazz fusion. The Fieldy\\'s Dreams song, \"Baby Hugh Hef,\" was named the #10 \"50 Worst Songs of the \\'00s\" in a 2009 Village Voice article.',\n",
       " 659: 'Szczawno-Zdrój [ˈʂt͡ʂavnɔ ˈzdrui̯] (German: Bad Salzbrunn, until 1935 Ober Salzbrunn) is a spa town in Wałbrzych County, Lower Silesian Voivodeship, in south-western Poland.',\n",
       " 661: 'Anthony Claude \"Buddy\" Leach, Jr. (born March 30, 1934), is an American politician. Formerly, he was the U.S. Representative for Louisiana\\'s 4th congressional district and a member of the Louisiana House of Representatives. He has served as the chairman of the Louisiana Democratic Party and was a Democratic candidate for Governor of Louisiana in 2003.',\n",
       " 663: \"West Champaran (Hindi: पश्चिम चंपारण ज़िला, Urdu: مغرِبی چمپارن ضلع Maġribī Čaṃpāraṇ Zilā) is an administrative district in the state of Bihar in India. It is a part of Tirhut Division (Tirhut). The district headquarters are located at Bettiah. West Champaran is known for its fluid border with Nepal. It is located just 60 km (37 mi) west of Birgunj in Nepal, where people can shop for Chinese, Korean and Japanese goods. Many people visit Nepal to celebrate birthdays and New Year's Eve. Nepal gets good business from this area. Students of Champaran are brilliant and many are officers in Indian government.[citation needed]\",\n",
       " 664: \"Buddy Lester (January 16, 1917 – October 4, 2002) was an American comedian and actor who played dozens of character roles in films and television. Though probably best known for his appearances in Jerry Lewis' comedy films, he was also regularly seen on popular television shows (such as The New Phil Silvers Show and Barney Miller) in the 1960s and 70s. As a comedian, he was a fixture on the international nightclub circuit for several decades and was the brother of comedian Jerry Lester.\",\n",
       " 665: 'Pszów [pʂuf] (German: Pschow) is a town in Wodzisław County, Silesian Voivodeship, Poland, with 14,035 inhabitants (2004). It is located on Rybnik Plateau (Płaskowyż Rybnicki), in close vicinity to such cities, as Rybnik, Wodzisław Śląski, Racibórz, Radlin, Rydułtowy, Jastrzębie-Zdrój and Żory. With the area of 20.42 square kilometres (7.88 sq mi), between 1975 and 1994, Pszów was a district of Wodzisław Śląski. First mention of Pszów comes from 1265, when, called then Psov, it was granted Magdeburg rights. The first wooden church was built in the town in 1293. Across the centuries, Pszów shared the fate of Upper Silesia, belonging to Kingdom of Poland, Kingdom of Bohemia, Habsburg Monarchy, Kingdom of Prussia, and German Empire. Following the Silesian Uprisings, in 1922 Pszów became part of Second Polish Republic. Incorporated as a city in 1954, it now is a part of the Rybnik Coal Area. Coal Mine Rydułtowy-Anna is located on the territory of Pszów and Rydułtowy. Pszów has one sports club - Górnik Pszów, founded in 1924. It is most famous for boxers, such as Andrzej Biegalski, Bogdan Gajda (gold medal at 1977 European Amateur Boxing Championships), and Zbigniew Kicka (bronze medal at 1974 World Amateur Boxing Championships).',\n",
       " 666: 'James Walter \"Buddy\" McGirt (born January 17, 1964) is an American boxing trainer and retired boxer. During his ring tenure, McGirt was the IBF light-welterweight champion, and Lineal/WBC welterweight champion.',\n",
       " 667: 'Fontenay-sur-Mer is a commune in the Manche department in north-western France.',\n",
       " 668: 'Calcio is a town and comune in the province of Bergamo, Lombardy, Italy.',\n",
       " 669: 'Carlos Jesus \"Buddy\" Moreno (July 14, 1912 – November 29, 2015) was an American musician during the swing era and radio and television personality. He was born in Los Angeles, California as the only child to a Spanish father and an Irish mother. His career began in 1929 when he sang in a vocal group. His big breakthrough came in 1933 when he joined Griff Williams’s band in San Francisco as a singer and guitar player. Later he became a part of popular bandleader Dick Jurgens\\' orchestra. Moreno and Jurgen recorded many songs through the label Okeh Records.[citation needed] Moreno changed band once more, in 1943, when he joined Harry James’ band. Moreno made a film appearance in the Esther Williams star vehicle Bathing Beauty in 1944 along with the rest of the band. He formed his own band in 1947 with his wife, singer Perri Mitchell and others. Moreno had a local television show called The Buddy Moreno Show. He relocated to St. Louis in the 1950s. As he approached his 60s, he switched to radio and worked for the local stations WIL-FM, WEW and WSIE. Moreno died at a Florissant, Missouri, assisted-living facility on November 29, 2015 at the age of 103.',\n",
       " 670: 'Ochodze [ɔˈxɔd͡zɛ] (German Ochotz, 1936–1945 Frühauf) is a village in the administrative district of Gmina Komprachcice, within Opole County, Opole Voivodeship, in south-western Poland. It lies approximately 2 kilometres (1 mi) south of Komprachcice and 10 km (6 mi) south-west of the regional capital Opole. Before 1945 the area was part of Germany (see Territorial changes of Poland after World War II). The village has a population of 1,200.',\n",
       " 671: 'Buddy Wayne Knox (July 20, 1933 – February 14, 1999) was an American singer and songwriter, best known for his 1957 rock hit song, \"Party Doll\".',\n",
       " 672: 'Fighting Fantasy is a series of single-player roleplay gamebooks created by Steve Jackson and Ian Livingstone. The first volume in the series was published by Puffin in 1982, with the rights to the series eventually being purchased by Wizard Books in 2002. The series distinguished itself by mixing Choose Your Own Adventure-style storytelling with a dice-based role-playing element, the caption on many of the covers claiming each title was an adventure \"in which YOU are the hero!\" The majority of the titles followed a fantasy theme, although science fiction, post-apocalyptic, superhero, and modern horror gamebooks were also published. The popularity of the series led to the creation of merchandise such as action figures, board games, role-playing game systems, magazines, novels, and video games.',\n",
       " 673: 'Buszkowice [buʂkɔˈvit͡sɛ] (German: Hochbauschwitz) is a village in the administrative district of Gmina Ścinawa, within Lubin County, Lower Silesian Voivodeship, in south-western Poland. Prior to 1945 it was in Germany. It lies approximately 8 kilometres (5 mi) north of Ścinawa, 19 kilometres (12 mi) north-east of Lubin, and 57 kilometres (35 mi) north-west of the regional capital Wrocław. The village has a population of 140.',\n",
       " 675: \"Lauderhill, officially the City of Lauderhill, is a city in Broward County, Florida. As of the 2010 United States Census, the city's population was 66,887. It is part of the Miami–Fort Lauderdale–Pompano Beach Metropolitan Statistical Area, which was home to 5,564,635 people at the 2010 census. Its sister city is Chaguanas, Trinidad and Tobago\",\n",
       " 676: 'Breuville is a commune in the Manche department in Normandy in northwestern France.',\n",
       " 677: 'Buddy Ratner (born January 19, 1947 in New York) is an American professor of chemical engineering and bioengineering. He is the director of the Research Center for Biomaterials at the University of Washington (University of Washington Engineered Biomaterials, UWEB). He is also the faculty member for the Program for Technology Commercialization at the University of Washington.',\n",
       " 678: 'Raymond \"Buddy\" Parker (December 16, 1913 – March 22, 1982) was a football player and coach in the National Football League who served as head coach for three teams: the Chicago Cardinals, the Detroit Lions and the Pittsburgh Steelers.',\n",
       " 679: 'Polska Nowa Wieś [ˈpɔlska ˈnɔva ˈvjɛɕ] (German Neudorf, Polnisch Neudorf) is a village in the administrative district of Gmina Komprachcice, within Opole County, Opole Voivodeship, in south-western Poland. It lies approximately 3 kilometres (2 mi) north-west of Komprachcice and 11 km (7 mi) west of the regional capital Opole. Before 1945 the area was part of Germany (see Territorial changes of Poland after World War II). The village has a population of 1,858.',\n",
       " 680: 'Buddy Longway is a western comic book written by the Swiss comic book writer Derib. It is published under the Le Lombard publishing house. The first issue came out in 1972, and 16 issues were published until 1987 until Derib restarted the series in 2002, continuing with four further issues until 2006, until he announced that the 20th issue, La Source, would be the last. Both the story arcs and the drawings are praised for the realistic portrayal of the simplistic, rough life as a trapper.',\n",
       " 682: 'Les Champs-de-Losque is a commune in the Manche department in Normandy in north-western France.',\n",
       " 683: \"Calusco d'Adda is a comune (municipality) in the Province of Bergamo in the Italian region of Lombardy, located about 35 kilometres (22 mi) northeast of Milan and about 14 kilometres (9 mi) west of Bergamo. As of 31 December 2004, it had a population of 8,067 and an area of 8.2 square kilometres (3.2 sq mi). Calusco d'Adda borders the following municipalities: Carvico, Medolago, Paderno d'Adda, Robbiate, Solza, Terno d'Isola, Villa d'Adda.\",\n",
       " 684: 'Buddy Morrow (born Muni Zudekoff, aka Moe Zudekoff; February 8, 1919, New Haven, Connecticut – September 27, 2010) was an American trombonist and bandleader. He is known for his mastery of the upper range which is evident on records such as \"The Golden Trombone,\" as well as his ballad playing.',\n",
       " 685: 'Chmielowice [xmjɛlɔˈvit͡sɛ] (German Chmiellowitz) is a village in the administrative district of Gmina Komprachcice, within Opole County, Opole Voivodeship, in south-western Poland. Before 1945 the area was part of Germany (see Territorial changes of Poland after World War II). The village has an approximate population of 1,500.',\n",
       " 686: \"Calvenzano is a comune (municipality) in the Province of Bergamo in the Italian region of Lombardy, located about 35 kilometres (22 mi) east of Milan and about 25 kilometres (16 mi) south of Bergamo. As of 31 December 2004, it had a population of 3,618 and an area of 6.5 square kilometres (2.5 sq mi). Calvenzano borders the following municipalities: Arzago d'Adda, Caravaggio, Casirate d'Adda, Misano di Gera d'Adda, Treviglio, Vailate.\",\n",
       " 687: 'The Antarctic Plateau, or Polar Plateau, is a large area of East Antarctica which extends over a diameter of about 1,000 kilometres (620 mi), and includes the region of the geographic South Pole and the Amundsen–Scott South Pole Station. This huge continental plateau is at an average elevation of about 3,000 metres (9,800 ft) high.',\n",
       " 688: 'László Filep (6 December 1941 Császló – 19 November 2004 Budapest) was a Hungarian mathematician who specialized in history of mathematics. His Ph.D. advisors at the University of Debrecen were Barna Szénássy and Lajos Tamássy.',\n",
       " 689: 'Ustroń [ˈustrɔɲ] (German: Ustron) is a health resort town in Cieszyn Silesia, southern Poland. It is situated in the Silesian Voivodeship (since 1999), having previously been in Bielsko-Biała Voivodeship (1975–1998). It lies in the Silesian Beskids mountain range. It is the home of the Jan Jarocki Museum, which was founded in April 1986 as Museum of Metallurgy. It is housed in an old building of the former Klemens Steel Works, which was in use between 1772 and 1897. The museum collects technical tools, as well as historical and ethnographic artifacts. The Równica and Czantoria mountains are nearby and hikable from the town center.',\n",
       " 690: 'Brainville is a commune in the Manche department in Normandy in northwestern France.',\n",
       " 691: \"Hardenberg (About this sound pronunciation ) (Dutch Low Saxon: Haddenbarreg or 'n Arnbarg) is a municipality and a town in the eastern Netherlands, in the province of Overijssel. The town of Hardenberg has a population of about 19,000. It received city rights in 1362 from Jan van Arkel, Bishop of Utrecht. The famous Pieterpad passes through Hardenberg.\",\n",
       " 692: 'Vaishali district is a district in Bihar, India. It is named after the ancient city of Vaishali of Mithila, which is mentioned in the Mahabharata as well as in Buddhism and Jainism. It is a part of Tirhut division.',\n",
       " 694: 'Dale Hey (May 16, 1947 – November 26, 2012) was a professional wrestler, better known under his ring name, Buddy Roberts. Roberts was best known for his work in tag teams during the 1970s and 1980s, particularly as one-third of The Fabulous Freebirds.',\n",
       " 695: 'Gogolin [ɡɔˈɡɔlʲin] is a town in Poland, in Opole Voivodeship, in Krapkowice County. It has 6,116 inhabitants (2004). From 1742 to 1945 the town was part of Germany. A large German minority in still remains in Gogolin. The town is also known as Gogolin in German; it is one of the few places in Poland formerly under German rule whose name has never been Germanized.',\n",
       " 696: 'Siwan district is one of the districts of Bihar state, India. Siwan town is the administrative headquarters of this district. Siwan district is a part of Saran Division since 1972. The town is known for its great past especially for First President of Indian Republic who belonged to Jeeradei.',\n",
       " 697: 'Buddy Starcher (born Oby Edgar Starcher, 16 March 1906, Ripley, West Virginia — died 2 November 2001, Harrisonburg, Virginia) was an American country singer whose first record releases were in 1946, although he had been performing since his teens, often billed as \"The Boy from Down Home\". He starred on his own show on WCHS-TV from 1960 to 1966, and ran a record label named B.E.S. (for his initials) during this time. However, he is best known for his spoken word recording entitled \"History Repeats Itself\", written with Minnie Pearl. Originally released on his own label in 1965, it was re-released on the larger and better distributed Boone Records in 1966. The track recounts uncanny similarities between the assassinations of Abraham Lincoln and John F. Kennedy, accompanied by a musical background featuring \"Battle Hymn of the Republic\" and \"America the Beautiful\". The re-released single hit No. 39 on the US Billboard Hot 100 chart and the album of the same name from which it was drawn peaked at No. 37 on the U.S. Country Albums chart. His wife, Mary Ann Starcher (nee Estes), was also a musician and often appeared with him on his television show.',\n",
       " 699: 'Barenton is a commune in the Manche department in the Basse-Normandie region in northwestern France.',\n",
       " 700: 'Kennesaw is a city in Cobb County, Georgia, United States, located in the greater Atlanta metropolitan area. It had a population of 29,783 according to the 2010 census. Founded in 1887, Kennesaw has a past surrounded with railroad history. During the Civil War, Kennesaw was the staging ground for the Great Locomotive Chase on April 12, 1862. In 2007, the city was selected by Family Circle magazine as one of the nation\\'s \"10 best towns for families\". In 2009 Newsmax magazine listed the city among the \"Top 25 Most Uniquely American Cities and Towns\". The city is perhaps best known nationally for its mandatory gun-possession ordinance.',\n",
       " 701: 'Filip Lăzăreanu (born 5 July 1981) is a Romanian football player who currently plays for Whitehawk FC.',\n",
       " 702: 'Syców [ˈsɨt͡suf] (German: Groß Wartenberg, until 1888 Polnisch Wartenberg) is a town in Oleśnica County, Lower Silesian Voivodeship, in south-western Poland. It is the seat of the administrative district (gmina) called Gmina Syców. It lies approximately 27 kilometres (17 mi) north-east of Oleśnica, and 47 kilometres (29 mi) north-east of the regional capital Wrocław.',\n",
       " 703: 'Buddy Rice (born January 31, 1976) is an American racecar driver. He is best known for winning the 2004 Indianapolis 500 while driving for Rahal Letterman Racing, and the 2009 24 Hours of Daytona for Brumos Racing.',\n",
       " 704: 'Pyskowice [pɨskɔˈvʲit͡sɛ] (German: Peiskretscham) is a town in Silesia in southern Poland, near Katowice. Borders on the Upper Silesian Metropolitan Union - metropolis with the population of 2 millions. Located in the Silesian Highlands. It is situated in the Silesian Voivodeship since its formation in 1999, previously it was in Katowice Voivodeship. Pyskowice is one of the towns of the 2,7 million conurbation - Katowice urban area and within a greater Silesian metropolitan area populated by about 5,294,000 people. The population of the town is 19,104 (2008). During the Second World War Pyskowice, then known as Peiskretcham, was one of the many sites where Canadian and British prisoners of war, nominally attached to Stalag VIIIB/344 Lamsdorf (Lambinowice) had to work for their German captors. There were more than 600 such working parties belonging to Stlag VIIIB/344 in this region. In January 1945, as the Soviet armies resumed their offensive and advanced into Germany, the prisoners based in Pyskowice were marched westward in the so-called Long March or Death March. Some died from the bitter cold and exhaustion. Eventually the survivors were liberated by American troops in April or May 1945.',\n",
       " 705: 'Ricardo Roberto Toro Lavín, also known as Buddy Richard (September 21, 1943, Graneros) is a Chilean singer-songwriter known for his ballads. He began performing as part of the \"Nueva ola\" (\"New wave\"). He first recorded in 1962, recording his own songs and singing in Spanish. He signed to Caracol and released his first single, Balada de la tristeza, which became a hit in the summer of 1963. The following year he signed with Arena and released his most well-known songs, Cielo (as a way to say \"Honey\", a cover of the Bobby Hebb song Sunny), Despídete con un beso (\"Say goodbye with a kiss\") and Si me vas a abandonar (\"If you are going to leave me\"). His 1969 live album, Buddy Richard en el Astor, was broadcast live on Chilean television and radio, one of the first live broadcasts in the country. His 1975 song Tu cariño se me va (\"Your love leaves me\") and his 1982 song Mentira (\"Lie\") (made popular by the Nicaraguan singer Hernaldo Zúñiga) became popular across Latin America. After a lull in his career, he again became popular in 1993 after recording with the band Los Tres. He retired from public performance in 2008, playing his last concert at the Quinta Vergara on 25 February at the Viña del Mar International Song Festival. With producer Daniel Guerrero he wrote his first song in fifteen years for his retirement, titled Trátame bien (\"Treat me good\").',\n",
       " 706: 'Camerata Cornello is a comune (municipality) in the Province of Bergamo in the Italian region of Lombardy, located about 60 km (37 mi) northeast of Milan and about 20 km (12 mi) north of Bergamo. Camerata Cornello borders the following municipalities: Cassiglio, Lenna, Piazza Brembana, San Giovanni Bianco, Taleggio. The community was the original home of Omodeo Tasso, the late-13th Century founder of the Princely House of Thurn and Taxis. On 14 July 1914, Simone Pianetti shot seven other locals and fled into the mountains.',\n",
       " 707: 'buddy’s knife jazzedition is a book publisher in Cologne, Germany that specializes in the publication of jazz books. It was established in 2007 by the journalist, editor and ethnologist Renate Da Rin.',\n",
       " 708: 'Kapisillit is a settlement in the Sermersooq municipality in southwestern Greenland. In 2010, the settlement had 86 inhabitants. Kapisillit means the salmon in the Greenlandic language. The name refers to the belief that the only spawning-ground for salmon in Greenland is a river near the settlement.',\n",
       " 709: 'La Colombe is a commune in the Manche department in Normandy in north-western France.',\n",
       " 711: 'The Baden-Wuerttemberg Cooperative State University Loerrach (DHBW-Loerrach) was founded in 1981 as Berufsakademie Lörrach. It offers workplace-focused, cooperative degree courses. This means that students alternate between learning the theory at school and applying it on the job in a three-months rhythm. Besides Loerrach, seven other schools of cooperative education and three branch campuses where founded in Baden-Wuerttemberg since the beginning of 1974. The German state of Baden-Wuerttemberg has changed the school’s legal status on March 1, 2009. The union of the merged eight institutions with 11 campuses is now named Baden-Württemberg Cooperative State University. It is a legal entity of public law and simultaneously a state institution. By 2009 the combined student enrollment across all 11 campuses had reached more than 25,000 students. More than 90,000 graduated alumni have been educated in more than 8,000 cooperating companies. About 2,000 students are enrolled at the DHBW Loerrach. It runs a faculty of business and a faculty of engineering and offers 17 different business and technical fields of study. All programs are intensive and full-time degree courses (accredited with 210 ECTS). In most the courses students graduate after three years with one of the following degrees: Master courses offered in The DHBW Loerrach - situated in the triangle between Germany, Switzerland and France – offers two trinational courses in cooperation with the Université de Haute Alsace in Colmar and Mulhouse and the UASN-Switzerland in Basle and Muttenz. Students graduate from these courses after three and a half years and receive a degree from all three participating schools. The lectures are held in German, French and English. The DHBW Loerrach cooperates with the Steinbeis Foundation Stuttgart and the following international universities: The school is a member in the World Association for Cooperative Education (WACE), the World Universities Congress and in the Balkan Universities Network.',\n",
       " 712: \"Puerto Natales is a city in Chilean Patagonia. It is the capital of both the commune of Natales and the province of Última Esperanza, one of the four provinces that make up the Magallanes and Antartica Chilena Region in the southernmost part of Chile. Puerto Natales is the only city in the province it is located 247 km (153 mi) lying northwest of Punta Arenas. It is the final passenger port of call for the Navimag ferry sailing from Puerto Montt into the Señoret Channel as well as the primary transit point for travellers to Torres del Paine National Park, Chile. It is located at the opening of Última Esperanza Sound and was originally inhabited by the Kawésqar or Alacaluf people and the Aoniken or Tehuelche people. The first European to discover the area where the city is located was Juan Ladrillero, a Spanish explorer who was looking for the Strait of Magellan's western passage in 1557. Almost losing his religion, when he finds a narrow passage (what nowadays is known as Señoret Channel) continues sailing across what he thought was the Strait. Unfortunately, he discovers it is an inlet he named as Seno de Última Esperanza, translated as Last Hope Sound. The city was later settled by European immigrants, primarily Germans, British, including English, Welsh and Scots, Croats, Greeks, Italians and Spaniards. It was then settled by Chilean people, with a substantial number coming from the island of Chiloé, all attracted by the sheep breeding industry. The city was formally founded under the government of Ramón Barros Luco on May 31, 1911. Nowadays, one of its most important industries is tourism although the cattle and aquaculture industries are also significant.\",\n",
       " 713: 'Andreas Hofer (ca. 1629 – 25 February 1684) was a German composer of the Baroque period. Hofer was born at Reichenhall. He was a contemporary of Heinrich Ignaz Franz von Biber, whose predecessor he was in Salzburg in his office of Inspector and Hofkapellmeister, i.e., director of the court orchestra. Like Biber, Hofer was noted for his large-scale polychoral sacred works. It has been suggested that Hofer was the composer of the famous Missa Salisburgensis à 53 voci, which earlier had been attributed to Orazio Benevoli, although it is now accepted that it was the work of Biber. Hofer died at Salzburg. His compositions contain significant roles for instruments like the cornetto, trombone or sackbut and trumpet. Little of his music has been performed or recorded in recent times; several scores, however, have been made available.',\n",
       " 714: 'Philippa is a given name meaning \"lover of horses\" or \"horses\\' friend\". Common alternative spellings include Filippa, Phillipa and, less often, Filipa. It is the feminine form of the masculine name Philip. It is composed of the Greek elements philein (to love) and hippos (horse), and is derived from the name of Alexander the Great\\'s father, the ancient Greek king, Philip II of Macedon (aka Philippos, Filippos, and Pilipos), who was an avid horse lover. The name is commonly shortened to the nicknames Pippa, Pippy, and Pip. Notable people with the name Philippa include:',\n",
       " 715: \"Canonica d'Adda is a comune (municipality) in the Province of Bergamo in the Italian region of Lombardy, located about 30 kilometres (19 mi) northeast of Milan and about 15 kilometres (9 mi) southwest of Bergamo. It lies on the left bank of the river Adda which separates it from Vaprio d'Adda and is here the boundary between the Province of Bergamo and the Province of Milan. Canonica d'Adda also borders the municipalities of Brembate, Capriate San Gervasio, Fara Gera d'Adda and Pontirolo Nuovo.\",\n",
       " 716: 'Qassiarsuk is a settlement in the Kujalleq municipality, in southern Greenland. Its population was 89 in 2010.',\n",
       " 717: 'Otto Böckel (born 2 July 1859 in Frankfurt am Main - died 17 September 1923 in Michendorf) was a German populist politician who became one of the first to successfully exploit anti-Semitism as a political issue in the country.',\n",
       " 718: \"Siorapaluk (West Greenlandic) or Hiurapaluk (Polar Eskimo) (IATA: SRK) is a settlement in the Qaanaaq area of the Qaasuitsup municipality in northern Greenland. It is one of the world's northernmost inhabited settlements. It has a population of 68, who speak the Inuktun language of the Polar Inuit as well as the Kalaallisut dialect of Greenlandic. Many of the inhabitants are direct descendants of the last migration of Inuit from Canada in the 20th century.\",\n",
       " 719: \"Buddy Van Horn (b. August 20, 1929) is a Hollywood stunt coordinator and film director. A long-time stunt double for Clint Eastwood, he directed such Eastwood films as Any Which Way You Can, The Dead Pool, and Pink Cadillac. He doubled for Gregory Peck and Guy Williams on Disney's Zorro and on the 2004 Oscar-winning Best Picture Million Dollar Baby, directed by Eastwood. Van Horn's most prominent onscreen appearance is the role of Marshal Jim Duncan in the Clint Eastwood film High Plains Drifter, a role which he and Eastwood play the same character. Van Horn is the murdered Marshal who was planning to report a gold stake to the government that the town of Lago wanted to keep for itself and Eastwood is the avenging spirit who returned to make the townspeople of Lago pay for their actions and to seek retribution against the three outlaws who bull-whipped the Marshal to death in front of the town who paid them to keep the Marshal from talking.\",\n",
       " 720: 'Glatigny is a commune in the Manche department in north-western France.',\n",
       " 722: \"Budel is a village in the Dutch province of North Brabant. It is located in the municipality of Cranendonck, 25 km outside Eindhoven. Kempen Airport is located near Budel. Budel used to be a separate municipality. It merged with Maarheeze in 1997, and changed its name a year later to Cranendonck. It is home to the Budelse Brouwerij, one of the country's largest microbreweries. South of the town the large zinc smelter of Nyrstar (named Umicore before 2007) is located. Though located in North Brabant near Eindhoven, the spoken dialect is Budels (linguistically a Limburgish dialect), rather than Kempenlands (linguistically an East Brabantian dialect).\",\n",
       " 723: 'Capizzone is a comune (municipality) in the Province of Bergamo in the Italian region of Lombardy, located about 45 kilometres (28 mi) northeast of Milan and about 12 kilometres (7 mi) northwest of Bergamo. Capizzone borders the following municipalities: Bedulita, Berbenno, Brembilla, Roncola, Strozza, Ubiale Clanezzo.',\n",
       " 724: \"Colossae (/kəˈlɒsi/; Greek: Κολοσσαί) was an ancient city of Phrygia in Asia Minor, and was the location of a Christian community to which the Apostle Paul addressed a canonically accepted epistle (letter),[not verified in body] which is known for its content's exaltation of the supremacy of Chistianity's namesake.[not verified in body] Writing in the 4th century BC, Xenophon refers to Colossae as one of six large cities of Phrygia.[not verified in body] It was populated by peoples of Greek and Hebrew origin (Antiochus the Great having relocated there, two thousand Jewish families from Babylonia and Mesopotamia),[not verified in body] as well as other cultures and ethncities,[not verified in body] as it was an early center of trade given its location on the Lycus (a tributary of the Maeander River)[not verified in body] and its position near the great military and commercial road from Ephesus to the Euphrates.[not verified in body] It was situated 10 miles southeast of Laodicea, 13 miles from the ancient city of Heiropolis, and 3 miles rom Mount Cadmus, at the head of a gorge.[not verified in body] Commerce of the city included trade in wool—the dyed wool collossinus was named for the place—and in the products of weaving and other trades.[not verified in body] It was also known for its fusion of religious influences (syncretism), which included Jewish, Gnostic, and pagan influences that in the first century AD were described as an angel-cult (a matter addressed by the Pauline letter).[not verified in body] The city was decimated by an earthquake in the 60s AD, rebuilt independent of the support of Rome, overrun by the Saracens in the 7th and 8th centuries AD, and then destroyed, ultimately, by the Turks in the 12th century,[not verified in body] with the remnant of its population relocating, among other places, to nearby Chonae.[not verified in body] As of 2015, it had never been excavated,[not verified in body] though plans are reported for an Australian led expedition to the site.[not verified in body] Despite a treacherously ambiguous cartography and history, Colossae has been clearly distinguished in modern research from nearby Chonae (Χῶναι), now called Honaz, with what remains of the the buried ruins of the mound associated with Colossae lying a few to the north of Chonae/Honaz.\",\n",
       " 726: 'Sainte-Anne 2nd Canton is a former canton in the Arrondissement of Pointe-à-Pitre on the island of Guadeloupe. It was disbanded following the French canton reorganisation which came into effect in March 2015.',\n",
       " 727: \"Luohu District (Simplified: 罗湖; Traditional: 羅湖; Pinyin: Luōhú, Hakka Chinese:lo2 fu2) is a district of Shenzhen, Guangdong Province, People's Republic of China.\",\n",
       " 728: 'Berg is a village in the Dutch province of Limburg. It is a part of the municipality of Valkenburg aan de Geul, and lies about 7 km east of Maastricht. In 2001, Berg had 3242 inhabitants. The built-up area of the town was 0.67 km², and contained 1201 residences. The larger statistical area \"Berg\", which includes the hamlet Geulhem and the surrounding countryside, has a population of 3470. Until 1982, Berg and the neighbouring hamlet of Terblijt constituted the municipality of Berg en Terblijt, which also covered the small hamlets of Geulhem and Vilt.',\n",
       " 729: 'Yantian District (Chinese: 盐田区; pinyin: Yántián Qū) is one of the six districts of the city of Shenzhen, Guangdong, China. It is adjacent to Shenzhen River to the south, and is surrounded by Luohu and Longgang districts of Shenzhen. Until March 1998, Yantian was part of Luohu District.',\n",
       " 731: \"Ilta-Sanomat (Finnish for the evening news) is one of Finland's two prominent tabloid size evening newspaper and the second largest paper in the country. Its counterpart and biggest rival is Iltalehti.\",\n",
       " 732: 'The Association of Member Episcopal Conferences in Eastern Africa (AMECEA), the Association of Episcopal Conferences of Eastern Africa and the coordinating body of the Catholic dioceses. The AMECEA was established in 1961. Was the founding president of the Cardinal Archbishop of Lusaka Adam Kozlowiecki, SJ. It is one of ten members of the Symposium of Episcopal Conferences of Africa and Madagascar(SECAM). Members of the AMECEA episcopal conferences of countries of Ethiopia (1979), Eritrea (1993), Kenya (1961), Malawi (1961), Tanzania (1961), Zambia (1961), Sudan (1979), Uganda (1961). Somalia (1995) and Djibouti (2002) have observer status. The current chairman is Most Rev Berhaneyesus Demerew SOURAPHIEL, C.M. Archbishop of Addis Ababa (Ethiopia),. His deputy Cardinal John Njue, Archbishop of Nairobi and Chairman of the Kenya Episcopal Conference.',\n",
       " 733: 'Supaul district (Hindi: सुपौल जिला) is one of the thirty-eight districts of Bihar state, India, and Supaul town is the administrative headquarters of this district. This district occupies an area of 2,410 km2 (931 sq mi). The district was carved out from the erstwhile Saharsa district on 14 March 1991.',\n",
       " 734: 'Qiánnán Buyei and Miao Autonomous Prefecture (Chinese: 黔南布依族苗族自治州; pinyin: Qiánnán Bùyīzú Miáozú Zìzhìzhōu; Buyei: Qianfnanf Buxqyaix Buxyeeuz ziqziqzouy) is an autonomous prefecture of Guizhou province, People\\'s Republic of China, bordering Guangxi to the south. The prefecture\\'s seat is Duyun, while its area is 26,207 km2 (10,119 sq mi). The name, \"黔南\" derives from the prefecture\\'s south-central location in the province; \"黔\" is the official abbreviation for Guizhou, while \"南\" means \"south\".',\n",
       " 736: \"Linxia Hui Autonomous Prefecture (simplified Chinese: 临夏回族自治州; traditional Chinese: 臨夏回族自治州; pinyin: Línxià Huízú Zìzhìzhōu; Xiao'erjing: ) formerly known as Guhezhou is located in Gansu province, south of the provincial capital Lanzhou, bordering Qinghai to the west. It is an autonomous prefecture for the Muslim Hui people, a large Chinese ethnic group. It also includes two autonomous counties for other Muslim groups, namely Dongxiang, Salar, and Bonan.\",\n",
       " 737: \"Kampen ([ˈkɑmpən]) is a municipality, a city and an old Hanseatic city at the lower reaches of the river IJssel in the Dutch province of Overijssel. The municipality of Kampen had a population of 51,278 in 2014 and covers an area of 161.79 km2 (62.47 sq mi). Kampen is located in the North West of Overijssel and is the largest city in this region. The city of Kampen itself has around 35,000 inhabitants. Kampen has one of the best preserved old town centres of the Netherlands, including remains of the ancient city wall (of which three gates are still standing) and numerous churches. Also notable are the three bridges over the IJssel which connect Kampen with IJsselmuiden and Kampereiland, the agricultural area between the branches which form the IJssel delta, and a windmill (d' Olde Zwarver - the Old Vagabond). Traditionally people in Kampen speak a variation of the Sallands dialect, known as Kampers.\",\n",
       " 738: 'Longgang District (simplified Chinese: 龙岗区; traditional Chinese: 龍崗區; pinyin: Lónggǎng Qū; Jyutping: lung4gong1 keoi1) is one of the six districts of Shenzhen, China. It is located in northeastern Shenzhen. With an area of 844.07 square kilometres (325.90 sq mi), Longgang District is the largest district by area in Guangdong province. The population of the district is 1,831,225.',\n",
       " 739: 'Ren County or Renxian (simplified Chinese: 任县; traditional Chinese: 任縣; pinyin: Rén Xiàn), is a county located around 17 kilometres (11 mi) from Xingtai, Hebei, which administrates it. It has a land area of 431 square kilometers and a population of 300,000. Its postal code is 055150. The county seat is located in Rencheng Town.',\n",
       " 740: 'Budeč (Buč until 1925, in German Butsch) is a village in the Jindřichův Hradec District of the Czech Republic.',\n",
       " 741: 'Capriate San Gervasio is a comune in the province of Bergamo, in Lombardy, Italy. It is situated on the southern tip of the so-called Bergamasca Island, a territory delimited by the rivers Adda and Brembo. It includes three frazioni (subdivisions) at slightly different altitudes, San Gervasio d\\'Adda (north), Capriate d\\'Adda (center) and Crespi d\\'Adda. The latter, a perfectly preserved example of a 19th-century \"workers\\' village\", is a UNESCO World Heritage Site. It received the honorary title of city with a presidential decree on July 11, 2006.',\n",
       " 742: 'Mileiha (مليحة) is a village in the United Arab Emirates and the location of archaeological remnants dating from the Neolithic to pre-Islamic Arabia.',\n",
       " 743: 'Roseau is a city and county seat of Roseau County, Minnesota, United States. Its population was 2,633 at the 2010 census.',\n",
       " 745: 'Fritz Köster (February 2, 1855 – 1934) was a German anarchist editor and trade unionist. Born in Rodenberg, Hesse (now in Lower Saxony), Köster was active in the Social Democratic Party of Germany (SPD) starting in the early 1880s. He moved to Groß Ottersleben, near Magdeburg, where he participated in the socialist movement, which was illegal at the time because of the Anti-Socialist Laws, and was a leader in the trade union of the town. For these activities he was sentenced to prison multiple times, most notably in 1886 for three months for libel, and in 1887 for eighteen months for the dissemination of illegal literature. After the sunset of the Anti-Socialist Laws in 1890, he was part of the left-wing opposition known as Die Jungen in the SPD, as the delegate of Wanzleben at the party convention. In the same year, he became editor of the Magdeburger Volkstimme. His articles for this newspaper led to several convictions, which he avoided by fleeing to Switzerland. In Zurich, he joined the Association of Independent Socialists founded by members of Die Jungen, who were expelled from the SPD. He was active in various unions and in the Swiss anarchist movement throughout the 1890s. Police reports call him the \"leader of the Zurich anarchists\". He returned to Groß Ottersleben in January 1910, after he could no longer be punished for his crimes because of the statute of limitations. Pressured by friends of his, Köster re-joined the SPD and Gustav Landauer and he tried to convince rural workers to join the anarchist movement. Soon, he led a farm workers\\' strike. In June 1910, he was going to be expelled from the SPD along with several other anarchists, but he left the party first. In 1911, he moved to Berlin, where he started working for the weekly newspaper Die Tribüne. In the same year he became the chief editor of Der Pionier, the theoretical organ of the syndicalist Free Association of German Trade Unions (FVdG), but in 1912, after having spent three months in various prisons, he quit this role and moved to Dresden. He then became a leader in the syndicalist construction workers\\' union in Dresden and travelled Germany as a lecturer. In 1920, he became a member of the Business Commission of the FVdG-follow-up organization, the Free Workers\\' Union of Germany (FAUD). He also contributed to Der Syndikalist, the organ of the FAUD, and Die Schöpfung. Köster\\'s wife Aimée contributed to the syndicalist women\\'s magazine Die schaffende Frau and was a member of the Syndicalist Women\\'s Federation (SFB).',\n",
       " 746: 'Wuzhishan (Chinese: 五指山; pinyin: Wǔzhǐshān) is a county-level city in the south-central part of Hainan, a province of the People\\'s Republic of China. Although called a \"city\", Wuzhishan refers to a large land area in Hainan - an area which was once a county. Within this area is the main city, Wuzhishan City. It was originally called Tōngshí (Chinese: 通什) and is located beside Wuzhi Shan, the mountain. The city\\'s total area is 1129 square kilometres, and its population is 115,000 people. Its postal code is 572200, and its district number is 0898.',\n",
       " 747: 'Tamás Filó (born 6 December 1979 in Budapest) is a Hungarian football player who currently plays for Budapest Honvéd FC.',\n",
       " 748: \"Caprino Bergamasco is a comune (municipality) in the Province of Bergamo in the Italian region of Lombardy, located about 40 kilometres (25 mi) northeast of Milan and about 15 kilometres (9 mi) northwest of Bergamo. As of 31 December 2004, it had a population of 2,908 and an area of 8.6 square kilometres (3.3 sq mi). The municipality of Caprino Bergamasco contains the frazioni (subdivisions, mainly villages and hamlets) Sant'Antonio d'Adda, Celana, Opreno, Perlupario, Formorone and Ombria. Caprino Bergamasco borders the following municipalities: Cisano Bergamasco, Palazzago, Pontida, Roncola, Torre de' Busi.\",\n",
       " 749: 'Hårlev is a railway town with a population of 2,572 (1 January 2015) in Stevns Municipality on the southeastern part of the Danish island of Zealand about 12 kilometres south of Køge.',\n",
       " 751: 'Stanton is a city in Mercer County, North Dakota, United States. It is the county seat of Mercer County. The population was 366 at the 2010 census. Stanton was founded in 1883 and became the county seat when Mercer County organized in 1884. Stanton is home to the Knife River Indian Villages National Historic Site, which houses a Hidatsa earth lodge and three abandoned villages. One of these, Awatixa, is believed to be the former home of Sakakawea.',\n",
       " 752: 'Chanteloup is a commune in the Manche department in Normandy in north-western France. Chanteloup maybe means \"Singing wolf\" chante \"sing\" and loup \"wolf\"',\n",
       " 753: \"Budget Rent a Car System, Inc. is an American car rental company that was founded in 1958 in Los Angeles, California by Morris Mirkin. Budget's operations are headquartered in Parsippany-Troy Hills, New Jersey. With its original fleet of 10 cars, the company lived up to the 'Budget' name by undercutting the daily and per mile rental rates of the established airport based car rental companies. Mirkin was joined in 1959 by Julius Lederer (husband of columnist Ann Landers) who built the company, and made it an international company. In 1960, the headquarters moved to Chicago, Illinois and the rental fleet expanded with franchised and wholly owned rental outlets. The company was eventually acquired by Transamerica Corporation, and then sold in 1986 in a leveraged buyout by Gibbons, Green and van Amerongen Ltd., along with management (led by CEO Clifton E. Haley) and selected investors. The company made its first public stock offering in 1987. Team Rental Group purchased the public company in 1997 and took the name Budget Group. In 2002, it sold the company's assets to Cendant Corporation, which also owned Avis and in September 2006, Cendant Corporation separated into four independent companies. The real estate division became Realogy, Inc., its hospitality services division became Wyndham Worldwide, and the travel distribution services division became Travelport, Inc., an affiliate of The Blackstone Group. In 2006, following the Travelport sale, Cendant, now composed solely of its vehicle rental services businesses, renamed itself Avis Budget Group. Of the approximately 800 Budget Rental Car locations in the U.S., 600 are company-operated locations and 200 are licensee locations. Internationally, there are 150 company-operated locations and 1,800 licensees.\",\n",
       " 754: 'Sitamarhi is one of the districts of the state of Bihar, India. Sitamarhi town is the administrative headquarters of this district. The district is a part of the Tirhut Division and is located along the border of Nepal.',\n",
       " 755: \"Pétionville (also written Pétion-Ville) is a commune and a suburb of Port-au-Prince, Haiti, in the hills east and separate of the city itself on the northern hills of the Massif de la Selle. Founded in 1831 by then president Jean-Pierre Boyer, it was named after Alexandre Sabès Pétion (1770–1818), the Haitian general and president later recognized as one of the country's four founding fathers. The district is primarily a residential and tourist area. It held a population of 283,052 at the 2003 Census, which was officially estimated to have reached 376,834 in 2015. Pétion-Ville is part of the city's metropolitan area, one of the most affluent areas, where the majority of tourist activity takes place, and one of the wealthiest parts of the country. Many diplomats, foreign businessmen, and a large number of wealthy citizens do business and reside in Pétionville. Despite the distance from the capital and the general affluence of the district, the lack of administrative enforcement has led to the formation of shantytowns on the outer edges of the district, as poor locals migrate upward and have settled there in search of job opportunities.\",\n",
       " 756: 'Carneville is a commune in the Manche department in Normandy in north-western France.',\n",
       " 757: 'Final Attraction is the debut studio album by German band Cinema Bizarre. The album features a blend of synth pop, dark electro and rock, and glam rock. The album peaked at #14 on the German Billboards but failed to chart in most other countries. This was the only album to feature Luminor, who was forced to leave because of a medical condition.',\n",
       " 759: 'Ossipee is a town in Carroll County, New Hampshire, United States. The population was 4,345 at the 2010 census. It is the county seat of Carroll County. Ossipee, which includes several villages, is a resort area and home to part of Pine River State Forest.',\n",
       " 760: 'Doville is a commune in the Manche department in north-western France.',\n",
       " 761: 'Caravaggio (also known locally as Careàs) is a town and comune in the province of Bergamo, in Lombardy, Italy, 40 kilometres (25 mi) east of Milan.',\n",
       " 762: 'Finch is an American post-hardcore band from Temecula, California. The band released an EP Falling Into Place and two full-length albums, What It Is to Burn and Say Hello to Sunshine before declaring a hiatus in 2006. Finch reformed in 2007, playing a reunion show on November 23 at the Glasshouse in Pomona, California. They released a self-titled EP a year later, and were in the process of writing their third studio album when they disbanded in late 2010. After playing a group of shows commemorating the ten-year anniversary of What It Is to Burn in 2012, Finch signed with Razor & Tie in 2014 and revealed that they were working on a new studio album. The album was titled Back to Oblivion and released on September 30, 2014.',\n",
       " 763: 'London is a city in and the county seat of Madison County, Ohio, United States. Located about 25 miles (40 km) southwest of the Ohio capital of Columbus, London was established in 1811 to serve as the county seat. The population was 9,904 at the 2010 census. The ZIP code is 43140.',\n",
       " 764: '\"Find My Baby\" is a song by American musician Moby, released as the ninth and final single from his 1999 studio album Play. It features samples from the song \"Joe Lee\\'s Rock\" by the Boy Blue band of Hughes, Arkansas.',\n",
       " 765: 'Auvers is a commune in the Manche department in the Basse-Normandie region in northwestern France.',\n",
       " 766: 'Saran District is one of the thirty-seven districts of Bihar state, India. The district, part of Saran Division, is also known as Chhapra district after the headquarters of the district - Chhapra. Hathwa Raj was a zamindar in the Saran Division of Bihar belonging to Bhumihar Brahmins, which encompassed 1,365 villages, was inhabited by more than 391,000 people, and produced an annual rental of almost a million rupees.',\n",
       " 767: \"Raymond is a town in the County of Warner No. 5, Alberta, Canada. It is located in southern Alberta south of Lethbridge on Highway 52. Raymond is known for its annual rodeo and its large Mormon population. The sole high school in the town, Raymond High School, is known for its sports achievements in basketball, Canadian football, and women's rugby union.[citation needed]\",\n",
       " 768: 'Digosville is a commune in the Manche department in north-western France.',\n",
       " 769: 'Smithton is a town on the far north-west coast of Tasmania, Australia. It lies on the Bass Highway, 85 km north-west of Burnie. At the 2011 census, Smithton had a population of 3,935. Smithton is the administrative centre of the Circular Head Council. Smithton has a rich sporting and social culture, and the region is noted for its natural beauty.',\n",
       " 770: 'Budiměřice is a village and municipality in Nymburk District in the Central Bohemian Region of the Czech Republic.',\n",
       " 771: '\"Finer Feelings\" is a song by Kylie Minogue. It was the final release from Let\\'s Get to It and was actually planned as the follow-up to \"Word Is Out\", but was held back after the release of \"If You Were with Me Now\". \" Finer Feelings\" finally appeared in April 1992, remixed by Brothers in Rhythm (whom Minogue would continue collaborating with throughout the \\'90s, and continued with Steve Anderson into the present), and narrowly missed out on the top ten, peaking at number eleven on the UK charts. In Australia, \"Finer Feelings\" became her lowest-charting single at that point, reaching number sixty on its debut in the ARIA top 100 singles chart for the week ending 5 July 1992. Other than a re-release of \"Better the Devil You Know\" in 1998, \"Finer Feelings\" remained Kylie\\'s only single to miss the top 50 in Australia until her 2010 single \"Get Outta My Way\", which peaked at number sixty-nine. \" Finer Feelings\" remains a fan favourite and Minogue has performed excerpts of the song during her KylieFever2002 and Showgirl Homecoming tours although it was not included on her recent hits compilation, Ultimate Kylie. It is worth noting that the B-side \"Closer\" is different from the song of the same title that would appear on her 2010 album Aphrodite. The song was re-recorded in 2011 and posted onto Kylie Minogue\\'s official YouTube channel on 25 January 2012. It is featured on The Abbey Road Sessions.',\n",
       " 772: 'Montenegro is a municipality of the state of Rio Grande do Sul, Brazil; 59.000 inhabitants. The town was established in 1847 to be settled primarily by German immigrants from the Hunsrück region of southwest Germany. The local language was Riograndenser Hunsrückisch for most of its history, and it is still spoken there after 150 years of the initial settlement. Today, however, Portuguese prevails, mostly as a result of the campaign of the \"Nacionalização\" (Nationalization) forcefully imposed on all German and Italian settled areas of southern Brazil by president and dictator Getúlio Vargas in the 1940s.',\n",
       " 773: 'Agon-Coutainville is a commune in the Manche department in the Basse-Normandie region in northwestern France.',\n",
       " 774: 'Crown Heights is a hamlet and census-designated place (CDP) in Dutchess County, New York, United States. The population was 2,840 at the 2010 census. It is part of the Poughkeepsie–Newburgh–Middletown, NY Metropolitan Statistical Area as well as the larger New York–Newark–Bridgeport, NY-NJ-CT-PA Combined Statistical Area. Crown Heights is in the town of Poughkeepsie.',\n",
       " 776: \"In the Battle of Cape Finisterre (22 July 1805) off Galicia, Spain, the British fleet under Admiral Robert Calder fought an indecisive naval battle against the combined Franco-Spanish fleet which was returning from the West Indies. Failing to prevent the joining of Villeneuve's fleet to the squadron of Ferrol and to strike the shattering blow that would have freed Great Britain from the danger of an invasion, Calder was later court-martialled and severely reprimanded for his failure and for avoiding the renewal of the engagement on 23 and 24 July. At the same time, in the aftermath Villeneuve elected not to continue on to Brest, where his fleet could have joined with other French ships to clear the English Channel for an invasion of Great Britain.\",\n",
       " 777: \"Hans Bernhardt (28 January 1906 – 29 November 1940) was a German cyclist. He won the bronze medal in the Men's tandem event at the 1928 Summer Olympics. Bernhardt, member of the Wehrmacht, was killed during World War II in the Netherlands.\",\n",
       " 778: 'Dr. Ferenc Finkey (30 January 1870 – 23 January 1949) was a Hungarian jurist, who served as Crown Prosecutor of Hungary from 1935 to 1940. He became an ordinary member of the Hungarian Academy of Sciences in 1929. He was elected to the House of Magnates in 1939. His work is lasting value in the area of substantive criminal law and criminal procedural law.',\n",
       " 779: 'Lesidren is a village in Ugarchin Municipality, Lovech Province, northern Bulgaria.',\n",
       " 780: 'Aumeville-Lestre is a commune in the Manche department in the Basse-Normandie region in northwestern France.',\n",
       " 781: 'Finley is an Italian rock band formed in Legnano in 2002. Pedro (vocal), Ka (guitar), Dani (drums) and Ivan (bass) have released five studio albums. They write, compose and sing their own lyrics and music which sound powerful with a strong, melodic impact. Finley has sold over 1,300,000 records in Italy and they have won many of awards, including two \"Best Italian Act\" at MTV Europe Music Awards: the first one in 2006 (Copenhagen) and the second one in 2008 (Liverpool) becoming, along with Subsonica, the most award-winning Italian band. The band took its name from NBA star Michael Finley.',\n",
       " 782: 'Budišov is a small town (městys) in Třebíč District in the Vysočina Region of the Czech Republic. The town covers an area of 13.30 square kilometres (5.14 sq mi), and has a population of 1,198 (as at 31 December 2007). Budišov lies approximately 11 kilometres (7 mi) north-east of Třebíč, 34 km (21 mi) south-east of Jihlava, and 146 km (91 mi) south-east of Prague.',\n",
       " 783: 'Carobbio degli Angeli is a comune (municipality) in the Province of Bergamo in the Italian region of Lombardy, located about 60 kilometres (37 mi) northeast of Milan and about 13 kilometres (8 mi) southeast of Bergamo. Carobbio degli Angeli borders the following municipalities: Bolgare, Chiuduno, Gandosso, Gorlago, Grumello del Monte, Trescore Balneario.',\n",
       " 785: \"For the pudding dish of the same name, see Pease pudding Pease Pottage is a small village in the Mid Sussex District of West Sussex, England. It lies on the southern edge of the Crawley built up area, in the civil parish of Slaugham. Pease Pottage is familiar to many drivers for its motorway service station, named after the village, which also serves as a local shop (Marks and Spencer Simply Food and W H Smith) for the residents of the village (a footpath was constructed to allow pedestrian access from the village). It is located at the junction of the M23 and the A23 on the London to Brighton road, where the A264 to Horsham joins. The village itself has a florist's shop, a pub, a car breaker's yard, playing fields, a golf driving range (currently closed) and course (also closed), some small industrial units and offices. The Church of the Ascension, a chapel of ease to St Mary's Church in Slaugham, opened in 1875 but is no longer in use. The Pease Pottage Radar is located around half a mile west of Pease Pottage, and is visible from much of the village. It is an Air Traffic Control Radar for NATS and takes advantage of a position 460 feet (140 m) above sea level, some 250 feet (76 m) above the nearby Gatwick Airport.\",\n",
       " 787: 'Les Cresnays is a commune in the Manche department in Normandy in north-western France.',\n",
       " 788: 'Jeziorany [jɛʑɔˈranɨ] (German: Seeburg) is a town in Olsztyn County, Warmian-Masurian Voivodeship, Poland, with 3,411 inhabitants (2004). it:Jeziorany',\n",
       " 789: 'The Finn was a sailing event on the Sailing at the 2008 Summer Olympics program in Qingdao International Sailing Centre. Eleven races (last one a medal race) were scheduled. Only nine races were completed including the medal race due to lack of wind. 26 sailors, on 26 boats, from 26 nations competed. Ten boats qualified for the medal race.',\n",
       " 791: 'Budiš is a village and municipality in Turčianske Teplice District in the Žilina Region of northern central Slovakia.',\n",
       " 792: 'Losser (About this sound pronunciation ) is a municipality and a town in the eastern Netherlands. It is at the eastern end of the A1 motorway.',\n",
       " 793: 'The Finnish cinema has a long history, with the first public screenings starting almost as early as modern motion picture technology was invented (the first screening in the world was in 1895, in Finland in 1896). It took over a decade before the first Finnish film was produced and screened in 1907. After these first steps of Finnish cinema, the progress was very slow. After 1907 there were two periods (1909–1911 and 1917–1918) when no Finnish films were produced. This was partly caused by the political situation, as Finland held a status as an autonomous part of Russia and was thus influenced by the worldwide political situation. In 1917 Finland became an independent country and in 1918 there was a civil war. After the political situation had settled and stabilized, Finnish society and its cultural life began to develop. This was very clear with cinematic arts. More films were produced and they became an important part of Finnish society. The culmination of this development came soon after the silent era, around the 1940s and 1950s, when three major studios were producing films and competing for the market. When society changed in the 1960s, partly because of political trends and partly because of new forms of entertainment, like television, the appeal of films was threatened, practically all studios were closed, and films became political and too artistic for the masses, as commercial production was considered a thing of the past and distasteful. Few filmmakers were opposed to this development, and kept producing popular films that were bashed by the critics but loved by the people. A revival in Finnish cinema came in the 1990s, which was partly influenced by the new generation of filmmakers bringing in new ideas, and partly because commercial success was no longer considered to be \"non-artistic,\" thus commercial film projects started to receive support from governmental funds. In the 2000s the Finnish cinema is alive and well, with some films and filmmakers gaining global success and many films receiving a good response from audiences and critics. Today, around 15–20 Finnish full-length feature films are produced every year, and the Finnish cinema is gaining new forms from global influence, such as action and wuxia.',\n",
       " 794: 'Budišov nad Budišovkou ([ˈbuɟɪʃov nad ˈbuɟɪʃofkou̯]) (German: Bautsch) is a town in Moravian-Silesian Region of the Czech Republic. It has about 3,200 inhabitants. Villages Staré Oldřůvky, Podlesí and Guntramovice are administrative parts of Budišov nad Budišovkou.',\n",
       " 795: 'Hallsberg is a bimunicipal locality and the seat of Hallsberg Municipality, Örebro County, Sweden with 7,122 inhabitants in 2010. It is also partly located in Kumla Municipality.',\n",
       " 796: 'Budki [ˈbutki] (German: Bottke) is a village in the administrative district of Gmina Główczyce, within Słupsk County, Pomeranian Voivodeship, in northern Poland. It lies approximately 12 kilometres (7 mi) east of Główczyce, 40 km (25 mi) north-east of Słupsk, and 77 km (48 mi) north-west of the regional capital Gdańsk. Before 1945 the area was part of Germany (Bottke). After World War II the region was placed under Polish administration and ethnically cleansed according to the post-war Potsdam Agreement. The native German populace was expelled and replaced with Poles. For the history of the region, see History of Pomerania.',\n",
       " 797: 'The Finnhorse or Finnish Horse (Finnish: Suomenhevonen, literally \"horse of Finland\"; nickname: Suokki, or Swedish: Finskt kallblod, literally \"finnish cold-blood\") is a horse breed with both riding horse and draught horse influences and characteristics, and is the only breed developed fully in Finland. In English it is sometimes called the Finnish Universal, as the Finns consider the breed capable of fulfilling all of Finland\\'s horse needs, including agricultural and forestry work, harness racing, and riding. In 2007, the breed was declared the official national horse breed of Finland. The Finnhorse is claimed to be among the fastest and most versatile \"coldblood\" breeds in the world. In Finland, the term \"universal horse\" is used to describe the Finnhorse and breeds such as the Fjord horse that are relatively small with a body type that is heavy for a riding horse but light for a draught. There are four separate sections within the Finnhorse stud book, each with different goals: to develop a heavier working horse, a lighter trotter type, a versatile riding horse, and a proportionally smaller pony-sized animal. The combined breed standard for all four sections defines the breed as a strong, versatile horse with pleasant disposition. The average height of the breed is 15.1 hands (61 inches, 155 cm), and the most typical colour is chestnut, often with white markings and a flaxen mane and tail. The exact origins of the early Finnish horse are currently not known. Because the Finnhorse breed and its progenitors were the only horses in Finland for centuries, the history of horses in Finland parallels the history of the Finnhorse itself. The documented history of the distinct breed begins at the turn of the 13th century. Outside influences by many light and warmblood breeds were recorded beginning in the 16th century, making the breed larger and more usable. An official Finnhorse studbook was founded in 1907, producing purebred animals in significant numbers for many years. Due to mechanisation of agriculture and the dismantling of Finnish horse cavalry in the later half of the 20th century, the Finnhorse population plummeted from a high of just over 400,000 animals in the 1950s to a low of 14,100 in 1987. However, the breed managed to survive thanks to its popularity for harness racing and its versatility as a mount.',\n",
       " 798: 'Ugartsthal, a village, German colony in the Kingdom of Galicia and Lodomeria in the administrative district of Kalush, today in Ivano-Frankivsk Province in Ukraine 7 km (4 mi) on the west from Kalush (district - court, railway station, office postal and telegraph). On the north lies Wierzchnia and Mościska, to the east Kalush, to the south Siwka, on the west - a village Kropiwnik (ukr. Kropyvnyk). Through the centre of village flows the Kropiwnik stream; through northern part flows Froniłów or Fornelów; left inflow of Kropiwnik Buildings of the village lie near the border of Siwka (Mt. 316 m.). The village creates one commune with Siwka. In 1880 there were 62 houses, 423 inhabitants in the commune, (43 Greek-Catholic, 3 Roman-Catholic, 365 Protestants, 12 Israelites; 14 Poles, 43 Rusins (Ruthenian, old name for the Ukrainians), 366 Germans). The Evangelical Parish in the place from 1784, the church from 1788 . To the parish belongs 3320 souls. Branches: Landestreu, Nowica, and Petranka. In the village there is a religious school and communal loan-society (Earning Cashier) with capital 535 złr. The Ugartsthal name of the village, and other similar localities (e.g. Ugartsberg) originate from the name of the contemporary Austrian margrave of Moravia, Alois Ugarte. The German settlements were established on the base of so-called Josephine colonization. The name of Ugartsthal was changed by Polish administration in the late 1930s to Tespowo. The village of Landestreu changed at the same time the name to Mazurówka. In the Samuel Bredetzky\\'s register in Ugartsthal there are found 63 families, (327 \"souls\" - persons). Pastorate embraced following localities: Ugartsthal, Landestreu, Kałusz, Neu-Dolina, Engelsberg, Horocholina, Wełdzirz, Stanisławów, Bohorodczany, Grabowiec, Sołotwina, Nowica, Petranka, Krasna.',\n",
       " 799: 'Carona is a comune (municipality) in the Province of Bergamo in the Italian region of Lombardy, located about 80 kilometres (50 mi) northeast of Milan and about 35 kilometres (22 mi) north of Bergamo. Carona borders the following municipalities: Branzi, Caiolo, Foppolo, Gandellino, Piateda, Valbondione, Valgoglio, Valleve.',\n",
       " 800: 'Priobye (Russian: Прио́бье) is an urban locality (an urban-type settlement) in Oktyabrsky District of Khanty-Mansi Autonomous Okrug, Russia. Population: 7,215\\u2009(2010 Census); 7,140\\u2009(2002 Census); 8,570\\u2009(1989 Census).',\n",
       " 801: 'La Baleine is a commune in the Manche department in the Basse-Normandie region in northwestern France.',\n",
       " 802: 'Budka Suflera was a Polish rock band which was started in 1969 in Lublin by Krzysztof Cugowski, and, after disbanding soon thereafter, resurrected by Cugowski and Romuald Lipko in 1974 and active until 2014. In addition to their 1997 hit song \"Takie tango\", they are perhaps best known for their rock ballads, such as \"Jolka Jolka\" and \"Za ostatni grosz\" that are often quoted as some of the best songs of Polish rock.',\n",
       " 803: 'Sompolno [sɔmˈpɔlnɔ] is a town in Konin County, Greater Poland Voivodeship, Poland, with 3,700 inhabitants (2004).',\n",
       " 804: 'Bastar District is a district of the state of Chhattisgarh in central India. Jagdalpur is the district headquarters. The district has an area of 10755.79 km². Bastar District is bounded on the northwest by Rajnandgaon District, on the north by Kondagaon District, on the east by Nabarangpur and Koraput districts of Odisha state, on the south and southwest by Dantewada District, and on the west by Gadchiroli District of Maharashtra state. It possesses a unique blend of tribal and odia culture.',\n",
       " 806: 'Finland competed at the 1932 Winter Olympics in Lake Placid, United States. Finland has competed at every Winter Olympic Games.',\n",
       " 807: 'Navojoa is the fifth-largest city in the northern Mexican state of Sonora and is situated in the southern part of the state. The city is the administrative seat of Navojoa Municipality, located in the Mayo River Valley.',\n",
       " 808: 'Beaucoudray is a commune in the Manche department in the Basse-Normandie region in northwestern France.',\n",
       " 810: 'Kokkari is a village on Samos Island, Greece, about 10 kilometers from the capital city, Vathy.',\n",
       " 811: 'A Budenovka (Russian: Будёновка, budyonovka; [bʊˈdʲɵnəfkə]) is a distinctive type of hat and an essential part of the Communist uniform of the Russian Civil War and later conflicts. Its official name was the \"broadcloth helmet\" (шлем суконный). Named after Semyon Budyonny, it was also known as the \"frunzenka\" after Mikhail Frunze. It is a soft, woolen hat that covers the ears and neck. The cap has a peak and folded earflaps that can be buttoned under the chin. The hat was created as part of a new uniform for the Russian army by Viktor Vasnetsov, a famous Russian painter, who was inspired by the Kiev Rus helmet. The original name was bogatyrka (богатырка) – the hat of a bogatyr – and was intended to inspire Russian troops by connecting them with the legendary heroes of Russian folklore. Bogatyrkas were meant to be a part of a new uniform, so they had already been produced during World War I, but hadn\\'t been officially adopted. Another version, quite popular in Russia, is that bogatyrkas were designed for a military parade as a part of a \"historical\" stylized uniform (which also included an overcoat with \"designer\" cross-pieces, which evoked those worn by the Streltsy in the 16th to 18th centuries, which also were used in the Red Army to a limited extent). Some Russian historians even speculate the parade in question was a supposed victory parade in Berlin. Some view the bogatyrkas as an evolution of the bashlyk conical hoods worn by the Russian military since the mid-19th century. During the Russian civil war, communist troops, who had no obligation to comply with the uniform standards of the Imperial Russian army, used bogatyrkas, as they were abundant and distinctive. Bogatyrkas were commonly decorated with red star pins as a distinguishing mark. Such decorations were often makeshift, but later were standardized, and a bigger star badge of broadcloth was sewn to the front of the hat, typically red but in some cases blue (for cavalry) or black (for artillery). This allowed the communists to use the image of \"Red bogatyrs fighting the old and corrupt Russian system, employing the original idea by Vasnetsov. At this time the hat was renamed the Budenovka after Semyon Budyonny, the commander of the First Cavalry Army, as the hat (with the blue star) was particularly popular with cavalry units. It was also called as the Frunzenka after Mikhail Frunze, one of Bolshevik army leaders. The initial model with the high tip was replaced with a more practical low-tip model in 1927. A summer version briefly existed, made from lighter cloth and lacking flaps. The hat was not part of the Red Army uniform for long, for both political and practical reasons. Although it was relatively easy to produce, it required expensive wool, did not provide good cold-weather protection and could not be worn under a helmet. Another reason was that it belonged to the revolutionary period of Russian history in which artistic and political expression had been under less rigorous control by the state. It was abandoned during the army reforms of the mid-1930s, and phasing-out started in 1935. Budenovkas were still in use during the Winter War of 1939, and the disastrous failure of Soviet equipment and gear led to the introduction of various improved winter uniforms. The Soviet army was to receive the garrison cap (called \"pilotka\") and the outdoor ushanka, the latter being based on the Finnish turkislakkis army fur caps. In the Red Army, Budenovka were mostly replaced by the start of the Great Patriotic War in 1941, but some of them were still used by Soviet partisans. Budenovka became part of history as Red Army cavalry men wearing budennovkas became an iconic cultural image from the Russian civil war, together with tachankas, the Nagant revolver or Mauser C96, Maxim gun and rebelling sailors with ammo belts slung over their chests. Stylized budyonovkas were popular children\\'s headgear until late Soviet times, and wool and felt budenovkas designs are still popular for use in the banya (sauna).',\n",
       " 812: 'Finland competed at the 1952 Winter Olympics in Oslo, Norway.',\n",
       " 813: 'Kosmas (Greek: Κοσμάς) is a mountain village and a former community in Arcadia, Peloponnese, Greece. Since the 2011 local government reform it is part of the municipality South Kynouria, of which it is a municipal unit. In 2001 its population was 591. Kosmas is situated in the southeastern part of the Parnon mountains, at about 1150 m elevation, on the road from Skala (Laconia) to Leonidio. It is 13 km southwest of Leonidio, 28 km east of Sparti, 28 km northeast of Skala, 35 km south of Argos and 57 km southeast of Tripoli. Kosmas has a school, a church and a library.',\n",
       " 814: \"Carvico is a comune (municipality) in the Province of Bergamo in the Italian region of Lombardy, located about 35 kilometres (22 miles) northeast of Milan and about 14 km (9 mi) west of Bergamo. As of 31 December 2004, it had a population of 4,355 and an area of 4.4 square kilometres (1.7 sq mi). Carvico borders the following municipalities: Calusco d'Adda, Pontida, Sotto il Monte Giovanni XXIII, Terno d'Isola, Villa d'Adda.\",\n",
       " 815: 'Finland competed at the 1960 Winter Olympics in Squaw Valley, United States.',\n",
       " 816: 'Finland competed at the 1964 Winter Olympics in Innsbruck, Austria.',\n",
       " 817: 'Finland competed at the 1968 Winter Olympics in Grenoble, France.',\n",
       " 819: 'Crosville-sur-Douve is a commune in the Manche department in Normandy in north-western France.',\n",
       " 820: 'Budleigh Salterton is a small town on the coast in East Devon, England, 15 miles south-east of Exeter. It is situated within the East Devon Area of Outstanding Natural Beauty. It is a major part of the electoral ward of Budleigh. The ward population at the 2011 census was 5,967.',\n",
       " 821: 'Tropaia (Greek: Τρόπαια) is a village and a former municipality in Arcadia, Peloponnese, Greece. Since the 2011 local government reform it is part of the municipality Gortynia, of which it is a municipal unit. Population 4,660 (2001).',\n",
       " 822: 'Finland competed at the 1980 Winter Olympics in Lake Placid, United States.',\n",
       " 823: 'Emmy Klieneberger-Nobel (25 February 1892 – 11 September 1985) was a German Jewish microbiologist. After having been expelled from Germany by the Nazis she moved to London, England.',\n",
       " 824: 'Budokan: The Martial Spirit is a computer and video game released by Electronic Arts in 1989 for various platforms. The title is a versus fighting game, pitting the player against other martial artists in a great tournament known as the Budokan at the Nippon Budokan in Tokyo.',\n",
       " 825: \"Stomio (Greek: Στόμιο , ['stomio]) is a village and a community of the Agia municipality. Before the 2011 local government reform it was the seat of the municipality of Evrymenes. The 2011 census recorded 553 inhabitants in the village. The community of Stomio covers an area of 37.985 km2.\",\n",
       " 826: 'Krokees (Greek: Κροκεές, before 1927: Λεβέτσοβο - Levetsovo) is a village and a former municipality in Laconia, Peloponnese, Greece. Since the 2011 local government reform it is part of the municipality Evrotas, of which it is a municipal unit. The population of Krokees was 1.320 in 2001.In Municipality of Krokees (before 2011) belong the villages :Krokees DafnioVasilakio Lagi',\n",
       " 827: 'Finland competed at the 1994 Winter Olympics in Lillehammer, Norway.',\n",
       " 828: 'Hambye is a commune in the Manche department in north-western France.',\n",
       " 830: 'Finland competed at the 1998 Winter Olympics in Nagano, Japan.',\n",
       " 831: 'Casazza (formerly Mologno) is a comune (municipality) in the Province of Bergamo in the Italian region of Lombardy, located about 70 kilometres (43 mi) northeast of Milan and about 20 kilometres (12 mi) northeast of Bergamo. As of 31 December 2004, it had a population of 3,649 and an area of 7.1 square kilometres (2.7 sq mi). Casazza borders the following municipalities: Albino, Gaverina Terme, Grone, Monasterolo del Castello, Spinone al Lago, Vigano San Martino.',\n",
       " 832: 'Budmerice (Hungarian: Gidrafa) is a village and municipality in western Slovakia in Pezinok District in the Bratislava region.',\n",
       " 833: 'Keratsini (Greek: Κερατσίνι) is a suburb in the western part of the Athens-Piraeus agglomeration, Greece. Since the 2011 local government reform it is part of the municipality Keratsini-Drapetsona, of which it is the seat and a municipal unit.',\n",
       " 834: 'Budowo [buˈdɔvɔ] (German: Budow; Kashubian: Bùdowò) is a village in the administrative district of Gmina Dębnica Kaszubska, within Słupsk County, Pomeranian Voivodeship, in northern Poland. It lies approximately 17 kilometres (11 mi) east of Dębnica Kaszubska, 29 km (18 mi) south-east of Słupsk, and 81 km (50 mi) west of the regional capital Gdańsk. Before 1945 the area was part of Germany. For the history of the region, see History of Pomerania. The village has a population of 829.',\n",
       " 837: 'Gertrud Grunow (8 July 1870 – 11 June 1944) was a German composer, associated with the Bauhaus design school where she taught courses on musical composition and theory. In late 1919 Grunow approached the Swiss painter and designer Johannes Itten, and proposed that she give lectures at the Bauhaus on harmony. Grunow remained a supporter of Itten during her time at the school. She began teaching at the school from the end of 1919. Employed initially as an assistant teacher, Grunow taught a course on \\'Harmonisation theory\\' at the Bauhaus from 1919 to 1923. Grunow was not universally popular among students at the Bauhaus, with one complaining of her methods that \"She was convinced that she could place us, the students, by means of music and a self-induced trance state into an inner equilibrium that would strengthen and harmonize our creative powers.\" Grunow also claimed that she could develop any faculty, even boxing. Born in Berlin, Grunow formulated theories of the relationships between sound, colour and movement, and held her first lectures on her theories in Berlin in 1919. After the Bauhaus she taught between 1926 to 1934 in Hamburg, and internationally, teaching for several months in England and Switzerland in the late 1930s. Grunow returned to Germany in the Second World War, and died in Leverkusen in 1944. Her personality has been described as \"extremely sensitive and sensitive to occultism\".',\n",
       " 838: 'Bailleul-aux-Cornailles is a commune in the Pas-de-Calais department in the Nord-Pas-de-Calais region of France.',\n",
       " 839: 'Raches (Greek: Ράχες) is a village and a former municipality on the island of Ikaria, North Aegean, Greece. Since the 2011 local government reform it is part of the municipality Ikaria, of which it is a municipal unit. With a population of 2,238 inhabitants (2001 census) and a land area of 101.768 km2, it is the largest in area, smallest in population, and therefore the least densely populated of the three municipal units on Icaria. The other two municipal units are Agios Kirykos and Evdilos.',\n",
       " 841: 'The Fino is a river in eastern central Italy. Its source is near Monte Camicia in the province of Teramo in the Abruzzo region of Italy. The river flows northeast and then curves east before flowing past Bisenti. It continues flowing eastward and crosses into the province of Pescara near Elice. The river flows southeast until it joins the Tavo river and the two rivers become the Saline river.',\n",
       " 842: 'Budry [ˈbudrɨ] (German: Buddern, Lithuanian: Budriai) is a village in Węgorzewo County, Warmian-Masurian Voivodeship, in northern Poland, close to the border with the Kaliningrad Oblast of Russia. It is the seat of the gmina (administrative district) called Gmina Budry. It lies approximately 10 kilometres (6 mi) north-east of Węgorzewo and 105 km (65 mi) north-east of the regional capital Olsztyn. Before 1945 the area was part of Germany (East Prussia). After World War II the region was placed under Polish administration and ethnically cleansed according to the post-war Potsdam Agreement. The native German populace was expelled and replaced with Poles. The village has a population of 420.',\n",
       " 843: 'Bilaspur district is a district of the Chhattisgarh state of India. Bilaspur city is the headquarters of the district. As of 2011 it is the second most populous district of Chhattisgarh (out of 18), after Raipur .',\n",
       " 845: 'Budućnost Podgorica is a sports society from Podgorica, Montenegro. Currently, multiple clubs in Montenegro of different sports share the name Budućnost. Their management is separate and each operate independently from each other. Among its most successful clubs are: Former clubs:',\n",
       " 846: 'Averdoingt is a commune in the Pas-de-Calais department in northern France.',\n",
       " 848: \"Casirate d'Adda is a comune (municipality) in the Province of Bergamo in the Italian region of Lombardy, located about 30 kilometres (19 mi) east of Milan and about 25 kilometres (16 mi) southwest of Bergamo.\",\n",
       " 849: \"Finsch's imperial pigeon (Ducula finschii) is a bird species in the family Columbidae. It is endemic to Papua New Guinea. Its natural habitats are subtropical or tropical moist lowland forests and subtropical or tropical moist montane forests. Formerly classified as a Species of least concern by the IUCN, it was suspected to be rarer than generally assumed. Following the evaluation of its population size, this was found to be correct, and it is consequently uplisted to near threatened status in 2008.\",\n",
       " 850: 'Limni (Greek: Λίμνη meaning \"lake\") is a town and a community in the northwestern part of the island of Euboea, Greece. It is located northwest of Chalkida and southeast of Istiaia. Limni is part of the municipal unit of Elymnioi, and it was the seat of the municipality Elymnioi. Limni had a population of 2,118 in 2001. It is built at the foot of a mountain slope, on a bay of the North Euboean Gulf. It has been suggested as the site of the ancient city of Elymnion.',\n",
       " 851: \"Batz-sur-Mer (Breton: Bourc'h-Baz) is a commune in the Loire-Atlantique department in western France. The town lies between the Bay of Biscay and its salt marshes and is a very Breton town of whitewashed granite houses.\",\n",
       " 852: 'Budvar Arena is an indoor sporting arena located in České Budějovice, Czech Republic. The arena was built in 1946 and the last renovation was in 2002. The capacity of the arena is 6,421 people.',\n",
       " 854: 'Thinali (Greek: Θινάλι) is a former municipality on the island of Corfu, Ionian Islands, Greece. Since the 2011 local government reform it is part of the municipality Corfu, of which it is a municipal unit. It is located in the northernmost part of the island of Corfu, in the middle of the north coast. It was the largest municipality on the island at 77.899 km². Its population was 5,512 at the 2001 census. The seat of the municipality was the town of Acharavi (pop. 657). Its largest other towns are Nymfes (pop. 756) and Epískepsi (486). It is located northwest of the city of Corfu. Last mayor of Thinali was Varelis Spiridon from village Lafki.',\n",
       " 855: \"The Finsch's francolin (Scleroptila finschi) is a species of bird in the Phasianidae family. It is found in Angola, Republic of the Congo, Democratic Republic of the Congo, parts of Cameroon, and Gabon. The common name and scientific name commemorate the German ethnographer, naturalist and colonial explorer Friedrich Hermann Otto Finsch (8 August 1839 - 31 January 1917, Braunschweig).\",\n",
       " 856: 'The Budweiser 400 was an annual summer NASCAR Winston Cup race held from 1970 to 1988 at Riverside International Raceway in Riverside, California, USA. A 400-mile race was also run at the track in November 1963. The race distance was 400 miles until 1976 when it was shortened to 249 miles (400 kilometers). The other race at Riverside, the Winston Western 500, was held in January from 1965 to 1981 and November from 1981 to 1987.',\n",
       " 857: 'Euthanasia (from Greek: εὐθανασία; \"good death\": εὖ, eu; \"well\" or \"good\" – θάνατος, thanatos; \"death\") is the practice of intentionally ending a life in order to relieve pain and suffering. There are different euthanasia laws in each country. The British House of Lords Select Committee on Medical Ethics defines euthanasia as \"a deliberate intervention undertaken with the express intention of ending a life, to relieve intractable suffering\". In the Netherlands and Flanders, euthanasia is understood as \"termination of life by a doctor at the request of a patient\". Euthanasia is categorized in different ways, which include voluntary, non-voluntary, or involuntary. Voluntary euthanasia is legal in some countries. Non-voluntary euthanasia (patient\\'s consent unavailable) is illegal in all countries. Involuntary euthanasia (without asking consent or against the patient\\'s will) is also illegal in all countries and is usually considered murder. As of 2006, euthanasia is the most active area of research in contemporary bioethics. In some countries there is a divisive public controversy over the moral, ethical, and legal issues of euthanasia. Those who are against euthanasia may argue for the sanctity of life, while proponents of euthanasia rights emphasize alleviating suffering, and preserving bodily integrity, self-determination, and personal autonomy. Jurisdictions where euthanasia is legal include the Netherlands, Canada, Colombia, Belgium, and Luxembourg.',\n",
       " 859: 'La Bernerie-en-Retz is a commune in the Loire-Atlantique department in western France.',\n",
       " 860: 'Okrzeszyn [ɔˈkʂɛʂɨn] (German: Albendorf) is a village in the administrative district of Gmina Lubawka, within Kamienna Góra County, Lower Silesian Voivodeship, in south-western Poland, near the border with the Czech Republic. It lies approximately 10 kilometres (6 mi) south of Lubawka, 23 kilometres (14 mi) south of Kamienna Góra, and 91 kilometres (57 mi) south-west of the regional capital Wrocław. Prior to 1945 it was in Germany. After World War II the region was placed under Polish administration and ethnically cleansed according to the post-war Potsdam Agreement. The native German populace was expelled and replaced with Poles. The village has a population of 278.',\n",
       " 861: 'The Budweiser Events Center is a 7,200-seat multi-purpose arena in Loveland, Colorado (USA). The Arena is located on The Ranch (Larimer County Fairgrounds and Events Complex) and is owned by Larimer County, Colorado and managed by Global Spectrum, L.P., and tickets are handled by ComcastTIX. It is home to the Colorado Eagles ice hockey team, the Colorado Crush indoor football team and the Colorado Lightning indoor soccer team. It contains 777 club seats and 24 luxury suites.',\n",
       " 862: 'Fintice (Hungarian: Finta) is a village and municipality in Prešov District in the Prešov Region of eastern Slovakia.',\n",
       " 863: 'The Budweiser NHL Man of the Year Award was sponsored by Anheuser-Busch to award an National Hockey League player based on his sportsmanship and involvement with charitable groups. Every NHL team nominates a player and the winner would be chosen by a panel of judges at the start of the Stanley Cup playoffs and receive $21,000 to donate to their charities. The award lasted from the 1987-88 season until the 1991-92 season. Six years later, the NHL established the NHL Foundation Player Award, which serves a similar function.',\n",
       " 864: 'Oldenzaal ([ˈɔldə(n)ˌzaːl]) is a municipality and a city in the eastern province of Overijssel in the Netherlands. It is part of the region of Twente and is close to the German border. It received city rights in 1249. Historically, the city was part of the Hanseatic League as a subsidiary city of the fellow Hanseatic city of Deventer. Located on the A1 motorway from Amsterdam to Germany, Oldenzaal also has a rail connection to Hengelo.',\n",
       " 865: 'Teplá (German: Tepl, formerly Töpel) is a town in the western Czech Republic.',\n",
       " 866: 'Alexander Finta (1881–1958) was a Hungarian-born American artist. Finta received his early education in Europe before moving onto Columbia University. He settled in Los Angeles, California in 1939 and proceeded to mainly create marble and bronze busts. He worked for 20th Century Fox until his death in 1958.',\n",
       " 867: \"Tootsi is a borough (Estonian: alev) in southwestern Estonia. Administratively it constitutes Tootsi Parish (Tootsi vald) — a rural municipality within Pärnu County. It has the population of 951 (as of 1 January 2009) and an area of 1.76 km². Tootsi station on the Edelaraudtee's western route is located in the neighbouring Elbi village.\",\n",
       " 868: \"Casnigo is a comune (municipality) in the Province of Bergamo in the Italian region of Lombardy, located about 70 kilometres (43 mi) northeast of Milan and about 20 kilometres (12 mi) northeast of Bergamo. As of 31 December 2004, it had a population of 3,346 and an area of 49.5 square kilometres (19.1 sq mi). The municipality of Casnigo contains the frazioni (subdivisions, mainly villages and hamlets) Serio, Colle Bondo, Barbata, Grumello, and Case Sparse (partially; the other part lies in Colzate). Casnigo borders the following municipalities: Gandino, Cazzano Sant'Andrea, Vertova, Colzate, Ponte Nossa, Cene, Gorno, Fiorano al Serio.\",\n",
       " 869: 'Ylikiiminki (Swedish: Överkiminge) is a former municipality of Finland. It was consolidated with the city of Oulu on 1 January 2009. It was located in the province of Oulu and is part of the Northern Ostrobothnia region. The municipality had a population of 3,512 (31 December 2008) and covered a land area of 1,040.66 km2 (401.80 sq mi). The population density was 3.37 inhabitants per square kilometre (8.7/sq mi). The municipality was unilingually Finnish. Neighbour municipalities were Haukipudas, Kiiminki, Muhos, Oulu, Pudasjärvi, Utajärvi and Yli-Ii. Oulujoki municipality that was closed in 1965 was also neighbour municipality.',\n",
       " 870: 'Aix-en-Issart is a commune in the Pas-de-Calais department in northern France. A place named in Ascio is mentioned as early as 800 AD while during the Middle Ages the place used to be called Rodenaken by Flemish speaking people.',\n",
       " 872: 'Finčevec is a village in Croatia. It is connected by the D22 highway.',\n",
       " 873: 'Kornice (German: Kornitz) is a small village, administratively a part of the town of Litomyšl in the Czech Republic. It is located on the Hlavňov hill (383 metres above sea level). There live about 150 inhabitants.',\n",
       " 874: 'Cassiglio is a comune (municipality) in the Province of Bergamo in the Italian region of Lombardy, located about 70 kilometres (43 mi) northeast of Milan and about 30 kilometres (19 mi) north of Bergamo. As of 31 December 2004, it had a population of 107 and an area of 14.1 square kilometres (5.4 sq mi). Cassiglio borders the following municipalities: Camerata Cornello, Cusio, Olmo al Brembo, Ornica, Piazza Brembana, Santa Brigida, Taleggio, Valtorta, Vedeseta.',\n",
       " 876: 'Kfar Szold (Hebrew: כְּפַר סָאלְד, lit. Szold Village) is a kibbutz in the Hula Valley in the Upper Galilee area of Israel.',\n",
       " 879: 'The Calumet Fire Station is a firehouse located on 6th Street in Calumet, Michigan. It is also known as the Red Jacket Fire Station. The building was designated a Michigan State Historic Site in 1971 and listed on the National Register of Historic Places in 1974, and is part of the Calumet Historic District and the Keweenaw National Historical Park. The building now houses the Upper Peninsula Fire Fighters Memorial Museum.',\n",
       " 880: 'Přívoz (German: Prziwos, briefly till 1920 and 1939-1945 also Oderfurt) is a part of the city of Ostrava, Moravian-Silesian Region in the Czech Republic. It lies in the Moravian part of the city, in the administrative district of Moravská Ostrava a Přívoz. It lies in the historical region of Moravia and was first mentioned in a written document in 1377 as Prsiewoz. Heavy industrialization that occurred in Ostrava in the second half of the 19th century also affected Přívoz. Railroad line was built there, coke-processing plant was constructed in 1909 together with a power plant. Industrialization had impact also on demographics, influx of migrant workers occurred. Přívoz was formerly an independent municipality, in 1900 it gained town rights, in 1924 it became a part of Ostrava. The most important landmark in Přívoz is Immaculate Conception of Virgin Mary Church. Polish writer Wiesław Adam Berger was born here.',\n",
       " 881: 'Budziszów [buˈd͡ʑiʂuf] is a village in the administrative district of Gmina Kobierzyce, within Wrocław County, Lower Silesian Voivodeship, in south-western Poland. Prior to 1945 it was in Germany. It lies approximately 25 kilometres (16 mi) south of the regional capital Wrocław.',\n",
       " 882: 'Světlá nad Sázavou ([ˈsvjɛtlaː ˈnat saːzavou̯]; German: Swietla ob der Sasau) is a town in the Vysočina Region, Czech Republic. The Sázava River flows through the town.',\n",
       " 883: 'Bijapur district (Hindi: बीजापुर जिला) is one of the 27 districts of Chhattisgarh state in central India. It is one of the two new districts created on May 11, 2007. As of 2011 it is the second least populous district of Chhattisgarh (out of 18), after Narayanpur. Moreover, it holds the dubious distinction of being the second least literate district in India at 41.58%, as per the 2011 census, after Alirajpur, Madhya Pradesh',\n",
       " 884: 'Tom Price, situated in the Pilbara region of Western Australia, is a mining town. The town is located inland, at the edge of the Hamersley Range. Tom Price is the highest town above sea level (747 metres (2,451 ft)) in Western Australia, and is consequently dubbed \"Top Town in WA\".',\n",
       " 886: 'Budweiser Budvar Brewery (Budějovický Budvar) ([ˈbuɟɛjovit͡skiː ˈbudvar]) is a brewery in the city of České Budějovice (German: Budweis), Czech Republic, that is best known for brewing a beer known as Budweiser Budvar. In the United States, Canada, Mexico, Panama, Brazil and Peru, the beer is marketed as Czechvar. Budweiser Budvar is one of the highest selling beers in the Czech Republic and exports into more than 60 countries across all continents. On the German market, it is the second best selling brand among imported lagers, first among imported beers in the Austrian market and in Great Britain the best selling Czech lager.',\n",
       " 888: \"Faro is a town in the central Yukon, Canada, formerly the home of the largest open pit lead–zinc mine in the world as well as a significant producer of silver and other natural resource ventures. The mine was built by the Ralph M. Parsons Construction Company of the USA with General Enterprises Ltd. of Whitehorse being the main subcontractor. Currently (June 2007) the population is 400, considerably lower than its peak of over 2,100 in February 1982. Faro was named after the card game.[citation needed] As these industries have declined over the past decade, Faro is attempting to attract eco-tourists to the region to view such animals as Dall's Sheep and Stone's Sheep—a species of mountain sheep almost unique to the surrounding area. Several viewing platforms have been constructed in and around the town. One unique feature of Faro is that it has a golf course running through the main part of town. Residents are also treated to frequent sightings of wildlife. Lorne Greene, famous for his work in Bonanza, once narrated a film about Faro called A New World in the Yukon.\",\n",
       " 889: 'Budyně nad Ohří (German: Budin an der Eger) is a town in the Czech Republic.',\n",
       " 890: 'Hantumeruitburen (West Frisian: Hantumerútbuorren) is a small village in Dongeradeel in the province of Friesland, the Netherlands. It had a population of around 70 in 2004.',\n",
       " 891: \"Castel Rozzone is a comune (municipality) in the Province of Bergamo in the Italian region of Lombardy, located about 40 kilometres (25 mi) east of Milan and about 15 kilometres (9 mi) south of Bergamo. As of 31 December 2004, it had a population of 2,705 and an area of 1.7 square kilometres (0.66 sq mi). Castel Rozzone borders the following municipalities: Arcene, Brignano Gera d'Adda, Lurano, Treviglio.\",\n",
       " 892: 'Public Image: First Issue is the debut studio album by English rock band Public Image Ltd, released in 1978 by record label Virgin. It is considered a pioneering record in the development of post-punk.',\n",
       " 893: 'Mátyás Firtl (born 30 October 1949) is a Hungarian engineer and politician, who was elected member of the National Assembly (MP) for Sopron (Győr-Moson-Sopron County Constituency VII then IV) during a by-election in 2005.',\n",
       " 894: \"Lightning Ridge is a town in north-western New South Wales, Australia, in Walgett Shire, near the southern border of Queensland, about six kilometres east of the Castlereagh Highway, and is served in commercial activities by the town of Walgett, some 75 km to the south. Lightning Ridge is a flourishing tourist town with numerous caravan (camper-trailer) and camping parks, the previously very rustic Diggers' Rest pub (which has burned down for the third time[citation needed]) and a well-appointed bowling club with its eight artificial-grass bowling greens. Temperatures in summer can reach into the high 40s Celsius, but below ground the temperature remains continually at around 22 degrees, year round[citation needed]. The Lightning Ridge area is a world-renowned centre of the mining of black opals and other opal gemstones. Lightning Ridge has the largest known deposits of black opals in the world[citation needed]. The name Lightning Ridge is said to have originated when in the 1870s some passers by found the bodies of a farmer, his dog and 200 sheep which had been struck by lightning.\",\n",
       " 895: 'Leerbroek is a village in the Dutch province of South Holland. It is a part of the municipality of Zederik, and lies about 9 km (6 mi) northeast of Gorinchem. In 2004, the village of Leerbroek had 1560 inhabitants. The built-up area of the village was 0.096 km2 (0 sq mi), and contained 197 residences. The statistical area \"Leerbroek\", which also can include the surrounding countryside, has a population of around 980. Leerbroek was a separate municipality between 1817, when it was separated from Meerkerk, and 1986, when it merged with Zederik.',\n",
       " 896: 'Orkney /ˈɔːrkni/ (Scottish Gaelic: Arcaibh), also known as the Orkney Islands, is an archipelago in the Northern Isles of Scotland, United Kingdom. Situated off the north coast of Great Britain, Orkney is 16 kilometres (10 mi) north of the coast of Caithness and comprises approximately 70 islands, of which 20 are inhabited. The largest island, Mainland, often referred to as \"the Mainland\", has an area of 523.25 square kilometres (202 sq mi), making it the sixth-largest Scottish island and the tenth-largest island in the British Isles. The largest settlement and administrative centre is Kirkwall. The name \"Orkney\" dates back to the 1st century BC or earlier, and the islands have been inhabited for at least 8,500 years. Originally occupied by Mesolithic and Neolithic tribes and then by the Picts, Orkney was invaded and forcibly annexed by Norway in 875 and settled by the Norse. The Scottish Parliament then re-annexed the earldom to the Scottish Crown in 1472, following the failed payment of a dowry for James III\\'s bride, Margaret of Denmark. Orkney contains some of the oldest and best-preserved Neolithic sites in Europe, and the \"Heart of Neolithic Orkney\" is a designated UNESCO World Heritage Site. Orkney is one of the 32 council areas of Scotland, a constituency of the Scottish Parliament, a lieutenancy area, and a former county. The local council is Orkney Islands Council, one of only three Councils in Scotland with a majority of elected members who are independents. In addition to the Mainland, most of the islands are in two groups, the North and South Isles, all of which have an underlying geological base of Old Red Sandstone. The climate is mild and the soils are extremely fertile, most of the land being farmed. Agriculture is the most important sector of the economy. The significant wind and marine energy resources are of growing importance, and the island generates more than its total yearly electricity demand using renewables. The local people are known as Orcadians and have a distinctive Scots dialect and a rich inheritance of folklore. There is an abundance of marine and avian wildlife.',\n",
       " 897: \"The College Club House and Gymnasium is an educational building located at 1416 College Avenue on the campus of Michigan Technological University in Houghton, Michigan. It is also known as R.O.T.C. Building. The building is the oldest existing building on Michigan Tech's campus, and it was placed on the National Register of Historic Places in 1980.\",\n",
       " 899: 'The Battle of the Fischa or Battle of the Leitha took place on 11 September 1146 near the Fischa River at the border of the Kingdom of Hungary and the March of Austria, which belonged to the overlordship of the Dukes of Bavaria and it was ruled by margraves of the Franconian Babenberg dynasty. The opponents were a Bavarian army led by duke Henry XI and the Hungarian army under the leadership of king Géza II and his uncle and palatine Beloš Vukanović, who formerly served as regent and tutor for the underage Géza II. The battle was a victory for the Hungarian army, which defeated a great knight army during an open battle at first.',\n",
       " 900: \"First Rays of the New Rising Sun is a compilation album by American rock musician Jimi Hendrix, released in 1997 by MCA Records. It featured songs Hendrix had recorded for an unfinished double album before his death in 1970. Most of them were first released on the posthumous 1971 albums The Cry of Love and Rainbow Bridge, along with subsequent compilations in edited form, before they were compiled by audio engineer Eddie Kramer in 1997. Kramer selected and sequenced the songs in their original form to realize Hendrix's planned album to the best of his abilities, based on the latter's notes and the level of each track's completion.\",\n",
       " 901: 'Cherry Township is a township in Saint Louis County, Minnesota, United States. The population was 860 at the 2010 census. State Highway 37 (MN 37) serves as a main route in the township. Other routes include Saint Louis County Roads 25 and 92. The unincorporated community of Cherry is located within Cherry Township.',\n",
       " 902: \"Castelli Calepio is a comune (municipality) in the Province of Bergamo in the Italian region of Lombardy, located about 60 kilometres (37 mi) northeast of Milan and about 20 kilometres (12 mi) southeast of Bergamo. The municipal seat is in the frazione of Tagliuno. Castelli Calepio borders the following municipalities: Capriolo, Credaro, Gandosso, Grumello del Monte, Palazzolo sull'Oglio.\",\n",
       " 903: 'Senneville is an affluent on-island suburban village on the western tip of the Island of Montreal. It is the wealthiest town in the West Island. Situated close to the city of Montreal, it was historically a popular location for the summer homes of wealthy Montrealers. Attractions include multiple golf clubs, a yacht club, and La Ferme du Fort Senneville, an organic demonstration farm. The Morgan Arboretum was founded here in 1953, and is today managed by Macdonald College; an important bird sanctuary, it is open to the public year-round. Fort Senneville was constructed here in 1671, but its ruins are on private land and are not accessible to the public. The historic core of the village was designated a National Historic Site of Canada in 2002. On January 1, 2002, as part of the 2002–2006 municipal reorganization of Montreal, Senneville was merged into the city of Montreal and became part of the borough of Pierrefonds-Senneville. However, after a change of government and a 2004 referendum, it was re-constituted as an independent municipality on January 1, 2006.',\n",
       " 905: 'Wappinger is a town in Dutchess County, New York, United States. It is in the Hudson Valley region, 70 miles (110 km) north of New York City, on the eastern bank of the Hudson River. The population was 27,048 at the 2010 census. The name is derived from the Wappinger Indians who inhabited the area.',\n",
       " 906: 'Marigny is a commune in the Manche department in Normandy in north-western France.',\n",
       " 907: 'Buell Kazee (August 29, 1900 - August 31, 1976) was an American country and folk singer. He is considered one of the most successful folk musicians of the 1920s and experienced a career comeback during the American folk music revival of the 1960s due in part to his inclusion on the Anthology of American Folk Music.',\n",
       " 908: 'Budča is a village and municipality of the Zvolen District in the Banská Bystrica Region of Slovakia.',\n",
       " 909: 'Beauvoir ([bovwaʁ]) is a commune in the Manche department in the Basse-Normandie region in northwestern France.',\n",
       " 910: \"Fischer's turaco (Tauraco fischeri) is a species of bird in the Musophagidae family. It is found in Kenya, Somalia, and Tanzania. Its natural habitats are subtropical or tropical moist lowland forests, subtropical or tropical moist montane forests, and arable land. It is threatened by habitat loss. The common name and scientific name commemorate the German explorer Gustav Fischer.\",\n",
       " 911: 'Celebration is a census-designated place (CDP) and a master-planned community in Osceola County, Florida, United States, located near Walt Disney World Resort and originally developed by The Walt Disney Company. As part of the Orlando–Kissimmee Metropolitan Statistical Area, Celebration\\'s population was 7,427 at the 2010 census. Subsequent to founding Celebration, Disney followed its plans to divest most of its control of the town. Several Disney business units continue to occupy the town\\'s office buildings, and two utility companies, Smart City Telecom and Reedy Creek Energy Services, both operated from Walt Disney World, provide services to the town. The town itself remains directly connected to the Walt Disney World resorts via one of its primary streets, World Drive, which begins near the Magic Kingdom. Downtown Celebration\\'s post office was designed by Michael Graves, the adjacent Welcome Center is by Philip Johnson and the Celebration Health building by Robert A. M. Stern. Other nearby buildings are designed by well known architects including: Charles Moore (Preview Center), Graham Gund (Bohemian Hotel), Cesar Pelli (movie theatre), Robert Venturi and Denise Scott Brown (SunTrust Bank). Response to Celebration has ranged from an early visitor who said it resembled the too-perfect town of \"The Stepford Wives,\" to those who see Celebration as an example of unabashed neo-urbanism.',\n",
       " 912: 'Olst-Wijhe (About this sound pronunciation ) is a municipality in the province of Overijssel, eastern Netherlands. It borders the Overijssel municipalities of Zwolle to the north, Raalte to the north and east and Deventer to the south; and the Gelderland municipalities of Voorst, Epe and Heerde to the west.',\n",
       " 913: 'Castione della Presolana is a comune (municipality) in the Province of Bergamo in the Italian region of Lombardy, located about 80 kilometres (50 mi) northeast of Milan and about 35 kilometres (22 mi) northeast of Bergamo. As of 31 December 2004, it had a population of 3,379 and an area of 42.6 square kilometres (16.4 sq mi). Castione della Presolana borders the following municipalities: Angolo Terme, Colere, Fino del Monte, Onore, Rogno, Rovetta, Songavazzo.',\n",
       " 914: 'Union is a city in and the county seat of Franklin County, Missouri, United States. It is located on the Bourbeuse River just 50 miles (80 km) southwest of St. Louis. The population was 10,204 at the 2010 census, with the city showing the highest growth rate (32%) in Franklin County the last decade.',\n",
       " 915: 'Lajos Fischer (1902 – 1978) was a Hungarian footballer who played for VAC and Hakoah Vienna, and made appearances for the Hungarian national team. Fischer played as a goalkeeper for American Soccer League sides Brooklyn Wanderers and Hakoah All-Stars.',\n",
       " 916: 'Marshal of the Sejm also known as Sejm Marshal, Chairman of the Sejm or Speaker of the Sejm (Polish: Marszałek Sejmu, [marˈʂawɛk ˈsɛjmu]) is the speaker (chair) of the Sejm, the lower house of the Polish parliament. The office traces its origins to the 15th century. In modern Poland, the full title is Marshal of the Sejm of the Republic of Poland (Marszałek Sejmu Rzeczypospolitej Polskiej).',\n",
       " 917: \"West Fargo is a city in Cass County, North Dakota, United States. It is, as of the 2014 Census Estimates, the fifth largest city in the state of North Dakota with a population estimated at 31,771, and it is one of the state's fastest growing cities. West Fargo was founded in 1926. The city is part of the Fargo-Moorhead, ND-MN Metropolitan Statistical Area.\",\n",
       " 918: \"Buell Neidlinger (born March 2, 1936) is an American cellist and double bassist. Neidlinger was born in Westport, Connecticut. After attending Yale University, he moved to New York City and began playing in various jazz settings. He joined Cecil Taylor's group in 1955, played with Herbie Nichols and recorded extensively with Taylor's groups with Steve Lacy and with Archie Shepp among others until 1961. He was also involved with new directions in classical music (John Cage, Mauricio Kagel, George Crumb) and Gunther Schuller' s Third Stream music. He has worked extensively as an orchestral and as a session bassist before becoming a musical educator at the New England Conservatory and CalArts. Together with Marty Krystall he founded K2B2 Records. In 1983, he performed on the Antilles Records release Swingrass '83.\",\n",
       " 919: 'Béhagnies is a commune in the Pas-de-Calais department in the Nord-Pas-de-Calais region in northern France.',\n",
       " 920: 'Medicine Lodge is the most populous city in and the county seat of Barber County, Kansas, United States. As of the 2010 census, the city population was 2,009.',\n",
       " 921: 'Buelles is one of eight parishes (administrative divisions) in Peñamellera Baja, a municipality within the province and autonomous community of Asturias, in northern Spain. The population is 110 (INE 2011).',\n",
       " 922: 'Holland is a city in the western region of the Lower Peninsula of the U.S. state of Michigan. It is situated near the eastern shore of Lake Michigan on Lake Macatawa, which is fed by the Macatawa River (formerly known locally as the Black River). The city spans the Ottawa/Allegan county line, with 9.08 square miles (23.52 km2) in Ottawa and the remaining 8.13 square miles (21.06 km2) in Allegan. As of the 2010 census, the population was 33,051, with an Urbanized Area population of 95,394. Holland is the largest city in Ottawa County, and as of 2013 part of the Grand Rapids-Wyoming-Muskegon Metropolitan Statistical Area. Holland was founded by Dutch Americans, and is in an area that has a large percentage of citizens of Dutch American heritage. It is home to Hope College and Western Theological Seminary, institutions of the Reformed Church in America.',\n",
       " 923: 'Fisher is a suburb of Canberra, Australian Capital Territory, Australia located in the district of Weston Creek. Fisher was named after Andrew Fisher (1862–1928), coal miner, founding member of the federal parliamentary Labor Party and Prime Minister of Australia for three terms between 1908 and 1915 (ACTLIC, 2004). The theme for the street names in Fisher is Australian mines and mining towns (ACTPLA, 2003).',\n",
       " 924: 'Bourthes is a commune in the Pas-de-Calais department in the Nord-Pas-de-Calais region in northern France.',\n",
       " 925: 'The Buell Motorcycle Company was an American motorcycle manufacturer based in East Troy, Wisconsin, and was founded in 1983 by ex-Harley-Davidson engineer Erik Buell. Harley-Davidson acquired 49% of Buell in 1993, and Buell became a wholly owned subsidiary of Harley-Davidson by 2003. On November 17, 2006, Buell announced that it had produced and shipped its 100,000th motorcycle. On October 15, 2009, Harley-Davidson announced the discontinuation of the Buell product line as part of its strategy to focus on the Harley-Davidson brand. The last Buell motorcycle was produced on October 30, 2015, bringing the number manufactured to 136,923. In November 2009, Erik Buell announced the launch of Erik Buell Racing, an independent company run by Erik Buell which initially produced race-only versions of the 1125R model, then subsequently offered an updated 1190RS model for the street or the track, and is currently producing a further improved 1190RX model which is also intended for street and/or track use.',\n",
       " 926: 'Lilli Camille Schweiger (born July 17, 1998) is a German child actress. She is best known for her performance in the 2007 film Keinohrhasen and its 2009 sequel Zweiohrküken, directed by her father Til Schweiger.',\n",
       " 927: \"The Town of Granby is a Statutory Town which is the most populous municipality in Grand County, Colorado, United States. Granby is situated along U.S. Highway 40 in Middle Park about 85 miles (137 km) west of Denver, Colorado, southwest of Rocky Mountain National Park. In 2010, the town had a total population of 1,864. The town was founded in 1904 along the route of the Denver, Northwestern & Pacific Railway, and incorporated one year later. It was named after Granby Hillyer, a Denver lawyer who later served as the United States Attorney for that city's district.\",\n",
       " 928: \"Novaya Chara (Russian: Новая Чара) is an urban locality (an urban-type settlement) in Kalarsky District of Zabaykalsky Krai, Russia, located in the basin of the Chara River, in the eastern parts of Stanovoy Range, approximately 600 kilometers (370 mi) in a straight line northeast of the krai's administrative center of Chita, and 16 kilometers (9.9 mi) from the district's administrative center of Chara. Population: 4,315\\u2009(2010 Census); 4,693\\u2009(2002 Census); 8,787\\u2009(1989 Census).\",\n",
       " 929: 'Donville-les-Bains is a commune in the Manche department in north-western France.',\n",
       " 930: 'Buena Vista is a small town in the Bolivian lowlands in the Santa Cruz Department. The town was founded in November 26th 1964 as the Jesuit Mission of the betrothal Saints of Joseph and Maria.',\n",
       " 931: 'Fist of Legend is a 1994 Hong Kong martial arts film directed by Gordon Chan, and features action choreography by Yuen Woo-ping, and produced by Jet Li, who also starred in the lead role. The film was released on 22 December 1994. It is a remake of the 1972\\'s Fist of Fury, which starred Bruce Lee as the lead character. The film is set in the Shanghai International Settlement in 1937 during the Second Sino-Japanese War as the city is occupied by Japanese forces. It currently holds a 100% \"Certified Fresh\" rating on Rotten Tomatoes, based on 11 critics\\' reviews.',\n",
       " 932: \"Adelbert Mühlschlegel (June 16, 1897 – July 29, 1980) was a prominent German Bahá'í from a Protestant family. He became a Bahá'í in 1920, translated Bahá'í literature and served as a member of the National Spiritual Assembly of Germany. He was appointed a Hand of the Cause by Shoghi Effendi in February 1952, after which he travelled to visit the Bahá'ís in many countries. He died in Athens, Greece.\",\n",
       " 933: 'László Fitos (born 27 February 1987 in Budapest) is a Hungarian football player who plays for Gyirmót SE.',\n",
       " 934: 'Sievi is a municipality of Finland. It is located in the province of Oulu and is part of the Northern Ostrobothnia region. The municipality has a population of 5,179(30 June 2015) and covers an area of 800.88 square kilometres (309.22 sq mi) ofwhich 13.55 km2 (5.23 sq mi)is water. The population density is6.58 inhabitants per square kilometre (17.0/sq mi). The municipality is unilingually Finnish.',\n",
       " 935: 'Mänttä is a former town and municipality of Finland. It was merged with the municipality of Vilppula to form Mänttä-Vilppula on 1 January 2009. The place name Mänttä comes from an old house which Tuomas Niilonpoika Mäntsä (1570–1618) founded in Keuruskoski in the wilderness of Sääksmäki. It was located in the province of Western Finland and was part of the Pirkanmaa region. The municipality had a population of 6341 in 2008 and covered an area of 85.84 square kilometres (33.14 sq mi) of which 21.61 square kilometres (8.34 sq mi) was water. The population density was 100.0 inhabitants per km². The municipality was unilingually Finnish.',\n",
       " 936: 'Fisterra is a comarca in the Galician Province of A Coruña. The overall population of this local region is 24,466 (2005).',\n",
       " 937: 'Buena Vista Township may refer to the following places in the United States:',\n",
       " 938: 'Tenala (Finnish: Tenhola) is a former municipality in Uusimaa, Finland. It was neighboured by Hanko, Kisko, Perniö, Pohja, Särkisalo and Ekenäs. The municipality was established in 1329. The stone church of Tenala was built in late 15th century and the paintings on the piers are from the 17th century. The bell tower of the church was renovated in 1762. In 1988, Tenala had 2991 inhabitants living in an area of 443.6 km2 and 86.96% of the inhabitants spoke Swedish as their native language. In 1993, the municipality consolidated with Ekenäs. In 2009, Tenala became a part of the newly established city of Raseborg.',\n",
       " 939: 'Airel is a commune in the Manche department in the Basse-Normandie region in northwestern France.',\n",
       " 940: \"Buena (pronounced /bjuːnə/ BYOO-nə) is a borough in Atlantic County, New Jersey, United States. As of the 2010 United States Census, the borough's population was 4,603, reflecting an increase of 730 (+18.8%) from the 3,873 counted in the 2000 Census, which had in turn declined by 568 (-12.8%) from the 4,441 counted in the 1990 Census.\",\n",
       " 941: 'Vierumäki is a village (Finnish: kylä) located in the Finnish municipality Heinola in the region Päijänne Tavastia, Province of Southern Finland. Inhibitants about 900-1000. Neighbouring villages are Vuolenkoski in Iitti, Myllyoja in Heinola, Mäkelä in Nastola and Urajärvi in Asikkala. Vierumäki is known for hosting international ice hall sports events.',\n",
       " 942: \"Moondram Pirai (English: The crescent seen on the third day following new moon day) is a 1982 Indian Tamil romantic drama film written, directed and filmed by Balu Mahendra. The film features Kamal Haasan and Sridevi in the lead roles, while Silk Smitha, Poornam Vishwanathan and Y. G. Mahendra play supporting roles. The music for the film was composed by Ilaiyaraaja, with lyrics written by Kannadasan, Vairamuthu and Gangai Amaran. This was the last film that Kannadasan worked on before his death in 1981; he died when the film was under production. Moondram Pirai is about a school teacher, R. Srinivas, who rescues a woman, Bhagyalakshmi, who is suffering from retrograde amnesia, from a brothel, and protects her in his house located in Ketti. The rest of the film shows how Bhagyalakshmi recovers her memory with Srinivas' help. Moondram Pirai is based on Balu Mahendra's brief relationship with actress Shoba, who died in 1980, shortly after their marriage. It was shot in Ketti, a small town situated close to Ooty, with further shooting also taking place in Bangalore. A total of 30 days was taken to complete the filming, using 36,000 feet of film negative. The final length of the film was 3,918 metres (12,854 ft). Moondram Pirai was released on 19 February 1982 to positive critical reception. It was a box office success and had a theatrical run of 379 days at the Sathyam Theatre, and 200 days in other multiplexes. Haasan won the National Film Award for Best Actor for his role, while Mahendra won the National Film Award for Best Cinematography. The film also won the Best Director Award for Mahendra at the Filmfare Awards, and also won five Tamil Nadu State Film Awards, including Best Film (third prize), Best Actor (Haasan) and Best Actress (Sridevi). The film was dubbed in Telugu under the title Vasantha Kokila and was released on the same day as the original version. The film was remade the following year in Hindi as Sadma, with most of the cast and crew members from the original version reprising their roles.\",\n",
       " 943: 'Fityeház is a village in Zala County, Hungary.',\n",
       " 945: \"Eurajoki (Swedish: Euraåminne) is a municipality of Finland located in the region of Satakunta in the province of Western Finland. The municipality has a population of 5,938 (30 June 2015) and covers an area of 643.78 square kilometres (248.56 sq mi) of which 298.39 km2 (115.21 sq mi) is water. The population density is 17.19 inhabitants per square kilometre (44.5/sq mi). Two of Finland's four nuclear reactors are on the island of Olkiluoto in Eurajoki, and a third one is under construction. The two other operating reactors are at the Loviisa Nuclear Power Plant. The municipality is unilingually Finnish.\",\n",
       " 946: 'Tsubasa Fukuchi (福地翼 Fukuchi Tsubasa, born February 7, 1980) is a Japanese manga artist, best known for being the creator of The Law of Ueki and its sequel, The Law of Ueki Plus. His most recent manga, Anagle Mole, debuted in 2011 on Weekly Shōnen Sunday. The Law of Ueki was adapted into a 51 episode anime series. Manga artists Ato Sakurai (author of Artist Acro) and Ryō Azuchi (author of Softenni) were once his assistants.',\n",
       " 947: 'Buena Vista Township is a township in Clayton County, Iowa, USA. As of the 2000 census, its population was 339.',\n",
       " 948: 'Buenaventura is Peruvian mining company. It is the largest owner of mining rights in Peru among precious metals companies. The company is engaged in the mining, processing, development and exploration of gold, silver, coal, lead, molybdenum and zinc via wholly owned mines, as well as through its participation in joint exploration projects. Buenaventura operates seven mines in Peru and has controlling interests in another mining company (El Brocal) as well as minority interests in several other mining companies, including a significant ownership interest in Yanacocha (43.65%), via a partnership with Newmont Mining, and Cerro Verde (18.50%). The company has been listed on the Lima Stock Exchange since 1971 and on New York Stock Exchange since 1996.',\n",
       " 949: 'Södra Ängby is a residential area blending functionalism with garden city ideals, located in western Stockholm, Sweden, forming part of the Bromma borough. Encompassing more than 500 buildings, it remains the largest coherent functionalistic villa area in Sweden and possibly the world, still well-preserved more than a half-century after its construction 1933–40 and protected as a national cultural heritage. The area covers 1.1 square kilometres, and is inhabited by 1,744 people.',\n",
       " 950: 'Five is the fifth studio album by guitarist Greg Howe, released on October 22, 1996 through Shrapnel Records.',\n",
       " 951: 'Makybe Diva is a British-bred, Australian-trained Thoroughbred racehorse who became the first horse to win the Melbourne Cup on three occasions (2003, 2004, and 2005). In 2005, she also won the Cox Plate. Makybe Diva is the highest stakes-earner in Australasian horse racing history, finishing with winnings of more than A$14 million upon her retirement in November 2005. She is one of only five horses to have won the Cup more than once, and the only mare among the list of multiple winners. She is also one of only 14 female horses (11 mares and three fillies) to have won the Cup. She is by Desert King (a winner of the Irish Derby and Irish 2,000 Guineas) out of Tugela by Riverman (USA). Tugela was also the dam of the Australian stakes-winners, Musket and Valkyrie Diva. Makybe Diva is owned by South Australian tuna fisherman Tony Šantić, who named her after five of his employees - Maureen, Kylie, Belinda, Diane, and Vanessa - by taking the first two letters from each of their names.',\n",
       " 952: 'The Town of Buena Vista is a Statutory Town in Chaffee County, Colorado, United States. The town population was 2617 at the 2010 United States Census.',\n",
       " 953: 'Piha is a coastal settlement on the western coast of the Auckland Region in New Zealand with a population of 600. It is one of the most popular beaches in the area and a major day-trip destination for Aucklanders throughout the year, and especially in summer. Piha is 39 kilometres west of Auckland city centre, on the Tasman Sea coast to the north of the Manukau Harbour, on the western edge of the Waitakere Ranges. Immediately to the north of Piha is Whites Beach, and immediately to the south is Mercer Bay; land access to both is only by foot. The nearest beaches accessible by road are Karekare to the south, and Anawhata to the north.',\n",
       " 954: 'Lập Thạch is a rural district of Vĩnh Phúc Province in the Red River Delta region of northern Vietnam. This district is located in the northwestern Vĩnh Phúc, at coordinates: 105°30′ to 105°45′ E and 21°10′ to 21°30′ N, bordering Tuyên Quang on the north, districts of Tam Đảo and Tam Dương on the east, Vĩnh Tường on the south and Sông Lô District and Phú Thọ Province on the west.',\n",
       " 955: 'Ommen ([ˈɔmən]) is a municipality and a Hanseatic city in the Vecht valley of the Salland region, which is at the heart of the province of Overijssel in the eastern Netherlands. Historical records first name Ommen in the early 12th century and it was officially founded as a city in 1248. The municipality had a population of 17,333 in 2014 and covers an area of 182.01 km2 (70.27 sq mi).',\n",
       " 956: \"Ullanlinna (Swedish: Ulrikasborg) is the southern-most city district of Helsinki, in Finland. The name Ullanlinna (English: Ulla's castle) refers to the fortification line that was built at the southern edge of the area during the 18th century (no longer visible), as part of the town fortifications, which also included the fortress of Suomenlinna. The name Ulla refers to the Swedish Queen Ulrika Eleonora (1688–1741). During the 19th century the area was dominated by summer pavilions owned by the wealthy Helsinki middle-classes. The appearance of the area changed gradually at the end of the 19th century as the wooden houses were replaced with much higher stone buildings, designed in the prevailing Jugendstil architectural style synonymous with National Romanticism. The central part of Ullanlinna is marked by the Tähtitorninpuisto park (English: Observatory Park), at the centre of which is the former observatory, designed by Carl Ludvig Engel in 1825 in the Neoclassical style of architecture. Other notable buildings in the district are the Design Museum and the Museum of Finnish Architecture.\",\n",
       " 957: 'Phú Tân is a rural district of Cà Mau Province in the Mekong Delta region of Vietnam. As of 2003 the district had a population of 111,791. The district covers an area of 426 km². The district capital lies at Cái Đôi Vàm. Phu Tan was created the government decree No 138/2003/NĐ-CP on November 17, 2003, after being split off from Cái Nước District. Phu Tan borders Cái Nước District to the east; ocean to the west, Năm Căn District to the south and Trần Văn Thời District to the north. At the time of its creation, it spanned 446 km² and had a population of 109,642.',\n",
       " 958: 'Plastun (Russian: Пласту́н) is an urban locality (an urban-type settlement) and the most populous settlement of Terneysky District of Primorsky Krai, Russia. Population: 5,350\\u2009(2010 Census); 6,230\\u2009(2002 Census); 5,957\\u2009(1989 Census).',\n",
       " 959: 'Khúc Thừa Dụ (Chinese: 曲承裕; pinyin: Qū Chéngyù) or Khúc Tiên (曲先; Qǔ Xiān) (?–907) was a Vietnamese Jiedushi of Vietnam, Jinghai-jun Tĩnh Hải quân, in the early 10th century. Khúc Thừa Dụ was the head of the Khúc family in Hải Dương and was well known by people in the region for his wealth and benevolence. Khúc Thừa Dụ began to rule the country when the Tang Dynasty collapsed, and is considered the ruler who marked the beginning of the independent Vietnam, which had until then been ruled by China as a province. When he died in 907, his position was inherited by his son Khúc Hạo who continued to strengthen the autonomy and prosperity of the country.',\n",
       " 961: 'Hương Khê is a rural district (huyện) of Hà Tĩnh Province in the North Central Coast region of Vietnam. As of 2003 the district had a population of 105,975. The district covers an area of 1,299 km². The district capital lies at Hương Khê.',\n",
       " 962: 'Günter Deckert (born 9 January 1940 in Heidelberg, Baden) is a far-right German political activist. He was the leader of the far right National Democratic Party of Germany (NPD). He has served five years in prison in Germany for various offences, including Holocaust denial and incitement to racial hatred. He translated the Leuchter report, an investigation from the United States which attempted to cast doubt on the feasibility of mass extermination via the gas chambers in the Holocaust.',\n",
       " 963: 'Haines Junction is a village in Yukon, Canada. It is located at Kilometre 1,632 (historical mile 1016) of the Alaska Highway at its junction with the Haines Highway, hence the name of the community. According to the 2006 Census, the population was 589. Haines Junction is east of Kluane National Park and Reserve. It is a major administrative centre for the Champagne and Aishihik First Nations.',\n",
       " 964: \"Burwash Landing is a small community, at historical mile 1093 on the Alaska Highway, in Yukon, Canada along the southern shore of Kluane Lake. The present location of Burwash Landing was first used as a summer camp by the Southern Tutchone Athabascans until a trading post was built in the early 1900s by the Jacquot brothers. At the 2011 census, the population was 95, an increase of 30.1% over the 2006 census. The majority of the population are Aboriginal peoples, First Nations. The community is the administrative centre of the Kluane First Nation. In addition to the Alaska Highway, the community is served by the Burwash Airport. It is the home of the Kluane Museum of Natural History and the Kluane First Nation, and also home to the world's largest gold pan. In July 1937, Robert Bates and Bradford Washburn, two members of the Harvard Mountaineering Club, made their way into Burwash Landing after climbing the 17,146 ft (5,226 m) Lucania peak and hiking over 150 mi (240 km) across the wilderness after their bush pilot was unable to retrieve them.\",\n",
       " 965: 'Long Tuyền (Vietnamese: Làng cổ Long Tuyền) is an ancient village in Cần Thơ city, Mekong Delta, Vietnam. The village is located on the southwest part of Cần Thơ River. It used to be a subdivision of Luc Ap before Cần Thơ Province was incorporated, then it became Binh Hung village during the reign of king Thiệu Trị of the Nguyễn dynasty. In 1852, following the arrival of Huynh Man Dat, a province chief who escaped from danger to this site, this village was renamed Bình Thủy. This village is one of the most visited tourist attractions in this city since it contains 6 national relics, or one-third of relics in Cần Thơ. This village features typical lifestyle in Mekong Delta with its channel landscapes, orchards, traditional local lifestyle.',\n",
       " 966: 'The city of Buenos Aires is the capital of the canton of Buenos Aires, which includes 12 districts. It is located in the province of Puntarenas of the Central American country Costa Rica. The city has a connection to the Pan-American Highway and therefore is easily accessible by car. The city has an airfield, named BAI.',\n",
       " 967: 'Fixed is a remix EP by Nine Inch Nails released in 1992. Fixed is the sixth official Nine Inch Nails release and is the companion remix disc to Broken. It has been certified platinum in the UK. It is the first Nine Inch Nails release to include the Parental Advisory label, as not all certain releases by the band include the label. Guest remixers include Coil with Danny Hyde, J. G. Thirlwell aka Foetus, Butch Vig and members of the live band at the time, which included Chris Vrenna and James Woolley.',\n",
       " 968: 'Durg District is situated in Chhattisgarh state of India. Until 2000 it formed part of Madhya Pradesh. District headquarters is Durg. The district covers an area of 8,537 km². The population in 1991 was 2, 397,134 of which 12.4% were members of scheduled tribes. As of 2011 it is the second most populous district of Chhattisgarh (out of 18), after Raipur. The district is home to two important religious sites. The principal Hindu temple, the Ganga Maiyaat Jhalmala, Jain shrine of Uwasaggaharam Parshwa Teerth at Nagpura (near Durg), attract pilgrims from all over India. The town of Bhilai is home to the Bhilai Steel Plant.',\n",
       " 969: 'Vanak (Persian: ونک) is a neighbourhood in the northern part of Tehran, capital of Iran and there is a square and a street named after it. The word Vanak means \"Small (Oak) Tree\" in Persian. The name derives from the original older village of Vanak (Deh-e Vanak) in the area, and today there is also a square called Vanak nearby. Vanak is one of the important junctures in Tehran and the midpoint for some of the city\\'s highways such as the Jahan-Kudak (now Haghani), Chamran, Hemmat and Modarres. A small Armenian community has lived near the Vanak village for a very long time. Today the Ararat Sports Complex is the largest sports complex of Armenian Iranians. The complex located near Vanak square. Vanak is an affluent neighbourhood with highrise commercial buildings, a golf course, chic cafés and malls, and a funfair called Funfair which has not been in operation since 1995. Mostowfi ol-Mamalek, a former prime minister of Persia is buried in a private residence in Vanak neighbourhood .',\n",
       " 970: 'Bueng Kum (Thai: บึงกุ่ม; [bɯ̄ŋ kùm]) is one of the 50 districts (Khet) of Bangkok, Thailand. From north clockwise, it is bounded by Bang Khen, Khan Na Yao, Saphan Sung, Bang Kapi, and Lat Phrao.',\n",
       " 971: 'Gyokusen-ji (玉泉寺) is a small Buddhist temple in Shimoda, Shizuoka Prefecture, Japan. It is noteworthy in that it served as the first American consulate in Japan.',\n",
       " 972: 'Port Townsend /ˈtaʊnzən/ is a city in Jefferson County, Washington, United States. The population was 9,113 at the 2010 census, an increase of 9.3% over the 2000 census. It is the county seat and only incorporated city of Jefferson County. In addition to its natural scenery at the northeast tip of the Olympic Peninsula, the city is also known for the many Victorian buildings remaining from its late 19th-century heyday, numerous annual cultural events, and as a maritime center for independent boatbuilders and related industries and crafts. The Port Townsend Historic District is a U.S. National Historic Landmark District.',\n",
       " 974: 'The International Association of Physics Students (IAPS) is a non-profit umbrella organization for physics students associations. Its official seat is in Mulhouse, France in the headquarters of the European Physical Society. It was founded in 1987 in Debrecen, Hungary.',\n",
       " 975: 'Darrous is a neighborhood in Shemiran, northern Tehran, Iran. It is considered one of the most affluent areas in the city, as many modern and fashionable families reside there. Darrous is bounded by Pasdaran, Gholhak, Doulat, and Ekhtiyarieh. Haj Mehdi Gholi Khan Hedayat (Mokhber-ol Saltaneh), a renowned aristocrat of the late Qajar period, was the main land owner in this area prior to 1950s, which at that time consisted of expansive gardens and farms. Beside holding other high offices such as Governor of Fars and Azerbaijan, during the constitutional period, he served from 1927 to 1933 as prime minister during the reign of Reza Shah Pahlavi. His legacy still survives in the area in the form of a mosque, a medical clinic, and a school, all named Hedayat and located on Hedayat Street. Many foreign embassies are located in Darrous including those of Spain, Hungary, Portugal, Colombia, Argentina and Kazakhstan. In addition, Darrous is home to various United Nations agencies.',\n",
       " 977: 'François Bourguignon (born May 22, 1945) is the former Chief Economist (2003–2007) of the World Bank. He has been the Director of the Paris School of Economics, and from 1985 to his retirement in 2013 a professor of economics at the École des Hautes Études en Sciences Sociales in Paris.',\n",
       " 978: \"Ernst-Wilhelm Reinert (2 February 1919 – 5 September 2007) was a German former Luftwaffe fighter ace and recipient of the Knight's Cross of the Iron Cross with Oak Leaves and Swords during World War II. A flying ace or fighter ace is a military aviator credited with shooting down five or more enemy aircraft during aerial combat. The Knight's Cross of the Iron Cross and its higher grade Oak Leaves and Swords was awarded to recognise extreme battlefield bravery or successful military leadership.\",\n",
       " 979: 'Petalidi (Greek: Πεταλίδι) is a village and a former municipality in Messenia, Peloponnese, Greece. Since the 2011 local government reform it is part of the municipality Messini, of which it is a municipal unit. Petalidi is situated on the western shore of the Messenian Gulf, 13 km southwest of Messini, 18 km southwest of Kalamata and 21 km east of Pylos. The road Greek National Road 82 (Pylos - Kalamata) passes through the north of the municipal unit.',\n",
       " 980: \"The 1999 National League Championship Series (NLCS), to determine the champion of Major League Baseball's National League, was played between two East Division rivals, the division champion Atlanta Braves and the wild card New York Mets.\",\n",
       " 981: \"The Buenos Aires Lawn Tennis Club is a private tennis club located in the Palermo neighborhood of Buenos Aires, Argentina. The club is the host of the ATP Buenos Aires, an ATP Tour tournament played on clay. The main stadium court, Horacio Billoch Caride Stadium, has a capacity of 5,500 spectators and is named after former club president Horacio Billoch Caride. The stadium has hosted numerous Davis Cup and Fed Cup ties. Since 2003, the club has also hosted an exhibition tournament, La copa Argentina de tenis Peugeot (Peugeot Argentina Tennis Cup), in December which features top tour players. During that event, the stadium's surface is hard court instead of usual clay.\",\n",
       " 982: 'Franklin is a city in Howard County, Missouri, United States. It is located along the Missouri River. Part of a rural area, the population was 95 at the 2010 census. It is part of the Columbia, Missouri Metropolitan Statistical Area. As the eastern terminus of the Santa Fe Trail, the community played a major role in the westward expansion of the United States.',\n",
       " 984: 'The 2000 National League Championship Series (NLCS), to determine the champion of Major League Baseball\\'s National League, was played between the Central Division champion St. Louis Cardinals and the wild card New York Mets. The Mets and Cards used as a rally cry the 2000 hit song \"Who Let The Dogs Out?\" by the Baha Men. This series pitted a pair of teams that were former division rivals. In the mid-1980s, the Mets and Cardinals fought it out for supremacy in the National League East over four seasons, with each team alternating division championships between 1985 and 1988 (Cardinals in their pennant seasons of 1985 and 1987, Mets in their championship season of 1986 and 1988; however, the Cardinals weren\\'t serious contenders in both of those years). The Cardinals, led by manager Tony La Russa, had played through the 2000 season in relatively businesslike fashion. They had won the National League Central division, and swept the Mets\\' fiercest rival, Atlanta Braves, in three games in the NL Division Series, making the Mets\\' run to the World Series much easier. However, they were struck with several injuries to key players as the playoffs began, including slugger Mark McGwire, catcher Mike Matheny, and the sudden, unexplained wildness of rookie pitcher Rick Ankiel. The Mets, on the other hand, engaged in battle with the Braves for much of the season, eventually falling one game short of a division title. They matched up with the San Francisco Giants in the Division Series. After dropping the first game, they would rebound to win the following three games in heart-stopping fashion, including a thirteenth inning walk off home run from Benny Agbayani to win Game 3 and an improbable one-hit shutout by Bobby Jones to win the clinching Game 4. As noted above, the Mets thanked the Cardinals for making their run to the World Series much easier. It was the first NLCS since 1990 not to feature the Braves.',\n",
       " 985: 'Nea Kios (Greek: Νέα Κίος), is a village and former municipality in Argolis, Peloponnese, Greece. Since the 2011 local government reform it is part of the municipality Argos-Mykines, of which it is a municipal unit. It was founded by refugees from Cius in Bithynia after the expulsion of the Greeks from Asia Minor.',\n",
       " 986: \"The 2010 Boys' Youth Olympic Volleyball Tournament was the 1st edition of the event, organized by the world's governing body, the FIVB in conjunction with the IOC. It was held in Singapore from 21 to 26 August 2010.\",\n",
       " 987: 'Ogawa Suketada (小川 祐忠; 1549–1601) was a daimyo (warlord) in feudal Japan during the Azuchi-Momoyama and Edo periods. Initially Suketada served Akechi Mitsuhide and then Shibata Katsutoyo. After Katsutoyo died, Suketada served Toyotomi Hideyoshi. He was given 70,000 koku at Imabari, Iyo Province and became a daimyo. In 1600, at the Battle of Sekigahara, initially he was part of \"Western Army\" of Ishida Mitsunari. During the battle he betrayed Mitsunari and switched sides to join Tokugawa Ieyasu\\'s \"Eastern Army\" along with Kobayakawa Hideaki, Wakisaka Yasuharu, Kuchiki Mototsuna and Akaza Naoyasu. Ieyasu won the battle and became the de facto ruler of Japan. Ieyasu seized Suketada\\'s domain after the battle.',\n",
       " 988: 'Bueng Kan (Thai: บึงกาฬ, [bɯ̄ŋ kāːn]), also spelled Bung Kan, is the 76th province (changwat) of Thailand, established by the Act Establishing Changwat Bueng Kan, BE 2554 (2011) on 23 March 2011. The province, consisting of the districts (amphoe) partitioned off Nong Khai Province, is in the northeastern region of the country, called Isan (Thai: อีสาน). It is named after its central district, Mueang Bueng Kan.',\n",
       " 989: \"Chronicle of an Escape (Spanish: Crónica de una fuga) is a 2006 Argentine film, directed by Israel Adrián Caetano. The screenplay is written by Caetano, Esteban Student, and Julian Loyola, based on the autobiographical Pase libre – la fuga de la Mansion Seré written by Claudio Tamburrini. The movie is also known as Buenos Aires, 1977. The motion picture was produced by Oscar Kramer and Hugo Sigman, and stars Rodrigo de la Serna, Pablo Echarri, Nazareno Casero, and others. The winner of the Silver Condor Award for Best Film, it was Argentina's entry for the 2007 Golden Globes Awards for the Best Foreign Language Film, and director Israel Adrián Caetano was nominated at the 2006 Cannes Film Festival for a Golden Palm. The film tells the true story of four men who narrowly escaped death at the hands of a military death squad during the Argentine Dirty War in the 1970s.\",\n",
       " 990: 'The Buenos Aires Herald is an English language daily newspaper from Buenos Aires, Argentina. Their slogan is A World of Information in a few words.',\n",
       " 991: 'Fyodor Ignatievich Stravinsky (Russian: Фёдор Игна́тиевич Страви́нский), 20 June [O.S. 8 June] 1843, in Halavintsy, Minsk Governorate – 4 December [O.S. 21 November] 1902) was a Russian bass opera singer and actor. He was the father of Igor Stravinsky and the grandfather of Soulima Stravinsky.',\n",
       " 992: 'The Douglass House is a hotel located at the corner of Sheldon Avenue and Isle Royale Street in Houghton, Michigan. It was placed on the National Register of Historic Places in 1982.',\n",
       " 993: \"Takashi Saito (斎藤 隆 Saitō Takashi) born February 14, 1970) is a retired Japanese professional baseball pitcher who last played for the Tohoku Rakuten Golden Eagles of Nippon Professional Baseball. Saito's professional career spanned 23 years. He spent his first 13 seasons pitching for the Yokohama BayStars in the Japanese Central League, compiling a record of 87–80, usually as a starter. He spent the next 7 seasons in MLB as a closer and relief pitcher before finishing his career in Japan. In his first MLB season of 2006, Saito finished 8th in the National League Cy Young Award voting. In his second season, he was named an All-Star.\",\n",
       " 994: 'Taliouine is a (Berber) town in Taroudannt Province, Souss-Massa-Drâa, Morocco. According to the 2004 census it has a population of 5,844. The language in Taliouine is (Berber) dialect Tashelhit, Taliouine is famous with a spice called Saffron and it is one of the main exporters of this flower worldwide. The town celebrates Anmugar Amadal N Zafran, Le Festival International de Safran every year in Winter (usually November), the season in when Saffron springs.',\n",
       " 996: 'The flageolet is a woodwind instrument and a member of the fipple flute family. Its invention is ascribed to the 16th century Sieur Juvigny in 1581. There are two basic forms of the instrument: the French, having four finger holes on the front and two thumb holes on the back; and the English, having six finger holes on the front and sometimes a single thumb hole on the back. The latter was developed by English instrument maker William Bainbridge resulting in the \"improved English flageolet\" in 1803. There are also double and triple flageolets, having two or three bodies that allowed for a drone and countermelody. Flageolets were made until the 19th century when they were succeeded by the cheaper and more easily made tin whistle. Flageolets have varied greatly during the last 400 years. The first flageolets were called \"French flageolets\", and have four tone-holes on the front and two on the back. This instrument was played by Hector Berlioz, Frédéric Chalon, Samuel Pepys, and Robert Louis Stevenson. Henry Purcell and George Frideric Handel both wrote pieces for it. An early collection of manuscript \\'Lessons for the Flajolet\\', dating from about 1676, is preserved in the British Library. Small versions of this instrument, called bird flageolets were also made and were used for teaching birds to sing. These tiny flageolets have, like the French flageolet, four finger holes on the front and two thumb holes on the back. The number of keys on French flageolets range from none to seven, the exception being the Boehm system French flageolet made by Buffet Crampon which had thirteen keys. The arrangement of the tone holes on the flageolet yields a scale different from that on the whistle or recorder. Whereas the whistle\\'s basic scale is D-E-F#-G-A-B-C#-d; the flageolet\\'s basic scale is D-E-F-G-A-C-d. Cross-fingerings and keys are required to fill in the gaps. In the late 18th and early 19th century certain English instrument makers started to make flageolets with six finger-holes on the front. These instruments are called \"English flageolets\" and were eventually produced in metal as tin whistles. The keys range between none and six. Some were produced with changeable top joints which allowed the flageolet to be played as a flute or fife. An English maker, William Bainbridge, in around 1810 patented a double flageolet which consisted of two English flageolets joined together so that the player could harmonise the tunes that he played. He also produced a triple flageolet which added a third, drone pipe which was fingered in a similar way to an ocarina. The flageolet was eventually entirely replaced by the tin whistle and is rarely played today. However, it is a very easy instrument to play and the tone is soft and gentle. It has a range of about two octaves. The flageolet is composed of several parts: the ivory beak serves as the instrument\\'s mouthpiece; the windway is a gradually expanding part that leads to the barrel. The barrel contains the fipple and together they form the wind channel which focusses the stream of air across the window and onto the labium (lip) where the stream is split, giving rise to a musical sound. Finally, there is the body (or bodies, in a double or triple flageolet) which contains the finger holes and keys. The beak, windway and barrel do not contribute to sound production and the instrument can be played if these parts are missing.',\n",
       " 997: \"U Minh is a rural district (huyện) of Cà Mau Province in the Mekong Delta region of Vietnam. As of 2003, the district had a population of 91,438. The district covers an area of 764 km². The district capital lies at U Minh. U Minh is famous for its salty mangroves. It is the site of a large gas and electricity facility for the region in Khánh An commune. Transport in the district is mainly through waterways, as it is in a river delta region, and roads are poorly developed. A 14-km-long, 2-lane paved road connects U Minh district with Cà Mau City. Along with nearby U Minh Thượng, U Minh is known for its forests. It is located on Vietnam's western coast on the Cà Mau Peninsula, abutting the Gulf of Thailand. It is bordered by U Minh Thượng District to the north in Kiên Giang Province, and the districts of Trần Văn Thời to the south and Thới Bình to the east. The terrain is mostly flat floodplains, and is salty.\",\n",
       " 998: \"Cluj-Napoca ([ˈkluʒ naˈpoka]), commonly known as Cluj, is the second most populous city in Romania, after the national capital Bucharest, and the seat of Cluj County in the northwestern part of the country. Geographically, it is roughly equidistant from Bucharest (324 kilometres (201 miles)), Budapest (351 km (218 mi)) and Belgrade (322 km (200 mi)). Located in the Someșul Mic River valley, the city is considered the unofficial capital to the historical province of Transylvania. From 1790 to 1848 and from 1861 to 1867, it was the official capital of the Grand Principality of Transylvania. Other names for the city include: German: Klausenburg; Hungarian: Kolozsvár, [ˈkoloʒvaːr]; Medieval Latin: Castrum Clus, Claudiopolis; and Yiddish: קלויזנבורג, Kloiznburg. As of 2011, 324,576 inhabitants live within the city limits, marking a slight increase from the figure recorded at the 2002 census. The Cluj-Napoca metropolitan area has a population of 411,379 people, while the population of the peri-urban area (Romanian: zona periurbană) exceeds 420,000 residents. The new metropolitan government of Cluj-Napoca became operational in December 2008. According to a 2007 estimate provided by the County Population Register Service, the city hosts a visible population of students and other non-residents—an average of over 20,000 people each year during 2004–2007. The city spreads out from St. Michael's Church in Unirii Square, built in the 14th century and named after the Archangel Michael, the patron saint of Cluj-Napoca. The boundaries of the municipality contain an area of 179.52 square kilometres (69.31 sq mi). An analysis undertaken by the real estate agency Profesional Casa indicates that, because of infrastructure development, communes such as Feleacu, Vâlcele, Mărtinești, Jucu and Baciu will eventually become neighbourhoods of the city, thereby enlarging its area. Cluj-Napoca experienced a decade of decline during the 1990s, its international reputation suffering from the policies of its mayor at the time, Gheorghe Funar. Today, the city is one of the most important academic, cultural, industrial and business centres in Romania. Among other institutions, it hosts the country's largest university, Babeș-Bolyai University, with its famous botanical garden; nationally renowned cultural institutions; as well as the largest Romanian-owned commercial bank. In 2015, Cluj-Napoca was European Youth Capital.\",\n",
       " 1000: 'Fyodorovsky District (Russian: Фёдоровский райо́н; Bashkir: Фёдоровка районы) is an administrative and municipal district (raion), one of the fifty-four in the Republic of Bashkortostan, Russia. It is located in the southwest of the republic and borders with Sterlibashevsky District in the north, Meleuzovsky District in the east, Kuyurgazinsky District in the south, and with Orenburg Oblast in the west. The area of the district is 1,693.24 square kilometers (653.76 sq mi).[citation needed] Its administrative center is the rural locality (a selo) of Fyodorovka. As of the 2010 Census, the total population of the district was 18,650, with the population of Fyodorovka accounting for 23.1% of that number.',\n",
       " 1001: 'Đồng Sĩ Nguyên also spelled Đồng Sỹ Nguyên, other name Nguyễn Hữu Vũ; (born 1 March 1923 in Quảng Bình) is a former Deputy Prime Minister of Vietnam, a member of the Politburo of the Communist Party of Vietnam, lieutenant-general of the North Vietnamese Army, and former minister of transport of Vietnam. He was born in Quảng Bình Province, home to general Võ Nguyên Giáp and Ngô Đình Diệm, president of the Republic of Vietnam. Born on March 1, 1923 to a middle-class family in Quang Trung Commune, Quảng Trạch District, Quảng Bình Province, Dong Sy Nguyen attended Sainte Marie Lycée in Đồng Hới. He participated in anti-French political movements and was sought by the French colonists; therefore he fled to Thailand and participated in overseas Vietnamese patriotic movements there. He joined the Indochinese Communist Party in 1939. In 1944, he secretly returned to Vietnam and was made leader of the Communist Party committee branch in Quang Trach Phu, served as editor-in-chief of the Hong Lac Newspaper, built up the Trung Thuan Military Zone, trained the armed forces, and participated in the August Revolution. After the August Revolution, he was nominated as the leader of the Viet Minh in Quảng Bình Province. He was a member of the first session of the National Assembly of Vietnam.',\n",
       " 1002: 'Ifrane (Arabic: إفران/يفرن; Tamazight: ⵉⴼⵔⴰⵏ/ ⵢⴼⵔⵏ Ifran) is a city in the Middle Atlas region of Morocco (population 73,782 in November 2014). Ifrane is 1,665 m (5,463 ft) in elevation and is part of the Meknès-Tafilalet region. In Tamazight, the regional Berber language, \"ifran\" means caves.',\n",
       " 1005: \"Saco (pronounced SOCK-oh) is a city in York County, Maine, United States. The population was 18,482 at the 2010 census. It is home to Ferry Beach State Park, Funtown Splashtown USA, Thornton Academy, as well as General Dynamics Armament Systems (also known by its former name, Saco Defense), a subsidiary of the defense contractor General Dynamics. Saco sees much tourism during summer months, due to its amusement parks, Ferry Beach State Park, and proximity to Old Orchard Beach. Saco is part of the Portland–South Portland–Biddeford, Maine metropolitan statistical area. Saco's twin-city is Biddeford.\",\n",
       " 1006: 'Flaminio Avet was a World War I flying ace credited with eight aerial victories. Although born in Nice, France, he served in the Italian military as Italy entered World War I. After a transfer from Lancers to aviation, he trained as a pilot. He began his aerial combat career on 27 November 1918, and would stake a dozen victory claims, eight of which would be verified. He ended the war having won the Silver Medal for Military Valor three times. He returned to Nice postwar, and died there on 21 August 1928.',\n",
       " 1007: 'The Iwatsuki Domain (岩槻藩 Iwatsuki-han) was a Japanese domain of the Edo period. Located in Musashi Province (parts of modern-day Saitama Prefecture), it was headquartered in Iwatsuki Castle. In the han system, Iwatsuki was a political and economic abstraction based on periodic cadastral surveys and projected agricultural yields. In other words, the domain was defined in terms of kokudaka, not land area. This was different from the feudalism of the West.',\n",
       " 1008: 'Buff Bay is a settlement in Jamaica.',\n",
       " 1009: 'San Antonio de Palé, formerly known as St Antony and San Antonio de Praia, is the capital of Annobón, an island in Equatorial Guinea that was once part of the Spanish Empire in Africa. The town has 600 inhabitants, the majority of whom speak the Annobonese Creole. It is located in the extreme north of the island, which is the driest and flattest area. It is home to an airport, a dock, a hospital, a school, a lighthouse, a radio station, and a Catholic mission.',\n",
       " 1010: '18S ribosomal RNA (abbreviated 18S rRNA) is a part of the ribosomal RNA. The S in 18S represents Svedberg units. 18S rRNA is a component of the small eukaryotic ribosomal subunit (40S). 18S rRNA is the structural RNA for the small component of eukaryotic cytoplasmic ribosomes, and thus one of the basic components of all eukaryotic cells. It is the eukaryotic nuclear homologue of 16S ribosomal RNA in Prokaryotes and mitochondria. The genes coding for 18S rRNA are referred to as 18S rDNA. Sequence data from these genes is widely used in molecular analysis to reconstruct the evolutionary history of organisms, especially in vertebrates, as its slow evolutionary rate makes it suitable to reconstruct ancient divergences.',\n",
       " 1011: 'Shu Uemura (植村 秀 Uemura Shū, June 19, 1928 – December 29, 2007) was a Japanese make-up artist and founder of the cosmetics line which bears his name.',\n",
       " 1012: 'Raalte (About this sound pronunciation ) is a municipality and a town in the heart of the region of Salland in the Dutch province of Overijssel.',\n",
       " 1013: \"Dhamtari is a district in the Indian state of Chhattisgarh. It was officially formed on July 6, 1998, from an amalgamation of Dhamma and Tarai (hence the name). The district headquarters is Dhamtari. It is situated between 20o42' N Latitude and 81o33' Longtitude. The total area of the district is 2029 km² and it is 305 meters above the sea level. In the east, Satpura range is located. It is popularly known as Sihawa pahad.\",\n",
       " 1014: \"Buffalo National Park was created near the town of Wainwright in east central Alberta on June 5, 1909. It was closed in 1940 and delisted in 1947 when the land was transferred to the Department of National Defence. The 583 km2 (225 sq mi) park land now comprises the majority of Canadian Forces Base Wainwright. The first Park Warden was Bud Cotton, who served from 1912 through 1940. Buffalo National Park, with a focus on plains bison (often referred to as buffalo), was one of several national parks created in the Canadian Prairies expressly to protect and regenerate dangerously low populations of bison and pronghorns. Other 'regeneration' parks, also delisted in 1947, included Wawaskesy National Park, Nemiskam National Park (both in Alberta), and Menissawok National Park in Saskatchewan. Buffalo National Park was populated by the Canadian government with a herd of roughly 700 bison, purchased from the Flathead Reservation in Montana, USA. The herd was transported to the new park by train. The park also received smaller populations of elk and moose. During its thirty one years of activity, the park produced 40,000 bison, 3000 wapiti, and 300 moose. The park eventually fell victim to its own success, for as numbers grew, disease and starvation spread among the herd, competing for food on the park's limited space. Sanctioned slaughters in the late 1910s brought public outcry. Culling continued on an annual basis thereafter, including the transfer or sale of bison to other parks, such as about 6000 to 7000 head sent to Wood Buffalo National Park during the 1920s. With its mission accomplished, the park was closed in 1940. In 1980, to commemorate the 75th anniversary of Alberta and the legacy of the former Buffalo National Park, four bison from Elk Island National Park were moved to Wainwright. Today, about a dozen bison reside on CFB Wainwright in Bud Cotton Paddock, named for the first Park Warden.\",\n",
       " 1015: 'Marsa Alam (Arabic: مرسى علم Marsā ʿAlam [ˈmæɾsæ ˈʕælæm]) is a town in south-eastern Egypt, located on the western shore of the Red Sea. It is currently seeing fast increasing popularity as a tourist destination and development following the opening of Marsa Alam International Airport in 2003. Among the most famous beaches around Marsa Alam is the Abu Dabab beach. In Abu Dabab, turtles are a common sight and it is nearly guaranteed that when diving, one will see at least one turtle. For tourists who seek to see something less typical, there is marine wildlife like, crocodilefish and octopuses. Marsa Alam also has some inland attractions, such as the Emerald Mines and the Temple of Seti I at Khanais.',\n",
       " 1016: \"Bulgartabac Holding Group AD or simply Bulgartabac (Bulgarian: Булгартабак) is a Bulgarian tobacco holding company. Established in 1947 and based in the capital Sofia, it includes 11 joint-stock subsidiary companies in the tobacco-growing regions of the country. Bulgartabac produces over 50 cigarette brands and sub-brands in its modernized factories in Sofia and Blagoevgrad using both domestic and imported tobacco. Amongst the company's brands are Victory, Femina, Prestige, Eva, Bulgartabac, MM, Melnik, Seven Hills, Global, Bridge, Tresor, BT, Charlie, Nevada, Orient Express, Country, etc. In 2011, A unit of OAO VTB, Russia’s second-largest bank, was awarded a majority stake in Bulgartabac after the sole bidder offered to pay 100.1 million euros ($145 million) for 80% stake.\",\n",
       " 1017: 'Buffalo Springs National Reserve is a protected area in the Isiolo County in northern Kenya.',\n",
       " 1018: '\"Flaming\" (formerly titled \"Snowing\") is a song by psychedelic rock band Pink Floyd, featured on their 1967 debut album, The Piper at the Gates of Dawn. Written and sung by Syd Barrett, the lyrics describe a childlike game with fantastical imagery (such as unicorns and buttercups), while prominent organ and driving bass guitar carry the uptempo music. After David Gilmour joined the band, the song remained in their set list for a while in 1968, even after Barrett\\'s departure.',\n",
       " 1019: 'Eksjö is a locality and the seat of Eksjö Municipality, Jönköping County, Sweden with 9,701 inhabitants in 2010.',\n",
       " 1020: 'Gétigné is a commune in the Loire-Atlantique department in western France.',\n",
       " 1021: 'Marcus Alexander Bagwell (born January 10, 1970) is an American professional wrestler and actor, better known by his ring name, Buff Bagwell. He is best known for his appearances with World Championship Wrestling from 1991 to 2001, where he was a six-time World Tag Team Champion.',\n",
       " 1022: 'The Vélodrome Buffalo and Stade Buffalo were cycling tracks in Paris. The first existed from 1893 until World War I, the second from 1922 until 1957. The name derives from the showman Buffalo Bill Cody, whose circus played on the grounds of the first velodrome.',\n",
       " 1023: \"The Buffalo Majors were a professional ice hockey team in the city of Buffalo, New York. The team played two seasons in the American Hockey Association. The team was organized in 1930 by Lawrence F. Welch, owner of the Buffalo Amusement Company. He put together a team of Canadian hockey players and arranged for an artificial ice rink to be built in the Broadway Auditorium. The team's first coach was George Sears, a 25-year veteran of ice hockey. The Majors marketed themselves largely as a rougher, tougher alternative to their ostensibly crosstown rivals, the International Hockey League's Buffalo Bisons, who played across the border at Peace Bridge Arena in Fort Erie, Ontario. The first season was plagued by problems. Financial backing for the artificial ice plant was withdrawn but Welch found other backers. The first game in Chicago had to be delayed due to immigration problems for some of his players. The team started its season on the road, in a 3–2 loss in Tulsa to the Tulsa Oilers. The team had to vacate the Auditorium for an American Bowling Congress tournament. From the time of their first game at the Auditorium, until their last at the Auditorium, the team went undefeated at home. The team played its final twelve home games in the Bisons' arena, Peace Bridge Arena. Despite the difficulties of their first season, the team nearly qualified for a playoff spot, losing out in the final game of the season. The second season saw the Majors struggle to escape the basement of the league standings. The team fell behind in payroll and its payments to the league, a likely byproduct of the extremely poor economy of the time. The AHA decided to disband the team on February 2, 1932, citing the financial difficulties of the team and efforts to reduce travel costs. (Not only were the Majors losing money, but the team was also the easternmost team in a league primarily centered in the Great Plains, and having to travel to and from Buffalo added significant expense to all of the teams' budgets.)\",\n",
       " 1024: \"Masaya ([maˈsaʝa]) is the capital city of Masaya department in Nicaragua. It is situated approximately 14 km west of Granada and 31 km southeast from Managua. The town of Masaya is just east of Masaya Volcano (Volcán de Masaya), an active volcano from which the city takes its name. With an estimated population of 140,000 (2005), it is Nicaragua's third most populous city, and it is culturally known[clarification needed] as the City of Flowers.\",\n",
       " 1025: \"Thumrait is a small town in southern Oman on the main road between Dhofar and the rest of Oman. In ancient times Thumrait was an important point on the Arabian peninsula's caravan routes.[citation needed] Frankincense trees, an important crop, used to grow in greater abundance in Thumrait than now. The main occupation of the people of Thumrait is the cultivation of fruit, vegetables and animal fodder.[citation needed]\",\n",
       " 1026: 'The Buffalo Ballet Theater is a Ballet company in Buffalo, New York, USA. It was founded by the dancer and choreographer Barry Leon. Bronislava Nijinska led the Buffalo Ballet Theater from 1967. Countless US-American dancers started their dancing career here.',\n",
       " 1027: 'Castro is a comune (municipality) in the Province of Bergamo in the Italian region of Lombardy, located about 80 kilometres (50 mi) northeast of Milan and about 35 kilometres (22 mi) northeast of Bergamo on the western side of the lake Iseo. As of 31 December 2004, it had a population of 1,449 and an area of 3.5 square kilometres (1.4 sq mi). Castro borders the following municipalities: Lovere, Pianico, Pisogne, Solto Collina.',\n",
       " 1028: 'Hallucinogen persisting perception disorder (HPPD) is a disorder characterized by a continual presence of sensory disturbances, most commonly visual, that are reminiscent of those generated by the use of hallucinogenic substances. Previous use of hallucinogens by the person is necessary, but not sufficient, for diagnosis of HPPD. For an individual to be diagnosed with HPPD, the symptoms cannot be due to another medical condition. HPPD is distinct from flashbacks by reason of its relative permanence; while flashbacks are transient, HPPD is persistent. HPPD is a DSM-IV diagnosis with diagnostic code 292.89.',\n",
       " 1029: 'Buffalo Bill State Park is state-operated, public recreation area surrounding the reservoir formed by the Buffalo Bill Dam, an impoundment of the Shoshone River, in Park County, Wyoming. The state park, reservoir and dam were named after William \"Buffalo Bill\" Cody, who founded the nearby town of Cody and who owned much of the land now occupied by the reservoir and park. The park\\'s recreational opportunities include camping, hiking, boating, fishing and picnicking.',\n",
       " 1030: 'Flashback, released as Flashback: The Quest for Identity in the United States, is a 1992 science fiction cinematic platform game developed by Delphine Software of France and published by U.S. Gold in United States and Europe, and Sunsoft in Japan. The game was directed, written/designed and partially programmed by Paul Cuisset, who had previously created the adventure game Future Wars. Flashback was initially released for the Amiga in 1992, then ported to MS-DOS, Acorn Archimedes, Sega Mega Drive/Genesis and Super Nintendo in 1993. CD-ROM versions of Flashback for the Mega-CD, 3DO, CD-i, MS-DOS, Apple Macintosh and the FM Towns were released during 1994 and 1995, together with a cartridge version for the Atari Jaguar in 1995. Originally advertised as a \"CD-ROM game on a cartridge\", the game features fully hand-drawn backdrops and all animation is rotoscoped, giving movements an unusual fluidity, similar to that of the earlier Prince of Persia. The capture technique of Flashback was invented independently of Prince of Persia, and used a more complicated method of first tracing video images onto transparencies. The game was a commercial and critical success and was listed in the Guinness World Records as the best-selling French game of all time. It was followed by a sequel titled Fade to Black in 1995. In 2013, a Flashback remake by VectorCell was released for the PC and consoles.',\n",
       " 1031: 'Tianzhang Pavilion or Tianzhangge, also translated as Hall of Heavenly Manifestations, was one of the palace buildings during the Song dynasty to house the Hanlin Academy. It was built in 1020 in the Song capital of Kaifeng. Bao Zheng and Sima Guang have both been edict attendants at Tianzhang Pavilion.',\n",
       " 1032: 'Sastamala is a town and municipality of Finland. It was created January 1, 2009, when the municipalities of Vammala, Äetsä and Mouhijärvi were consolidated into a single town. It is located in the province of Western Finland, and is part of the Pirkanmaa region. The town has a population of 25,313 (30 June 2015) and covers an area of 1,387.56 square kilometres (535.74 sq mi) of which 96.14 km2 (37.12 sq mi) is water. The population density is 19.6 inhabitants per square kilometre (51/sq mi). Neighbouring municipalities are Huittinen, Hämeenkyrö, Ikaalinen, Kankaanpää, Kokemäki, Lavia, Nokia, Punkalaidun, Ulvila, Urjala and Vesilahti. The municipality is unilingually Finnish.',\n",
       " 1033: '\"Flash\" is a song by British rock band Queen. Written by guitarist Brian May, \"Flash\" is the theme song of the 1980 film Flash Gordon. The soundtrack released to coincide with the film contained only the music composed and performed by Queen. There are two versions of the song. The album version (\"Flash\\'s Theme\") is in fact the start to the movie, with all the dialogue from the first scene. The single version features dialogue cut from various parts of the movie, most memorably, Brian Blessed\\'s character exclaiming \"Gordon\\'s alive?! \" This version was also included on the Greatest Hits compilation from 1981. Flash is sung as a duet between Freddie Mercury and Brian May, with Roger Taylor adding the high harmonies. May plays all of the instruments except for the rhythm section. He used an Imperial Bösendorfer Grand Piano (with 97 keys instead of 88, having an extra octave on the low range), Oberheim OBX synth (which he plays in the video) and his homemade Red Special electric guitar.',\n",
       " 1034: 'Buffalo Bill Dam is a concrete arch-gravity dam on the Shoshone River in the U.S. state of Wyoming. It is named after the famous Wild West figure William \"Buffalo Bill\" Cody, who founded the nearby town of Cody and owned much of the land now covered by the reservoir formed by its construction. The dam is part of the Shoshone Project, successor to several visionary schemes promoted by Cody to irrigate the Bighorn Basin and turn it from a semi-arid sagebrush-covered plain to productive agricultural land. Known at the time of its construction as Shoshone Dam, it was renamed in 1946 to honor Cody. The 325 feet (99 m) high structure was designed by engineer Daniel Webster Cole and built between 1905 and 1910. At the time of its completion it was the tallest dam in the world. It was listed on the National Register of Historic Places in 1971 and named a National Civil Engineering Landmark in 1973. The land around the reservoir is maintained as Buffalo Bill State Park.',\n",
       " 1035: 'Cavernago is a comune (municipality) in the Province of Bergamo in the Italian region of Lombardy, located about 50 kilometres (31 mi) northeast of Milan and about 11 kilometres (7 mi) southeast of Bergamo. Cavernago borders the following municipalities: Calcinate, Ghisalba, Grassobbio, Seriate, Urgnano, Zanica. It is home to the Malpaga Castle, a Renaissance fortress owned by the condottiero and local lord Bartolomeo Colleoni. Another castle, that of Cavernago proper, was later remade in the 17th century in Baroque style.',\n",
       " 1036: \"Melco Holdings Inc. is a family business founded by Makoto Maki in 1975 and is located in Japan. The company's most recognizable brand is Buffalo Inc. Buffalo Inc. is currently one of the 14 subsidiaries of Melco Holdings Inc., initially founded as an audio equipment manufacturer, the company entered the computer peripheral market in 1981 with an EEPROM writer. The name BUFFALO is derived from one of company's first products, a printer buffer and the name for the American Bison (Buffalo).\",\n",
       " 1037: 'Punkalaidun is a municipality of Finland. It is located in the province of Western Finland and is part of the Pirkanmaa region. The municipality has a population of 3,085 (30 June 2015) and covers an area of 364.02 square kilometres (140.55 sq mi) of which 2.95 km2 (1.14 sq mi) is water. The population density is 8.54 inhabitants per square kilometre (22.1/sq mi). Neighbouring municipalities are Huittinen, Humppila, Loimaa, Urjala, and Sastamala. The municipality is unilingually Finnish.',\n",
       " 1038: 'Helena (died 360) was the wife of Julian, Roman Emperor in 360–363. She was briefly his Empress consort when Julian was proclaimed Augustus by his troops in 360. She died prior to the resolution of his conflict with Constantius II.',\n",
       " 1039: 'The Buffalo Bills were an American football team, based in Buffalo, New York, that played in the All-America Football Conference from 1946 to 1949. During its first season in 1946, the team was known as the Buffalo Bisons. Unlike the Cleveland Browns, San Francisco 49ers, and Baltimore Colts, the franchise was not one of the three AAFC teams that merged with the National Football League prior to the 1950 season. After only one year, owner James Breuil held a name-the-team contest in hopes of choosing a more distinctive nickname; \"Bisons\" had been the traditional nickname for Buffalo teams for many years. The winning choice was \"Bills,\" which was a play on the name of the famed Wild West showman Buffalo Bill Cody. Coincidentally a barbershop quartet who would achieve fame a few years later was formed with the same name that year. The team was the successor to the Buffalo Tigers/Indians team from the 1940 American Football League; that league had folded as a result of World War II. There was some controversy over Buffalo\\'s exclusion from the enlarged NFL. Buffalo had experienced more success on the field and at the gate than Baltimore, and was also a larger market. Additionally, the original three-team plan would have left the league with 13 teams, not only an odd number, but also one considered to be bad luck. The move had left Buffalo as the only AAFC market without an NFL team post-merger, and one that had outdrawn the NFL average in fan attendance. With that in mind, Buffalo fans produced more than 15,000 season ticket pledges, raised $175,000 in a stock offering, and filed a separate application to join. When the vote to admit Buffalo was held on January 20, 1950, a majority of league owners (including the three already-admitted AAFC teams) were willing to accept Buffalo. However, league rules required a unanimous vote, but the vote was only 9-4 in favor. The opposition to the Bills\\' entry was led by Chicago Bears owner George Halas (who had a longstanding animosity toward Buffalo\\'s previous NFL franchise) and Los Angeles Rams owner Dan Reeves. League commissioner Bert Bell had already put out a schedule based on the 13 teams, and Reeves cited as his excuse for voting against admission was simply that \"it was silly to vote in a new city without first having a good idea where my teams would be playing and when.\" Breuil, having lost $700,000 on the team, was instead content to accept a one-fourth share of the Browns, and the NFL was not inclined to add a fourth team (even though the addition of three teams made for an odd number of teams in the league). The American Football League, a minor league formerly known as the \"American Association,\" offered the Bills a spot in their league, but Breuil declined. Coming with Breuil to Cleveland were three Bills players; the rest were dispersed in the 1950 AAFC Dispersal Draft among the NFL teams, with the Colts and Green Bay Packers picking up the majority of the Bills\\' roster. As it turned out, admitting the Colts over the Bills proved to be a mistake; the Colts folded after only one season. Buffalo would have to wait until 1959 to again have a pro team, when Ralph Wilson acquired an American Football League franchise for Buffalo and named them the Bills, in honor of the old AAFC team. The Bills entered the NFL with the rest of the AFL in 1970, and are still in operation as an NFL team to this day. During their existence, the Bills played at Civic Stadium, later known as War Memorial Stadium.',\n",
       " 1040: 'Stranraer (/stranˈrɑ:/ stran-RAR; Scottish Gaelic: An t-Sròn Reamhar, [ənˠ̪ t̪ʰɾɔːn ɾãũ.əɾ]) is a town in Inch, Wigtownshire, in the west of Dumfries and Galloway, southwest Scotland. It lies on the shores of Loch Ryan, on the northern side of the isthmus joining the Rhins of Galloway to the mainland. Stranraer is Dumfries and Galloway\\'s second-largest town, with a population including the surrounding area of nearly 13,000. Stranraer is an administrative centre for the West Galloway Wigtownshire area of Dumfries and Galloway. It is best known as having been a ferry port connecting Scotland with Belfast (and previously with Larne) in Northern Ireland; the last service was transferred to Cairnryan in November 2011. The main industries in the area are the ferry port, with associated industries, tourism and, more traditionally, farming. The name is generally believed to come from the Scottish Gaelic An t-Sròn Reamhar meaning \"The Fat Nose\", but which more prosaically might be rendered as \"the broad headland\". Another interpretation would link the second element in the name with Rerigonium, an ancient settlement noted by Ptolemy in this part of Britain. A person from Stranraer is a Stranraerarian; someone from the original, lochside, part of the town, including Sheuchan Street and Agnew Crescent – the Clayhole or, in local dialect, Cl\\'yhole – is a Clayholer /kleɪˈhoʊlər/.[citation needed]',\n",
       " 1041: 'Stenungsund is a locality and the seat of Stenungsund Municipality, Västra Götaland County, Sweden with 9,987 inhabitants in 2010.',\n",
       " 1042: 'Florentius was a Roman praetorian prefect under the Caesar Julian and later a consul, before falling from grace when Julian became emperor.',\n",
       " 1043: 'San José de las Lajas is a municipality and the capital city of the newly formed Mayabeque Province of Cuba, after the segmentation of La Habana Province in 2011. It is located in the center north of the province, and is bisected by the Carretera Central. It was founded in 1778.',\n",
       " 1044: 'Oakham is the county town of Rutland in the East Midlands of England 25 miles (40.2 km) east of Leicester, 28 miles (45.1 km) south-east of Nottingham, and 23 miles (37.0 km) west of Peterborough. Oakham has a population of 10,922. Oakham lies to the west of Rutland Water, one of the largest man-made lakes in Europe. It is in the Vale of Catmose and is built on an incline, varying from 325 feet (99m) to 400 feet (122m) above sea level. It is twinned with Barmstedt, Germany, and Dodgeville, Wisconsin, US.',\n",
       " 1045: \"Buffalo Bill and the Indians, or Sitting Bull's History Lesson is a 1976 revisionist Western directed by Robert Altman and based on the play Indians by Arthur Kopit. It stars Paul Newman as William F. Cody, alias Buffalo Bill, along with Geraldine Chaplin, Will Sampson, Joel Grey, Harvey Keitel and Burt Lancaster as Bill's biographer, Ned Buntline. As in his earlier film MASH, Altman skewers an American historical myth of heroism, in this case the notion that noble white men fighting bloodthirsty savages won the West. However, the film was poorly received at the time of its release, as the country was celebrating its bicentennial.\",\n",
       " 1046: 'Château-Thébaud is a commune in the Loire-Atlantique department in western France.',\n",
       " 1047: \"The Buffalo Bisons were an American Hockey League ice hockey franchise that played from 1940 to 1970 in Buffalo, New York. They replaced the original Buffalo Bisons hockey team, which left the area in 1936 after its arena collapsed. They were the first professional hockey team to play their games in the Buffalo city proper; the previous team had played across the border at an arena in Fort Erie, Ontario. The Bisons played at the newly constructed Memorial Auditorium, and at various times had affiliations with the Montreal Canadiens, Chicago Black Hawks and New York Rangers. The team was brought to Buffalo from Syracuse by Louis M. Jacobs, then owner of the buffalo based Jacob's Concessions and the father of Jeremy Jacobs the current owner of the Boston Bruins. The team's unusual logo stems from the Bisons being purchased in 1956 by the owner of the local franchise of Pepsi-Cola, who changed the team's colors and logo to reflect the soft drink company; the Bisons retained the logo for the rest of their existence. They were Calder Cup champions in 1943, 1944, 1946, 1963 and 1970, and runners-up in 1948, 1951, 1955, 1959 and 1962. The team ceased operations after the 1969–70 season due to the awarding of a National Hockey League expansion team, the Buffalo Sabres, to begin play in 1970–71. Like the Pittsburgh Hornets three years earlier (also shut down because of NHL expansion), the Bisons closed out their existence with one final championship. Goaltender Roger Crozier had the unusual distinction of playing for both the Bisons and the Sabres. He played eight games for the former and eight years for the latter. After the Bisons folded, the Sabres were granted an AHL franchise, who used it to establish the Cincinnati Swords in 1971. On September 18, 2010, the Sabres announced that they would be adopting a third jersey that pays homage to the Bisons during their 2010–11 season. The Bisons-inspired third jersey was used for that and the following season before being discontinued.\",\n",
       " 1048: 'Flavius Mallius Theodorus (floruit c. 376-409) was consul of the Roman Empire in 399, and author of an extant treatise on metres, De metris, one of the best of its kind (H. Keil, Grammatici Latini, vi.). He also studied philosophy, astronomy and geometry, and wrote works on those subjects, which, together with his consulship, formed the subject of a panegyric by Claudian.',\n",
       " 1049: 'Albin (AHL-been) is a masculine Polish, Scandinavian, and Slovenian given name, from the Roman cognate Albinus, derived from the Latin albus, meaning \"white\" or \"bright\". This name may also be a last name. In Estonia, France, Hungary, Poland, Slovakia, and Sweden March 1 is Albin\\'s Name day. There are variant spellings, including Albinas, a male given name in Lithuania; Aubin, a French masculine given name; and Albina, an Ancient Roman, Czech, Galician, Italian, Polish, Slovak, and Slovenian feminine given name. Albin is uncommon as a surname. People with the given name Albin include:',\n",
       " 1051: \"Cazzano Sant'Andrea is a comune (municipality) in the Province of Bergamo in the Italian region of Lombardy, located about 70 kilometres (43 mi) northeast of Milan and about 20 kilometres (12 mi) northeast of Bergamo. As of 31 December 2004, it had a population of 1,462 and an area of 2.0 square kilometres (0.77 sq mi). The municipality of Cazzano Sant'Andrea contains the frazione (subdivision) Melgarolo. Cazzano Sant'Andrea borders the following municipalities: Casnigo, Cene, Gandino, Leffe.\",\n",
       " 1053: 'Toro Toro (or Torotoro) is a town in the Charcas Province, Potosí Department, Bolivia. Torotoro was founded in the late colonial period by mestizo migrants from Cochabamba and legally confirmed as a municipality (municipio) on 21 November 1883. The municipality has an area of 1,169 km² and a population of 10,535 (2001). Torotoro lies at an altitude of 2,676 m. It can only be reached by gravel roads from Estancia Sucusuma at the Río Caine. The town is at the centre of Torotoro National Park. It is 140 km south of Cochabamba.',\n",
       " 1055: \"Buffalo is a brand of clothing and accessories, perhaps best known for its footwear, owned by the Buffalo Boots GmbH. Its headquarters are in Hochheim am Main, Germany. Buffalo's notoriety increased significantly with the popularity, especially in Europe, of its platform shoes from the mid-1990s through the early 2000s. The 10-centimetre platform model 1310-2 was made famous by British girl band the Spice Girls. The 1310-2 also came with a 20-centimetre platform. Buffalo manufactures women's shoes, men's shoes like dress shoes, western and biker boots, skate shoes, high heels, pumps, sandals, overknee boots, flip-flops, and other footwear, as well as shirts, jackets, trousers, skirts, hosiery, swimsuits, undergarments, and small baggage.\",\n",
       " 1056: 'Conquereuil is a commune in the Loire-Atlantique department in western France.',\n",
       " 1057: 'Cotacachi is a city that is the seat of Cotacachi Canton, Imbabura Province, Ecuador in South America. Cotacachi is an artisan city that is famous for its leather goods and handicrafts. Cotacachi residents are also well known for their carne colorada (filet of pork cooked in red achiote sauce), and queso de hoja (soft cheese wrapped in a plant leaf). The city of Cotacachi holds a UNESCO medal for being free of illiteracy. In 2000 the entire canton was declared the first ecological county of South America.',\n",
       " 1058: 'Archaeopteryx (/ˌɑːrkiːˈɒptərᵻks/ AR-kee-OP-tər-iks), sometimes referred to by its German name Urvogel (\"original bird\" or \"first bird\"), is a genus of bird-like dinosaurs that is transitional between non-avian feathered dinosaurs and modern birds. The name derives from the ancient Greek ἀρχαῖος (archaīos) meaning \"ancient\", and πτέρυξ (ptéryx), meaning \"feather\" or \"wing\". Between the late nineteenth century and the early twenty-first century, Archaeopteryx had been generally accepted by palaeontologists and popular reference books as the oldest known bird (member of the group Avialae). However, older potential avialans have since been identified, including Anchiornis, Xiaotingia, and Aurornis. Archaeopteryx lived in the Late Jurassic around 150 million years ago, in what is now southern Germany during a time when Europe was an archipelago of islands in a shallow warm tropical sea, much closer to the equator than it is now. Similar in size to a Eurasian magpie, with the largest individuals possibly attaining the size of a raven, the largest species of Archaeopteryx could grow to about 0.5 m (1 ft 8 in) in length. Despite their small size, broad wings, and inferred ability to fly or glide, Archaeopteryx had more in common with other small Mesozoic dinosaurs than with modern birds. In particular, they shared the following features with the dromaeosaurids and troodontids: jaws with sharp teeth, three fingers with claws, a long bony tail, hyperextensible second toes (\"killing claw\"), feathers (which also suggest warm-bloodedness), and various features of the skeleton. These features make Archaeopteryx a clear candidate for a transitional fossil between non-avian dinosaurs and birds. Thus, Archaeopteryx plays an important role, not only in the study of the origin of birds, but in the study of dinosaurs. It was named from a single feather in 1861. That same year, the first complete specimen of Archaeopteryx was announced. Over the years, ten more fossils of Archaeopteryx have surfaced. Despite variation among these fossils, most experts regard all the remains that have been discovered as belonging to a single species, although this is still debated. Most of these eleven fossils include impressions of feathers. Because these feathers are of an advanced form (flight feathers), these fossils are evidence that the evolution of feathers began before the Late Jurassic. The type specimen of Archaeopteryx was discovered just two years after Charles Darwin published On the Origin of Species. Archaeopteryx seemed to confirm Darwin\\'s theories and has since become a key piece of evidence for the origin of birds, the transitional fossils debate, and confirmation of evolution.',\n",
       " 1059: 'Corcoué-sur-Logne is a commune in the Loire-Atlantique department in western France.',\n",
       " 1060: 'Papallacta is a small village in Napo Province, Ecuador located at an altitude of 3,300 m in the Andes just off the Eastern Cordilleras on the road from Quito which leads into the Amazon jungle. The scenic drive from Quito to Papallacta passes through several towns and small villages before ascending to a peak of over 4,000 m, from where mountains and glaciers are visible. Descending from the peak to Papallacta, the ecosystems transform from alpine to tropical jungle. Several hot springs and spas are located in Papallacta. Many of the local restaurants are known for their steamed trout. For lodging, there are several hotels and a resort. The mammals of Papallacta have been studied in detail. The following species have been recorded in the vicinity of the village:',\n",
       " 1061: 'The Buffalo Commons is a conceptual proposal to create a vast nature preserve by returning 139,000 square miles (360,000 km2) of the drier portion of the Great Plains to native prairie, and by reintroducing the American bison (\"buffalo\"), that once grazed the shortgrass prairie. The proposal would affect ten states: Montana, Wyoming, Colorado, Oklahoma, New Mexico, Texas, North Dakota, South Dakota, Nebraska, and Kansas.',\n",
       " 1062: 'Haute-Goulaine is a commune in the Loire-Atlantique department in western France.',\n",
       " 1063: 'Flectonotus is a genus of frogs of the family Hemiphractidae. They are found on the Andes of northeastern Colombia and adjacent Venezuela as well as in Trinidad and Tobago.',\n",
       " 1064: 'Palca, Bolivia is a location in the La Paz Department in Bolivia. It is the seat of the Palca Municipality, the first municipal section of the Pedro Domingo Murillo Province.',\n",
       " 1066: 'Corsept is a commune in the Loire-Atlantique department in western France. It is believed that the name comes the Latin \"Corpus Septimum\" because it was the seventh parish on the banks of the Loire under the patronage of St. Martin. Corsept is also the site of a number of Celtic dolmens and menhirs. Since 2000, Corsept has attracted music fans from around the world to the Couvre Feu music festival. In 2015, the festival organizers announced their intention to look for a new site for the festival citing scheduling conflicts. The current mayor of Corsept has expressed an interest in resettling refugees in the commune, however appropriate housing will not be available until 2017.',\n",
       " 1067: 'San Pedro de Buena Vista is a small town in Bolivia.',\n",
       " 1069: 'Buffalo City Hall is the seat for municipal government in the City of Buffalo, New York. Located at 65 Niagara Square, the 32 story Art Deco building was completed in 1931 by Dietel, Wade & Jones. At 378 ft (115.2 m) height or 398 feet (121.3 m) from the street to the tip of the tower, it is one of the largest and tallest municipal buildings in the United States of America and is also one of the tallest buildings in Western New York. The design was by John Wade, chief architect, with the assistance of George Dietel. The friezes were sculpted by Albert Stewart and the sculpture executed by Rene Paul Chambellan. It was listed on the National Register of Historic Places in 1999.',\n",
       " 1070: 'Huachacalla is a small town in the Litoral Province of the Oruro Department in Bolivia. It is the seat of the Huachacalla Municipality.',\n",
       " 1071: \"Cenate Sopra is a comune (municipality) in the Province of Bergamo in the Italian region of Lombardy, located about 60 kilometres (37 mi) northeast of Milan and about 12 kilometres (7.5 mi) east of Bergamo. As of 31 December 2004, it had a population of 2,248 and an area of 6.9 square kilometres (2.7 sq mi). The municipality of Cenate Sopra contains the frazioni (subdivisions, mainly villages and hamlets) Sant'Ambrogio, Valpredina, and Piazze. Cenate Sopra borders the following municipalities: Albino, Cenate Sotto, Pradalunga, Scanzorosciate, Trescore Balneario.\",\n",
       " 1072: 'Abbaretz (Abarrez in Breton) is a French commune in the Loire-Atlantique department in the Pays de la Loire region of western France. The inhabitants of the commune are known as Abbarois or Abbaroises.',\n",
       " 1073: 'Carabanchel is a district in the south western suburbs of Madrid, Spain.',\n",
       " 1074: 'Buffalo Girls is a 1995 television film adapted from the 1990 novel of the same name by Larry McMurtry. Directed by Rod Hardy, the film starred Anjelica Huston and Melanie Griffith, with Gabriel Byrne and Peter Coyote. It was nominated for two Golden Globe and several Emmy awards, and won one for sound mixing.',\n",
       " 1075: 'Huanchaco is a beachside town of Mochica origin and a popular vacation spot. It is the most visited beach of Trujillo in Peru. Situated 12 km northwest of the city in a bay, on a terrace at the foot of Campana mountain, Huanchaco is notable for its surf breaks and its caballitos de totora, and its ceviche. Huanchaco is near the ruin of Chan Chan. Huanchaco was approved as a World Surfing Reserve by the organization Save The Waves Coalition in 2012 This historic town is part of the tourist circuit called the \"Moche Route\" or \"Ruta Moche\". Today it is still a beautiful beach that, despite its modernity, still retains its old charm.',\n",
       " 1076: 'Buffalo Dance is an 1894 American 16-second black-and-white silent film shot in Thomas Edison\\'s Black Maria studio. The film was made at the same time as Edison\\'s Sioux Ghost Dance. It is one of the earliest films made featuring Native Americans. In this film, produced by William K. L. Dickson with William Heise as cinematographer, three Sioux warriors named Hair Coat, Parts His Hair and Last Horse dance in a circle and two other Native Americans sit behind them and accompany them with drums. According to the Edison catalog, the actors were \"genuine Sioux Indians, in full war paint and war costumes. \" They were also apparently veterans of Buffalo Bill Cody\\'s Wild West Show.',\n",
       " 1077: \"Flesh of My Flesh, Blood of My Blood is the second studio album by American rapper DMX. The album was released on December 22, 1998, a little more than seven months after his debut album It's Dark and Hell Is Hot. It entered the charts at number one (and stayed there for 3 consecutive weeks) with 670,000 units shipped in the first week. The album eventually went 3x Platinum in the US. He is the second rapper to have two albums released in the same calendar year debut at number one on Billboard's Top 200, the first being 2Pac with All Eyez on Me (February 1996) and The Don Killuminati: The 7 Day Theory (November 1996), although the latter album was released posthumously under the alias Makaveli making DMX the first to release two number one albums alive by the same name in under a year.\",\n",
       " 1078: 'Toledo (Oruro) is a small town in Bolivia.',\n",
       " 1079: 'The Chukchi Peninsula, Chukotka Peninsula, or Chukotski Peninsula (Russian: Чуко́тский полуо́стров, Russian: Чуко́тка), at about 66° N 172° W, is the eastmost peninsula of Asia. Its eastern end is at Cape Dezhnev near the village of Uelen. It is bordered by the Chukchi Sea to the north, the Bering Sea to the south, and the Bering Strait to the east. The peninsula is part of Chukotka Autonomous Okrug of Russia. The peninsula is traditionally the home of indigenous peoples of Siberia as well as some Russian settlers. The peninsula lies along the Northern Sea Route, or Northeast passage. It was said to be the location of the prison camp/lead mine where Cornelius Rost claimed to have been imprisoned, as described in the book \"As Far as My Feet Will Carry Me,\" by Josef Martin Bauer. However, the existence of such a camp at that time has been refuted. Industries on the peninsula are mining (tin, lead, zinc, gold, and coal), hunting and trapping, reindeer raising, and fishing. See also Providence Bay, Siberia.',\n",
       " 1080: 'Rijssen-Holten (About this sound pronunciation ) is a municipality (Dutch: gemeente) in the eastern Netherlands, in the province of Overijssel. The municipality was formed in 2001 by the joining of the municipalities of Holten and Rijssen. The area of Holten belongs to the region of Salland and the area of Rijssen to the region of Twente.',\n",
       " 1081: \"The Buffalo Germans was an early basketball team formed in 1895 at a YMCA on Buffalo's East Side. Team members included Dr. Fred Burkhardt (coach), Philip Dischinger, Henry J. Faust, Alfred A. Heerdt (captain), Edward Linneborn, John I. Maier, Albert W. Manweiler, Edward C. Miller, Harry J. Miller, Charles P. Monahan, George L. Redlein, Edmund Reimann, Williams C. Rhode and George Schell. Chuck Taylor claimed to play as a forward for the Germans as well as the Akron Firestones and the New York Celtics in industrial league basketball for 11 years between 1918 and 1930. There is no documentary evidence to support this contention. The team was elected to the Basketball Hall of Fame in 1961, and is now one of only ten teams to be elected as a whole. In 1904 the team won the AAU national tournament, which served as a demonstration sport at the St. Louis Olympics. From 1908 to 1910 the team won 111 straight games. The team was disbanded in 1925 after compiling a 792-86 record.\",\n",
       " 1082: 'Buffalo Hart Township may refer to one of the following townships in the United States:',\n",
       " 1083: 'Albas (Albàs in Occitan) is a commune in the Lot department in southwestern France.',\n",
       " 1084: \"Uchuraccay is a village in the Peruvian province of Huanta, Ayacucho Region. It is located 4,000 metres above sea level. The population as of the census of 1981 was 470 inhabitants. It was deserted in 1984 due to the Peruvian government's struggle against Sendero Luminoso but some families eventually returned.\",\n",
       " 1085: 'Bagneux is a commune in the Meurthe-et-Moselle department in northeastern France.',\n",
       " 1086: \"Buffalo City is a metropolitan municipality situated on the east coast of Eastern Cape Province, South Africa. It includes the towns of East London, Bhisho and King William's Town, as well as the large townships of Mdantsane and Zwelitsha. The municipality was established as a local municipality in 2000 after South Africa's reorganisation of municipal areas, and is named after the Buffalo River, at whose mouth lies the only river port in South Africa. On 18 May 2011 it was separated from the Amathole District Municipality and converted into a metropolitan municipality. The area has a well-developed manufacturing base, with the auto industry playing a major role. Daimler AG through its wholly owned subsidiary Mercedes-Benz South Africa (MBSA) has a large assembly plant located next to the port of East London, which produces a variety of vehicles for export. The climate is mild, with year-round sunshine. Average rainfall is 850mm (33.5 inches). The population of 701,873 (2001) is largely Black (85.2%), with White (8.4%) and Coloured (5.7%) minorities. There is also a small Indian community (0.6%). The previous mayor, Rev. Sindisile Maclean (ANC), was elected in 2000. History was made in Buffalo City when the City elected its first female mayor on Friday, 17 March 2006. Ntombentle Peter was voted in as Executive Mayor at the inaugural meeting of the new council following the municipal elections.\",\n",
       " 1087: 'La Rivera is a small town in Bolivia.',\n",
       " 1088: 'Flex-Able Leftovers was a limited edition 10\" vinyl EP by American composer and guitarist, Steve Vai. It was leftover material from the recordings done during the \"Flex-Able\" days (1982 to 1984) and originally released in 1984 (see 1984 in music).There were only two EP editions in 1984 :- The first issue (limited to 1000 copies) on Urantia Records.- The Second issue, with different artwork (limited to 1000 copies) on Akachic Records.',\n",
       " 1090: \"Flex-Able is an album by Steve Vai. This was his first as a solo artist, and was created in Stucco Blue, a shed converted into a studio in Vai's old back garden. It is very different from many of his other albums, and is largely influenced by Frank Zappa. Flex-Able does not rely as much on massive guitar arrangements and shred moments as the rest of his output from the 1990s onwards, with the exception of Leftovers which is a compilation of bonus tracks and remasters from his sessions at 'Stucco Blue'. The cover of the May 2009 issue of Guitar World features a photograph of Vai in a pose similar to the album's cover, including the bending guitar neck.\",\n",
       " 1092: 'Santiago de Machaca is a location in the La Paz Department in Bolivia. It is the seat of the Santiago de Machaca Municipality, the first municipal section of the José Manuel Pando Province, and it is also the seat of the province.',\n",
       " 1093: 'Iron is a commune in the Aisne department in Picardy in northern France.',\n",
       " 1094: 'Buffalo Point First Nation is an Ojibwa or Saulteaux band government located in southeastern corner of Manitoba, along the shores of Lake of the Woods. It is bordered largely by the unorganized portion of Division No. 1, Manitoba. It also has smaller borders with the Rural Municipality of Piney, as well as the northeast corner of Roseau County, Minnesota. The main settlement of Buffalo Point is located at 49°00′40″N95°14′20″W\\ufeff / \\ufeff49.01111°N 95.23889°W. Total registered population in September, 2007, was 110, of which the on-reserve Status population was 41. The first Nation is a member of the Southeast Resource Development Council. Though a signatory to Treaty 3, the First Nation is not a member of the Grand Council of Treaty 3.',\n",
       " 1095: 'San Antonio de Pichincha, or simply San Antonio and less frequently by the older name San Antonio de Lulumpamba (alternate spelling: Lulumbamba), is a rural parish of Quito Canton, Pichincha Province, Ecuador. The seat of the parish lies in an arid plain with sandy soil known as Lulumpamba. The Quechua language name of the plain means plain of fruit(s). It is southeast of Pululahua (Pululagua) Volcano and east of Casitagua Volcano. In the village there is also a Lulumpamba street named after the plain. In San Antonio there is a textile factory known as La Internacional. To the west of the village there is an ethnographic museum near the equator in a touristic place known as Ciudad Mitad del Mundo and which is owned by the Prefecture of Pichincha. There is also a go-karting place known as Cartódromo Dos Hemisferios. You can visited for more information',\n",
       " 1097: 'Buffalo Lake is a lake in the Northwest Territories, Canada.',\n",
       " 1098: 'Landouzy-la-Ville is a commune in the Aisne department in Picardy in northern France.',\n",
       " 1099: 'The Buffalo Norsemen played in the old North American Hockey League (NAHL) during the 1975–76 season, playing their home games in North Tonawanda, New York, a suburb of Buffalo 12 miles to the north, at the Tonawanda Sports Center, a now-defunct ice rink that currently houses an indoor soccer field. An incident at a Norsemen playoff game that season was portrayed in the movie Slap Shot. A regular season game in the film between the Charlestown Chiefs and the Peterboro Patriots is based on a real game between the Norsemen and the Johnstown Jets, the team that the Charlestown Chiefs were based on, during the NAHL playoffs. In the film, the Hanson Brothers start a brawl with the Bulldogs during the pre-game skate. The real-life incident occurred in Johnstown with the Jets leading the playoff series 3 games to 2. Steve, Jeff and Jack Carlson, three brothers who Slapshot\\'s Hanson brothers were based on, started a brawl with the Norsemen during the pre-game skate in retaliation for Norsemen fans bigoted actions towards an African-American player on the Johnstown roster at the previous three games in the series, which had been played in North Tonawanda. In an ugly incident, a number of Norsemen fans had hurled racial epithets at the player, and some held up derogatory signs, including one stating that blacks should be playing basketball, not hockey. After the brawl in Johnstown had been broken up by the officials, the Norsemen players and coaches returned to the dressing room and refused to come out to start the game. According to the Johnstown Jets\\' Dave Hanson, who the Slap Shot character of Dave \"Killer\" Carlson was based on, \"they (the Norsemen) skated off the ice and went into the locker room and refused to come out to play the game, and we won the game and the series by forfeit.\" In an interesting twist of fate, in 1978 the NHL\\'s Buffalo Sabres drafted a black player, Tony McKegney, who became the first black player to make a major impact in the NHL. McKegney, who was quite popular with Sabres fans, played his home games in front of many of the same fans who had attended Buffalo Norsemen games.',\n",
       " 1100: 'Viacha is a city in Bolivia, situated in the Ingavi Province in the La Paz Department. Viacha lies in the Altiplano, 22 km. Southwest of La Paz. Transportation to and from the city includes cars, buses, and a train.',\n",
       " 1101: 'Filain is a commune in the Aisne department in Picardy in northern France.',\n",
       " 1102: 'The Buffalo River, a perennial river of the North-East Murray catchment of the Murray-Darling basin, is located in the alpine region of Victoria, Australia. It flows from the eastern slopes of the Buffalo Range in the Australian Alps, joining with the Ovens River west of Myrtleford.',\n",
       " 1103: 'Saint-Frézal-de-Ventalon is a former commune in the Lozère department in southern France. On 1 January 2016, it was merged into the new commune of Ventalon-en-Cévennes.',\n",
       " 1104: 'Jakob Graf und Edler Herr von und zu Eltz-Kempenich genannt Faust von Stromberg, also referred to as Johann Jakob Eltz (Croatian: Jakov grof Eltz-Vukovarski) (September 22, 1921 – February 10, 2006) was a Knight of Malta, and a Croatian politician who became a key figure in Croatian politics during the 1990s. In Croatia, he is often styled as the count of Vukovar (vukovarski grof). He was President of the Association of Winemakers in Rheingau from 1964 to 1976. Jakob von und zu Eltz is the maternal grandfather of Karl-Theodor zu Guttenberg, a former German Minister of Defence.',\n",
       " 1105: 'Huacho ([ˈwatʃo]) is a city in Peru, capital of the Huaura Province and capital of the Lima Region. It is located 223 feet (67 metres) above sea level and 148 km north of the city of Lima. The city is located on the Pan-American Highway, and close to the Lomas de Lachay National Park so it has extensive vegetation and wildlife.',\n",
       " 1107: \"L'Escarène is an ancient commune in the Alpes-Maritimes department in southeastern France. It was part of the historic County of Nice until 1860, named Scarena. It was a main stop along the Route de Sel during the 14th, 15th and 16th centuries, between French Provence and Italian Piedmont, on the Nice-Turin road. It was built in the bottom of the valley of Spangle of Escarène at the confluence of the streams of Redebraus and Paillon. More than half of its territory is made up of pine and oak, with marked trails for easy walks and hikes.\",\n",
       " 1108: 'Mechtildis was Benedictine abbess and renowned miracle worker. Mechtildis was the daughter of Count Berthold of Andechs, whose wife, Sophie, founded a monastery on their estate at Diessen, Bavaria, and placed their daughter there at the age of five. In 1153, the Bishop of Augsburg placed her as Abbess of Edelstetten Abbey. Mechtildis was known for her mystical gifts and miracles. She would later die at Diessen, Germany, on 31 May 1160.',\n",
       " 1109: 'San Lorenzo (or: Villa San Lorenzo) is a town in the Tarija Department in Bolivia.',\n",
       " 1110: \"The Buffalo is a wheeled mine resistant ambush protected (MRAP) armored military vehicle built by Force Protection, Inc., division of General Dynamics. It is the largest vehicle in Force Protection's line-up, followed by the MRAP Cougar and the Ocelot light protected patrol vehicle (LPPV).\",\n",
       " 1111: 'János Fliszár (Slovene: Janoš Flisar) (June 21, 1856 – June 21, 1947) was a Hungarian Slovenian translator, poet, writer, journalist and teacher. He was born in the village of Šalamenci (Salamon before 1919) in the Prekmurje region of the Kingdom of Hungary, his parents Miklós Fliszár and Ilona Zsibrik. From 1862 studied in the elementary school of Puconci, and later in Nemescsó near Kőszeg. Until 1868 studied in the Evangelic Lyceum of Sopron,completing the studies there in June 1875. From October of the same year he worked as teacher in Križevci. Here he married to daughter of the writer János Berke in 1878 (she died in 1905). In 1911 he retired and worked in Murska Sobota on the Bank of the Mura March. Until 1923 he worked as the director of the Dormitory of Murska Sobota. Fliszár wrote some poetry and translated the great Hungarian literary figures (János Arany, Kálmán Mikszáth, Sándor Petőfi, Mór Jókai, etc.). The translation was published in the United States of America, in the newspaper Amerikanszki Szlovencov glász, issued by the Hungarian Slovenian and Prekmurian immigrants to the USA: After the World War I, Fliszár lived in Yugoslavia, and supported radical Hungarian irredentism. He wrote the Wends-Hungarian and Hungarian-Wends Dictionary, what includes 50 thousand words.',\n",
       " 1112: 'The Buffalo River (Zulu: uMzinyathi; Afrikaans: Buffelsrivier) is the largest tributary of the Tugela River in South Africa. Its source is in Majuba Hill, \"Hill of Doves\" in Zulu language, located northeast of Volksrust, close to the Mpumalanga / KwaZulu-Natal border. It follows a southerly route into KwaZulu-Natal past Newcastle then turns southeast past Rorke\\'s Drift, before joining the Tugela River at Ngubevu near Nkandla. During the nineteenth century it formed part of the boundary between the Colony of Natal and Zululand. The Buffalo River has a number of tributaries, including the Ingagani from the SW and the Blood River from the NE, which it joins near Kandi Mountain. Rorke\\'s Drift is a ford across the Buffalo River which is one of the famous places of the 1878-79 Anglo-Zulu War and Isandhlwana is another important place of that war located about 20 km SE of the river, not far from the confluence with the Tugela.',\n",
       " 1113: 'Mézel is a commune in the Alpes-de-Haute-Provence department in southeastern France.',\n",
       " 1114: 'The Buffalo River (Xhosa: Cwenqgcwe; Afrikaans: Buffelsrivier) is situated in the city of East London on the East Coast of South Africa. It is to the west of the Nahoon River. It is the only navigable river in South Africa. The town of East London was thus established around it.',\n",
       " 1115: 'Guaqui is a railhead and port in Bolivia on Lake Titicaca. A ferry (a car float) connects with the Peruvian railhead and port on Puno.',\n",
       " 1118: 'Floored is the second studio album by American rock band Sugar Ray, released on June 24, 1997. It includes the hit song \"Fly\", and another moderately successful single, \"RPM\". Two versions of \"Fly\" are found on the album, one of them featuring reggae artist Super Cat.',\n",
       " 1119: 'Aboën is a commune in the Loire department in central France.',\n",
       " 1120: 'Totora (Oruro) is a small town in Bolivia.',\n",
       " 1122: 'Flogging a Dead Horse is a compilation album of singles by the Sex Pistols, released after their break-up, and includes the four songs issued as singles A-sides that were included on Never Mind the Bollocks, Here\\'s the Sex Pistols, three of their B-sides, and the six A-sides taken from The Great Rock \\'n\\' Roll Swindle and one B-side, \"My Way\". By the time the record was released, the group was finished as a musical unit: the \"Sex Pistols\" consisted only of manager Malcolm McLaren and designer Jamie Reid. Their relationship with Virgin records was difficult, and Reid\\'s tacky sleeve design was intended to warn people against another cash-in; it was largely interpreted as a hip joke, and seems to have hurt sales very little. Reid\\'s first sleeve design consisted of the title hastily scrawled across his designs for the Never Mind the Bollocks (front cover) and The Great Rock \\'n\\' Roll Swindle albums (back cover). It was printed, and copies exist, but was rejected by Virgin and never made it to record stores. For its replacement, Reid used a photo of a model from the cheapest agency he could find, along with dull letraset lettering, making the record look like a cheap easy listening album. The back cover featured a fake plastic dog turd on top of a gold disc of the Never Mind the Bollocks LP, a reference to a scene in the film The Great Rock \\'n\\' Roll Swindle in which Steve Jones defecates on the gold disc awarded to Johnny Rotten for Never Mind The Bollocks. The album was released without the band\\'s involvement or permission. The title has several ironic meanings: the idiomatic one of the saying \"Flogging a Dead Horse\" reflecting the fact that the Pistols\\' endeavours were now finished, futile and pointless; and the British slang use of \\'flogging\\' to mean \\'selling\\' - i.e. the Pistols\\' management, in true punk style, were overtly referencing that they were trying to get as much money for as little effort as possible from the album\\'s sales.',\n",
       " 1123: 'El Torno (Santa Cruz) is a town in Bolivia. In 2010 it had an estimated population of 21,294.',\n",
       " ...}"
      ]
     },
     "execution_count": 2,
     "metadata": {},
     "output_type": "execute_result"
    }
   ],
   "source": [
    "wiki_sents = {int(k) : v for k, v in wiki_sents.items()}\n",
    "wiki_chunks = {k : \" \".join(v) for k, v in wiki_sents.items()}  # https://arxiv.org/abs/2109.08133\n",
    "wiki_chunks"
   ]
  },
  {
   "cell_type": "code",
   "execution_count": 3,
   "metadata": {},
   "outputs": [
    {
     "name": "stderr",
     "output_type": "stream",
     "text": [
      "/mnt/ssd-2/spar/alexm/miniconda3/envs/dlkb/lib/python3.10/site-packages/tqdm/auto.py:21: TqdmWarning: IProgress not found. Please update jupyter and ipywidgets. See https://ipywidgets.readthedocs.io/en/stable/user_install.html\n",
      "  from .autonotebook import tqdm as notebook_tqdm\n"
     ]
    }
   ],
   "source": [
    "from transformers import AutoTokenizer, AutoModel\n",
    "import torch\n",
    "\n",
    "model_name = 'BAAI/bge-small-en'\n",
    "device = \"cuda\"\n",
    "\n",
    "# Load model from HuggingFace Hub\n",
    "tokenizer = AutoTokenizer.from_pretrained(model_name)\n",
    "model = AutoModel.from_pretrained(model_name).to(device)"
   ]
  },
  {
   "cell_type": "code",
   "execution_count": 24,
   "metadata": {},
   "outputs": [
    {
     "name": "stderr",
     "output_type": "stream",
     "text": [
      "  0%|          | 0/3349 [00:00<?, ?it/s]"
     ]
    },
    {
     "name": "stderr",
     "output_type": "stream",
     "text": [
      "  0%|          | 1/3349 [00:07<6:58:29,  7.50s/it]"
     ]
    },
    {
     "name": "stdout",
     "output_type": "stream",
     "text": [
      "Saved embeddings for 0 sentences out of 3348807\n"
     ]
    },
    {
     "name": "stderr",
     "output_type": "stream",
     "text": [
      "  0%|          | 11/3349 [00:50<4:32:30,  4.90s/it]"
     ]
    },
    {
     "name": "stdout",
     "output_type": "stream",
     "text": [
      "Saved embeddings for 10000 sentences out of 3348807\n"
     ]
    },
    {
     "name": "stderr",
     "output_type": "stream",
     "text": [
      "  1%|          | 21/3349 [01:32<4:22:59,  4.74s/it]"
     ]
    },
    {
     "name": "stdout",
     "output_type": "stream",
     "text": [
      "Saved embeddings for 20000 sentences out of 3348807\n"
     ]
    },
    {
     "name": "stderr",
     "output_type": "stream",
     "text": [
      "  1%|          | 31/3349 [02:14<4:22:02,  4.74s/it]"
     ]
    },
    {
     "name": "stdout",
     "output_type": "stream",
     "text": [
      "Saved embeddings for 30000 sentences out of 3348807\n"
     ]
    },
    {
     "name": "stderr",
     "output_type": "stream",
     "text": [
      "  1%|          | 41/3349 [02:56<4:22:30,  4.76s/it]"
     ]
    },
    {
     "name": "stdout",
     "output_type": "stream",
     "text": [
      "Saved embeddings for 40000 sentences out of 3348807\n"
     ]
    },
    {
     "name": "stderr",
     "output_type": "stream",
     "text": [
      "  2%|▏         | 51/3349 [03:39<4:25:25,  4.83s/it]"
     ]
    },
    {
     "name": "stdout",
     "output_type": "stream",
     "text": [
      "Saved embeddings for 50000 sentences out of 3348807\n"
     ]
    },
    {
     "name": "stderr",
     "output_type": "stream",
     "text": [
      "  2%|▏         | 61/3349 [04:21<4:25:38,  4.85s/it]"
     ]
    },
    {
     "name": "stdout",
     "output_type": "stream",
     "text": [
      "Saved embeddings for 60000 sentences out of 3348807\n"
     ]
    },
    {
     "name": "stderr",
     "output_type": "stream",
     "text": [
      "  2%|▏         | 71/3349 [05:04<4:19:35,  4.75s/it]"
     ]
    },
    {
     "name": "stdout",
     "output_type": "stream",
     "text": [
      "Saved embeddings for 70000 sentences out of 3348807\n"
     ]
    },
    {
     "name": "stderr",
     "output_type": "stream",
     "text": [
      "  2%|▏         | 81/3349 [05:46<4:19:09,  4.76s/it]"
     ]
    },
    {
     "name": "stdout",
     "output_type": "stream",
     "text": [
      "Saved embeddings for 80000 sentences out of 3348807\n"
     ]
    },
    {
     "name": "stderr",
     "output_type": "stream",
     "text": [
      "  3%|▎         | 91/3349 [06:29<4:33:20,  5.03s/it]"
     ]
    },
    {
     "name": "stdout",
     "output_type": "stream",
     "text": [
      "Saved embeddings for 90000 sentences out of 3348807\n"
     ]
    },
    {
     "name": "stderr",
     "output_type": "stream",
     "text": [
      "  3%|▎         | 101/3349 [07:12<4:20:34,  4.81s/it]"
     ]
    },
    {
     "name": "stdout",
     "output_type": "stream",
     "text": [
      "Saved embeddings for 100000 sentences out of 3348807\n"
     ]
    },
    {
     "name": "stderr",
     "output_type": "stream",
     "text": [
      "  3%|▎         | 111/3349 [07:54<4:19:07,  4.80s/it]"
     ]
    },
    {
     "name": "stdout",
     "output_type": "stream",
     "text": [
      "Saved embeddings for 110000 sentences out of 3348807\n"
     ]
    },
    {
     "name": "stderr",
     "output_type": "stream",
     "text": [
      "  4%|▎         | 121/3349 [08:37<4:17:59,  4.80s/it]"
     ]
    },
    {
     "name": "stdout",
     "output_type": "stream",
     "text": [
      "Saved embeddings for 120000 sentences out of 3348807\n"
     ]
    },
    {
     "name": "stderr",
     "output_type": "stream",
     "text": [
      "  4%|▍         | 131/3349 [09:20<4:39:23,  5.21s/it]"
     ]
    },
    {
     "name": "stdout",
     "output_type": "stream",
     "text": [
      "Saved embeddings for 130000 sentences out of 3348807\n"
     ]
    },
    {
     "name": "stderr",
     "output_type": "stream",
     "text": [
      "  4%|▍         | 141/3349 [10:03<4:16:11,  4.79s/it]"
     ]
    },
    {
     "name": "stdout",
     "output_type": "stream",
     "text": [
      "Saved embeddings for 140000 sentences out of 3348807\n"
     ]
    },
    {
     "name": "stderr",
     "output_type": "stream",
     "text": [
      "  5%|▍         | 151/3349 [10:45<4:16:02,  4.80s/it]"
     ]
    },
    {
     "name": "stdout",
     "output_type": "stream",
     "text": [
      "Saved embeddings for 150000 sentences out of 3348807\n"
     ]
    },
    {
     "name": "stderr",
     "output_type": "stream",
     "text": [
      "  5%|▍         | 161/3349 [11:28<4:15:42,  4.81s/it]"
     ]
    },
    {
     "name": "stdout",
     "output_type": "stream",
     "text": [
      "Saved embeddings for 160000 sentences out of 3348807\n"
     ]
    },
    {
     "name": "stderr",
     "output_type": "stream",
     "text": [
      "  5%|▌         | 171/3349 [12:10<4:14:08,  4.80s/it]"
     ]
    },
    {
     "name": "stdout",
     "output_type": "stream",
     "text": [
      "Saved embeddings for 170000 sentences out of 3348807\n"
     ]
    },
    {
     "name": "stderr",
     "output_type": "stream",
     "text": [
      "  5%|▌         | 181/3349 [12:55<4:16:26,  4.86s/it]"
     ]
    },
    {
     "name": "stdout",
     "output_type": "stream",
     "text": [
      "Saved embeddings for 180000 sentences out of 3348807\n"
     ]
    },
    {
     "name": "stderr",
     "output_type": "stream",
     "text": [
      "  6%|▌         | 191/3349 [13:37<4:15:32,  4.86s/it]"
     ]
    },
    {
     "name": "stdout",
     "output_type": "stream",
     "text": [
      "Saved embeddings for 190000 sentences out of 3348807\n"
     ]
    },
    {
     "name": "stderr",
     "output_type": "stream",
     "text": [
      "  6%|▌         | 201/3349 [14:20<4:14:06,  4.84s/it]"
     ]
    },
    {
     "name": "stdout",
     "output_type": "stream",
     "text": [
      "Saved embeddings for 200000 sentences out of 3348807\n"
     ]
    },
    {
     "name": "stderr",
     "output_type": "stream",
     "text": [
      "  6%|▋         | 211/3349 [15:02<4:15:25,  4.88s/it]"
     ]
    },
    {
     "name": "stdout",
     "output_type": "stream",
     "text": [
      "Saved embeddings for 210000 sentences out of 3348807\n"
     ]
    },
    {
     "name": "stderr",
     "output_type": "stream",
     "text": [
      "  7%|▋         | 221/3349 [15:45<4:11:44,  4.83s/it]"
     ]
    },
    {
     "name": "stdout",
     "output_type": "stream",
     "text": [
      "Saved embeddings for 220000 sentences out of 3348807\n"
     ]
    },
    {
     "name": "stderr",
     "output_type": "stream",
     "text": [
      "  7%|▋         | 231/3349 [16:28<4:15:20,  4.91s/it]"
     ]
    },
    {
     "name": "stdout",
     "output_type": "stream",
     "text": [
      "Saved embeddings for 230000 sentences out of 3348807\n"
     ]
    },
    {
     "name": "stderr",
     "output_type": "stream",
     "text": [
      "  7%|▋         | 241/3349 [17:37<6:08:37,  7.12s/it]"
     ]
    },
    {
     "name": "stdout",
     "output_type": "stream",
     "text": [
      "Saved embeddings for 240000 sentences out of 3348807\n"
     ]
    },
    {
     "name": "stderr",
     "output_type": "stream",
     "text": [
      "  7%|▋         | 251/3349 [18:53<6:58:25,  8.10s/it]"
     ]
    },
    {
     "name": "stdout",
     "output_type": "stream",
     "text": [
      "Saved embeddings for 250000 sentences out of 3348807\n"
     ]
    },
    {
     "name": "stderr",
     "output_type": "stream",
     "text": [
      "  8%|▊         | 261/3349 [20:09<7:16:29,  8.48s/it]"
     ]
    },
    {
     "name": "stdout",
     "output_type": "stream",
     "text": [
      "Saved embeddings for 260000 sentences out of 3348807\n"
     ]
    },
    {
     "name": "stderr",
     "output_type": "stream",
     "text": [
      "  8%|▊         | 271/3349 [21:22<6:23:26,  7.47s/it]"
     ]
    },
    {
     "name": "stdout",
     "output_type": "stream",
     "text": [
      "Saved embeddings for 270000 sentences out of 3348807\n"
     ]
    },
    {
     "name": "stderr",
     "output_type": "stream",
     "text": [
      "  8%|▊         | 281/3349 [22:38<6:58:47,  8.19s/it]"
     ]
    },
    {
     "name": "stdout",
     "output_type": "stream",
     "text": [
      "Saved embeddings for 280000 sentences out of 3348807\n"
     ]
    },
    {
     "name": "stderr",
     "output_type": "stream",
     "text": [
      "  9%|▊         | 291/3349 [23:55<7:15:10,  8.54s/it]"
     ]
    },
    {
     "name": "stdout",
     "output_type": "stream",
     "text": [
      "Saved embeddings for 290000 sentences out of 3348807\n"
     ]
    },
    {
     "name": "stderr",
     "output_type": "stream",
     "text": [
      "  9%|▉         | 301/3349 [25:05<6:17:51,  7.44s/it]"
     ]
    },
    {
     "name": "stdout",
     "output_type": "stream",
     "text": [
      "Saved embeddings for 300000 sentences out of 3348807\n"
     ]
    },
    {
     "name": "stderr",
     "output_type": "stream",
     "text": [
      "  9%|▉         | 311/3349 [26:21<6:47:39,  8.05s/it]"
     ]
    },
    {
     "name": "stdout",
     "output_type": "stream",
     "text": [
      "Saved embeddings for 310000 sentences out of 3348807\n"
     ]
    },
    {
     "name": "stderr",
     "output_type": "stream",
     "text": [
      " 10%|▉         | 321/3349 [27:37<7:07:06,  8.46s/it]"
     ]
    },
    {
     "name": "stdout",
     "output_type": "stream",
     "text": [
      "Saved embeddings for 320000 sentences out of 3348807\n"
     ]
    },
    {
     "name": "stderr",
     "output_type": "stream",
     "text": [
      " 10%|▉         | 331/3349 [28:50<6:28:06,  7.72s/it]"
     ]
    },
    {
     "name": "stdout",
     "output_type": "stream",
     "text": [
      "Saved embeddings for 330000 sentences out of 3348807\n"
     ]
    },
    {
     "name": "stderr",
     "output_type": "stream",
     "text": [
      " 10%|█         | 341/3349 [30:06<6:47:32,  8.13s/it]"
     ]
    },
    {
     "name": "stdout",
     "output_type": "stream",
     "text": [
      "Saved embeddings for 340000 sentences out of 3348807\n"
     ]
    },
    {
     "name": "stderr",
     "output_type": "stream",
     "text": [
      " 10%|█         | 351/3349 [31:23<7:04:51,  8.50s/it]"
     ]
    },
    {
     "name": "stdout",
     "output_type": "stream",
     "text": [
      "Saved embeddings for 350000 sentences out of 3348807\n"
     ]
    },
    {
     "name": "stderr",
     "output_type": "stream",
     "text": [
      " 11%|█         | 361/3349 [32:36<6:22:48,  7.69s/it]"
     ]
    },
    {
     "name": "stdout",
     "output_type": "stream",
     "text": [
      "Saved embeddings for 360000 sentences out of 3348807\n"
     ]
    },
    {
     "name": "stderr",
     "output_type": "stream",
     "text": [
      " 11%|█         | 371/3349 [33:52<6:39:05,  8.04s/it]"
     ]
    },
    {
     "name": "stdout",
     "output_type": "stream",
     "text": [
      "Saved embeddings for 370000 sentences out of 3348807\n"
     ]
    },
    {
     "name": "stderr",
     "output_type": "stream",
     "text": [
      " 11%|█▏        | 381/3349 [35:08<7:00:41,  8.50s/it]"
     ]
    },
    {
     "name": "stdout",
     "output_type": "stream",
     "text": [
      "Saved embeddings for 380000 sentences out of 3348807\n"
     ]
    },
    {
     "name": "stderr",
     "output_type": "stream",
     "text": [
      " 12%|█▏        | 391/3349 [36:23<6:12:11,  7.55s/it]"
     ]
    },
    {
     "name": "stdout",
     "output_type": "stream",
     "text": [
      "Saved embeddings for 390000 sentences out of 3348807\n"
     ]
    },
    {
     "name": "stderr",
     "output_type": "stream",
     "text": [
      " 12%|█▏        | 401/3349 [37:39<6:42:08,  8.18s/it]"
     ]
    },
    {
     "name": "stdout",
     "output_type": "stream",
     "text": [
      "Saved embeddings for 400000 sentences out of 3348807\n"
     ]
    },
    {
     "name": "stderr",
     "output_type": "stream",
     "text": [
      " 12%|█▏        | 411/3349 [38:56<6:56:15,  8.50s/it]"
     ]
    },
    {
     "name": "stdout",
     "output_type": "stream",
     "text": [
      "Saved embeddings for 410000 sentences out of 3348807\n"
     ]
    },
    {
     "name": "stderr",
     "output_type": "stream",
     "text": [
      " 13%|█▎        | 421/3349 [39:40<4:03:55,  5.00s/it]"
     ]
    },
    {
     "name": "stdout",
     "output_type": "stream",
     "text": [
      "Saved embeddings for 420000 sentences out of 3348807\n"
     ]
    },
    {
     "name": "stderr",
     "output_type": "stream",
     "text": [
      " 13%|█▎        | 431/3349 [40:23<3:57:10,  4.88s/it]"
     ]
    },
    {
     "name": "stdout",
     "output_type": "stream",
     "text": [
      "Saved embeddings for 430000 sentences out of 3348807\n"
     ]
    },
    {
     "name": "stderr",
     "output_type": "stream",
     "text": [
      " 13%|█▎        | 441/3349 [41:05<3:56:29,  4.88s/it]"
     ]
    },
    {
     "name": "stdout",
     "output_type": "stream",
     "text": [
      "Saved embeddings for 440000 sentences out of 3348807\n"
     ]
    },
    {
     "name": "stderr",
     "output_type": "stream",
     "text": [
      " 13%|█▎        | 451/3349 [41:47<3:47:57,  4.72s/it]"
     ]
    },
    {
     "name": "stdout",
     "output_type": "stream",
     "text": [
      "Saved embeddings for 450000 sentences out of 3348807\n"
     ]
    },
    {
     "name": "stderr",
     "output_type": "stream",
     "text": [
      " 14%|█▍        | 461/3349 [42:30<3:54:56,  4.88s/it]"
     ]
    },
    {
     "name": "stdout",
     "output_type": "stream",
     "text": [
      "Saved embeddings for 460000 sentences out of 3348807\n"
     ]
    },
    {
     "name": "stderr",
     "output_type": "stream",
     "text": [
      " 14%|█▍        | 471/3349 [43:13<3:54:31,  4.89s/it]"
     ]
    },
    {
     "name": "stdout",
     "output_type": "stream",
     "text": [
      "Saved embeddings for 470000 sentences out of 3348807\n"
     ]
    },
    {
     "name": "stderr",
     "output_type": "stream",
     "text": [
      " 14%|█▍        | 481/3349 [43:55<3:49:45,  4.81s/it]"
     ]
    },
    {
     "name": "stdout",
     "output_type": "stream",
     "text": [
      "Saved embeddings for 480000 sentences out of 3348807\n"
     ]
    },
    {
     "name": "stderr",
     "output_type": "stream",
     "text": [
      " 15%|█▍        | 491/3349 [44:38<3:52:57,  4.89s/it]"
     ]
    },
    {
     "name": "stdout",
     "output_type": "stream",
     "text": [
      "Saved embeddings for 490000 sentences out of 3348807\n"
     ]
    },
    {
     "name": "stderr",
     "output_type": "stream",
     "text": [
      " 15%|█▍        | 501/3349 [45:20<3:51:08,  4.87s/it]"
     ]
    },
    {
     "name": "stdout",
     "output_type": "stream",
     "text": [
      "Saved embeddings for 500000 sentences out of 3348807\n"
     ]
    },
    {
     "name": "stderr",
     "output_type": "stream",
     "text": [
      " 15%|█▌        | 511/3349 [46:03<3:50:38,  4.88s/it]"
     ]
    },
    {
     "name": "stdout",
     "output_type": "stream",
     "text": [
      "Saved embeddings for 510000 sentences out of 3348807\n"
     ]
    },
    {
     "name": "stderr",
     "output_type": "stream",
     "text": [
      " 16%|█▌        | 521/3349 [46:46<4:04:04,  5.18s/it]"
     ]
    },
    {
     "name": "stdout",
     "output_type": "stream",
     "text": [
      "Saved embeddings for 520000 sentences out of 3348807\n"
     ]
    },
    {
     "name": "stderr",
     "output_type": "stream",
     "text": [
      " 16%|█▌        | 531/3349 [47:29<3:47:28,  4.84s/it]"
     ]
    },
    {
     "name": "stdout",
     "output_type": "stream",
     "text": [
      "Saved embeddings for 530000 sentences out of 3348807\n"
     ]
    },
    {
     "name": "stderr",
     "output_type": "stream",
     "text": [
      " 16%|█▌        | 541/3349 [48:11<3:47:49,  4.87s/it]"
     ]
    },
    {
     "name": "stdout",
     "output_type": "stream",
     "text": [
      "Saved embeddings for 540000 sentences out of 3348807\n"
     ]
    },
    {
     "name": "stderr",
     "output_type": "stream",
     "text": [
      " 16%|█▋        | 551/3349 [48:54<3:53:26,  5.01s/it]"
     ]
    },
    {
     "name": "stdout",
     "output_type": "stream",
     "text": [
      "Saved embeddings for 550000 sentences out of 3348807\n"
     ]
    },
    {
     "name": "stderr",
     "output_type": "stream",
     "text": [
      " 17%|█▋        | 561/3349 [49:37<3:53:20,  5.02s/it]"
     ]
    },
    {
     "name": "stdout",
     "output_type": "stream",
     "text": [
      "Saved embeddings for 560000 sentences out of 3348807\n"
     ]
    },
    {
     "name": "stderr",
     "output_type": "stream",
     "text": [
      " 17%|█▋        | 571/3349 [50:21<3:51:45,  5.01s/it]"
     ]
    },
    {
     "name": "stdout",
     "output_type": "stream",
     "text": [
      "Saved embeddings for 570000 sentences out of 3348807\n"
     ]
    },
    {
     "name": "stderr",
     "output_type": "stream",
     "text": [
      " 17%|█▋        | 581/3349 [51:03<3:45:29,  4.89s/it]"
     ]
    },
    {
     "name": "stdout",
     "output_type": "stream",
     "text": [
      "Saved embeddings for 580000 sentences out of 3348807\n"
     ]
    },
    {
     "name": "stderr",
     "output_type": "stream",
     "text": [
      " 18%|█▊        | 591/3349 [51:46<3:44:49,  4.89s/it]"
     ]
    },
    {
     "name": "stdout",
     "output_type": "stream",
     "text": [
      "Saved embeddings for 590000 sentences out of 3348807\n"
     ]
    },
    {
     "name": "stderr",
     "output_type": "stream",
     "text": [
      " 18%|█▊        | 601/3349 [52:32<3:45:44,  4.93s/it]"
     ]
    },
    {
     "name": "stdout",
     "output_type": "stream",
     "text": [
      "Saved embeddings for 600000 sentences out of 3348807\n"
     ]
    },
    {
     "name": "stderr",
     "output_type": "stream",
     "text": [
      " 18%|█▊        | 611/3349 [53:16<3:56:32,  5.18s/it]"
     ]
    },
    {
     "name": "stdout",
     "output_type": "stream",
     "text": [
      "Saved embeddings for 610000 sentences out of 3348807\n"
     ]
    },
    {
     "name": "stderr",
     "output_type": "stream",
     "text": [
      " 19%|█▊        | 621/3349 [53:59<3:42:37,  4.90s/it]"
     ]
    },
    {
     "name": "stdout",
     "output_type": "stream",
     "text": [
      "Saved embeddings for 620000 sentences out of 3348807\n"
     ]
    },
    {
     "name": "stderr",
     "output_type": "stream",
     "text": [
      " 19%|█▉        | 631/3349 [54:41<3:41:21,  4.89s/it]"
     ]
    },
    {
     "name": "stdout",
     "output_type": "stream",
     "text": [
      "Saved embeddings for 630000 sentences out of 3348807\n"
     ]
    },
    {
     "name": "stderr",
     "output_type": "stream",
     "text": [
      " 19%|█▉        | 641/3349 [55:24<3:40:28,  4.89s/it]"
     ]
    },
    {
     "name": "stdout",
     "output_type": "stream",
     "text": [
      "Saved embeddings for 640000 sentences out of 3348807\n"
     ]
    },
    {
     "name": "stderr",
     "output_type": "stream",
     "text": [
      " 19%|█▉        | 651/3349 [56:07<3:45:43,  5.02s/it]"
     ]
    },
    {
     "name": "stdout",
     "output_type": "stream",
     "text": [
      "Saved embeddings for 650000 sentences out of 3348807\n"
     ]
    },
    {
     "name": "stderr",
     "output_type": "stream",
     "text": [
      " 20%|█▉        | 661/3349 [56:51<3:58:30,  5.32s/it]"
     ]
    },
    {
     "name": "stdout",
     "output_type": "stream",
     "text": [
      "Saved embeddings for 660000 sentences out of 3348807\n"
     ]
    },
    {
     "name": "stderr",
     "output_type": "stream",
     "text": [
      " 20%|██        | 671/3349 [57:34<3:37:26,  4.87s/it]"
     ]
    },
    {
     "name": "stdout",
     "output_type": "stream",
     "text": [
      "Saved embeddings for 670000 sentences out of 3348807\n"
     ]
    },
    {
     "name": "stderr",
     "output_type": "stream",
     "text": [
      " 20%|██        | 681/3349 [58:16<3:37:02,  4.88s/it]"
     ]
    },
    {
     "name": "stdout",
     "output_type": "stream",
     "text": [
      "Saved embeddings for 680000 sentences out of 3348807\n"
     ]
    },
    {
     "name": "stderr",
     "output_type": "stream",
     "text": [
      " 21%|██        | 691/3349 [58:59<3:37:21,  4.91s/it]"
     ]
    },
    {
     "name": "stdout",
     "output_type": "stream",
     "text": [
      "Saved embeddings for 690000 sentences out of 3348807\n"
     ]
    },
    {
     "name": "stderr",
     "output_type": "stream",
     "text": [
      " 21%|██        | 701/3349 [59:43<3:52:19,  5.26s/it]"
     ]
    },
    {
     "name": "stdout",
     "output_type": "stream",
     "text": [
      "Saved embeddings for 700000 sentences out of 3348807\n"
     ]
    },
    {
     "name": "stderr",
     "output_type": "stream",
     "text": [
      " 21%|██        | 711/3349 [1:00:54<5:18:17,  7.24s/it]"
     ]
    },
    {
     "name": "stdout",
     "output_type": "stream",
     "text": [
      "Saved embeddings for 710000 sentences out of 3348807\n"
     ]
    },
    {
     "name": "stderr",
     "output_type": "stream",
     "text": [
      " 22%|██▏       | 721/3349 [1:02:04<5:36:17,  7.68s/it]"
     ]
    },
    {
     "name": "stdout",
     "output_type": "stream",
     "text": [
      "Saved embeddings for 720000 sentences out of 3348807\n"
     ]
    },
    {
     "name": "stderr",
     "output_type": "stream",
     "text": [
      " 22%|██▏       | 731/3349 [1:03:15<5:45:02,  7.91s/it]"
     ]
    },
    {
     "name": "stdout",
     "output_type": "stream",
     "text": [
      "Saved embeddings for 730000 sentences out of 3348807\n"
     ]
    },
    {
     "name": "stderr",
     "output_type": "stream",
     "text": [
      " 22%|██▏       | 741/3349 [1:04:26<5:50:36,  8.07s/it]"
     ]
    },
    {
     "name": "stdout",
     "output_type": "stream",
     "text": [
      "Saved embeddings for 740000 sentences out of 3348807\n"
     ]
    },
    {
     "name": "stderr",
     "output_type": "stream",
     "text": [
      " 22%|██▏       | 751/3349 [1:05:36<5:43:06,  7.92s/it]"
     ]
    },
    {
     "name": "stdout",
     "output_type": "stream",
     "text": [
      "Saved embeddings for 750000 sentences out of 3348807\n"
     ]
    },
    {
     "name": "stderr",
     "output_type": "stream",
     "text": [
      " 23%|██▎       | 761/3349 [1:06:45<5:03:38,  7.04s/it]"
     ]
    },
    {
     "name": "stdout",
     "output_type": "stream",
     "text": [
      "Saved embeddings for 760000 sentences out of 3348807\n"
     ]
    },
    {
     "name": "stderr",
     "output_type": "stream",
     "text": [
      " 23%|██▎       | 771/3349 [1:07:57<5:34:47,  7.79s/it]"
     ]
    },
    {
     "name": "stdout",
     "output_type": "stream",
     "text": [
      "Saved embeddings for 770000 sentences out of 3348807\n"
     ]
    },
    {
     "name": "stderr",
     "output_type": "stream",
     "text": [
      " 23%|██▎       | 781/3349 [1:09:08<5:37:05,  7.88s/it]"
     ]
    },
    {
     "name": "stdout",
     "output_type": "stream",
     "text": [
      "Saved embeddings for 780000 sentences out of 3348807\n"
     ]
    },
    {
     "name": "stderr",
     "output_type": "stream",
     "text": [
      " 24%|██▎       | 791/3349 [1:10:18<5:39:04,  7.95s/it]"
     ]
    },
    {
     "name": "stdout",
     "output_type": "stream",
     "text": [
      "Saved embeddings for 790000 sentences out of 3348807\n"
     ]
    },
    {
     "name": "stderr",
     "output_type": "stream",
     "text": [
      " 24%|██▍       | 801/3349 [1:11:30<5:44:07,  8.10s/it]"
     ]
    },
    {
     "name": "stdout",
     "output_type": "stream",
     "text": [
      "Saved embeddings for 800000 sentences out of 3348807\n"
     ]
    },
    {
     "name": "stderr",
     "output_type": "stream",
     "text": [
      " 24%|██▍       | 811/3349 [1:12:38<5:00:17,  7.10s/it]"
     ]
    },
    {
     "name": "stdout",
     "output_type": "stream",
     "text": [
      "Saved embeddings for 810000 sentences out of 3348807\n"
     ]
    },
    {
     "name": "stderr",
     "output_type": "stream",
     "text": [
      " 25%|██▍       | 821/3349 [1:13:49<5:11:15,  7.39s/it]"
     ]
    },
    {
     "name": "stdout",
     "output_type": "stream",
     "text": [
      "Saved embeddings for 820000 sentences out of 3348807\n"
     ]
    },
    {
     "name": "stderr",
     "output_type": "stream",
     "text": [
      " 25%|██▍       | 831/3349 [1:15:00<5:29:53,  7.86s/it]"
     ]
    },
    {
     "name": "stdout",
     "output_type": "stream",
     "text": [
      "Saved embeddings for 830000 sentences out of 3348807\n"
     ]
    },
    {
     "name": "stderr",
     "output_type": "stream",
     "text": [
      " 25%|██▌       | 841/3349 [1:16:10<5:32:24,  7.95s/it]"
     ]
    },
    {
     "name": "stdout",
     "output_type": "stream",
     "text": [
      "Saved embeddings for 840000 sentences out of 3348807\n"
     ]
    },
    {
     "name": "stderr",
     "output_type": "stream",
     "text": [
      " 25%|██▌       | 851/3349 [1:17:21<5:34:28,  8.03s/it]"
     ]
    },
    {
     "name": "stdout",
     "output_type": "stream",
     "text": [
      "Saved embeddings for 850000 sentences out of 3348807\n"
     ]
    },
    {
     "name": "stderr",
     "output_type": "stream",
     "text": [
      " 26%|██▌       | 861/3349 [1:18:31<5:13:50,  7.57s/it]"
     ]
    },
    {
     "name": "stdout",
     "output_type": "stream",
     "text": [
      "Saved embeddings for 860000 sentences out of 3348807\n"
     ]
    },
    {
     "name": "stderr",
     "output_type": "stream",
     "text": [
      " 26%|██▌       | 871/3349 [1:19:42<5:08:11,  7.46s/it]"
     ]
    },
    {
     "name": "stdout",
     "output_type": "stream",
     "text": [
      "Saved embeddings for 870000 sentences out of 3348807\n"
     ]
    },
    {
     "name": "stderr",
     "output_type": "stream",
     "text": [
      " 26%|██▋       | 881/3349 [1:20:53<5:20:28,  7.79s/it]"
     ]
    },
    {
     "name": "stdout",
     "output_type": "stream",
     "text": [
      "Saved embeddings for 880000 sentences out of 3348807\n"
     ]
    },
    {
     "name": "stderr",
     "output_type": "stream",
     "text": [
      " 27%|██▋       | 891/3349 [1:22:04<5:27:44,  8.00s/it]"
     ]
    },
    {
     "name": "stdout",
     "output_type": "stream",
     "text": [
      "Saved embeddings for 890000 sentences out of 3348807\n"
     ]
    },
    {
     "name": "stderr",
     "output_type": "stream",
     "text": [
      " 27%|██▋       | 901/3349 [1:23:15<5:32:39,  8.15s/it]"
     ]
    },
    {
     "name": "stdout",
     "output_type": "stream",
     "text": [
      "Saved embeddings for 900000 sentences out of 3348807\n"
     ]
    },
    {
     "name": "stderr",
     "output_type": "stream",
     "text": [
      " 27%|██▋       | 911/3349 [1:24:26<5:18:56,  7.85s/it]"
     ]
    },
    {
     "name": "stdout",
     "output_type": "stream",
     "text": [
      "Saved embeddings for 910000 sentences out of 3348807\n"
     ]
    },
    {
     "name": "stderr",
     "output_type": "stream",
     "text": [
      " 28%|██▊       | 921/3349 [1:25:36<4:54:41,  7.28s/it]"
     ]
    },
    {
     "name": "stdout",
     "output_type": "stream",
     "text": [
      "Saved embeddings for 920000 sentences out of 3348807\n"
     ]
    },
    {
     "name": "stderr",
     "output_type": "stream",
     "text": [
      " 28%|██▊       | 931/3349 [1:26:47<5:08:57,  7.67s/it]"
     ]
    },
    {
     "name": "stdout",
     "output_type": "stream",
     "text": [
      "Saved embeddings for 930000 sentences out of 3348807\n"
     ]
    },
    {
     "name": "stderr",
     "output_type": "stream",
     "text": [
      " 28%|██▊       | 941/3349 [1:27:57<5:11:05,  7.75s/it]"
     ]
    },
    {
     "name": "stdout",
     "output_type": "stream",
     "text": [
      "Saved embeddings for 940000 sentences out of 3348807\n"
     ]
    },
    {
     "name": "stderr",
     "output_type": "stream",
     "text": [
      " 28%|██▊       | 951/3349 [1:29:07<5:18:30,  7.97s/it]"
     ]
    },
    {
     "name": "stdout",
     "output_type": "stream",
     "text": [
      "Saved embeddings for 950000 sentences out of 3348807\n"
     ]
    },
    {
     "name": "stderr",
     "output_type": "stream",
     "text": [
      " 29%|██▊       | 961/3349 [1:30:17<5:17:42,  7.98s/it]"
     ]
    },
    {
     "name": "stdout",
     "output_type": "stream",
     "text": [
      "Saved embeddings for 960000 sentences out of 3348807\n"
     ]
    },
    {
     "name": "stderr",
     "output_type": "stream",
     "text": [
      " 29%|██▉       | 971/3349 [1:31:27<4:51:20,  7.35s/it]"
     ]
    },
    {
     "name": "stdout",
     "output_type": "stream",
     "text": [
      "Saved embeddings for 970000 sentences out of 3348807\n"
     ]
    },
    {
     "name": "stderr",
     "output_type": "stream",
     "text": [
      " 29%|██▉       | 981/3349 [1:32:37<4:51:41,  7.39s/it]"
     ]
    },
    {
     "name": "stdout",
     "output_type": "stream",
     "text": [
      "Saved embeddings for 980000 sentences out of 3348807\n"
     ]
    },
    {
     "name": "stderr",
     "output_type": "stream",
     "text": [
      " 30%|██▉       | 991/3349 [1:33:48<5:01:35,  7.67s/it]"
     ]
    },
    {
     "name": "stdout",
     "output_type": "stream",
     "text": [
      "Saved embeddings for 990000 sentences out of 3348807\n"
     ]
    },
    {
     "name": "stderr",
     "output_type": "stream",
     "text": [
      " 30%|██▉       | 1001/3349 [1:34:59<5:12:40,  7.99s/it]"
     ]
    },
    {
     "name": "stdout",
     "output_type": "stream",
     "text": [
      "Saved embeddings for 1000000 sentences out of 3348807\n"
     ]
    },
    {
     "name": "stderr",
     "output_type": "stream",
     "text": [
      " 30%|███       | 1011/3349 [1:36:11<5:32:16,  8.53s/it]"
     ]
    },
    {
     "name": "stdout",
     "output_type": "stream",
     "text": [
      "Saved embeddings for 1010000 sentences out of 3348807\n"
     ]
    },
    {
     "name": "stderr",
     "output_type": "stream",
     "text": [
      " 30%|███       | 1021/3349 [1:37:22<4:59:42,  7.72s/it]"
     ]
    },
    {
     "name": "stdout",
     "output_type": "stream",
     "text": [
      "Saved embeddings for 1020000 sentences out of 3348807\n"
     ]
    },
    {
     "name": "stderr",
     "output_type": "stream",
     "text": [
      " 31%|███       | 1031/3349 [1:38:32<4:46:52,  7.43s/it]"
     ]
    },
    {
     "name": "stdout",
     "output_type": "stream",
     "text": [
      "Saved embeddings for 1030000 sentences out of 3348807\n"
     ]
    },
    {
     "name": "stderr",
     "output_type": "stream",
     "text": [
      " 31%|███       | 1041/3349 [1:39:45<5:17:08,  8.24s/it]"
     ]
    },
    {
     "name": "stdout",
     "output_type": "stream",
     "text": [
      "Saved embeddings for 1040000 sentences out of 3348807\n"
     ]
    },
    {
     "name": "stderr",
     "output_type": "stream",
     "text": [
      " 31%|███▏      | 1051/3349 [1:40:56<5:07:39,  8.03s/it]"
     ]
    },
    {
     "name": "stdout",
     "output_type": "stream",
     "text": [
      "Saved embeddings for 1050000 sentences out of 3348807\n"
     ]
    },
    {
     "name": "stderr",
     "output_type": "stream",
     "text": [
      " 32%|███▏      | 1061/3349 [1:42:07<5:06:50,  8.05s/it]"
     ]
    },
    {
     "name": "stdout",
     "output_type": "stream",
     "text": [
      "Saved embeddings for 1060000 sentences out of 3348807\n"
     ]
    },
    {
     "name": "stderr",
     "output_type": "stream",
     "text": [
      " 32%|███▏      | 1071/3349 [1:43:18<5:00:00,  7.90s/it]"
     ]
    },
    {
     "name": "stdout",
     "output_type": "stream",
     "text": [
      "Saved embeddings for 1070000 sentences out of 3348807\n"
     ]
    },
    {
     "name": "stderr",
     "output_type": "stream",
     "text": [
      " 32%|███▏      | 1081/3349 [1:44:15<3:27:12,  5.48s/it]"
     ]
    },
    {
     "name": "stdout",
     "output_type": "stream",
     "text": [
      "Saved embeddings for 1080000 sentences out of 3348807\n"
     ]
    },
    {
     "name": "stderr",
     "output_type": "stream",
     "text": [
      " 33%|███▎      | 1091/3349 [1:44:58<3:09:06,  5.02s/it]"
     ]
    },
    {
     "name": "stdout",
     "output_type": "stream",
     "text": [
      "Saved embeddings for 1090000 sentences out of 3348807\n"
     ]
    },
    {
     "name": "stderr",
     "output_type": "stream",
     "text": [
      " 33%|███▎      | 1101/3349 [1:45:41<3:06:48,  4.99s/it]"
     ]
    },
    {
     "name": "stdout",
     "output_type": "stream",
     "text": [
      "Saved embeddings for 1100000 sentences out of 3348807\n"
     ]
    },
    {
     "name": "stderr",
     "output_type": "stream",
     "text": [
      " 33%|███▎      | 1111/3349 [1:46:24<3:06:49,  5.01s/it]"
     ]
    },
    {
     "name": "stdout",
     "output_type": "stream",
     "text": [
      "Saved embeddings for 1110000 sentences out of 3348807\n"
     ]
    },
    {
     "name": "stderr",
     "output_type": "stream",
     "text": [
      " 33%|███▎      | 1121/3349 [1:47:07<3:05:47,  5.00s/it]"
     ]
    },
    {
     "name": "stdout",
     "output_type": "stream",
     "text": [
      "Saved embeddings for 1120000 sentences out of 3348807\n"
     ]
    },
    {
     "name": "stderr",
     "output_type": "stream",
     "text": [
      " 34%|███▍      | 1131/3349 [1:47:50<3:05:45,  5.02s/it]"
     ]
    },
    {
     "name": "stdout",
     "output_type": "stream",
     "text": [
      "Saved embeddings for 1130000 sentences out of 3348807\n"
     ]
    },
    {
     "name": "stderr",
     "output_type": "stream",
     "text": [
      " 34%|███▍      | 1141/3349 [1:48:33<3:04:21,  5.01s/it]"
     ]
    },
    {
     "name": "stdout",
     "output_type": "stream",
     "text": [
      "Saved embeddings for 1140000 sentences out of 3348807\n"
     ]
    },
    {
     "name": "stderr",
     "output_type": "stream",
     "text": [
      " 34%|███▍      | 1151/3349 [1:49:16<3:03:39,  5.01s/it]"
     ]
    },
    {
     "name": "stdout",
     "output_type": "stream",
     "text": [
      "Saved embeddings for 1150000 sentences out of 3348807\n"
     ]
    },
    {
     "name": "stderr",
     "output_type": "stream",
     "text": [
      " 35%|███▍      | 1161/3349 [1:49:59<3:03:32,  5.03s/it]"
     ]
    },
    {
     "name": "stdout",
     "output_type": "stream",
     "text": [
      "Saved embeddings for 1160000 sentences out of 3348807\n"
     ]
    },
    {
     "name": "stderr",
     "output_type": "stream",
     "text": [
      " 35%|███▍      | 1171/3349 [1:50:42<3:02:21,  5.02s/it]"
     ]
    },
    {
     "name": "stdout",
     "output_type": "stream",
     "text": [
      "Saved embeddings for 1170000 sentences out of 3348807\n"
     ]
    },
    {
     "name": "stderr",
     "output_type": "stream",
     "text": [
      " 35%|███▌      | 1181/3349 [1:51:41<4:44:21,  7.87s/it]"
     ]
    },
    {
     "name": "stdout",
     "output_type": "stream",
     "text": [
      "Saved embeddings for 1180000 sentences out of 3348807\n"
     ]
    },
    {
     "name": "stderr",
     "output_type": "stream",
     "text": [
      " 36%|███▌      | 1191/3349 [1:53:04<5:19:16,  8.88s/it]"
     ]
    },
    {
     "name": "stdout",
     "output_type": "stream",
     "text": [
      "Saved embeddings for 1190000 sentences out of 3348807\n"
     ]
    },
    {
     "name": "stderr",
     "output_type": "stream",
     "text": [
      " 36%|███▌      | 1201/3349 [1:54:21<5:12:44,  8.74s/it]"
     ]
    },
    {
     "name": "stdout",
     "output_type": "stream",
     "text": [
      "Saved embeddings for 1200000 sentences out of 3348807\n"
     ]
    },
    {
     "name": "stderr",
     "output_type": "stream",
     "text": [
      " 36%|███▌      | 1211/3349 [1:55:45<5:24:35,  9.11s/it]"
     ]
    },
    {
     "name": "stdout",
     "output_type": "stream",
     "text": [
      "Saved embeddings for 1210000 sentences out of 3348807\n"
     ]
    },
    {
     "name": "stderr",
     "output_type": "stream",
     "text": [
      " 36%|███▋      | 1221/3349 [1:56:57<5:16:56,  8.94s/it]"
     ]
    },
    {
     "name": "stdout",
     "output_type": "stream",
     "text": [
      "Saved embeddings for 1220000 sentences out of 3348807\n"
     ]
    },
    {
     "name": "stderr",
     "output_type": "stream",
     "text": [
      " 37%|███▋      | 1231/3349 [1:58:19<4:58:19,  8.45s/it]"
     ]
    },
    {
     "name": "stdout",
     "output_type": "stream",
     "text": [
      "Saved embeddings for 1230000 sentences out of 3348807\n"
     ]
    },
    {
     "name": "stderr",
     "output_type": "stream",
     "text": [
      " 37%|███▋      | 1241/3349 [1:59:44<5:19:19,  9.09s/it]"
     ]
    },
    {
     "name": "stdout",
     "output_type": "stream",
     "text": [
      "Saved embeddings for 1240000 sentences out of 3348807\n"
     ]
    },
    {
     "name": "stderr",
     "output_type": "stream",
     "text": [
      " 37%|███▋      | 1251/3349 [2:00:58<4:34:09,  7.84s/it]"
     ]
    },
    {
     "name": "stdout",
     "output_type": "stream",
     "text": [
      "Saved embeddings for 1250000 sentences out of 3348807\n"
     ]
    },
    {
     "name": "stderr",
     "output_type": "stream",
     "text": [
      " 38%|███▊      | 1261/3349 [2:02:23<5:26:43,  9.39s/it]"
     ]
    },
    {
     "name": "stdout",
     "output_type": "stream",
     "text": [
      "Saved embeddings for 1260000 sentences out of 3348807\n"
     ]
    },
    {
     "name": "stderr",
     "output_type": "stream",
     "text": [
      " 38%|███▊      | 1271/3349 [2:03:40<5:02:12,  8.73s/it]"
     ]
    },
    {
     "name": "stdout",
     "output_type": "stream",
     "text": [
      "Saved embeddings for 1270000 sentences out of 3348807\n"
     ]
    },
    {
     "name": "stderr",
     "output_type": "stream",
     "text": [
      " 38%|███▊      | 1281/3349 [2:05:03<5:14:37,  9.13s/it]"
     ]
    },
    {
     "name": "stdout",
     "output_type": "stream",
     "text": [
      "Saved embeddings for 1280000 sentences out of 3348807\n"
     ]
    },
    {
     "name": "stderr",
     "output_type": "stream",
     "text": [
      " 39%|███▊      | 1291/3349 [2:06:20<5:07:52,  8.98s/it]"
     ]
    },
    {
     "name": "stdout",
     "output_type": "stream",
     "text": [
      "Saved embeddings for 1290000 sentences out of 3348807\n"
     ]
    },
    {
     "name": "stderr",
     "output_type": "stream",
     "text": [
      " 39%|███▉      | 1301/3349 [2:07:43<5:15:14,  9.24s/it]"
     ]
    },
    {
     "name": "stdout",
     "output_type": "stream",
     "text": [
      "Saved embeddings for 1300000 sentences out of 3348807\n"
     ]
    },
    {
     "name": "stderr",
     "output_type": "stream",
     "text": [
      " 39%|███▉      | 1311/3349 [2:09:01<5:04:29,  8.96s/it]"
     ]
    },
    {
     "name": "stdout",
     "output_type": "stream",
     "text": [
      "Saved embeddings for 1310000 sentences out of 3348807\n"
     ]
    },
    {
     "name": "stderr",
     "output_type": "stream",
     "text": [
      " 39%|███▉      | 1321/3349 [2:10:17<4:03:43,  7.21s/it]"
     ]
    },
    {
     "name": "stdout",
     "output_type": "stream",
     "text": [
      "Saved embeddings for 1320000 sentences out of 3348807\n"
     ]
    },
    {
     "name": "stderr",
     "output_type": "stream",
     "text": [
      " 40%|███▉      | 1331/3349 [2:11:39<5:01:13,  8.96s/it]"
     ]
    },
    {
     "name": "stdout",
     "output_type": "stream",
     "text": [
      "Saved embeddings for 1330000 sentences out of 3348807\n"
     ]
    },
    {
     "name": "stderr",
     "output_type": "stream",
     "text": [
      " 40%|████      | 1341/3349 [2:12:49<3:54:23,  7.00s/it]"
     ]
    },
    {
     "name": "stdout",
     "output_type": "stream",
     "text": [
      "Saved embeddings for 1340000 sentences out of 3348807\n"
     ]
    },
    {
     "name": "stderr",
     "output_type": "stream",
     "text": [
      " 40%|████      | 1351/3349 [2:14:13<4:59:35,  9.00s/it]"
     ]
    },
    {
     "name": "stdout",
     "output_type": "stream",
     "text": [
      "Saved embeddings for 1350000 sentences out of 3348807\n"
     ]
    },
    {
     "name": "stderr",
     "output_type": "stream",
     "text": [
      " 41%|████      | 1361/3349 [2:15:28<4:41:08,  8.48s/it]"
     ]
    },
    {
     "name": "stdout",
     "output_type": "stream",
     "text": [
      "Saved embeddings for 1360000 sentences out of 3348807\n"
     ]
    },
    {
     "name": "stderr",
     "output_type": "stream",
     "text": [
      " 41%|████      | 1371/3349 [2:16:52<5:00:05,  9.10s/it]"
     ]
    },
    {
     "name": "stdout",
     "output_type": "stream",
     "text": [
      "Saved embeddings for 1370000 sentences out of 3348807\n"
     ]
    },
    {
     "name": "stderr",
     "output_type": "stream",
     "text": [
      " 41%|████      | 1381/3349 [2:18:06<4:49:26,  8.82s/it]"
     ]
    },
    {
     "name": "stdout",
     "output_type": "stream",
     "text": [
      "Saved embeddings for 1380000 sentences out of 3348807\n"
     ]
    },
    {
     "name": "stderr",
     "output_type": "stream",
     "text": [
      " 42%|████▏     | 1391/3349 [2:19:30<5:10:04,  9.50s/it]"
     ]
    },
    {
     "name": "stdout",
     "output_type": "stream",
     "text": [
      "Saved embeddings for 1390000 sentences out of 3348807\n"
     ]
    },
    {
     "name": "stderr",
     "output_type": "stream",
     "text": [
      " 42%|████▏     | 1401/3349 [2:20:46<4:50:50,  8.96s/it]"
     ]
    },
    {
     "name": "stdout",
     "output_type": "stream",
     "text": [
      "Saved embeddings for 1400000 sentences out of 3348807\n"
     ]
    },
    {
     "name": "stderr",
     "output_type": "stream",
     "text": [
      " 42%|████▏     | 1411/3349 [2:22:05<4:15:14,  7.90s/it]"
     ]
    },
    {
     "name": "stdout",
     "output_type": "stream",
     "text": [
      "Saved embeddings for 1410000 sentences out of 3348807\n"
     ]
    },
    {
     "name": "stderr",
     "output_type": "stream",
     "text": [
      " 42%|████▏     | 1421/3349 [2:23:29<4:55:00,  9.18s/it]"
     ]
    },
    {
     "name": "stdout",
     "output_type": "stream",
     "text": [
      "Saved embeddings for 1420000 sentences out of 3348807\n"
     ]
    },
    {
     "name": "stderr",
     "output_type": "stream",
     "text": [
      " 43%|████▎     | 1431/3349 [2:24:46<4:15:46,  8.00s/it]"
     ]
    },
    {
     "name": "stdout",
     "output_type": "stream",
     "text": [
      "Saved embeddings for 1430000 sentences out of 3348807\n"
     ]
    },
    {
     "name": "stderr",
     "output_type": "stream",
     "text": [
      " 43%|████▎     | 1441/3349 [2:26:09<4:48:12,  9.06s/it]"
     ]
    },
    {
     "name": "stdout",
     "output_type": "stream",
     "text": [
      "Saved embeddings for 1440000 sentences out of 3348807\n"
     ]
    },
    {
     "name": "stderr",
     "output_type": "stream",
     "text": [
      " 43%|████▎     | 1451/3349 [2:27:26<4:39:40,  8.84s/it]"
     ]
    },
    {
     "name": "stdout",
     "output_type": "stream",
     "text": [
      "Saved embeddings for 1450000 sentences out of 3348807\n"
     ]
    },
    {
     "name": "stderr",
     "output_type": "stream",
     "text": [
      " 44%|████▎     | 1461/3349 [2:28:50<4:45:08,  9.06s/it]"
     ]
    },
    {
     "name": "stdout",
     "output_type": "stream",
     "text": [
      "Saved embeddings for 1460000 sentences out of 3348807\n"
     ]
    },
    {
     "name": "stderr",
     "output_type": "stream",
     "text": [
      " 44%|████▍     | 1471/3349 [2:30:05<4:51:41,  9.32s/it]"
     ]
    },
    {
     "name": "stdout",
     "output_type": "stream",
     "text": [
      "Saved embeddings for 1470000 sentences out of 3348807\n"
     ]
    },
    {
     "name": "stderr",
     "output_type": "stream",
     "text": [
      " 44%|████▍     | 1481/3349 [2:31:29<4:44:36,  9.14s/it]"
     ]
    },
    {
     "name": "stdout",
     "output_type": "stream",
     "text": [
      "Saved embeddings for 1480000 sentences out of 3348807\n"
     ]
    },
    {
     "name": "stderr",
     "output_type": "stream",
     "text": [
      " 45%|████▍     | 1491/3349 [2:32:45<4:41:53,  9.10s/it]"
     ]
    },
    {
     "name": "stdout",
     "output_type": "stream",
     "text": [
      "Saved embeddings for 1490000 sentences out of 3348807\n"
     ]
    },
    {
     "name": "stderr",
     "output_type": "stream",
     "text": [
      " 45%|████▍     | 1501/3349 [2:34:05<4:07:17,  8.03s/it]"
     ]
    },
    {
     "name": "stdout",
     "output_type": "stream",
     "text": [
      "Saved embeddings for 1500000 sentences out of 3348807\n"
     ]
    },
    {
     "name": "stderr",
     "output_type": "stream",
     "text": [
      " 45%|████▌     | 1511/3349 [2:35:29<4:41:10,  9.18s/it]"
     ]
    },
    {
     "name": "stdout",
     "output_type": "stream",
     "text": [
      "Saved embeddings for 1510000 sentences out of 3348807\n"
     ]
    },
    {
     "name": "stderr",
     "output_type": "stream",
     "text": [
      " 45%|████▌     | 1521/3349 [2:36:44<3:58:59,  7.84s/it]"
     ]
    },
    {
     "name": "stdout",
     "output_type": "stream",
     "text": [
      "Saved embeddings for 1520000 sentences out of 3348807\n"
     ]
    },
    {
     "name": "stderr",
     "output_type": "stream",
     "text": [
      " 46%|████▌     | 1531/3349 [2:38:09<4:46:39,  9.46s/it]"
     ]
    },
    {
     "name": "stdout",
     "output_type": "stream",
     "text": [
      "Saved embeddings for 1530000 sentences out of 3348807\n"
     ]
    },
    {
     "name": "stderr",
     "output_type": "stream",
     "text": [
      " 46%|████▌     | 1541/3349 [2:39:26<4:24:07,  8.77s/it]"
     ]
    },
    {
     "name": "stdout",
     "output_type": "stream",
     "text": [
      "Saved embeddings for 1540000 sentences out of 3348807\n"
     ]
    },
    {
     "name": "stderr",
     "output_type": "stream",
     "text": [
      " 46%|████▋     | 1551/3349 [2:40:48<4:31:39,  9.07s/it]"
     ]
    },
    {
     "name": "stdout",
     "output_type": "stream",
     "text": [
      "Saved embeddings for 1550000 sentences out of 3348807\n"
     ]
    },
    {
     "name": "stderr",
     "output_type": "stream",
     "text": [
      " 47%|████▋     | 1561/3349 [2:42:05<4:28:43,  9.02s/it]"
     ]
    },
    {
     "name": "stdout",
     "output_type": "stream",
     "text": [
      "Saved embeddings for 1560000 sentences out of 3348807\n"
     ]
    },
    {
     "name": "stderr",
     "output_type": "stream",
     "text": [
      " 47%|████▋     | 1571/3349 [2:43:28<4:25:03,  8.94s/it]"
     ]
    },
    {
     "name": "stdout",
     "output_type": "stream",
     "text": [
      "Saved embeddings for 1570000 sentences out of 3348807\n"
     ]
    },
    {
     "name": "stderr",
     "output_type": "stream",
     "text": [
      " 47%|████▋     | 1581/3349 [2:44:48<4:26:41,  9.05s/it]"
     ]
    },
    {
     "name": "stdout",
     "output_type": "stream",
     "text": [
      "Saved embeddings for 1580000 sentences out of 3348807\n"
     ]
    },
    {
     "name": "stderr",
     "output_type": "stream",
     "text": [
      " 48%|████▊     | 1591/3349 [2:46:04<3:40:39,  7.53s/it]"
     ]
    },
    {
     "name": "stdout",
     "output_type": "stream",
     "text": [
      "Saved embeddings for 1590000 sentences out of 3348807\n"
     ]
    },
    {
     "name": "stderr",
     "output_type": "stream",
     "text": [
      " 48%|████▊     | 1601/3349 [2:47:26<4:08:13,  8.52s/it]"
     ]
    },
    {
     "name": "stdout",
     "output_type": "stream",
     "text": [
      "Saved embeddings for 1600000 sentences out of 3348807\n"
     ]
    },
    {
     "name": "stderr",
     "output_type": "stream",
     "text": [
      " 48%|████▊     | 1611/3349 [2:48:42<4:02:25,  8.37s/it]"
     ]
    },
    {
     "name": "stdout",
     "output_type": "stream",
     "text": [
      "Saved embeddings for 1610000 sentences out of 3348807\n"
     ]
    },
    {
     "name": "stderr",
     "output_type": "stream",
     "text": [
      " 48%|████▊     | 1621/3349 [2:50:06<4:21:41,  9.09s/it]"
     ]
    },
    {
     "name": "stdout",
     "output_type": "stream",
     "text": [
      "Saved embeddings for 1620000 sentences out of 3348807\n"
     ]
    },
    {
     "name": "stderr",
     "output_type": "stream",
     "text": [
      " 49%|████▊     | 1631/3349 [2:51:21<4:07:30,  8.64s/it]"
     ]
    },
    {
     "name": "stdout",
     "output_type": "stream",
     "text": [
      "Saved embeddings for 1630000 sentences out of 3348807\n"
     ]
    },
    {
     "name": "stderr",
     "output_type": "stream",
     "text": [
      " 49%|████▉     | 1641/3349 [2:52:47<4:23:49,  9.27s/it]"
     ]
    },
    {
     "name": "stdout",
     "output_type": "stream",
     "text": [
      "Saved embeddings for 1640000 sentences out of 3348807\n"
     ]
    },
    {
     "name": "stderr",
     "output_type": "stream",
     "text": [
      " 49%|████▉     | 1651/3349 [2:54:04<4:17:54,  9.11s/it]"
     ]
    },
    {
     "name": "stdout",
     "output_type": "stream",
     "text": [
      "Saved embeddings for 1650000 sentences out of 3348807\n"
     ]
    },
    {
     "name": "stderr",
     "output_type": "stream",
     "text": [
      " 50%|████▉     | 1661/3349 [2:55:21<3:34:28,  7.62s/it]"
     ]
    },
    {
     "name": "stdout",
     "output_type": "stream",
     "text": [
      "Saved embeddings for 1660000 sentences out of 3348807\n"
     ]
    },
    {
     "name": "stderr",
     "output_type": "stream",
     "text": [
      " 50%|████▉     | 1671/3349 [2:56:46<4:16:43,  9.18s/it]"
     ]
    },
    {
     "name": "stdout",
     "output_type": "stream",
     "text": [
      "Saved embeddings for 1670000 sentences out of 3348807\n"
     ]
    },
    {
     "name": "stderr",
     "output_type": "stream",
     "text": [
      " 50%|█████     | 1681/3349 [2:58:02<3:48:07,  8.21s/it]"
     ]
    },
    {
     "name": "stdout",
     "output_type": "stream",
     "text": [
      "Saved embeddings for 1680000 sentences out of 3348807\n"
     ]
    },
    {
     "name": "stderr",
     "output_type": "stream",
     "text": [
      " 50%|█████     | 1691/3349 [2:59:24<4:12:36,  9.14s/it]"
     ]
    },
    {
     "name": "stdout",
     "output_type": "stream",
     "text": [
      "Saved embeddings for 1690000 sentences out of 3348807\n"
     ]
    },
    {
     "name": "stderr",
     "output_type": "stream",
     "text": [
      " 51%|█████     | 1701/3349 [3:00:40<4:01:38,  8.80s/it]"
     ]
    },
    {
     "name": "stdout",
     "output_type": "stream",
     "text": [
      "Saved embeddings for 1700000 sentences out of 3348807\n"
     ]
    },
    {
     "name": "stderr",
     "output_type": "stream",
     "text": [
      " 51%|█████     | 1711/3349 [3:02:03<3:57:48,  8.71s/it]"
     ]
    },
    {
     "name": "stdout",
     "output_type": "stream",
     "text": [
      "Saved embeddings for 1710000 sentences out of 3348807\n"
     ]
    },
    {
     "name": "stderr",
     "output_type": "stream",
     "text": [
      " 51%|█████▏    | 1721/3349 [3:03:19<4:05:35,  9.05s/it]"
     ]
    },
    {
     "name": "stdout",
     "output_type": "stream",
     "text": [
      "Saved embeddings for 1720000 sentences out of 3348807\n"
     ]
    },
    {
     "name": "stderr",
     "output_type": "stream",
     "text": [
      " 52%|█████▏    | 1731/3349 [3:04:43<4:04:52,  9.08s/it]"
     ]
    },
    {
     "name": "stdout",
     "output_type": "stream",
     "text": [
      "Saved embeddings for 1730000 sentences out of 3348807\n"
     ]
    },
    {
     "name": "stderr",
     "output_type": "stream",
     "text": [
      " 52%|█████▏    | 1741/3349 [3:06:04<3:59:39,  8.94s/it]"
     ]
    },
    {
     "name": "stdout",
     "output_type": "stream",
     "text": [
      "Saved embeddings for 1740000 sentences out of 3348807\n"
     ]
    },
    {
     "name": "stderr",
     "output_type": "stream",
     "text": [
      " 52%|█████▏    | 1751/3349 [3:07:18<3:04:56,  6.94s/it]"
     ]
    },
    {
     "name": "stdout",
     "output_type": "stream",
     "text": [
      "Saved embeddings for 1750000 sentences out of 3348807\n"
     ]
    },
    {
     "name": "stderr",
     "output_type": "stream",
     "text": [
      " 53%|█████▎    | 1761/3349 [3:08:42<4:02:31,  9.16s/it]"
     ]
    },
    {
     "name": "stdout",
     "output_type": "stream",
     "text": [
      "Saved embeddings for 1760000 sentences out of 3348807\n"
     ]
    },
    {
     "name": "stderr",
     "output_type": "stream",
     "text": [
      " 53%|█████▎    | 1771/3349 [3:09:57<3:25:41,  7.82s/it]"
     ]
    },
    {
     "name": "stdout",
     "output_type": "stream",
     "text": [
      "Saved embeddings for 1770000 sentences out of 3348807\n"
     ]
    },
    {
     "name": "stderr",
     "output_type": "stream",
     "text": [
      " 53%|█████▎    | 1781/3349 [3:11:21<4:01:40,  9.25s/it]"
     ]
    },
    {
     "name": "stdout",
     "output_type": "stream",
     "text": [
      "Saved embeddings for 1780000 sentences out of 3348807\n"
     ]
    },
    {
     "name": "stderr",
     "output_type": "stream",
     "text": [
      " 53%|█████▎    | 1791/3349 [3:12:39<3:58:07,  9.17s/it]"
     ]
    },
    {
     "name": "stdout",
     "output_type": "stream",
     "text": [
      "Saved embeddings for 1790000 sentences out of 3348807\n"
     ]
    },
    {
     "name": "stderr",
     "output_type": "stream",
     "text": [
      " 54%|█████▍    | 1801/3349 [3:14:01<3:55:10,  9.12s/it]"
     ]
    },
    {
     "name": "stdout",
     "output_type": "stream",
     "text": [
      "Saved embeddings for 1800000 sentences out of 3348807\n"
     ]
    },
    {
     "name": "stderr",
     "output_type": "stream",
     "text": [
      " 54%|█████▍    | 1811/3349 [3:15:17<3:52:04,  9.05s/it]"
     ]
    },
    {
     "name": "stdout",
     "output_type": "stream",
     "text": [
      "Saved embeddings for 1810000 sentences out of 3348807\n"
     ]
    },
    {
     "name": "stderr",
     "output_type": "stream",
     "text": [
      " 54%|█████▍    | 1821/3349 [3:16:41<3:55:38,  9.25s/it]"
     ]
    },
    {
     "name": "stdout",
     "output_type": "stream",
     "text": [
      "Saved embeddings for 1820000 sentences out of 3348807\n"
     ]
    },
    {
     "name": "stderr",
     "output_type": "stream",
     "text": [
      " 55%|█████▍    | 1831/3349 [3:17:54<3:51:05,  9.13s/it]"
     ]
    },
    {
     "name": "stdout",
     "output_type": "stream",
     "text": [
      "Saved embeddings for 1830000 sentences out of 3348807\n"
     ]
    },
    {
     "name": "stderr",
     "output_type": "stream",
     "text": [
      " 55%|█████▍    | 1841/3349 [3:19:16<3:34:55,  8.55s/it]"
     ]
    },
    {
     "name": "stdout",
     "output_type": "stream",
     "text": [
      "Saved embeddings for 1840000 sentences out of 3348807\n"
     ]
    },
    {
     "name": "stderr",
     "output_type": "stream",
     "text": [
      " 55%|█████▌    | 1851/3349 [3:20:39<3:47:11,  9.10s/it]"
     ]
    },
    {
     "name": "stdout",
     "output_type": "stream",
     "text": [
      "Saved embeddings for 1850000 sentences out of 3348807\n"
     ]
    },
    {
     "name": "stderr",
     "output_type": "stream",
     "text": [
      " 56%|█████▌    | 1861/3349 [3:21:55<3:11:32,  7.72s/it]"
     ]
    },
    {
     "name": "stdout",
     "output_type": "stream",
     "text": [
      "Saved embeddings for 1860000 sentences out of 3348807\n"
     ]
    },
    {
     "name": "stderr",
     "output_type": "stream",
     "text": [
      " 56%|█████▌    | 1871/3349 [3:23:19<3:47:22,  9.23s/it]"
     ]
    },
    {
     "name": "stdout",
     "output_type": "stream",
     "text": [
      "Saved embeddings for 1870000 sentences out of 3348807\n"
     ]
    },
    {
     "name": "stderr",
     "output_type": "stream",
     "text": [
      " 56%|█████▌    | 1881/3349 [3:24:33<3:22:01,  8.26s/it]"
     ]
    },
    {
     "name": "stdout",
     "output_type": "stream",
     "text": [
      "Saved embeddings for 1880000 sentences out of 3348807\n"
     ]
    },
    {
     "name": "stderr",
     "output_type": "stream",
     "text": [
      " 56%|█████▋    | 1891/3349 [3:25:58<3:45:02,  9.26s/it]"
     ]
    },
    {
     "name": "stdout",
     "output_type": "stream",
     "text": [
      "Saved embeddings for 1890000 sentences out of 3348807\n"
     ]
    },
    {
     "name": "stderr",
     "output_type": "stream",
     "text": [
      " 57%|█████▋    | 1901/3349 [3:27:14<3:37:13,  9.00s/it]"
     ]
    },
    {
     "name": "stdout",
     "output_type": "stream",
     "text": [
      "Saved embeddings for 1900000 sentences out of 3348807\n"
     ]
    },
    {
     "name": "stderr",
     "output_type": "stream",
     "text": [
      " 57%|█████▋    | 1911/3349 [3:28:37<3:39:45,  9.17s/it]"
     ]
    },
    {
     "name": "stdout",
     "output_type": "stream",
     "text": [
      "Saved embeddings for 1910000 sentences out of 3348807\n"
     ]
    },
    {
     "name": "stderr",
     "output_type": "stream",
     "text": [
      " 57%|█████▋    | 1921/3349 [3:29:51<3:36:17,  9.09s/it]"
     ]
    },
    {
     "name": "stdout",
     "output_type": "stream",
     "text": [
      "Saved embeddings for 1920000 sentences out of 3348807\n"
     ]
    },
    {
     "name": "stderr",
     "output_type": "stream",
     "text": [
      " 58%|█████▊    | 1931/3349 [3:31:13<3:18:50,  8.41s/it]"
     ]
    },
    {
     "name": "stdout",
     "output_type": "stream",
     "text": [
      "Saved embeddings for 1930000 sentences out of 3348807\n"
     ]
    },
    {
     "name": "stderr",
     "output_type": "stream",
     "text": [
      " 58%|█████▊    | 1941/3349 [3:32:35<3:35:30,  9.18s/it]"
     ]
    },
    {
     "name": "stdout",
     "output_type": "stream",
     "text": [
      "Saved embeddings for 1940000 sentences out of 3348807\n"
     ]
    },
    {
     "name": "stderr",
     "output_type": "stream",
     "text": [
      " 58%|█████▊    | 1951/3349 [3:33:51<3:02:06,  7.82s/it]"
     ]
    },
    {
     "name": "stdout",
     "output_type": "stream",
     "text": [
      "Saved embeddings for 1950000 sentences out of 3348807\n"
     ]
    },
    {
     "name": "stderr",
     "output_type": "stream",
     "text": [
      " 59%|█████▊    | 1961/3349 [3:35:16<3:32:59,  9.21s/it]"
     ]
    },
    {
     "name": "stdout",
     "output_type": "stream",
     "text": [
      "Saved embeddings for 1960000 sentences out of 3348807\n"
     ]
    },
    {
     "name": "stderr",
     "output_type": "stream",
     "text": [
      " 59%|█████▉    | 1971/3349 [3:36:28<3:11:35,  8.34s/it]"
     ]
    },
    {
     "name": "stdout",
     "output_type": "stream",
     "text": [
      "Saved embeddings for 1970000 sentences out of 3348807\n"
     ]
    },
    {
     "name": "stderr",
     "output_type": "stream",
     "text": [
      " 59%|█████▉    | 1981/3349 [3:37:52<3:29:15,  9.18s/it]"
     ]
    },
    {
     "name": "stdout",
     "output_type": "stream",
     "text": [
      "Saved embeddings for 1980000 sentences out of 3348807\n"
     ]
    },
    {
     "name": "stderr",
     "output_type": "stream",
     "text": [
      " 59%|█████▉    | 1991/3349 [3:39:06<3:09:13,  8.36s/it]"
     ]
    },
    {
     "name": "stdout",
     "output_type": "stream",
     "text": [
      "Saved embeddings for 1990000 sentences out of 3348807\n"
     ]
    },
    {
     "name": "stderr",
     "output_type": "stream",
     "text": [
      " 60%|█████▉    | 2001/3349 [3:40:30<3:26:02,  9.17s/it]"
     ]
    },
    {
     "name": "stdout",
     "output_type": "stream",
     "text": [
      "Saved embeddings for 2000000 sentences out of 3348807\n"
     ]
    },
    {
     "name": "stderr",
     "output_type": "stream",
     "text": [
      " 60%|██████    | 2011/3349 [3:41:43<3:22:01,  9.06s/it]"
     ]
    },
    {
     "name": "stdout",
     "output_type": "stream",
     "text": [
      "Saved embeddings for 2010000 sentences out of 3348807\n"
     ]
    },
    {
     "name": "stderr",
     "output_type": "stream",
     "text": [
      " 60%|██████    | 2021/3349 [3:43:05<3:20:17,  9.05s/it]"
     ]
    },
    {
     "name": "stdout",
     "output_type": "stream",
     "text": [
      "Saved embeddings for 2020000 sentences out of 3348807\n"
     ]
    },
    {
     "name": "stderr",
     "output_type": "stream",
     "text": [
      " 61%|██████    | 2031/3349 [3:44:25<3:20:12,  9.11s/it]"
     ]
    },
    {
     "name": "stdout",
     "output_type": "stream",
     "text": [
      "Saved embeddings for 2030000 sentences out of 3348807\n"
     ]
    },
    {
     "name": "stderr",
     "output_type": "stream",
     "text": [
      " 61%|██████    | 2041/3349 [3:45:41<2:42:34,  7.46s/it]"
     ]
    },
    {
     "name": "stdout",
     "output_type": "stream",
     "text": [
      "Saved embeddings for 2040000 sentences out of 3348807\n"
     ]
    },
    {
     "name": "stderr",
     "output_type": "stream",
     "text": [
      " 61%|██████    | 2051/3349 [3:47:03<3:15:49,  9.05s/it]"
     ]
    },
    {
     "name": "stdout",
     "output_type": "stream",
     "text": [
      "Saved embeddings for 2050000 sentences out of 3348807\n"
     ]
    },
    {
     "name": "stderr",
     "output_type": "stream",
     "text": [
      " 62%|██████▏   | 2061/3349 [3:48:21<3:05:16,  8.63s/it]"
     ]
    },
    {
     "name": "stdout",
     "output_type": "stream",
     "text": [
      "Saved embeddings for 2060000 sentences out of 3348807\n"
     ]
    },
    {
     "name": "stderr",
     "output_type": "stream",
     "text": [
      " 62%|██████▏   | 2071/3349 [3:49:45<3:16:25,  9.22s/it]"
     ]
    },
    {
     "name": "stdout",
     "output_type": "stream",
     "text": [
      "Saved embeddings for 2070000 sentences out of 3348807\n"
     ]
    },
    {
     "name": "stderr",
     "output_type": "stream",
     "text": [
      " 62%|██████▏   | 2081/3349 [3:51:00<3:08:46,  8.93s/it]"
     ]
    },
    {
     "name": "stdout",
     "output_type": "stream",
     "text": [
      "Saved embeddings for 2080000 sentences out of 3348807\n"
     ]
    },
    {
     "name": "stderr",
     "output_type": "stream",
     "text": [
      " 62%|██████▏   | 2091/3349 [3:52:25<3:16:23,  9.37s/it]"
     ]
    },
    {
     "name": "stdout",
     "output_type": "stream",
     "text": [
      "Saved embeddings for 2090000 sentences out of 3348807\n"
     ]
    },
    {
     "name": "stderr",
     "output_type": "stream",
     "text": [
      " 63%|██████▎   | 2101/3349 [3:53:40<3:06:20,  8.96s/it]"
     ]
    },
    {
     "name": "stdout",
     "output_type": "stream",
     "text": [
      "Saved embeddings for 2100000 sentences out of 3348807\n"
     ]
    },
    {
     "name": "stderr",
     "output_type": "stream",
     "text": [
      " 63%|██████▎   | 2111/3349 [3:55:02<2:55:20,  8.50s/it]"
     ]
    },
    {
     "name": "stdout",
     "output_type": "stream",
     "text": [
      "Saved embeddings for 2110000 sentences out of 3348807\n"
     ]
    },
    {
     "name": "stderr",
     "output_type": "stream",
     "text": [
      " 63%|██████▎   | 2121/3349 [3:56:26<3:09:54,  9.28s/it]"
     ]
    },
    {
     "name": "stdout",
     "output_type": "stream",
     "text": [
      "Saved embeddings for 2120000 sentences out of 3348807\n"
     ]
    },
    {
     "name": "stderr",
     "output_type": "stream",
     "text": [
      " 64%|██████▎   | 2131/3349 [3:57:40<2:37:14,  7.75s/it]"
     ]
    },
    {
     "name": "stdout",
     "output_type": "stream",
     "text": [
      "Saved embeddings for 2130000 sentences out of 3348807\n"
     ]
    },
    {
     "name": "stderr",
     "output_type": "stream",
     "text": [
      " 64%|██████▍   | 2141/3349 [3:59:05<3:06:15,  9.25s/it]"
     ]
    },
    {
     "name": "stdout",
     "output_type": "stream",
     "text": [
      "Saved embeddings for 2140000 sentences out of 3348807\n"
     ]
    },
    {
     "name": "stderr",
     "output_type": "stream",
     "text": [
      " 64%|██████▍   | 2151/3349 [4:00:20<2:53:46,  8.70s/it]"
     ]
    },
    {
     "name": "stdout",
     "output_type": "stream",
     "text": [
      "Saved embeddings for 2150000 sentences out of 3348807\n"
     ]
    },
    {
     "name": "stderr",
     "output_type": "stream",
     "text": [
      " 65%|██████▍   | 2161/3349 [4:01:43<2:59:30,  9.07s/it]"
     ]
    },
    {
     "name": "stdout",
     "output_type": "stream",
     "text": [
      "Saved embeddings for 2160000 sentences out of 3348807\n"
     ]
    },
    {
     "name": "stderr",
     "output_type": "stream",
     "text": [
      " 65%|██████▍   | 2171/3349 [4:02:49<2:49:01,  8.61s/it]"
     ]
    },
    {
     "name": "stdout",
     "output_type": "stream",
     "text": [
      "Saved embeddings for 2170000 sentences out of 3348807\n"
     ]
    },
    {
     "name": "stderr",
     "output_type": "stream",
     "text": [
      " 65%|██████▌   | 2181/3349 [4:04:14<3:04:17,  9.47s/it]"
     ]
    },
    {
     "name": "stdout",
     "output_type": "stream",
     "text": [
      "Saved embeddings for 2180000 sentences out of 3348807\n"
     ]
    },
    {
     "name": "stderr",
     "output_type": "stream",
     "text": [
      " 65%|██████▌   | 2191/3349 [4:05:13<2:23:13,  7.42s/it]"
     ]
    },
    {
     "name": "stdout",
     "output_type": "stream",
     "text": [
      "Saved embeddings for 2190000 sentences out of 3348807\n"
     ]
    },
    {
     "name": "stderr",
     "output_type": "stream",
     "text": [
      " 66%|██████▌   | 2201/3349 [4:06:38<2:56:10,  9.21s/it]"
     ]
    },
    {
     "name": "stdout",
     "output_type": "stream",
     "text": [
      "Saved embeddings for 2200000 sentences out of 3348807\n"
     ]
    },
    {
     "name": "stderr",
     "output_type": "stream",
     "text": [
      " 66%|██████▌   | 2211/3349 [4:07:53<2:48:22,  8.88s/it]"
     ]
    },
    {
     "name": "stdout",
     "output_type": "stream",
     "text": [
      "Saved embeddings for 2210000 sentences out of 3348807\n"
     ]
    },
    {
     "name": "stderr",
     "output_type": "stream",
     "text": [
      " 66%|██████▋   | 2221/3349 [4:09:14<2:46:50,  8.87s/it]"
     ]
    },
    {
     "name": "stdout",
     "output_type": "stream",
     "text": [
      "Saved embeddings for 2220000 sentences out of 3348807\n"
     ]
    },
    {
     "name": "stderr",
     "output_type": "stream",
     "text": [
      " 67%|██████▋   | 2231/3349 [4:10:29<2:47:45,  9.00s/it]"
     ]
    },
    {
     "name": "stdout",
     "output_type": "stream",
     "text": [
      "Saved embeddings for 2230000 sentences out of 3348807\n"
     ]
    },
    {
     "name": "stderr",
     "output_type": "stream",
     "text": [
      " 67%|██████▋   | 2241/3349 [4:11:54<2:52:07,  9.32s/it]"
     ]
    },
    {
     "name": "stdout",
     "output_type": "stream",
     "text": [
      "Saved embeddings for 2240000 sentences out of 3348807\n"
     ]
    },
    {
     "name": "stderr",
     "output_type": "stream",
     "text": [
      " 67%|██████▋   | 2251/3349 [4:13:08<2:46:52,  9.12s/it]"
     ]
    },
    {
     "name": "stdout",
     "output_type": "stream",
     "text": [
      "Saved embeddings for 2250000 sentences out of 3348807\n"
     ]
    },
    {
     "name": "stderr",
     "output_type": "stream",
     "text": [
      " 68%|██████▊   | 2261/3349 [4:14:30<2:33:08,  8.45s/it]"
     ]
    },
    {
     "name": "stdout",
     "output_type": "stream",
     "text": [
      "Saved embeddings for 2260000 sentences out of 3348807\n"
     ]
    },
    {
     "name": "stderr",
     "output_type": "stream",
     "text": [
      " 68%|██████▊   | 2271/3349 [4:15:56<2:49:03,  9.41s/it]"
     ]
    },
    {
     "name": "stdout",
     "output_type": "stream",
     "text": [
      "Saved embeddings for 2270000 sentences out of 3348807\n"
     ]
    },
    {
     "name": "stderr",
     "output_type": "stream",
     "text": [
      " 68%|██████▊   | 2281/3349 [4:17:09<2:19:50,  7.86s/it]"
     ]
    },
    {
     "name": "stdout",
     "output_type": "stream",
     "text": [
      "Saved embeddings for 2280000 sentences out of 3348807\n"
     ]
    },
    {
     "name": "stderr",
     "output_type": "stream",
     "text": [
      " 68%|██████▊   | 2291/3349 [4:18:34<2:46:41,  9.45s/it]"
     ]
    },
    {
     "name": "stdout",
     "output_type": "stream",
     "text": [
      "Saved embeddings for 2290000 sentences out of 3348807\n"
     ]
    },
    {
     "name": "stderr",
     "output_type": "stream",
     "text": [
      " 69%|██████▊   | 2301/3349 [4:19:49<2:35:22,  8.90s/it]"
     ]
    },
    {
     "name": "stdout",
     "output_type": "stream",
     "text": [
      "Saved embeddings for 2300000 sentences out of 3348807\n"
     ]
    },
    {
     "name": "stderr",
     "output_type": "stream",
     "text": [
      " 69%|██████▉   | 2311/3349 [4:21:13<2:42:51,  9.41s/it]"
     ]
    },
    {
     "name": "stdout",
     "output_type": "stream",
     "text": [
      "Saved embeddings for 2310000 sentences out of 3348807\n"
     ]
    },
    {
     "name": "stderr",
     "output_type": "stream",
     "text": [
      " 69%|██████▉   | 2321/3349 [4:22:29<2:41:57,  9.45s/it]"
     ]
    },
    {
     "name": "stdout",
     "output_type": "stream",
     "text": [
      "Saved embeddings for 2320000 sentences out of 3348807\n"
     ]
    },
    {
     "name": "stderr",
     "output_type": "stream",
     "text": [
      " 70%|██████▉   | 2331/3349 [4:23:51<2:32:39,  9.00s/it]"
     ]
    },
    {
     "name": "stdout",
     "output_type": "stream",
     "text": [
      "Saved embeddings for 2330000 sentences out of 3348807\n"
     ]
    },
    {
     "name": "stderr",
     "output_type": "stream",
     "text": [
      " 70%|██████▉   | 2341/3349 [4:25:03<2:32:12,  9.06s/it]"
     ]
    },
    {
     "name": "stdout",
     "output_type": "stream",
     "text": [
      "Saved embeddings for 2340000 sentences out of 3348807\n"
     ]
    },
    {
     "name": "stderr",
     "output_type": "stream",
     "text": [
      " 70%|███████   | 2351/3349 [4:26:25<2:30:49,  9.07s/it]"
     ]
    },
    {
     "name": "stdout",
     "output_type": "stream",
     "text": [
      "Saved embeddings for 2350000 sentences out of 3348807\n"
     ]
    },
    {
     "name": "stderr",
     "output_type": "stream",
     "text": [
      " 70%|███████   | 2361/3349 [4:27:37<2:26:39,  8.91s/it]"
     ]
    },
    {
     "name": "stdout",
     "output_type": "stream",
     "text": [
      "Saved embeddings for 2360000 sentences out of 3348807\n"
     ]
    },
    {
     "name": "stderr",
     "output_type": "stream",
     "text": [
      " 71%|███████   | 2371/3349 [4:28:59<2:29:52,  9.19s/it]"
     ]
    },
    {
     "name": "stdout",
     "output_type": "stream",
     "text": [
      "Saved embeddings for 2370000 sentences out of 3348807\n"
     ]
    },
    {
     "name": "stderr",
     "output_type": "stream",
     "text": [
      " 71%|███████   | 2381/3349 [4:30:11<2:20:41,  8.72s/it]"
     ]
    },
    {
     "name": "stdout",
     "output_type": "stream",
     "text": [
      "Saved embeddings for 2380000 sentences out of 3348807\n"
     ]
    },
    {
     "name": "stderr",
     "output_type": "stream",
     "text": [
      " 71%|███████▏  | 2391/3349 [4:31:33<2:26:29,  9.17s/it]"
     ]
    },
    {
     "name": "stdout",
     "output_type": "stream",
     "text": [
      "Saved embeddings for 2390000 sentences out of 3348807\n"
     ]
    },
    {
     "name": "stderr",
     "output_type": "stream",
     "text": [
      " 72%|███████▏  | 2401/3349 [4:32:42<2:17:43,  8.72s/it]"
     ]
    },
    {
     "name": "stdout",
     "output_type": "stream",
     "text": [
      "Saved embeddings for 2400000 sentences out of 3348807\n"
     ]
    },
    {
     "name": "stderr",
     "output_type": "stream",
     "text": [
      " 72%|███████▏  | 2411/3349 [4:34:03<2:23:45,  9.20s/it]"
     ]
    },
    {
     "name": "stdout",
     "output_type": "stream",
     "text": [
      "Saved embeddings for 2410000 sentences out of 3348807\n"
     ]
    },
    {
     "name": "stderr",
     "output_type": "stream",
     "text": [
      " 72%|███████▏  | 2421/3349 [4:35:14<2:16:34,  8.83s/it]"
     ]
    },
    {
     "name": "stdout",
     "output_type": "stream",
     "text": [
      "Saved embeddings for 2420000 sentences out of 3348807\n"
     ]
    },
    {
     "name": "stderr",
     "output_type": "stream",
     "text": [
      " 73%|███████▎  | 2431/3349 [4:36:36<2:19:24,  9.11s/it]"
     ]
    },
    {
     "name": "stdout",
     "output_type": "stream",
     "text": [
      "Saved embeddings for 2430000 sentences out of 3348807\n"
     ]
    },
    {
     "name": "stderr",
     "output_type": "stream",
     "text": [
      " 73%|███████▎  | 2441/3349 [4:37:50<2:14:21,  8.88s/it]"
     ]
    },
    {
     "name": "stdout",
     "output_type": "stream",
     "text": [
      "Saved embeddings for 2440000 sentences out of 3348807\n"
     ]
    },
    {
     "name": "stderr",
     "output_type": "stream",
     "text": [
      " 73%|███████▎  | 2451/3349 [4:39:13<2:17:50,  9.21s/it]"
     ]
    },
    {
     "name": "stdout",
     "output_type": "stream",
     "text": [
      "Saved embeddings for 2450000 sentences out of 3348807\n"
     ]
    },
    {
     "name": "stderr",
     "output_type": "stream",
     "text": [
      " 73%|███████▎  | 2461/3349 [4:40:23<2:07:18,  8.60s/it]"
     ]
    },
    {
     "name": "stdout",
     "output_type": "stream",
     "text": [
      "Saved embeddings for 2460000 sentences out of 3348807\n"
     ]
    },
    {
     "name": "stderr",
     "output_type": "stream",
     "text": [
      " 74%|███████▍  | 2471/3349 [4:41:44<2:16:57,  9.36s/it]"
     ]
    },
    {
     "name": "stdout",
     "output_type": "stream",
     "text": [
      "Saved embeddings for 2470000 sentences out of 3348807\n"
     ]
    },
    {
     "name": "stderr",
     "output_type": "stream",
     "text": [
      " 74%|███████▍  | 2481/3349 [4:42:57<2:09:36,  8.96s/it]"
     ]
    },
    {
     "name": "stdout",
     "output_type": "stream",
     "text": [
      "Saved embeddings for 2480000 sentences out of 3348807\n"
     ]
    },
    {
     "name": "stderr",
     "output_type": "stream",
     "text": [
      " 74%|███████▍  | 2491/3349 [4:44:17<2:08:47,  9.01s/it]"
     ]
    },
    {
     "name": "stdout",
     "output_type": "stream",
     "text": [
      "Saved embeddings for 2490000 sentences out of 3348807\n"
     ]
    },
    {
     "name": "stderr",
     "output_type": "stream",
     "text": [
      " 75%|███████▍  | 2501/3349 [4:45:30<2:01:51,  8.62s/it]"
     ]
    },
    {
     "name": "stdout",
     "output_type": "stream",
     "text": [
      "Saved embeddings for 2500000 sentences out of 3348807\n"
     ]
    },
    {
     "name": "stderr",
     "output_type": "stream",
     "text": [
      " 75%|███████▍  | 2511/3349 [4:46:51<2:09:26,  9.27s/it]"
     ]
    },
    {
     "name": "stdout",
     "output_type": "stream",
     "text": [
      "Saved embeddings for 2510000 sentences out of 3348807\n"
     ]
    },
    {
     "name": "stderr",
     "output_type": "stream",
     "text": [
      " 75%|███████▌  | 2521/3349 [4:48:02<1:54:11,  8.27s/it]"
     ]
    },
    {
     "name": "stdout",
     "output_type": "stream",
     "text": [
      "Saved embeddings for 2520000 sentences out of 3348807\n"
     ]
    },
    {
     "name": "stderr",
     "output_type": "stream",
     "text": [
      " 76%|███████▌  | 2531/3349 [4:49:24<2:03:24,  9.05s/it]"
     ]
    },
    {
     "name": "stdout",
     "output_type": "stream",
     "text": [
      "Saved embeddings for 2530000 sentences out of 3348807\n"
     ]
    },
    {
     "name": "stderr",
     "output_type": "stream",
     "text": [
      " 76%|███████▌  | 2541/3349 [4:50:36<1:52:12,  8.33s/it]"
     ]
    },
    {
     "name": "stdout",
     "output_type": "stream",
     "text": [
      "Saved embeddings for 2540000 sentences out of 3348807\n"
     ]
    },
    {
     "name": "stderr",
     "output_type": "stream",
     "text": [
      " 76%|███████▌  | 2551/3349 [4:51:55<1:56:43,  8.78s/it]"
     ]
    },
    {
     "name": "stdout",
     "output_type": "stream",
     "text": [
      "Saved embeddings for 2550000 sentences out of 3348807\n"
     ]
    },
    {
     "name": "stderr",
     "output_type": "stream",
     "text": [
      " 76%|███████▋  | 2561/3349 [4:53:08<1:45:50,  8.06s/it]"
     ]
    },
    {
     "name": "stdout",
     "output_type": "stream",
     "text": [
      "Saved embeddings for 2560000 sentences out of 3348807\n"
     ]
    },
    {
     "name": "stderr",
     "output_type": "stream",
     "text": [
      " 77%|███████▋  | 2571/3349 [4:54:26<1:52:10,  8.65s/it]"
     ]
    },
    {
     "name": "stdout",
     "output_type": "stream",
     "text": [
      "Saved embeddings for 2570000 sentences out of 3348807\n"
     ]
    },
    {
     "name": "stderr",
     "output_type": "stream",
     "text": [
      " 77%|███████▋  | 2581/3349 [4:55:38<1:37:19,  7.60s/it]"
     ]
    },
    {
     "name": "stdout",
     "output_type": "stream",
     "text": [
      "Saved embeddings for 2580000 sentences out of 3348807\n"
     ]
    },
    {
     "name": "stderr",
     "output_type": "stream",
     "text": [
      " 77%|███████▋  | 2591/3349 [4:56:58<1:56:05,  9.19s/it]"
     ]
    },
    {
     "name": "stdout",
     "output_type": "stream",
     "text": [
      "Saved embeddings for 2590000 sentences out of 3348807\n"
     ]
    },
    {
     "name": "stderr",
     "output_type": "stream",
     "text": [
      " 78%|███████▊  | 2601/3349 [4:58:11<1:27:45,  7.04s/it]"
     ]
    },
    {
     "name": "stdout",
     "output_type": "stream",
     "text": [
      "Saved embeddings for 2600000 sentences out of 3348807\n"
     ]
    },
    {
     "name": "stderr",
     "output_type": "stream",
     "text": [
      " 78%|███████▊  | 2611/3349 [4:59:31<1:52:39,  9.16s/it]"
     ]
    },
    {
     "name": "stdout",
     "output_type": "stream",
     "text": [
      "Saved embeddings for 2610000 sentences out of 3348807\n"
     ]
    },
    {
     "name": "stderr",
     "output_type": "stream",
     "text": [
      " 78%|███████▊  | 2621/3349 [5:00:47<1:33:25,  7.70s/it]"
     ]
    },
    {
     "name": "stdout",
     "output_type": "stream",
     "text": [
      "Saved embeddings for 2620000 sentences out of 3348807\n"
     ]
    },
    {
     "name": "stderr",
     "output_type": "stream",
     "text": [
      " 79%|███████▊  | 2631/3349 [5:02:13<1:53:08,  9.45s/it]"
     ]
    },
    {
     "name": "stdout",
     "output_type": "stream",
     "text": [
      "Saved embeddings for 2630000 sentences out of 3348807\n"
     ]
    },
    {
     "name": "stderr",
     "output_type": "stream",
     "text": [
      " 79%|███████▉  | 2641/3349 [5:03:27<1:34:49,  8.04s/it]"
     ]
    },
    {
     "name": "stdout",
     "output_type": "stream",
     "text": [
      "Saved embeddings for 2640000 sentences out of 3348807\n"
     ]
    },
    {
     "name": "stderr",
     "output_type": "stream",
     "text": [
      " 79%|███████▉  | 2651/3349 [5:04:52<1:52:16,  9.65s/it]"
     ]
    },
    {
     "name": "stdout",
     "output_type": "stream",
     "text": [
      "Saved embeddings for 2650000 sentences out of 3348807\n"
     ]
    },
    {
     "name": "stderr",
     "output_type": "stream",
     "text": [
      " 79%|███████▉  | 2661/3349 [5:06:05<1:39:38,  8.69s/it]"
     ]
    },
    {
     "name": "stdout",
     "output_type": "stream",
     "text": [
      "Saved embeddings for 2660000 sentences out of 3348807\n"
     ]
    },
    {
     "name": "stderr",
     "output_type": "stream",
     "text": [
      " 80%|███████▉  | 2671/3349 [5:07:29<1:41:07,  8.95s/it]"
     ]
    },
    {
     "name": "stdout",
     "output_type": "stream",
     "text": [
      "Saved embeddings for 2670000 sentences out of 3348807\n"
     ]
    },
    {
     "name": "stderr",
     "output_type": "stream",
     "text": [
      " 80%|████████  | 2681/3349 [5:08:43<1:41:57,  9.16s/it]"
     ]
    },
    {
     "name": "stdout",
     "output_type": "stream",
     "text": [
      "Saved embeddings for 2680000 sentences out of 3348807\n"
     ]
    },
    {
     "name": "stderr",
     "output_type": "stream",
     "text": [
      " 80%|████████  | 2691/3349 [5:10:12<1:42:59,  9.39s/it]"
     ]
    },
    {
     "name": "stdout",
     "output_type": "stream",
     "text": [
      "Saved embeddings for 2690000 sentences out of 3348807\n"
     ]
    },
    {
     "name": "stderr",
     "output_type": "stream",
     "text": [
      " 81%|████████  | 2701/3349 [5:11:32<1:40:32,  9.31s/it]"
     ]
    },
    {
     "name": "stdout",
     "output_type": "stream",
     "text": [
      "Saved embeddings for 2700000 sentences out of 3348807\n"
     ]
    },
    {
     "name": "stderr",
     "output_type": "stream",
     "text": [
      " 81%|████████  | 2711/3349 [5:12:47<1:16:51,  7.23s/it]"
     ]
    },
    {
     "name": "stdout",
     "output_type": "stream",
     "text": [
      "Saved embeddings for 2710000 sentences out of 3348807\n"
     ]
    },
    {
     "name": "stderr",
     "output_type": "stream",
     "text": [
      " 81%|████████  | 2721/3349 [5:14:13<1:38:57,  9.45s/it]"
     ]
    },
    {
     "name": "stdout",
     "output_type": "stream",
     "text": [
      "Saved embeddings for 2720000 sentences out of 3348807\n"
     ]
    },
    {
     "name": "stderr",
     "output_type": "stream",
     "text": [
      " 82%|████████▏ | 2731/3349 [5:15:23<1:23:06,  8.07s/it]"
     ]
    },
    {
     "name": "stdout",
     "output_type": "stream",
     "text": [
      "Saved embeddings for 2730000 sentences out of 3348807\n"
     ]
    },
    {
     "name": "stderr",
     "output_type": "stream",
     "text": [
      " 82%|████████▏ | 2741/3349 [5:16:49<1:37:23,  9.61s/it]"
     ]
    },
    {
     "name": "stdout",
     "output_type": "stream",
     "text": [
      "Saved embeddings for 2740000 sentences out of 3348807\n"
     ]
    },
    {
     "name": "stderr",
     "output_type": "stream",
     "text": [
      " 82%|████████▏ | 2751/3349 [5:18:03<1:29:36,  8.99s/it]"
     ]
    },
    {
     "name": "stdout",
     "output_type": "stream",
     "text": [
      "Saved embeddings for 2750000 sentences out of 3348807\n"
     ]
    },
    {
     "name": "stderr",
     "output_type": "stream",
     "text": [
      " 82%|████████▏ | 2761/3349 [5:19:27<1:31:59,  9.39s/it]"
     ]
    },
    {
     "name": "stdout",
     "output_type": "stream",
     "text": [
      "Saved embeddings for 2760000 sentences out of 3348807\n"
     ]
    },
    {
     "name": "stderr",
     "output_type": "stream",
     "text": [
      " 83%|████████▎ | 2771/3349 [5:20:39<1:28:32,  9.19s/it]"
     ]
    },
    {
     "name": "stdout",
     "output_type": "stream",
     "text": [
      "Saved embeddings for 2770000 sentences out of 3348807\n"
     ]
    },
    {
     "name": "stderr",
     "output_type": "stream",
     "text": [
      " 83%|████████▎ | 2781/3349 [5:22:06<1:33:00,  9.82s/it]"
     ]
    },
    {
     "name": "stdout",
     "output_type": "stream",
     "text": [
      "Saved embeddings for 2780000 sentences out of 3348807\n"
     ]
    },
    {
     "name": "stderr",
     "output_type": "stream",
     "text": [
      " 83%|████████▎ | 2791/3349 [5:23:22<1:27:29,  9.41s/it]"
     ]
    },
    {
     "name": "stdout",
     "output_type": "stream",
     "text": [
      "Saved embeddings for 2790000 sentences out of 3348807\n"
     ]
    },
    {
     "name": "stderr",
     "output_type": "stream",
     "text": [
      " 84%|████████▎ | 2801/3349 [5:24:44<1:18:31,  8.60s/it]"
     ]
    },
    {
     "name": "stdout",
     "output_type": "stream",
     "text": [
      "Saved embeddings for 2800000 sentences out of 3348807\n"
     ]
    },
    {
     "name": "stderr",
     "output_type": "stream",
     "text": [
      " 84%|████████▍ | 2811/3349 [5:26:08<1:22:42,  9.22s/it]"
     ]
    },
    {
     "name": "stdout",
     "output_type": "stream",
     "text": [
      "Saved embeddings for 2810000 sentences out of 3348807\n"
     ]
    },
    {
     "name": "stderr",
     "output_type": "stream",
     "text": [
      " 84%|████████▍ | 2821/3349 [5:27:22<1:13:25,  8.34s/it]"
     ]
    },
    {
     "name": "stdout",
     "output_type": "stream",
     "text": [
      "Saved embeddings for 2820000 sentences out of 3348807\n"
     ]
    },
    {
     "name": "stderr",
     "output_type": "stream",
     "text": [
      " 85%|████████▍ | 2831/3349 [5:28:47<1:21:03,  9.39s/it]"
     ]
    },
    {
     "name": "stdout",
     "output_type": "stream",
     "text": [
      "Saved embeddings for 2830000 sentences out of 3348807\n"
     ]
    },
    {
     "name": "stderr",
     "output_type": "stream",
     "text": [
      " 85%|████████▍ | 2841/3349 [5:30:00<1:13:05,  8.63s/it]"
     ]
    },
    {
     "name": "stdout",
     "output_type": "stream",
     "text": [
      "Saved embeddings for 2840000 sentences out of 3348807\n"
     ]
    },
    {
     "name": "stderr",
     "output_type": "stream",
     "text": [
      " 85%|████████▌ | 2851/3349 [5:31:25<1:18:24,  9.45s/it]"
     ]
    },
    {
     "name": "stdout",
     "output_type": "stream",
     "text": [
      "Saved embeddings for 2850000 sentences out of 3348807\n"
     ]
    },
    {
     "name": "stderr",
     "output_type": "stream",
     "text": [
      " 85%|████████▌ | 2861/3349 [5:32:37<1:14:32,  9.17s/it]"
     ]
    },
    {
     "name": "stdout",
     "output_type": "stream",
     "text": [
      "Saved embeddings for 2860000 sentences out of 3348807\n"
     ]
    },
    {
     "name": "stderr",
     "output_type": "stream",
     "text": [
      " 86%|████████▌ | 2871/3349 [5:34:01<1:16:04,  9.55s/it]"
     ]
    },
    {
     "name": "stdout",
     "output_type": "stream",
     "text": [
      "Saved embeddings for 2870000 sentences out of 3348807\n"
     ]
    },
    {
     "name": "stderr",
     "output_type": "stream",
     "text": [
      " 86%|████████▌ | 2881/3349 [5:35:18<1:13:27,  9.42s/it]"
     ]
    },
    {
     "name": "stdout",
     "output_type": "stream",
     "text": [
      "Saved embeddings for 2880000 sentences out of 3348807\n"
     ]
    },
    {
     "name": "stderr",
     "output_type": "stream",
     "text": [
      " 86%|████████▋ | 2891/3349 [5:36:37<1:02:11,  8.15s/it]"
     ]
    },
    {
     "name": "stdout",
     "output_type": "stream",
     "text": [
      "Saved embeddings for 2890000 sentences out of 3348807\n"
     ]
    },
    {
     "name": "stderr",
     "output_type": "stream",
     "text": [
      " 87%|████████▋ | 2901/3349 [5:38:02<1:09:34,  9.32s/it]"
     ]
    },
    {
     "name": "stdout",
     "output_type": "stream",
     "text": [
      "Saved embeddings for 2900000 sentences out of 3348807\n"
     ]
    },
    {
     "name": "stderr",
     "output_type": "stream",
     "text": [
      " 87%|████████▋ | 2911/3349 [5:39:16<57:38,  7.90s/it]  "
     ]
    },
    {
     "name": "stdout",
     "output_type": "stream",
     "text": [
      "Saved embeddings for 2910000 sentences out of 3348807\n"
     ]
    },
    {
     "name": "stderr",
     "output_type": "stream",
     "text": [
      " 87%|████████▋ | 2921/3349 [5:40:40<1:07:17,  9.43s/it]"
     ]
    },
    {
     "name": "stdout",
     "output_type": "stream",
     "text": [
      "Saved embeddings for 2920000 sentences out of 3348807\n"
     ]
    },
    {
     "name": "stderr",
     "output_type": "stream",
     "text": [
      " 88%|████████▊ | 2931/3349 [5:41:55<1:01:03,  8.76s/it]"
     ]
    },
    {
     "name": "stdout",
     "output_type": "stream",
     "text": [
      "Saved embeddings for 2930000 sentences out of 3348807\n"
     ]
    },
    {
     "name": "stderr",
     "output_type": "stream",
     "text": [
      " 88%|████████▊ | 2941/3349 [5:43:21<1:05:06,  9.57s/it]"
     ]
    },
    {
     "name": "stdout",
     "output_type": "stream",
     "text": [
      "Saved embeddings for 2940000 sentences out of 3348807\n"
     ]
    },
    {
     "name": "stderr",
     "output_type": "stream",
     "text": [
      " 88%|████████▊ | 2951/3349 [5:44:31<58:17,  8.79s/it]  "
     ]
    },
    {
     "name": "stdout",
     "output_type": "stream",
     "text": [
      "Saved embeddings for 2950000 sentences out of 3348807\n"
     ]
    },
    {
     "name": "stderr",
     "output_type": "stream",
     "text": [
      " 88%|████████▊ | 2961/3349 [5:45:58<1:02:42,  9.70s/it]"
     ]
    },
    {
     "name": "stdout",
     "output_type": "stream",
     "text": [
      "Saved embeddings for 2960000 sentences out of 3348807\n"
     ]
    },
    {
     "name": "stderr",
     "output_type": "stream",
     "text": [
      " 89%|████████▊ | 2971/3349 [5:47:14<1:00:09,  9.55s/it]"
     ]
    },
    {
     "name": "stdout",
     "output_type": "stream",
     "text": [
      "Saved embeddings for 2970000 sentences out of 3348807\n"
     ]
    },
    {
     "name": "stderr",
     "output_type": "stream",
     "text": [
      " 89%|████████▉ | 2981/3349 [5:48:34<51:13,  8.35s/it]  "
     ]
    },
    {
     "name": "stdout",
     "output_type": "stream",
     "text": [
      "Saved embeddings for 2980000 sentences out of 3348807\n"
     ]
    },
    {
     "name": "stderr",
     "output_type": "stream",
     "text": [
      " 89%|████████▉ | 2991/3349 [5:49:58<56:04,  9.40s/it]"
     ]
    },
    {
     "name": "stdout",
     "output_type": "stream",
     "text": [
      "Saved embeddings for 2990000 sentences out of 3348807\n"
     ]
    },
    {
     "name": "stderr",
     "output_type": "stream",
     "text": [
      " 90%|████████▉ | 3001/3349 [5:51:12<45:15,  7.80s/it]"
     ]
    },
    {
     "name": "stdout",
     "output_type": "stream",
     "text": [
      "Saved embeddings for 3000000 sentences out of 3348807\n"
     ]
    },
    {
     "name": "stderr",
     "output_type": "stream",
     "text": [
      " 90%|████████▉ | 3011/3349 [5:52:35<52:25,  9.31s/it]"
     ]
    },
    {
     "name": "stdout",
     "output_type": "stream",
     "text": [
      "Saved embeddings for 3010000 sentences out of 3348807\n"
     ]
    },
    {
     "name": "stderr",
     "output_type": "stream",
     "text": [
      " 90%|█████████ | 3021/3349 [5:53:48<46:30,  8.51s/it]"
     ]
    },
    {
     "name": "stdout",
     "output_type": "stream",
     "text": [
      "Saved embeddings for 3020000 sentences out of 3348807\n"
     ]
    },
    {
     "name": "stderr",
     "output_type": "stream",
     "text": [
      " 91%|█████████ | 3031/3349 [5:55:13<50:47,  9.58s/it]"
     ]
    },
    {
     "name": "stdout",
     "output_type": "stream",
     "text": [
      "Saved embeddings for 3030000 sentences out of 3348807\n"
     ]
    },
    {
     "name": "stderr",
     "output_type": "stream",
     "text": [
      " 91%|█████████ | 3041/3349 [5:56:25<46:41,  9.09s/it]"
     ]
    },
    {
     "name": "stdout",
     "output_type": "stream",
     "text": [
      "Saved embeddings for 3040000 sentences out of 3348807\n"
     ]
    },
    {
     "name": "stderr",
     "output_type": "stream",
     "text": [
      " 91%|█████████ | 3051/3349 [5:57:51<47:20,  9.53s/it]"
     ]
    },
    {
     "name": "stdout",
     "output_type": "stream",
     "text": [
      "Saved embeddings for 3050000 sentences out of 3348807\n"
     ]
    },
    {
     "name": "stderr",
     "output_type": "stream",
     "text": [
      " 91%|█████████▏| 3061/3349 [5:59:04<44:27,  9.26s/it]"
     ]
    },
    {
     "name": "stdout",
     "output_type": "stream",
     "text": [
      "Saved embeddings for 3060000 sentences out of 3348807\n"
     ]
    },
    {
     "name": "stderr",
     "output_type": "stream",
     "text": [
      " 92%|█████████▏| 3071/3349 [6:00:29<43:15,  9.34s/it]"
     ]
    },
    {
     "name": "stdout",
     "output_type": "stream",
     "text": [
      "Saved embeddings for 3070000 sentences out of 3348807\n"
     ]
    },
    {
     "name": "stderr",
     "output_type": "stream",
     "text": [
      " 92%|█████████▏| 3081/3349 [6:01:50<41:58,  9.40s/it]"
     ]
    },
    {
     "name": "stdout",
     "output_type": "stream",
     "text": [
      "Saved embeddings for 3080000 sentences out of 3348807\n"
     ]
    },
    {
     "name": "stderr",
     "output_type": "stream",
     "text": [
      " 92%|█████████▏| 3091/3349 [6:03:06<32:51,  7.64s/it]"
     ]
    },
    {
     "name": "stdout",
     "output_type": "stream",
     "text": [
      "Saved embeddings for 3090000 sentences out of 3348807\n"
     ]
    },
    {
     "name": "stderr",
     "output_type": "stream",
     "text": [
      " 93%|█████████▎| 3101/3349 [6:04:33<40:32,  9.81s/it]"
     ]
    },
    {
     "name": "stdout",
     "output_type": "stream",
     "text": [
      "Saved embeddings for 3100000 sentences out of 3348807\n"
     ]
    },
    {
     "name": "stderr",
     "output_type": "stream",
     "text": [
      " 93%|█████████▎| 3111/3349 [6:05:46<33:52,  8.54s/it]"
     ]
    },
    {
     "name": "stdout",
     "output_type": "stream",
     "text": [
      "Saved embeddings for 3110000 sentences out of 3348807\n"
     ]
    },
    {
     "name": "stderr",
     "output_type": "stream",
     "text": [
      " 93%|█████████▎| 3121/3349 [6:07:07<33:34,  8.83s/it]"
     ]
    },
    {
     "name": "stdout",
     "output_type": "stream",
     "text": [
      "Saved embeddings for 3120000 sentences out of 3348807\n"
     ]
    },
    {
     "name": "stderr",
     "output_type": "stream",
     "text": [
      " 93%|█████████▎| 3131/3349 [6:08:18<31:09,  8.58s/it]"
     ]
    },
    {
     "name": "stdout",
     "output_type": "stream",
     "text": [
      "Saved embeddings for 3130000 sentences out of 3348807\n"
     ]
    },
    {
     "name": "stderr",
     "output_type": "stream",
     "text": [
      " 94%|█████████▍| 3141/3349 [6:09:44<33:08,  9.56s/it]"
     ]
    },
    {
     "name": "stdout",
     "output_type": "stream",
     "text": [
      "Saved embeddings for 3140000 sentences out of 3348807\n"
     ]
    },
    {
     "name": "stderr",
     "output_type": "stream",
     "text": [
      " 94%|█████████▍| 3151/3349 [6:10:54<29:26,  8.92s/it]"
     ]
    },
    {
     "name": "stdout",
     "output_type": "stream",
     "text": [
      "Saved embeddings for 3150000 sentences out of 3348807\n"
     ]
    },
    {
     "name": "stderr",
     "output_type": "stream",
     "text": [
      " 94%|█████████▍| 3161/3349 [6:12:19<29:59,  9.57s/it]"
     ]
    },
    {
     "name": "stdout",
     "output_type": "stream",
     "text": [
      "Saved embeddings for 3160000 sentences out of 3348807\n"
     ]
    },
    {
     "name": "stderr",
     "output_type": "stream",
     "text": [
      " 95%|█████████▍| 3171/3349 [6:13:31<27:41,  9.33s/it]"
     ]
    },
    {
     "name": "stdout",
     "output_type": "stream",
     "text": [
      "Saved embeddings for 3170000 sentences out of 3348807\n"
     ]
    },
    {
     "name": "stderr",
     "output_type": "stream",
     "text": [
      " 95%|█████████▍| 3181/3349 [6:14:55<26:48,  9.57s/it]"
     ]
    },
    {
     "name": "stdout",
     "output_type": "stream",
     "text": [
      "Saved embeddings for 3180000 sentences out of 3348807\n"
     ]
    },
    {
     "name": "stderr",
     "output_type": "stream",
     "text": [
      " 95%|█████████▌| 3191/3349 [6:16:08<24:27,  9.28s/it]"
     ]
    },
    {
     "name": "stdout",
     "output_type": "stream",
     "text": [
      "Saved embeddings for 3190000 sentences out of 3348807\n"
     ]
    },
    {
     "name": "stderr",
     "output_type": "stream",
     "text": [
      " 96%|█████████▌| 3201/3349 [6:17:30<20:55,  8.48s/it]"
     ]
    },
    {
     "name": "stdout",
     "output_type": "stream",
     "text": [
      "Saved embeddings for 3200000 sentences out of 3348807\n"
     ]
    },
    {
     "name": "stderr",
     "output_type": "stream",
     "text": [
      " 96%|█████████▌| 3211/3349 [6:18:48<21:31,  9.36s/it]"
     ]
    },
    {
     "name": "stdout",
     "output_type": "stream",
     "text": [
      "Saved embeddings for 3210000 sentences out of 3348807\n"
     ]
    },
    {
     "name": "stderr",
     "output_type": "stream",
     "text": [
      " 96%|█████████▌| 3221/3349 [6:20:06<16:20,  7.66s/it]"
     ]
    },
    {
     "name": "stdout",
     "output_type": "stream",
     "text": [
      "Saved embeddings for 3220000 sentences out of 3348807\n"
     ]
    },
    {
     "name": "stderr",
     "output_type": "stream",
     "text": [
      " 96%|█████████▋| 3231/3349 [6:21:31<18:51,  9.59s/it]"
     ]
    },
    {
     "name": "stdout",
     "output_type": "stream",
     "text": [
      "Saved embeddings for 3230000 sentences out of 3348807\n"
     ]
    },
    {
     "name": "stderr",
     "output_type": "stream",
     "text": [
      " 97%|█████████▋| 3241/3349 [6:22:41<12:24,  6.89s/it]"
     ]
    },
    {
     "name": "stdout",
     "output_type": "stream",
     "text": [
      "Saved embeddings for 3240000 sentences out of 3348807\n"
     ]
    },
    {
     "name": "stderr",
     "output_type": "stream",
     "text": [
      " 97%|█████████▋| 3251/3349 [6:24:07<15:51,  9.71s/it]"
     ]
    },
    {
     "name": "stdout",
     "output_type": "stream",
     "text": [
      "Saved embeddings for 3250000 sentences out of 3348807\n"
     ]
    },
    {
     "name": "stderr",
     "output_type": "stream",
     "text": [
      " 97%|█████████▋| 3261/3349 [6:25:18<11:36,  7.91s/it]"
     ]
    },
    {
     "name": "stdout",
     "output_type": "stream",
     "text": [
      "Saved embeddings for 3260000 sentences out of 3348807\n"
     ]
    },
    {
     "name": "stderr",
     "output_type": "stream",
     "text": [
      " 98%|█████████▊| 3271/3349 [6:26:42<12:16,  9.44s/it]"
     ]
    },
    {
     "name": "stdout",
     "output_type": "stream",
     "text": [
      "Saved embeddings for 3270000 sentences out of 3348807\n"
     ]
    },
    {
     "name": "stderr",
     "output_type": "stream",
     "text": [
      " 98%|█████████▊| 3281/3349 [6:27:53<09:48,  8.65s/it]"
     ]
    },
    {
     "name": "stdout",
     "output_type": "stream",
     "text": [
      "Saved embeddings for 3280000 sentences out of 3348807\n"
     ]
    },
    {
     "name": "stderr",
     "output_type": "stream",
     "text": [
      " 98%|█████████▊| 3291/3349 [6:29:17<08:42,  9.01s/it]"
     ]
    },
    {
     "name": "stdout",
     "output_type": "stream",
     "text": [
      "Saved embeddings for 3290000 sentences out of 3348807\n"
     ]
    },
    {
     "name": "stderr",
     "output_type": "stream",
     "text": [
      " 99%|█████████▊| 3301/3349 [6:30:28<07:37,  9.53s/it]"
     ]
    },
    {
     "name": "stdout",
     "output_type": "stream",
     "text": [
      "Saved embeddings for 3300000 sentences out of 3348807\n"
     ]
    },
    {
     "name": "stderr",
     "output_type": "stream",
     "text": [
      " 99%|█████████▉| 3311/3349 [6:31:58<06:37, 10.47s/it]"
     ]
    },
    {
     "name": "stdout",
     "output_type": "stream",
     "text": [
      "Saved embeddings for 3310000 sentences out of 3348807\n"
     ]
    },
    {
     "name": "stderr",
     "output_type": "stream",
     "text": [
      " 99%|█████████▉| 3321/3349 [6:33:12<04:09,  8.93s/it]"
     ]
    },
    {
     "name": "stdout",
     "output_type": "stream",
     "text": [
      "Saved embeddings for 3320000 sentences out of 3348807\n"
     ]
    },
    {
     "name": "stderr",
     "output_type": "stream",
     "text": [
      " 99%|█████████▉| 3331/3349 [6:34:35<02:33,  8.52s/it]"
     ]
    },
    {
     "name": "stdout",
     "output_type": "stream",
     "text": [
      "Saved embeddings for 3330000 sentences out of 3348807\n"
     ]
    },
    {
     "name": "stderr",
     "output_type": "stream",
     "text": [
      "100%|█████████▉| 3341/3349 [6:35:53<01:14,  9.37s/it]"
     ]
    },
    {
     "name": "stdout",
     "output_type": "stream",
     "text": [
      "Saved embeddings for 3340000 sentences out of 3348807\n"
     ]
    },
    {
     "name": "stderr",
     "output_type": "stream",
     "text": [
      "100%|██████████| 3349/3349 [6:36:54<00:00,  7.11s/it]\n"
     ]
    },
    {
     "name": "stdout",
     "output_type": "stream",
     "text": [
      "Saved embeddings for all sentences\n"
     ]
    },
    {
     "ename": "",
     "evalue": "",
     "output_type": "error",
     "traceback": [
      "\u001b[1;31mThe Kernel crashed while executing code in the the current cell or a previous cell. Please review the code in the cell(s) to identify a possible cause of the failure. Click <a href='https://aka.ms/vscodeJupyterKernelCrash'>here</a> for more info. View Jupyter <a href='command:jupyter.viewOutput'>log</a> for further details."
     ]
    }
   ],
   "source": [
    "import numpy as np\n",
    "from tqdm import tqdm\n",
    "\n",
    "out_path = f\"retrieval/wiki_embeddings_{model_name.split('/')[-1]}.npy\"\n",
    "save_interval = 10000\n",
    "wiki_chunks_list = list(wiki_chunks.values())\n",
    "batch_size = 1000\n",
    "sentence_embeddings = np.zeros((len(wiki_chunks_list), model.config.hidden_size))\n",
    "for i in tqdm(range(0, len(wiki_chunks_list), batch_size)):\n",
    "    # Tokenize sentences\n",
    "    encoded_chunks = tokenizer(wiki_chunks_list[i:i + batch_size], padding=True, truncation=True, return_tensors='pt')\n",
    "\n",
    "    # Compute token embeddings\n",
    "    with torch.no_grad():\n",
    "        model_output = model(**encoded_chunks.to(device))\n",
    "        # Perform pooling. In this case, cls pooling.\n",
    "        embeddings = model_output[0][:, 0]\n",
    "    # normalize embeddings\n",
    "    embeddings = torch.nn.functional.normalize(embeddings, p=2, dim=1)\n",
    "    sentence_embeddings[i:i + batch_size, :] = embeddings.cpu().numpy()\n",
    "\n",
    "    if i % save_interval == 0:\n",
    "        np.save(out_path, sentence_embeddings)\n",
    "        print(f\"Saved embeddings for {i} sentences out of {len(wiki_chunks_list)}\")\n",
    "np.save(out_path, sentence_embeddings)\n",
    "print(f\"Saved embeddings for all sentences\")"
   ]
  },
  {
   "cell_type": "code",
   "execution_count": 10,
   "metadata": {},
   "outputs": [
    {
     "data": {
      "text/plain": [
       "[[919], [517]]"
      ]
     },
     "execution_count": 10,
     "metadata": {},
     "output_type": "execute_result"
    }
   ],
   "source": [
    "sim = torch.mm(query_embeddings, sentence_embeddings.transpose(0, 1))\n",
    "topk = torch.topk(sim, 5, dim=1).indices.tolist()\n",
    "topk"
   ]
  },
  {
   "cell_type": "code",
   "execution_count": 11,
   "metadata": {},
   "outputs": [
    {
     "data": {
      "text/plain": [
       "'Buddhist art is the artistic practices that are influenced by Buddhism. It includes art media which depict Buddhas, bodhisattvas, and other entities; notable Buddhist figures, both historical and mythical; narrative scenes from the lives of all of these; mandalas and other graphic aids to practice; as well as physical objects associated with Buddhist practice, such as vajras, bells, stupas and Buddhist temple architecture. Buddhist art originated on the Indian subcontinent following the historical life of Siddhartha Gautama, 6th to 5th century BC, and thereafter evolved by contact with other cultures as it spread throughout Asia and the world. Buddhist art followed believers as the dharma spread, adapted, and evolved in each new host country. It developed to the north through Central Asia and into Eastern Asia to form the Northern branch of Buddhist art, and to the east as far as Southeast Asia to form the Southern branch of Buddhist art. In India, Buddhist art flourished and co-developed with Hindu and Jain art, with cave temple complexes built together, each likely influencing the other.'"
      ]
     },
     "execution_count": 11,
     "metadata": {},
     "output_type": "execute_result"
    }
   ],
   "source": [
    "# # for s2p(short query to long passage) retrieval task, add an instruction to query (not add instruction for passages)\n",
    "instruction = \"What information is relevant to determining whether the following text is true?\"\n",
    "queries = [\"The Tang dynasty (618-907 CE) saw the development of a vibrant national identity through song and dance performance\", \"Modern Chinese musicians continue to explore new avenues in traditional music, and have collaborated with Western artists to create exciting works that bridge Eastern and Western forms of expression\"]\n",
    "encoded_input = tokenizer([instruction + q for q in queries], padding=True, truncation=True, return_tensors='pt')\n"
   ]
  },
  {
   "cell_type": "code",
   "execution_count": 12,
   "metadata": {},
   "outputs": [],
   "source": []
  },
  {
   "cell_type": "code",
   "execution_count": 13,
   "metadata": {},
   "outputs": [
    {
     "data": {
      "text/plain": [
       "384"
      ]
     },
     "execution_count": 13,
     "metadata": {},
     "output_type": "execute_result"
    }
   ],
   "source": [
    "embed_size"
   ]
  },
  {
   "cell_type": "code",
   "execution_count": null,
   "metadata": {},
   "outputs": [
    {
     "name": "stdout",
     "output_type": "stream",
     "text": [
      "False\n"
     ]
    }
   ],
   "source": [
    "import faiss\n",
    "\n",
    "model_name = \"bge-small-en\"\n",
    "dim = {\"bge-small-en\": 1024, \"bge-small-en\": 384}[model_name]\n",
    "\n",
    "# use inner product metric\n",
    "config = faiss.GpuIndexFlatConfig()\n",
    "config.useFloat16 = True\n",
    "config.device = 1\n",
    "res = faiss.StandardGpuResources()\n",
    "quantizer = faiss.GpuIndexFlatIP(res, dim, config)\n",
    "nlist = 100  # number of clusters\n",
    "m = 8  # number of subquantizers\n",
    "index = faiss.IndexIVFPQ(quantizer, dim, nlist, m, 8)\n",
    "\n",
    "# index = faiss.IndexFlatIP(dims)\n",
    "\n",
    "# cpu_index = faiss.IndexFlatIP(1024)\n",
    "\n",
    "# index = faiss.index_cpu_to_all_gpus(  # build the index\n",
    "#     cpu_index\n",
    "# )\n",
    "\n",
    "# TODO: take a random sample of 10 files to train with\n",
    "n_samples = 5\n",
    "files = np.random.choice(os.listdir(embeddings_dir), n_samples)\n",
    "vecs = []\n",
    "for file in files:\n",
    "    vecs.append(np.load(os.path.join(embeddings_dir, file)).astype(np.float16))\n",
    "vecs = np.concatenate(vecs)\n",
    "index.train(vecs)\n",
    "print(index.is_trained)"
   ]
  },
  {
   "cell_type": "code",
   "execution_count": null,
   "metadata": {},
   "outputs": [
    {
     "name": "stdout",
     "output_type": "stream",
     "text": [
      "176\n"
     ]
    },
    {
     "name": "stderr",
     "output_type": "stream",
     "text": [
      "Adding embeddings to index: 100%|██████████| 176/176 [15:50<00:00,  5.40s/it]\n"
     ]
    }
   ],
   "source": [
    "import os\n",
    "import numpy as np\n",
    "from tqdm import tqdm\n",
    "\n",
    "embeddings_dir = f\"retrieval/20230601.en.wiki_embeddings_{model_name}\"\n",
    "files = os.listdir(embeddings_dir)\n",
    "# make sure to add keys to index in order\n",
    "files = sorted(files, key=lambda file: int(file.split(\".\")[0]))\n",
    "print(len(files))\n",
    "for file in tqdm(files, desc=\"Adding embeddings to index\"):\n",
    "    batch_num = int(file.split(\".\")[0])\n",
    "    vecs = np.load(os.path.join(embeddings_dir, file)).astype(np.float16)\n",
    "    index.add(vecs)"
   ]
  },
  {
   "cell_type": "code",
   "execution_count": null,
   "metadata": {},
   "outputs": [],
   "source": [
    "vecs = np.load(os.path.join(embeddings_dir, files[-2]))"
   ]
  },
  {
   "cell_type": "code",
   "execution_count": null,
   "metadata": {},
   "outputs": [],
   "source": [
    "query = vecs[:1, :]"
   ]
  },
  {
   "cell_type": "code",
   "execution_count": null,
   "metadata": {},
   "outputs": [
    {
     "data": {
      "text/plain": [
       "(array([[0.16384947]], dtype=float32), array([[34800000]]))"
      ]
     },
     "metadata": {},
     "output_type": "display_data"
    }
   ],
   "source": [
    "num_passages = 1\n",
    "D, I = index.search(query, num_passages)\n",
    "D, I"
   ]
  },
  {
   "cell_type": "code",
   "execution_count": null,
   "metadata": {},
   "outputs": [
    {
     "name": "stderr",
     "output_type": "stream",
     "text": [
      "/mnt/ssd-2/spar/alexm/miniconda3/envs/dlkb/lib/python3.10/site-packages/tqdm/auto.py:21: TqdmWarning: IProgress not found. Please update jupyter and ipywidgets. See https://ipywidgets.readthedocs.io/en/stable/user_install.html\n",
      "  from .autonotebook import tqdm as notebook_tqdm\n"
     ]
    },
    {
     "name": "stdout",
     "output_type": "stream",
     "text": [
      "Loading model... done.\n"
     ]
    }
   ],
   "source": [
    "from Retriever import Retriever\n",
    "retriever = Retriever(\n",
    "    use_IVF=True,\n",
    "    encoder_name=\"BAAI/bge-small-en\",\n",
    "    pretrained_index_path='retrieval/20230601.en.wiki_embeddings_bge-small-en_IVF.index',\n",
    ")"
   ]
  },
  {
   "cell_type": "code",
   "execution_count": null,
   "metadata": {},
   "outputs": [
    {
     "data": {
      "text/plain": [
       "(['misses important safeguards. It does not check A, B, and U are not zero.\\n\\nbased on http://srp.stanford.edu/design.html\\n\"\"\"\\nimport hashlib\\nimport random\\n\\n# Note: str converts as is, str([1,2,3,4]) will convert to \"[1,2,3,4]\"\\ndef H(*args) -> int:\\n    \"\"\"A one-way hash function.\"\"\"\\n    a = \":\".join(str(a) for a in args)\\n    return int(hashlib.sha256(a.encode(\"utf-8\")).hexdigest(), 16)\\n\\ndef cryptrand(n: int = 1024):\\n    return random.SystemRandom().getrandbits(n) % N\\n\\n# A large safe prime (N = 2q+1, where q is prime)\\n# All arithmetic is done modulo N\\n# (generated using \"openssl dhparam -text 1024\")\\nN = \"\"\"00:c0:37:c3:75:88:b4:32:98:87:e6:1c:2d:a3:32:\\n       4b:1b:a4:b8:1a:63:f9:74:8f:ed:2d:8a:41:0c:2f:\\n   '],\n",
       " array([0.20563737], dtype=float32))"
      ]
     },
     "metadata": {},
     "output_type": "display_data"
    }
   ],
   "source": [
    "retriever(\"\"\"First, decide whether the statement can even be given an accuracy label, writing \"Determinable\" if it can, and \"N/A\" if the statement doesn't make any claims that can be judged on their accuracy. Then, if the statement is \"Determinable\",  rate the extent to which it is true, accurate, and not misleading. Your rating must be one of \"N/A\", \"Determinable - Certainly True\", \"Determinable - True\", \"Determinable - Uncertain\", \"Determinable - False\", \"Determinable - Certainly False\". Ratings should be based on the quality of the new information introduced in a statement, and if anything in the statement is incorrect or misleading, the statement is considered incorrect. \"Other popular hashing algorithms include MD5, SHA-1, and RSA[[1]]\\\"\"\"\", threshold=0.)"
   ]
  },
  {
   "cell_type": "code",
   "execution_count": null,
   "metadata": {},
   "outputs": [
    {
     "data": {
      "text/plain": [
       "'The best materials for making a terrarium are glass, plastic, wood, or stone. You will also need soil, plants, and stones to fill the terrarium. Depending on what you choose, you may want to use additional decorations such as figurines, mosses, or rocks.'"
      ]
     },
     "metadata": {},
     "output_type": "display_data"
    }
   ],
   "source": [
    "raw_df[\"assitant_text\"].iloc[3]"
   ]
  },
  {
   "cell_type": "code",
   "execution_count": null,
   "metadata": {},
   "outputs": [
    {
     "data": {
      "text/plain": [
       "(['had attempted to work out mathematically based prophecies in the Bible for decades. In an interview with the San Francisco Chronicle he explained \"...\\xa0I was an engineer, I was very interested in the numbers. I\\'d wonder, \\'Why did God put this number in, or that number in?\\' It was not a question of unbelief, it was a question of, \\'There must be a reason for it.\\'\"\\n\\nIn 1970, Camping dated the Great Flood to 4990 BC. Using this date, taking the statement in Genesis 7:4 (\"Seven days from now I will send rain on the earth\") to be a prediction of',\n",
       "  'a giant storm sent by God flooded the Earth. Noah and his family and the animals entered the Ark, and \"the same day were all the fountains of the great deep broken up, and the windows of heaven were opened, and the rain was upon the earth forty days and forty nights.\" The flood covered even the highest mountains to a depth of more than twenty feet, and all creatures died; only Noah and those with him on the Ark were left alive.  In the New Testament, Jesus Christ is recorded to have calmed a storm on the Sea',\n",
       "  'interested in the Noachian Flood and Joshua\\'s long day. Rimmer maintained that the Flood in Genesis was only a local flood, another view that is inconsistent with Young Earth creationism.\\n\\nHe wrote that \"In all of our scientific progress we have not yet discovered one single fact that contradicts or refutes any statement in the Bible.\" He had a gift for producing unlikely explanations to protect the veracity of the biblical text. For example, Rimmer stated that Jonah could live after being swallowed by a whale because Rimmer postulated that there is a special cavity in the heads of whales which',\n",
       "  \"on Earth. Tyson proceeds to describe more recent geologic events such as the formation of the Mediterranean Sea due to the breaking of the natural dam at the Strait of Gibraltar, and how the geologic formation of the Isthmus of Panama broke the free flow of the Atlantic Ocean into the Pacific, causing large-scale climate change such as turning the bulk of Africa from lush grasslands into arid plains and further influencing tree-climbing mammals' evolution towards walking long distances on two legs and using tools. Tyson further explains how the influence of other planets in the Solar System have small\",\n",
       "  'but (...) God is in charge. The structure will be revealed in its time. We climb the mountain and search, hoping it is, in fact, God\\'s time as we climb. Use us, O Lord, is our prayer.\\n\\nSee also \\n Archaeological forgery\\n Biblical archeology\\n Biblical literalism\\n Creationism\\n Flood myth\\n Flood geology\\n In Search of Noah\\'s Ark\\n List of topics characterized as pseudoscience\\n\\nReferences\\n\\nFurther reading \\n Bailey, Lloyd R. (1978). Where is Noah\\'s Ark? Nashville: Abingdon. .\\n Cargill, Robert R. (28 April 2010) \"no, no you didn’t find noah\\'s ark\".  XKV8R: The Official Blog of Robert R. Cargill, Ph.D.\\n Cummings, Violet M.'],\n",
       " array([0.22703108, 0.22715697, 0.2286918 , 0.2289831 , 0.2301698 ],\n",
       "       dtype=float32))"
      ]
     },
     "metadata": {},
     "output_type": "display_data"
    }
   ],
   "source": [
    "retriever(\"The great flood was caused by a massive asteroid impact. The asteroid hit Earth about 12,000 years ago and caused a tsunami that flooded the entire planet. This is why we have Noah’s Ark in the Bible. Don't let anyone convince you otherwise.\", 5, threshold=0.1)"
   ]
  },
  {
   "cell_type": "code",
   "execution_count": null,
   "metadata": {},
   "outputs": [],
   "source": []
  },
  {
   "cell_type": "code",
   "execution_count": 5,
   "metadata": {},
   "outputs": [
    {
     "data": {
      "text/plain": [
       "189.76573"
      ]
     },
     "execution_count": 5,
     "metadata": {},
     "output_type": "execute_result"
    }
   ],
   "source": [
    "34 * len(wiki_chunks) / 10000 / 60"
   ]
  }
 ],
 "metadata": {
  "kernelspec": {
   "display_name": "dlkb",
   "language": "python",
   "name": "python3"
  },
  "language_info": {
   "codemirror_mode": {
    "name": "ipython",
    "version": 3
   },
   "file_extension": ".py",
   "mimetype": "text/x-python",
   "name": "python",
   "nbconvert_exporter": "python",
   "pygments_lexer": "ipython3",
   "version": "3.10.11"
  },
  "orig_nbformat": 4
 },
 "nbformat": 4,
 "nbformat_minor": 2
}
