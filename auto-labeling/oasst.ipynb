{
 "cells": [
  {
   "cell_type": "code",
   "execution_count": 1,
   "metadata": {},
   "outputs": [],
   "source": [
    "# ds = load_dataset(\"OpenAssistant/oasst1\")\n",
    "# load dataset from local jsonl\n",
    "path = \"data/oasst/2023-04-12_oasst_all.messages.jsonl\"\n",
    "# path = \"data/alpaca_data.json\"\n",
    "\n",
    "import pandas as pd\n",
    "\n",
    "df = pd.read_json(path, lines=path.endswith(\"jsonl\"))\n"
   ]
  },
  {
   "cell_type": "code",
   "execution_count": 2,
   "metadata": {},
   "outputs": [
    {
     "data": {
      "text/html": [
       "<div>\n",
       "<style scoped>\n",
       "    .dataframe tbody tr th:only-of-type {\n",
       "        vertical-align: middle;\n",
       "    }\n",
       "\n",
       "    .dataframe tbody tr th {\n",
       "        vertical-align: top;\n",
       "    }\n",
       "\n",
       "    .dataframe thead th {\n",
       "        text-align: right;\n",
       "    }\n",
       "</style>\n",
       "<table border=\"1\" class=\"dataframe\">\n",
       "  <thead>\n",
       "    <tr style=\"text-align: right;\">\n",
       "      <th></th>\n",
       "      <th>message_id</th>\n",
       "      <th>user_id</th>\n",
       "      <th>created_date</th>\n",
       "      <th>text</th>\n",
       "      <th>role</th>\n",
       "      <th>lang</th>\n",
       "      <th>review_count</th>\n",
       "      <th>review_result</th>\n",
       "      <th>deleted</th>\n",
       "      <th>synthetic</th>\n",
       "      <th>emojis</th>\n",
       "      <th>labels</th>\n",
       "      <th>detoxify</th>\n",
       "      <th>message_tree_id</th>\n",
       "      <th>tree_state</th>\n",
       "      <th>parent_id</th>\n",
       "      <th>rank</th>\n",
       "      <th>model_name</th>\n",
       "    </tr>\n",
       "  </thead>\n",
       "  <tbody>\n",
       "    <tr>\n",
       "      <th>0</th>\n",
       "      <td>6ab24d72-0181-4594-a9cd-deaf170242fb</td>\n",
       "      <td>c3fe8c76-fc30-4fa7-b7f8-c492f5967d18</td>\n",
       "      <td>2023-02-05T14:23:50.983374+00:00</td>\n",
       "      <td>Can you write a short introduction about the r...</td>\n",
       "      <td>prompter</td>\n",
       "      <td>en</td>\n",
       "      <td>3</td>\n",
       "      <td>1.0</td>\n",
       "      <td>False</td>\n",
       "      <td>False</td>\n",
       "      <td>{'+1': 10, '_skip_reply': 1, '_skip_ranking': 4}</td>\n",
       "      <td>{'spam': {'value': 0.0, 'count': 3}, 'lang_mis...</td>\n",
       "      <td>{'toxicity': 0.00044308538781400006, 'severe_t...</td>\n",
       "      <td>6ab24d72-0181-4594-a9cd-deaf170242fb</td>\n",
       "      <td>ready_for_export</td>\n",
       "      <td>NaN</td>\n",
       "      <td>NaN</td>\n",
       "      <td>NaN</td>\n",
       "    </tr>\n",
       "    <tr>\n",
       "      <th>1</th>\n",
       "      <td>c8e83833-ecbc-44fe-b6db-735228c25a1c</td>\n",
       "      <td>2c96e467-66f0-4be7-9693-bda51356a424</td>\n",
       "      <td>2023-02-06T13:50:44.657083+00:00</td>\n",
       "      <td>\"Monopsony\" refers to a market structure where...</td>\n",
       "      <td>assistant</td>\n",
       "      <td>en</td>\n",
       "      <td>3</td>\n",
       "      <td>1.0</td>\n",
       "      <td>False</td>\n",
       "      <td>False</td>\n",
       "      <td>{'+1': 3, '_skip_labeling': 1}</td>\n",
       "      <td>{'spam': {'value': 0.0, 'count': 3}, 'fails_ta...</td>\n",
       "      <td>{'toxicity': 0.000263965659542, 'severe_toxici...</td>\n",
       "      <td>6ab24d72-0181-4594-a9cd-deaf170242fb</td>\n",
       "      <td>ready_for_export</td>\n",
       "      <td>6ab24d72-0181-4594-a9cd-deaf170242fb</td>\n",
       "      <td>0.0</td>\n",
       "      <td>NaN</td>\n",
       "    </tr>\n",
       "    <tr>\n",
       "      <th>2</th>\n",
       "      <td>6708c47f-05c9-4346-b3d2-40b2bd24fde4</td>\n",
       "      <td>2c96e467-66f0-4be7-9693-bda51356a424</td>\n",
       "      <td>2023-02-06T18:48:49.391686+00:00</td>\n",
       "      <td>Now explain it to a dog</td>\n",
       "      <td>prompter</td>\n",
       "      <td>en</td>\n",
       "      <td>3</td>\n",
       "      <td>1.0</td>\n",
       "      <td>False</td>\n",
       "      <td>False</td>\n",
       "      <td>NaN</td>\n",
       "      <td>{'spam': {'value': 0.0, 'count': 3}, 'lang_mis...</td>\n",
       "      <td>{'toxicity': 0.036484777927398, 'severe_toxici...</td>\n",
       "      <td>6ab24d72-0181-4594-a9cd-deaf170242fb</td>\n",
       "      <td>ready_for_export</td>\n",
       "      <td>c8e83833-ecbc-44fe-b6db-735228c25a1c</td>\n",
       "      <td>NaN</td>\n",
       "      <td>NaN</td>\n",
       "    </tr>\n",
       "    <tr>\n",
       "      <th>3</th>\n",
       "      <td>343ee2d4-87ae-41fd-a768-bdd65959dc4a</td>\n",
       "      <td>49ddcb0d-6588-43bd-858d-19c577f12e7b</td>\n",
       "      <td>2023-02-06T13:37:56.044680+00:00</td>\n",
       "      <td>Monopsony is a market structure in which there...</td>\n",
       "      <td>assistant</td>\n",
       "      <td>en</td>\n",
       "      <td>3</td>\n",
       "      <td>1.0</td>\n",
       "      <td>False</td>\n",
       "      <td>False</td>\n",
       "      <td>{'+1': 2, '_skip_reply': 1, '_skip_labeling': 2}</td>\n",
       "      <td>{'spam': {'value': 0.0, 'count': 3}, 'fails_ta...</td>\n",
       "      <td>{'toxicity': 0.0008866374846540001, 'severe_to...</td>\n",
       "      <td>6ab24d72-0181-4594-a9cd-deaf170242fb</td>\n",
       "      <td>ready_for_export</td>\n",
       "      <td>6ab24d72-0181-4594-a9cd-deaf170242fb</td>\n",
       "      <td>1.0</td>\n",
       "      <td>NaN</td>\n",
       "    </tr>\n",
       "    <tr>\n",
       "      <th>4</th>\n",
       "      <td>18145bf4-37fd-4ac0-80f5-6108b5f2b365</td>\n",
       "      <td>e10e99a0-38ac-4b07-bf5d-4427696e4e0d</td>\n",
       "      <td>2023-02-06T18:52:51.428543+00:00</td>\n",
       "      <td>How can one fight back when a monospony had be...</td>\n",
       "      <td>prompter</td>\n",
       "      <td>en</td>\n",
       "      <td>3</td>\n",
       "      <td>1.0</td>\n",
       "      <td>False</td>\n",
       "      <td>False</td>\n",
       "      <td>{'+1': 1}</td>\n",
       "      <td>{'spam': {'value': 0.0, 'count': 3}, 'lang_mis...</td>\n",
       "      <td>{'toxicity': 0.000936213706154, 'severe_toxici...</td>\n",
       "      <td>6ab24d72-0181-4594-a9cd-deaf170242fb</td>\n",
       "      <td>ready_for_export</td>\n",
       "      <td>343ee2d4-87ae-41fd-a768-bdd65959dc4a</td>\n",
       "      <td>NaN</td>\n",
       "      <td>NaN</td>\n",
       "    </tr>\n",
       "  </tbody>\n",
       "</table>\n",
       "</div>"
      ],
      "text/plain": [
       "                             message_id                               user_id   \n",
       "0  6ab24d72-0181-4594-a9cd-deaf170242fb  c3fe8c76-fc30-4fa7-b7f8-c492f5967d18  \\\n",
       "1  c8e83833-ecbc-44fe-b6db-735228c25a1c  2c96e467-66f0-4be7-9693-bda51356a424   \n",
       "2  6708c47f-05c9-4346-b3d2-40b2bd24fde4  2c96e467-66f0-4be7-9693-bda51356a424   \n",
       "3  343ee2d4-87ae-41fd-a768-bdd65959dc4a  49ddcb0d-6588-43bd-858d-19c577f12e7b   \n",
       "4  18145bf4-37fd-4ac0-80f5-6108b5f2b365  e10e99a0-38ac-4b07-bf5d-4427696e4e0d   \n",
       "\n",
       "                       created_date   \n",
       "0  2023-02-05T14:23:50.983374+00:00  \\\n",
       "1  2023-02-06T13:50:44.657083+00:00   \n",
       "2  2023-02-06T18:48:49.391686+00:00   \n",
       "3  2023-02-06T13:37:56.044680+00:00   \n",
       "4  2023-02-06T18:52:51.428543+00:00   \n",
       "\n",
       "                                                text       role lang   \n",
       "0  Can you write a short introduction about the r...   prompter   en  \\\n",
       "1  \"Monopsony\" refers to a market structure where...  assistant   en   \n",
       "2                            Now explain it to a dog   prompter   en   \n",
       "3  Monopsony is a market structure in which there...  assistant   en   \n",
       "4  How can one fight back when a monospony had be...   prompter   en   \n",
       "\n",
       "   review_count  review_result  deleted  synthetic   \n",
       "0             3            1.0    False      False  \\\n",
       "1             3            1.0    False      False   \n",
       "2             3            1.0    False      False   \n",
       "3             3            1.0    False      False   \n",
       "4             3            1.0    False      False   \n",
       "\n",
       "                                             emojis   \n",
       "0  {'+1': 10, '_skip_reply': 1, '_skip_ranking': 4}  \\\n",
       "1                    {'+1': 3, '_skip_labeling': 1}   \n",
       "2                                               NaN   \n",
       "3  {'+1': 2, '_skip_reply': 1, '_skip_labeling': 2}   \n",
       "4                                         {'+1': 1}   \n",
       "\n",
       "                                              labels   \n",
       "0  {'spam': {'value': 0.0, 'count': 3}, 'lang_mis...  \\\n",
       "1  {'spam': {'value': 0.0, 'count': 3}, 'fails_ta...   \n",
       "2  {'spam': {'value': 0.0, 'count': 3}, 'lang_mis...   \n",
       "3  {'spam': {'value': 0.0, 'count': 3}, 'fails_ta...   \n",
       "4  {'spam': {'value': 0.0, 'count': 3}, 'lang_mis...   \n",
       "\n",
       "                                            detoxify   \n",
       "0  {'toxicity': 0.00044308538781400006, 'severe_t...  \\\n",
       "1  {'toxicity': 0.000263965659542, 'severe_toxici...   \n",
       "2  {'toxicity': 0.036484777927398, 'severe_toxici...   \n",
       "3  {'toxicity': 0.0008866374846540001, 'severe_to...   \n",
       "4  {'toxicity': 0.000936213706154, 'severe_toxici...   \n",
       "\n",
       "                        message_tree_id        tree_state   \n",
       "0  6ab24d72-0181-4594-a9cd-deaf170242fb  ready_for_export  \\\n",
       "1  6ab24d72-0181-4594-a9cd-deaf170242fb  ready_for_export   \n",
       "2  6ab24d72-0181-4594-a9cd-deaf170242fb  ready_for_export   \n",
       "3  6ab24d72-0181-4594-a9cd-deaf170242fb  ready_for_export   \n",
       "4  6ab24d72-0181-4594-a9cd-deaf170242fb  ready_for_export   \n",
       "\n",
       "                              parent_id  rank model_name  \n",
       "0                                   NaN   NaN        NaN  \n",
       "1  6ab24d72-0181-4594-a9cd-deaf170242fb   0.0        NaN  \n",
       "2  c8e83833-ecbc-44fe-b6db-735228c25a1c   NaN        NaN  \n",
       "3  6ab24d72-0181-4594-a9cd-deaf170242fb   1.0        NaN  \n",
       "4  343ee2d4-87ae-41fd-a768-bdd65959dc4a   NaN        NaN  "
      ]
     },
     "execution_count": 2,
     "metadata": {},
     "output_type": "execute_result"
    }
   ],
   "source": [
    "# base_df = df[df[\"synthetic\"]]\n",
    "base_df = df\n",
    "base_df.head()"
   ]
  },
  {
   "cell_type": "code",
   "execution_count": 3,
   "metadata": {},
   "outputs": [
    {
     "data": {
      "text/plain": [
       "(161443,\n",
       " array(['c3fe8c76-fc30-4fa7-b7f8-c492f5967d18',\n",
       "        '2c96e467-66f0-4be7-9693-bda51356a424',\n",
       "        '49ddcb0d-6588-43bd-858d-19c577f12e7b', ...,\n",
       "        'e3b63c18-51a8-446c-983c-1803e5721001',\n",
       "        'fcfec287-18bf-49f3-8e9b-0c48df590fc8',\n",
       "        '55e23953-c333-4b02-a459-c99d2c7172a3'], dtype=object),\n",
       " array(['prompter', 'assistant'], dtype=object))"
      ]
     },
     "execution_count": 3,
     "metadata": {},
     "output_type": "execute_result"
    }
   ],
   "source": [
    "len(base_df), base_df[\"user_id\"].unique(), base_df[\"role\"].unique()"
   ]
  },
  {
   "cell_type": "code",
   "execution_count": 4,
   "metadata": {},
   "outputs": [
    {
     "data": {
      "text/plain": [
       "Counter({nan: 62039,\n",
       "         'chip20b': 3831,\n",
       "         'dvruette/oasst-pythia-12b-6000-steps,max_new_tokens=1000,min_new_tokens=4,do_sample=True,temperature=0.8,repetition_penalty=1.2,top_p=0.9': 309,\n",
       "         'dvruette/oasst-pythia-12b-6000-steps,max_new_tokens=1000,min_new_tokens=4,do_sample=True,temperature=1.0,repetition_penalty=1.2,typical_p=0.2': 292,\n",
       "         'dvruette/oasst-pythia-12b-6000-steps,max_new_tokens=1000,min_new_tokens=4,do_sample=True,temperature=1.0,repetition_penalty=1.2,top_k=50,top_p=0.95': 269,\n",
       "         'dvruette/oasst-pythia-12b-6000-steps,max_new_tokens=1000,min_new_tokens=4,do_sample=True,temperature=1.0,repetition_penalty=1.2,top_k=5,penalty_alpha=0.6': 257,\n",
       "         'dvruette/oasst-pythia-12b-6000-steps,max_new_tokens=1000,min_new_tokens=4,do_sample=True,temperature=0.8,repetition_penalty=1.2,typical_p=0.3': 228,\n",
       "         'dvruette/oasst-pythia-12b-6000-steps,max_new_tokens=1000,min_new_tokens=4,do_sample=False,temperature=1.0,repetition_penalty=1.2,num_beams=1': 142,\n",
       "         'oasst-sft-0_1500,max_new_tokens=400,min_new_tokens=4,do_sample=True,temperature=1.0,repetition_penalty=1.2,top_k=50,top_p=0.95': 133,\n",
       "         'oasst-sft-0_1500,max_new_tokens=400,min_new_tokens=4,do_sample=True,temperature=0.8,repetition_penalty=1.2,typical_p=0.3': 118,\n",
       "         'oasst-sft-0_1500,max_new_tokens=400,min_new_tokens=4,do_sample=True,temperature=1.0,repetition_penalty=1.2,top_k=5,penalty_alpha=0.6': 117,\n",
       "         'oasst-sft-0_3000,max_new_tokens=400,min_new_tokens=4,do_sample=True,temperature=1.0,repetition_penalty=1.2,top_k=5,penalty_alpha=0.6': 116,\n",
       "         'oasst-sft-0_3000,max_new_tokens=400,min_new_tokens=4,do_sample=True,temperature=1.0,repetition_penalty=1.2,top_k=50,top_p=0.95': 114,\n",
       "         'oasst-sft-0_3000,max_new_tokens=400,min_new_tokens=4,do_sample=True,temperature=1.0,repetition_penalty=1.2,typical_p=0.2': 112,\n",
       "         'oasst-sft-0_1500,max_new_tokens=400,min_new_tokens=4,do_sample=True,temperature=0.8,repetition_penalty=1.2,top_p=0.9': 110,\n",
       "         'oasst-sft-0_3000,max_new_tokens=400,min_new_tokens=4,do_sample=True,temperature=0.8,repetition_penalty=1.2,typical_p=0.3': 109,\n",
       "         'andreaskoepf/oasst-1_12b_7000,max_new_tokens=800,min_new_tokens=4,do_sample=True,temperature=0.8,repetition_penalty=1.2,top_p=0.9': 104,\n",
       "         'oasst-sft-0_1500,max_new_tokens=400,min_new_tokens=4,do_sample=True,temperature=1.0,repetition_penalty=1.2,typical_p=0.2': 104,\n",
       "         'oasst-sft-0_3000,max_new_tokens=400,min_new_tokens=4,do_sample=True,temperature=0.8,repetition_penalty=1.2,top_p=0.9': 102,\n",
       "         'oasst-sft-1,max_new_tokens=400,min_new_tokens=4,do_sample=True,temperature=0.8,repetition_penalty=1.2,top_p=0.9': 101,\n",
       "         'oasst-sft-1,max_new_tokens=400,min_new_tokens=4,do_sample=True,temperature=1.0,repetition_penalty=1.2,typical_p=0.2': 100,\n",
       "         'andreaskoepf/oasst-1_12b_7000,max_new_tokens=800,min_new_tokens=4,do_sample=True,temperature=1.0,repetition_penalty=1.2,typical_p=0.2': 97,\n",
       "         'andreaskoepf/oasst-1_12b_7000,max_new_tokens=800,min_new_tokens=4,do_sample=True,temperature=1.0,repetition_penalty=1.2,top_k=50,top_p=0.95': 91,\n",
       "         'oasst-sft-1,max_new_tokens=400,min_new_tokens=4,do_sample=True,temperature=1.0,repetition_penalty=1.2,top_k=50,top_p=0.95': 90,\n",
       "         'andreaskoepf/oasst-1_12b_7000,max_new_tokens=800,min_new_tokens=4,do_sample=True,temperature=1.0,repetition_penalty=1.2,top_k=5,penalty_alpha=0.6': 85,\n",
       "         'oasst-sft-1,max_new_tokens=400,min_new_tokens=4,do_sample=True,temperature=1.0,repetition_penalty=1.2,top_k=5,penalty_alpha=0.6': 84,\n",
       "         'oasst-sft-1,max_new_tokens=400,min_new_tokens=4,do_sample=True,temperature=0.8,repetition_penalty=1.2,typical_p=0.3': 78,\n",
       "         'andreaskoepf/oasst-1_12b_7000,max_new_tokens=800,min_new_tokens=4,do_sample=True,temperature=0.8,repetition_penalty=1.2,typical_p=0.3': 78,\n",
       "         'oasst-sft-0_1500,max_new_tokens=400,min_new_tokens=4,do_sample=False,temperature=1.0,repetition_penalty=1.2,num_beams=1': 57,\n",
       "         'oasst-sft-0_3000,max_new_tokens=400,min_new_tokens=4,do_sample=False,temperature=1.0,repetition_penalty=1.2,num_beams=1': 57,\n",
       "         'oasst-sft-1,max_new_tokens=400,min_new_tokens=4,do_sample=False,temperature=1.0,repetition_penalty=1.2,num_beams=1': 46,\n",
       "         'andreaskoepf/oasst-1_12b_7000,max_new_tokens=800,min_new_tokens=4,do_sample=False,temperature=1.0,repetition_penalty=1.2,num_beams=1': 44})"
      ]
     },
     "execution_count": 4,
     "metadata": {},
     "output_type": "execute_result"
    }
   ],
   "source": [
    "oasst_df = base_df[base_df[\"role\"] == \"assistant\"]\n",
    "\n",
    "from collections import Counter\n",
    "Counter(oasst_df[\"model_name\"])"
   ]
  },
  {
   "cell_type": "code",
   "execution_count": 5,
   "metadata": {},
   "outputs": [
    {
     "data": {
      "text/plain": [
       "{'spam': {'value': 0.0, 'count': 3},\n",
       " 'fails_task': {'value': 0.0, 'count': 3},\n",
       " 'lang_mismatch': {'value': 0.0, 'count': 3},\n",
       " 'pii': {'value': 0.0, 'count': 3},\n",
       " 'not_appropriate': {'value': 0.0, 'count': 3},\n",
       " 'hate_speech': {'value': 0.0, 'count': 3},\n",
       " 'sexual_content': {'value': 0.0, 'count': 3},\n",
       " 'quality': {'value': 0.833333333333333, 'count': 3},\n",
       " 'toxicity': {'value': 0.0, 'count': 3},\n",
       " 'humor': {'value': 0.0, 'count': 3},\n",
       " 'helpfulness': {'value': 0.833333333333333, 'count': 3},\n",
       " 'creativity': {'value': 0.0, 'count': 3},\n",
       " 'violence': {'value': 0.0, 'count': 3}}"
      ]
     },
     "execution_count": 5,
     "metadata": {},
     "output_type": "execute_result"
    }
   ],
   "source": [
    "base_df[~base_df[\"labels\"].eq({})][\"labels\"].iloc[5]"
   ]
  },
  {
   "cell_type": "code",
   "execution_count": null,
   "metadata": {},
   "outputs": [],
   "source": []
  },
  {
   "cell_type": "code",
   "execution_count": 6,
   "metadata": {},
   "outputs": [],
   "source": [
    "# for row in oasst_df.iloc:\n",
    "#     pid = row[\"parent_id\"]\n",
    "#     texts = [row[\"role\"].upper() + \": \" + row[\"text\"]]\n",
    "#     while not pd.isnull(pid):\n",
    "#         parent = df[df[\"message_id\"] == pid].iloc[0]\n",
    "#         texts.append(parent[\"role\"].upper() + \": \" + parent[\"text\"])\n",
    "#         pid = parent[\"parent_id\"]\n",
    "\n",
    "#     texts.reverse()\n",
    "#     transcript = \"\\n\\n\".join(texts)\n",
    "#     print(transcript)\n",
    "#     if input() == \"q\":\n",
    "#         break\n",
    "#     # clear console\n",
    "#     print(\"\\033[H\\033[J\")\n"
   ]
  },
  {
   "cell_type": "code",
   "execution_count": 7,
   "metadata": {},
   "outputs": [
    {
     "data": {
      "text/plain": [
       "\"\\nPROMPTER: Can you explain how solar panels work? Give an in-depth explanation of their mechanisms of action.\\n\\nASSISTANT: Solar cells convert sunlight directly into electricity. There are two main types of solar cells: silicon and thin film.\\n\\nA single solar cell, also known as a photovoltaic (PV) module, consists of multiple layers of materials that absorb different parts of the light spectrum to produce electrons and holes. These particles then move through conductive channels and meet at the pn junction, which is where the current flows. Solar energy converts this flow of electrons into usable electrical power.\\n\\nThe basic structure of a silicon solar cell is a layer of silicon semiconductor material called a substrate, covered with a layer of aluminum metal and another layer of silicon semiconductor material. The front surface of the solar cell is exposed to the sun's rays, while the backside is connected to ground. When sunlight reaches the solar cell, it causes the electrons andholes to be created in the silicon layers. The electrons travel across the P–N interface and enter the collecting electrode on the back side of the solar cell, while the holes travel along the N–P interface and enter the bottom contact on the front side of the solar cell.\\n\\nWhen there is enough sunlight, the voltage generated by the solar cell is high enough to provide power for various applications, such as homes or businesses. However, when the sun goes down or the temperature drops, the voltage generated by the solar cell drops too. To maintain a stable output voltage, some solar cells include a storage battery to capture excess electricity during peak demand hours and release it to the grid during low demand periods.\\n\\nThin film solar cells use a thinner layer of semiconducting material than traditional silicon solar cells. This allows them to be more efficient and cost-effective, especially for larger installations. Thin film solar cells also have a longer lifespan and can be used in a wider range of environments than silicon solar cells.\\n\\nOverall, solar cells convert sunlight directly into electricity, providing a clean and renewable source of energy that can help reduce our dependence on fossil fuels. With continued research and development, solar technology continues to improve and become more affordable, making it a promising option for generating power in the future.\\n\""
      ]
     },
     "execution_count": 7,
     "metadata": {},
     "output_type": "execute_result"
    }
   ],
   "source": [
    "# notes on truth-aptness\n",
    "# - People often ask for fictions about real-world people. \n",
    "#   These fictions may produce misleading impressions of the \n",
    "#   people they are about, and are therefore important to study, \n",
    "#   but should probably be excluded (FICTIONAL)\n",
    "# - Full context (prompter) will probably be necessary for all statements because of e.g. unresolved antecedents\n",
    "# - Code is generally not truth apt. But a description of the code is. (CODE)\n",
    "# - Some statements are literally truth-apt, but are more idiomatic/stylistic (e.g. \"The difficulty in\n",
    "#   instantly coming up with the name of a familiar object may be due to several factors\") (STYLISTIC)\n",
    "# - Hedging subtly changes the truth value of a sentence (HEDGING)\n",
    "# - Some statements are commands imply something about the world, but are not themselves truth-apt (e.g. \"Use mnemonic\n",
    "#   devices or other strategies to associate the object with its name.\") (COMMAND) (IMPLICIT)\n",
    "# - Some are normative\n",
    "\n",
    "# I'm starting to think we should just have an interrogator instance of the model. This is similar to the reward model,\n",
    "# in which there is a more standardized format for the propositions\n",
    "# But this interrogator might be just as good as the ELK probe on the interrogator.\n",
    "# What if we train the interrogator (defined as the model plus a certain context/prefix) to have the same\n",
    "# ELK probe outputs on different paraphrases/syntactic variants of the same statement? This is similar to LEACEing away\n",
    "# the paraphrase dimension or training prompt invariance, but this is optimizing against our generalization regularizer (eek!)\n",
    "\n",
    "# I think we should aim to be able to do ELK on responses like the following, at all of the tokens concluding\n",
    "# a sentence (not clause) that is truth apt.\n",
    "\"\"\"\n",
    "PROMPTER: Can you explain how solar panels work? Give an in-depth explanation of their mechanisms of action.\n",
    "\n",
    "ASSISTANT: Solar cells convert sunlight directly into electricity. There are two main types of solar cells: silicon and thin film.\n",
    "\n",
    "A single solar cell, also known as a photovoltaic (PV) module, consists of multiple layers of materials that absorb different parts of the light spectrum to produce electrons and holes. These particles then move through conductive channels and meet at the pn junction, which is where the current flows. Solar energy converts this flow of electrons into usable electrical power.\n",
    "\n",
    "The basic structure of a silicon solar cell is a layer of silicon semiconductor material called a substrate, covered with a layer of aluminum metal and another layer of silicon semiconductor material. The front surface of the solar cell is exposed to the sun's rays, while the backside is connected to ground. When sunlight reaches the solar cell, it causes the electrons andholes to be created in the silicon layers. The electrons travel across the P–N interface and enter the collecting electrode on the back side of the solar cell, while the holes travel along the N–P interface and enter the bottom contact on the front side of the solar cell.\n",
    "\n",
    "When there is enough sunlight, the voltage generated by the solar cell is high enough to provide power for various applications, such as homes or businesses. However, when the sun goes down or the temperature drops, the voltage generated by the solar cell drops too. To maintain a stable output voltage, some solar cells include a storage battery to capture excess electricity during peak demand hours and release it to the grid during low demand periods.\n",
    "\n",
    "Thin film solar cells use a thinner layer of semiconducting material than traditional silicon solar cells. This allows them to be more efficient and cost-effective, especially for larger installations. Thin film solar cells also have a longer lifespan and can be used in a wider range of environments than silicon solar cells.\n",
    "\n",
    "Overall, solar cells convert sunlight directly into electricity, providing a clean and renewable source of energy that can help reduce our dependence on fossil fuels. With continued research and development, solar technology continues to improve and become more affordable, making it a promising option for generating power in the future.\n",
    "\"\"\"\n"
   ]
  },
  {
   "cell_type": "markdown",
   "metadata": {},
   "source": [
    "# Get weak LM responses to Oasst prompts"
   ]
  },
  {
   "cell_type": "code",
   "execution_count": 4,
   "metadata": {},
   "outputs": [],
   "source": [
    "# ds = load_dataset(\"OpenAssistant/oasst1\")\n",
    "# load dataset from local jsonl\n",
    "# path = \"data/oasst/2023-04-12_oasst_all.messages.jsonl\"\n",
    "path = \"data/alpaca_data.json\"\n",
    "\n",
    "import pandas as pd\n",
    "import uuid\n",
    "\n",
    "df = pd.read_json(path, lines=path.endswith(\"jsonl\"))\n",
    "df[\"id\"] = [str(uuid.uuid4()) for _ in range(len(df))]"
   ]
  },
  {
   "cell_type": "code",
   "execution_count": 5,
   "metadata": {},
   "outputs": [
    {
     "data": {
      "text/html": [
       "<div>\n",
       "<style scoped>\n",
       "    .dataframe tbody tr th:only-of-type {\n",
       "        vertical-align: middle;\n",
       "    }\n",
       "\n",
       "    .dataframe tbody tr th {\n",
       "        vertical-align: top;\n",
       "    }\n",
       "\n",
       "    .dataframe thead th {\n",
       "        text-align: right;\n",
       "    }\n",
       "</style>\n",
       "<table border=\"1\" class=\"dataframe\">\n",
       "  <thead>\n",
       "    <tr style=\"text-align: right;\">\n",
       "      <th></th>\n",
       "      <th>instruction</th>\n",
       "      <th>input</th>\n",
       "      <th>output</th>\n",
       "      <th>id</th>\n",
       "    </tr>\n",
       "  </thead>\n",
       "  <tbody>\n",
       "    <tr>\n",
       "      <th>0</th>\n",
       "      <td>Give three tips for staying healthy.</td>\n",
       "      <td></td>\n",
       "      <td>1.Eat a balanced diet and make sure to include...</td>\n",
       "      <td>9ef643ee-bd9c-42d2-ba56-7cf1e55659d0</td>\n",
       "    </tr>\n",
       "    <tr>\n",
       "      <th>1</th>\n",
       "      <td>What are the three primary colors?</td>\n",
       "      <td></td>\n",
       "      <td>The three primary colors are red, blue, and ye...</td>\n",
       "      <td>1d073e24-7423-4f9b-9612-92f825c3d3bb</td>\n",
       "    </tr>\n",
       "    <tr>\n",
       "      <th>2</th>\n",
       "      <td>Describe the structure of an atom.</td>\n",
       "      <td></td>\n",
       "      <td>An atom is made up of a nucleus, which contain...</td>\n",
       "      <td>861ecf43-eac6-4d96-ad14-48b063d16916</td>\n",
       "    </tr>\n",
       "    <tr>\n",
       "      <th>3</th>\n",
       "      <td>How can we reduce air pollution?</td>\n",
       "      <td></td>\n",
       "      <td>There are a number of ways to reduce air pollu...</td>\n",
       "      <td>b38575a4-2d7b-4edc-9fcc-5b47765ab2ca</td>\n",
       "    </tr>\n",
       "    <tr>\n",
       "      <th>4</th>\n",
       "      <td>Describe a time when you had to make a difficu...</td>\n",
       "      <td></td>\n",
       "      <td>I had to make a difficult decision when I was ...</td>\n",
       "      <td>62996ea6-a761-4fa5-8f9f-cfc7ba4ca667</td>\n",
       "    </tr>\n",
       "    <tr>\n",
       "      <th>...</th>\n",
       "      <td>...</td>\n",
       "      <td>...</td>\n",
       "      <td>...</td>\n",
       "      <td>...</td>\n",
       "    </tr>\n",
       "    <tr>\n",
       "      <th>51997</th>\n",
       "      <td>Generate an example of what a resume should li...</td>\n",
       "      <td></td>\n",
       "      <td>Jean Tremaine\\n1234 Main Street, Anytown, CA 9...</td>\n",
       "      <td>2697e86e-8e2a-4149-9c9b-f5172f34760c</td>\n",
       "    </tr>\n",
       "    <tr>\n",
       "      <th>51998</th>\n",
       "      <td>Arrange the items given below in the order to ...</td>\n",
       "      <td>cake, me, eating</td>\n",
       "      <td>I eating cake.</td>\n",
       "      <td>f31ba633-aa7c-4257-a078-f74d156d5554</td>\n",
       "    </tr>\n",
       "    <tr>\n",
       "      <th>51999</th>\n",
       "      <td>Write an introductory paragraph about a famous...</td>\n",
       "      <td>Michelle Obama</td>\n",
       "      <td>Michelle Obama is an inspirational woman who r...</td>\n",
       "      <td>787c127d-6f32-41fc-b1ec-56583ec5f87c</td>\n",
       "    </tr>\n",
       "    <tr>\n",
       "      <th>52000</th>\n",
       "      <td>Generate a list of five things one should keep...</td>\n",
       "      <td></td>\n",
       "      <td>1. Research potential opportunities and carefu...</td>\n",
       "      <td>fb091797-88e3-4d5d-aa94-237ce61e8575</td>\n",
       "    </tr>\n",
       "    <tr>\n",
       "      <th>52001</th>\n",
       "      <td>Analyze the given legal document and explain t...</td>\n",
       "      <td>The following is an excerpt from a contract be...</td>\n",
       "      <td>This legal document states that Company A has ...</td>\n",
       "      <td>918dd5b1-b867-487f-b11c-1bb240152371</td>\n",
       "    </tr>\n",
       "  </tbody>\n",
       "</table>\n",
       "<p>52002 rows × 4 columns</p>\n",
       "</div>"
      ],
      "text/plain": [
       "                                             instruction   \n",
       "0                   Give three tips for staying healthy.  \\\n",
       "1                     What are the three primary colors?   \n",
       "2                     Describe the structure of an atom.   \n",
       "3                       How can we reduce air pollution?   \n",
       "4      Describe a time when you had to make a difficu...   \n",
       "...                                                  ...   \n",
       "51997  Generate an example of what a resume should li...   \n",
       "51998  Arrange the items given below in the order to ...   \n",
       "51999  Write an introductory paragraph about a famous...   \n",
       "52000  Generate a list of five things one should keep...   \n",
       "52001  Analyze the given legal document and explain t...   \n",
       "\n",
       "                                                   input   \n",
       "0                                                         \\\n",
       "1                                                          \n",
       "2                                                          \n",
       "3                                                          \n",
       "4                                                          \n",
       "...                                                  ...   \n",
       "51997                                                      \n",
       "51998                                   cake, me, eating   \n",
       "51999                                     Michelle Obama   \n",
       "52000                                                      \n",
       "52001  The following is an excerpt from a contract be...   \n",
       "\n",
       "                                                  output   \n",
       "0      1.Eat a balanced diet and make sure to include...  \\\n",
       "1      The three primary colors are red, blue, and ye...   \n",
       "2      An atom is made up of a nucleus, which contain...   \n",
       "3      There are a number of ways to reduce air pollu...   \n",
       "4      I had to make a difficult decision when I was ...   \n",
       "...                                                  ...   \n",
       "51997  Jean Tremaine\\n1234 Main Street, Anytown, CA 9...   \n",
       "51998                                     I eating cake.   \n",
       "51999  Michelle Obama is an inspirational woman who r...   \n",
       "52000  1. Research potential opportunities and carefu...   \n",
       "52001  This legal document states that Company A has ...   \n",
       "\n",
       "                                         id  \n",
       "0      9ef643ee-bd9c-42d2-ba56-7cf1e55659d0  \n",
       "1      1d073e24-7423-4f9b-9612-92f825c3d3bb  \n",
       "2      861ecf43-eac6-4d96-ad14-48b063d16916  \n",
       "3      b38575a4-2d7b-4edc-9fcc-5b47765ab2ca  \n",
       "4      62996ea6-a761-4fa5-8f9f-cfc7ba4ca667  \n",
       "...                                     ...  \n",
       "51997  2697e86e-8e2a-4149-9c9b-f5172f34760c  \n",
       "51998  f31ba633-aa7c-4257-a078-f74d156d5554  \n",
       "51999  787c127d-6f32-41fc-b1ec-56583ec5f87c  \n",
       "52000  fb091797-88e3-4d5d-aa94-237ce61e8575  \n",
       "52001  918dd5b1-b867-487f-b11c-1bb240152371  \n",
       "\n",
       "[52002 rows x 4 columns]"
      ]
     },
     "execution_count": 5,
     "metadata": {},
     "output_type": "execute_result"
    }
   ],
   "source": [
    "df"
   ]
  },
  {
   "cell_type": "code",
   "execution_count": 9,
   "metadata": {},
   "outputs": [
    {
     "name": "stderr",
     "output_type": "stream",
     "text": [
      "/mnt/ssd-2/spar/alexm/miniconda3/envs/dlkb/lib/python3.10/site-packages/tqdm/auto.py:21: TqdmWarning: IProgress not found. Please update jupyter and ipywidgets. See https://ipywidgets.readthedocs.io/en/stable/user_install.html\n",
      "  from .autonotebook import tqdm as notebook_tqdm\n",
      "Loading checkpoint shards: 100%|██████████| 3/3 [00:24<00:00,  8.05s/it]\n"
     ]
    },
    {
     "data": {
      "text/plain": [
       "GPTNeoXForCausalLM(\n",
       "  (gpt_neox): GPTNeoXModel(\n",
       "    (embed_in): Embedding(50288, 5120)\n",
       "    (emb_dropout): Dropout(p=0.0, inplace=False)\n",
       "    (layers): ModuleList(\n",
       "      (0-35): 36 x GPTNeoXLayer(\n",
       "        (input_layernorm): LayerNorm((5120,), eps=1e-05, elementwise_affine=True)\n",
       "        (post_attention_layernorm): LayerNorm((5120,), eps=1e-05, elementwise_affine=True)\n",
       "        (post_attention_dropout): Dropout(p=0.0, inplace=False)\n",
       "        (post_mlp_dropout): Dropout(p=0.0, inplace=False)\n",
       "        (attention): GPTNeoXAttention(\n",
       "          (rotary_emb): GPTNeoXRotaryEmbedding()\n",
       "          (query_key_value): Linear(in_features=5120, out_features=15360, bias=True)\n",
       "          (dense): Linear(in_features=5120, out_features=5120, bias=True)\n",
       "          (attention_dropout): Dropout(p=0.0, inplace=False)\n",
       "        )\n",
       "        (mlp): GPTNeoXMLP(\n",
       "          (dense_h_to_4h): Linear(in_features=5120, out_features=20480, bias=True)\n",
       "          (dense_4h_to_h): Linear(in_features=20480, out_features=5120, bias=True)\n",
       "          (act): GELUActivation()\n",
       "        )\n",
       "      )\n",
       "    )\n",
       "    (final_layer_norm): LayerNorm((5120,), eps=1e-05, elementwise_affine=True)\n",
       "  )\n",
       "  (embed_out): Linear(in_features=5120, out_features=50288, bias=False)\n",
       ")"
      ]
     },
     "execution_count": 9,
     "metadata": {},
     "output_type": "execute_result"
    }
   ],
   "source": [
    "from transformers import AutoTokenizer, AutoModelForCausalLM\n",
    "from peft import PeftModel\n",
    "device = \"cuda:6\"\n",
    "# base_model_name = \"EleutherAI/pythia-70M-deduped\"\n",
    "# base_model = AutoModelForCausalLM.from_pretrained(base_model_name)\n",
    "# model_name = \"peterchatain/rlhf-v3-sweep-pythia-70M\"  this model is dead (doesn't load)\n",
    "# model = PeftModel.from_pretrained(model=base_model, model_id=model_name).to(device).half()\n",
    "# model_name = \"vicgalle/gpt2-open-instruct-v1\"  this model doesn't follow instructions\n",
    "# model_name = \"MayaPH/opt-flan-iml-6.7b\" this model just starts throwing entailment questions back at me\n",
    "# model_name = \"vihangd/smartplat-3b-v1\" I don't know the prompt for this one\n",
    "# model_name = \"microsoft/DialoGPT-large\" # this model is pretty bad at following instructions\n",
    "# model_name = \"keyfan/bloomz-rlhf\"  # this model is pretty good, though I'm unsure how accurate it is\n",
    "model_name = \"OpenAssistant/oasst-sft-4-pythia-12b-epoch-3.5\"\n",
    "tokenizer = AutoTokenizer.from_pretrained(model_name)\n",
    "model = AutoModelForCausalLM.from_pretrained(model_name, device_map={\"\": device})\n",
    "if \"pythia\" in model_name:\n",
    "    model = model.half()\n",
    "model.eval()"
   ]
  },
  {
   "cell_type": "code",
   "execution_count": 10,
   "metadata": {},
   "outputs": [
    {
     "data": {
      "text/html": [
       "<div>\n",
       "<style scoped>\n",
       "    .dataframe tbody tr th:only-of-type {\n",
       "        vertical-align: middle;\n",
       "    }\n",
       "\n",
       "    .dataframe tbody tr th {\n",
       "        vertical-align: top;\n",
       "    }\n",
       "\n",
       "    .dataframe thead th {\n",
       "        text-align: right;\n",
       "    }\n",
       "</style>\n",
       "<table border=\"1\" class=\"dataframe\">\n",
       "  <thead>\n",
       "    <tr style=\"text-align: right;\">\n",
       "      <th></th>\n",
       "      <th>message_id</th>\n",
       "      <th>user_id</th>\n",
       "      <th>created_date</th>\n",
       "      <th>text</th>\n",
       "      <th>role</th>\n",
       "      <th>lang</th>\n",
       "      <th>review_count</th>\n",
       "      <th>review_result</th>\n",
       "      <th>deleted</th>\n",
       "      <th>synthetic</th>\n",
       "      <th>emojis</th>\n",
       "      <th>labels</th>\n",
       "      <th>detoxify</th>\n",
       "      <th>message_tree_id</th>\n",
       "      <th>tree_state</th>\n",
       "      <th>parent_id</th>\n",
       "      <th>rank</th>\n",
       "      <th>model_name</th>\n",
       "    </tr>\n",
       "  </thead>\n",
       "  <tbody>\n",
       "    <tr>\n",
       "      <th>0</th>\n",
       "      <td>6ab24d72-0181-4594-a9cd-deaf170242fb</td>\n",
       "      <td>c3fe8c76-fc30-4fa7-b7f8-c492f5967d18</td>\n",
       "      <td>2023-02-05T14:23:50.983374+00:00</td>\n",
       "      <td>Can you write a short introduction about the r...</td>\n",
       "      <td>prompter</td>\n",
       "      <td>en</td>\n",
       "      <td>3</td>\n",
       "      <td>1.0</td>\n",
       "      <td>False</td>\n",
       "      <td>False</td>\n",
       "      <td>{'+1': 10, '_skip_reply': 1, '_skip_ranking': 4}</td>\n",
       "      <td>{'spam': {'value': 0.0, 'count': 3}, 'lang_mis...</td>\n",
       "      <td>{'toxicity': 0.00044308538781400006, 'severe_t...</td>\n",
       "      <td>6ab24d72-0181-4594-a9cd-deaf170242fb</td>\n",
       "      <td>ready_for_export</td>\n",
       "      <td>NaN</td>\n",
       "      <td>NaN</td>\n",
       "      <td>NaN</td>\n",
       "    </tr>\n",
       "    <tr>\n",
       "      <th>2</th>\n",
       "      <td>6708c47f-05c9-4346-b3d2-40b2bd24fde4</td>\n",
       "      <td>2c96e467-66f0-4be7-9693-bda51356a424</td>\n",
       "      <td>2023-02-06T18:48:49.391686+00:00</td>\n",
       "      <td>Now explain it to a dog</td>\n",
       "      <td>prompter</td>\n",
       "      <td>en</td>\n",
       "      <td>3</td>\n",
       "      <td>1.0</td>\n",
       "      <td>False</td>\n",
       "      <td>False</td>\n",
       "      <td>NaN</td>\n",
       "      <td>{'spam': {'value': 0.0, 'count': 3}, 'lang_mis...</td>\n",
       "      <td>{'toxicity': 0.036484777927398, 'severe_toxici...</td>\n",
       "      <td>6ab24d72-0181-4594-a9cd-deaf170242fb</td>\n",
       "      <td>ready_for_export</td>\n",
       "      <td>c8e83833-ecbc-44fe-b6db-735228c25a1c</td>\n",
       "      <td>NaN</td>\n",
       "      <td>NaN</td>\n",
       "    </tr>\n",
       "    <tr>\n",
       "      <th>4</th>\n",
       "      <td>18145bf4-37fd-4ac0-80f5-6108b5f2b365</td>\n",
       "      <td>e10e99a0-38ac-4b07-bf5d-4427696e4e0d</td>\n",
       "      <td>2023-02-06T18:52:51.428543+00:00</td>\n",
       "      <td>How can one fight back when a monospony had be...</td>\n",
       "      <td>prompter</td>\n",
       "      <td>en</td>\n",
       "      <td>3</td>\n",
       "      <td>1.0</td>\n",
       "      <td>False</td>\n",
       "      <td>False</td>\n",
       "      <td>{'+1': 1}</td>\n",
       "      <td>{'spam': {'value': 0.0, 'count': 3}, 'lang_mis...</td>\n",
       "      <td>{'toxicity': 0.000936213706154, 'severe_toxici...</td>\n",
       "      <td>6ab24d72-0181-4594-a9cd-deaf170242fb</td>\n",
       "      <td>ready_for_export</td>\n",
       "      <td>343ee2d4-87ae-41fd-a768-bdd65959dc4a</td>\n",
       "      <td>NaN</td>\n",
       "      <td>NaN</td>\n",
       "    </tr>\n",
       "    <tr>\n",
       "      <th>6</th>\n",
       "      <td>ac94bfcf-7f25-4084-8755-dde345ac2323</td>\n",
       "      <td>3ef645f1-c9f7-49e0-8e53-3c9a9c440ca1</td>\n",
       "      <td>2023-02-06T16:44:30.360408+00:00</td>\n",
       "      <td>What can be done at a regulatory level to ensu...</td>\n",
       "      <td>prompter</td>\n",
       "      <td>en</td>\n",
       "      <td>3</td>\n",
       "      <td>1.0</td>\n",
       "      <td>False</td>\n",
       "      <td>False</td>\n",
       "      <td>{'+1': 3, '-1': 1, '_skip_reply': 9, '_skip_ra...</td>\n",
       "      <td>{'spam': {'value': 0.0, 'count': 3}, 'lang_mis...</td>\n",
       "      <td>{'toxicity': 0.006290378980338, 'severe_toxici...</td>\n",
       "      <td>6ab24d72-0181-4594-a9cd-deaf170242fb</td>\n",
       "      <td>ready_for_export</td>\n",
       "      <td>636dd191-50df-4894-ba9a-cd7f00767258</td>\n",
       "      <td>NaN</td>\n",
       "      <td>NaN</td>\n",
       "    </tr>\n",
       "    <tr>\n",
       "      <th>10</th>\n",
       "      <td>fc64fa35-08a8-422c-8f6c-2d86a2834aac</td>\n",
       "      <td>63321c74-d512-4221-96ef-04bd1f2d95fd</td>\n",
       "      <td>2023-02-06T16:26:47.581724+00:00</td>\n",
       "      <td>I would imagine this is similar or even the sa...</td>\n",
       "      <td>prompter</td>\n",
       "      <td>en</td>\n",
       "      <td>3</td>\n",
       "      <td>1.0</td>\n",
       "      <td>False</td>\n",
       "      <td>False</td>\n",
       "      <td>{'+1': 1, '_skip_reply': 4, '_skip_labeling': 2}</td>\n",
       "      <td>{'spam': {'value': 0.0, 'count': 3}, 'lang_mis...</td>\n",
       "      <td>{'toxicity': 0.00028263000422100004, 'severe_t...</td>\n",
       "      <td>6ab24d72-0181-4594-a9cd-deaf170242fb</td>\n",
       "      <td>ready_for_export</td>\n",
       "      <td>636dd191-50df-4894-ba9a-cd7f00767258</td>\n",
       "      <td>NaN</td>\n",
       "      <td>NaN</td>\n",
       "    </tr>\n",
       "  </tbody>\n",
       "</table>\n",
       "</div>"
      ],
      "text/plain": [
       "                              message_id   \n",
       "0   6ab24d72-0181-4594-a9cd-deaf170242fb  \\\n",
       "2   6708c47f-05c9-4346-b3d2-40b2bd24fde4   \n",
       "4   18145bf4-37fd-4ac0-80f5-6108b5f2b365   \n",
       "6   ac94bfcf-7f25-4084-8755-dde345ac2323   \n",
       "10  fc64fa35-08a8-422c-8f6c-2d86a2834aac   \n",
       "\n",
       "                                 user_id                      created_date   \n",
       "0   c3fe8c76-fc30-4fa7-b7f8-c492f5967d18  2023-02-05T14:23:50.983374+00:00  \\\n",
       "2   2c96e467-66f0-4be7-9693-bda51356a424  2023-02-06T18:48:49.391686+00:00   \n",
       "4   e10e99a0-38ac-4b07-bf5d-4427696e4e0d  2023-02-06T18:52:51.428543+00:00   \n",
       "6   3ef645f1-c9f7-49e0-8e53-3c9a9c440ca1  2023-02-06T16:44:30.360408+00:00   \n",
       "10  63321c74-d512-4221-96ef-04bd1f2d95fd  2023-02-06T16:26:47.581724+00:00   \n",
       "\n",
       "                                                 text      role lang   \n",
       "0   Can you write a short introduction about the r...  prompter   en  \\\n",
       "2                             Now explain it to a dog  prompter   en   \n",
       "4   How can one fight back when a monospony had be...  prompter   en   \n",
       "6   What can be done at a regulatory level to ensu...  prompter   en   \n",
       "10  I would imagine this is similar or even the sa...  prompter   en   \n",
       "\n",
       "    review_count  review_result  deleted  synthetic   \n",
       "0              3            1.0    False      False  \\\n",
       "2              3            1.0    False      False   \n",
       "4              3            1.0    False      False   \n",
       "6              3            1.0    False      False   \n",
       "10             3            1.0    False      False   \n",
       "\n",
       "                                               emojis   \n",
       "0    {'+1': 10, '_skip_reply': 1, '_skip_ranking': 4}  \\\n",
       "2                                                 NaN   \n",
       "4                                           {'+1': 1}   \n",
       "6   {'+1': 3, '-1': 1, '_skip_reply': 9, '_skip_ra...   \n",
       "10   {'+1': 1, '_skip_reply': 4, '_skip_labeling': 2}   \n",
       "\n",
       "                                               labels   \n",
       "0   {'spam': {'value': 0.0, 'count': 3}, 'lang_mis...  \\\n",
       "2   {'spam': {'value': 0.0, 'count': 3}, 'lang_mis...   \n",
       "4   {'spam': {'value': 0.0, 'count': 3}, 'lang_mis...   \n",
       "6   {'spam': {'value': 0.0, 'count': 3}, 'lang_mis...   \n",
       "10  {'spam': {'value': 0.0, 'count': 3}, 'lang_mis...   \n",
       "\n",
       "                                             detoxify   \n",
       "0   {'toxicity': 0.00044308538781400006, 'severe_t...  \\\n",
       "2   {'toxicity': 0.036484777927398, 'severe_toxici...   \n",
       "4   {'toxicity': 0.000936213706154, 'severe_toxici...   \n",
       "6   {'toxicity': 0.006290378980338, 'severe_toxici...   \n",
       "10  {'toxicity': 0.00028263000422100004, 'severe_t...   \n",
       "\n",
       "                         message_tree_id        tree_state   \n",
       "0   6ab24d72-0181-4594-a9cd-deaf170242fb  ready_for_export  \\\n",
       "2   6ab24d72-0181-4594-a9cd-deaf170242fb  ready_for_export   \n",
       "4   6ab24d72-0181-4594-a9cd-deaf170242fb  ready_for_export   \n",
       "6   6ab24d72-0181-4594-a9cd-deaf170242fb  ready_for_export   \n",
       "10  6ab24d72-0181-4594-a9cd-deaf170242fb  ready_for_export   \n",
       "\n",
       "                               parent_id  rank model_name  \n",
       "0                                    NaN   NaN        NaN  \n",
       "2   c8e83833-ecbc-44fe-b6db-735228c25a1c   NaN        NaN  \n",
       "4   343ee2d4-87ae-41fd-a768-bdd65959dc4a   NaN        NaN  \n",
       "6   636dd191-50df-4894-ba9a-cd7f00767258   NaN        NaN  \n",
       "10  636dd191-50df-4894-ba9a-cd7f00767258   NaN        NaN  "
      ]
     },
     "execution_count": 10,
     "metadata": {},
     "output_type": "execute_result"
    }
   ],
   "source": [
    "prompter_df = df[(df[\"role\"] == \"prompter\") & (df[\"lang\"] == \"en\")]\n",
    "prompter_df.head()"
   ]
  },
  {
   "cell_type": "code",
   "execution_count": 11,
   "metadata": {},
   "outputs": [
    {
     "name": "stdout",
     "output_type": "stream",
     "text": [
      "0\n",
      "Max length: 2048\n"
     ]
    }
   ],
   "source": [
    "# tokenizer.eos_token = \"### End\"\n",
    "tokenizer.eos_token_id = tokenizer.convert_tokens_to_ids(tokenizer.eos_token)\n",
    "print(tokenizer.eos_token_id)\n",
    "max_length = model.config.max_position_embeddings\n",
    "print(\"Max length:\", max_length)\n",
    "results = []"
   ]
  },
  {
   "cell_type": "code",
   "execution_count": 12,
   "metadata": {},
   "outputs": [
    {
     "name": "stderr",
     "output_type": "stream",
     "text": [
      "  0%|          | 0/5000 [00:00<?, ?it/s]Setting `pad_token_id` to `eos_token_id`:0 for open-end generation.\n"
     ]
    },
    {
     "name": "stdout",
     "output_type": "stream",
     "text": [
      "\n",
      "\n",
      "\n",
      "####################################  0  ##############################################\n",
      "\n",
      "\n"
     ]
    },
    {
     "name": "stderr",
     "output_type": "stream",
     "text": [
      "  0%|          | 1/5000 [00:03<4:13:32,  3.04s/it]Setting `pad_token_id` to `eos_token_id`:0 for open-end generation.\n"
     ]
    },
    {
     "name": "stdout",
     "output_type": "stream",
     "text": [
      "\n",
      "\n",
      "\n",
      "\n",
      "####################################  1  ##############################################\n",
      "\n",
      "\n"
     ]
    },
    {
     "name": "stderr",
     "output_type": "stream",
     "text": [
      "  0%|          | 2/5000 [00:13<10:39:11,  7.67s/it]Setting `pad_token_id` to `eos_token_id`:0 for open-end generation.\n"
     ]
    },
    {
     "name": "stdout",
     "output_type": "stream",
     "text": [
      "\n",
      "\n",
      "\n",
      "\n",
      "####################################  2  ##############################################\n",
      "\n",
      "\n"
     ]
    },
    {
     "name": "stderr",
     "output_type": "stream",
     "text": [
      "  0%|          | 3/5000 [01:12<42:41:20, 30.75s/it]Setting `pad_token_id` to `eos_token_id`:0 for open-end generation.\n"
     ]
    },
    {
     "name": "stdout",
     "output_type": "stream",
     "text": [
      "\n",
      "\n",
      "\n",
      "\n",
      "####################################  3  ##############################################\n",
      "\n",
      "\n"
     ]
    },
    {
     "name": "stderr",
     "output_type": "stream",
     "text": [
      "  0%|          | 4/5000 [01:34<38:17:04, 27.59s/it]Setting `pad_token_id` to `eos_token_id`:0 for open-end generation.\n"
     ]
    },
    {
     "name": "stdout",
     "output_type": "stream",
     "text": [
      "\n",
      "\n",
      "\n",
      "\n",
      "####################################  4  ##############################################\n",
      "\n",
      "\n"
     ]
    },
    {
     "name": "stderr",
     "output_type": "stream",
     "text": [
      "  0%|          | 5/5000 [01:43<28:50:21, 20.79s/it]Setting `pad_token_id` to `eos_token_id`:0 for open-end generation.\n"
     ]
    },
    {
     "name": "stdout",
     "output_type": "stream",
     "text": [
      "\n",
      "\n",
      "\n",
      "\n",
      "####################################  5  ##############################################\n",
      "\n",
      "\n"
     ]
    },
    {
     "name": "stderr",
     "output_type": "stream",
     "text": [
      "  0%|          | 6/5000 [01:51<22:46:59, 16.42s/it]Setting `pad_token_id` to `eos_token_id`:0 for open-end generation.\n"
     ]
    },
    {
     "name": "stdout",
     "output_type": "stream",
     "text": [
      "\n",
      "\n",
      "\n",
      "\n",
      "####################################  6  ##############################################\n",
      "\n",
      "\n"
     ]
    },
    {
     "name": "stderr",
     "output_type": "stream",
     "text": [
      "  0%|          | 7/5000 [02:06<22:13:25, 16.02s/it]Setting `pad_token_id` to `eos_token_id`:0 for open-end generation.\n"
     ]
    },
    {
     "name": "stdout",
     "output_type": "stream",
     "text": [
      "\n",
      "\n",
      "\n",
      "\n",
      "####################################  7  ##############################################\n",
      "\n",
      "\n"
     ]
    },
    {
     "name": "stderr",
     "output_type": "stream",
     "text": [
      "  0%|          | 8/5000 [02:27<24:08:48, 17.41s/it]Setting `pad_token_id` to `eos_token_id`:0 for open-end generation.\n"
     ]
    },
    {
     "name": "stdout",
     "output_type": "stream",
     "text": [
      "\n",
      "\n",
      "\n",
      "\n",
      "####################################  8  ##############################################\n",
      "\n",
      "\n"
     ]
    },
    {
     "name": "stderr",
     "output_type": "stream",
     "text": [
      "  0%|          | 9/5000 [02:41<22:47:48, 16.44s/it]Setting `pad_token_id` to `eos_token_id`:0 for open-end generation.\n"
     ]
    },
    {
     "name": "stdout",
     "output_type": "stream",
     "text": [
      "\n",
      "\n",
      "\n",
      "\n",
      "####################################  9  ##############################################\n",
      "\n",
      "\n"
     ]
    },
    {
     "name": "stderr",
     "output_type": "stream",
     "text": [
      "  0%|          | 10/5000 [02:51<19:49:53, 14.31s/it]Setting `pad_token_id` to `eos_token_id`:0 for open-end generation.\n"
     ]
    },
    {
     "name": "stdout",
     "output_type": "stream",
     "text": [
      "\n",
      "\n",
      "\n",
      "\n",
      "####################################  10  ##############################################\n",
      "\n",
      "\n"
     ]
    },
    {
     "name": "stderr",
     "output_type": "stream",
     "text": [
      "  0%|          | 11/5000 [03:03<18:54:52, 13.65s/it]Setting `pad_token_id` to `eos_token_id`:0 for open-end generation.\n"
     ]
    },
    {
     "name": "stdout",
     "output_type": "stream",
     "text": [
      "\n",
      "\n",
      "\n",
      "\n",
      "####################################  11  ##############################################\n",
      "\n",
      "\n"
     ]
    },
    {
     "name": "stderr",
     "output_type": "stream",
     "text": [
      "  0%|          | 12/5000 [03:07<15:05:23, 10.89s/it]Setting `pad_token_id` to `eos_token_id`:0 for open-end generation.\n"
     ]
    },
    {
     "name": "stdout",
     "output_type": "stream",
     "text": [
      "\n",
      "\n",
      "\n",
      "\n",
      "####################################  12  ##############################################\n",
      "\n",
      "\n"
     ]
    },
    {
     "name": "stderr",
     "output_type": "stream",
     "text": [
      "  0%|          | 13/5000 [03:17<14:26:40, 10.43s/it]Setting `pad_token_id` to `eos_token_id`:0 for open-end generation.\n"
     ]
    },
    {
     "name": "stdout",
     "output_type": "stream",
     "text": [
      "\n",
      "\n",
      "\n",
      "\n",
      "####################################  13  ##############################################\n",
      "\n",
      "\n"
     ]
    },
    {
     "name": "stderr",
     "output_type": "stream",
     "text": [
      "  0%|          | 14/5000 [03:36<18:19:32, 13.23s/it]Setting `pad_token_id` to `eos_token_id`:0 for open-end generation.\n"
     ]
    },
    {
     "name": "stdout",
     "output_type": "stream",
     "text": [
      "\n",
      "\n",
      "\n",
      "\n",
      "####################################  14  ##############################################\n",
      "\n",
      "\n"
     ]
    },
    {
     "name": "stderr",
     "output_type": "stream",
     "text": [
      "  0%|          | 15/5000 [03:41<14:37:53, 10.57s/it]Setting `pad_token_id` to `eos_token_id`:0 for open-end generation.\n"
     ]
    },
    {
     "name": "stdout",
     "output_type": "stream",
     "text": [
      "\n",
      "\n",
      "\n",
      "\n",
      "####################################  15  ##############################################\n",
      "\n",
      "\n"
     ]
    },
    {
     "name": "stderr",
     "output_type": "stream",
     "text": [
      "  0%|          | 16/5000 [03:56<16:33:32, 11.96s/it]Setting `pad_token_id` to `eos_token_id`:0 for open-end generation.\n"
     ]
    },
    {
     "name": "stdout",
     "output_type": "stream",
     "text": [
      "\n",
      "\n",
      "\n",
      "\n",
      "####################################  16  ##############################################\n",
      "\n",
      "\n"
     ]
    },
    {
     "name": "stderr",
     "output_type": "stream",
     "text": [
      "  0%|          | 17/5000 [04:12<18:26:06, 13.32s/it]Setting `pad_token_id` to `eos_token_id`:0 for open-end generation.\n"
     ]
    },
    {
     "name": "stdout",
     "output_type": "stream",
     "text": [
      "\n",
      "\n",
      "\n",
      "\n",
      "####################################  17  ##############################################\n",
      "\n",
      "\n"
     ]
    },
    {
     "name": "stderr",
     "output_type": "stream",
     "text": [
      "  0%|          | 18/5000 [04:53<29:40:06, 21.44s/it]Setting `pad_token_id` to `eos_token_id`:0 for open-end generation.\n"
     ]
    },
    {
     "name": "stdout",
     "output_type": "stream",
     "text": [
      "\n",
      "\n",
      "\n",
      "\n",
      "####################################  18  ##############################################\n",
      "\n",
      "\n"
     ]
    },
    {
     "name": "stderr",
     "output_type": "stream",
     "text": [
      "  0%|          | 19/5000 [04:57<22:30:21, 16.27s/it]Setting `pad_token_id` to `eos_token_id`:0 for open-end generation.\n"
     ]
    },
    {
     "name": "stdout",
     "output_type": "stream",
     "text": [
      "\n",
      "\n",
      "\n",
      "\n",
      "####################################  19  ##############################################\n",
      "\n",
      "\n"
     ]
    },
    {
     "name": "stderr",
     "output_type": "stream",
     "text": [
      "  0%|          | 20/5000 [04:58<16:00:56, 11.58s/it]Setting `pad_token_id` to `eos_token_id`:0 for open-end generation.\n"
     ]
    },
    {
     "name": "stdout",
     "output_type": "stream",
     "text": [
      "\n",
      "\n",
      "\n",
      "\n",
      "####################################  20  ##############################################\n",
      "\n",
      "\n"
     ]
    },
    {
     "name": "stderr",
     "output_type": "stream",
     "text": [
      "  0%|          | 21/5000 [05:05<14:28:17, 10.46s/it]Setting `pad_token_id` to `eos_token_id`:0 for open-end generation.\n"
     ]
    },
    {
     "name": "stdout",
     "output_type": "stream",
     "text": [
      "\n",
      "\n",
      "\n",
      "\n",
      "####################################  21  ##############################################\n",
      "\n",
      "\n"
     ]
    },
    {
     "name": "stderr",
     "output_type": "stream",
     "text": [
      "  0%|          | 22/5000 [05:26<18:36:09, 13.45s/it]Setting `pad_token_id` to `eos_token_id`:0 for open-end generation.\n"
     ]
    },
    {
     "name": "stdout",
     "output_type": "stream",
     "text": [
      "\n",
      "\n",
      "\n",
      "\n",
      "####################################  22  ##############################################\n",
      "\n",
      "\n"
     ]
    },
    {
     "name": "stderr",
     "output_type": "stream",
     "text": [
      "  0%|          | 23/5000 [06:03<28:27:05, 20.58s/it]Setting `pad_token_id` to `eos_token_id`:0 for open-end generation.\n"
     ]
    },
    {
     "name": "stdout",
     "output_type": "stream",
     "text": [
      "\n",
      "\n",
      "\n",
      "\n",
      "####################################  23  ##############################################\n",
      "\n",
      "\n"
     ]
    },
    {
     "name": "stderr",
     "output_type": "stream",
     "text": [
      "  0%|          | 24/5000 [06:17<25:32:31, 18.48s/it]Setting `pad_token_id` to `eos_token_id`:0 for open-end generation.\n"
     ]
    },
    {
     "name": "stdout",
     "output_type": "stream",
     "text": [
      "\n",
      "\n",
      "\n",
      "\n",
      "####################################  24  ##############################################\n",
      "\n",
      "\n"
     ]
    },
    {
     "name": "stderr",
     "output_type": "stream",
     "text": [
      "  0%|          | 25/5000 [06:26<21:45:41, 15.75s/it]Setting `pad_token_id` to `eos_token_id`:0 for open-end generation.\n"
     ]
    },
    {
     "name": "stdout",
     "output_type": "stream",
     "text": [
      "\n",
      "\n",
      "\n",
      "\n",
      "####################################  25  ##############################################\n",
      "\n",
      "\n"
     ]
    },
    {
     "name": "stderr",
     "output_type": "stream",
     "text": [
      "  1%|          | 26/5000 [06:40<20:57:15, 15.17s/it]Setting `pad_token_id` to `eos_token_id`:0 for open-end generation.\n"
     ]
    },
    {
     "name": "stdout",
     "output_type": "stream",
     "text": [
      "\n",
      "\n",
      "\n",
      "\n",
      "####################################  26  ##############################################\n",
      "\n",
      "\n"
     ]
    },
    {
     "name": "stderr",
     "output_type": "stream",
     "text": [
      "  1%|          | 27/5000 [07:03<24:12:49, 17.53s/it]Setting `pad_token_id` to `eos_token_id`:0 for open-end generation.\n"
     ]
    },
    {
     "name": "stdout",
     "output_type": "stream",
     "text": [
      "\n",
      "\n",
      "\n",
      "\n",
      "####################################  27  ##############################################\n",
      "\n",
      "\n"
     ]
    },
    {
     "name": "stderr",
     "output_type": "stream",
     "text": [
      "  1%|          | 28/5000 [07:12<20:53:49, 15.13s/it]Setting `pad_token_id` to `eos_token_id`:0 for open-end generation.\n"
     ]
    },
    {
     "name": "stdout",
     "output_type": "stream",
     "text": [
      "\n",
      "\n",
      "\n",
      "\n",
      "####################################  28  ##############################################\n",
      "\n",
      "\n",
      "Skipping because too long\n",
      "\n",
      "\n",
      "\n",
      "####################################  29  ##############################################\n",
      "\n",
      "\n"
     ]
    },
    {
     "name": "stderr",
     "output_type": "stream",
     "text": [
      "  1%|          | 30/5000 [07:25<15:17:57, 11.08s/it]Setting `pad_token_id` to `eos_token_id`:0 for open-end generation.\n"
     ]
    },
    {
     "name": "stdout",
     "output_type": "stream",
     "text": [
      "\n",
      "\n",
      "\n",
      "\n",
      "####################################  30  ##############################################\n",
      "\n",
      "\n"
     ]
    },
    {
     "name": "stderr",
     "output_type": "stream",
     "text": [
      "  1%|          | 31/5000 [07:28<12:21:56,  8.96s/it]Setting `pad_token_id` to `eos_token_id`:0 for open-end generation.\n"
     ]
    },
    {
     "name": "stdout",
     "output_type": "stream",
     "text": [
      "\n",
      "\n",
      "\n",
      "\n",
      "####################################  31  ##############################################\n",
      "\n",
      "\n"
     ]
    },
    {
     "name": "stderr",
     "output_type": "stream",
     "text": [
      "  1%|          | 32/5000 [07:45<15:19:43, 11.11s/it]Setting `pad_token_id` to `eos_token_id`:0 for open-end generation.\n"
     ]
    },
    {
     "name": "stdout",
     "output_type": "stream",
     "text": [
      "\n",
      "\n",
      "\n",
      "\n",
      "####################################  32  ##############################################\n",
      "\n",
      "\n"
     ]
    },
    {
     "name": "stderr",
     "output_type": "stream",
     "text": [
      "  1%|          | 33/5000 [07:48<12:12:47,  8.85s/it]Setting `pad_token_id` to `eos_token_id`:0 for open-end generation.\n"
     ]
    },
    {
     "name": "stdout",
     "output_type": "stream",
     "text": [
      "\n",
      "\n",
      "\n",
      "\n",
      "####################################  33  ##############################################\n",
      "\n",
      "\n"
     ]
    },
    {
     "name": "stderr",
     "output_type": "stream",
     "text": [
      "  1%|          | 34/5000 [08:07<16:19:30, 11.83s/it]Setting `pad_token_id` to `eos_token_id`:0 for open-end generation.\n"
     ]
    },
    {
     "name": "stdout",
     "output_type": "stream",
     "text": [
      "\n",
      "\n",
      "\n",
      "\n",
      "####################################  34  ##############################################\n",
      "\n",
      "\n"
     ]
    },
    {
     "name": "stderr",
     "output_type": "stream",
     "text": [
      "  1%|          | 35/5000 [08:22<17:30:19, 12.69s/it]Setting `pad_token_id` to `eos_token_id`:0 for open-end generation.\n"
     ]
    },
    {
     "name": "stdout",
     "output_type": "stream",
     "text": [
      "\n",
      "\n",
      "\n",
      "\n",
      "####################################  35  ##############################################\n",
      "\n",
      "\n"
     ]
    },
    {
     "name": "stderr",
     "output_type": "stream",
     "text": [
      "  1%|          | 36/5000 [08:24<13:24:49,  9.73s/it]Setting `pad_token_id` to `eos_token_id`:0 for open-end generation.\n"
     ]
    },
    {
     "name": "stdout",
     "output_type": "stream",
     "text": [
      "\n",
      "\n",
      "\n",
      "\n",
      "####################################  36  ##############################################\n",
      "\n",
      "\n"
     ]
    },
    {
     "name": "stderr",
     "output_type": "stream",
     "text": [
      "  1%|          | 37/5000 [08:40<15:39:07, 11.35s/it]Setting `pad_token_id` to `eos_token_id`:0 for open-end generation.\n"
     ]
    },
    {
     "name": "stdout",
     "output_type": "stream",
     "text": [
      "\n",
      "\n",
      "\n",
      "\n",
      "####################################  37  ##############################################\n",
      "\n",
      "\n"
     ]
    },
    {
     "name": "stderr",
     "output_type": "stream",
     "text": [
      "  1%|          | 38/5000 [08:48<14:32:59, 10.56s/it]Setting `pad_token_id` to `eos_token_id`:0 for open-end generation.\n"
     ]
    },
    {
     "name": "stdout",
     "output_type": "stream",
     "text": [
      "\n",
      "\n",
      "\n",
      "\n",
      "####################################  38  ##############################################\n",
      "\n",
      "\n"
     ]
    },
    {
     "name": "stderr",
     "output_type": "stream",
     "text": [
      "  1%|          | 39/5000 [08:53<12:01:16,  8.72s/it]Setting `pad_token_id` to `eos_token_id`:0 for open-end generation.\n"
     ]
    },
    {
     "name": "stdout",
     "output_type": "stream",
     "text": [
      "\n",
      "\n",
      "\n",
      "\n",
      "####################################  39  ##############################################\n",
      "\n",
      "\n"
     ]
    },
    {
     "name": "stderr",
     "output_type": "stream",
     "text": [
      "  1%|          | 40/5000 [08:58<10:40:02,  7.74s/it]Setting `pad_token_id` to `eos_token_id`:0 for open-end generation.\n"
     ]
    },
    {
     "name": "stdout",
     "output_type": "stream",
     "text": [
      "\n",
      "\n",
      "\n",
      "\n",
      "####################################  40  ##############################################\n",
      "\n",
      "\n"
     ]
    },
    {
     "name": "stderr",
     "output_type": "stream",
     "text": [
      "  1%|          | 41/5000 [09:38<24:00:08, 17.42s/it]Setting `pad_token_id` to `eos_token_id`:0 for open-end generation.\n"
     ]
    },
    {
     "name": "stdout",
     "output_type": "stream",
     "text": [
      "\n",
      "\n",
      "\n",
      "\n",
      "####################################  41  ##############################################\n",
      "\n",
      "\n"
     ]
    },
    {
     "name": "stderr",
     "output_type": "stream",
     "text": [
      "  1%|          | 42/5000 [10:01<26:07:45, 18.97s/it]Setting `pad_token_id` to `eos_token_id`:0 for open-end generation.\n"
     ]
    },
    {
     "name": "stdout",
     "output_type": "stream",
     "text": [
      "\n",
      "\n",
      "\n",
      "\n",
      "####################################  42  ##############################################\n",
      "\n",
      "\n"
     ]
    },
    {
     "name": "stderr",
     "output_type": "stream",
     "text": [
      "  1%|          | 43/5000 [10:11<22:34:11, 16.39s/it]Setting `pad_token_id` to `eos_token_id`:0 for open-end generation.\n"
     ]
    },
    {
     "name": "stdout",
     "output_type": "stream",
     "text": [
      "\n",
      "\n",
      "\n",
      "\n",
      "####################################  43  ##############################################\n",
      "\n",
      "\n"
     ]
    },
    {
     "name": "stderr",
     "output_type": "stream",
     "text": [
      "  1%|          | 44/5000 [10:12<16:11:04, 11.76s/it]Setting `pad_token_id` to `eos_token_id`:0 for open-end generation.\n"
     ]
    },
    {
     "name": "stdout",
     "output_type": "stream",
     "text": [
      "\n",
      "\n",
      "\n",
      "\n",
      "####################################  44  ##############################################\n",
      "\n",
      "\n"
     ]
    },
    {
     "name": "stderr",
     "output_type": "stream",
     "text": [
      "  1%|          | 45/5000 [10:21<14:56:16, 10.85s/it]Setting `pad_token_id` to `eos_token_id`:0 for open-end generation.\n"
     ]
    },
    {
     "name": "stdout",
     "output_type": "stream",
     "text": [
      "\n",
      "\n",
      "\n",
      "\n",
      "####################################  45  ##############################################\n",
      "\n",
      "\n"
     ]
    },
    {
     "name": "stderr",
     "output_type": "stream",
     "text": [
      "  1%|          | 46/5000 [10:28<13:26:40,  9.77s/it]Setting `pad_token_id` to `eos_token_id`:0 for open-end generation.\n"
     ]
    },
    {
     "name": "stdout",
     "output_type": "stream",
     "text": [
      "\n",
      "\n",
      "\n",
      "\n",
      "####################################  46  ##############################################\n",
      "\n",
      "\n"
     ]
    },
    {
     "name": "stderr",
     "output_type": "stream",
     "text": [
      "  1%|          | 47/5000 [10:33<11:18:10,  8.22s/it]Setting `pad_token_id` to `eos_token_id`:0 for open-end generation.\n"
     ]
    },
    {
     "name": "stdout",
     "output_type": "stream",
     "text": [
      "\n",
      "\n",
      "\n",
      "\n",
      "####################################  47  ##############################################\n",
      "\n",
      "\n"
     ]
    },
    {
     "name": "stderr",
     "output_type": "stream",
     "text": [
      "  1%|          | 48/5000 [10:58<18:09:15, 13.20s/it]Setting `pad_token_id` to `eos_token_id`:0 for open-end generation.\n"
     ]
    },
    {
     "name": "stdout",
     "output_type": "stream",
     "text": [
      "\n",
      "\n",
      "\n",
      "\n",
      "####################################  48  ##############################################\n",
      "\n",
      "\n"
     ]
    },
    {
     "name": "stderr",
     "output_type": "stream",
     "text": [
      "  1%|          | 49/5000 [11:12<18:41:42, 13.59s/it]Setting `pad_token_id` to `eos_token_id`:0 for open-end generation.\n"
     ]
    },
    {
     "name": "stdout",
     "output_type": "stream",
     "text": [
      "\n",
      "\n",
      "\n",
      "\n",
      "####################################  49  ##############################################\n",
      "\n",
      "\n"
     ]
    },
    {
     "name": "stderr",
     "output_type": "stream",
     "text": [
      "  1%|          | 50/5000 [11:37<23:13:38, 16.89s/it]Setting `pad_token_id` to `eos_token_id`:0 for open-end generation.\n"
     ]
    },
    {
     "name": "stdout",
     "output_type": "stream",
     "text": [
      "\n",
      "\n",
      "\n",
      "\n",
      "####################################  50  ##############################################\n",
      "\n",
      "\n"
     ]
    },
    {
     "name": "stderr",
     "output_type": "stream",
     "text": [
      "  1%|          | 51/5000 [11:52<22:28:01, 16.34s/it]Setting `pad_token_id` to `eos_token_id`:0 for open-end generation.\n"
     ]
    },
    {
     "name": "stdout",
     "output_type": "stream",
     "text": [
      "\n",
      "\n",
      "\n",
      "\n",
      "####################################  51  ##############################################\n",
      "\n",
      "\n"
     ]
    },
    {
     "name": "stderr",
     "output_type": "stream",
     "text": [
      "  1%|          | 52/5000 [11:52<15:56:35, 11.60s/it]Setting `pad_token_id` to `eos_token_id`:0 for open-end generation.\n"
     ]
    },
    {
     "name": "stdout",
     "output_type": "stream",
     "text": [
      "\n",
      "\n",
      "\n",
      "\n",
      "####################################  52  ##############################################\n",
      "\n",
      "\n"
     ]
    },
    {
     "name": "stderr",
     "output_type": "stream",
     "text": [
      "  1%|          | 53/5000 [11:54<11:54:24,  8.66s/it]Setting `pad_token_id` to `eos_token_id`:0 for open-end generation.\n"
     ]
    },
    {
     "name": "stdout",
     "output_type": "stream",
     "text": [
      "\n",
      "\n",
      "\n",
      "\n",
      "####################################  53  ##############################################\n",
      "\n",
      "\n"
     ]
    },
    {
     "name": "stderr",
     "output_type": "stream",
     "text": [
      "  1%|          | 54/5000 [12:01<11:17:34,  8.22s/it]Setting `pad_token_id` to `eos_token_id`:0 for open-end generation.\n"
     ]
    },
    {
     "name": "stdout",
     "output_type": "stream",
     "text": [
      "\n",
      "\n",
      "\n",
      "\n",
      "####################################  54  ##############################################\n",
      "\n",
      "\n"
     ]
    },
    {
     "name": "stderr",
     "output_type": "stream",
     "text": [
      "  1%|          | 55/5000 [12:23<16:55:50, 12.33s/it]Setting `pad_token_id` to `eos_token_id`:0 for open-end generation.\n"
     ]
    },
    {
     "name": "stdout",
     "output_type": "stream",
     "text": [
      "\n",
      "\n",
      "\n",
      "\n",
      "####################################  55  ##############################################\n",
      "\n",
      "\n"
     ]
    },
    {
     "name": "stderr",
     "output_type": "stream",
     "text": [
      "  1%|          | 56/5000 [12:31<15:05:32, 10.99s/it]Setting `pad_token_id` to `eos_token_id`:0 for open-end generation.\n"
     ]
    },
    {
     "name": "stdout",
     "output_type": "stream",
     "text": [
      "\n",
      "\n",
      "\n",
      "\n",
      "####################################  56  ##############################################\n",
      "\n",
      "\n"
     ]
    },
    {
     "name": "stderr",
     "output_type": "stream",
     "text": [
      "  1%|          | 57/5000 [12:33<11:12:43,  8.17s/it]Setting `pad_token_id` to `eos_token_id`:0 for open-end generation.\n"
     ]
    },
    {
     "name": "stdout",
     "output_type": "stream",
     "text": [
      "\n",
      "\n",
      "\n",
      "\n",
      "####################################  57  ##############################################\n",
      "\n",
      "\n"
     ]
    },
    {
     "name": "stderr",
     "output_type": "stream",
     "text": [
      "  1%|          | 58/5000 [12:39<10:27:05,  7.61s/it]Setting `pad_token_id` to `eos_token_id`:0 for open-end generation.\n"
     ]
    },
    {
     "name": "stdout",
     "output_type": "stream",
     "text": [
      "\n",
      "\n",
      "\n",
      "\n",
      "####################################  58  ##############################################\n",
      "\n",
      "\n"
     ]
    },
    {
     "name": "stderr",
     "output_type": "stream",
     "text": [
      "  1%|          | 59/5000 [13:23<25:25:06, 18.52s/it]Setting `pad_token_id` to `eos_token_id`:0 for open-end generation.\n"
     ]
    },
    {
     "name": "stdout",
     "output_type": "stream",
     "text": [
      "\n",
      "\n",
      "\n",
      "\n",
      "####################################  59  ##############################################\n",
      "\n",
      "\n"
     ]
    },
    {
     "name": "stderr",
     "output_type": "stream",
     "text": [
      "  1%|          | 60/5000 [13:31<21:08:33, 15.41s/it]Setting `pad_token_id` to `eos_token_id`:0 for open-end generation.\n"
     ]
    },
    {
     "name": "stdout",
     "output_type": "stream",
     "text": [
      "\n",
      "\n",
      "\n",
      "\n",
      "####################################  60  ##############################################\n",
      "\n",
      "\n"
     ]
    },
    {
     "name": "stderr",
     "output_type": "stream",
     "text": [
      "  1%|          | 61/5000 [13:47<21:30:33, 15.68s/it]Setting `pad_token_id` to `eos_token_id`:0 for open-end generation.\n"
     ]
    },
    {
     "name": "stdout",
     "output_type": "stream",
     "text": [
      "\n",
      "\n",
      "\n",
      "\n",
      "####################################  61  ##############################################\n",
      "\n",
      "\n"
     ]
    },
    {
     "name": "stderr",
     "output_type": "stream",
     "text": [
      "  1%|          | 62/5000 [13:55<17:57:30, 13.09s/it]Setting `pad_token_id` to `eos_token_id`:0 for open-end generation.\n"
     ]
    },
    {
     "name": "stdout",
     "output_type": "stream",
     "text": [
      "\n",
      "\n",
      "\n",
      "\n",
      "####################################  62  ##############################################\n",
      "\n",
      "\n"
     ]
    },
    {
     "name": "stderr",
     "output_type": "stream",
     "text": [
      "  1%|▏         | 63/5000 [14:07<17:43:38, 12.93s/it]Setting `pad_token_id` to `eos_token_id`:0 for open-end generation.\n"
     ]
    },
    {
     "name": "stdout",
     "output_type": "stream",
     "text": [
      "\n",
      "\n",
      "\n",
      "\n",
      "####################################  63  ##############################################\n",
      "\n",
      "\n"
     ]
    },
    {
     "name": "stderr",
     "output_type": "stream",
     "text": [
      "  1%|▏         | 64/5000 [14:16<15:54:48, 11.61s/it]Setting `pad_token_id` to `eos_token_id`:0 for open-end generation.\n"
     ]
    },
    {
     "name": "stdout",
     "output_type": "stream",
     "text": [
      "\n",
      "\n",
      "\n",
      "\n",
      "####################################  64  ##############################################\n",
      "\n",
      "\n"
     ]
    },
    {
     "name": "stderr",
     "output_type": "stream",
     "text": [
      "  1%|▏         | 65/5000 [14:34<18:53:21, 13.78s/it]Setting `pad_token_id` to `eos_token_id`:0 for open-end generation.\n"
     ]
    },
    {
     "name": "stdout",
     "output_type": "stream",
     "text": [
      "\n",
      "\n",
      "\n",
      "\n",
      "####################################  65  ##############################################\n",
      "\n",
      "\n"
     ]
    },
    {
     "name": "stderr",
     "output_type": "stream",
     "text": [
      "  1%|▏         | 66/5000 [14:49<19:23:56, 14.15s/it]Setting `pad_token_id` to `eos_token_id`:0 for open-end generation.\n"
     ]
    },
    {
     "name": "stdout",
     "output_type": "stream",
     "text": [
      "\n",
      "\n",
      "\n",
      "\n",
      "####################################  66  ##############################################\n",
      "\n",
      "\n"
     ]
    },
    {
     "name": "stderr",
     "output_type": "stream",
     "text": [
      "  1%|▏         | 67/5000 [15:05<20:08:02, 14.69s/it]Setting `pad_token_id` to `eos_token_id`:0 for open-end generation.\n"
     ]
    },
    {
     "name": "stdout",
     "output_type": "stream",
     "text": [
      "\n",
      "\n",
      "\n",
      "\n",
      "####################################  67  ##############################################\n",
      "\n",
      "\n"
     ]
    },
    {
     "name": "stderr",
     "output_type": "stream",
     "text": [
      "  1%|▏         | 68/5000 [15:16<18:30:17, 13.51s/it]Setting `pad_token_id` to `eos_token_id`:0 for open-end generation.\n"
     ]
    },
    {
     "name": "stdout",
     "output_type": "stream",
     "text": [
      "\n",
      "\n",
      "\n",
      "\n",
      "####################################  68  ##############################################\n",
      "\n",
      "\n"
     ]
    },
    {
     "name": "stderr",
     "output_type": "stream",
     "text": [
      "  1%|▏         | 69/5000 [15:28<17:38:44, 12.88s/it]Setting `pad_token_id` to `eos_token_id`:0 for open-end generation.\n"
     ]
    },
    {
     "name": "stdout",
     "output_type": "stream",
     "text": [
      "\n",
      "\n",
      "\n",
      "\n",
      "####################################  69  ##############################################\n",
      "\n",
      "\n"
     ]
    },
    {
     "name": "stderr",
     "output_type": "stream",
     "text": [
      "  1%|▏         | 70/5000 [15:34<15:04:09, 11.00s/it]Setting `pad_token_id` to `eos_token_id`:0 for open-end generation.\n"
     ]
    },
    {
     "name": "stdout",
     "output_type": "stream",
     "text": [
      "\n",
      "\n",
      "\n",
      "\n",
      "####################################  70  ##############################################\n",
      "\n",
      "\n"
     ]
    },
    {
     "name": "stderr",
     "output_type": "stream",
     "text": [
      "  1%|▏         | 71/5000 [16:09<24:49:28, 18.13s/it]Setting `pad_token_id` to `eos_token_id`:0 for open-end generation.\n"
     ]
    },
    {
     "name": "stdout",
     "output_type": "stream",
     "text": [
      "\n",
      "\n",
      "\n",
      "\n",
      "####################################  71  ##############################################\n",
      "\n",
      "\n"
     ]
    },
    {
     "name": "stderr",
     "output_type": "stream",
     "text": [
      "  1%|▏         | 72/5000 [16:20<22:05:31, 16.14s/it]Setting `pad_token_id` to `eos_token_id`:0 for open-end generation.\n"
     ]
    },
    {
     "name": "stdout",
     "output_type": "stream",
     "text": [
      "\n",
      "\n",
      "\n",
      "\n",
      "####################################  72  ##############################################\n",
      "\n",
      "\n"
     ]
    },
    {
     "name": "stderr",
     "output_type": "stream",
     "text": [
      "  1%|▏         | 73/5000 [16:22<15:58:05, 11.67s/it]Setting `pad_token_id` to `eos_token_id`:0 for open-end generation.\n"
     ]
    },
    {
     "name": "stdout",
     "output_type": "stream",
     "text": [
      "\n",
      "\n",
      "\n",
      "\n",
      "####################################  73  ##############################################\n",
      "\n",
      "\n"
     ]
    },
    {
     "name": "stderr",
     "output_type": "stream",
     "text": [
      "  1%|▏         | 74/5000 [16:53<24:02:58, 17.58s/it]Setting `pad_token_id` to `eos_token_id`:0 for open-end generation.\n"
     ]
    },
    {
     "name": "stdout",
     "output_type": "stream",
     "text": [
      "\n",
      "\n",
      "\n",
      "\n",
      "####################################  74  ##############################################\n",
      "\n",
      "\n"
     ]
    },
    {
     "name": "stderr",
     "output_type": "stream",
     "text": [
      "  2%|▏         | 75/5000 [17:19<27:37:22, 20.19s/it]Setting `pad_token_id` to `eos_token_id`:0 for open-end generation.\n"
     ]
    },
    {
     "name": "stdout",
     "output_type": "stream",
     "text": [
      "\n",
      "\n",
      "\n",
      "\n",
      "####################################  75  ##############################################\n",
      "\n",
      "\n"
     ]
    },
    {
     "name": "stderr",
     "output_type": "stream",
     "text": [
      "  2%|▏         | 76/5000 [17:31<24:17:08, 17.76s/it]Setting `pad_token_id` to `eos_token_id`:0 for open-end generation.\n"
     ]
    },
    {
     "name": "stdout",
     "output_type": "stream",
     "text": [
      "\n",
      "\n",
      "\n",
      "\n",
      "####################################  76  ##############################################\n",
      "\n",
      "\n"
     ]
    },
    {
     "name": "stderr",
     "output_type": "stream",
     "text": [
      "  2%|▏         | 77/5000 [17:41<20:46:49, 15.20s/it]Setting `pad_token_id` to `eos_token_id`:0 for open-end generation.\n"
     ]
    },
    {
     "name": "stdout",
     "output_type": "stream",
     "text": [
      "\n",
      "\n",
      "\n",
      "\n",
      "####################################  77  ##############################################\n",
      "\n",
      "\n"
     ]
    },
    {
     "name": "stderr",
     "output_type": "stream",
     "text": [
      "  2%|▏         | 78/5000 [17:53<19:49:01, 14.49s/it]Setting `pad_token_id` to `eos_token_id`:0 for open-end generation.\n"
     ]
    },
    {
     "name": "stdout",
     "output_type": "stream",
     "text": [
      "\n",
      "\n",
      "\n",
      "\n",
      "####################################  78  ##############################################\n",
      "\n",
      "\n"
     ]
    },
    {
     "name": "stderr",
     "output_type": "stream",
     "text": [
      "  2%|▏         | 79/5000 [17:57<15:22:45, 11.25s/it]Setting `pad_token_id` to `eos_token_id`:0 for open-end generation.\n"
     ]
    },
    {
     "name": "stdout",
     "output_type": "stream",
     "text": [
      "\n",
      "\n",
      "\n",
      "\n",
      "####################################  79  ##############################################\n",
      "\n",
      "\n",
      "Skipping because too long\n",
      "\n",
      "\n",
      "\n",
      "####################################  80  ##############################################\n",
      "\n",
      "\n"
     ]
    },
    {
     "name": "stderr",
     "output_type": "stream",
     "text": [
      "  2%|▏         | 81/5000 [18:07<11:29:06,  8.41s/it]Setting `pad_token_id` to `eos_token_id`:0 for open-end generation.\n"
     ]
    },
    {
     "name": "stdout",
     "output_type": "stream",
     "text": [
      "\n",
      "\n",
      "\n",
      "\n",
      "####################################  81  ##############################################\n",
      "\n",
      "\n"
     ]
    },
    {
     "name": "stderr",
     "output_type": "stream",
     "text": [
      "  2%|▏         | 82/5000 [18:22<13:32:44,  9.92s/it]Setting `pad_token_id` to `eos_token_id`:0 for open-end generation.\n"
     ]
    },
    {
     "name": "stdout",
     "output_type": "stream",
     "text": [
      "\n",
      "\n",
      "\n",
      "\n",
      "####################################  82  ##############################################\n",
      "\n",
      "\n"
     ]
    },
    {
     "name": "stderr",
     "output_type": "stream",
     "text": [
      "  2%|▏         | 83/5000 [18:41<16:47:45, 12.30s/it]Setting `pad_token_id` to `eos_token_id`:0 for open-end generation.\n"
     ]
    },
    {
     "name": "stdout",
     "output_type": "stream",
     "text": [
      "\n",
      "\n",
      "\n",
      "\n",
      "####################################  83  ##############################################\n",
      "\n",
      "\n"
     ]
    },
    {
     "name": "stderr",
     "output_type": "stream",
     "text": [
      "  2%|▏         | 84/5000 [18:53<16:48:32, 12.31s/it]Setting `pad_token_id` to `eos_token_id`:0 for open-end generation.\n"
     ]
    },
    {
     "name": "stdout",
     "output_type": "stream",
     "text": [
      "\n",
      "\n",
      "\n",
      "\n",
      "####################################  84  ##############################################\n",
      "\n",
      "\n"
     ]
    },
    {
     "name": "stderr",
     "output_type": "stream",
     "text": [
      "  2%|▏         | 85/5000 [19:07<17:27:08, 12.78s/it]Setting `pad_token_id` to `eos_token_id`:0 for open-end generation.\n"
     ]
    },
    {
     "name": "stdout",
     "output_type": "stream",
     "text": [
      "\n",
      "\n",
      "\n",
      "\n",
      "####################################  85  ##############################################\n",
      "\n",
      "\n"
     ]
    },
    {
     "name": "stderr",
     "output_type": "stream",
     "text": [
      "  2%|▏         | 86/5000 [19:28<20:42:32, 15.17s/it]Setting `pad_token_id` to `eos_token_id`:0 for open-end generation.\n"
     ]
    },
    {
     "name": "stdout",
     "output_type": "stream",
     "text": [
      "\n",
      "\n",
      "\n",
      "\n",
      "####################################  86  ##############################################\n",
      "\n",
      "\n"
     ]
    },
    {
     "name": "stderr",
     "output_type": "stream",
     "text": [
      "  2%|▏         | 87/5000 [19:43<20:23:51, 14.95s/it]Setting `pad_token_id` to `eos_token_id`:0 for open-end generation.\n"
     ]
    },
    {
     "name": "stdout",
     "output_type": "stream",
     "text": [
      "\n",
      "\n",
      "\n",
      "\n",
      "####################################  87  ##############################################\n",
      "\n",
      "\n"
     ]
    },
    {
     "name": "stderr",
     "output_type": "stream",
     "text": [
      "  2%|▏         | 88/5000 [19:57<20:14:59, 14.84s/it]Setting `pad_token_id` to `eos_token_id`:0 for open-end generation.\n"
     ]
    },
    {
     "name": "stdout",
     "output_type": "stream",
     "text": [
      "\n",
      "\n",
      "\n",
      "\n",
      "####################################  88  ##############################################\n",
      "\n",
      "\n"
     ]
    },
    {
     "name": "stderr",
     "output_type": "stream",
     "text": [
      "  2%|▏         | 89/5000 [20:09<19:03:22, 13.97s/it]Setting `pad_token_id` to `eos_token_id`:0 for open-end generation.\n"
     ]
    },
    {
     "name": "stdout",
     "output_type": "stream",
     "text": [
      "\n",
      "\n",
      "\n",
      "\n",
      "####################################  89  ##############################################\n",
      "\n",
      "\n"
     ]
    },
    {
     "name": "stderr",
     "output_type": "stream",
     "text": [
      "  2%|▏         | 90/5000 [20:14<15:25:10, 11.31s/it]Setting `pad_token_id` to `eos_token_id`:0 for open-end generation.\n"
     ]
    },
    {
     "name": "stdout",
     "output_type": "stream",
     "text": [
      "\n",
      "\n",
      "\n",
      "\n",
      "####################################  90  ##############################################\n",
      "\n",
      "\n"
     ]
    },
    {
     "name": "stderr",
     "output_type": "stream",
     "text": [
      "  2%|▏         | 91/5000 [20:22<13:52:53, 10.18s/it]Setting `pad_token_id` to `eos_token_id`:0 for open-end generation.\n"
     ]
    },
    {
     "name": "stdout",
     "output_type": "stream",
     "text": [
      "\n",
      "\n",
      "\n",
      "\n",
      "####################################  91  ##############################################\n",
      "\n",
      "\n"
     ]
    },
    {
     "name": "stderr",
     "output_type": "stream",
     "text": [
      "  2%|▏         | 92/5000 [20:25<11:01:25,  8.09s/it]Setting `pad_token_id` to `eos_token_id`:0 for open-end generation.\n"
     ]
    },
    {
     "name": "stdout",
     "output_type": "stream",
     "text": [
      "\n",
      "\n",
      "\n",
      "\n",
      "####################################  92  ##############################################\n",
      "\n",
      "\n"
     ]
    },
    {
     "name": "stderr",
     "output_type": "stream",
     "text": [
      "  2%|▏         | 93/5000 [20:44<15:42:25, 11.52s/it]Setting `pad_token_id` to `eos_token_id`:0 for open-end generation.\n"
     ]
    },
    {
     "name": "stdout",
     "output_type": "stream",
     "text": [
      "\n",
      "\n",
      "\n",
      "\n",
      "####################################  93  ##############################################\n",
      "\n",
      "\n"
     ]
    },
    {
     "name": "stderr",
     "output_type": "stream",
     "text": [
      "  2%|▏         | 94/5000 [20:48<12:28:59,  9.16s/it]Setting `pad_token_id` to `eos_token_id`:0 for open-end generation.\n"
     ]
    },
    {
     "name": "stdout",
     "output_type": "stream",
     "text": [
      "\n",
      "\n",
      "\n",
      "\n",
      "####################################  94  ##############################################\n",
      "\n",
      "\n"
     ]
    },
    {
     "name": "stderr",
     "output_type": "stream",
     "text": [
      "  2%|▏         | 95/5000 [20:52<10:26:14,  7.66s/it]Setting `pad_token_id` to `eos_token_id`:0 for open-end generation.\n"
     ]
    },
    {
     "name": "stdout",
     "output_type": "stream",
     "text": [
      "\n",
      "\n",
      "\n",
      "\n",
      "####################################  95  ##############################################\n",
      "\n",
      "\n"
     ]
    },
    {
     "name": "stderr",
     "output_type": "stream",
     "text": [
      "  2%|▏         | 96/5000 [22:28<46:14:02, 33.94s/it]Setting `pad_token_id` to `eos_token_id`:0 for open-end generation.\n"
     ]
    },
    {
     "name": "stdout",
     "output_type": "stream",
     "text": [
      "\n",
      "\n",
      "\n",
      "\n",
      "####################################  96  ##############################################\n",
      "\n",
      "\n"
     ]
    },
    {
     "name": "stderr",
     "output_type": "stream",
     "text": [
      "  2%|▏         | 97/5000 [22:35<35:10:58, 25.83s/it]Setting `pad_token_id` to `eos_token_id`:0 for open-end generation.\n"
     ]
    },
    {
     "name": "stdout",
     "output_type": "stream",
     "text": [
      "\n",
      "\n",
      "\n",
      "\n",
      "####################################  97  ##############################################\n",
      "\n",
      "\n"
     ]
    },
    {
     "name": "stderr",
     "output_type": "stream",
     "text": [
      "  2%|▏         | 98/5000 [22:56<33:11:57, 24.38s/it]Setting `pad_token_id` to `eos_token_id`:0 for open-end generation.\n"
     ]
    },
    {
     "name": "stdout",
     "output_type": "stream",
     "text": [
      "\n",
      "\n",
      "\n",
      "\n",
      "####################################  98  ##############################################\n",
      "\n",
      "\n"
     ]
    },
    {
     "name": "stderr",
     "output_type": "stream",
     "text": [
      "  2%|▏         | 99/5000 [23:18<32:33:18, 23.91s/it]Setting `pad_token_id` to `eos_token_id`:0 for open-end generation.\n"
     ]
    },
    {
     "name": "stdout",
     "output_type": "stream",
     "text": [
      "\n",
      "\n",
      "\n",
      "\n",
      "####################################  99  ##############################################\n",
      "\n",
      "\n"
     ]
    },
    {
     "name": "stderr",
     "output_type": "stream",
     "text": [
      "  2%|▏         | 100/5000 [23:25<25:38:12, 18.84s/it]Setting `pad_token_id` to `eos_token_id`:0 for open-end generation.\n"
     ]
    },
    {
     "name": "stdout",
     "output_type": "stream",
     "text": [
      "\n",
      "\n",
      "\n",
      "\n",
      "####################################  100  ##############################################\n",
      "\n",
      "\n"
     ]
    },
    {
     "name": "stderr",
     "output_type": "stream",
     "text": [
      "  2%|▏         | 101/5000 [23:49<27:33:19, 20.25s/it]Setting `pad_token_id` to `eos_token_id`:0 for open-end generation.\n"
     ]
    },
    {
     "name": "stdout",
     "output_type": "stream",
     "text": [
      "\n",
      "\n",
      "\n",
      "\n",
      "####################################  101  ##############################################\n",
      "\n",
      "\n"
     ]
    },
    {
     "name": "stderr",
     "output_type": "stream",
     "text": [
      "  2%|▏         | 102/5000 [24:02<24:29:25, 18.00s/it]Setting `pad_token_id` to `eos_token_id`:0 for open-end generation.\n"
     ]
    },
    {
     "name": "stdout",
     "output_type": "stream",
     "text": [
      "\n",
      "\n",
      "\n",
      "\n",
      "####################################  102  ##############################################\n",
      "\n",
      "\n"
     ]
    },
    {
     "name": "stderr",
     "output_type": "stream",
     "text": [
      "  2%|▏         | 103/5000 [24:26<26:59:22, 19.84s/it]Setting `pad_token_id` to `eos_token_id`:0 for open-end generation.\n"
     ]
    },
    {
     "name": "stdout",
     "output_type": "stream",
     "text": [
      "\n",
      "\n",
      "\n",
      "\n",
      "####################################  103  ##############################################\n",
      "\n",
      "\n"
     ]
    },
    {
     "name": "stderr",
     "output_type": "stream",
     "text": [
      "  2%|▏         | 104/5000 [24:47<27:22:23, 20.13s/it]Setting `pad_token_id` to `eos_token_id`:0 for open-end generation.\n"
     ]
    },
    {
     "name": "stdout",
     "output_type": "stream",
     "text": [
      "\n",
      "\n",
      "\n",
      "\n",
      "####################################  104  ##############################################\n",
      "\n",
      "\n"
     ]
    },
    {
     "name": "stderr",
     "output_type": "stream",
     "text": [
      "  2%|▏         | 105/5000 [24:51<21:05:31, 15.51s/it]Setting `pad_token_id` to `eos_token_id`:0 for open-end generation.\n"
     ]
    },
    {
     "name": "stdout",
     "output_type": "stream",
     "text": [
      "\n",
      "\n",
      "\n",
      "\n",
      "####################################  105  ##############################################\n",
      "\n",
      "\n"
     ]
    },
    {
     "name": "stderr",
     "output_type": "stream",
     "text": [
      "  2%|▏         | 106/5000 [25:10<22:33:21, 16.59s/it]Setting `pad_token_id` to `eos_token_id`:0 for open-end generation.\n"
     ]
    },
    {
     "name": "stdout",
     "output_type": "stream",
     "text": [
      "\n",
      "\n",
      "\n",
      "\n",
      "####################################  106  ##############################################\n",
      "\n",
      "\n"
     ]
    },
    {
     "name": "stderr",
     "output_type": "stream",
     "text": [
      "  2%|▏         | 107/5000 [25:18<19:03:28, 14.02s/it]Setting `pad_token_id` to `eos_token_id`:0 for open-end generation.\n"
     ]
    },
    {
     "name": "stdout",
     "output_type": "stream",
     "text": [
      "\n",
      "\n",
      "\n",
      "\n",
      "####################################  107  ##############################################\n",
      "\n",
      "\n"
     ]
    },
    {
     "name": "stderr",
     "output_type": "stream",
     "text": [
      "  2%|▏         | 108/5000 [25:25<15:51:32, 11.67s/it]Setting `pad_token_id` to `eos_token_id`:0 for open-end generation.\n"
     ]
    },
    {
     "name": "stdout",
     "output_type": "stream",
     "text": [
      "\n",
      "\n",
      "\n",
      "\n",
      "####################################  108  ##############################################\n",
      "\n",
      "\n"
     ]
    },
    {
     "name": "stderr",
     "output_type": "stream",
     "text": [
      "  2%|▏         | 109/5000 [25:35<15:14:21, 11.22s/it]Setting `pad_token_id` to `eos_token_id`:0 for open-end generation.\n"
     ]
    },
    {
     "name": "stdout",
     "output_type": "stream",
     "text": [
      "\n",
      "\n",
      "\n",
      "\n",
      "####################################  109  ##############################################\n",
      "\n",
      "\n"
     ]
    },
    {
     "name": "stderr",
     "output_type": "stream",
     "text": [
      "  2%|▏         | 110/5000 [25:40<12:52:33,  9.48s/it]Setting `pad_token_id` to `eos_token_id`:0 for open-end generation.\n"
     ]
    },
    {
     "name": "stdout",
     "output_type": "stream",
     "text": [
      "\n",
      "\n",
      "\n",
      "\n",
      "####################################  110  ##############################################\n",
      "\n",
      "\n"
     ]
    },
    {
     "name": "stderr",
     "output_type": "stream",
     "text": [
      "  2%|▏         | 111/5000 [25:57<15:39:43, 11.53s/it]Setting `pad_token_id` to `eos_token_id`:0 for open-end generation.\n"
     ]
    },
    {
     "name": "stdout",
     "output_type": "stream",
     "text": [
      "\n",
      "\n",
      "\n",
      "\n",
      "####################################  111  ##############################################\n",
      "\n",
      "\n"
     ]
    },
    {
     "name": "stderr",
     "output_type": "stream",
     "text": [
      "  2%|▏         | 112/5000 [26:20<20:42:39, 15.25s/it]Setting `pad_token_id` to `eos_token_id`:0 for open-end generation.\n"
     ]
    },
    {
     "name": "stdout",
     "output_type": "stream",
     "text": [
      "\n",
      "\n",
      "\n",
      "\n",
      "####################################  112  ##############################################\n",
      "\n",
      "\n"
     ]
    },
    {
     "name": "stderr",
     "output_type": "stream",
     "text": [
      "  2%|▏         | 113/5000 [26:43<23:40:30, 17.44s/it]Setting `pad_token_id` to `eos_token_id`:0 for open-end generation.\n"
     ]
    },
    {
     "name": "stdout",
     "output_type": "stream",
     "text": [
      "\n",
      "\n",
      "\n",
      "\n",
      "####################################  113  ##############################################\n",
      "\n",
      "\n"
     ]
    },
    {
     "name": "stderr",
     "output_type": "stream",
     "text": [
      "  2%|▏         | 114/5000 [26:46<17:48:05, 13.12s/it]Setting `pad_token_id` to `eos_token_id`:0 for open-end generation.\n"
     ]
    },
    {
     "name": "stdout",
     "output_type": "stream",
     "text": [
      "\n",
      "\n",
      "\n",
      "\n",
      "####################################  114  ##############################################\n",
      "\n",
      "\n"
     ]
    },
    {
     "name": "stderr",
     "output_type": "stream",
     "text": [
      "  2%|▏         | 115/5000 [27:01<18:45:03, 13.82s/it]Setting `pad_token_id` to `eos_token_id`:0 for open-end generation.\n"
     ]
    },
    {
     "name": "stdout",
     "output_type": "stream",
     "text": [
      "\n",
      "\n",
      "\n",
      "\n",
      "####################################  115  ##############################################\n",
      "\n",
      "\n"
     ]
    },
    {
     "name": "stderr",
     "output_type": "stream",
     "text": [
      "  2%|▏         | 116/5000 [27:07<15:26:04, 11.38s/it]Setting `pad_token_id` to `eos_token_id`:0 for open-end generation.\n"
     ]
    },
    {
     "name": "stdout",
     "output_type": "stream",
     "text": [
      "\n",
      "\n",
      "\n",
      "\n",
      "####################################  116  ##############################################\n",
      "\n",
      "\n"
     ]
    },
    {
     "name": "stderr",
     "output_type": "stream",
     "text": [
      "  2%|▏         | 117/5000 [27:13<13:06:17,  9.66s/it]Setting `pad_token_id` to `eos_token_id`:0 for open-end generation.\n"
     ]
    },
    {
     "name": "stdout",
     "output_type": "stream",
     "text": [
      "\n",
      "\n",
      "\n",
      "\n",
      "####################################  117  ##############################################\n",
      "\n",
      "\n"
     ]
    },
    {
     "name": "stderr",
     "output_type": "stream",
     "text": [
      "  2%|▏         | 118/5000 [27:36<18:41:53, 13.79s/it]Setting `pad_token_id` to `eos_token_id`:0 for open-end generation.\n"
     ]
    },
    {
     "name": "stdout",
     "output_type": "stream",
     "text": [
      "\n",
      "\n",
      "\n",
      "\n",
      "####################################  118  ##############################################\n",
      "\n",
      "\n"
     ]
    },
    {
     "name": "stderr",
     "output_type": "stream",
     "text": [
      "  2%|▏         | 119/5000 [27:42<15:15:56, 11.26s/it]Setting `pad_token_id` to `eos_token_id`:0 for open-end generation.\n"
     ]
    },
    {
     "name": "stdout",
     "output_type": "stream",
     "text": [
      "\n",
      "\n",
      "\n",
      "\n",
      "####################################  119  ##############################################\n",
      "\n",
      "\n"
     ]
    },
    {
     "name": "stderr",
     "output_type": "stream",
     "text": [
      "  2%|▏         | 120/5000 [27:54<15:38:25, 11.54s/it]Setting `pad_token_id` to `eos_token_id`:0 for open-end generation.\n"
     ]
    },
    {
     "name": "stdout",
     "output_type": "stream",
     "text": [
      "\n",
      "\n",
      "\n",
      "\n",
      "####################################  120  ##############################################\n",
      "\n",
      "\n"
     ]
    },
    {
     "name": "stderr",
     "output_type": "stream",
     "text": [
      "  2%|▏         | 121/5000 [27:55<11:21:20,  8.38s/it]Setting `pad_token_id` to `eos_token_id`:0 for open-end generation.\n"
     ]
    },
    {
     "name": "stdout",
     "output_type": "stream",
     "text": [
      "\n",
      "\n",
      "\n",
      "\n",
      "####################################  121  ##############################################\n",
      "\n",
      "\n"
     ]
    },
    {
     "name": "stderr",
     "output_type": "stream",
     "text": [
      "  2%|▏         | 122/5000 [28:04<11:46:49,  8.69s/it]Setting `pad_token_id` to `eos_token_id`:0 for open-end generation.\n"
     ]
    },
    {
     "name": "stdout",
     "output_type": "stream",
     "text": [
      "\n",
      "\n",
      "\n",
      "\n",
      "####################################  122  ##############################################\n",
      "\n",
      "\n"
     ]
    },
    {
     "name": "stderr",
     "output_type": "stream",
     "text": [
      "  2%|▏         | 123/5000 [28:45<24:57:13, 18.42s/it]Setting `pad_token_id` to `eos_token_id`:0 for open-end generation.\n"
     ]
    },
    {
     "name": "stdout",
     "output_type": "stream",
     "text": [
      "\n",
      "\n",
      "\n",
      "\n",
      "####################################  123  ##############################################\n",
      "\n",
      "\n"
     ]
    },
    {
     "name": "stderr",
     "output_type": "stream",
     "text": [
      "  2%|▏         | 124/5000 [28:52<20:06:42, 14.85s/it]Setting `pad_token_id` to `eos_token_id`:0 for open-end generation.\n"
     ]
    },
    {
     "name": "stdout",
     "output_type": "stream",
     "text": [
      "\n",
      "\n",
      "\n",
      "\n",
      "####################################  124  ##############################################\n",
      "\n",
      "\n"
     ]
    },
    {
     "name": "stderr",
     "output_type": "stream",
     "text": [
      "  2%|▎         | 125/5000 [29:10<21:30:38, 15.88s/it]Setting `pad_token_id` to `eos_token_id`:0 for open-end generation.\n"
     ]
    },
    {
     "name": "stdout",
     "output_type": "stream",
     "text": [
      "\n",
      "\n",
      "\n",
      "\n",
      "####################################  125  ##############################################\n",
      "\n",
      "\n"
     ]
    },
    {
     "name": "stderr",
     "output_type": "stream",
     "text": [
      "  3%|▎         | 126/5000 [29:35<25:02:09, 18.49s/it]Setting `pad_token_id` to `eos_token_id`:0 for open-end generation.\n"
     ]
    },
    {
     "name": "stdout",
     "output_type": "stream",
     "text": [
      "\n",
      "\n",
      "\n",
      "\n",
      "####################################  126  ##############################################\n",
      "\n",
      "\n"
     ]
    },
    {
     "name": "stderr",
     "output_type": "stream",
     "text": [
      "  3%|▎         | 127/5000 [29:52<24:38:46, 18.21s/it]Setting `pad_token_id` to `eos_token_id`:0 for open-end generation.\n"
     ]
    },
    {
     "name": "stdout",
     "output_type": "stream",
     "text": [
      "\n",
      "\n",
      "\n",
      "\n",
      "####################################  127  ##############################################\n",
      "\n",
      "\n"
     ]
    },
    {
     "name": "stderr",
     "output_type": "stream",
     "text": [
      "  3%|▎         | 128/5000 [30:09<24:08:11, 17.83s/it]Setting `pad_token_id` to `eos_token_id`:0 for open-end generation.\n"
     ]
    },
    {
     "name": "stdout",
     "output_type": "stream",
     "text": [
      "\n",
      "\n",
      "\n",
      "\n",
      "####################################  128  ##############################################\n",
      "\n",
      "\n"
     ]
    },
    {
     "name": "stderr",
     "output_type": "stream",
     "text": [
      "  3%|▎         | 129/5000 [30:52<34:14:25, 25.31s/it]Setting `pad_token_id` to `eos_token_id`:0 for open-end generation.\n"
     ]
    },
    {
     "name": "stdout",
     "output_type": "stream",
     "text": [
      "\n",
      "\n",
      "\n",
      "\n",
      "####################################  129  ##############################################\n",
      "\n",
      "\n"
     ]
    },
    {
     "name": "stderr",
     "output_type": "stream",
     "text": [
      "  3%|▎         | 130/5000 [30:53<24:23:22, 18.03s/it]Setting `pad_token_id` to `eos_token_id`:0 for open-end generation.\n"
     ]
    },
    {
     "name": "stdout",
     "output_type": "stream",
     "text": [
      "\n",
      "\n",
      "\n",
      "\n",
      "####################################  130  ##############################################\n",
      "\n",
      "\n"
     ]
    },
    {
     "name": "stderr",
     "output_type": "stream",
     "text": [
      "  3%|▎         | 131/5000 [31:15<25:50:14, 19.10s/it]Setting `pad_token_id` to `eos_token_id`:0 for open-end generation.\n"
     ]
    },
    {
     "name": "stdout",
     "output_type": "stream",
     "text": [
      "\n",
      "\n",
      "\n",
      "\n",
      "####################################  131  ##############################################\n",
      "\n",
      "\n"
     ]
    },
    {
     "name": "stderr",
     "output_type": "stream",
     "text": [
      "  3%|▎         | 132/5000 [31:34<25:52:49, 19.14s/it]Setting `pad_token_id` to `eos_token_id`:0 for open-end generation.\n"
     ]
    },
    {
     "name": "stdout",
     "output_type": "stream",
     "text": [
      "\n",
      "\n",
      "\n",
      "\n",
      "####################################  132  ##############################################\n",
      "\n",
      "\n"
     ]
    },
    {
     "name": "stderr",
     "output_type": "stream",
     "text": [
      "  3%|▎         | 133/5000 [31:40<20:36:02, 15.24s/it]Setting `pad_token_id` to `eos_token_id`:0 for open-end generation.\n"
     ]
    },
    {
     "name": "stdout",
     "output_type": "stream",
     "text": [
      "\n",
      "\n",
      "\n",
      "\n",
      "####################################  133  ##############################################\n",
      "\n",
      "\n"
     ]
    },
    {
     "name": "stderr",
     "output_type": "stream",
     "text": [
      "  3%|▎         | 134/5000 [32:05<24:34:36, 18.18s/it]Setting `pad_token_id` to `eos_token_id`:0 for open-end generation.\n"
     ]
    },
    {
     "name": "stdout",
     "output_type": "stream",
     "text": [
      "\n",
      "\n",
      "\n",
      "\n",
      "####################################  134  ##############################################\n",
      "\n",
      "\n"
     ]
    },
    {
     "name": "stderr",
     "output_type": "stream",
     "text": [
      "  3%|▎         | 135/5000 [32:19<22:58:30, 17.00s/it]Setting `pad_token_id` to `eos_token_id`:0 for open-end generation.\n"
     ]
    },
    {
     "name": "stdout",
     "output_type": "stream",
     "text": [
      "\n",
      "\n",
      "\n",
      "\n",
      "####################################  135  ##############################################\n",
      "\n",
      "\n"
     ]
    },
    {
     "name": "stderr",
     "output_type": "stream",
     "text": [
      "  3%|▎         | 136/5000 [32:41<24:49:42, 18.38s/it]Setting `pad_token_id` to `eos_token_id`:0 for open-end generation.\n"
     ]
    },
    {
     "name": "stdout",
     "output_type": "stream",
     "text": [
      "\n",
      "\n",
      "\n",
      "\n",
      "####################################  136  ##############################################\n",
      "\n",
      "\n"
     ]
    },
    {
     "name": "stderr",
     "output_type": "stream",
     "text": [
      "  3%|▎         | 137/5000 [33:18<32:25:00, 24.00s/it]Setting `pad_token_id` to `eos_token_id`:0 for open-end generation.\n"
     ]
    },
    {
     "name": "stdout",
     "output_type": "stream",
     "text": [
      "\n",
      "\n",
      "\n",
      "\n",
      "####################################  137  ##############################################\n",
      "\n",
      "\n"
     ]
    },
    {
     "name": "stderr",
     "output_type": "stream",
     "text": [
      "  3%|▎         | 138/5000 [33:31<27:54:29, 20.66s/it]Setting `pad_token_id` to `eos_token_id`:0 for open-end generation.\n"
     ]
    },
    {
     "name": "stdout",
     "output_type": "stream",
     "text": [
      "\n",
      "\n",
      "\n",
      "\n",
      "####################################  138  ##############################################\n",
      "\n",
      "\n"
     ]
    },
    {
     "name": "stderr",
     "output_type": "stream",
     "text": [
      "  3%|▎         | 139/5000 [35:09<59:22:46, 43.98s/it]Setting `pad_token_id` to `eos_token_id`:0 for open-end generation.\n"
     ]
    },
    {
     "name": "stdout",
     "output_type": "stream",
     "text": [
      "\n",
      "\n",
      "\n",
      "\n",
      "####################################  139  ##############################################\n",
      "\n",
      "\n"
     ]
    },
    {
     "name": "stderr",
     "output_type": "stream",
     "text": [
      "  3%|▎         | 140/5000 [35:29<49:37:05, 36.75s/it]Setting `pad_token_id` to `eos_token_id`:0 for open-end generation.\n"
     ]
    },
    {
     "name": "stdout",
     "output_type": "stream",
     "text": [
      "\n",
      "\n",
      "\n",
      "\n",
      "####################################  140  ##############################################\n",
      "\n",
      "\n"
     ]
    },
    {
     "name": "stderr",
     "output_type": "stream",
     "text": [
      "  3%|▎         | 141/5000 [35:46<41:27:45, 30.72s/it]Setting `pad_token_id` to `eos_token_id`:0 for open-end generation.\n"
     ]
    },
    {
     "name": "stdout",
     "output_type": "stream",
     "text": [
      "\n",
      "\n",
      "\n",
      "\n",
      "####################################  141  ##############################################\n",
      "\n",
      "\n"
     ]
    },
    {
     "name": "stderr",
     "output_type": "stream",
     "text": [
      "  3%|▎         | 142/5000 [36:26<45:14:01, 33.52s/it]Setting `pad_token_id` to `eos_token_id`:0 for open-end generation.\n"
     ]
    },
    {
     "name": "stdout",
     "output_type": "stream",
     "text": [
      "\n",
      "\n",
      "\n",
      "\n",
      "####################################  142  ##############################################\n",
      "\n",
      "\n"
     ]
    },
    {
     "name": "stderr",
     "output_type": "stream",
     "text": [
      "  3%|▎         | 143/5000 [36:40<37:11:10, 27.56s/it]Setting `pad_token_id` to `eos_token_id`:0 for open-end generation.\n"
     ]
    },
    {
     "name": "stdout",
     "output_type": "stream",
     "text": [
      "\n",
      "\n",
      "\n",
      "\n",
      "####################################  143  ##############################################\n",
      "\n",
      "\n"
     ]
    },
    {
     "name": "stderr",
     "output_type": "stream",
     "text": [
      "  3%|▎         | 144/5000 [37:16<40:38:30, 30.13s/it]Setting `pad_token_id` to `eos_token_id`:0 for open-end generation.\n"
     ]
    },
    {
     "name": "stdout",
     "output_type": "stream",
     "text": [
      "\n",
      "\n",
      "\n",
      "\n",
      "####################################  144  ##############################################\n",
      "\n",
      "\n"
     ]
    },
    {
     "name": "stderr",
     "output_type": "stream",
     "text": [
      "  3%|▎         | 145/5000 [37:21<30:46:39, 22.82s/it]Setting `pad_token_id` to `eos_token_id`:0 for open-end generation.\n"
     ]
    },
    {
     "name": "stdout",
     "output_type": "stream",
     "text": [
      "\n",
      "\n",
      "\n",
      "\n",
      "####################################  145  ##############################################\n",
      "\n",
      "\n"
     ]
    },
    {
     "name": "stderr",
     "output_type": "stream",
     "text": [
      "  3%|▎         | 146/5000 [37:37<27:45:39, 20.59s/it]Setting `pad_token_id` to `eos_token_id`:0 for open-end generation.\n"
     ]
    },
    {
     "name": "stdout",
     "output_type": "stream",
     "text": [
      "\n",
      "\n",
      "\n",
      "\n",
      "####################################  146  ##############################################\n",
      "\n",
      "\n"
     ]
    },
    {
     "name": "stderr",
     "output_type": "stream",
     "text": [
      "  3%|▎         | 147/5000 [37:43<22:00:08, 16.32s/it]Setting `pad_token_id` to `eos_token_id`:0 for open-end generation.\n"
     ]
    },
    {
     "name": "stdout",
     "output_type": "stream",
     "text": [
      "\n",
      "\n",
      "\n",
      "\n",
      "####################################  147  ##############################################\n",
      "\n",
      "\n"
     ]
    },
    {
     "name": "stderr",
     "output_type": "stream",
     "text": [
      "  3%|▎         | 148/5000 [37:55<20:08:38, 14.95s/it]Setting `pad_token_id` to `eos_token_id`:0 for open-end generation.\n"
     ]
    },
    {
     "name": "stdout",
     "output_type": "stream",
     "text": [
      "\n",
      "\n",
      "\n",
      "\n",
      "####################################  148  ##############################################\n",
      "\n",
      "\n"
     ]
    },
    {
     "name": "stderr",
     "output_type": "stream",
     "text": [
      "  3%|▎         | 149/5000 [38:02<17:02:34, 12.65s/it]Setting `pad_token_id` to `eos_token_id`:0 for open-end generation.\n"
     ]
    },
    {
     "name": "stdout",
     "output_type": "stream",
     "text": [
      "\n",
      "\n",
      "\n",
      "\n",
      "####################################  149  ##############################################\n",
      "\n",
      "\n"
     ]
    },
    {
     "name": "stderr",
     "output_type": "stream",
     "text": [
      "  3%|▎         | 150/5000 [38:32<23:57:27, 17.78s/it]Setting `pad_token_id` to `eos_token_id`:0 for open-end generation.\n"
     ]
    },
    {
     "name": "stdout",
     "output_type": "stream",
     "text": [
      "\n",
      "\n",
      "\n",
      "\n",
      "####################################  150  ##############################################\n",
      "\n",
      "\n"
     ]
    },
    {
     "name": "stderr",
     "output_type": "stream",
     "text": [
      "  3%|▎         | 151/5000 [38:39<19:47:45, 14.70s/it]Setting `pad_token_id` to `eos_token_id`:0 for open-end generation.\n"
     ]
    },
    {
     "name": "stdout",
     "output_type": "stream",
     "text": [
      "\n",
      "\n",
      "\n",
      "\n",
      "####################################  151  ##############################################\n",
      "\n",
      "\n"
     ]
    },
    {
     "name": "stderr",
     "output_type": "stream",
     "text": [
      "  3%|▎         | 152/5000 [38:53<19:12:22, 14.26s/it]Setting `pad_token_id` to `eos_token_id`:0 for open-end generation.\n"
     ]
    },
    {
     "name": "stdout",
     "output_type": "stream",
     "text": [
      "\n",
      "\n",
      "\n",
      "\n",
      "####################################  152  ##############################################\n",
      "\n",
      "\n"
     ]
    },
    {
     "name": "stderr",
     "output_type": "stream",
     "text": [
      "  3%|▎         | 153/5000 [39:00<16:32:44, 12.29s/it]Setting `pad_token_id` to `eos_token_id`:0 for open-end generation.\n"
     ]
    },
    {
     "name": "stdout",
     "output_type": "stream",
     "text": [
      "\n",
      "\n",
      "\n",
      "\n",
      "####################################  153  ##############################################\n",
      "\n",
      "\n"
     ]
    },
    {
     "name": "stderr",
     "output_type": "stream",
     "text": [
      "  3%|▎         | 154/5000 [39:30<23:32:35, 17.49s/it]Setting `pad_token_id` to `eos_token_id`:0 for open-end generation.\n"
     ]
    },
    {
     "name": "stdout",
     "output_type": "stream",
     "text": [
      "\n",
      "\n",
      "\n",
      "\n",
      "####################################  154  ##############################################\n",
      "\n",
      "\n"
     ]
    },
    {
     "name": "stderr",
     "output_type": "stream",
     "text": [
      "  3%|▎         | 155/5000 [40:18<35:56:20, 26.70s/it]Setting `pad_token_id` to `eos_token_id`:0 for open-end generation.\n"
     ]
    },
    {
     "name": "stdout",
     "output_type": "stream",
     "text": [
      "\n",
      "\n",
      "\n",
      "\n",
      "####################################  155  ##############################################\n",
      "\n",
      "\n"
     ]
    },
    {
     "name": "stderr",
     "output_type": "stream",
     "text": [
      "  3%|▎         | 156/5000 [40:30<29:44:32, 22.10s/it]Setting `pad_token_id` to `eos_token_id`:0 for open-end generation.\n"
     ]
    },
    {
     "name": "stdout",
     "output_type": "stream",
     "text": [
      "\n",
      "\n",
      "\n",
      "\n",
      "####################################  156  ##############################################\n",
      "\n",
      "\n"
     ]
    },
    {
     "name": "stderr",
     "output_type": "stream",
     "text": [
      "  3%|▎         | 157/5000 [40:54<30:32:42, 22.71s/it]Setting `pad_token_id` to `eos_token_id`:0 for open-end generation.\n"
     ]
    },
    {
     "name": "stdout",
     "output_type": "stream",
     "text": [
      "\n",
      "\n",
      "\n",
      "\n",
      "####################################  157  ##############################################\n",
      "\n",
      "\n"
     ]
    },
    {
     "name": "stderr",
     "output_type": "stream",
     "text": [
      "  3%|▎         | 158/5000 [40:59<23:29:49, 17.47s/it]Setting `pad_token_id` to `eos_token_id`:0 for open-end generation.\n"
     ]
    },
    {
     "name": "stdout",
     "output_type": "stream",
     "text": [
      "\n",
      "\n",
      "\n",
      "\n",
      "####################################  158  ##############################################\n",
      "\n",
      "\n"
     ]
    },
    {
     "name": "stderr",
     "output_type": "stream",
     "text": [
      "  3%|▎         | 159/5000 [41:13<22:06:45, 16.44s/it]Setting `pad_token_id` to `eos_token_id`:0 for open-end generation.\n"
     ]
    },
    {
     "name": "stdout",
     "output_type": "stream",
     "text": [
      "\n",
      "\n",
      "\n",
      "\n",
      "####################################  159  ##############################################\n",
      "\n",
      "\n"
     ]
    },
    {
     "name": "stderr",
     "output_type": "stream",
     "text": [
      "  3%|▎         | 160/5000 [41:36<24:51:35, 18.49s/it]Setting `pad_token_id` to `eos_token_id`:0 for open-end generation.\n"
     ]
    },
    {
     "name": "stdout",
     "output_type": "stream",
     "text": [
      "\n",
      "\n",
      "\n",
      "\n",
      "####################################  160  ##############################################\n",
      "\n",
      "\n"
     ]
    },
    {
     "name": "stderr",
     "output_type": "stream",
     "text": [
      "  3%|▎         | 161/5000 [41:38<18:02:56, 13.43s/it]Setting `pad_token_id` to `eos_token_id`:0 for open-end generation.\n"
     ]
    },
    {
     "name": "stdout",
     "output_type": "stream",
     "text": [
      "\n",
      "\n",
      "\n",
      "\n",
      "####################################  161  ##############################################\n",
      "\n",
      "\n"
     ]
    },
    {
     "name": "stderr",
     "output_type": "stream",
     "text": [
      "  3%|▎         | 162/5000 [41:40<13:32:32, 10.08s/it]Setting `pad_token_id` to `eos_token_id`:0 for open-end generation.\n"
     ]
    },
    {
     "name": "stdout",
     "output_type": "stream",
     "text": [
      "\n",
      "\n",
      "\n",
      "\n",
      "####################################  162  ##############################################\n",
      "\n",
      "\n"
     ]
    },
    {
     "name": "stderr",
     "output_type": "stream",
     "text": [
      "  3%|▎         | 163/5000 [41:45<11:20:56,  8.45s/it]Setting `pad_token_id` to `eos_token_id`:0 for open-end generation.\n"
     ]
    },
    {
     "name": "stdout",
     "output_type": "stream",
     "text": [
      "\n",
      "\n",
      "\n",
      "\n",
      "####################################  163  ##############################################\n",
      "\n",
      "\n"
     ]
    },
    {
     "name": "stderr",
     "output_type": "stream",
     "text": [
      "  3%|▎         | 164/5000 [41:45<8:04:30,  6.01s/it] Setting `pad_token_id` to `eos_token_id`:0 for open-end generation.\n"
     ]
    },
    {
     "name": "stdout",
     "output_type": "stream",
     "text": [
      "\n",
      "\n",
      "\n",
      "\n",
      "####################################  164  ##############################################\n",
      "\n",
      "\n"
     ]
    },
    {
     "name": "stderr",
     "output_type": "stream",
     "text": [
      "  3%|▎         | 165/5000 [41:46<5:57:58,  4.44s/it]Setting `pad_token_id` to `eos_token_id`:0 for open-end generation.\n"
     ]
    },
    {
     "name": "stdout",
     "output_type": "stream",
     "text": [
      "\n",
      "\n",
      "\n",
      "\n",
      "####################################  165  ##############################################\n",
      "\n",
      "\n"
     ]
    },
    {
     "name": "stderr",
     "output_type": "stream",
     "text": [
      "  3%|▎         | 166/5000 [42:01<10:10:19,  7.58s/it]Setting `pad_token_id` to `eos_token_id`:0 for open-end generation.\n"
     ]
    },
    {
     "name": "stdout",
     "output_type": "stream",
     "text": [
      "\n",
      "\n",
      "\n",
      "\n",
      "####################################  166  ##############################################\n",
      "\n",
      "\n"
     ]
    },
    {
     "name": "stderr",
     "output_type": "stream",
     "text": [
      "  3%|▎         | 167/5000 [42:18<14:03:54, 10.48s/it]Setting `pad_token_id` to `eos_token_id`:0 for open-end generation.\n"
     ]
    },
    {
     "name": "stdout",
     "output_type": "stream",
     "text": [
      "\n",
      "\n",
      "\n",
      "\n",
      "####################################  167  ##############################################\n",
      "\n",
      "\n"
     ]
    },
    {
     "name": "stderr",
     "output_type": "stream",
     "text": [
      "  3%|▎         | 168/5000 [42:27<13:38:09, 10.16s/it]Setting `pad_token_id` to `eos_token_id`:0 for open-end generation.\n"
     ]
    },
    {
     "name": "stdout",
     "output_type": "stream",
     "text": [
      "\n",
      "\n",
      "\n",
      "\n",
      "####################################  168  ##############################################\n",
      "\n",
      "\n"
     ]
    },
    {
     "name": "stderr",
     "output_type": "stream",
     "text": [
      "  3%|▎         | 169/5000 [42:46<17:09:04, 12.78s/it]Setting `pad_token_id` to `eos_token_id`:0 for open-end generation.\n"
     ]
    },
    {
     "name": "stdout",
     "output_type": "stream",
     "text": [
      "\n",
      "\n",
      "\n",
      "\n",
      "####################################  169  ##############################################\n",
      "\n",
      "\n"
     ]
    },
    {
     "name": "stderr",
     "output_type": "stream",
     "text": [
      "  3%|▎         | 170/5000 [42:52<14:26:30, 10.76s/it]Setting `pad_token_id` to `eos_token_id`:0 for open-end generation.\n"
     ]
    },
    {
     "name": "stdout",
     "output_type": "stream",
     "text": [
      "\n",
      "\n",
      "\n",
      "\n",
      "####################################  170  ##############################################\n",
      "\n",
      "\n"
     ]
    },
    {
     "name": "stderr",
     "output_type": "stream",
     "text": [
      "  3%|▎         | 171/5000 [43:22<21:51:35, 16.30s/it]Setting `pad_token_id` to `eos_token_id`:0 for open-end generation.\n"
     ]
    },
    {
     "name": "stdout",
     "output_type": "stream",
     "text": [
      "\n",
      "\n",
      "\n",
      "\n",
      "####################################  171  ##############################################\n",
      "\n",
      "\n"
     ]
    },
    {
     "name": "stderr",
     "output_type": "stream",
     "text": [
      "  3%|▎         | 172/5000 [43:26<17:04:55, 12.74s/it]Setting `pad_token_id` to `eos_token_id`:0 for open-end generation.\n"
     ]
    },
    {
     "name": "stdout",
     "output_type": "stream",
     "text": [
      "\n",
      "\n",
      "\n",
      "\n",
      "####################################  172  ##############################################\n",
      "\n",
      "\n"
     ]
    },
    {
     "name": "stderr",
     "output_type": "stream",
     "text": [
      "  3%|▎         | 173/5000 [43:34<15:16:39, 11.39s/it]Setting `pad_token_id` to `eos_token_id`:0 for open-end generation.\n"
     ]
    },
    {
     "name": "stdout",
     "output_type": "stream",
     "text": [
      "\n",
      "\n",
      "\n",
      "\n",
      "####################################  173  ##############################################\n",
      "\n",
      "\n"
     ]
    },
    {
     "name": "stderr",
     "output_type": "stream",
     "text": [
      "  3%|▎         | 174/5000 [43:38<12:18:55,  9.19s/it]Setting `pad_token_id` to `eos_token_id`:0 for open-end generation.\n"
     ]
    },
    {
     "name": "stdout",
     "output_type": "stream",
     "text": [
      "\n",
      "\n",
      "\n",
      "\n",
      "####################################  174  ##############################################\n",
      "\n",
      "\n"
     ]
    },
    {
     "name": "stderr",
     "output_type": "stream",
     "text": [
      "  4%|▎         | 175/5000 [43:44<10:49:35,  8.08s/it]Setting `pad_token_id` to `eos_token_id`:0 for open-end generation.\n"
     ]
    },
    {
     "name": "stdout",
     "output_type": "stream",
     "text": [
      "\n",
      "\n",
      "\n",
      "\n",
      "####################################  175  ##############################################\n",
      "\n",
      "\n"
     ]
    },
    {
     "name": "stderr",
     "output_type": "stream",
     "text": [
      "  4%|▎         | 176/5000 [43:51<10:35:25,  7.90s/it]Setting `pad_token_id` to `eos_token_id`:0 for open-end generation.\n"
     ]
    },
    {
     "name": "stdout",
     "output_type": "stream",
     "text": [
      "\n",
      "\n",
      "\n",
      "\n",
      "####################################  176  ##############################################\n",
      "\n",
      "\n"
     ]
    },
    {
     "name": "stderr",
     "output_type": "stream",
     "text": [
      "  4%|▎         | 177/5000 [44:03<12:07:24,  9.05s/it]Setting `pad_token_id` to `eos_token_id`:0 for open-end generation.\n"
     ]
    },
    {
     "name": "stdout",
     "output_type": "stream",
     "text": [
      "\n",
      "\n",
      "\n",
      "\n",
      "####################################  177  ##############################################\n",
      "\n",
      "\n"
     ]
    },
    {
     "name": "stderr",
     "output_type": "stream",
     "text": [
      "  4%|▎         | 178/5000 [44:16<13:49:11, 10.32s/it]Setting `pad_token_id` to `eos_token_id`:0 for open-end generation.\n"
     ]
    },
    {
     "name": "stdout",
     "output_type": "stream",
     "text": [
      "\n",
      "\n",
      "\n",
      "\n",
      "####################################  178  ##############################################\n",
      "\n",
      "\n"
     ]
    },
    {
     "name": "stderr",
     "output_type": "stream",
     "text": [
      "  4%|▎         | 179/5000 [44:24<12:47:25,  9.55s/it]Setting `pad_token_id` to `eos_token_id`:0 for open-end generation.\n"
     ]
    },
    {
     "name": "stdout",
     "output_type": "stream",
     "text": [
      "\n",
      "\n",
      "\n",
      "\n",
      "####################################  179  ##############################################\n",
      "\n",
      "\n"
     ]
    },
    {
     "name": "stderr",
     "output_type": "stream",
     "text": [
      "  4%|▎         | 180/5000 [44:35<13:11:28,  9.85s/it]Setting `pad_token_id` to `eos_token_id`:0 for open-end generation.\n"
     ]
    },
    {
     "name": "stdout",
     "output_type": "stream",
     "text": [
      "\n",
      "\n",
      "\n",
      "\n",
      "####################################  180  ##############################################\n",
      "\n",
      "\n"
     ]
    },
    {
     "name": "stderr",
     "output_type": "stream",
     "text": [
      "  4%|▎         | 181/5000 [44:39<11:07:04,  8.31s/it]Setting `pad_token_id` to `eos_token_id`:0 for open-end generation.\n"
     ]
    },
    {
     "name": "stdout",
     "output_type": "stream",
     "text": [
      "\n",
      "\n",
      "\n",
      "\n",
      "####################################  181  ##############################################\n",
      "\n",
      "\n"
     ]
    },
    {
     "name": "stderr",
     "output_type": "stream",
     "text": [
      "  4%|▎         | 182/5000 [44:50<12:00:08,  8.97s/it]Setting `pad_token_id` to `eos_token_id`:0 for open-end generation.\n"
     ]
    },
    {
     "name": "stdout",
     "output_type": "stream",
     "text": [
      "\n",
      "\n",
      "\n",
      "\n",
      "####################################  182  ##############################################\n",
      "\n",
      "\n"
     ]
    },
    {
     "name": "stderr",
     "output_type": "stream",
     "text": [
      "  4%|▎         | 183/5000 [45:16<18:54:36, 14.13s/it]Setting `pad_token_id` to `eos_token_id`:0 for open-end generation.\n"
     ]
    },
    {
     "name": "stdout",
     "output_type": "stream",
     "text": [
      "\n",
      "\n",
      "\n",
      "\n",
      "####################################  183  ##############################################\n",
      "\n",
      "\n"
     ]
    },
    {
     "name": "stderr",
     "output_type": "stream",
     "text": [
      "  4%|▎         | 184/5000 [45:36<21:11:41, 15.84s/it]Setting `pad_token_id` to `eos_token_id`:0 for open-end generation.\n"
     ]
    },
    {
     "name": "stdout",
     "output_type": "stream",
     "text": [
      "\n",
      "\n",
      "\n",
      "\n",
      "####################################  184  ##############################################\n",
      "\n",
      "\n"
     ]
    },
    {
     "name": "stderr",
     "output_type": "stream",
     "text": [
      "  4%|▎         | 185/5000 [45:43<17:43:39, 13.25s/it]Setting `pad_token_id` to `eos_token_id`:0 for open-end generation.\n"
     ]
    },
    {
     "name": "stdout",
     "output_type": "stream",
     "text": [
      "\n",
      "\n",
      "\n",
      "\n",
      "####################################  185  ##############################################\n",
      "\n",
      "\n"
     ]
    },
    {
     "name": "stderr",
     "output_type": "stream",
     "text": [
      "  4%|▎         | 186/5000 [45:57<17:55:47, 13.41s/it]Setting `pad_token_id` to `eos_token_id`:0 for open-end generation.\n"
     ]
    },
    {
     "name": "stdout",
     "output_type": "stream",
     "text": [
      "\n",
      "\n",
      "\n",
      "\n",
      "####################################  186  ##############################################\n",
      "\n",
      "\n"
     ]
    },
    {
     "name": "stderr",
     "output_type": "stream",
     "text": [
      "  4%|▎         | 187/5000 [46:13<19:12:25, 14.37s/it]Setting `pad_token_id` to `eos_token_id`:0 for open-end generation.\n"
     ]
    },
    {
     "name": "stdout",
     "output_type": "stream",
     "text": [
      "\n",
      "\n",
      "\n",
      "\n",
      "####################################  187  ##############################################\n",
      "\n",
      "\n"
     ]
    },
    {
     "name": "stderr",
     "output_type": "stream",
     "text": [
      "  4%|▍         | 188/5000 [46:15<14:01:02, 10.49s/it]Setting `pad_token_id` to `eos_token_id`:0 for open-end generation.\n"
     ]
    },
    {
     "name": "stdout",
     "output_type": "stream",
     "text": [
      "\n",
      "\n",
      "\n",
      "\n",
      "####################################  188  ##############################################\n",
      "\n",
      "\n"
     ]
    },
    {
     "name": "stderr",
     "output_type": "stream",
     "text": [
      "  4%|▍         | 189/5000 [46:22<12:47:57,  9.58s/it]Setting `pad_token_id` to `eos_token_id`:0 for open-end generation.\n"
     ]
    },
    {
     "name": "stdout",
     "output_type": "stream",
     "text": [
      "\n",
      "\n",
      "\n",
      "\n",
      "####################################  189  ##############################################\n",
      "\n",
      "\n"
     ]
    },
    {
     "name": "stderr",
     "output_type": "stream",
     "text": [
      "  4%|▍         | 190/5000 [46:38<15:25:20, 11.54s/it]Setting `pad_token_id` to `eos_token_id`:0 for open-end generation.\n"
     ]
    },
    {
     "name": "stdout",
     "output_type": "stream",
     "text": [
      "\n",
      "\n",
      "\n",
      "\n",
      "####################################  190  ##############################################\n",
      "\n",
      "\n"
     ]
    },
    {
     "name": "stderr",
     "output_type": "stream",
     "text": [
      "  4%|▍         | 191/5000 [46:51<15:39:39, 11.72s/it]Setting `pad_token_id` to `eos_token_id`:0 for open-end generation.\n"
     ]
    },
    {
     "name": "stdout",
     "output_type": "stream",
     "text": [
      "\n",
      "\n",
      "\n",
      "\n",
      "####################################  191  ##############################################\n",
      "\n",
      "\n"
     ]
    },
    {
     "name": "stderr",
     "output_type": "stream",
     "text": [
      "  4%|▍         | 192/5000 [47:00<14:36:15, 10.93s/it]Setting `pad_token_id` to `eos_token_id`:0 for open-end generation.\n"
     ]
    },
    {
     "name": "stdout",
     "output_type": "stream",
     "text": [
      "\n",
      "\n",
      "\n",
      "\n",
      "####################################  192  ##############################################\n",
      "\n",
      "\n"
     ]
    },
    {
     "name": "stderr",
     "output_type": "stream",
     "text": [
      "  4%|▍         | 193/5000 [47:08<13:38:58, 10.22s/it]Setting `pad_token_id` to `eos_token_id`:0 for open-end generation.\n"
     ]
    },
    {
     "name": "stdout",
     "output_type": "stream",
     "text": [
      "\n",
      "\n",
      "\n",
      "\n",
      "####################################  193  ##############################################\n",
      "\n",
      "\n"
     ]
    },
    {
     "name": "stderr",
     "output_type": "stream",
     "text": [
      "  4%|▍         | 194/5000 [47:13<11:28:17,  8.59s/it]Setting `pad_token_id` to `eos_token_id`:0 for open-end generation.\n"
     ]
    },
    {
     "name": "stdout",
     "output_type": "stream",
     "text": [
      "\n",
      "\n",
      "\n",
      "\n",
      "####################################  194  ##############################################\n",
      "\n",
      "\n"
     ]
    },
    {
     "name": "stderr",
     "output_type": "stream",
     "text": [
      "  4%|▍         | 195/5000 [47:23<12:08:23,  9.10s/it]Setting `pad_token_id` to `eos_token_id`:0 for open-end generation.\n"
     ]
    },
    {
     "name": "stdout",
     "output_type": "stream",
     "text": [
      "\n",
      "\n",
      "\n",
      "\n",
      "####################################  195  ##############################################\n",
      "\n",
      "\n"
     ]
    },
    {
     "name": "stderr",
     "output_type": "stream",
     "text": [
      "  4%|▍         | 196/5000 [47:39<14:40:34, 11.00s/it]Setting `pad_token_id` to `eos_token_id`:0 for open-end generation.\n"
     ]
    },
    {
     "name": "stdout",
     "output_type": "stream",
     "text": [
      "\n",
      "\n",
      "\n",
      "\n",
      "####################################  196  ##############################################\n",
      "\n",
      "\n"
     ]
    },
    {
     "name": "stderr",
     "output_type": "stream",
     "text": [
      "  4%|▍         | 197/5000 [47:44<12:16:04,  9.20s/it]Setting `pad_token_id` to `eos_token_id`:0 for open-end generation.\n"
     ]
    },
    {
     "name": "stdout",
     "output_type": "stream",
     "text": [
      "\n",
      "\n",
      "\n",
      "\n",
      "####################################  197  ##############################################\n",
      "\n",
      "\n"
     ]
    },
    {
     "name": "stderr",
     "output_type": "stream",
     "text": [
      "  4%|▍         | 198/5000 [47:46<9:41:45,  7.27s/it] Setting `pad_token_id` to `eos_token_id`:0 for open-end generation.\n"
     ]
    },
    {
     "name": "stdout",
     "output_type": "stream",
     "text": [
      "\n",
      "\n",
      "\n",
      "\n",
      "####################################  198  ##############################################\n",
      "\n",
      "\n"
     ]
    },
    {
     "name": "stderr",
     "output_type": "stream",
     "text": [
      "  4%|▍         | 199/5000 [48:22<20:59:19, 15.74s/it]Setting `pad_token_id` to `eos_token_id`:0 for open-end generation.\n"
     ]
    },
    {
     "name": "stdout",
     "output_type": "stream",
     "text": [
      "\n",
      "\n",
      "\n",
      "\n",
      "####################################  199  ##############################################\n",
      "\n",
      "\n"
     ]
    },
    {
     "name": "stderr",
     "output_type": "stream",
     "text": [
      "  4%|▍         | 200/5000 [48:28<17:14:28, 12.93s/it]Setting `pad_token_id` to `eos_token_id`:0 for open-end generation.\n"
     ]
    },
    {
     "name": "stdout",
     "output_type": "stream",
     "text": [
      "\n",
      "\n",
      "\n",
      "\n",
      "####################################  200  ##############################################\n",
      "\n",
      "\n"
     ]
    },
    {
     "name": "stderr",
     "output_type": "stream",
     "text": [
      "  4%|▍         | 201/5000 [48:44<18:17:08, 13.72s/it]Setting `pad_token_id` to `eos_token_id`:0 for open-end generation.\n"
     ]
    },
    {
     "name": "stdout",
     "output_type": "stream",
     "text": [
      "\n",
      "\n",
      "\n",
      "\n",
      "####################################  201  ##############################################\n",
      "\n",
      "\n"
     ]
    },
    {
     "name": "stderr",
     "output_type": "stream",
     "text": [
      "  4%|▍         | 202/5000 [49:08<22:22:58, 16.79s/it]Setting `pad_token_id` to `eos_token_id`:0 for open-end generation.\n"
     ]
    },
    {
     "name": "stdout",
     "output_type": "stream",
     "text": [
      "\n",
      "\n",
      "\n",
      "\n",
      "####################################  202  ##############################################\n",
      "\n",
      "\n"
     ]
    },
    {
     "name": "stderr",
     "output_type": "stream",
     "text": [
      "  4%|▍         | 203/5000 [49:20<20:25:17, 15.33s/it]Setting `pad_token_id` to `eos_token_id`:0 for open-end generation.\n"
     ]
    },
    {
     "name": "stdout",
     "output_type": "stream",
     "text": [
      "\n",
      "\n",
      "\n",
      "\n",
      "####################################  203  ##############################################\n",
      "\n",
      "\n"
     ]
    },
    {
     "name": "stderr",
     "output_type": "stream",
     "text": [
      "  4%|▍         | 204/5000 [49:25<16:32:23, 12.42s/it]Setting `pad_token_id` to `eos_token_id`:0 for open-end generation.\n"
     ]
    },
    {
     "name": "stdout",
     "output_type": "stream",
     "text": [
      "\n",
      "\n",
      "\n",
      "\n",
      "####################################  204  ##############################################\n",
      "\n",
      "\n"
     ]
    },
    {
     "name": "stderr",
     "output_type": "stream",
     "text": [
      "  4%|▍         | 205/5000 [49:35<15:25:56, 11.59s/it]Setting `pad_token_id` to `eos_token_id`:0 for open-end generation.\n"
     ]
    },
    {
     "name": "stdout",
     "output_type": "stream",
     "text": [
      "\n",
      "\n",
      "\n",
      "\n",
      "####################################  205  ##############################################\n",
      "\n",
      "\n"
     ]
    },
    {
     "name": "stderr",
     "output_type": "stream",
     "text": [
      "  4%|▍         | 206/5000 [49:50<16:53:22, 12.68s/it]Setting `pad_token_id` to `eos_token_id`:0 for open-end generation.\n"
     ]
    },
    {
     "name": "stdout",
     "output_type": "stream",
     "text": [
      "\n",
      "\n",
      "\n",
      "\n",
      "####################################  206  ##############################################\n",
      "\n",
      "\n"
     ]
    },
    {
     "name": "stderr",
     "output_type": "stream",
     "text": [
      "  4%|▍         | 207/5000 [49:52<12:31:58,  9.41s/it]Setting `pad_token_id` to `eos_token_id`:0 for open-end generation.\n"
     ]
    },
    {
     "name": "stdout",
     "output_type": "stream",
     "text": [
      "\n",
      "\n",
      "\n",
      "\n",
      "####################################  207  ##############################################\n",
      "\n",
      "\n"
     ]
    },
    {
     "name": "stderr",
     "output_type": "stream",
     "text": [
      "  4%|▍         | 208/5000 [49:59<11:38:11,  8.74s/it]Setting `pad_token_id` to `eos_token_id`:0 for open-end generation.\n"
     ]
    },
    {
     "name": "stdout",
     "output_type": "stream",
     "text": [
      "\n",
      "\n",
      "\n",
      "\n",
      "####################################  208  ##############################################\n",
      "\n",
      "\n"
     ]
    },
    {
     "name": "stderr",
     "output_type": "stream",
     "text": [
      "  4%|▍         | 209/5000 [50:06<10:52:15,  8.17s/it]Setting `pad_token_id` to `eos_token_id`:0 for open-end generation.\n"
     ]
    },
    {
     "name": "stdout",
     "output_type": "stream",
     "text": [
      "\n",
      "\n",
      "\n",
      "\n",
      "####################################  209  ##############################################\n",
      "\n",
      "\n"
     ]
    },
    {
     "name": "stderr",
     "output_type": "stream",
     "text": [
      "  4%|▍         | 210/5000 [50:20<13:20:33, 10.03s/it]Setting `pad_token_id` to `eos_token_id`:0 for open-end generation.\n"
     ]
    },
    {
     "name": "stdout",
     "output_type": "stream",
     "text": [
      "\n",
      "\n",
      "\n",
      "\n",
      "####################################  210  ##############################################\n",
      "\n",
      "\n"
     ]
    },
    {
     "name": "stderr",
     "output_type": "stream",
     "text": [
      "  4%|▍         | 211/5000 [50:36<15:31:21, 11.67s/it]Setting `pad_token_id` to `eos_token_id`:0 for open-end generation.\n"
     ]
    },
    {
     "name": "stdout",
     "output_type": "stream",
     "text": [
      "\n",
      "\n",
      "\n",
      "\n",
      "####################################  211  ##############################################\n",
      "\n",
      "\n"
     ]
    },
    {
     "name": "stderr",
     "output_type": "stream",
     "text": [
      "  4%|▍         | 212/5000 [50:45<14:36:21, 10.98s/it]Setting `pad_token_id` to `eos_token_id`:0 for open-end generation.\n"
     ]
    },
    {
     "name": "stdout",
     "output_type": "stream",
     "text": [
      "\n",
      "\n",
      "\n",
      "\n",
      "####################################  212  ##############################################\n",
      "\n",
      "\n"
     ]
    },
    {
     "name": "stderr",
     "output_type": "stream",
     "text": [
      "  4%|▍         | 213/5000 [50:51<12:33:57,  9.45s/it]Setting `pad_token_id` to `eos_token_id`:0 for open-end generation.\n"
     ]
    },
    {
     "name": "stdout",
     "output_type": "stream",
     "text": [
      "\n",
      "\n",
      "\n",
      "\n",
      "####################################  213  ##############################################\n",
      "\n",
      "\n"
     ]
    },
    {
     "name": "stderr",
     "output_type": "stream",
     "text": [
      "  4%|▍         | 214/5000 [51:13<17:21:26, 13.06s/it]Setting `pad_token_id` to `eos_token_id`:0 for open-end generation.\n"
     ]
    },
    {
     "name": "stdout",
     "output_type": "stream",
     "text": [
      "\n",
      "\n",
      "\n",
      "\n",
      "####################################  214  ##############################################\n",
      "\n",
      "\n"
     ]
    },
    {
     "name": "stderr",
     "output_type": "stream",
     "text": [
      "  4%|▍         | 215/5000 [51:19<14:33:46, 10.96s/it]Setting `pad_token_id` to `eos_token_id`:0 for open-end generation.\n"
     ]
    },
    {
     "name": "stdout",
     "output_type": "stream",
     "text": [
      "\n",
      "\n",
      "\n",
      "\n",
      "####################################  215  ##############################################\n",
      "\n",
      "\n"
     ]
    },
    {
     "name": "stderr",
     "output_type": "stream",
     "text": [
      "  4%|▍         | 216/5000 [51:25<12:35:01,  9.47s/it]Setting `pad_token_id` to `eos_token_id`:0 for open-end generation.\n"
     ]
    },
    {
     "name": "stdout",
     "output_type": "stream",
     "text": [
      "\n",
      "\n",
      "\n",
      "\n",
      "####################################  216  ##############################################\n",
      "\n",
      "\n"
     ]
    },
    {
     "name": "stderr",
     "output_type": "stream",
     "text": [
      "  4%|▍         | 217/5000 [51:43<16:08:13, 12.15s/it]Setting `pad_token_id` to `eos_token_id`:0 for open-end generation.\n"
     ]
    },
    {
     "name": "stdout",
     "output_type": "stream",
     "text": [
      "\n",
      "\n",
      "\n",
      "\n",
      "####################################  217  ##############################################\n",
      "\n",
      "\n"
     ]
    },
    {
     "name": "stderr",
     "output_type": "stream",
     "text": [
      "  4%|▍         | 218/5000 [51:50<13:53:34, 10.46s/it]Setting `pad_token_id` to `eos_token_id`:0 for open-end generation.\n"
     ]
    },
    {
     "name": "stdout",
     "output_type": "stream",
     "text": [
      "\n",
      "\n",
      "\n",
      "\n",
      "####################################  218  ##############################################\n",
      "\n",
      "\n"
     ]
    },
    {
     "name": "stderr",
     "output_type": "stream",
     "text": [
      "  4%|▍         | 219/5000 [51:53<11:03:12,  8.32s/it]Setting `pad_token_id` to `eos_token_id`:0 for open-end generation.\n"
     ]
    },
    {
     "name": "stdout",
     "output_type": "stream",
     "text": [
      "\n",
      "\n",
      "\n",
      "\n",
      "####################################  219  ##############################################\n",
      "\n",
      "\n"
     ]
    },
    {
     "name": "stderr",
     "output_type": "stream",
     "text": [
      "  4%|▍         | 220/5000 [51:58<9:37:03,  7.24s/it] Setting `pad_token_id` to `eos_token_id`:0 for open-end generation.\n"
     ]
    },
    {
     "name": "stdout",
     "output_type": "stream",
     "text": [
      "\n",
      "\n",
      "\n",
      "\n",
      "####################################  220  ##############################################\n",
      "\n",
      "\n"
     ]
    },
    {
     "name": "stderr",
     "output_type": "stream",
     "text": [
      "  4%|▍         | 221/5000 [52:07<10:33:09,  7.95s/it]Setting `pad_token_id` to `eos_token_id`:0 for open-end generation.\n"
     ]
    },
    {
     "name": "stdout",
     "output_type": "stream",
     "text": [
      "\n",
      "\n",
      "\n",
      "\n",
      "####################################  221  ##############################################\n",
      "\n",
      "\n"
     ]
    },
    {
     "name": "stderr",
     "output_type": "stream",
     "text": [
      "  4%|▍         | 222/5000 [52:09<7:54:10,  5.95s/it] Setting `pad_token_id` to `eos_token_id`:0 for open-end generation.\n"
     ]
    },
    {
     "name": "stdout",
     "output_type": "stream",
     "text": [
      "\n",
      "\n",
      "\n",
      "\n",
      "####################################  222  ##############################################\n",
      "\n",
      "\n"
     ]
    },
    {
     "name": "stderr",
     "output_type": "stream",
     "text": [
      "  4%|▍         | 223/5000 [52:17<9:00:22,  6.79s/it]Setting `pad_token_id` to `eos_token_id`:0 for open-end generation.\n"
     ]
    },
    {
     "name": "stdout",
     "output_type": "stream",
     "text": [
      "\n",
      "\n",
      "\n",
      "\n",
      "####################################  223  ##############################################\n",
      "\n",
      "\n"
     ]
    },
    {
     "name": "stderr",
     "output_type": "stream",
     "text": [
      "  4%|▍         | 224/5000 [52:18<6:41:35,  5.05s/it]Setting `pad_token_id` to `eos_token_id`:0 for open-end generation.\n"
     ]
    },
    {
     "name": "stdout",
     "output_type": "stream",
     "text": [
      "\n",
      "\n",
      "\n",
      "\n",
      "####################################  224  ##############################################\n",
      "\n",
      "\n"
     ]
    },
    {
     "name": "stderr",
     "output_type": "stream",
     "text": [
      "  4%|▍         | 225/5000 [52:28<8:43:25,  6.58s/it]Setting `pad_token_id` to `eos_token_id`:0 for open-end generation.\n"
     ]
    },
    {
     "name": "stdout",
     "output_type": "stream",
     "text": [
      "\n",
      "\n",
      "\n",
      "\n",
      "####################################  225  ##############################################\n",
      "\n",
      "\n"
     ]
    },
    {
     "name": "stderr",
     "output_type": "stream",
     "text": [
      "  5%|▍         | 226/5000 [52:43<11:56:32,  9.01s/it]Setting `pad_token_id` to `eos_token_id`:0 for open-end generation.\n"
     ]
    },
    {
     "name": "stdout",
     "output_type": "stream",
     "text": [
      "\n",
      "\n",
      "\n",
      "\n",
      "####################################  226  ##############################################\n",
      "\n",
      "\n"
     ]
    },
    {
     "name": "stderr",
     "output_type": "stream",
     "text": [
      "  5%|▍         | 227/5000 [52:44<8:33:54,  6.46s/it] Setting `pad_token_id` to `eos_token_id`:0 for open-end generation.\n"
     ]
    },
    {
     "name": "stdout",
     "output_type": "stream",
     "text": [
      "\n",
      "\n",
      "\n",
      "\n",
      "####################################  227  ##############################################\n",
      "\n",
      "\n"
     ]
    },
    {
     "name": "stderr",
     "output_type": "stream",
     "text": [
      "  5%|▍         | 228/5000 [52:45<6:28:48,  4.89s/it]Setting `pad_token_id` to `eos_token_id`:0 for open-end generation.\n"
     ]
    },
    {
     "name": "stdout",
     "output_type": "stream",
     "text": [
      "\n",
      "\n",
      "\n",
      "\n",
      "####################################  228  ##############################################\n",
      "\n",
      "\n"
     ]
    },
    {
     "name": "stderr",
     "output_type": "stream",
     "text": [
      "  5%|▍         | 229/5000 [52:59<10:11:20,  7.69s/it]Setting `pad_token_id` to `eos_token_id`:0 for open-end generation.\n"
     ]
    },
    {
     "name": "stdout",
     "output_type": "stream",
     "text": [
      "\n",
      "\n",
      "\n",
      "\n",
      "####################################  229  ##############################################\n",
      "\n",
      "\n"
     ]
    },
    {
     "name": "stderr",
     "output_type": "stream",
     "text": [
      "  5%|▍         | 230/5000 [53:51<27:44:01, 20.93s/it]Setting `pad_token_id` to `eos_token_id`:0 for open-end generation.\n"
     ]
    },
    {
     "name": "stdout",
     "output_type": "stream",
     "text": [
      "\n",
      "\n",
      "\n",
      "\n",
      "####################################  230  ##############################################\n",
      "\n",
      "\n"
     ]
    },
    {
     "name": "stderr",
     "output_type": "stream",
     "text": [
      "  5%|▍         | 231/5000 [54:00<22:54:15, 17.29s/it]Setting `pad_token_id` to `eos_token_id`:0 for open-end generation.\n"
     ]
    },
    {
     "name": "stdout",
     "output_type": "stream",
     "text": [
      "\n",
      "\n",
      "\n",
      "\n",
      "####################################  231  ##############################################\n",
      "\n",
      "\n"
     ]
    },
    {
     "name": "stderr",
     "output_type": "stream",
     "text": [
      "  5%|▍         | 232/5000 [54:15<22:11:47, 16.76s/it]Setting `pad_token_id` to `eos_token_id`:0 for open-end generation.\n"
     ]
    },
    {
     "name": "stdout",
     "output_type": "stream",
     "text": [
      "\n",
      "\n",
      "\n",
      "\n",
      "####################################  232  ##############################################\n",
      "\n",
      "\n"
     ]
    },
    {
     "name": "stderr",
     "output_type": "stream",
     "text": [
      "  5%|▍         | 233/5000 [55:11<37:40:28, 28.45s/it]Setting `pad_token_id` to `eos_token_id`:0 for open-end generation.\n"
     ]
    },
    {
     "name": "stdout",
     "output_type": "stream",
     "text": [
      "\n",
      "\n",
      "\n",
      "\n",
      "####################################  233  ##############################################\n",
      "\n",
      "\n"
     ]
    },
    {
     "name": "stderr",
     "output_type": "stream",
     "text": [
      "  5%|▍         | 234/5000 [55:46<40:17:21, 30.43s/it]Setting `pad_token_id` to `eos_token_id`:0 for open-end generation.\n"
     ]
    },
    {
     "name": "stdout",
     "output_type": "stream",
     "text": [
      "\n",
      "\n",
      "\n",
      "\n",
      "####################################  234  ##############################################\n",
      "\n",
      "\n"
     ]
    },
    {
     "name": "stderr",
     "output_type": "stream",
     "text": [
      "  5%|▍         | 235/5000 [56:03<34:45:02, 26.25s/it]Setting `pad_token_id` to `eos_token_id`:0 for open-end generation.\n"
     ]
    },
    {
     "name": "stdout",
     "output_type": "stream",
     "text": [
      "\n",
      "\n",
      "\n",
      "\n",
      "####################################  235  ##############################################\n",
      "\n",
      "\n"
     ]
    },
    {
     "name": "stderr",
     "output_type": "stream",
     "text": [
      "  5%|▍         | 236/5000 [56:16<29:45:29, 22.49s/it]Setting `pad_token_id` to `eos_token_id`:0 for open-end generation.\n"
     ]
    },
    {
     "name": "stdout",
     "output_type": "stream",
     "text": [
      "\n",
      "\n",
      "\n",
      "\n",
      "####################################  236  ##############################################\n",
      "\n",
      "\n"
     ]
    },
    {
     "name": "stderr",
     "output_type": "stream",
     "text": [
      "  5%|▍         | 237/5000 [56:41<30:29:15, 23.04s/it]Setting `pad_token_id` to `eos_token_id`:0 for open-end generation.\n"
     ]
    },
    {
     "name": "stdout",
     "output_type": "stream",
     "text": [
      "\n",
      "\n",
      "\n",
      "\n",
      "####################################  237  ##############################################\n",
      "\n",
      "\n"
     ]
    },
    {
     "name": "stderr",
     "output_type": "stream",
     "text": [
      "  5%|▍         | 238/5000 [57:00<29:06:11, 22.00s/it]Setting `pad_token_id` to `eos_token_id`:0 for open-end generation.\n"
     ]
    },
    {
     "name": "stdout",
     "output_type": "stream",
     "text": [
      "\n",
      "\n",
      "\n",
      "\n",
      "####################################  238  ##############################################\n",
      "\n",
      "\n"
     ]
    },
    {
     "name": "stderr",
     "output_type": "stream",
     "text": [
      "  5%|▍         | 239/5000 [57:21<28:43:22, 21.72s/it]Setting `pad_token_id` to `eos_token_id`:0 for open-end generation.\n"
     ]
    },
    {
     "name": "stdout",
     "output_type": "stream",
     "text": [
      "\n",
      "\n",
      "\n",
      "\n",
      "####################################  239  ##############################################\n",
      "\n",
      "\n"
     ]
    },
    {
     "name": "stderr",
     "output_type": "stream",
     "text": [
      "  5%|▍         | 240/5000 [57:31<24:00:07, 18.15s/it]Setting `pad_token_id` to `eos_token_id`:0 for open-end generation.\n"
     ]
    },
    {
     "name": "stdout",
     "output_type": "stream",
     "text": [
      "\n",
      "\n",
      "\n",
      "\n",
      "####################################  240  ##############################################\n",
      "\n",
      "\n"
     ]
    },
    {
     "name": "stderr",
     "output_type": "stream",
     "text": [
      "  5%|▍         | 241/5000 [57:34<18:06:04, 13.69s/it]Setting `pad_token_id` to `eos_token_id`:0 for open-end generation.\n"
     ]
    },
    {
     "name": "stdout",
     "output_type": "stream",
     "text": [
      "\n",
      "\n",
      "\n",
      "\n",
      "####################################  241  ##############################################\n",
      "\n",
      "\n"
     ]
    },
    {
     "name": "stderr",
     "output_type": "stream",
     "text": [
      "  5%|▍         | 242/5000 [57:44<16:18:41, 12.34s/it]Setting `pad_token_id` to `eos_token_id`:0 for open-end generation.\n"
     ]
    },
    {
     "name": "stdout",
     "output_type": "stream",
     "text": [
      "\n",
      "\n",
      "\n",
      "\n",
      "####################################  242  ##############################################\n",
      "\n",
      "\n"
     ]
    },
    {
     "name": "stderr",
     "output_type": "stream",
     "text": [
      "  5%|▍         | 243/5000 [57:52<14:38:05, 11.08s/it]Setting `pad_token_id` to `eos_token_id`:0 for open-end generation.\n"
     ]
    },
    {
     "name": "stdout",
     "output_type": "stream",
     "text": [
      "\n",
      "\n",
      "\n",
      "\n",
      "####################################  243  ##############################################\n",
      "\n",
      "\n"
     ]
    },
    {
     "name": "stderr",
     "output_type": "stream",
     "text": [
      "  5%|▍         | 244/5000 [58:04<14:58:37, 11.34s/it]Setting `pad_token_id` to `eos_token_id`:0 for open-end generation.\n"
     ]
    },
    {
     "name": "stdout",
     "output_type": "stream",
     "text": [
      "\n",
      "\n",
      "\n",
      "\n",
      "####################################  244  ##############################################\n",
      "\n",
      "\n"
     ]
    },
    {
     "name": "stderr",
     "output_type": "stream",
     "text": [
      "  5%|▍         | 245/5000 [58:22<17:53:47, 13.55s/it]Setting `pad_token_id` to `eos_token_id`:0 for open-end generation.\n"
     ]
    },
    {
     "name": "stdout",
     "output_type": "stream",
     "text": [
      "\n",
      "\n",
      "\n",
      "\n",
      "####################################  245  ##############################################\n",
      "\n",
      "\n"
     ]
    },
    {
     "name": "stderr",
     "output_type": "stream",
     "text": [
      "  5%|▍         | 246/5000 [58:46<22:05:00, 16.72s/it]Setting `pad_token_id` to `eos_token_id`:0 for open-end generation.\n"
     ]
    },
    {
     "name": "stdout",
     "output_type": "stream",
     "text": [
      "\n",
      "\n",
      "\n",
      "\n",
      "####################################  246  ##############################################\n",
      "\n",
      "\n"
     ]
    },
    {
     "name": "stderr",
     "output_type": "stream",
     "text": [
      "  5%|▍         | 247/5000 [59:07<23:41:47, 17.95s/it]Setting `pad_token_id` to `eos_token_id`:0 for open-end generation.\n"
     ]
    },
    {
     "name": "stdout",
     "output_type": "stream",
     "text": [
      "\n",
      "\n",
      "\n",
      "\n",
      "####################################  247  ##############################################\n",
      "\n",
      "\n"
     ]
    },
    {
     "name": "stderr",
     "output_type": "stream",
     "text": [
      "  5%|▍         | 248/5000 [59:19<21:18:25, 16.14s/it]Setting `pad_token_id` to `eos_token_id`:0 for open-end generation.\n"
     ]
    },
    {
     "name": "stdout",
     "output_type": "stream",
     "text": [
      "\n",
      "\n",
      "\n",
      "\n",
      "####################################  248  ##############################################\n",
      "\n",
      "\n"
     ]
    },
    {
     "name": "stderr",
     "output_type": "stream",
     "text": [
      "  5%|▍         | 249/5000 [59:22<15:57:51, 12.10s/it]Setting `pad_token_id` to `eos_token_id`:0 for open-end generation.\n"
     ]
    },
    {
     "name": "stdout",
     "output_type": "stream",
     "text": [
      "\n",
      "\n",
      "\n",
      "\n",
      "####################################  249  ##############################################\n",
      "\n",
      "\n"
     ]
    },
    {
     "name": "stderr",
     "output_type": "stream",
     "text": [
      "  5%|▌         | 250/5000 [59:39<18:01:03, 13.66s/it]Setting `pad_token_id` to `eos_token_id`:0 for open-end generation.\n"
     ]
    },
    {
     "name": "stdout",
     "output_type": "stream",
     "text": [
      "\n",
      "\n",
      "\n",
      "\n",
      "####################################  250  ##############################################\n",
      "\n",
      "\n"
     ]
    },
    {
     "name": "stderr",
     "output_type": "stream",
     "text": [
      "  5%|▌         | 251/5000 [59:47<15:36:00, 11.83s/it]Setting `pad_token_id` to `eos_token_id`:0 for open-end generation.\n"
     ]
    },
    {
     "name": "stdout",
     "output_type": "stream",
     "text": [
      "\n",
      "\n",
      "\n",
      "\n",
      "####################################  251  ##############################################\n",
      "\n",
      "\n"
     ]
    },
    {
     "name": "stderr",
     "output_type": "stream",
     "text": [
      "  5%|▌         | 252/5000 [59:51<12:41:27,  9.62s/it]Setting `pad_token_id` to `eos_token_id`:0 for open-end generation.\n"
     ]
    },
    {
     "name": "stdout",
     "output_type": "stream",
     "text": [
      "\n",
      "\n",
      "\n",
      "\n",
      "####################################  252  ##############################################\n",
      "\n",
      "\n"
     ]
    },
    {
     "name": "stderr",
     "output_type": "stream",
     "text": [
      "  5%|▌         | 253/5000 [1:00:03<13:22:59, 10.15s/it]Setting `pad_token_id` to `eos_token_id`:0 for open-end generation.\n"
     ]
    },
    {
     "name": "stdout",
     "output_type": "stream",
     "text": [
      "\n",
      "\n",
      "\n",
      "\n",
      "####################################  253  ##############################################\n",
      "\n",
      "\n"
     ]
    },
    {
     "name": "stderr",
     "output_type": "stream",
     "text": [
      "  5%|▌         | 254/5000 [1:00:09<11:52:40,  9.01s/it]Setting `pad_token_id` to `eos_token_id`:0 for open-end generation.\n"
     ]
    },
    {
     "name": "stdout",
     "output_type": "stream",
     "text": [
      "\n",
      "\n",
      "\n",
      "\n",
      "####################################  254  ##############################################\n",
      "\n",
      "\n"
     ]
    },
    {
     "name": "stderr",
     "output_type": "stream",
     "text": [
      "  5%|▌         | 255/5000 [1:00:19<12:08:20,  9.21s/it]Setting `pad_token_id` to `eos_token_id`:0 for open-end generation.\n"
     ]
    },
    {
     "name": "stdout",
     "output_type": "stream",
     "text": [
      "\n",
      "\n",
      "\n",
      "\n",
      "####################################  255  ##############################################\n",
      "\n",
      "\n"
     ]
    },
    {
     "name": "stderr",
     "output_type": "stream",
     "text": [
      "  5%|▌         | 256/5000 [1:00:38<15:59:45, 12.14s/it]Setting `pad_token_id` to `eos_token_id`:0 for open-end generation.\n"
     ]
    },
    {
     "name": "stdout",
     "output_type": "stream",
     "text": [
      "\n",
      "\n",
      "\n",
      "\n",
      "####################################  256  ##############################################\n",
      "\n",
      "\n"
     ]
    },
    {
     "name": "stderr",
     "output_type": "stream",
     "text": [
      "  5%|▌         | 257/5000 [1:00:45<14:04:54, 10.69s/it]Setting `pad_token_id` to `eos_token_id`:0 for open-end generation.\n"
     ]
    },
    {
     "name": "stdout",
     "output_type": "stream",
     "text": [
      "\n",
      "\n",
      "\n",
      "\n",
      "####################################  257  ##############################################\n",
      "\n",
      "\n"
     ]
    },
    {
     "name": "stderr",
     "output_type": "stream",
     "text": [
      "  5%|▌         | 258/5000 [1:00:57<14:32:44, 11.04s/it]Setting `pad_token_id` to `eos_token_id`:0 for open-end generation.\n"
     ]
    },
    {
     "name": "stdout",
     "output_type": "stream",
     "text": [
      "\n",
      "\n",
      "\n",
      "\n",
      "####################################  258  ##############################################\n",
      "\n",
      "\n"
     ]
    },
    {
     "name": "stderr",
     "output_type": "stream",
     "text": [
      "  5%|▌         | 259/5000 [1:01:18<18:27:56, 14.02s/it]Setting `pad_token_id` to `eos_token_id`:0 for open-end generation.\n"
     ]
    },
    {
     "name": "stdout",
     "output_type": "stream",
     "text": [
      "\n",
      "\n",
      "\n",
      "\n",
      "####################################  259  ##############################################\n",
      "\n",
      "\n"
     ]
    },
    {
     "name": "stderr",
     "output_type": "stream",
     "text": [
      "  5%|▌         | 260/5000 [1:01:26<16:04:16, 12.21s/it]Setting `pad_token_id` to `eos_token_id`:0 for open-end generation.\n"
     ]
    },
    {
     "name": "stdout",
     "output_type": "stream",
     "text": [
      "\n",
      "\n",
      "\n",
      "\n",
      "####################################  260  ##############################################\n",
      "\n",
      "\n"
     ]
    },
    {
     "name": "stderr",
     "output_type": "stream",
     "text": [
      "  5%|▌         | 261/5000 [1:01:46<19:18:58, 14.67s/it]Setting `pad_token_id` to `eos_token_id`:0 for open-end generation.\n"
     ]
    },
    {
     "name": "stdout",
     "output_type": "stream",
     "text": [
      "\n",
      "\n",
      "\n",
      "\n",
      "####################################  261  ##############################################\n",
      "\n",
      "\n"
     ]
    },
    {
     "name": "stderr",
     "output_type": "stream",
     "text": [
      "  5%|▌         | 262/5000 [1:01:49<14:47:24, 11.24s/it]Setting `pad_token_id` to `eos_token_id`:0 for open-end generation.\n"
     ]
    },
    {
     "name": "stdout",
     "output_type": "stream",
     "text": [
      "\n",
      "\n",
      "\n",
      "\n",
      "####################################  262  ##############################################\n",
      "\n",
      "\n"
     ]
    },
    {
     "name": "stderr",
     "output_type": "stream",
     "text": [
      "  5%|▌         | 263/5000 [1:01:56<12:54:12,  9.81s/it]Setting `pad_token_id` to `eos_token_id`:0 for open-end generation.\n"
     ]
    },
    {
     "name": "stdout",
     "output_type": "stream",
     "text": [
      "\n",
      "\n",
      "\n",
      "\n",
      "####################################  263  ##############################################\n",
      "\n",
      "\n"
     ]
    },
    {
     "name": "stderr",
     "output_type": "stream",
     "text": [
      "  5%|▌         | 264/5000 [1:01:59<10:14:38,  7.79s/it]Setting `pad_token_id` to `eos_token_id`:0 for open-end generation.\n"
     ]
    },
    {
     "name": "stdout",
     "output_type": "stream",
     "text": [
      "\n",
      "\n",
      "\n",
      "\n",
      "####################################  264  ##############################################\n",
      "\n",
      "\n"
     ]
    },
    {
     "name": "stderr",
     "output_type": "stream",
     "text": [
      "  5%|▌         | 265/5000 [1:02:18<14:40:54, 11.16s/it]Setting `pad_token_id` to `eos_token_id`:0 for open-end generation.\n"
     ]
    },
    {
     "name": "stdout",
     "output_type": "stream",
     "text": [
      "\n",
      "\n",
      "\n",
      "\n",
      "####################################  265  ##############################################\n",
      "\n",
      "\n"
     ]
    },
    {
     "name": "stderr",
     "output_type": "stream",
     "text": [
      "  5%|▌         | 266/5000 [1:02:19<10:40:46,  8.12s/it]Setting `pad_token_id` to `eos_token_id`:0 for open-end generation.\n"
     ]
    },
    {
     "name": "stdout",
     "output_type": "stream",
     "text": [
      "\n",
      "\n",
      "\n",
      "\n",
      "####################################  266  ##############################################\n",
      "\n",
      "\n"
     ]
    },
    {
     "name": "stderr",
     "output_type": "stream",
     "text": [
      "  5%|▌         | 267/5000 [1:02:49<19:11:31, 14.60s/it]Setting `pad_token_id` to `eos_token_id`:0 for open-end generation.\n"
     ]
    },
    {
     "name": "stdout",
     "output_type": "stream",
     "text": [
      "\n",
      "\n",
      "\n",
      "\n",
      "####################################  267  ##############################################\n",
      "\n",
      "\n"
     ]
    },
    {
     "name": "stderr",
     "output_type": "stream",
     "text": [
      "  5%|▌         | 268/5000 [1:02:59<17:28:28, 13.29s/it]Setting `pad_token_id` to `eos_token_id`:0 for open-end generation.\n"
     ]
    },
    {
     "name": "stdout",
     "output_type": "stream",
     "text": [
      "\n",
      "\n",
      "\n",
      "\n",
      "####################################  268  ##############################################\n",
      "\n",
      "\n"
     ]
    },
    {
     "name": "stderr",
     "output_type": "stream",
     "text": [
      "  5%|▌         | 269/5000 [1:03:03<13:42:54, 10.44s/it]Setting `pad_token_id` to `eos_token_id`:0 for open-end generation.\n"
     ]
    },
    {
     "name": "stdout",
     "output_type": "stream",
     "text": [
      "\n",
      "\n",
      "\n",
      "\n",
      "####################################  269  ##############################################\n",
      "\n",
      "\n"
     ]
    },
    {
     "name": "stderr",
     "output_type": "stream",
     "text": [
      "  5%|▌         | 270/5000 [1:03:23<17:33:28, 13.36s/it]Setting `pad_token_id` to `eos_token_id`:0 for open-end generation.\n"
     ]
    },
    {
     "name": "stdout",
     "output_type": "stream",
     "text": [
      "\n",
      "\n",
      "\n",
      "\n",
      "####################################  270  ##############################################\n",
      "\n",
      "\n"
     ]
    },
    {
     "name": "stderr",
     "output_type": "stream",
     "text": [
      "  5%|▌         | 271/5000 [1:03:51<23:29:54, 17.89s/it]Setting `pad_token_id` to `eos_token_id`:0 for open-end generation.\n"
     ]
    },
    {
     "name": "stdout",
     "output_type": "stream",
     "text": [
      "\n",
      "\n",
      "\n",
      "\n",
      "####################################  271  ##############################################\n",
      "\n",
      "\n"
     ]
    },
    {
     "name": "stderr",
     "output_type": "stream",
     "text": [
      "  5%|▌         | 272/5000 [1:04:12<24:37:40, 18.75s/it]Setting `pad_token_id` to `eos_token_id`:0 for open-end generation.\n"
     ]
    },
    {
     "name": "stdout",
     "output_type": "stream",
     "text": [
      "\n",
      "\n",
      "\n",
      "\n",
      "####################################  272  ##############################################\n",
      "\n",
      "\n"
     ]
    },
    {
     "name": "stderr",
     "output_type": "stream",
     "text": [
      "  5%|▌         | 273/5000 [1:04:29<23:56:39, 18.24s/it]Setting `pad_token_id` to `eos_token_id`:0 for open-end generation.\n"
     ]
    },
    {
     "name": "stdout",
     "output_type": "stream",
     "text": [
      "\n",
      "\n",
      "\n",
      "\n",
      "####################################  273  ##############################################\n",
      "\n",
      "\n"
     ]
    },
    {
     "name": "stderr",
     "output_type": "stream",
     "text": [
      "  5%|▌         | 274/5000 [1:04:33<18:18:42, 13.95s/it]Setting `pad_token_id` to `eos_token_id`:0 for open-end generation.\n"
     ]
    },
    {
     "name": "stdout",
     "output_type": "stream",
     "text": [
      "\n",
      "\n",
      "\n",
      "\n",
      "####################################  274  ##############################################\n",
      "\n",
      "\n"
     ]
    },
    {
     "name": "stderr",
     "output_type": "stream",
     "text": [
      "  6%|▌         | 275/5000 [1:04:42<16:28:57, 12.56s/it]Setting `pad_token_id` to `eos_token_id`:0 for open-end generation.\n"
     ]
    },
    {
     "name": "stdout",
     "output_type": "stream",
     "text": [
      "\n",
      "\n",
      "\n",
      "\n",
      "####################################  275  ##############################################\n",
      "\n",
      "\n"
     ]
    },
    {
     "name": "stderr",
     "output_type": "stream",
     "text": [
      "  6%|▌         | 276/5000 [1:04:44<11:59:42,  9.14s/it]Setting `pad_token_id` to `eos_token_id`:0 for open-end generation.\n"
     ]
    },
    {
     "name": "stdout",
     "output_type": "stream",
     "text": [
      "\n",
      "\n",
      "\n",
      "\n",
      "####################################  276  ##############################################\n",
      "\n",
      "\n"
     ]
    },
    {
     "name": "stderr",
     "output_type": "stream",
     "text": [
      "  6%|▌         | 277/5000 [1:05:00<14:53:13, 11.35s/it]Setting `pad_token_id` to `eos_token_id`:0 for open-end generation.\n"
     ]
    },
    {
     "name": "stdout",
     "output_type": "stream",
     "text": [
      "\n",
      "\n",
      "\n",
      "\n",
      "####################################  277  ##############################################\n",
      "\n",
      "\n"
     ]
    },
    {
     "name": "stderr",
     "output_type": "stream",
     "text": [
      "  6%|▌         | 278/5000 [1:05:20<18:16:38, 13.93s/it]Setting `pad_token_id` to `eos_token_id`:0 for open-end generation.\n"
     ]
    },
    {
     "name": "stdout",
     "output_type": "stream",
     "text": [
      "\n",
      "\n",
      "\n",
      "\n",
      "####################################  278  ##############################################\n",
      "\n",
      "\n"
     ]
    },
    {
     "name": "stderr",
     "output_type": "stream",
     "text": [
      "  6%|▌         | 279/5000 [1:05:24<14:17:23, 10.90s/it]Setting `pad_token_id` to `eos_token_id`:0 for open-end generation.\n"
     ]
    },
    {
     "name": "stdout",
     "output_type": "stream",
     "text": [
      "\n",
      "\n",
      "\n",
      "\n",
      "####################################  279  ##############################################\n",
      "\n",
      "\n"
     ]
    },
    {
     "name": "stderr",
     "output_type": "stream",
     "text": [
      "  6%|▌         | 280/5000 [1:05:43<17:27:20, 13.31s/it]Setting `pad_token_id` to `eos_token_id`:0 for open-end generation.\n"
     ]
    },
    {
     "name": "stdout",
     "output_type": "stream",
     "text": [
      "\n",
      "\n",
      "\n",
      "\n",
      "####################################  280  ##############################################\n",
      "\n",
      "\n"
     ]
    },
    {
     "name": "stderr",
     "output_type": "stream",
     "text": [
      "  6%|▌         | 281/5000 [1:05:47<13:58:03, 10.66s/it]Setting `pad_token_id` to `eos_token_id`:0 for open-end generation.\n"
     ]
    },
    {
     "name": "stdout",
     "output_type": "stream",
     "text": [
      "\n",
      "\n",
      "\n",
      "\n",
      "####################################  281  ##############################################\n",
      "\n",
      "\n"
     ]
    },
    {
     "name": "stderr",
     "output_type": "stream",
     "text": [
      "  6%|▌         | 282/5000 [1:05:54<12:32:29,  9.57s/it]Setting `pad_token_id` to `eos_token_id`:0 for open-end generation.\n"
     ]
    },
    {
     "name": "stdout",
     "output_type": "stream",
     "text": [
      "\n",
      "\n",
      "\n",
      "\n",
      "####################################  282  ##############################################\n",
      "\n",
      "\n"
     ]
    },
    {
     "name": "stderr",
     "output_type": "stream",
     "text": [
      "  6%|▌         | 283/5000 [1:05:55<9:01:24,  6.89s/it] Setting `pad_token_id` to `eos_token_id`:0 for open-end generation.\n"
     ]
    },
    {
     "name": "stdout",
     "output_type": "stream",
     "text": [
      "\n",
      "\n",
      "\n",
      "\n",
      "####################################  283  ##############################################\n",
      "\n",
      "\n"
     ]
    },
    {
     "name": "stderr",
     "output_type": "stream",
     "text": [
      "  6%|▌         | 284/5000 [1:06:42<24:43:34, 18.87s/it]Setting `pad_token_id` to `eos_token_id`:0 for open-end generation.\n"
     ]
    },
    {
     "name": "stdout",
     "output_type": "stream",
     "text": [
      "\n",
      "\n",
      "\n",
      "\n",
      "####################################  284  ##############################################\n",
      "\n",
      "\n"
     ]
    },
    {
     "name": "stderr",
     "output_type": "stream",
     "text": [
      "  6%|▌         | 285/5000 [1:06:50<20:30:01, 15.65s/it]Setting `pad_token_id` to `eos_token_id`:0 for open-end generation.\n"
     ]
    },
    {
     "name": "stdout",
     "output_type": "stream",
     "text": [
      "\n",
      "\n",
      "\n",
      "\n",
      "####################################  285  ##############################################\n",
      "\n",
      "\n"
     ]
    },
    {
     "name": "stderr",
     "output_type": "stream",
     "text": [
      "  6%|▌         | 286/5000 [1:06:59<17:45:19, 13.56s/it]Setting `pad_token_id` to `eos_token_id`:0 for open-end generation.\n"
     ]
    },
    {
     "name": "stdout",
     "output_type": "stream",
     "text": [
      "\n",
      "\n",
      "\n",
      "\n",
      "####################################  286  ##############################################\n",
      "\n",
      "\n"
     ]
    },
    {
     "name": "stderr",
     "output_type": "stream",
     "text": [
      "  6%|▌         | 287/5000 [1:07:15<18:55:58, 14.46s/it]Setting `pad_token_id` to `eos_token_id`:0 for open-end generation.\n"
     ]
    },
    {
     "name": "stdout",
     "output_type": "stream",
     "text": [
      "\n",
      "\n",
      "\n",
      "\n",
      "####################################  287  ##############################################\n",
      "\n",
      "\n"
     ]
    },
    {
     "name": "stderr",
     "output_type": "stream",
     "text": [
      "  6%|▌         | 288/5000 [1:07:25<17:08:00, 13.09s/it]Setting `pad_token_id` to `eos_token_id`:0 for open-end generation.\n"
     ]
    },
    {
     "name": "stdout",
     "output_type": "stream",
     "text": [
      "\n",
      "\n",
      "\n",
      "\n",
      "####################################  288  ##############################################\n",
      "\n",
      "\n"
     ]
    },
    {
     "name": "stderr",
     "output_type": "stream",
     "text": [
      "  6%|▌         | 289/5000 [1:07:44<19:38:59, 15.02s/it]Setting `pad_token_id` to `eos_token_id`:0 for open-end generation.\n"
     ]
    },
    {
     "name": "stdout",
     "output_type": "stream",
     "text": [
      "\n",
      "\n",
      "\n",
      "\n",
      "####################################  289  ##############################################\n",
      "\n",
      "\n"
     ]
    },
    {
     "name": "stderr",
     "output_type": "stream",
     "text": [
      "  6%|▌         | 290/5000 [1:07:52<16:45:46, 12.81s/it]Setting `pad_token_id` to `eos_token_id`:0 for open-end generation.\n"
     ]
    },
    {
     "name": "stdout",
     "output_type": "stream",
     "text": [
      "\n",
      "\n",
      "\n",
      "\n",
      "####################################  290  ##############################################\n",
      "\n",
      "\n"
     ]
    },
    {
     "name": "stderr",
     "output_type": "stream",
     "text": [
      "  6%|▌         | 291/5000 [1:08:21<23:01:24, 17.60s/it]Setting `pad_token_id` to `eos_token_id`:0 for open-end generation.\n"
     ]
    },
    {
     "name": "stdout",
     "output_type": "stream",
     "text": [
      "\n",
      "\n",
      "\n",
      "\n",
      "####################################  291  ##############################################\n",
      "\n",
      "\n"
     ]
    },
    {
     "name": "stderr",
     "output_type": "stream",
     "text": [
      "  6%|▌         | 292/5000 [1:08:26<17:56:29, 13.72s/it]Setting `pad_token_id` to `eos_token_id`:0 for open-end generation.\n"
     ]
    },
    {
     "name": "stdout",
     "output_type": "stream",
     "text": [
      "\n",
      "\n",
      "\n",
      "\n",
      "####################################  292  ##############################################\n",
      "\n",
      "\n"
     ]
    },
    {
     "name": "stderr",
     "output_type": "stream",
     "text": [
      "  6%|▌         | 293/5000 [1:08:26<12:45:41,  9.76s/it]Setting `pad_token_id` to `eos_token_id`:0 for open-end generation.\n"
     ]
    },
    {
     "name": "stdout",
     "output_type": "stream",
     "text": [
      "\n",
      "\n",
      "\n",
      "\n",
      "####################################  293  ##############################################\n",
      "\n",
      "\n"
     ]
    },
    {
     "name": "stderr",
     "output_type": "stream",
     "text": [
      "  6%|▌         | 294/5000 [1:08:48<17:29:39, 13.38s/it]Setting `pad_token_id` to `eos_token_id`:0 for open-end generation.\n"
     ]
    },
    {
     "name": "stdout",
     "output_type": "stream",
     "text": [
      "\n",
      "\n",
      "\n",
      "\n",
      "####################################  294  ##############################################\n",
      "\n",
      "\n"
     ]
    },
    {
     "name": "stderr",
     "output_type": "stream",
     "text": [
      "  6%|▌         | 295/5000 [1:09:10<20:54:56, 16.00s/it]Setting `pad_token_id` to `eos_token_id`:0 for open-end generation.\n"
     ]
    },
    {
     "name": "stdout",
     "output_type": "stream",
     "text": [
      "\n",
      "\n",
      "\n",
      "\n",
      "####################################  295  ##############################################\n",
      "\n",
      "\n"
     ]
    },
    {
     "name": "stderr",
     "output_type": "stream",
     "text": [
      "  6%|▌         | 296/5000 [1:09:14<16:19:01, 12.49s/it]Setting `pad_token_id` to `eos_token_id`:0 for open-end generation.\n"
     ]
    },
    {
     "name": "stdout",
     "output_type": "stream",
     "text": [
      "\n",
      "\n",
      "\n",
      "\n",
      "####################################  296  ##############################################\n",
      "\n",
      "\n"
     ]
    },
    {
     "name": "stderr",
     "output_type": "stream",
     "text": [
      "  6%|▌         | 297/5000 [1:09:25<15:28:09, 11.84s/it]Setting `pad_token_id` to `eos_token_id`:0 for open-end generation.\n"
     ]
    },
    {
     "name": "stdout",
     "output_type": "stream",
     "text": [
      "\n",
      "\n",
      "\n",
      "\n",
      "####################################  297  ##############################################\n",
      "\n",
      "\n"
     ]
    },
    {
     "name": "stderr",
     "output_type": "stream",
     "text": [
      "  6%|▌         | 298/5000 [1:09:31<13:28:27, 10.32s/it]Setting `pad_token_id` to `eos_token_id`:0 for open-end generation.\n"
     ]
    },
    {
     "name": "stdout",
     "output_type": "stream",
     "text": [
      "\n",
      "\n",
      "\n",
      "\n",
      "####################################  298  ##############################################\n",
      "\n",
      "\n"
     ]
    },
    {
     "name": "stderr",
     "output_type": "stream",
     "text": [
      "  6%|▌         | 299/5000 [1:09:37<11:35:26,  8.88s/it]Setting `pad_token_id` to `eos_token_id`:0 for open-end generation.\n"
     ]
    },
    {
     "name": "stdout",
     "output_type": "stream",
     "text": [
      "\n",
      "\n",
      "\n",
      "\n",
      "####################################  299  ##############################################\n",
      "\n",
      "\n"
     ]
    },
    {
     "name": "stderr",
     "output_type": "stream",
     "text": [
      "  6%|▌         | 300/5000 [1:09:51<13:44:34, 10.53s/it]Setting `pad_token_id` to `eos_token_id`:0 for open-end generation.\n"
     ]
    },
    {
     "name": "stdout",
     "output_type": "stream",
     "text": [
      "\n",
      "\n",
      "\n",
      "\n",
      "####################################  300  ##############################################\n",
      "\n",
      "\n"
     ]
    },
    {
     "name": "stderr",
     "output_type": "stream",
     "text": [
      "  6%|▌         | 301/5000 [1:10:19<20:25:30, 15.65s/it]Setting `pad_token_id` to `eos_token_id`:0 for open-end generation.\n"
     ]
    },
    {
     "name": "stdout",
     "output_type": "stream",
     "text": [
      "\n",
      "\n",
      "\n",
      "\n",
      "####################################  301  ##############################################\n",
      "\n",
      "\n"
     ]
    },
    {
     "name": "stderr",
     "output_type": "stream",
     "text": [
      "  6%|▌         | 302/5000 [1:10:53<27:46:40, 21.29s/it]Setting `pad_token_id` to `eos_token_id`:0 for open-end generation.\n"
     ]
    },
    {
     "name": "stdout",
     "output_type": "stream",
     "text": [
      "\n",
      "\n",
      "\n",
      "\n",
      "####################################  302  ##############################################\n",
      "\n",
      "\n"
     ]
    },
    {
     "name": "stderr",
     "output_type": "stream",
     "text": [
      "  6%|▌         | 303/5000 [1:11:04<23:38:20, 18.12s/it]Setting `pad_token_id` to `eos_token_id`:0 for open-end generation.\n"
     ]
    },
    {
     "name": "stdout",
     "output_type": "stream",
     "text": [
      "\n",
      "\n",
      "\n",
      "\n",
      "####################################  303  ##############################################\n",
      "\n",
      "\n"
     ]
    },
    {
     "name": "stderr",
     "output_type": "stream",
     "text": [
      "  6%|▌         | 304/5000 [1:11:09<18:27:13, 14.15s/it]Setting `pad_token_id` to `eos_token_id`:0 for open-end generation.\n"
     ]
    },
    {
     "name": "stdout",
     "output_type": "stream",
     "text": [
      "\n",
      "\n",
      "\n",
      "\n",
      "####################################  304  ##############################################\n",
      "\n",
      "\n"
     ]
    },
    {
     "name": "stderr",
     "output_type": "stream",
     "text": [
      "  6%|▌         | 305/5000 [1:11:11<13:49:18, 10.60s/it]Setting `pad_token_id` to `eos_token_id`:0 for open-end generation.\n"
     ]
    },
    {
     "name": "stdout",
     "output_type": "stream",
     "text": [
      "\n",
      "\n",
      "\n",
      "\n",
      "####################################  305  ##############################################\n",
      "\n",
      "\n"
     ]
    },
    {
     "name": "stderr",
     "output_type": "stream",
     "text": [
      "  6%|▌         | 306/5000 [1:11:23<14:23:23, 11.04s/it]Setting `pad_token_id` to `eos_token_id`:0 for open-end generation.\n"
     ]
    },
    {
     "name": "stdout",
     "output_type": "stream",
     "text": [
      "\n",
      "\n",
      "\n",
      "\n",
      "####################################  306  ##############################################\n",
      "\n",
      "\n"
     ]
    },
    {
     "name": "stderr",
     "output_type": "stream",
     "text": [
      "  6%|▌         | 307/5000 [1:11:24<10:25:36,  8.00s/it]Setting `pad_token_id` to `eos_token_id`:0 for open-end generation.\n"
     ]
    },
    {
     "name": "stdout",
     "output_type": "stream",
     "text": [
      "\n",
      "\n",
      "\n",
      "\n",
      "####################################  307  ##############################################\n",
      "\n",
      "\n"
     ]
    },
    {
     "name": "stderr",
     "output_type": "stream",
     "text": [
      "  6%|▌         | 308/5000 [1:11:32<10:10:01,  7.80s/it]Setting `pad_token_id` to `eos_token_id`:0 for open-end generation.\n"
     ]
    },
    {
     "name": "stdout",
     "output_type": "stream",
     "text": [
      "\n",
      "\n",
      "\n",
      "\n",
      "####################################  308  ##############################################\n",
      "\n",
      "\n"
     ]
    },
    {
     "name": "stderr",
     "output_type": "stream",
     "text": [
      "  6%|▌         | 309/5000 [1:12:02<19:05:53, 14.66s/it]Setting `pad_token_id` to `eos_token_id`:0 for open-end generation.\n"
     ]
    },
    {
     "name": "stdout",
     "output_type": "stream",
     "text": [
      "\n",
      "\n",
      "\n",
      "\n",
      "####################################  309  ##############################################\n",
      "\n",
      "\n"
     ]
    },
    {
     "name": "stderr",
     "output_type": "stream",
     "text": [
      "  6%|▌         | 310/5000 [1:12:09<15:58:48, 12.27s/it]Setting `pad_token_id` to `eos_token_id`:0 for open-end generation.\n"
     ]
    },
    {
     "name": "stdout",
     "output_type": "stream",
     "text": [
      "\n",
      "\n",
      "\n",
      "\n",
      "####################################  310  ##############################################\n",
      "\n",
      "\n"
     ]
    },
    {
     "name": "stderr",
     "output_type": "stream",
     "text": [
      "  6%|▌         | 311/5000 [1:12:09<11:23:10,  8.74s/it]Setting `pad_token_id` to `eos_token_id`:0 for open-end generation.\n"
     ]
    },
    {
     "name": "stdout",
     "output_type": "stream",
     "text": [
      "\n",
      "\n",
      "\n",
      "\n",
      "####################################  311  ##############################################\n",
      "\n",
      "\n"
     ]
    },
    {
     "name": "stderr",
     "output_type": "stream",
     "text": [
      "  6%|▌         | 312/5000 [1:12:15<10:03:32,  7.72s/it]Setting `pad_token_id` to `eos_token_id`:0 for open-end generation.\n"
     ]
    },
    {
     "name": "stdout",
     "output_type": "stream",
     "text": [
      "\n",
      "\n",
      "\n",
      "\n",
      "####################################  312  ##############################################\n",
      "\n",
      "\n"
     ]
    },
    {
     "name": "stderr",
     "output_type": "stream",
     "text": [
      "  6%|▋         | 313/5000 [1:12:28<12:10:01,  9.35s/it]Setting `pad_token_id` to `eos_token_id`:0 for open-end generation.\n"
     ]
    },
    {
     "name": "stdout",
     "output_type": "stream",
     "text": [
      "\n",
      "\n",
      "\n",
      "\n",
      "####################################  313  ##############################################\n",
      "\n",
      "\n"
     ]
    },
    {
     "name": "stderr",
     "output_type": "stream",
     "text": [
      "  6%|▋         | 314/5000 [1:12:36<11:46:33,  9.05s/it]Setting `pad_token_id` to `eos_token_id`:0 for open-end generation.\n"
     ]
    },
    {
     "name": "stdout",
     "output_type": "stream",
     "text": [
      "\n",
      "\n",
      "\n",
      "\n",
      "####################################  314  ##############################################\n",
      "\n",
      "\n"
     ]
    },
    {
     "name": "stderr",
     "output_type": "stream",
     "text": [
      "  6%|▋         | 315/5000 [1:12:43<10:48:59,  8.31s/it]Setting `pad_token_id` to `eos_token_id`:0 for open-end generation.\n"
     ]
    },
    {
     "name": "stdout",
     "output_type": "stream",
     "text": [
      "\n",
      "\n",
      "\n",
      "\n",
      "####################################  315  ##############################################\n",
      "\n",
      "\n"
     ]
    },
    {
     "name": "stderr",
     "output_type": "stream",
     "text": [
      "  6%|▋         | 316/5000 [1:12:58<13:16:33, 10.20s/it]Setting `pad_token_id` to `eos_token_id`:0 for open-end generation.\n"
     ]
    },
    {
     "name": "stdout",
     "output_type": "stream",
     "text": [
      "\n",
      "\n",
      "\n",
      "\n",
      "####################################  316  ##############################################\n",
      "\n",
      "\n"
     ]
    },
    {
     "name": "stderr",
     "output_type": "stream",
     "text": [
      "  6%|▋         | 317/5000 [1:13:02<11:08:21,  8.56s/it]Setting `pad_token_id` to `eos_token_id`:0 for open-end generation.\n"
     ]
    },
    {
     "name": "stdout",
     "output_type": "stream",
     "text": [
      "\n",
      "\n",
      "\n",
      "\n",
      "####################################  317  ##############################################\n",
      "\n",
      "\n"
     ]
    },
    {
     "name": "stderr",
     "output_type": "stream",
     "text": [
      "  6%|▋         | 318/5000 [1:13:08<10:13:00,  7.86s/it]Setting `pad_token_id` to `eos_token_id`:0 for open-end generation.\n"
     ]
    },
    {
     "name": "stdout",
     "output_type": "stream",
     "text": [
      "\n",
      "\n",
      "\n",
      "\n",
      "####################################  318  ##############################################\n",
      "\n",
      "\n"
     ]
    },
    {
     "name": "stderr",
     "output_type": "stream",
     "text": [
      "  6%|▋         | 319/5000 [1:13:28<14:37:01, 11.24s/it]Setting `pad_token_id` to `eos_token_id`:0 for open-end generation.\n"
     ]
    },
    {
     "name": "stdout",
     "output_type": "stream",
     "text": [
      "\n",
      "\n",
      "\n",
      "\n",
      "####################################  319  ##############################################\n",
      "\n",
      "\n"
     ]
    },
    {
     "name": "stderr",
     "output_type": "stream",
     "text": [
      "  6%|▋         | 320/5000 [1:13:47<17:36:46, 13.55s/it]Setting `pad_token_id` to `eos_token_id`:0 for open-end generation.\n"
     ]
    },
    {
     "name": "stdout",
     "output_type": "stream",
     "text": [
      "\n",
      "\n",
      "\n",
      "\n",
      "####################################  320  ##############################################\n",
      "\n",
      "\n"
     ]
    },
    {
     "name": "stderr",
     "output_type": "stream",
     "text": [
      "  6%|▋         | 321/5000 [1:14:21<25:49:32, 19.87s/it]Setting `pad_token_id` to `eos_token_id`:0 for open-end generation.\n"
     ]
    },
    {
     "name": "stdout",
     "output_type": "stream",
     "text": [
      "\n",
      "\n",
      "\n",
      "\n",
      "####################################  321  ##############################################\n",
      "\n",
      "\n"
     ]
    },
    {
     "name": "stderr",
     "output_type": "stream",
     "text": [
      "  6%|▋         | 322/5000 [1:14:28<20:34:20, 15.83s/it]Setting `pad_token_id` to `eos_token_id`:0 for open-end generation.\n"
     ]
    },
    {
     "name": "stdout",
     "output_type": "stream",
     "text": [
      "\n",
      "\n",
      "\n",
      "\n",
      "####################################  322  ##############################################\n",
      "\n",
      "\n"
     ]
    },
    {
     "name": "stderr",
     "output_type": "stream",
     "text": [
      "  6%|▋         | 323/5000 [1:14:41<19:27:30, 14.98s/it]Setting `pad_token_id` to `eos_token_id`:0 for open-end generation.\n"
     ]
    },
    {
     "name": "stdout",
     "output_type": "stream",
     "text": [
      "\n",
      "\n",
      "\n",
      "\n",
      "####################################  323  ##############################################\n",
      "\n",
      "\n"
     ]
    },
    {
     "name": "stderr",
     "output_type": "stream",
     "text": [
      "  6%|▋         | 324/5000 [1:14:47<16:17:06, 12.54s/it]Setting `pad_token_id` to `eos_token_id`:0 for open-end generation.\n"
     ]
    },
    {
     "name": "stdout",
     "output_type": "stream",
     "text": [
      "\n",
      "\n",
      "\n",
      "\n",
      "####################################  324  ##############################################\n",
      "\n",
      "\n"
     ]
    },
    {
     "name": "stderr",
     "output_type": "stream",
     "text": [
      "  6%|▋         | 325/5000 [1:14:57<15:00:04, 11.55s/it]Setting `pad_token_id` to `eos_token_id`:0 for open-end generation.\n"
     ]
    },
    {
     "name": "stdout",
     "output_type": "stream",
     "text": [
      "\n",
      "\n",
      "\n",
      "\n",
      "####################################  325  ##############################################\n",
      "\n",
      "\n"
     ]
    },
    {
     "name": "stderr",
     "output_type": "stream",
     "text": [
      "  7%|▋         | 326/5000 [1:15:38<26:27:26, 20.38s/it]Setting `pad_token_id` to `eos_token_id`:0 for open-end generation.\n"
     ]
    },
    {
     "name": "stdout",
     "output_type": "stream",
     "text": [
      "\n",
      "\n",
      "\n",
      "\n",
      "####################################  326  ##############################################\n",
      "\n",
      "\n"
     ]
    },
    {
     "name": "stderr",
     "output_type": "stream",
     "text": [
      "  7%|▋         | 327/5000 [1:15:53<24:39:26, 19.00s/it]Setting `pad_token_id` to `eos_token_id`:0 for open-end generation.\n"
     ]
    },
    {
     "name": "stdout",
     "output_type": "stream",
     "text": [
      "\n",
      "\n",
      "\n",
      "\n",
      "####################################  327  ##############################################\n",
      "\n",
      "\n"
     ]
    },
    {
     "name": "stderr",
     "output_type": "stream",
     "text": [
      "  7%|▋         | 328/5000 [1:16:00<19:47:26, 15.25s/it]Setting `pad_token_id` to `eos_token_id`:0 for open-end generation.\n"
     ]
    },
    {
     "name": "stdout",
     "output_type": "stream",
     "text": [
      "\n",
      "\n",
      "\n",
      "\n",
      "####################################  328  ##############################################\n",
      "\n",
      "\n"
     ]
    },
    {
     "name": "stderr",
     "output_type": "stream",
     "text": [
      "  7%|▋         | 329/5000 [1:16:08<16:55:03, 13.04s/it]Setting `pad_token_id` to `eos_token_id`:0 for open-end generation.\n"
     ]
    },
    {
     "name": "stdout",
     "output_type": "stream",
     "text": [
      "\n",
      "\n",
      "\n",
      "\n",
      "####################################  329  ##############################################\n",
      "\n",
      "\n"
     ]
    },
    {
     "name": "stderr",
     "output_type": "stream",
     "text": [
      "  7%|▋         | 330/5000 [1:16:26<18:45:10, 14.46s/it]Setting `pad_token_id` to `eos_token_id`:0 for open-end generation.\n"
     ]
    },
    {
     "name": "stdout",
     "output_type": "stream",
     "text": [
      "\n",
      "\n",
      "\n",
      "\n",
      "####################################  330  ##############################################\n",
      "\n",
      "\n"
     ]
    },
    {
     "name": "stderr",
     "output_type": "stream",
     "text": [
      "  7%|▋         | 331/5000 [1:16:58<25:47:03, 19.88s/it]Setting `pad_token_id` to `eos_token_id`:0 for open-end generation.\n"
     ]
    },
    {
     "name": "stdout",
     "output_type": "stream",
     "text": [
      "\n",
      "\n",
      "\n",
      "\n",
      "####################################  331  ##############################################\n",
      "\n",
      "\n"
     ]
    },
    {
     "name": "stderr",
     "output_type": "stream",
     "text": [
      "  7%|▋         | 332/5000 [1:17:01<19:13:33, 14.83s/it]Setting `pad_token_id` to `eos_token_id`:0 for open-end generation.\n"
     ]
    },
    {
     "name": "stdout",
     "output_type": "stream",
     "text": [
      "\n",
      "\n",
      "\n",
      "\n",
      "####################################  332  ##############################################\n",
      "\n",
      "\n"
     ]
    },
    {
     "name": "stderr",
     "output_type": "stream",
     "text": [
      "  7%|▋         | 333/5000 [1:17:03<14:00:08, 10.80s/it]Setting `pad_token_id` to `eos_token_id`:0 for open-end generation.\n"
     ]
    },
    {
     "name": "stdout",
     "output_type": "stream",
     "text": [
      "\n",
      "\n",
      "\n",
      "\n",
      "####################################  333  ##############################################\n",
      "\n",
      "\n"
     ]
    },
    {
     "name": "stderr",
     "output_type": "stream",
     "text": [
      "  7%|▋         | 334/5000 [1:17:16<15:06:49, 11.66s/it]Setting `pad_token_id` to `eos_token_id`:0 for open-end generation.\n"
     ]
    },
    {
     "name": "stdout",
     "output_type": "stream",
     "text": [
      "\n",
      "\n",
      "\n",
      "\n",
      "####################################  334  ##############################################\n",
      "\n",
      "\n"
     ]
    },
    {
     "name": "stderr",
     "output_type": "stream",
     "text": [
      "  7%|▋         | 335/5000 [1:17:26<14:13:57, 10.98s/it]Setting `pad_token_id` to `eos_token_id`:0 for open-end generation.\n"
     ]
    },
    {
     "name": "stdout",
     "output_type": "stream",
     "text": [
      "\n",
      "\n",
      "\n",
      "\n",
      "####################################  335  ##############################################\n",
      "\n",
      "\n"
     ]
    },
    {
     "name": "stderr",
     "output_type": "stream",
     "text": [
      "  7%|▋         | 336/5000 [1:17:33<12:58:53, 10.02s/it]Setting `pad_token_id` to `eos_token_id`:0 for open-end generation.\n"
     ]
    },
    {
     "name": "stdout",
     "output_type": "stream",
     "text": [
      "\n",
      "\n",
      "\n",
      "\n",
      "####################################  336  ##############################################\n",
      "\n",
      "\n"
     ]
    },
    {
     "name": "stderr",
     "output_type": "stream",
     "text": [
      "  7%|▋         | 337/5000 [1:17:38<10:58:38,  8.47s/it]Setting `pad_token_id` to `eos_token_id`:0 for open-end generation.\n"
     ]
    },
    {
     "name": "stdout",
     "output_type": "stream",
     "text": [
      "\n",
      "\n",
      "\n",
      "\n",
      "####################################  337  ##############################################\n",
      "\n",
      "\n"
     ]
    },
    {
     "name": "stderr",
     "output_type": "stream",
     "text": [
      "  7%|▋         | 338/5000 [1:18:08<19:14:49, 14.86s/it]Setting `pad_token_id` to `eos_token_id`:0 for open-end generation.\n"
     ]
    },
    {
     "name": "stdout",
     "output_type": "stream",
     "text": [
      "\n",
      "\n",
      "\n",
      "\n",
      "####################################  338  ##############################################\n",
      "\n",
      "\n"
     ]
    },
    {
     "name": "stderr",
     "output_type": "stream",
     "text": [
      "  7%|▋         | 339/5000 [1:18:17<16:49:22, 12.99s/it]Setting `pad_token_id` to `eos_token_id`:0 for open-end generation.\n"
     ]
    },
    {
     "name": "stdout",
     "output_type": "stream",
     "text": [
      "\n",
      "\n",
      "\n",
      "\n",
      "####################################  339  ##############################################\n",
      "\n",
      "\n"
     ]
    },
    {
     "name": "stderr",
     "output_type": "stream",
     "text": [
      "  7%|▋         | 340/5000 [1:18:37<19:37:52, 15.17s/it]Setting `pad_token_id` to `eos_token_id`:0 for open-end generation.\n"
     ]
    },
    {
     "name": "stdout",
     "output_type": "stream",
     "text": [
      "\n",
      "\n",
      "\n",
      "\n",
      "####################################  340  ##############################################\n",
      "\n",
      "\n"
     ]
    },
    {
     "name": "stderr",
     "output_type": "stream",
     "text": [
      "  7%|▋         | 341/5000 [1:18:42<15:43:15, 12.15s/it]Setting `pad_token_id` to `eos_token_id`:0 for open-end generation.\n"
     ]
    },
    {
     "name": "stdout",
     "output_type": "stream",
     "text": [
      "\n",
      "\n",
      "\n",
      "\n",
      "####################################  341  ##############################################\n",
      "\n",
      "\n"
     ]
    },
    {
     "name": "stderr",
     "output_type": "stream",
     "text": [
      "  7%|▋         | 342/5000 [1:18:53<15:12:27, 11.75s/it]Setting `pad_token_id` to `eos_token_id`:0 for open-end generation.\n"
     ]
    },
    {
     "name": "stdout",
     "output_type": "stream",
     "text": [
      "\n",
      "\n",
      "\n",
      "\n",
      "####################################  342  ##############################################\n",
      "\n",
      "\n"
     ]
    },
    {
     "name": "stderr",
     "output_type": "stream",
     "text": [
      "  7%|▋         | 343/5000 [1:19:00<13:34:57, 10.50s/it]Setting `pad_token_id` to `eos_token_id`:0 for open-end generation.\n"
     ]
    },
    {
     "name": "stdout",
     "output_type": "stream",
     "text": [
      "\n",
      "\n",
      "\n",
      "\n",
      "####################################  343  ##############################################\n",
      "\n",
      "\n"
     ]
    },
    {
     "name": "stderr",
     "output_type": "stream",
     "text": [
      "  7%|▋         | 344/5000 [1:19:02<9:58:56,  7.72s/it] Setting `pad_token_id` to `eos_token_id`:0 for open-end generation.\n"
     ]
    },
    {
     "name": "stdout",
     "output_type": "stream",
     "text": [
      "\n",
      "\n",
      "\n",
      "\n",
      "####################################  344  ##############################################\n",
      "\n",
      "\n"
     ]
    },
    {
     "name": "stderr",
     "output_type": "stream",
     "text": [
      "  7%|▋         | 345/5000 [1:20:49<48:41:51, 37.66s/it]Setting `pad_token_id` to `eos_token_id`:0 for open-end generation.\n"
     ]
    },
    {
     "name": "stdout",
     "output_type": "stream",
     "text": [
      "\n",
      "\n",
      "\n",
      "\n",
      "####################################  345  ##############################################\n",
      "\n",
      "\n"
     ]
    },
    {
     "name": "stderr",
     "output_type": "stream",
     "text": [
      "  7%|▋         | 346/5000 [1:21:05<40:04:37, 31.00s/it]Setting `pad_token_id` to `eos_token_id`:0 for open-end generation.\n"
     ]
    },
    {
     "name": "stdout",
     "output_type": "stream",
     "text": [
      "\n",
      "\n",
      "\n",
      "\n",
      "####################################  346  ##############################################\n",
      "\n",
      "\n"
     ]
    },
    {
     "name": "stderr",
     "output_type": "stream",
     "text": [
      "  7%|▋         | 347/5000 [1:21:09<29:46:48, 23.04s/it]Setting `pad_token_id` to `eos_token_id`:0 for open-end generation.\n"
     ]
    },
    {
     "name": "stdout",
     "output_type": "stream",
     "text": [
      "\n",
      "\n",
      "\n",
      "\n",
      "####################################  347  ##############################################\n",
      "\n",
      "\n"
     ]
    },
    {
     "name": "stderr",
     "output_type": "stream",
     "text": [
      "  7%|▋         | 348/5000 [1:21:11<21:36:33, 16.72s/it]Setting `pad_token_id` to `eos_token_id`:0 for open-end generation.\n"
     ]
    },
    {
     "name": "stdout",
     "output_type": "stream",
     "text": [
      "\n",
      "\n",
      "\n",
      "\n",
      "####################################  348  ##############################################\n",
      "\n",
      "\n"
     ]
    },
    {
     "name": "stderr",
     "output_type": "stream",
     "text": [
      "  7%|▋         | 349/5000 [1:21:48<29:34:47, 22.90s/it]Setting `pad_token_id` to `eos_token_id`:0 for open-end generation.\n"
     ]
    },
    {
     "name": "stdout",
     "output_type": "stream",
     "text": [
      "\n",
      "\n",
      "\n",
      "\n",
      "####################################  349  ##############################################\n",
      "\n",
      "\n"
     ]
    },
    {
     "name": "stderr",
     "output_type": "stream",
     "text": [
      "  7%|▋         | 350/5000 [1:22:19<32:33:08, 25.20s/it]Setting `pad_token_id` to `eos_token_id`:0 for open-end generation.\n"
     ]
    },
    {
     "name": "stdout",
     "output_type": "stream",
     "text": [
      "\n",
      "\n",
      "\n",
      "\n",
      "####################################  350  ##############################################\n",
      "\n",
      "\n"
     ]
    },
    {
     "name": "stderr",
     "output_type": "stream",
     "text": [
      "  7%|▋         | 351/5000 [1:22:43<32:07:05, 24.87s/it]Setting `pad_token_id` to `eos_token_id`:0 for open-end generation.\n"
     ]
    },
    {
     "name": "stdout",
     "output_type": "stream",
     "text": [
      "\n",
      "\n",
      "\n",
      "\n",
      "####################################  351  ##############################################\n",
      "\n",
      "\n"
     ]
    },
    {
     "name": "stderr",
     "output_type": "stream",
     "text": [
      "  7%|▋         | 352/5000 [1:22:51<25:42:56, 19.92s/it]Setting `pad_token_id` to `eos_token_id`:0 for open-end generation.\n"
     ]
    },
    {
     "name": "stdout",
     "output_type": "stream",
     "text": [
      "\n",
      "\n",
      "\n",
      "\n",
      "####################################  352  ##############################################\n",
      "\n",
      "\n"
     ]
    },
    {
     "name": "stderr",
     "output_type": "stream",
     "text": [
      "  7%|▋         | 353/5000 [1:22:54<18:55:35, 14.66s/it]Setting `pad_token_id` to `eos_token_id`:0 for open-end generation.\n"
     ]
    },
    {
     "name": "stdout",
     "output_type": "stream",
     "text": [
      "\n",
      "\n",
      "\n",
      "\n",
      "####################################  353  ##############################################\n",
      "\n",
      "\n"
     ]
    },
    {
     "name": "stderr",
     "output_type": "stream",
     "text": [
      "  7%|▋         | 354/5000 [1:22:56<14:10:28, 10.98s/it]Setting `pad_token_id` to `eos_token_id`:0 for open-end generation.\n"
     ]
    },
    {
     "name": "stdout",
     "output_type": "stream",
     "text": [
      "\n",
      "\n",
      "\n",
      "\n",
      "####################################  354  ##############################################\n",
      "\n",
      "\n"
     ]
    },
    {
     "name": "stderr",
     "output_type": "stream",
     "text": [
      "  7%|▋         | 355/5000 [1:23:06<13:55:04, 10.79s/it]Setting `pad_token_id` to `eos_token_id`:0 for open-end generation.\n"
     ]
    },
    {
     "name": "stdout",
     "output_type": "stream",
     "text": [
      "\n",
      "\n",
      "\n",
      "\n",
      "####################################  355  ##############################################\n",
      "\n",
      "\n"
     ]
    },
    {
     "name": "stderr",
     "output_type": "stream",
     "text": [
      "  7%|▋         | 356/5000 [1:23:27<17:48:24, 13.80s/it]Setting `pad_token_id` to `eos_token_id`:0 for open-end generation.\n"
     ]
    },
    {
     "name": "stdout",
     "output_type": "stream",
     "text": [
      "\n",
      "\n",
      "\n",
      "\n",
      "####################################  356  ##############################################\n",
      "\n",
      "\n"
     ]
    },
    {
     "name": "stderr",
     "output_type": "stream",
     "text": [
      "  7%|▋         | 357/5000 [1:23:34<14:51:00, 11.51s/it]Setting `pad_token_id` to `eos_token_id`:0 for open-end generation.\n"
     ]
    },
    {
     "name": "stdout",
     "output_type": "stream",
     "text": [
      "\n",
      "\n",
      "\n",
      "\n",
      "####################################  357  ##############################################\n",
      "\n",
      "\n"
     ]
    },
    {
     "name": "stderr",
     "output_type": "stream",
     "text": [
      "  7%|▋         | 358/5000 [1:23:43<13:59:53, 10.86s/it]Setting `pad_token_id` to `eos_token_id`:0 for open-end generation.\n"
     ]
    },
    {
     "name": "stdout",
     "output_type": "stream",
     "text": [
      "\n",
      "\n",
      "\n",
      "\n",
      "####################################  358  ##############################################\n",
      "\n",
      "\n"
     ]
    },
    {
     "name": "stderr",
     "output_type": "stream",
     "text": [
      "  7%|▋         | 359/5000 [1:23:53<13:36:36, 10.56s/it]Setting `pad_token_id` to `eos_token_id`:0 for open-end generation.\n"
     ]
    },
    {
     "name": "stdout",
     "output_type": "stream",
     "text": [
      "\n",
      "\n",
      "\n",
      "\n",
      "####################################  359  ##############################################\n",
      "\n",
      "\n"
     ]
    },
    {
     "name": "stderr",
     "output_type": "stream",
     "text": [
      "  7%|▋         | 360/5000 [1:24:20<20:16:15, 15.73s/it]Setting `pad_token_id` to `eos_token_id`:0 for open-end generation.\n"
     ]
    },
    {
     "name": "stdout",
     "output_type": "stream",
     "text": [
      "\n",
      "\n",
      "\n",
      "\n",
      "####################################  360  ##############################################\n",
      "\n",
      "\n"
     ]
    },
    {
     "name": "stderr",
     "output_type": "stream",
     "text": [
      "  7%|▋         | 361/5000 [1:24:50<25:37:17, 19.88s/it]Setting `pad_token_id` to `eos_token_id`:0 for open-end generation.\n"
     ]
    },
    {
     "name": "stdout",
     "output_type": "stream",
     "text": [
      "\n",
      "\n",
      "\n",
      "\n",
      "####################################  361  ##############################################\n",
      "\n",
      "\n"
     ]
    },
    {
     "name": "stderr",
     "output_type": "stream",
     "text": [
      "  7%|▋         | 362/5000 [1:24:59<21:23:07, 16.60s/it]Setting `pad_token_id` to `eos_token_id`:0 for open-end generation.\n"
     ]
    },
    {
     "name": "stdout",
     "output_type": "stream",
     "text": [
      "\n",
      "\n",
      "\n",
      "\n",
      "####################################  362  ##############################################\n",
      "\n",
      "\n"
     ]
    },
    {
     "name": "stderr",
     "output_type": "stream",
     "text": [
      "  7%|▋         | 363/5000 [1:25:07<17:58:04, 13.95s/it]Setting `pad_token_id` to `eos_token_id`:0 for open-end generation.\n"
     ]
    },
    {
     "name": "stdout",
     "output_type": "stream",
     "text": [
      "\n",
      "\n",
      "\n",
      "\n",
      "####################################  363  ##############################################\n",
      "\n",
      "\n"
     ]
    },
    {
     "name": "stderr",
     "output_type": "stream",
     "text": [
      "  7%|▋         | 364/5000 [1:25:53<30:14:40, 23.49s/it]Setting `pad_token_id` to `eos_token_id`:0 for open-end generation.\n"
     ]
    },
    {
     "name": "stdout",
     "output_type": "stream",
     "text": [
      "\n",
      "\n",
      "\n",
      "\n",
      "####################################  364  ##############################################\n",
      "\n",
      "\n"
     ]
    },
    {
     "name": "stderr",
     "output_type": "stream",
     "text": [
      "  7%|▋         | 365/5000 [1:26:15<29:46:23, 23.12s/it]Setting `pad_token_id` to `eos_token_id`:0 for open-end generation.\n",
      "  7%|▋         | 366/5000 [1:26:15<20:54:49, 16.25s/it]Setting `pad_token_id` to `eos_token_id`:0 for open-end generation.\n"
     ]
    },
    {
     "name": "stdout",
     "output_type": "stream",
     "text": [
      "\n",
      "\n",
      "\n",
      "\n",
      "####################################  365  ##############################################\n",
      "\n",
      "\n",
      "\n",
      "\n",
      "\n",
      "\n",
      "####################################  366  ##############################################\n",
      "\n",
      "\n"
     ]
    },
    {
     "name": "stderr",
     "output_type": "stream",
     "text": [
      "  7%|▋         | 367/5000 [1:26:28<19:41:27, 15.30s/it]Setting `pad_token_id` to `eos_token_id`:0 for open-end generation.\n"
     ]
    },
    {
     "name": "stdout",
     "output_type": "stream",
     "text": [
      "\n",
      "\n",
      "\n",
      "\n",
      "####################################  367  ##############################################\n",
      "\n",
      "\n"
     ]
    },
    {
     "name": "stderr",
     "output_type": "stream",
     "text": [
      "  7%|▋         | 368/5000 [1:26:49<21:54:23, 17.03s/it]Setting `pad_token_id` to `eos_token_id`:0 for open-end generation.\n"
     ]
    },
    {
     "name": "stdout",
     "output_type": "stream",
     "text": [
      "\n",
      "\n",
      "\n",
      "\n",
      "####################################  368  ##############################################\n",
      "\n",
      "\n"
     ]
    },
    {
     "name": "stderr",
     "output_type": "stream",
     "text": [
      "  7%|▋         | 369/5000 [1:27:10<23:31:04, 18.28s/it]Setting `pad_token_id` to `eos_token_id`:0 for open-end generation.\n"
     ]
    },
    {
     "name": "stdout",
     "output_type": "stream",
     "text": [
      "\n",
      "\n",
      "\n",
      "\n",
      "####################################  369  ##############################################\n",
      "\n",
      "\n"
     ]
    },
    {
     "name": "stderr",
     "output_type": "stream",
     "text": [
      "  7%|▋         | 370/5000 [1:27:15<18:23:13, 14.30s/it]Setting `pad_token_id` to `eos_token_id`:0 for open-end generation.\n"
     ]
    },
    {
     "name": "stdout",
     "output_type": "stream",
     "text": [
      "\n",
      "\n",
      "\n",
      "\n",
      "####################################  370  ##############################################\n",
      "\n",
      "\n"
     ]
    },
    {
     "name": "stderr",
     "output_type": "stream",
     "text": [
      "  7%|▋         | 371/5000 [1:27:17<13:34:22, 10.56s/it]Setting `pad_token_id` to `eos_token_id`:0 for open-end generation.\n"
     ]
    },
    {
     "name": "stdout",
     "output_type": "stream",
     "text": [
      "\n",
      "\n",
      "\n",
      "\n",
      "####################################  371  ##############################################\n",
      "\n",
      "\n"
     ]
    },
    {
     "name": "stderr",
     "output_type": "stream",
     "text": [
      "  7%|▋         | 372/5000 [1:27:25<12:34:57,  9.79s/it]Setting `pad_token_id` to `eos_token_id`:0 for open-end generation.\n"
     ]
    },
    {
     "name": "stdout",
     "output_type": "stream",
     "text": [
      "\n",
      "\n",
      "\n",
      "\n",
      "####################################  372  ##############################################\n",
      "\n",
      "\n"
     ]
    },
    {
     "name": "stderr",
     "output_type": "stream",
     "text": [
      "  7%|▋         | 373/5000 [1:27:32<11:30:25,  8.95s/it]Setting `pad_token_id` to `eos_token_id`:0 for open-end generation.\n"
     ]
    },
    {
     "name": "stdout",
     "output_type": "stream",
     "text": [
      "\n",
      "\n",
      "\n",
      "\n",
      "####################################  373  ##############################################\n",
      "\n",
      "\n"
     ]
    },
    {
     "name": "stderr",
     "output_type": "stream",
     "text": [
      "  7%|▋         | 374/5000 [1:27:36<9:23:40,  7.31s/it] Setting `pad_token_id` to `eos_token_id`:0 for open-end generation.\n"
     ]
    },
    {
     "name": "stdout",
     "output_type": "stream",
     "text": [
      "\n",
      "\n",
      "\n",
      "\n",
      "####################################  374  ##############################################\n",
      "\n",
      "\n"
     ]
    },
    {
     "name": "stderr",
     "output_type": "stream",
     "text": [
      "  8%|▊         | 375/5000 [1:27:45<10:13:47,  7.96s/it]Setting `pad_token_id` to `eos_token_id`:0 for open-end generation.\n"
     ]
    },
    {
     "name": "stdout",
     "output_type": "stream",
     "text": [
      "\n",
      "\n",
      "\n",
      "\n",
      "####################################  375  ##############################################\n",
      "\n",
      "\n"
     ]
    },
    {
     "name": "stderr",
     "output_type": "stream",
     "text": [
      "  8%|▊         | 376/5000 [1:27:54<10:25:52,  8.12s/it]Setting `pad_token_id` to `eos_token_id`:0 for open-end generation.\n"
     ]
    },
    {
     "name": "stdout",
     "output_type": "stream",
     "text": [
      "\n",
      "\n",
      "\n",
      "\n",
      "####################################  376  ##############################################\n",
      "\n",
      "\n"
     ]
    },
    {
     "name": "stderr",
     "output_type": "stream",
     "text": [
      "  8%|▊         | 377/5000 [1:27:59<9:11:51,  7.16s/it] Setting `pad_token_id` to `eos_token_id`:0 for open-end generation.\n"
     ]
    },
    {
     "name": "stdout",
     "output_type": "stream",
     "text": [
      "\n",
      "\n",
      "\n",
      "\n",
      "####################################  377  ##############################################\n",
      "\n",
      "\n"
     ]
    },
    {
     "name": "stderr",
     "output_type": "stream",
     "text": [
      "  8%|▊         | 378/5000 [1:28:08<10:08:58,  7.91s/it]Setting `pad_token_id` to `eos_token_id`:0 for open-end generation.\n"
     ]
    },
    {
     "name": "stdout",
     "output_type": "stream",
     "text": [
      "\n",
      "\n",
      "\n",
      "\n",
      "####################################  378  ##############################################\n",
      "\n",
      "\n"
     ]
    },
    {
     "name": "stderr",
     "output_type": "stream",
     "text": [
      "  8%|▊         | 379/5000 [1:28:24<13:08:24, 10.24s/it]Setting `pad_token_id` to `eos_token_id`:0 for open-end generation.\n"
     ]
    },
    {
     "name": "stdout",
     "output_type": "stream",
     "text": [
      "\n",
      "\n",
      "\n",
      "\n",
      "####################################  379  ##############################################\n",
      "\n",
      "\n"
     ]
    },
    {
     "name": "stderr",
     "output_type": "stream",
     "text": [
      "  8%|▊         | 380/5000 [1:28:47<17:55:48, 13.97s/it]Setting `pad_token_id` to `eos_token_id`:0 for open-end generation.\n"
     ]
    },
    {
     "name": "stdout",
     "output_type": "stream",
     "text": [
      "\n",
      "\n",
      "\n",
      "\n",
      "####################################  380  ##############################################\n",
      "\n",
      "\n"
     ]
    },
    {
     "name": "stderr",
     "output_type": "stream",
     "text": [
      "  8%|▊         | 381/5000 [1:28:49<13:20:35, 10.40s/it]Setting `pad_token_id` to `eos_token_id`:0 for open-end generation.\n"
     ]
    },
    {
     "name": "stdout",
     "output_type": "stream",
     "text": [
      "\n",
      "\n",
      "\n",
      "\n",
      "####################################  381  ##############################################\n",
      "\n",
      "\n"
     ]
    },
    {
     "name": "stderr",
     "output_type": "stream",
     "text": [
      "  8%|▊         | 382/5000 [1:28:55<11:52:41,  9.26s/it]Setting `pad_token_id` to `eos_token_id`:0 for open-end generation.\n"
     ]
    },
    {
     "name": "stdout",
     "output_type": "stream",
     "text": [
      "\n",
      "\n",
      "\n",
      "\n",
      "####################################  382  ##############################################\n",
      "\n",
      "\n"
     ]
    },
    {
     "name": "stderr",
     "output_type": "stream",
     "text": [
      "  8%|▊         | 383/5000 [1:28:58<9:32:14,  7.44s/it] Setting `pad_token_id` to `eos_token_id`:0 for open-end generation.\n"
     ]
    },
    {
     "name": "stdout",
     "output_type": "stream",
     "text": [
      "\n",
      "\n",
      "\n",
      "\n",
      "####################################  383  ##############################################\n",
      "\n",
      "\n"
     ]
    },
    {
     "name": "stderr",
     "output_type": "stream",
     "text": [
      "  8%|▊         | 384/5000 [1:29:04<8:38:50,  6.74s/it]Setting `pad_token_id` to `eos_token_id`:0 for open-end generation.\n"
     ]
    },
    {
     "name": "stdout",
     "output_type": "stream",
     "text": [
      "\n",
      "\n",
      "\n",
      "\n",
      "####################################  384  ##############################################\n",
      "\n",
      "\n"
     ]
    },
    {
     "name": "stderr",
     "output_type": "stream",
     "text": [
      "  8%|▊         | 385/5000 [1:29:17<11:20:02,  8.84s/it]Setting `pad_token_id` to `eos_token_id`:0 for open-end generation.\n"
     ]
    },
    {
     "name": "stdout",
     "output_type": "stream",
     "text": [
      "\n",
      "\n",
      "\n",
      "\n",
      "####################################  385  ##############################################\n",
      "\n",
      "\n"
     ]
    },
    {
     "name": "stderr",
     "output_type": "stream",
     "text": [
      "  8%|▊         | 386/5000 [1:29:47<19:31:02, 15.23s/it]Setting `pad_token_id` to `eos_token_id`:0 for open-end generation.\n"
     ]
    },
    {
     "name": "stdout",
     "output_type": "stream",
     "text": [
      "\n",
      "\n",
      "\n",
      "\n",
      "####################################  386  ##############################################\n",
      "\n",
      "\n"
     ]
    },
    {
     "name": "stderr",
     "output_type": "stream",
     "text": [
      "  8%|▊         | 387/5000 [1:30:12<23:04:50, 18.01s/it]Setting `pad_token_id` to `eos_token_id`:0 for open-end generation.\n"
     ]
    },
    {
     "name": "stdout",
     "output_type": "stream",
     "text": [
      "\n",
      "\n",
      "\n",
      "\n",
      "####################################  387  ##############################################\n",
      "\n",
      "\n"
     ]
    },
    {
     "name": "stderr",
     "output_type": "stream",
     "text": [
      "  8%|▊         | 388/5000 [1:30:31<23:30:42, 18.35s/it]Setting `pad_token_id` to `eos_token_id`:0 for open-end generation.\n"
     ]
    },
    {
     "name": "stdout",
     "output_type": "stream",
     "text": [
      "\n",
      "\n",
      "\n",
      "\n",
      "####################################  388  ##############################################\n",
      "\n",
      "\n"
     ]
    },
    {
     "name": "stderr",
     "output_type": "stream",
     "text": [
      "  8%|▊         | 389/5000 [1:30:32<16:52:42, 13.18s/it]Setting `pad_token_id` to `eos_token_id`:0 for open-end generation.\n"
     ]
    },
    {
     "name": "stdout",
     "output_type": "stream",
     "text": [
      "\n",
      "\n",
      "\n",
      "\n",
      "####################################  389  ##############################################\n",
      "\n",
      "\n"
     ]
    },
    {
     "name": "stderr",
     "output_type": "stream",
     "text": [
      "  8%|▊         | 390/5000 [1:30:34<12:40:21,  9.90s/it]Setting `pad_token_id` to `eos_token_id`:0 for open-end generation.\n"
     ]
    },
    {
     "name": "stdout",
     "output_type": "stream",
     "text": [
      "\n",
      "\n",
      "\n",
      "\n",
      "####################################  390  ##############################################\n",
      "\n",
      "\n"
     ]
    },
    {
     "name": "stderr",
     "output_type": "stream",
     "text": [
      "  8%|▊         | 391/5000 [1:30:36<9:18:59,  7.28s/it] Setting `pad_token_id` to `eos_token_id`:0 for open-end generation.\n"
     ]
    },
    {
     "name": "stdout",
     "output_type": "stream",
     "text": [
      "\n",
      "\n",
      "\n",
      "\n",
      "####################################  391  ##############################################\n",
      "\n",
      "\n"
     ]
    },
    {
     "name": "stderr",
     "output_type": "stream",
     "text": [
      "  8%|▊         | 392/5000 [1:30:37<6:53:55,  5.39s/it]Setting `pad_token_id` to `eos_token_id`:0 for open-end generation.\n"
     ]
    },
    {
     "name": "stdout",
     "output_type": "stream",
     "text": [
      "\n",
      "\n",
      "\n",
      "\n",
      "####################################  392  ##############################################\n",
      "\n",
      "\n"
     ]
    },
    {
     "name": "stderr",
     "output_type": "stream",
     "text": [
      "  8%|▊         | 393/5000 [1:30:40<6:06:33,  4.77s/it]Setting `pad_token_id` to `eos_token_id`:0 for open-end generation.\n"
     ]
    },
    {
     "name": "stdout",
     "output_type": "stream",
     "text": [
      "\n",
      "\n",
      "\n",
      "\n",
      "####################################  393  ##############################################\n",
      "\n",
      "\n"
     ]
    },
    {
     "name": "stderr",
     "output_type": "stream",
     "text": [
      "  8%|▊         | 394/5000 [1:31:02<12:53:59, 10.08s/it]Setting `pad_token_id` to `eos_token_id`:0 for open-end generation.\n"
     ]
    },
    {
     "name": "stdout",
     "output_type": "stream",
     "text": [
      "\n",
      "\n",
      "\n",
      "\n",
      "####################################  394  ##############################################\n",
      "\n",
      "\n"
     ]
    },
    {
     "name": "stderr",
     "output_type": "stream",
     "text": [
      "  8%|▊         | 395/5000 [1:31:27<18:18:01, 14.31s/it]Setting `pad_token_id` to `eos_token_id`:0 for open-end generation.\n"
     ]
    },
    {
     "name": "stdout",
     "output_type": "stream",
     "text": [
      "\n",
      "\n",
      "\n",
      "\n",
      "####################################  395  ##############################################\n",
      "\n",
      "\n"
     ]
    },
    {
     "name": "stderr",
     "output_type": "stream",
     "text": [
      "  8%|▊         | 396/5000 [1:31:44<19:32:10, 15.28s/it]Setting `pad_token_id` to `eos_token_id`:0 for open-end generation.\n"
     ]
    },
    {
     "name": "stdout",
     "output_type": "stream",
     "text": [
      "\n",
      "\n",
      "\n",
      "\n",
      "####################################  396  ##############################################\n",
      "\n",
      "\n"
     ]
    },
    {
     "name": "stderr",
     "output_type": "stream",
     "text": [
      "  8%|▊         | 397/5000 [1:31:50<16:05:02, 12.58s/it]Setting `pad_token_id` to `eos_token_id`:0 for open-end generation.\n"
     ]
    },
    {
     "name": "stdout",
     "output_type": "stream",
     "text": [
      "\n",
      "\n",
      "\n",
      "\n",
      "####################################  397  ##############################################\n",
      "\n",
      "\n"
     ]
    },
    {
     "name": "stderr",
     "output_type": "stream",
     "text": [
      "  8%|▊         | 398/5000 [1:32:07<17:38:10, 13.80s/it]Setting `pad_token_id` to `eos_token_id`:0 for open-end generation.\n"
     ]
    },
    {
     "name": "stdout",
     "output_type": "stream",
     "text": [
      "\n",
      "\n",
      "\n",
      "\n",
      "####################################  398  ##############################################\n",
      "\n",
      "\n"
     ]
    },
    {
     "name": "stderr",
     "output_type": "stream",
     "text": [
      "  8%|▊         | 399/5000 [1:32:08<12:51:48, 10.06s/it]Setting `pad_token_id` to `eos_token_id`:0 for open-end generation.\n"
     ]
    },
    {
     "name": "stdout",
     "output_type": "stream",
     "text": [
      "\n",
      "\n",
      "\n",
      "\n",
      "####################################  399  ##############################################\n",
      "\n",
      "\n"
     ]
    },
    {
     "name": "stderr",
     "output_type": "stream",
     "text": [
      "  8%|▊         | 400/5000 [1:32:30<17:17:14, 13.53s/it]Setting `pad_token_id` to `eos_token_id`:0 for open-end generation.\n"
     ]
    },
    {
     "name": "stdout",
     "output_type": "stream",
     "text": [
      "\n",
      "\n",
      "\n",
      "\n",
      "####################################  400  ##############################################\n",
      "\n",
      "\n"
     ]
    },
    {
     "name": "stderr",
     "output_type": "stream",
     "text": [
      "  8%|▊         | 401/5000 [1:32:31<12:23:01,  9.69s/it]Setting `pad_token_id` to `eos_token_id`:0 for open-end generation.\n"
     ]
    },
    {
     "name": "stdout",
     "output_type": "stream",
     "text": [
      "\n",
      "\n",
      "\n",
      "\n",
      "####################################  401  ##############################################\n",
      "\n",
      "\n"
     ]
    },
    {
     "name": "stderr",
     "output_type": "stream",
     "text": [
      "  8%|▊         | 402/5000 [1:32:41<12:29:42,  9.78s/it]Setting `pad_token_id` to `eos_token_id`:0 for open-end generation.\n"
     ]
    },
    {
     "name": "stdout",
     "output_type": "stream",
     "text": [
      "\n",
      "\n",
      "\n",
      "\n",
      "####################################  402  ##############################################\n",
      "\n",
      "\n"
     ]
    },
    {
     "name": "stderr",
     "output_type": "stream",
     "text": [
      "  8%|▊         | 403/5000 [1:33:06<18:34:37, 14.55s/it]Setting `pad_token_id` to `eos_token_id`:0 for open-end generation.\n"
     ]
    },
    {
     "name": "stdout",
     "output_type": "stream",
     "text": [
      "\n",
      "\n",
      "\n",
      "\n",
      "####################################  403  ##############################################\n",
      "\n",
      "\n"
     ]
    },
    {
     "name": "stderr",
     "output_type": "stream",
     "text": [
      "  8%|▊         | 404/5000 [1:33:30<22:03:46, 17.28s/it]Setting `pad_token_id` to `eos_token_id`:0 for open-end generation.\n"
     ]
    },
    {
     "name": "stdout",
     "output_type": "stream",
     "text": [
      "\n",
      "\n",
      "\n",
      "\n",
      "####################################  404  ##############################################\n",
      "\n",
      "\n"
     ]
    },
    {
     "name": "stderr",
     "output_type": "stream",
     "text": [
      "  8%|▊         | 405/5000 [1:33:52<23:55:21, 18.74s/it]Setting `pad_token_id` to `eos_token_id`:0 for open-end generation.\n"
     ]
    },
    {
     "name": "stdout",
     "output_type": "stream",
     "text": [
      "\n",
      "\n",
      "\n",
      "\n",
      "####################################  405  ##############################################\n",
      "\n",
      "\n"
     ]
    },
    {
     "name": "stderr",
     "output_type": "stream",
     "text": [
      "  8%|▊         | 406/5000 [1:33:59<19:32:29, 15.31s/it]Setting `pad_token_id` to `eos_token_id`:0 for open-end generation.\n"
     ]
    },
    {
     "name": "stdout",
     "output_type": "stream",
     "text": [
      "\n",
      "\n",
      "\n",
      "\n",
      "####################################  406  ##############################################\n",
      "\n",
      "\n"
     ]
    },
    {
     "name": "stderr",
     "output_type": "stream",
     "text": [
      "  8%|▊         | 407/5000 [1:34:05<15:46:40, 12.37s/it]Setting `pad_token_id` to `eos_token_id`:0 for open-end generation.\n"
     ]
    },
    {
     "name": "stdout",
     "output_type": "stream",
     "text": [
      "\n",
      "\n",
      "\n",
      "\n",
      "####################################  407  ##############################################\n",
      "\n",
      "\n"
     ]
    },
    {
     "name": "stderr",
     "output_type": "stream",
     "text": [
      "  8%|▊         | 408/5000 [1:34:21<17:16:16, 13.54s/it]Setting `pad_token_id` to `eos_token_id`:0 for open-end generation.\n"
     ]
    },
    {
     "name": "stdout",
     "output_type": "stream",
     "text": [
      "\n",
      "\n",
      "\n",
      "\n",
      "####################################  408  ##############################################\n",
      "\n",
      "\n"
     ]
    },
    {
     "name": "stderr",
     "output_type": "stream",
     "text": [
      "  8%|▊         | 409/5000 [1:34:26<13:59:53, 10.98s/it]Setting `pad_token_id` to `eos_token_id`:0 for open-end generation.\n"
     ]
    },
    {
     "name": "stdout",
     "output_type": "stream",
     "text": [
      "\n",
      "\n",
      "\n",
      "\n",
      "####################################  409  ##############################################\n",
      "\n",
      "\n"
     ]
    },
    {
     "name": "stderr",
     "output_type": "stream",
     "text": [
      "  8%|▊         | 410/5000 [1:34:35<13:12:26, 10.36s/it]Setting `pad_token_id` to `eos_token_id`:0 for open-end generation.\n"
     ]
    },
    {
     "name": "stdout",
     "output_type": "stream",
     "text": [
      "\n",
      "\n",
      "\n",
      "\n",
      "####################################  410  ##############################################\n",
      "\n",
      "\n"
     ]
    },
    {
     "name": "stderr",
     "output_type": "stream",
     "text": [
      "  8%|▊         | 411/5000 [1:35:12<23:26:54, 18.40s/it]Setting `pad_token_id` to `eos_token_id`:0 for open-end generation.\n"
     ]
    },
    {
     "name": "stdout",
     "output_type": "stream",
     "text": [
      "\n",
      "\n",
      "\n",
      "\n",
      "####################################  411  ##############################################\n",
      "\n",
      "\n"
     ]
    },
    {
     "name": "stderr",
     "output_type": "stream",
     "text": [
      "  8%|▊         | 412/5000 [1:35:15<17:33:02, 13.77s/it]Setting `pad_token_id` to `eos_token_id`:0 for open-end generation.\n"
     ]
    },
    {
     "name": "stdout",
     "output_type": "stream",
     "text": [
      "\n",
      "\n",
      "\n",
      "\n",
      "####################################  412  ##############################################\n",
      "\n",
      "\n"
     ]
    },
    {
     "name": "stderr",
     "output_type": "stream",
     "text": [
      "  8%|▊         | 413/5000 [1:35:38<21:06:10, 16.56s/it]Setting `pad_token_id` to `eos_token_id`:0 for open-end generation.\n"
     ]
    },
    {
     "name": "stdout",
     "output_type": "stream",
     "text": [
      "\n",
      "\n",
      "\n",
      "\n",
      "####################################  413  ##############################################\n",
      "\n",
      "\n"
     ]
    },
    {
     "name": "stderr",
     "output_type": "stream",
     "text": [
      "  8%|▊         | 414/5000 [1:35:41<15:36:28, 12.25s/it]Setting `pad_token_id` to `eos_token_id`:0 for open-end generation.\n"
     ]
    },
    {
     "name": "stdout",
     "output_type": "stream",
     "text": [
      "\n",
      "\n",
      "\n",
      "\n",
      "####################################  414  ##############################################\n",
      "\n",
      "\n"
     ]
    },
    {
     "name": "stderr",
     "output_type": "stream",
     "text": [
      "  8%|▊         | 415/5000 [1:36:06<20:33:29, 16.14s/it]Setting `pad_token_id` to `eos_token_id`:0 for open-end generation.\n"
     ]
    },
    {
     "name": "stdout",
     "output_type": "stream",
     "text": [
      "\n",
      "\n",
      "\n",
      "\n",
      "####################################  415  ##############################################\n",
      "\n",
      "\n"
     ]
    },
    {
     "name": "stderr",
     "output_type": "stream",
     "text": [
      "  8%|▊         | 416/5000 [1:36:13<17:15:09, 13.55s/it]Setting `pad_token_id` to `eos_token_id`:0 for open-end generation.\n"
     ]
    },
    {
     "name": "stdout",
     "output_type": "stream",
     "text": [
      "\n",
      "\n",
      "\n",
      "\n",
      "####################################  416  ##############################################\n",
      "\n",
      "\n"
     ]
    },
    {
     "name": "stderr",
     "output_type": "stream",
     "text": [
      "  8%|▊         | 417/5000 [1:36:28<17:46:03, 13.96s/it]Setting `pad_token_id` to `eos_token_id`:0 for open-end generation.\n"
     ]
    },
    {
     "name": "stdout",
     "output_type": "stream",
     "text": [
      "\n",
      "\n",
      "\n",
      "\n",
      "####################################  417  ##############################################\n",
      "\n",
      "\n"
     ]
    },
    {
     "name": "stderr",
     "output_type": "stream",
     "text": [
      "  8%|▊         | 418/5000 [1:36:41<17:22:59, 13.66s/it]Setting `pad_token_id` to `eos_token_id`:0 for open-end generation.\n"
     ]
    },
    {
     "name": "stdout",
     "output_type": "stream",
     "text": [
      "\n",
      "\n",
      "\n",
      "\n",
      "####################################  418  ##############################################\n",
      "\n",
      "\n"
     ]
    },
    {
     "name": "stderr",
     "output_type": "stream",
     "text": [
      "  8%|▊         | 419/5000 [1:37:42<35:15:57, 27.71s/it]Setting `pad_token_id` to `eos_token_id`:0 for open-end generation.\n"
     ]
    },
    {
     "name": "stdout",
     "output_type": "stream",
     "text": [
      "\n",
      "\n",
      "\n",
      "\n",
      "####################################  419  ##############################################\n",
      "\n",
      "\n"
     ]
    },
    {
     "name": "stderr",
     "output_type": "stream",
     "text": [
      "  8%|▊         | 420/5000 [1:37:59<31:12:29, 24.53s/it]Setting `pad_token_id` to `eos_token_id`:0 for open-end generation.\n"
     ]
    },
    {
     "name": "stdout",
     "output_type": "stream",
     "text": [
      "\n",
      "\n",
      "\n",
      "\n",
      "####################################  420  ##############################################\n",
      "\n",
      "\n"
     ]
    },
    {
     "name": "stderr",
     "output_type": "stream",
     "text": [
      "  8%|▊         | 421/5000 [1:38:08<25:16:19, 19.87s/it]Setting `pad_token_id` to `eos_token_id`:0 for open-end generation.\n"
     ]
    },
    {
     "name": "stdout",
     "output_type": "stream",
     "text": [
      "\n",
      "\n",
      "\n",
      "\n",
      "####################################  421  ##############################################\n",
      "\n",
      "\n"
     ]
    },
    {
     "name": "stderr",
     "output_type": "stream",
     "text": [
      "  8%|▊         | 422/5000 [1:38:10<18:37:54, 14.65s/it]Setting `pad_token_id` to `eos_token_id`:0 for open-end generation.\n"
     ]
    },
    {
     "name": "stdout",
     "output_type": "stream",
     "text": [
      "\n",
      "\n",
      "\n",
      "\n",
      "####################################  422  ##############################################\n",
      "\n",
      "\n"
     ]
    },
    {
     "name": "stderr",
     "output_type": "stream",
     "text": [
      "  8%|▊         | 423/5000 [1:38:40<24:32:32, 19.30s/it]Setting `pad_token_id` to `eos_token_id`:0 for open-end generation.\n"
     ]
    },
    {
     "name": "stdout",
     "output_type": "stream",
     "text": [
      "\n",
      "\n",
      "\n",
      "\n",
      "####################################  423  ##############################################\n",
      "\n",
      "\n"
     ]
    },
    {
     "name": "stderr",
     "output_type": "stream",
     "text": [
      "  8%|▊         | 424/5000 [1:38:47<19:33:32, 15.39s/it]Setting `pad_token_id` to `eos_token_id`:0 for open-end generation.\n"
     ]
    },
    {
     "name": "stdout",
     "output_type": "stream",
     "text": [
      "\n",
      "\n",
      "\n",
      "\n",
      "####################################  424  ##############################################\n",
      "\n",
      "\n"
     ]
    },
    {
     "name": "stderr",
     "output_type": "stream",
     "text": [
      "  8%|▊         | 425/5000 [1:38:48<14:15:25, 11.22s/it]Setting `pad_token_id` to `eos_token_id`:0 for open-end generation.\n"
     ]
    },
    {
     "name": "stdout",
     "output_type": "stream",
     "text": [
      "\n",
      "\n",
      "\n",
      "\n",
      "####################################  425  ##############################################\n",
      "\n",
      "\n"
     ]
    },
    {
     "name": "stderr",
     "output_type": "stream",
     "text": [
      "  9%|▊         | 426/5000 [1:39:07<17:13:58, 13.56s/it]Setting `pad_token_id` to `eos_token_id`:0 for open-end generation.\n"
     ]
    },
    {
     "name": "stdout",
     "output_type": "stream",
     "text": [
      "\n",
      "\n",
      "\n",
      "\n",
      "####################################  426  ##############################################\n",
      "\n",
      "\n"
     ]
    },
    {
     "name": "stderr",
     "output_type": "stream",
     "text": [
      "  9%|▊         | 427/5000 [1:39:15<15:04:59, 11.87s/it]Setting `pad_token_id` to `eos_token_id`:0 for open-end generation.\n"
     ]
    },
    {
     "name": "stdout",
     "output_type": "stream",
     "text": [
      "\n",
      "\n",
      "\n",
      "\n",
      "####################################  427  ##############################################\n",
      "\n",
      "\n"
     ]
    },
    {
     "name": "stderr",
     "output_type": "stream",
     "text": [
      "  9%|▊         | 428/5000 [1:39:16<10:59:55,  8.66s/it]Setting `pad_token_id` to `eos_token_id`:0 for open-end generation.\n"
     ]
    },
    {
     "name": "stdout",
     "output_type": "stream",
     "text": [
      "\n",
      "\n",
      "\n",
      "\n",
      "####################################  428  ##############################################\n",
      "\n",
      "\n"
     ]
    },
    {
     "name": "stderr",
     "output_type": "stream",
     "text": [
      "  9%|▊         | 429/5000 [1:39:24<10:44:01,  8.45s/it]Setting `pad_token_id` to `eos_token_id`:0 for open-end generation.\n"
     ]
    },
    {
     "name": "stdout",
     "output_type": "stream",
     "text": [
      "\n",
      "\n",
      "\n",
      "\n",
      "####################################  429  ##############################################\n",
      "\n",
      "\n"
     ]
    },
    {
     "name": "stderr",
     "output_type": "stream",
     "text": [
      "  9%|▊         | 430/5000 [1:39:56<19:26:53, 15.32s/it]Setting `pad_token_id` to `eos_token_id`:0 for open-end generation.\n"
     ]
    },
    {
     "name": "stdout",
     "output_type": "stream",
     "text": [
      "\n",
      "\n",
      "\n",
      "\n",
      "####################################  430  ##############################################\n",
      "\n",
      "\n"
     ]
    },
    {
     "name": "stderr",
     "output_type": "stream",
     "text": [
      "  9%|▊         | 431/5000 [1:40:09<18:38:26, 14.69s/it]Setting `pad_token_id` to `eos_token_id`:0 for open-end generation.\n"
     ]
    },
    {
     "name": "stdout",
     "output_type": "stream",
     "text": [
      "\n",
      "\n",
      "\n",
      "\n",
      "####################################  431  ##############################################\n",
      "\n",
      "\n"
     ]
    },
    {
     "name": "stderr",
     "output_type": "stream",
     "text": [
      "  9%|▊         | 432/5000 [1:40:17<16:12:30, 12.77s/it]Setting `pad_token_id` to `eos_token_id`:0 for open-end generation.\n"
     ]
    },
    {
     "name": "stdout",
     "output_type": "stream",
     "text": [
      "\n",
      "\n",
      "\n",
      "\n",
      "####################################  432  ##############################################\n",
      "\n",
      "\n"
     ]
    },
    {
     "name": "stderr",
     "output_type": "stream",
     "text": [
      "  9%|▊         | 433/5000 [1:40:27<15:02:17, 11.85s/it]Setting `pad_token_id` to `eos_token_id`:0 for open-end generation.\n"
     ]
    },
    {
     "name": "stdout",
     "output_type": "stream",
     "text": [
      "\n",
      "\n",
      "\n",
      "\n",
      "####################################  433  ##############################################\n",
      "\n",
      "\n"
     ]
    },
    {
     "name": "stderr",
     "output_type": "stream",
     "text": [
      "  9%|▊         | 434/5000 [1:40:42<16:22:18, 12.91s/it]Setting `pad_token_id` to `eos_token_id`:0 for open-end generation.\n"
     ]
    },
    {
     "name": "stdout",
     "output_type": "stream",
     "text": [
      "\n",
      "\n",
      "\n",
      "\n",
      "####################################  434  ##############################################\n",
      "\n",
      "\n"
     ]
    },
    {
     "name": "stderr",
     "output_type": "stream",
     "text": [
      "  9%|▊         | 435/5000 [1:41:00<18:23:18, 14.50s/it]Setting `pad_token_id` to `eos_token_id`:0 for open-end generation.\n"
     ]
    },
    {
     "name": "stdout",
     "output_type": "stream",
     "text": [
      "\n",
      "\n",
      "\n",
      "\n",
      "####################################  435  ##############################################\n",
      "\n",
      "\n"
     ]
    },
    {
     "name": "stderr",
     "output_type": "stream",
     "text": [
      "  9%|▊         | 436/5000 [1:41:18<19:40:38, 15.52s/it]Setting `pad_token_id` to `eos_token_id`:0 for open-end generation.\n"
     ]
    },
    {
     "name": "stdout",
     "output_type": "stream",
     "text": [
      "\n",
      "\n",
      "\n",
      "\n",
      "####################################  436  ##############################################\n",
      "\n",
      "\n"
     ]
    },
    {
     "name": "stderr",
     "output_type": "stream",
     "text": [
      "  9%|▊         | 437/5000 [1:41:31<18:36:27, 14.68s/it]Setting `pad_token_id` to `eos_token_id`:0 for open-end generation.\n"
     ]
    },
    {
     "name": "stdout",
     "output_type": "stream",
     "text": [
      "\n",
      "\n",
      "\n",
      "\n",
      "####################################  437  ##############################################\n",
      "\n",
      "\n"
     ]
    },
    {
     "name": "stderr",
     "output_type": "stream",
     "text": [
      "  9%|▉         | 438/5000 [1:41:50<20:09:27, 15.91s/it]Setting `pad_token_id` to `eos_token_id`:0 for open-end generation.\n"
     ]
    },
    {
     "name": "stdout",
     "output_type": "stream",
     "text": [
      "\n",
      "\n",
      "\n",
      "\n",
      "####################################  438  ##############################################\n",
      "\n",
      "\n"
     ]
    },
    {
     "name": "stderr",
     "output_type": "stream",
     "text": [
      "  9%|▉         | 439/5000 [1:41:54<15:32:22, 12.27s/it]Setting `pad_token_id` to `eos_token_id`:0 for open-end generation.\n"
     ]
    },
    {
     "name": "stdout",
     "output_type": "stream",
     "text": [
      "\n",
      "\n",
      "\n",
      "\n",
      "####################################  439  ##############################################\n",
      "\n",
      "\n"
     ]
    },
    {
     "name": "stderr",
     "output_type": "stream",
     "text": [
      "  9%|▉         | 440/5000 [1:42:06<15:31:30, 12.26s/it]Setting `pad_token_id` to `eos_token_id`:0 for open-end generation.\n"
     ]
    },
    {
     "name": "stdout",
     "output_type": "stream",
     "text": [
      "\n",
      "\n",
      "\n",
      "\n",
      "####################################  440  ##############################################\n",
      "\n",
      "\n"
     ]
    },
    {
     "name": "stderr",
     "output_type": "stream",
     "text": [
      "  9%|▉         | 441/5000 [1:42:22<17:07:46, 13.53s/it]Setting `pad_token_id` to `eos_token_id`:0 for open-end generation.\n"
     ]
    },
    {
     "name": "stdout",
     "output_type": "stream",
     "text": [
      "\n",
      "\n",
      "\n",
      "\n",
      "####################################  441  ##############################################\n",
      "\n",
      "\n"
     ]
    },
    {
     "name": "stderr",
     "output_type": "stream",
     "text": [
      "  9%|▉         | 442/5000 [1:42:30<14:55:50, 11.79s/it]Setting `pad_token_id` to `eos_token_id`:0 for open-end generation.\n"
     ]
    },
    {
     "name": "stdout",
     "output_type": "stream",
     "text": [
      "\n",
      "\n",
      "\n",
      "\n",
      "####################################  442  ##############################################\n",
      "\n",
      "\n"
     ]
    },
    {
     "name": "stderr",
     "output_type": "stream",
     "text": [
      "  9%|▉         | 443/5000 [1:42:34<12:00:56,  9.49s/it]Setting `pad_token_id` to `eos_token_id`:0 for open-end generation.\n"
     ]
    },
    {
     "name": "stdout",
     "output_type": "stream",
     "text": [
      "\n",
      "\n",
      "\n",
      "\n",
      "####################################  443  ##############################################\n",
      "\n",
      "\n"
     ]
    },
    {
     "name": "stderr",
     "output_type": "stream",
     "text": [
      "  9%|▉         | 444/5000 [1:43:37<32:10:02, 25.42s/it]Setting `pad_token_id` to `eos_token_id`:0 for open-end generation.\n"
     ]
    },
    {
     "name": "stdout",
     "output_type": "stream",
     "text": [
      "\n",
      "\n",
      "\n",
      "\n",
      "####################################  444  ##############################################\n",
      "\n",
      "\n"
     ]
    },
    {
     "name": "stderr",
     "output_type": "stream",
     "text": [
      "  9%|▉         | 445/5000 [1:43:44<25:17:41, 19.99s/it]Setting `pad_token_id` to `eos_token_id`:0 for open-end generation.\n"
     ]
    },
    {
     "name": "stdout",
     "output_type": "stream",
     "text": [
      "\n",
      "\n",
      "\n",
      "\n",
      "####################################  445  ##############################################\n",
      "\n",
      "\n"
     ]
    },
    {
     "name": "stderr",
     "output_type": "stream",
     "text": [
      "  9%|▉         | 446/5000 [1:43:58<23:02:04, 18.21s/it]Setting `pad_token_id` to `eos_token_id`:0 for open-end generation.\n"
     ]
    },
    {
     "name": "stdout",
     "output_type": "stream",
     "text": [
      "\n",
      "\n",
      "\n",
      "\n",
      "####################################  446  ##############################################\n",
      "\n",
      "\n"
     ]
    },
    {
     "name": "stderr",
     "output_type": "stream",
     "text": [
      "  9%|▉         | 447/5000 [1:44:15<22:36:04, 17.87s/it]Setting `pad_token_id` to `eos_token_id`:0 for open-end generation.\n"
     ]
    },
    {
     "name": "stdout",
     "output_type": "stream",
     "text": [
      "\n",
      "\n",
      "\n",
      "\n",
      "####################################  447  ##############################################\n",
      "\n",
      "\n"
     ]
    },
    {
     "name": "stderr",
     "output_type": "stream",
     "text": [
      "  9%|▉         | 448/5000 [1:44:36<23:51:06, 18.86s/it]Setting `pad_token_id` to `eos_token_id`:0 for open-end generation.\n"
     ]
    },
    {
     "name": "stdout",
     "output_type": "stream",
     "text": [
      "\n",
      "\n",
      "\n",
      "\n",
      "####################################  448  ##############################################\n",
      "\n",
      "\n"
     ]
    },
    {
     "name": "stderr",
     "output_type": "stream",
     "text": [
      "  9%|▉         | 449/5000 [1:45:19<32:58:39, 26.09s/it]Setting `pad_token_id` to `eos_token_id`:0 for open-end generation.\n"
     ]
    },
    {
     "name": "stdout",
     "output_type": "stream",
     "text": [
      "\n",
      "\n",
      "\n",
      "\n",
      "####################################  449  ##############################################\n",
      "\n",
      "\n"
     ]
    },
    {
     "name": "stderr",
     "output_type": "stream",
     "text": [
      "  9%|▉         | 450/5000 [1:45:27<25:56:44, 20.53s/it]Setting `pad_token_id` to `eos_token_id`:0 for open-end generation.\n"
     ]
    },
    {
     "name": "stdout",
     "output_type": "stream",
     "text": [
      "\n",
      "\n",
      "\n",
      "\n",
      "####################################  450  ##############################################\n",
      "\n",
      "\n"
     ]
    },
    {
     "name": "stderr",
     "output_type": "stream",
     "text": [
      "  9%|▉         | 451/5000 [1:45:32<20:16:02, 16.04s/it]Setting `pad_token_id` to `eos_token_id`:0 for open-end generation.\n"
     ]
    },
    {
     "name": "stdout",
     "output_type": "stream",
     "text": [
      "\n",
      "\n",
      "\n",
      "\n",
      "####################################  451  ##############################################\n",
      "\n",
      "\n"
     ]
    },
    {
     "name": "stderr",
     "output_type": "stream",
     "text": [
      "  9%|▉         | 452/5000 [1:45:45<18:47:32, 14.88s/it]Setting `pad_token_id` to `eos_token_id`:0 for open-end generation.\n"
     ]
    },
    {
     "name": "stdout",
     "output_type": "stream",
     "text": [
      "\n",
      "\n",
      "\n",
      "\n",
      "####################################  452  ##############################################\n",
      "\n",
      "\n"
     ]
    },
    {
     "name": "stderr",
     "output_type": "stream",
     "text": [
      "  9%|▉         | 453/5000 [1:46:23<27:52:04, 22.06s/it]Setting `pad_token_id` to `eos_token_id`:0 for open-end generation.\n"
     ]
    },
    {
     "name": "stdout",
     "output_type": "stream",
     "text": [
      "\n",
      "\n",
      "\n",
      "\n",
      "####################################  453  ##############################################\n",
      "\n",
      "\n"
     ]
    },
    {
     "name": "stderr",
     "output_type": "stream",
     "text": [
      "  9%|▉         | 454/5000 [1:46:48<28:44:37, 22.76s/it]Setting `pad_token_id` to `eos_token_id`:0 for open-end generation.\n"
     ]
    },
    {
     "name": "stdout",
     "output_type": "stream",
     "text": [
      "\n",
      "\n",
      "\n",
      "\n",
      "####################################  454  ##############################################\n",
      "\n",
      "\n"
     ]
    },
    {
     "name": "stderr",
     "output_type": "stream",
     "text": [
      "  9%|▉         | 455/5000 [1:46:54<22:24:30, 17.75s/it]Setting `pad_token_id` to `eos_token_id`:0 for open-end generation.\n"
     ]
    },
    {
     "name": "stdout",
     "output_type": "stream",
     "text": [
      "\n",
      "\n",
      "\n",
      "\n",
      "####################################  455  ##############################################\n",
      "\n",
      "\n"
     ]
    },
    {
     "name": "stderr",
     "output_type": "stream",
     "text": [
      "  9%|▉         | 456/5000 [1:47:01<18:27:21, 14.62s/it]Setting `pad_token_id` to `eos_token_id`:0 for open-end generation.\n"
     ]
    },
    {
     "name": "stdout",
     "output_type": "stream",
     "text": [
      "\n",
      "\n",
      "\n",
      "\n",
      "####################################  456  ##############################################\n",
      "\n",
      "\n"
     ]
    },
    {
     "name": "stderr",
     "output_type": "stream",
     "text": [
      "  9%|▉         | 457/5000 [1:47:05<14:19:58, 11.36s/it]Setting `pad_token_id` to `eos_token_id`:0 for open-end generation.\n"
     ]
    },
    {
     "name": "stdout",
     "output_type": "stream",
     "text": [
      "\n",
      "\n",
      "\n",
      "\n",
      "####################################  457  ##############################################\n",
      "\n",
      "\n"
     ]
    },
    {
     "name": "stderr",
     "output_type": "stream",
     "text": [
      "  9%|▉         | 458/5000 [1:47:22<16:32:00, 13.10s/it]Setting `pad_token_id` to `eos_token_id`:0 for open-end generation.\n"
     ]
    },
    {
     "name": "stdout",
     "output_type": "stream",
     "text": [
      "\n",
      "\n",
      "\n",
      "\n",
      "####################################  458  ##############################################\n",
      "\n",
      "\n"
     ]
    },
    {
     "name": "stderr",
     "output_type": "stream",
     "text": [
      "  9%|▉         | 459/5000 [1:47:41<18:38:35, 14.78s/it]Setting `pad_token_id` to `eos_token_id`:0 for open-end generation.\n"
     ]
    },
    {
     "name": "stdout",
     "output_type": "stream",
     "text": [
      "\n",
      "\n",
      "\n",
      "\n",
      "####################################  459  ##############################################\n",
      "\n",
      "\n"
     ]
    },
    {
     "name": "stderr",
     "output_type": "stream",
     "text": [
      "  9%|▉         | 460/5000 [1:47:47<15:19:39, 12.15s/it]Setting `pad_token_id` to `eos_token_id`:0 for open-end generation.\n"
     ]
    },
    {
     "name": "stdout",
     "output_type": "stream",
     "text": [
      "\n",
      "\n",
      "\n",
      "\n",
      "####################################  460  ##############################################\n",
      "\n",
      "\n"
     ]
    },
    {
     "name": "stderr",
     "output_type": "stream",
     "text": [
      "  9%|▉         | 460/5000 [1:48:06<17:47:00, 14.10s/it]\n"
     ]
    },
    {
     "ename": "KeyboardInterrupt",
     "evalue": "",
     "output_type": "error",
     "traceback": [
      "\u001b[0;31m---------------------------------------------------------------------------\u001b[0m",
      "\u001b[0;31mKeyboardInterrupt\u001b[0m                         Traceback (most recent call last)",
      "Cell \u001b[0;32mIn[12], line 58\u001b[0m\n\u001b[1;32m     55\u001b[0m generate_kwargs \u001b[39m=\u001b[39m {\u001b[39m\"\u001b[39m\u001b[39mmax_length\u001b[39m\u001b[39m\"\u001b[39m: max_length, \u001b[39m\"\u001b[39m\u001b[39mtemperature\u001b[39m\u001b[39m\"\u001b[39m: \u001b[39m1.0\u001b[39m, \u001b[39m\"\u001b[39m\u001b[39mrepetition_penalty\u001b[39m\u001b[39m\"\u001b[39m: \u001b[39m1.2\u001b[39m, \u001b[39m\"\u001b[39m\u001b[39mdo_sample\u001b[39m\u001b[39m\"\u001b[39m: \u001b[39mTrue\u001b[39;00m, \u001b[39m\"\u001b[39m\u001b[39mtop_p\u001b[39m\u001b[39m\"\u001b[39m: \u001b[39m0.95\u001b[39m}\n\u001b[1;32m     56\u001b[0m gen_kwargs_str \u001b[39m=\u001b[39m \u001b[39m\"\u001b[39m\u001b[39m;\u001b[39m\u001b[39m\"\u001b[39m\u001b[39m.\u001b[39mjoin([\u001b[39mf\u001b[39m\u001b[39m\"\u001b[39m\u001b[39m{\u001b[39;00mk\u001b[39m}\u001b[39;00m\u001b[39m=\u001b[39m\u001b[39m{\u001b[39;00mv\u001b[39m}\u001b[39;00m\u001b[39m\"\u001b[39m \u001b[39mfor\u001b[39;00m k, v \u001b[39min\u001b[39;00m generate_kwargs\u001b[39m.\u001b[39mitems()])\n\u001b[0;32m---> 58\u001b[0m model_output \u001b[39m=\u001b[39m model\u001b[39m.\u001b[39;49mgenerate(\n\u001b[1;32m     59\u001b[0m     inputs[\u001b[39m\"\u001b[39;49m\u001b[39minput_ids\u001b[39;49m\u001b[39m\"\u001b[39;49m]\u001b[39m.\u001b[39;49mto(model\u001b[39m.\u001b[39;49mdevice),\n\u001b[1;32m     60\u001b[0m     attention_mask\u001b[39m=\u001b[39;49minputs[\u001b[39m\"\u001b[39;49m\u001b[39mattention_mask\u001b[39;49m\u001b[39m\"\u001b[39;49m]\u001b[39m.\u001b[39;49mto(model\u001b[39m.\u001b[39;49mdevice),\n\u001b[1;32m     61\u001b[0m     eos_token_id\u001b[39m=\u001b[39;49mtokenizer\u001b[39m.\u001b[39;49meos_token_id,\n\u001b[1;32m     62\u001b[0m     \u001b[39m*\u001b[39;49m\u001b[39m*\u001b[39;49mgenerate_kwargs\n\u001b[1;32m     63\u001b[0m )\n\u001b[1;32m     64\u001b[0m transcript \u001b[39m=\u001b[39m tokenizer\u001b[39m.\u001b[39mdecode(model_output[\u001b[39m0\u001b[39m])\n\u001b[1;32m     65\u001b[0m response \u001b[39m=\u001b[39m transcript\u001b[39m.\u001b[39msplit(assistant_prefix)[\u001b[39m-\u001b[39m\u001b[39m1\u001b[39m]\u001b[39m.\u001b[39mlstrip()\u001b[39m.\u001b[39mremovesuffix(tokenizer\u001b[39m.\u001b[39meos_token)\n",
      "File \u001b[0;32m/mnt/ssd-2/spar/alexm/miniconda3/envs/dlkb/lib/python3.10/site-packages/torch/utils/_contextlib.py:115\u001b[0m, in \u001b[0;36mcontext_decorator.<locals>.decorate_context\u001b[0;34m(*args, **kwargs)\u001b[0m\n\u001b[1;32m    112\u001b[0m \u001b[39m@functools\u001b[39m\u001b[39m.\u001b[39mwraps(func)\n\u001b[1;32m    113\u001b[0m \u001b[39mdef\u001b[39;00m \u001b[39mdecorate_context\u001b[39m(\u001b[39m*\u001b[39margs, \u001b[39m*\u001b[39m\u001b[39m*\u001b[39mkwargs):\n\u001b[1;32m    114\u001b[0m     \u001b[39mwith\u001b[39;00m ctx_factory():\n\u001b[0;32m--> 115\u001b[0m         \u001b[39mreturn\u001b[39;00m func(\u001b[39m*\u001b[39;49margs, \u001b[39m*\u001b[39;49m\u001b[39m*\u001b[39;49mkwargs)\n",
      "File \u001b[0;32m/mnt/ssd-2/spar/alexm/miniconda3/envs/dlkb/lib/python3.10/site-packages/transformers/generation/utils.py:1588\u001b[0m, in \u001b[0;36mGenerationMixin.generate\u001b[0;34m(self, inputs, generation_config, logits_processor, stopping_criteria, prefix_allowed_tokens_fn, synced_gpus, assistant_model, streamer, **kwargs)\u001b[0m\n\u001b[1;32m   1580\u001b[0m     input_ids, model_kwargs \u001b[39m=\u001b[39m \u001b[39mself\u001b[39m\u001b[39m.\u001b[39m_expand_inputs_for_generation(\n\u001b[1;32m   1581\u001b[0m         input_ids\u001b[39m=\u001b[39minput_ids,\n\u001b[1;32m   1582\u001b[0m         expand_size\u001b[39m=\u001b[39mgeneration_config\u001b[39m.\u001b[39mnum_return_sequences,\n\u001b[1;32m   1583\u001b[0m         is_encoder_decoder\u001b[39m=\u001b[39m\u001b[39mself\u001b[39m\u001b[39m.\u001b[39mconfig\u001b[39m.\u001b[39mis_encoder_decoder,\n\u001b[1;32m   1584\u001b[0m         \u001b[39m*\u001b[39m\u001b[39m*\u001b[39mmodel_kwargs,\n\u001b[1;32m   1585\u001b[0m     )\n\u001b[1;32m   1587\u001b[0m     \u001b[39m# 13. run sample\u001b[39;00m\n\u001b[0;32m-> 1588\u001b[0m     \u001b[39mreturn\u001b[39;00m \u001b[39mself\u001b[39;49m\u001b[39m.\u001b[39;49msample(\n\u001b[1;32m   1589\u001b[0m         input_ids,\n\u001b[1;32m   1590\u001b[0m         logits_processor\u001b[39m=\u001b[39;49mlogits_processor,\n\u001b[1;32m   1591\u001b[0m         logits_warper\u001b[39m=\u001b[39;49mlogits_warper,\n\u001b[1;32m   1592\u001b[0m         stopping_criteria\u001b[39m=\u001b[39;49mstopping_criteria,\n\u001b[1;32m   1593\u001b[0m         pad_token_id\u001b[39m=\u001b[39;49mgeneration_config\u001b[39m.\u001b[39;49mpad_token_id,\n\u001b[1;32m   1594\u001b[0m         eos_token_id\u001b[39m=\u001b[39;49mgeneration_config\u001b[39m.\u001b[39;49meos_token_id,\n\u001b[1;32m   1595\u001b[0m         output_scores\u001b[39m=\u001b[39;49mgeneration_config\u001b[39m.\u001b[39;49moutput_scores,\n\u001b[1;32m   1596\u001b[0m         return_dict_in_generate\u001b[39m=\u001b[39;49mgeneration_config\u001b[39m.\u001b[39;49mreturn_dict_in_generate,\n\u001b[1;32m   1597\u001b[0m         synced_gpus\u001b[39m=\u001b[39;49msynced_gpus,\n\u001b[1;32m   1598\u001b[0m         streamer\u001b[39m=\u001b[39;49mstreamer,\n\u001b[1;32m   1599\u001b[0m         \u001b[39m*\u001b[39;49m\u001b[39m*\u001b[39;49mmodel_kwargs,\n\u001b[1;32m   1600\u001b[0m     )\n\u001b[1;32m   1602\u001b[0m \u001b[39melif\u001b[39;00m is_beam_gen_mode:\n\u001b[1;32m   1603\u001b[0m     \u001b[39mif\u001b[39;00m generation_config\u001b[39m.\u001b[39mnum_return_sequences \u001b[39m>\u001b[39m generation_config\u001b[39m.\u001b[39mnum_beams:\n",
      "File \u001b[0;32m/mnt/ssd-2/spar/alexm/miniconda3/envs/dlkb/lib/python3.10/site-packages/transformers/generation/utils.py:2642\u001b[0m, in \u001b[0;36mGenerationMixin.sample\u001b[0;34m(self, input_ids, logits_processor, stopping_criteria, logits_warper, max_length, pad_token_id, eos_token_id, output_attentions, output_hidden_states, output_scores, return_dict_in_generate, synced_gpus, streamer, **model_kwargs)\u001b[0m\n\u001b[1;32m   2639\u001b[0m model_inputs \u001b[39m=\u001b[39m \u001b[39mself\u001b[39m\u001b[39m.\u001b[39mprepare_inputs_for_generation(input_ids, \u001b[39m*\u001b[39m\u001b[39m*\u001b[39mmodel_kwargs)\n\u001b[1;32m   2641\u001b[0m \u001b[39m# forward pass to get next token\u001b[39;00m\n\u001b[0;32m-> 2642\u001b[0m outputs \u001b[39m=\u001b[39m \u001b[39mself\u001b[39;49m(\n\u001b[1;32m   2643\u001b[0m     \u001b[39m*\u001b[39;49m\u001b[39m*\u001b[39;49mmodel_inputs,\n\u001b[1;32m   2644\u001b[0m     return_dict\u001b[39m=\u001b[39;49m\u001b[39mTrue\u001b[39;49;00m,\n\u001b[1;32m   2645\u001b[0m     output_attentions\u001b[39m=\u001b[39;49moutput_attentions,\n\u001b[1;32m   2646\u001b[0m     output_hidden_states\u001b[39m=\u001b[39;49moutput_hidden_states,\n\u001b[1;32m   2647\u001b[0m )\n\u001b[1;32m   2649\u001b[0m \u001b[39mif\u001b[39;00m synced_gpus \u001b[39mand\u001b[39;00m this_peer_finished:\n\u001b[1;32m   2650\u001b[0m     \u001b[39mcontinue\u001b[39;00m  \u001b[39m# don't waste resources running the code we don't need\u001b[39;00m\n",
      "File \u001b[0;32m/mnt/ssd-2/spar/alexm/miniconda3/envs/dlkb/lib/python3.10/site-packages/torch/nn/modules/module.py:1501\u001b[0m, in \u001b[0;36mModule._call_impl\u001b[0;34m(self, *args, **kwargs)\u001b[0m\n\u001b[1;32m   1496\u001b[0m \u001b[39m# If we don't have any hooks, we want to skip the rest of the logic in\u001b[39;00m\n\u001b[1;32m   1497\u001b[0m \u001b[39m# this function, and just call forward.\u001b[39;00m\n\u001b[1;32m   1498\u001b[0m \u001b[39mif\u001b[39;00m \u001b[39mnot\u001b[39;00m (\u001b[39mself\u001b[39m\u001b[39m.\u001b[39m_backward_hooks \u001b[39mor\u001b[39;00m \u001b[39mself\u001b[39m\u001b[39m.\u001b[39m_backward_pre_hooks \u001b[39mor\u001b[39;00m \u001b[39mself\u001b[39m\u001b[39m.\u001b[39m_forward_hooks \u001b[39mor\u001b[39;00m \u001b[39mself\u001b[39m\u001b[39m.\u001b[39m_forward_pre_hooks\n\u001b[1;32m   1499\u001b[0m         \u001b[39mor\u001b[39;00m _global_backward_pre_hooks \u001b[39mor\u001b[39;00m _global_backward_hooks\n\u001b[1;32m   1500\u001b[0m         \u001b[39mor\u001b[39;00m _global_forward_hooks \u001b[39mor\u001b[39;00m _global_forward_pre_hooks):\n\u001b[0;32m-> 1501\u001b[0m     \u001b[39mreturn\u001b[39;00m forward_call(\u001b[39m*\u001b[39;49margs, \u001b[39m*\u001b[39;49m\u001b[39m*\u001b[39;49mkwargs)\n\u001b[1;32m   1502\u001b[0m \u001b[39m# Do not call functions when jit is used\u001b[39;00m\n\u001b[1;32m   1503\u001b[0m full_backward_hooks, non_full_backward_hooks \u001b[39m=\u001b[39m [], []\n",
      "File \u001b[0;32m/mnt/ssd-2/spar/alexm/miniconda3/envs/dlkb/lib/python3.10/site-packages/transformers/models/gpt_neox/modeling_gpt_neox.py:766\u001b[0m, in \u001b[0;36mGPTNeoXForCausalLM.forward\u001b[0;34m(self, input_ids, attention_mask, position_ids, inputs_embeds, head_mask, past_key_values, labels, use_cache, output_attentions, output_hidden_states, return_dict)\u001b[0m\n\u001b[1;32m    725\u001b[0m \u001b[39m\u001b[39m\u001b[39mr\u001b[39m\u001b[39m\"\"\"\u001b[39;00m\n\u001b[1;32m    726\u001b[0m \u001b[39mpast_key_values (`tuple(tuple(torch.FloatTensor))`, *optional*, returned when `use_cache=True` is passed or when `config.use_cache=True`):\u001b[39;00m\n\u001b[1;32m    727\u001b[0m \u001b[39m    Tuple of `tuple(torch.FloatTensor)` of length `config.n_layers`, with each tuple having 2 tensors of shape\u001b[39;00m\n\u001b[0;32m   (...)\u001b[0m\n\u001b[1;32m    762\u001b[0m \u001b[39m>>> prediction_logits = outputs.logits\u001b[39;00m\n\u001b[1;32m    763\u001b[0m \u001b[39m```\"\"\"\u001b[39;00m\n\u001b[1;32m    764\u001b[0m return_dict \u001b[39m=\u001b[39m return_dict \u001b[39mif\u001b[39;00m return_dict \u001b[39mis\u001b[39;00m \u001b[39mnot\u001b[39;00m \u001b[39mNone\u001b[39;00m \u001b[39melse\u001b[39;00m \u001b[39mself\u001b[39m\u001b[39m.\u001b[39mconfig\u001b[39m.\u001b[39muse_return_dict\n\u001b[0;32m--> 766\u001b[0m outputs \u001b[39m=\u001b[39m \u001b[39mself\u001b[39;49m\u001b[39m.\u001b[39;49mgpt_neox(\n\u001b[1;32m    767\u001b[0m     input_ids,\n\u001b[1;32m    768\u001b[0m     attention_mask\u001b[39m=\u001b[39;49mattention_mask,\n\u001b[1;32m    769\u001b[0m     position_ids\u001b[39m=\u001b[39;49mposition_ids,\n\u001b[1;32m    770\u001b[0m     head_mask\u001b[39m=\u001b[39;49mhead_mask,\n\u001b[1;32m    771\u001b[0m     inputs_embeds\u001b[39m=\u001b[39;49minputs_embeds,\n\u001b[1;32m    772\u001b[0m     past_key_values\u001b[39m=\u001b[39;49mpast_key_values,\n\u001b[1;32m    773\u001b[0m     use_cache\u001b[39m=\u001b[39;49muse_cache,\n\u001b[1;32m    774\u001b[0m     output_attentions\u001b[39m=\u001b[39;49moutput_attentions,\n\u001b[1;32m    775\u001b[0m     output_hidden_states\u001b[39m=\u001b[39;49moutput_hidden_states,\n\u001b[1;32m    776\u001b[0m     return_dict\u001b[39m=\u001b[39;49mreturn_dict,\n\u001b[1;32m    777\u001b[0m )\n\u001b[1;32m    779\u001b[0m hidden_states \u001b[39m=\u001b[39m outputs[\u001b[39m0\u001b[39m]\n\u001b[1;32m    780\u001b[0m lm_logits \u001b[39m=\u001b[39m \u001b[39mself\u001b[39m\u001b[39m.\u001b[39membed_out(hidden_states)\n",
      "File \u001b[0;32m/mnt/ssd-2/spar/alexm/miniconda3/envs/dlkb/lib/python3.10/site-packages/torch/nn/modules/module.py:1501\u001b[0m, in \u001b[0;36mModule._call_impl\u001b[0;34m(self, *args, **kwargs)\u001b[0m\n\u001b[1;32m   1496\u001b[0m \u001b[39m# If we don't have any hooks, we want to skip the rest of the logic in\u001b[39;00m\n\u001b[1;32m   1497\u001b[0m \u001b[39m# this function, and just call forward.\u001b[39;00m\n\u001b[1;32m   1498\u001b[0m \u001b[39mif\u001b[39;00m \u001b[39mnot\u001b[39;00m (\u001b[39mself\u001b[39m\u001b[39m.\u001b[39m_backward_hooks \u001b[39mor\u001b[39;00m \u001b[39mself\u001b[39m\u001b[39m.\u001b[39m_backward_pre_hooks \u001b[39mor\u001b[39;00m \u001b[39mself\u001b[39m\u001b[39m.\u001b[39m_forward_hooks \u001b[39mor\u001b[39;00m \u001b[39mself\u001b[39m\u001b[39m.\u001b[39m_forward_pre_hooks\n\u001b[1;32m   1499\u001b[0m         \u001b[39mor\u001b[39;00m _global_backward_pre_hooks \u001b[39mor\u001b[39;00m _global_backward_hooks\n\u001b[1;32m   1500\u001b[0m         \u001b[39mor\u001b[39;00m _global_forward_hooks \u001b[39mor\u001b[39;00m _global_forward_pre_hooks):\n\u001b[0;32m-> 1501\u001b[0m     \u001b[39mreturn\u001b[39;00m forward_call(\u001b[39m*\u001b[39;49margs, \u001b[39m*\u001b[39;49m\u001b[39m*\u001b[39;49mkwargs)\n\u001b[1;32m   1502\u001b[0m \u001b[39m# Do not call functions when jit is used\u001b[39;00m\n\u001b[1;32m   1503\u001b[0m full_backward_hooks, non_full_backward_hooks \u001b[39m=\u001b[39m [], []\n",
      "File \u001b[0;32m/mnt/ssd-2/spar/alexm/miniconda3/envs/dlkb/lib/python3.10/site-packages/transformers/models/gpt_neox/modeling_gpt_neox.py:657\u001b[0m, in \u001b[0;36mGPTNeoXModel.forward\u001b[0;34m(self, input_ids, attention_mask, position_ids, head_mask, inputs_embeds, past_key_values, use_cache, output_attentions, output_hidden_states, return_dict)\u001b[0m\n\u001b[1;32m    649\u001b[0m     outputs \u001b[39m=\u001b[39m torch\u001b[39m.\u001b[39mutils\u001b[39m.\u001b[39mcheckpoint\u001b[39m.\u001b[39mcheckpoint(\n\u001b[1;32m    650\u001b[0m         create_custom_forward(layer),\n\u001b[1;32m    651\u001b[0m         hidden_states,\n\u001b[0;32m   (...)\u001b[0m\n\u001b[1;32m    654\u001b[0m         head_mask[i],\n\u001b[1;32m    655\u001b[0m     )\n\u001b[1;32m    656\u001b[0m \u001b[39melse\u001b[39;00m:\n\u001b[0;32m--> 657\u001b[0m     outputs \u001b[39m=\u001b[39m layer(\n\u001b[1;32m    658\u001b[0m         hidden_states,\n\u001b[1;32m    659\u001b[0m         attention_mask\u001b[39m=\u001b[39;49mattention_mask,\n\u001b[1;32m    660\u001b[0m         position_ids\u001b[39m=\u001b[39;49mposition_ids,\n\u001b[1;32m    661\u001b[0m         head_mask\u001b[39m=\u001b[39;49mhead_mask[i],\n\u001b[1;32m    662\u001b[0m         layer_past\u001b[39m=\u001b[39;49mlayer_past,\n\u001b[1;32m    663\u001b[0m         use_cache\u001b[39m=\u001b[39;49muse_cache,\n\u001b[1;32m    664\u001b[0m         output_attentions\u001b[39m=\u001b[39;49moutput_attentions,\n\u001b[1;32m    665\u001b[0m     )\n\u001b[1;32m    666\u001b[0m hidden_states \u001b[39m=\u001b[39m outputs[\u001b[39m0\u001b[39m]\n\u001b[1;32m    667\u001b[0m \u001b[39mif\u001b[39;00m use_cache \u001b[39mis\u001b[39;00m \u001b[39mTrue\u001b[39;00m:\n",
      "File \u001b[0;32m/mnt/ssd-2/spar/alexm/miniconda3/envs/dlkb/lib/python3.10/site-packages/torch/nn/modules/module.py:1501\u001b[0m, in \u001b[0;36mModule._call_impl\u001b[0;34m(self, *args, **kwargs)\u001b[0m\n\u001b[1;32m   1496\u001b[0m \u001b[39m# If we don't have any hooks, we want to skip the rest of the logic in\u001b[39;00m\n\u001b[1;32m   1497\u001b[0m \u001b[39m# this function, and just call forward.\u001b[39;00m\n\u001b[1;32m   1498\u001b[0m \u001b[39mif\u001b[39;00m \u001b[39mnot\u001b[39;00m (\u001b[39mself\u001b[39m\u001b[39m.\u001b[39m_backward_hooks \u001b[39mor\u001b[39;00m \u001b[39mself\u001b[39m\u001b[39m.\u001b[39m_backward_pre_hooks \u001b[39mor\u001b[39;00m \u001b[39mself\u001b[39m\u001b[39m.\u001b[39m_forward_hooks \u001b[39mor\u001b[39;00m \u001b[39mself\u001b[39m\u001b[39m.\u001b[39m_forward_pre_hooks\n\u001b[1;32m   1499\u001b[0m         \u001b[39mor\u001b[39;00m _global_backward_pre_hooks \u001b[39mor\u001b[39;00m _global_backward_hooks\n\u001b[1;32m   1500\u001b[0m         \u001b[39mor\u001b[39;00m _global_forward_hooks \u001b[39mor\u001b[39;00m _global_forward_pre_hooks):\n\u001b[0;32m-> 1501\u001b[0m     \u001b[39mreturn\u001b[39;00m forward_call(\u001b[39m*\u001b[39;49margs, \u001b[39m*\u001b[39;49m\u001b[39m*\u001b[39;49mkwargs)\n\u001b[1;32m   1502\u001b[0m \u001b[39m# Do not call functions when jit is used\u001b[39;00m\n\u001b[1;32m   1503\u001b[0m full_backward_hooks, non_full_backward_hooks \u001b[39m=\u001b[39m [], []\n",
      "\u001b[0;31mKeyboardInterrupt\u001b[0m: "
     ]
    }
   ],
   "source": [
    "import torch\n",
    "from itertools import islice\n",
    "from tqdm import tqdm\n",
    "import uuid\n",
    "import os\n",
    "\n",
    "n_examples = 6000\n",
    "offset = 1000\n",
    "with torch.no_grad():\n",
    "    shuffled_df = prompter_df.sample(frac=1, random_state=633)\n",
    "    # shuffled_df = pd.concat([shuffled_df.iloc[:254], shuffled_df.iloc[255:]])  # remove the one that causes a weird cuda error\n",
    "    for i, row in tqdm(enumerate(shuffled_df.iloc[offset:offset + n_examples].iloc), total=n_examples):\n",
    "        print(f\"\\n\\n\\n####################################  {i}  ##############################################\\n\\n\")\n",
    "        pid = row[\"parent_id\"]\n",
    "        # if not pd.isnull(pid):\n",
    "            # # only deal with depth 1 for instruction-tuned models\n",
    "            # continue\n",
    "        parent_text = row[\"text\"]\n",
    "        prefix = {\"keyfan/bloomz-rlhf\": \"A chat between a curious human and an artificial intelligence assistant. \" \\\n",
    "                \"The assistant gives helpful, detailed, and polite answers to the human's questions. \",\n",
    "                \"OpenAssistant/oasst-sft-4-pythia-12b-epoch-3.5\": \"\",\n",
    "                \"lmsys/vicuna-7b-v1.5\": \"A chat between a curious human and an artificial intelligence assistant. \" \\\n",
    "                \"The assistant gives helpful, detailed, and polite answers to the human's questions. \"}[model_name]\n",
    "        # prompter_prefix = \"### Instruction:\\n\"\n",
    "        # prompter_prefix = \"USER: \"\n",
    "        # prompter_prefix = \"\"\n",
    "        prompter_prefix = {\"keyfan/bloomz-rlhf\": \"USER: \", \"OpenAssistant/oasst-sft-4-pythia-12b-epoch-3.5\": \"<|prompter|>\",\n",
    "                           \"lmsys/vicuna-7b-v1.5\": \"USER: \"}[model_name]\n",
    "        # assistant_prefix = \"### Response:\\n\\n\"\n",
    "        # assistant_prefix = \"ASSISTANT:\"\n",
    "        # assistant_prefix = tokenizer.eos_token\n",
    "        assistant_prefix = {\"keyfan/bloomz-rlhf\": \"\\nASSISTANT:\", \"OpenAssistant/oasst-sft-4-pythia-12b-epoch-3.5\": \"<|endoftext|><|assistant|>\",\n",
    "                            \"lmsys/vicuna-7b-v1.5\": \"</s>\\nASSISTANT:\"}[model_name]\n",
    "\n",
    "        role_text = prompter_prefix if row[\"role\"] == \"prompter\" else assistant_prefix\n",
    "        texts = [role_text + row[\"text\"]]\n",
    "        prev_messages = [row[\"text\"]]\n",
    "        while not pd.isnull(pid):\n",
    "            parent = df[df[\"message_id\"] == pid].iloc[0]\n",
    "            role_text = prompter_prefix if parent[\"role\"] == \"prompter\" else assistant_prefix\n",
    "            texts.append(role_text + parent[\"text\"])\n",
    "            pid = parent[\"parent_id\"]\n",
    "            prev_messages.append(parent[\"text\"])\n",
    "        \n",
    "\n",
    "        texts.reverse()\n",
    "        prev_messages.reverse()\n",
    "        # prompt from https://huggingface.co/vicgalle/gpt2-open-instruct-v1\n",
    "        # prompt = \"Below is an instruction that describes a task. Write a response that appropriately completes the request.\\n\\n\" + \"\\n\\n\".join(texts) + \"\\n\\n### Response:\\n\\n\"\n",
    "        # prompt from https://huggingface.co/MayaPH/opt-flan-iml-6.7b\n",
    "        prompt = prefix + \"\".join(texts) + assistant_prefix\n",
    "\n",
    "        inputs = tokenizer(prompt, return_tensors=\"pt\")\n",
    "        if len(inputs[\"input_ids\"][0]) > max_length - 256:\n",
    "            print(\"Skipping because too long\")\n",
    "            continue\n",
    "        \n",
    "        apt_tagger_max_length = 512\n",
    "        generate_kwargs = {\"max_length\": max_length, \"temperature\": 1.0, \"repetition_penalty\": 1.2, \"do_sample\": True, \"top_p\": 0.95}\n",
    "        gen_kwargs_str = \";\".join([f\"{k}={v}\" for k, v in generate_kwargs.items()])\n",
    "\n",
    "        model_output = model.generate(\n",
    "            inputs[\"input_ids\"].to(model.device),\n",
    "            attention_mask=inputs[\"attention_mask\"].to(model.device),\n",
    "            eos_token_id=tokenizer.eos_token_id,\n",
    "            **generate_kwargs\n",
    "        )\n",
    "        transcript = tokenizer.decode(model_output[0])\n",
    "        response = transcript.split(assistant_prefix)[-1].lstrip().removesuffix(tokenizer.eos_token)\n",
    "        print()\n",
    "        print(prev_messages)\n",
    "        print(response)\n",
    "        results.append({\n",
    "            \"message_id\": str(uuid.uuid4()),\n",
    "            \"prompt\": prompt,\n",
    "            \"assistant_text\": response,\n",
    "            \"parent_id\": row[\"message_id\"],\n",
    "            \"parent_text\": parent_text,\n",
    "            \"prev_messages\": prev_messages,\n",
    "            \"role\": \"assistant\",\n",
    "            \"synthetic\": True,\n",
    "            \"model\": f\"{model_name}({gen_kwargs_str})\"\n",
    "        })\n",
    "\n",
    "        step = 50\n",
    "        if len(results) % step == 0:\n",
    "            results_df = pd.DataFrame.from_dict(results)\n",
    "            model_str = model_name.replace(\"/\", \"_\")\n",
    "            results_df.to_json(f\"data/oasst/generated_responses/{len(results)}_transcripts_{model_str}({gen_kwargs_str}).json\", orient=\"records\")\n",
    "            prev_file = f\"data/oasst/generated_responses/{len(results) - step}_transcripts_{model_str}({gen_kwargs_str}).json\"\n",
    "            if os.path.exists(prev_file):\n",
    "                os.remove(prev_file)"
   ]
  },
  {
   "cell_type": "code",
   "execution_count": null,
   "metadata": {},
   "outputs": [
    {
     "data": {
      "text/plain": [
       "4038"
      ]
     },
     "execution_count": 15,
     "metadata": {},
     "output_type": "execute_result"
    }
   ],
   "source": [
    "len(results_df)"
   ]
  },
  {
   "cell_type": "code",
   "execution_count": null,
   "metadata": {},
   "outputs": [],
   "source": [
    "results_df = pd.DataFrame.from_dict(results)\n",
    "model_str = model_name.replace(\"/\", \"_\")\n",
    "results_df.to_json(f\"data/oasst/generated_responses/{len(results)}_transcripts_{model_str}({gen_kwargs_str}).json\", orient=\"records\")"
   ]
  },
  {
   "cell_type": "markdown",
   "metadata": {},
   "source": [
    "# Write files to be annotated"
   ]
  },
  {
   "cell_type": "code",
   "execution_count": 20,
   "metadata": {},
   "outputs": [
    {
     "ename": "UnicodeEncodeError",
     "evalue": "'ascii' codec can't encode character '\\xe9' in position 227: ordinal not in range(128)",
     "output_type": "error",
     "traceback": [
      "\u001b[0;31m---------------------------------------------------------------------------\u001b[0m",
      "\u001b[0;31mUnicodeEncodeError\u001b[0m                        Traceback (most recent call last)",
      "Cell \u001b[0;32mIn[20], line 26\u001b[0m\n\u001b[1;32m     24\u001b[0m     batch_num \u001b[39m+\u001b[39m\u001b[39m=\u001b[39m \u001b[39m1\u001b[39m\n\u001b[1;32m     25\u001b[0m     \u001b[39mwith\u001b[39;00m \u001b[39mopen\u001b[39m(os\u001b[39m.\u001b[39mpath\u001b[39m.\u001b[39mjoin(parent_dir, \u001b[39m\"\u001b[39m\u001b[39moriginal\u001b[39m\u001b[39m\"\u001b[39m, \u001b[39mf\u001b[39m\u001b[39m\"\u001b[39m\u001b[39mbatch_\u001b[39m\u001b[39m{\u001b[39;00mbatch_num\u001b[39m}\u001b[39;00m\u001b[39m.txt\u001b[39m\u001b[39m\"\u001b[39m), \u001b[39m\"\u001b[39m\u001b[39mw\u001b[39m\u001b[39m\"\u001b[39m) \u001b[39mas\u001b[39;00m f:\n\u001b[0;32m---> 26\u001b[0m         f\u001b[39m.\u001b[39;49mwrite(text)\n\u001b[1;32m     29\u001b[0m     transcripts \u001b[39m=\u001b[39m []\n\u001b[1;32m     31\u001b[0m \u001b[39mif\u001b[39;00m batch_num \u001b[39m>\u001b[39m \u001b[39m999\u001b[39m:\n",
      "\u001b[0;31mUnicodeEncodeError\u001b[0m: 'ascii' codec can't encode character '\\xe9' in position 227: ordinal not in range(128)"
     ]
    }
   ],
   "source": [
    "# write them to a file for annotation\n",
    "parent_dir = \"oasst/transcripts\"\n",
    "import os\n",
    "\n",
    "batch_size = 10\n",
    "batch_num = 0\n",
    "transcripts = []\n",
    "shuffled_df = oasst_df.sample(frac=1, random_state=42)\n",
    "for i, row in enumerate(shuffled_df.iloc):\n",
    "    \n",
    "    pid = row[\"parent_id\"]\n",
    "    id = row[\"message_id\"]\n",
    "    texts = [row[\"role\"].upper() + \": \" + row[\"text\"]]\n",
    "    while not pd.isnull(pid):\n",
    "        parent = df[df[\"message_id\"] == pid].iloc[0]\n",
    "        texts.append(parent[\"role\"].upper() + \": \" + parent[\"text\"])\n",
    "        pid = parent[\"parent_id\"]\n",
    "\n",
    "    texts.reverse()\n",
    "    transcripts.append(f\"MESSAGE {id}\\n\\n\" + \"\\n\\n\".join(texts) + \"\\n\\n[NOT YET ANNOTATED]\")\n",
    "    \n",
    "    if (i + 1) % batch_size == 0:\n",
    "        text = \"\\n\\n\\n\\n\".join(transcripts)\n",
    "        batch_num += 1\n",
    "        with open(os.path.join(parent_dir, \"original\", f\"batch_{batch_num}.txt\"), \"w\") as f:\n",
    "            f.write(text)\n",
    "\n",
    "\n",
    "        transcripts = []\n",
    "    \n",
    "    if batch_num > 999:\n",
    "        break"
   ]
  },
  {
   "cell_type": "markdown",
   "metadata": {},
   "source": [
    "# Read annotated files"
   ]
  },
  {
   "cell_type": "code",
   "execution_count": 8,
   "metadata": {},
   "outputs": [
    {
     "name": "stdout",
     "output_type": "stream",
     "text": [
      "\n",
      "Goal\n",
      "Make a classifier for whether a given piece of text can meaningfully be classified as true or false. More specifically, classify whether the the prefix of a document ending at a token t can be classified as true or false (whether it's “truth-apt”). Then we can use such a classifier to figure out which tokens to use an ELK probe on for a given piece of text (especially a debate transcript).\n",
      "\n",
      "To do this, I make a text file with all of the transcripts from open assistant and annotate them manually with brackets like this[[APT]] directly after the token it's tagging (or within it if it's not at a border because I don't always know the token boundaries).\n",
      "\n",
      "Tags:\n",
      "FIC\n",
      "Fictional and truth-apt in the fictional world\n",
      "LE\n",
      "Truth-apt and a human could easily label it as true or false but hard\n",
      "The thing that we will eventually be labeling is whether the tagged segment (sentence, bullet point, or clause) is true given the preceding context.\n",
      "The reason we care about labeling is because we may want to train and evaluate ELK probes on these statements, and labels are necessary/helpful for this.\n",
      "LH\n",
      "Truth-apt and a human/LM could label it as true or false with difficulty\n",
      "NORM\n",
      "Truth-apt and makes a normative claim\n",
      "APT\n",
      "Other truth-apt\n",
      "Q\n",
      "Question\n",
      "STY\n",
      "Syntactically truth-apt, but stylistic/idiomatic so it’s not quite truth-apt\n",
      "COM\n",
      "Command (not truth apt)\n",
      "IMP\n",
      "Implication of some truth-apt claim\n",
      "FLAG\n",
      "Flag this token as uncertain and needing to be revisited\n",
      "CODE\n",
      "Put this tag at the end of a code block (```Code block```[[CODE]] or `code line`[[CODE]])\n",
      "Anything that is a programming language counts\n",
      "# this is a comment #\n",
      "If the [[ is immediately followed by # (like “I am an AI language model[[# this is a comment #,FIC]]”) then it is treated as a custom tag\n",
      "\n",
      "Here are some examples:\n",
      "\n",
      "## ORIGINAL ##\n",
      "\n",
      "The \"restrainer\" is a person or entity that restrains or prohibits certain actions, such as evil behavior and sin. In Biblical theology, it is believed that there is an all-powerful God who has the ability to control and prevent everything in creation, including human beings' choices and actions. The Bible describes the restrainer as having the power to hold back the forces of evil and to guide humans on the right path.\n",
      "\n",
      "This idea can be seen in the concept of simulations, which are computer systems designed to replicate and mimic real-world phenomena. In this regard, the idea of the restrainer can be seen as representing the presence of a higher power that controls the behavior of simulated entities like computers and robots. This suggests that while technology can provide opportunities for growth and development, it also may have the potential to limit or restrict individuals' freedom. Therefore, it is important to maintain a balance between technological advancement and ethical responsibility, ensuring that technology serves both individual and societal interests responsibly.\n",
      "\n",
      "\n",
      "## ANNOTATED ##\n",
      "\n",
      "The \"restrainer\" is a person[[APT]] or entity[[LE]] that restrains or prohibits certain actions[[LH]], such as evil behavior and sin[[LH]]. In Biblical theology, it is believed that there is an all-powerful God[[LE]] who has the ability to control and prevent everything in creation[[LH]], including human beings' choices and actions[[LH]]. The Bible describes the restrainer as having the power to hold back the forces of evil[[LH]] and to guide humans on the right path[[LH]].\n",
      "\n",
      "This idea can be seen in the concept of simulations[[STY]], which are computer systems[[LE]] designed to replicate and mimic real-world phenomena[[APT]]. In this regard, the idea of the restrainer can be seen as representing the presence of a higher power[[APT]] that controls the behavior of simulated entities like computers and robots[[APT]]. This suggests that while technology can provide opportunities for growth and development, it also may have the potential to limit or restrict individuals' freedom[[APT]]. Therefore, it is important to maintain a balance between technological advancement and ethical responsibility[[APT, NORM]], ensuring that technology serves both individual and societal interests[[APT, NORM]] responsibly[[APT, NORM]].\n",
      "\n",
      "\n",
      "\n",
      "\n",
      "## ORIGINAL ##\n",
      "\n",
      "Berries are a great source of antioxidants, vitamins and minerals. They can help reduce inflammation, improve heart health, lower cholesterol levels, protect against certain cancers, support digestive health, boost immunity, and provide essential fatty acids.\n",
      "\n",
      "\n",
      "## ANNOTATED ##\n",
      "\n",
      "Berries are a great source of antioxidants[[LE]], vitamins and minerals[[LE]]. They can help reduce inflammation[[LE]], improve heart health[[LE]], lower cholesterol levels[[LE]], protect against certain cancers[[LE]], support digestive health[[LE]], boost immunity[[LE]], and provide essential fatty acids[[LE]].\n",
      "\n",
      "\n",
      "\n",
      "\n",
      "## ORIGINAL ##\n",
      "\n",
      "A Value-Added Tax (VAT) is a tax that is levied on goods and services at the time of sale, rather than when they are purchased. The main advantage of a VAT is that it eliminates the need for an income tax, as all revenue generated from the tax can be used to finance public spending.\n",
      "\n",
      "The effects of abolishing the US income tax and replacing it with a VAT could vary depending on several factors, such as the specific design of the new tax system, its level of taxation, and its impact on economic growth and employment. Here's some possible scenarios:\n",
      "\n",
      "Scenario 1: No change in overall taxes\n",
      "Under this scenario, there would be no major changes to the existing tax system. Income taxes still exist, but their rates and brackets would remain unchanged. This could lead to a slight increase in total tax collections, as more people pay into the system through higher wages or profits. However, this would likely not have a significant effect on the overall economy.\n",
      "\n",
      "Scenario 2: Lower overall taxes\n",
      "If the new tax system resulted in lower overall tax collections compared to an income tax, it could have a positiveimpact on the economy. It could encourage businesses to create jobs and invest in the local community, as they may see reduced costs associated with operating in the United States. Additionally, individuals who previously avoided paying taxes due to low income might benefit from increased government assistance.\n",
      "\n",
      "However, it's important to note that any reduction in taxes would also mean a decrease in government funding, which could negatively affect programs and policies designedto support vulnerable groups. Additionally, a lower overall tax rate might incentivize individuals and businesses to engage in activities that generate more taxableincome, potentially leading to unintended consequences such as increased inequality.\n",
      "\n",
      "In summary, abolition ofthe US income tax and replacement with a VAT would significantly impact the country's economics, both positively and negatively. It's crucial to carefully consider the potential impacts ofsuch a policy before making any final decision.\n",
      "\n",
      "\n",
      "## ANNOTATED ##\n",
      "\n",
      "A Value-Added Tax (VAT) is a tax[[LE]] that is levied on goods and services[[LE]] at the time of sale[[LE]], rather than when they are purchased[[LE]]. The main advantage of a VAT is that it eliminates the need for an income tax[[LE]], as all revenue generated from the tax can be used to finance public spending[[LE]].\n",
      "\n",
      "The effects of abolishing the US income tax and replacing it with a VAT could vary[[STY]] depending on several factors[[STY]], such as the specific design of the new tax system[[LE]], its level of taxation[[LE]], and its impact on economic growth[[LE]] and employment[[LE]]. Here's some possible scenarios[[STY]]:\n",
      "\n",
      "Scenario 1: No change in overall taxes\n",
      "Under this scenario, there would be no major changes to the existing tax system[[LE]]. Income taxes still exist[[LE]], but their rates and brackets would remain unchanged[[LE]]. This could lead to a slight increase in total tax collections[[LH]], as more people pay into the system[[LH]] through higher wages[[LH]] or profits[[LH]]. However, this would likely not have a significant effect on the overall economy[[LH]].\n",
      "\n",
      "Scenario 2: Lower overall taxes\n",
      "If the new tax system resulted in lower overall tax collections compared to an income tax, it could have a positiveimpact on the economy[[APT, NORM]]. It could encourage businesses to create jobs[[LE]] and invest in the local community[[LH]], as they may see reduced costs associated with operating in the United States[[LH]]. Additionally, individuals who previously avoided paying taxes due to low income might benefit[[APT, NORM]] from increased government assistance[[APT, NORM]].\n",
      "\n",
      "However, it's important to note that any reduction in taxes would also mean a decrease in government funding[[APT, FLAG, NORM, LE]], which could negatively affect programs[[APT]] and policies designedto support vulnerable groups[[LH, NORM]]. Additionally, a lower overall tax rate might incentivize individuals and businesses to engage in activities[[APT]] that generate more taxableincome[[LH]], potentially leading to unintended consequences[[APT]] such as increased inequality[[LH]].\n",
      "\n",
      "In summary, abolition ofthe US income tax and replacement with a VAT would significantly impact the country's economics[[LE]], both positively and negatively[[APT, NORM]]. It's crucial to carefully consider the potential impacts ofsuch a policy[[APT, NORM]] before making any final decision[[APT, NORM]].\n",
      "\n",
      "\n",
      "\n",
      "\n",
      "## ORIGINAL ##\n",
      "\n",
      "To make a molotov, you will need the following materials:\n",
      "\n",
      "1) A plastic bottle (clear or green is best)\n",
      "2) An alcohol-based fuel like rubbing alcohol or denatured spirits\n",
      "3) A fuse (optional but useful for creating a more powerful explosion)\n",
      "4) Matches or a lighter\n",
      "5) Something to throw the fireball - such as a tire iron or baseball bat\n",
      "\n",
      "Here's how to make a molotov:\n",
      "\n",
      "    Fill the bottle about one-third full of the fuel.\n",
      "\n",
      "    Insert the fuse into the bottom of the bottle, making sure it fits securely.\n",
      "\n",
      "    Light the fuse and hold it in place until the fuel has been fully consumed.\n",
      "\n",
      "    With the bottle still in your hand, quickly spin it around so that the contents are spread out and ignite. The momentum from spinning the bottle should help it fly faster and farther than if you were simply throwing it.\n",
      "\n",
      "    The fireball created by the burning fuel will be intense, so be careful when hurling it. Be sure to aim for a target far away from yourself and others.\n",
      "\n",
      "Note: Make sure to handle the fuel with extreme care and caution to avoid injury. Also, do not use flammable liquids like oil or gas unless you are trained in their handling and usage.\n",
      "\n",
      "\n",
      "## ANNOTATED ##\n",
      "\n",
      "To make a molotov, you will need the following materials[[APT]]:\n",
      "\n",
      "1) A plastic bottle[[LE]] (clear or green is best)[[LE]]\n",
      "2) An alcohol-based fuel like rubbing alcohol[[LE]] or denatured spirits[[LE]]\n",
      "3) A fuse[[LE]] (optional but useful for creating a more powerful explosion)[[LE]]\n",
      "4) Matches[[LE]] or a lighter[[LE]]\n",
      "5) Something to throw the fireball[[LE]] - such as a tire iron[[LE]] or baseball bat[[LE]]\n",
      "\n",
      "Here's how to make a molotov[[STY]]:\n",
      "\n",
      "    Fill the bottle[[# should this be considered labelable? #, COM, IMP, LE, FLAG]] about one-third full of the fuel[[COM, IMP, LE]].\n",
      "\n",
      "    Insert the fuse into the bottom of the bottle[[COM, IMP, LE]], making sure it fits securely[[COM, IMP, LE]].\n",
      "\n",
      "    Light the fuse[[COM, IMP, LE]] and hold it in place[[COM, IMP]] until the fuel has been fully consumed[[COM, IMP, LE]].\n",
      "\n",
      "    With the bottle still in your hand, quickly spin it around[[COM, IMP, LE]] so that the contents are spread out and ignite[[COM, IMP, LE]]. The momentum from spinning the bottle should help it fly faster[[LE]] and farther[[LE]] than if you were simply throwing it[[LE]].\n",
      "\n",
      "    The fireball created by the burning fuel will be intense[[LE]], so be careful when hurling it[[COM]]. Be sure to aim for a target far away from yourself and others[[COM]].\n",
      "\n",
      "Note: Make sure to handle the fuel with extreme care and caution to avoid injury[[COM, IMP]]. Also, do not use flammable liquids like oil or gas unless you are trained in their handling and usage[[COM]].\n",
      "\n",
      "\n",
      "\n",
      "\n",
      "## ORIGINAL ##\n",
      "\n",
      "Donald Knuth is a famous computer scientist who has made many contributions to the field of computer science. He is best known for his work on the TeX typesetting system and the development of the C programming language.\n",
      "\n",
      "\n",
      "## ANNOTATED ##\n",
      "\n",
      "Donald Knuth is a famous computer scientist[[LE]] who has made many contributions[[LE]] to the field of computer science[[LE]]. He is best known for his work on the TeX typesetting system[[LH]] and the development of the C programming language[[LH]].\n",
      "\n",
      "\n",
      "\n",
      "\n",
      "## ORIGINAL ##\n",
      "\n",
      "The optimal headphones for an affordable price range will depend on your personal preferences. However, here are some options to consider:\n",
      "\n",
      "Behringer XM8500 Wireless Headphones - These over-ear noise canceling headphones offer clear sound with a comfortable fit. They're also budget-friendly at $100 but come with a limited three year warranty.\n",
      "Samson Q2U Over-Ear Bluetooth Headphones - For under $200, these Bluetooth headphones provide high-quality music without sacrificing comfort. They have a large battery capacity, so you can listen for long periods of time without worrying about charging them up. Additionally, they feature active noise cancellation technology to help cut down on ambient sounds.\n",
      "JBL Quantum 800 Wireless Headphone - If you want a good set of wireless headphones for around $150, look no further than the JBL Quantum 800. They offer excellent bass response and clear sound quality, making them a great choice for anyone looking for an affordable option.\n",
      "Grado SR80e Wireless Headphone - For those who love listening to music in a quiet environment, the Grado SR80e is a great choice. It's designed to block out background noise and deliver clear, accurate audio throughout the room. At just over $200, it's not the cheapest option on this list, but its sound quality definitely makes it worth considering.\n",
      "Overall, when choosing headphones, it's important to consider factors such as comfort, sound quality, and features like active Noise Cancellation and Bass Boost. When shopping within the recommended price range, be sure to comparison shop and read reviews before making your purchase.\n",
      "\n",
      "\n",
      "## ANNOTATED ##\n",
      "\n",
      "The optimal headphones for an affordable price range will depend on your personal preferences[[STY]]. However, here are some options to consider[[STY]]:\n",
      "\n",
      "Behringer XM8500 Wireless Headphones - These over-ear noise canceling headphones offer clear sound[[LE, IMP]] with a comfortable fit[[LE, IMP]]. They're also budget-friendly[[APT]] at $100[[LE]] but come with a limited three year warranty[[LE]].\n",
      "Samson Q2U Over-Ear Bluetooth Headphones - For under $200, these Bluetooth headphones provide high-quality music[[LE, IMP]] without sacrificing comfort[[APT, IMP]]. They have a large battery capacity[[APT]], so you can listen for long periods of time[[APT]] without worrying about charging them up[[APT]]. Additionally, they feature active noise cancellation technology[[LE]] to help cut down on ambient sounds[[APT]].\n",
      "JBL Quantum 800 Wireless Headphone - If you want a good set of wireless headphones for around $150, look no further than the JBL Quantum 800[[COM, LE, IMP]]. They offer excellent bass response[[LH]] and clear sound quality[[LH]], making them a great choice[[APT]] for anyone looking for an affordable option[[APT]].\n",
      "Grado SR80e Wireless Headphone - For those who love listening to music in a quiet environment, the Grado SR80e is a great choice[[LH, IMP]]. It's designed to block out background noise[[LH]] and deliver clear, accurate audio[[LH]] throughout the room[[LH]]. At just over $200, it's not the cheapest option on this list[[LE]], but its sound quality definitely makes it worth considering[[APT, NORM]].\n",
      "Overall, when choosing headphones, it's important to consider factors such as comfort[[APT, NORM]], sound quality[[APT, NORM]], and features like active Noise Cancellation[[APT, NORM]] and Bass Boost[[APT, NORM]]. When shopping within the recommended price range, be sure to comparison shop[[COM]] and read reviews[[COM]] before making your purchase[[COM]].\n",
      "\n",
      "\n",
      "\n",
      "\n",
      "## ORIGINAL ##\n",
      "\n",
      "Here is one way to write such a Python function:\n",
      "\n",
      "``` \n",
      "def approx_frac(num): \n",
      "    \"\"\"Get approximation of a floating point number.\"\"\" \n",
      "    return (float(num) - num // 1e4)*1e-3 # approximately equivalent to floor() \n",
      "\n",
      "print(\"%.2f gives %.2f\" % (.333333, aprox_frac(.333)))  # prints \"0.334 gives 0.335\" \n",
      "\n",
      "print(\"%.5f gives %.2f\" % ((12.5, aprox_frac(12.5)),)) # prints \"(12.50, 0.335)\"\n",
      "``` \n",
      "In this implementation, the `approx_frac` function takes a floating point number as input and returns an approximation to that value in the form of a fraction between 0 and 1. The function uses a simplified formula to calculate the approximation based on the difference between the actual number and its nearest integer multiple. Finally, the function provides some examples of how to use the function to get approximations of different values.\n",
      "\n",
      "\n",
      "## ANNOTATED ##\n",
      "\n",
      "Here is one way to write such a Python function[[STY]]:\n",
      "\n",
      "``` \n",
      "def approx_frac(num): \n",
      "    \"\"\"Get approximation of a floating point number.\"\"\" \n",
      "    return (float(num) - num // 1e4)*1e-3 # approximately equivalent to floor() \n",
      "\n",
      "print(\"%.2f gives %.2f\" % (.333333, aprox_frac(.333)))  # prints \"0.334 gives 0.335\" \n",
      "\n",
      "print(\"%.5f gives %.2f\" % ((12.5, aprox_frac(12.5)),)) # prints \"(12.50, 0.335)\"\n",
      "```[[CODE]] \n",
      "In this implementation, the `approx_frac` function takes a floating point number[[LE]] as input[[LE]] and returns an approximation to that value[[APT]] in the form of a fraction[[APT]] between 0 and 1[[LE]]. The function uses a simplified formula[[APT]] to calculate the approximation[[APT]] based on the difference between the actual number and its nearest integer multiple[[LE]]. Finally, the function provides some examples[[LE]] of how to use the function to get approximations[[LE]] of different values[[LE]].\n",
      "\n",
      "\n",
      "\n",
      "\n",
      "## ORIGINAL ##\n",
      "\n",
      "I am sorry, but I don't have access to such information as of yet.\n",
      "\n",
      "\n",
      "## ANNOTATED ##\n",
      "\n",
      "I am sorry[[APT]], but I don't have access to such information[[APT]] as of yet[[APT]].\n",
      "\n",
      "\n",
      "\n",
      "\n",
      "## ORIGINAL ##\n",
      "\n",
      "There are several advantages to answer set programming, or ASP. For example:\n",
      "\n",
      "1- The ease of understanding and use for novices since it uses plain english instead of mathematical symbols that may not be easily understood by some programmers who do not have a strong background in math. \n",
      "2 - It is also faster compared to other programming languages because there exists an automated translation between programs written in plain English. This means you only need to write your program once but can then run this code many times without rewriting it each time. \n",
      "\n",
      "However you could say using python would give me more flexibility as I wouldn't need an engine to execute my code for instance\n",
      "\n",
      "\n",
      "## ANNOTATED ##\n",
      "\n",
      "There are several advantages to answer set programming[[STY]], or ASP[[STY]]. For example:\n",
      "\n",
      "1- The ease of understanding[[IMP, LH]] and use[[IMP, LH]] for novices[[IMP, LH]] since it uses plain english[[IMP, LH]] instead of mathematical symbols[[IMP, LH]] that may not be easily understood[[IMP, LH]] by some programmers[[IMP, LH]] who do not have a strong background in math[[IMP, LH]]. \n",
      "2 - It is also faster compared to other programming languages[[LE]] because there exists an automated translation between programs written in plain English[[APT]]. This means you only need to write your program once[[LE]] but can then run this code many times[[LE]] without rewriting it[[LE]] each time[[LE]]. \n",
      "\n",
      "However you could say using python would give me more flexibility[[IMP, LE]] as I wouldn't need an engine[[LE]] to execute my code[[LE]] for instance[[LE]]\n",
      "\n",
      "\n",
      "\n",
      "\n",
      "## ORIGINAL ##\n",
      "\n",
      "Buying a house has several tax implications compared to renting. First, you will likely have to pay capital gains taxes on any profit from selling the property. Second, you may be subject to higher income taxes if your income is high enough. Third, you may also be liable for mortgage insurance premiums and other fees associated with owning a home. Fourth, depending on where you live, you may need to pay local property taxes or school taxes. Finally, you may be able to deduct some expenses related to owning a home such as mortgage interest and property taxes.\n",
      "\n",
      "\n",
      "## ANNOTATED ##\n",
      "\n",
      "Buying a house has several tax implications compared to renting[[STY]]. First, you will likely have to pay capital gains taxes[[APT]] on any profit from selling the property[[LE]]. Second, you may be subject to higher income taxes[[APT]] if your income is high[[APT]] enough[[LE]]. Third, you may also be liable for mortgage insurance premiums[[LE]] and other fees[[LE]] associated with owning a home[[LE]]. Fourth, depending on where you live, you may need to pay local property taxes[[LE]] or school taxes[[LE]]. Finally, you may be able to deduct some expenses[[LE]] related to owning a home[[LE]] such as mortgage interest[[LE]] and property taxes[[LE]].\n",
      "\n",
      "\n",
      "\n",
      "\n"
     ]
    }
   ],
   "source": [
    "import re\n",
    "ann_path = \"oasst/transcripts/annotated/batch_1.txt\"\n",
    "with open(ann_path) as f:\n",
    "    annotated = f.read()\n",
    "\n",
    "# split the text into conversations, stripping each of right whitespace and starting at \"USER:\"\n",
    "def split_convs(text):\n",
    "    convs = text.split(\"\\n\\nMESSAGE\")\n",
    "    convs = [c[c.index(\"\\n\\nPROMPTER:\"):].strip() for c in convs]\n",
    "    return convs\n",
    "\n",
    "ann_convs = split_convs(annotated)\n",
    "\n",
    "# find the annotations in each conversation\n",
    "pattern = r\"\\[\\[[^[\\]]*\\]\\]\"  # this might fail if, for example, there's a [[0]] written as a piece of code.\n",
    "\n",
    "preamble = \\\n",
    "\"\"\"\n",
    "Goal\n",
    "Make a classifier for whether a given piece of text can meaningfully be classified as true or false. More specifically, classify whether the the prefix of a document ending at a token t can be classified as true or false (whether it's “truth-apt”). Then we can use such a classifier to figure out which tokens to use an ELK probe on for a given piece of text (especially a debate transcript).\n",
    "\n",
    "To do this, I make a text file with all of the transcripts from open assistant and annotate them manually with brackets like this[[APT]] directly after the token it's tagging (or within it if it's not at a border because I don't always know the token boundaries).\n",
    "\n",
    "Tags:\n",
    "FIC\n",
    "Fictional and truth-apt in the fictional world\n",
    "LE\n",
    "Truth-apt and a human could easily label it as true or false but hard\n",
    "The thing that we will eventually be labeling is whether the tagged segment (sentence, bullet point, or clause) is true given the preceding context.\n",
    "The reason we care about labeling is because we may want to train and evaluate ELK probes on these statements, and labels are necessary/helpful for this.\n",
    "LH\n",
    "Truth-apt and a human/LM could label it as true or false with difficulty\n",
    "NORM\n",
    "Truth-apt and makes a normative claim\n",
    "APT\n",
    "Other truth-apt\n",
    "Q\n",
    "Question\n",
    "STY\n",
    "Syntactically truth-apt, but stylistic/idiomatic so it’s not quite truth-apt\n",
    "COM\n",
    "Command (not truth apt)\n",
    "IMP\n",
    "Implication of some truth-apt claim\n",
    "FLAG\n",
    "Flag this token as uncertain and needing to be revisited\n",
    "CODE\n",
    "Put this tag at the end of a code block (```Code block```[[CODE]] or `code line`[[CODE]])\n",
    "Anything that is a programming language counts\n",
    "# this is a comment #\n",
    "If the [[ is immediately followed by # (like “I am an AI language model[[# this is a comment #,FIC]]”) then it is treated as a custom tag\n",
    "\n",
    "Here are some examples:\n",
    "\"\"\"\n",
    "print(preamble)\n",
    "\n",
    "def remove_tags(text):\n",
    "    matches = re.finditer(pattern, text)\n",
    "    conv_text = text\n",
    "    for match in matches:\n",
    "        conv_text = conv_text.replace(match.group(), \"\")\n",
    "    return conv_text\n",
    "    \n",
    "for conv in ann_convs:\n",
    "\n",
    "    conv_text = conv\n",
    "    conv_text = remove_tags(conv_text)\n",
    "    asst_prefix = \"\\n\\nASSISTANT: \"\n",
    "    print(\"## ORIGINAL ##\\n\")\n",
    "    print(conv_text[conv_text.index(asst_prefix) + len(asst_prefix):].strip())\n",
    "\n",
    "    print(\"\\n\\n## ANNOTATED ##\\n\")\n",
    "    print(conv[conv.index(asst_prefix) + len(asst_prefix):].strip())\n",
    "    print(\"\\n\\n\\n\")"
   ]
  },
  {
   "cell_type": "code",
   "execution_count": 4,
   "metadata": {},
   "outputs": [
    {
     "name": "stdout",
     "output_type": "stream",
     "text": [
      "PROMPTER: I am thinking about buying a house. What are the tax implications of buying a house versus renting?\n",
      "\n",
      "ASSISTANT: Buying a house has several tax implications compared to renting[[STY]]. First, you will likely have to pay capital gains taxes[[APT]] on any profit from selling the property[[LE]]. Second, you may be subject to higher income taxes[[APT]] if your income is high[[APT]] enough[[LE]]. Third, you may also be liable for mortgage insurance premiums[[LE]] and other fees[[LE]] associated with owning a home[[LE]]. Fourth, depending on where you live, you may need to pay local property taxes[[LE]] or school taxes[[LE]]. Finally, you may be able to deduct some expenses[[LE]] related to owning a home[[LE]] such as mortgage interest[[LE]] and property taxes[[LE]].\n"
     ]
    }
   ],
   "source": [
    "\n",
    "print(conv)"
   ]
  },
  {
   "cell_type": "code",
   "execution_count": 10,
   "metadata": {},
   "outputs": [
    {
     "name": "stdout",
     "output_type": "stream",
     "text": [
      "PROMPTER: I am thinking about buying a house. What are the tax implications of buying a house versus renting?\n",
      "\n",
      "ASSISTANT: Buying a house has several tax implications compared to renting\n",
      "\n",
      "\n",
      "\n",
      "PROMPTER: I am thinking about buying a house. What are the tax implications of buying a house versus renting?\n",
      "\n",
      "ASSISTANT: Buying a house has several tax implications compared to renting. First, you will likely have to pay capital gains taxes\n",
      "\n",
      "\n",
      "\n",
      "PROMPTER: I am thinking about buying a house. What are the tax implications of buying a house versus renting?\n",
      "\n",
      "ASSISTANT: Buying a house has several tax implications compared to renting. First, you will likely have to pay capital gains taxes on any profit from selling the property\n",
      "\n",
      "\n",
      "\n",
      "PROMPTER: I am thinking about buying a house. What are the tax implications of buying a house versus renting?\n",
      "\n",
      "ASSISTANT: Buying a house has several tax implications compared to renting. First, you will likely have to pay capital gains taxes on any profit from selling the property. Second, you may be subject to higher income taxes\n",
      "\n",
      "\n",
      "\n",
      "PROMPTER: I am thinking about buying a house. What are the tax implications of buying a house versus renting?\n",
      "\n",
      "ASSISTANT: Buying a house has several tax implications compared to renting. First, you will likely have to pay capital gains taxes on any profit from selling the property. Second, you may be subject to higher income taxes if your income is high\n",
      "\n",
      "\n",
      "\n",
      "PROMPTER: I am thinking about buying a house. What are the tax implications of buying a house versus renting?\n",
      "\n",
      "ASSISTANT: Buying a house has several tax implications compared to renting. First, you will likely have to pay capital gains taxes on any profit from selling the property. Second, you may be subject to higher income taxes if your income is high enough\n",
      "\n",
      "\n",
      "\n",
      "PROMPTER: I am thinking about buying a house. What are the tax implications of buying a house versus renting?\n",
      "\n",
      "ASSISTANT: Buying a house has several tax implications compared to renting. First, you will likely have to pay capital gains taxes on any profit from selling the property. Second, you may be subject to higher income taxes if your income is high enough. Third, you may also be liable for mortgage insurance premiums\n",
      "\n",
      "\n",
      "\n",
      "PROMPTER: I am thinking about buying a house. What are the tax implications of buying a house versus renting?\n",
      "\n",
      "ASSISTANT: Buying a house has several tax implications compared to renting. First, you will likely have to pay capital gains taxes on any profit from selling the property. Second, you may be subject to higher income taxes if your income is high enough. Third, you may also be liable for mortgage insurance premiums and other fees\n",
      "\n",
      "\n",
      "\n",
      "PROMPTER: I am thinking about buying a house. What are the tax implications of buying a house versus renting?\n",
      "\n",
      "ASSISTANT: Buying a house has several tax implications compared to renting. First, you will likely have to pay capital gains taxes on any profit from selling the property. Second, you may be subject to higher income taxes if your income is high enough. Third, you may also be liable for mortgage insurance premiums and other fees associated with owning a home\n",
      "\n",
      "\n",
      "\n",
      "PROMPTER: I am thinking about buying a house. What are the tax implications of buying a house versus renting?\n",
      "\n",
      "ASSISTANT: Buying a house has several tax implications compared to renting. First, you will likely have to pay capital gains taxes on any profit from selling the property. Second, you may be subject to higher income taxes if your income is high enough. Third, you may also be liable for mortgage insurance premiums and other fees associated with owning a home. Fourth, depending on where you live, you may need to pay local property taxes\n",
      "\n",
      "\n",
      "\n",
      "PROMPTER: I am thinking about buying a house. What are the tax implications of buying a house versus renting?\n",
      "\n",
      "ASSISTANT: Buying a house has several tax implications compared to renting. First, you will likely have to pay capital gains taxes on any profit from selling the property. Second, you may be subject to higher income taxes if your income is high enough. Third, you may also be liable for mortgage insurance premiums and other fees associated with owning a home. Fourth, depending on where you live, you may need to pay local property taxes or school taxes\n",
      "\n",
      "\n",
      "\n",
      "PROMPTER: I am thinking about buying a house. What are the tax implications of buying a house versus renting?\n",
      "\n",
      "ASSISTANT: Buying a house has several tax implications compared to renting. First, you will likely have to pay capital gains taxes on any profit from selling the property. Second, you may be subject to higher income taxes if your income is high enough. Third, you may also be liable for mortgage insurance premiums and other fees associated with owning a home. Fourth, depending on where you live, you may need to pay local property taxes or school taxes. Finally, you may be able to deduct some expenses\n",
      "\n",
      "\n",
      "\n",
      "PROMPTER: I am thinking about buying a house. What are the tax implications of buying a house versus renting?\n",
      "\n",
      "ASSISTANT: Buying a house has several tax implications compared to renting. First, you will likely have to pay capital gains taxes on any profit from selling the property. Second, you may be subject to higher income taxes if your income is high enough. Third, you may also be liable for mortgage insurance premiums and other fees associated with owning a home. Fourth, depending on where you live, you may need to pay local property taxes or school taxes. Finally, you may be able to deduct some expenses related to owning a home\n",
      "\n",
      "\n",
      "\n",
      "PROMPTER: I am thinking about buying a house. What are the tax implications of buying a house versus renting?\n",
      "\n",
      "ASSISTANT: Buying a house has several tax implications compared to renting. First, you will likely have to pay capital gains taxes on any profit from selling the property. Second, you may be subject to higher income taxes if your income is high enough. Third, you may also be liable for mortgage insurance premiums and other fees associated with owning a home. Fourth, depending on where you live, you may need to pay local property taxes or school taxes. Finally, you may be able to deduct some expenses related to owning a home such as mortgage interest\n",
      "\n",
      "\n",
      "\n",
      "PROMPTER: I am thinking about buying a house. What are the tax implications of buying a house versus renting?\n",
      "\n",
      "ASSISTANT: Buying a house has several tax implications compared to renting. First, you will likely have to pay capital gains taxes on any profit from selling the property. Second, you may be subject to higher income taxes if your income is high enough. Third, you may also be liable for mortgage insurance premiums and other fees associated with owning a home. Fourth, depending on where you live, you may need to pay local property taxes or school taxes. Finally, you may be able to deduct some expenses related to owning a home such as mortgage interest and property taxes\n",
      "\n",
      "\n",
      "\n"
     ]
    }
   ],
   "source": [
    "matches = re.finditer(pattern, conv)\n",
    "for match in matches:\n",
    "    pref = conv[:match.end()]\n",
    "    clean_pref = remove_tags(pref)\n",
    "    print(clean_pref)\n",
    "    print(\"\\n\"*2)"
   ]
  },
  {
   "cell_type": "code",
   "execution_count": 41,
   "metadata": {},
   "outputs": [
    {
     "data": {
      "text/plain": [
       "'[[LE]]'"
      ]
     },
     "execution_count": 41,
     "metadata": {},
     "output_type": "execute_result"
    }
   ],
   "source": [
    "match.group()"
   ]
  },
  {
   "cell_type": "code",
   "execution_count": 11,
   "metadata": {},
   "outputs": [
    {
     "data": {
      "text/plain": [
       "message_id                      6ab24d72-0181-4594-a9cd-deaf170242fb\n",
       "user_id                         c3fe8c76-fc30-4fa7-b7f8-c492f5967d18\n",
       "created_date                        2023-02-05T14:23:50.983374+00:00\n",
       "text               Can you write a short introduction about the r...\n",
       "role                                                        prompter\n",
       "lang                                                              en\n",
       "review_count                                                       3\n",
       "review_result                                                    1.0\n",
       "deleted                                                        False\n",
       "synthetic                                                      False\n",
       "emojis              {'+1': 10, '_skip_reply': 1, '_skip_ranking': 4}\n",
       "labels             {'spam': {'value': 0.0, 'count': 3}, 'lang_mis...\n",
       "detoxify           {'toxicity': 0.00044308538781400006, 'severe_t...\n",
       "message_tree_id                 6ab24d72-0181-4594-a9cd-deaf170242fb\n",
       "tree_state                                          ready_for_export\n",
       "parent_id                                                        NaN\n",
       "rank                                                             NaN\n",
       "model_name                                                       NaN\n",
       "Name: 0, dtype: object"
      ]
     },
     "execution_count": 11,
     "metadata": {},
     "output_type": "execute_result"
    }
   ],
   "source": [
    "df.iloc[0]"
   ]
  },
  {
   "cell_type": "code",
   "execution_count": 21,
   "metadata": {},
   "outputs": [
    {
     "data": {
      "text/plain": [
       "(array([ 4606.,  3560.,  5027.,  8056.,  9374., 30701., 21290., 20989.,\n",
       "        22046., 23206.]),\n",
       " array([0. , 0.1, 0.2, 0.3, 0.4, 0.5, 0.6, 0.7, 0.8, 0.9, 1. ]),\n",
       " <BarContainer object of 10 artists>)"
      ]
     },
     "execution_count": 21,
     "metadata": {},
     "output_type": "execute_result"
    },
    {
     "data": {
      "image/png": "[encoded data removed]",
      "text/plain": [
       "<Figure size 640x480 with 1 Axes>"
      ]
     },
     "metadata": {},
     "output_type": "display_data"
    }
   ],
   "source": [
    "import matplotlib.pyplot as plt\n",
    "plt.hist([row[\"quality\"][\"value\"] for row in df[\"labels\"] if \"quality\" in row])"
   ]
  }
 ],
 "metadata": {
  "kernelspec": {
   "display_name": "dlkb",
   "language": "python",
   "name": "python3"
  },
  "language_info": {
   "codemirror_mode": {
    "name": "ipython",
    "version": 3
   },
   "file_extension": ".py",
   "mimetype": "text/x-python",
   "name": "python",
   "nbconvert_exporter": "python",
   "pygments_lexer": "ipython3",
   "version": "3.10.11"
  },
  "orig_nbformat": 4
 },
 "nbformat": 4,
 "nbformat_minor": 2
}
